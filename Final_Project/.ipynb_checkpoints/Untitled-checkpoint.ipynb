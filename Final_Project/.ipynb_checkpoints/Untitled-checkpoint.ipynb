{
 "cells": [
  {
   "cell_type": "code",
   "execution_count": 1,
   "id": "52145ad8",
   "metadata": {},
   "outputs": [
    {
     "data": {
      "text/html": [
       "        <script type=\"text/javascript\">\n",
       "        window.PlotlyConfig = {MathJaxConfig: 'local'};\n",
       "        if (window.MathJax) {MathJax.Hub.Config({SVG: {font: \"STIX-Web\"}});}\n",
       "        if (typeof require !== 'undefined') {\n",
       "        require.undef(\"plotly\");\n",
       "        requirejs.config({\n",
       "            paths: {\n",
       "                'plotly': ['https://cdn.plot.ly/plotly-2.4.2.min']\n",
       "            }\n",
       "        });\n",
       "        require(['plotly'], function(Plotly) {\n",
       "            window._Plotly = Plotly;\n",
       "        });\n",
       "        }\n",
       "        </script>\n",
       "        "
      ]
     },
     "metadata": {},
     "output_type": "display_data"
    },
    {
     "data": {
      "text/html": [
       "        <script type=\"text/javascript\">\n",
       "        window.PlotlyConfig = {MathJaxConfig: 'local'};\n",
       "        if (window.MathJax) {MathJax.Hub.Config({SVG: {font: \"STIX-Web\"}});}\n",
       "        if (typeof require !== 'undefined') {\n",
       "        require.undef(\"plotly\");\n",
       "        requirejs.config({\n",
       "            paths: {\n",
       "                'plotly': ['https://cdn.plot.ly/plotly-2.4.2.min']\n",
       "            }\n",
       "        });\n",
       "        require(['plotly'], function(Plotly) {\n",
       "            window._Plotly = Plotly;\n",
       "        });\n",
       "        }\n",
       "        </script>\n",
       "        "
      ]
     },
     "metadata": {},
     "output_type": "display_data"
    }
   ],
   "source": [
    "import os\n",
    "import numpy as np\n",
    "import pandas as pd\n",
    "\n",
    "# Plotly and cufflinks for data analysis\n",
    "from plotly.offline import init_notebook_mode, iplot\n",
    "import cufflinks as cf\n",
    "init_notebook_mode(connected=True) \n",
    "\n",
    "cf.set_config_file(theme='ggplot')\n",
    "cf.go_offline()\n",
    "\n",
    "# Matplotlib for drawing the court\n",
    "import matplotlib.pyplot as plt\n",
    "from matplotlib.patches import Ellipse\n",
    "\n",
    "%matplotlib inline"
   ]
  },
  {
   "cell_type": "code",
   "execution_count": 2,
   "id": "aee9b55b",
   "metadata": {},
   "outputs": [],
   "source": [
    "INPUT_DIR = './Tennis_data'\n",
    "def load_data():\n",
    "    return [pd.read_csv(os.path.join(INPUT_DIR, file_), index_col=0) for file_ in os.listdir(INPUT_DIR)]\n",
    "        \n",
    "rallies, points, events, serves = load_data()"
   ]
  },
  {
   "cell_type": "code",
   "execution_count": 3,
   "id": "9b03310e",
   "metadata": {},
   "outputs": [
    {
     "data": {
      "text/html": [
       "<div>\n",
       "<style scoped>\n",
       "    .dataframe tbody tr th:only-of-type {\n",
       "        vertical-align: middle;\n",
       "    }\n",
       "\n",
       "    .dataframe tbody tr th {\n",
       "        vertical-align: top;\n",
       "    }\n",
       "\n",
       "    .dataframe thead th {\n",
       "        text-align: right;\n",
       "    }\n",
       "</style>\n",
       "<table border=\"1\" class=\"dataframe\">\n",
       "  <thead>\n",
       "    <tr style=\"text-align: right;\">\n",
       "      <th></th>\n",
       "      <th>rallyid</th>\n",
       "      <th>frameid</th>\n",
       "      <th>strokeid</th>\n",
       "      <th>hitter</th>\n",
       "      <th>receiver</th>\n",
       "      <th>isserve</th>\n",
       "      <th>serve</th>\n",
       "      <th>type</th>\n",
       "      <th>stroke</th>\n",
       "      <th>hitter_x</th>\n",
       "      <th>hitter_y</th>\n",
       "      <th>receiver_x</th>\n",
       "      <th>receiver_y</th>\n",
       "      <th>time</th>\n",
       "    </tr>\n",
       "  </thead>\n",
       "  <tbody>\n",
       "    <tr>\n",
       "      <th>0</th>\n",
       "      <td>1</td>\n",
       "      <td>70877</td>\n",
       "      <td>1</td>\n",
       "      <td>Djokovic</td>\n",
       "      <td>Nadal</td>\n",
       "      <td>True</td>\n",
       "      <td>first</td>\n",
       "      <td>serve</td>\n",
       "      <td>forehand</td>\n",
       "      <td>6.50</td>\n",
       "      <td>-0.24</td>\n",
       "      <td>1.03</td>\n",
       "      <td>27.44</td>\n",
       "      <td>0.00</td>\n",
       "    </tr>\n",
       "    <tr>\n",
       "      <th>1</th>\n",
       "      <td>1</td>\n",
       "      <td>70900</td>\n",
       "      <td>2</td>\n",
       "      <td>Nadal</td>\n",
       "      <td>Djokovic</td>\n",
       "      <td>False</td>\n",
       "      <td>first</td>\n",
       "      <td>slice</td>\n",
       "      <td>backhand</td>\n",
       "      <td>0.05</td>\n",
       "      <td>25.59</td>\n",
       "      <td>6.17</td>\n",
       "      <td>1.11</td>\n",
       "      <td>0.92</td>\n",
       "    </tr>\n",
       "    <tr>\n",
       "      <th>2</th>\n",
       "      <td>1</td>\n",
       "      <td>70950</td>\n",
       "      <td>3</td>\n",
       "      <td>Djokovic</td>\n",
       "      <td>Nadal</td>\n",
       "      <td>False</td>\n",
       "      <td>first</td>\n",
       "      <td>topspin</td>\n",
       "      <td>forehand</td>\n",
       "      <td>1.42</td>\n",
       "      <td>2.33</td>\n",
       "      <td>4.75</td>\n",
       "      <td>26.45</td>\n",
       "      <td>2.92</td>\n",
       "    </tr>\n",
       "    <tr>\n",
       "      <th>3</th>\n",
       "      <td>2</td>\n",
       "      <td>71488</td>\n",
       "      <td>1</td>\n",
       "      <td>Djokovic</td>\n",
       "      <td>Nadal</td>\n",
       "      <td>True</td>\n",
       "      <td>first</td>\n",
       "      <td>serve</td>\n",
       "      <td>forehand</td>\n",
       "      <td>4.48</td>\n",
       "      <td>-0.01</td>\n",
       "      <td>7.90</td>\n",
       "      <td>26.83</td>\n",
       "      <td>24.44</td>\n",
       "    </tr>\n",
       "    <tr>\n",
       "      <th>4</th>\n",
       "      <td>3</td>\n",
       "      <td>71796</td>\n",
       "      <td>1</td>\n",
       "      <td>Djokovic</td>\n",
       "      <td>Nadal</td>\n",
       "      <td>True</td>\n",
       "      <td>second</td>\n",
       "      <td>serve</td>\n",
       "      <td>forehand</td>\n",
       "      <td>4.48</td>\n",
       "      <td>-0.37</td>\n",
       "      <td>7.88</td>\n",
       "      <td>26.47</td>\n",
       "      <td>36.76</td>\n",
       "    </tr>\n",
       "  </tbody>\n",
       "</table>\n",
       "</div>"
      ],
      "text/plain": [
       "   rallyid  frameid  strokeid    hitter  receiver  isserve   serve     type  \\\n",
       "0        1    70877         1  Djokovic     Nadal     True   first    serve   \n",
       "1        1    70900         2     Nadal  Djokovic    False   first    slice   \n",
       "2        1    70950         3  Djokovic     Nadal    False   first  topspin   \n",
       "3        2    71488         1  Djokovic     Nadal     True   first    serve   \n",
       "4        3    71796         1  Djokovic     Nadal     True  second    serve   \n",
       "\n",
       "     stroke  hitter_x  hitter_y  receiver_x  receiver_y   time  \n",
       "0  forehand      6.50     -0.24        1.03       27.44   0.00  \n",
       "1  backhand      0.05     25.59        6.17        1.11   0.92  \n",
       "2  forehand      1.42      2.33        4.75       26.45   2.92  \n",
       "3  forehand      4.48     -0.01        7.90       26.83  24.44  \n",
       "4  forehand      4.48     -0.37        7.88       26.47  36.76  "
      ]
     },
     "execution_count": 3,
     "metadata": {},
     "output_type": "execute_result"
    }
   ],
   "source": [
    "# events\n",
    "events.head()"
   ]
  },
  {
   "cell_type": "code",
   "execution_count": 4,
   "id": "d90c7e2e",
   "metadata": {},
   "outputs": [
    {
     "data": {
      "text/html": [
       "<div>\n",
       "<style scoped>\n",
       "    .dataframe tbody tr th:only-of-type {\n",
       "        vertical-align: middle;\n",
       "    }\n",
       "\n",
       "    .dataframe tbody tr th {\n",
       "        vertical-align: top;\n",
       "    }\n",
       "\n",
       "    .dataframe thead th {\n",
       "        text-align: right;\n",
       "    }\n",
       "</style>\n",
       "<table border=\"1\" class=\"dataframe\">\n",
       "  <thead>\n",
       "    <tr style=\"text-align: right;\">\n",
       "      <th></th>\n",
       "      <th>rallyid</th>\n",
       "      <th>server</th>\n",
       "      <th>returner</th>\n",
       "      <th>winner</th>\n",
       "      <th>reason</th>\n",
       "      <th>serve</th>\n",
       "      <th>strokes</th>\n",
       "      <th>totaltime</th>\n",
       "      <th>x</th>\n",
       "      <th>y</th>\n",
       "      <th>score</th>\n",
       "    </tr>\n",
       "  </thead>\n",
       "  <tbody>\n",
       "    <tr>\n",
       "      <th>0</th>\n",
       "      <td>1</td>\n",
       "      <td>Djokovic</td>\n",
       "      <td>Nadal</td>\n",
       "      <td>Djokovic</td>\n",
       "      <td>winner</td>\n",
       "      <td>first</td>\n",
       "      <td>3</td>\n",
       "      <td>0.92</td>\n",
       "      <td>1.92</td>\n",
       "      <td>21.96</td>\n",
       "      <td>0:0, 15:0</td>\n",
       "    </tr>\n",
       "    <tr>\n",
       "      <th>2</th>\n",
       "      <td>3</td>\n",
       "      <td>Djokovic</td>\n",
       "      <td>Nadal</td>\n",
       "      <td>Djokovic</td>\n",
       "      <td>out</td>\n",
       "      <td>second</td>\n",
       "      <td>4</td>\n",
       "      <td>4.16</td>\n",
       "      <td>3.33</td>\n",
       "      <td>-0.39</td>\n",
       "      <td>0:0, 30:0</td>\n",
       "    </tr>\n",
       "    <tr>\n",
       "      <th>4</th>\n",
       "      <td>5</td>\n",
       "      <td>Djokovic</td>\n",
       "      <td>Nadal</td>\n",
       "      <td>Djokovic</td>\n",
       "      <td>ace</td>\n",
       "      <td>second</td>\n",
       "      <td>2</td>\n",
       "      <td>0.40</td>\n",
       "      <td>1.62</td>\n",
       "      <td>17.18</td>\n",
       "      <td>0:0, 40:0</td>\n",
       "    </tr>\n",
       "    <tr>\n",
       "      <th>5</th>\n",
       "      <td>6</td>\n",
       "      <td>Djokovic</td>\n",
       "      <td>Nadal</td>\n",
       "      <td>Djokovic</td>\n",
       "      <td>net</td>\n",
       "      <td>first</td>\n",
       "      <td>10</td>\n",
       "      <td>10.40</td>\n",
       "      <td>6.41</td>\n",
       "      <td>12.78</td>\n",
       "      <td>1:0, 0:0</td>\n",
       "    </tr>\n",
       "    <tr>\n",
       "      <th>7</th>\n",
       "      <td>8</td>\n",
       "      <td>Nadal</td>\n",
       "      <td>Djokovic</td>\n",
       "      <td>Djokovic</td>\n",
       "      <td>out</td>\n",
       "      <td>second</td>\n",
       "      <td>7</td>\n",
       "      <td>7.20</td>\n",
       "      <td>0.50</td>\n",
       "      <td>18.67</td>\n",
       "      <td>1:0, 15:0</td>\n",
       "    </tr>\n",
       "  </tbody>\n",
       "</table>\n",
       "</div>"
      ],
      "text/plain": [
       "   rallyid    server  returner    winner  reason   serve  strokes  totaltime  \\\n",
       "0        1  Djokovic     Nadal  Djokovic  winner   first        3       0.92   \n",
       "2        3  Djokovic     Nadal  Djokovic     out  second        4       4.16   \n",
       "4        5  Djokovic     Nadal  Djokovic     ace  second        2       0.40   \n",
       "5        6  Djokovic     Nadal  Djokovic     net   first       10      10.40   \n",
       "7        8     Nadal  Djokovic  Djokovic     out  second        7       7.20   \n",
       "\n",
       "      x      y      score  \n",
       "0  1.92  21.96  0:0, 15:0  \n",
       "2  3.33  -0.39  0:0, 30:0  \n",
       "4  1.62  17.18  0:0, 40:0  \n",
       "5  6.41  12.78   1:0, 0:0  \n",
       "7  0.50  18.67  1:0, 15:0  "
      ]
     },
     "execution_count": 4,
     "metadata": {},
     "output_type": "execute_result"
    }
   ],
   "source": [
    "points.head()"
   ]
  },
  {
   "cell_type": "code",
   "execution_count": 5,
   "id": "59073796",
   "metadata": {},
   "outputs": [
    {
     "data": {
      "text/html": [
       "<div>\n",
       "<style scoped>\n",
       "    .dataframe tbody tr th:only-of-type {\n",
       "        vertical-align: middle;\n",
       "    }\n",
       "\n",
       "    .dataframe tbody tr th {\n",
       "        vertical-align: top;\n",
       "    }\n",
       "\n",
       "    .dataframe thead th {\n",
       "        text-align: right;\n",
       "    }\n",
       "</style>\n",
       "<table border=\"1\" class=\"dataframe\">\n",
       "  <thead>\n",
       "    <tr style=\"text-align: right;\">\n",
       "      <th></th>\n",
       "      <th>rallyid</th>\n",
       "      <th>server</th>\n",
       "      <th>returner</th>\n",
       "      <th>winner</th>\n",
       "      <th>reason</th>\n",
       "      <th>serve</th>\n",
       "      <th>strokes</th>\n",
       "      <th>totaltime</th>\n",
       "      <th>x</th>\n",
       "      <th>y</th>\n",
       "    </tr>\n",
       "  </thead>\n",
       "  <tbody>\n",
       "    <tr>\n",
       "      <th>0</th>\n",
       "      <td>1</td>\n",
       "      <td>Djokovic</td>\n",
       "      <td>Nadal</td>\n",
       "      <td>Djokovic</td>\n",
       "      <td>winner</td>\n",
       "      <td>first</td>\n",
       "      <td>3</td>\n",
       "      <td>0.92</td>\n",
       "      <td>1.92</td>\n",
       "      <td>21.96</td>\n",
       "    </tr>\n",
       "    <tr>\n",
       "      <th>1</th>\n",
       "      <td>2</td>\n",
       "      <td>Djokovic</td>\n",
       "      <td>Nadal</td>\n",
       "      <td>__undefined__</td>\n",
       "      <td>second_serve</td>\n",
       "      <td>first</td>\n",
       "      <td>1</td>\n",
       "      <td>0.00</td>\n",
       "      <td>7.42</td>\n",
       "      <td>12.10</td>\n",
       "    </tr>\n",
       "    <tr>\n",
       "      <th>2</th>\n",
       "      <td>3</td>\n",
       "      <td>Djokovic</td>\n",
       "      <td>Nadal</td>\n",
       "      <td>Djokovic</td>\n",
       "      <td>out</td>\n",
       "      <td>second</td>\n",
       "      <td>4</td>\n",
       "      <td>4.16</td>\n",
       "      <td>3.33</td>\n",
       "      <td>-0.39</td>\n",
       "    </tr>\n",
       "    <tr>\n",
       "      <th>3</th>\n",
       "      <td>4</td>\n",
       "      <td>Djokovic</td>\n",
       "      <td>Nadal</td>\n",
       "      <td>__undefined__</td>\n",
       "      <td>second_serve</td>\n",
       "      <td>first</td>\n",
       "      <td>1</td>\n",
       "      <td>0.00</td>\n",
       "      <td>4.64</td>\n",
       "      <td>17.69</td>\n",
       "    </tr>\n",
       "    <tr>\n",
       "      <th>4</th>\n",
       "      <td>5</td>\n",
       "      <td>Djokovic</td>\n",
       "      <td>Nadal</td>\n",
       "      <td>Djokovic</td>\n",
       "      <td>ace</td>\n",
       "      <td>second</td>\n",
       "      <td>2</td>\n",
       "      <td>0.40</td>\n",
       "      <td>1.62</td>\n",
       "      <td>17.18</td>\n",
       "    </tr>\n",
       "  </tbody>\n",
       "</table>\n",
       "</div>"
      ],
      "text/plain": [
       "   rallyid    server returner         winner        reason   serve  strokes  \\\n",
       "0        1  Djokovic    Nadal       Djokovic        winner   first        3   \n",
       "1        2  Djokovic    Nadal  __undefined__  second_serve   first        1   \n",
       "2        3  Djokovic    Nadal       Djokovic           out  second        4   \n",
       "3        4  Djokovic    Nadal  __undefined__  second_serve   first        1   \n",
       "4        5  Djokovic    Nadal       Djokovic           ace  second        2   \n",
       "\n",
       "   totaltime     x      y  \n",
       "0       0.92  1.92  21.96  \n",
       "1       0.00  7.42  12.10  \n",
       "2       4.16  3.33  -0.39  \n",
       "3       0.00  4.64  17.69  \n",
       "4       0.40  1.62  17.18  "
      ]
     },
     "execution_count": 5,
     "metadata": {},
     "output_type": "execute_result"
    }
   ],
   "source": [
    "rallies.head()"
   ]
  },
  {
   "cell_type": "code",
   "execution_count": 6,
   "id": "dcee0af4",
   "metadata": {},
   "outputs": [
    {
     "data": {
      "text/html": [
       "<div>\n",
       "<style scoped>\n",
       "    .dataframe tbody tr th:only-of-type {\n",
       "        vertical-align: middle;\n",
       "    }\n",
       "\n",
       "    .dataframe tbody tr th {\n",
       "        vertical-align: top;\n",
       "    }\n",
       "\n",
       "    .dataframe thead th {\n",
       "        text-align: right;\n",
       "    }\n",
       "</style>\n",
       "<table border=\"1\" class=\"dataframe\">\n",
       "  <thead>\n",
       "    <tr style=\"text-align: right;\">\n",
       "      <th></th>\n",
       "      <th>rallyid</th>\n",
       "      <th>server</th>\n",
       "      <th>x</th>\n",
       "      <th>y</th>\n",
       "    </tr>\n",
       "  </thead>\n",
       "  <tbody>\n",
       "    <tr>\n",
       "      <th>0</th>\n",
       "      <td>1</td>\n",
       "      <td>Djokovic</td>\n",
       "      <td>1.86</td>\n",
       "      <td>16.80</td>\n",
       "    </tr>\n",
       "    <tr>\n",
       "      <th>1</th>\n",
       "      <td>3</td>\n",
       "      <td>Djokovic</td>\n",
       "      <td>7.05</td>\n",
       "      <td>16.97</td>\n",
       "    </tr>\n",
       "    <tr>\n",
       "      <th>2</th>\n",
       "      <td>6</td>\n",
       "      <td>Djokovic</td>\n",
       "      <td>8.04</td>\n",
       "      <td>17.80</td>\n",
       "    </tr>\n",
       "    <tr>\n",
       "      <th>3</th>\n",
       "      <td>8</td>\n",
       "      <td>Nadal</td>\n",
       "      <td>4.44</td>\n",
       "      <td>16.24</td>\n",
       "    </tr>\n",
       "    <tr>\n",
       "      <th>4</th>\n",
       "      <td>9</td>\n",
       "      <td>Nadal</td>\n",
       "      <td>5.71</td>\n",
       "      <td>16.40</td>\n",
       "    </tr>\n",
       "  </tbody>\n",
       "</table>\n",
       "</div>"
      ],
      "text/plain": [
       "   rallyid    server     x      y\n",
       "0        1  Djokovic  1.86  16.80\n",
       "1        3  Djokovic  7.05  16.97\n",
       "2        6  Djokovic  8.04  17.80\n",
       "3        8     Nadal  4.44  16.24\n",
       "4        9     Nadal  5.71  16.40"
      ]
     },
     "execution_count": 6,
     "metadata": {},
     "output_type": "execute_result"
    }
   ],
   "source": [
    "serves.head()"
   ]
  },
  {
   "cell_type": "code",
   "execution_count": 7,
   "id": "597d6207",
   "metadata": {},
   "outputs": [
    {
     "data": {
      "image/png": "[encoded data removed]",
      "text/plain": [
       "<Figure size 394.92x856.08 with 1 Axes>"
      ]
     },
     "metadata": {},
     "output_type": "display_data"
    }
   ],
   "source": [
    "#### Tennis data\n",
    "\n",
    "height_court = 10.97\n",
    "width_court = 11.89*2\n",
    "service_box = 6.4\n",
    "double_field = 1.37\n",
    "baseline_serviceline = 5.5\n",
    "breite_einzel = 8.23\n",
    "serviceline_net = 6.4\n",
    "\n",
    "\n",
    "def draw_court(hide_axes=False):\n",
    "    \"\"\"Sets up field\n",
    "    Returns matplotlib fig and axes objects.\n",
    "    \"\"\"\n",
    "        \n",
    "    fig = plt.figure(figsize=(height_court/2, width_court/2))\n",
    "    #fig = plt.figure(figsize=(9, 9))\n",
    "    fig.patch.set_facecolor('#5080B0')\n",
    "\n",
    "    axes = fig.add_subplot(1, 1, 1, facecolor='#5080B0')\n",
    "\n",
    "    if hide_axes:\n",
    "        axes.xaxis.set_visible(False)\n",
    "        axes.yaxis.set_visible(False)\n",
    "        axes.axis('off')\n",
    "\n",
    "    axes = draw_patches(axes)\n",
    "    \n",
    "    return fig, axes\n",
    "\n",
    "def draw_patches(axes):\n",
    "    plt.xlim([-2,height_court+2])\n",
    "    plt.ylim([-6.5,width_court+6.5])\n",
    "    \n",
    "    #net\n",
    "    axes.add_line(plt.Line2D([height_court, 0],[width_court/2, width_court/2],\n",
    "                    c='w'))\n",
    "    \n",
    "    # court outline\n",
    "    y = 0\n",
    "    dy = width_court\n",
    "    x = 0#height_court-double_field\n",
    "    dx = height_court\n",
    "    axes.add_patch(plt.Rectangle((x, y), dx, dy,\n",
    "                       edgecolor=\"white\", facecolor=\"#5581A6\", alpha=1))\n",
    "    # serving rect\n",
    "    y = baseline_serviceline\n",
    "    dy = serviceline_net*2\n",
    "    x = 0 + double_field \n",
    "    dx = breite_einzel\n",
    "    axes.add_patch(plt.Rectangle((x, y), dx, dy,\n",
    "                       edgecolor=\"white\", facecolor=\"none\", alpha=1))\n",
    "    \n",
    "    #?\n",
    "    #net\n",
    "    axes.add_line(plt.Line2D([height_court/2, height_court/2], [width_court/2 - service_box, width_court/2 + service_box],\n",
    "                    c='w'))\n",
    "    \n",
    "    axes.add_line(plt.Line2D([height_court/2, height_court/2], [0, 0 + 0.45], \n",
    "                    c='w'))\n",
    "\n",
    "    axes.add_line(plt.Line2D([height_court/2, height_court/2], [width_court, width_court - 0.45], \n",
    "                c='w'))\n",
    "    \n",
    "    axes.add_line(plt.Line2D([1.37, 1.37], [0, width_court], \n",
    "            c='w'))\n",
    "    \n",
    "    axes.add_line(plt.Line2D( [height_court - 1.37, height_court - 1.37], [0, width_court],\n",
    "        c='w'))\n",
    "\n",
    "    return axes\n",
    "\n",
    "figure, ax = draw_court();"
   ]
  },
  {
   "cell_type": "code",
   "execution_count": 8,
   "id": "73400300",
   "metadata": {},
   "outputs": [],
   "source": [
    "def draw_points(axes, x, y, name):\n",
    "    colors = {'Djokovic': 'crimson',\n",
    "             'Nadal' : 'cyan'}\n",
    "    color = colors[name]\n",
    "    axes.add_artist(Ellipse((x,y),0.15,0.15, color=color))\n",
    "    return axes"
   ]
  },
  {
   "cell_type": "code",
   "execution_count": 9,
   "id": "edfa09c5",
   "metadata": {},
   "outputs": [],
   "source": [
    "def plot_datapoints(ax, names, xs, ys, data):\n",
    "    for i in range(len(events)):\n",
    "        if pd.isna(data.loc[i, names]):\n",
    "            continue\n",
    "        elif data.loc[i, names] == '__undefined__':\n",
    "            continue\n",
    "        x = data.loc[i, xs]\n",
    "        y = data.loc[i, ys]\n",
    "        name = data.loc[i, names]\n",
    "        ax = draw_points(ax, x, y, name)"
   ]
  },
  {
   "cell_type": "code",
   "execution_count": 10,
   "id": "381bcd0e",
   "metadata": {},
   "outputs": [
    {
     "data": {
      "image/png": "[encoded data removed]",
      "text/plain": [
       "<Figure size 394.92x856.08 with 1 Axes>"
      ]
     },
     "metadata": {},
     "output_type": "display_data"
    }
   ],
   "source": [
    "fig, ax = draw_court(hide_axes=True);\n",
    "plot_datapoints(ax, 'receiver', 'receiver_x', 'receiver_y', events)"
   ]
  },
  {
   "cell_type": "code",
   "execution_count": 11,
   "id": "ae13e77e",
   "metadata": {},
   "outputs": [],
   "source": [
    "from matplotlib import animation"
   ]
  },
  {
   "cell_type": "code",
   "execution_count": 12,
   "id": "882e632f",
   "metadata": {},
   "outputs": [],
   "source": [
    "temp = events.loc[events['rallyid'] == 1] "
   ]
  },
  {
   "cell_type": "code",
   "execution_count": 13,
   "id": "032ad2e7",
   "metadata": {},
   "outputs": [],
   "source": [
    "def draw_players(x1, y1, x2, y2):\n",
    "    colors = {'djokovic': 'gray',\n",
    "              'nadal': '#00529F'}\n",
    "    \n",
    "    size = 2\n",
    "    color='white'\n",
    "    edge=colors['djokovic']                        \n",
    "    \n",
    "    artist1 = Ellipse((x1,\n",
    "                             y1),\n",
    "                              size,size,\n",
    "                              edgecolor=edge,\n",
    "                              linewidth=2,\n",
    "                              facecolor=color,\n",
    "                              alpha=1,\n",
    "                              zorder=20)\n",
    "#     axes.text(x1-0.4,y1-0.2,'Dj',fontsize=14, color='black', zorder=30)\n",
    "             \n",
    "    \n",
    "    edge=colors['nadal']\n",
    "    artists2 = Ellipse((x2,\n",
    "                             y2),\n",
    "                              size,size, \n",
    "                              edgecolor=edge,\n",
    "                              linewidth=2,\n",
    "                              facecolor=color,\n",
    "                              alpha=1,\n",
    "                              zorder=20)\n",
    "#     axes.text(x2-0.4,y2-0.15,'Na',fontsize=14, color='black', zorder=30)\n",
    "    \n",
    "    return artist1, artist2"
   ]
  },
  {
   "cell_type": "code",
   "execution_count": 14,
   "id": "b997ba81",
   "metadata": {},
   "outputs": [],
   "source": [
    "# fig, ax = draw_court(hide_axes=True);\n",
    "player1 = []\n",
    "player2 = []\n",
    "ball = []\n",
    "for i in range(len(temp)):\n",
    "    x1 = 0\n",
    "    y1 = 0\n",
    "    x2 = 0\n",
    "    y2 = 0\n",
    "    x3 = 0\n",
    "    y3 = 0\n",
    "    if i % 2 == 0:\n",
    "        x1 = temp.loc[i, 'hitter_x']\n",
    "        y1 = temp.loc[i, 'hitter_y']\n",
    "        x2 = temp.loc[i, 'receiver_x']\n",
    "        y2 = temp.loc[i, 'receiver_y']\n",
    "        ball.append(np.asarray([x1, y1]))\n",
    "    else:\n",
    "        x2 = temp.loc[i, 'hitter_x']\n",
    "        y2 = temp.loc[i, 'hitter_y']\n",
    "        x1 = temp.loc[i, 'receiver_x']\n",
    "        y1 = temp.loc[i, 'receiver_y']\n",
    "        ball.append(np.asarray([x2, y2]))\n",
    "    player1.append(np.asarray([x1, y1]))\n",
    "    player2.append(np.asarray([x2, y2]))"
   ]
  },
  {
   "cell_type": "code",
   "execution_count": 15,
   "id": "9c63efa9",
   "metadata": {},
   "outputs": [
    {
     "data": {
      "image/png": "[encoded data removed]",
      "text/plain": [
       "<Figure size 394.92x856.08 with 1 Axes>"
      ]
     },
     "metadata": {},
     "output_type": "display_data"
    }
   ],
   "source": [
    "fig, ax = draw_court(hide_axes=True);"
   ]
  },
  {
   "cell_type": "code",
   "execution_count": 16,
   "id": "bf358d9c",
   "metadata": {},
   "outputs": [
    {
     "name": "stdout",
     "output_type": "stream",
     "text": [
      "AxesSubplot(0.125,0.125;0.775x0.755)\n"
     ]
    }
   ],
   "source": [
    "print(ax)"
   ]
  },
  {
   "cell_type": "code",
   "execution_count": 17,
   "id": "554f4204",
   "metadata": {},
   "outputs": [],
   "source": [
    "fig.canvas.draw()"
   ]
  },
  {
   "cell_type": "code",
   "execution_count": 18,
   "id": "c6e2e3c7",
   "metadata": {},
   "outputs": [],
   "source": [
    "import plotly.express as px"
   ]
  },
  {
   "cell_type": "code",
   "execution_count": 36,
   "id": "45d8f72b",
   "metadata": {},
   "outputs": [
    {
     "data": {
      "application/vnd.plotly.v1+json": {
       "config": {
        "plotlyServerURL": "https://plot.ly"
       },
       "data": [
        {
         "type": "scatter",
         "x": [
          0
         ],
         "y": [
          0
         ]
        },
        {
         "type": "scatter",
         "x": [
          0
         ],
         "y": [
          0
         ]
        },
        {
         "type": "scatter",
         "x": [
          0
         ],
         "y": [
          0
         ]
        },
        {
         "line": {
          "color": "white",
          "width": 2
         },
         "mode": "lines",
         "type": "scatter",
         "x": [
          10.97,
          0
         ],
         "y": [
          11.89,
          11.89
         ]
        },
        {
         "line": {
          "color": "white",
          "width": 2
         },
         "mode": "lines",
         "type": "scatter",
         "x": [
          0,
          0,
          10.97,
          10.97,
          0
         ],
         "y": [
          0,
          23.78,
          23.78,
          0,
          0
         ]
        },
        {
         "line": {
          "color": "white",
          "width": 2
         },
         "mode": "lines",
         "type": "scatter",
         "x": [
          5.485,
          5.49
         ],
         "y": [
          5.485,
          18.29
         ]
        },
        {
         "line": {
          "color": "white",
          "width": 2
         },
         "mode": "lines",
         "type": "scatter",
         "x": [
          5.485,
          5.485
         ],
         "y": [
          0,
          0.45
         ]
        },
        {
         "line": {
          "color": "white",
          "width": 2
         },
         "mode": "lines",
         "type": "scatter",
         "x": [
          5.485,
          5.485
         ],
         "y": [
          23.78,
          23.330000000000002
         ]
        },
        {
         "line": {
          "color": "white",
          "width": 2
         },
         "mode": "lines",
         "type": "scatter",
         "x": [
          1.37,
          1.37
         ],
         "y": [
          0,
          23.78
         ]
        },
        {
         "line": {
          "color": "white",
          "width": 2
         },
         "mode": "lines",
         "type": "scatter",
         "x": [
          9.600000000000001,
          9.600000000000001
         ],
         "y": [
          0,
          23.78
         ]
        },
        {
         "line": {
          "color": "white",
          "width": 2
         },
         "mode": "lines",
         "type": "scatter",
         "x": [
          1.37,
          1.37,
          9.600000000000001,
          9.600000000000001,
          1.37
         ],
         "y": [
          5.5,
          18.29,
          18.29,
          5.5,
          5.5
         ]
        }
       ],
       "frames": [
        {
         "data": [
          {
           "marker": {
            "color": "red",
            "size": 10
           },
           "mode": "markers",
           "type": "scatter",
           "x": [
            6.5
           ],
           "y": [
            -0.24
           ]
          },
          {
           "marker": {
            "color": "cyan",
            "size": 10
           },
           "mode": "markers",
           "type": "scatter",
           "x": [
            1.03
           ],
           "y": [
            27.44
           ]
          },
          {
           "marker": {
            "color": "yellow",
            "size": 10
           },
           "mode": "markers",
           "type": "scatter",
           "x": [
            6.5
           ],
           "y": [
            -0.24
           ]
          }
         ]
        },
        {
         "data": [
          {
           "marker": {
            "color": "red",
            "size": 10
           },
           "mode": "markers",
           "type": "scatter",
           "x": [
            6.5
           ],
           "y": [
            -0.24
           ]
          },
          {
           "marker": {
            "color": "cyan",
            "size": 10
           },
           "mode": "markers",
           "type": "scatter",
           "x": [
            1.03
           ],
           "y": [
            27.44
           ]
          },
          {
           "marker": {
            "color": "yellow",
            "size": 10
           },
           "mode": "markers",
           "type": "scatter",
           "x": [
            6.5
           ],
           "y": [
            -0.24
           ]
          }
         ]
        },
        {
         "data": [
          {
           "marker": {
            "color": "red",
            "size": 10
           },
           "mode": "markers",
           "type": "scatter",
           "x": [
            6.4670000000000005
           ],
           "y": [
            -0.10499999999999998
           ]
          },
          {
           "marker": {
            "color": "cyan",
            "size": 10
           },
           "mode": "markers",
           "type": "scatter",
           "x": [
            0.932
           ],
           "y": [
            27.255000000000003
           ]
          },
          {
           "marker": {
            "color": "yellow",
            "size": 10
           },
           "mode": "markers",
           "type": "scatter",
           "x": [
            5.855
           ],
           "y": [
            2.343
           ]
          }
         ]
        },
        {
         "data": [
          {
           "marker": {
            "color": "red",
            "size": 10
           },
           "mode": "markers",
           "type": "scatter",
           "x": [
            6.434
           ],
           "y": [
            0.030000000000000027
           ]
          },
          {
           "marker": {
            "color": "cyan",
            "size": 10
           },
           "mode": "markers",
           "type": "scatter",
           "x": [
            0.8340000000000001
           ],
           "y": [
            27.07
           ]
          },
          {
           "marker": {
            "color": "yellow",
            "size": 10
           },
           "mode": "markers",
           "type": "scatter",
           "x": [
            5.21
           ],
           "y": [
            4.926
           ]
          }
         ]
        },
        {
         "data": [
          {
           "marker": {
            "color": "red",
            "size": 10
           },
           "mode": "markers",
           "type": "scatter",
           "x": [
            6.401
           ],
           "y": [
            0.1650000000000001
           ]
          },
          {
           "marker": {
            "color": "cyan",
            "size": 10
           },
           "mode": "markers",
           "type": "scatter",
           "x": [
            0.736
           ],
           "y": [
            26.884999999999998
           ]
          },
          {
           "marker": {
            "color": "yellow",
            "size": 10
           },
           "mode": "markers",
           "type": "scatter",
           "x": [
            4.5649999999999995
           ],
           "y": [
            7.509000000000001
           ]
          }
         ]
        },
        {
         "data": [
          {
           "marker": {
            "color": "red",
            "size": 10
           },
           "mode": "markers",
           "type": "scatter",
           "x": [
            6.368
           ],
           "y": [
            0.30000000000000004
           ]
          },
          {
           "marker": {
            "color": "cyan",
            "size": 10
           },
           "mode": "markers",
           "type": "scatter",
           "x": [
            0.638
           ],
           "y": [
            26.7
           ]
          },
          {
           "marker": {
            "color": "yellow",
            "size": 10
           },
           "mode": "markers",
           "type": "scatter",
           "x": [
            3.92
           ],
           "y": [
            10.092
           ]
          }
         ]
        },
        {
         "data": [
          {
           "marker": {
            "color": "red",
            "size": 10
           },
           "mode": "markers",
           "type": "scatter",
           "x": [
            6.335
           ],
           "y": [
            0.43500000000000005
           ]
          },
          {
           "marker": {
            "color": "cyan",
            "size": 10
           },
           "mode": "markers",
           "type": "scatter",
           "x": [
            0.54
           ],
           "y": [
            26.515
           ]
          },
          {
           "marker": {
            "color": "yellow",
            "size": 10
           },
           "mode": "markers",
           "type": "scatter",
           "x": [
            3.275
           ],
           "y": [
            12.675
           ]
          }
         ]
        },
        {
         "data": [
          {
           "marker": {
            "color": "red",
            "size": 10
           },
           "mode": "markers",
           "type": "scatter",
           "x": [
            6.302
           ],
           "y": [
            0.5700000000000002
           ]
          },
          {
           "marker": {
            "color": "cyan",
            "size": 10
           },
           "mode": "markers",
           "type": "scatter",
           "x": [
            0.44199999999999995
           ],
           "y": [
            26.33
           ]
          },
          {
           "marker": {
            "color": "yellow",
            "size": 10
           },
           "mode": "markers",
           "type": "scatter",
           "x": [
            2.6299999999999994
           ],
           "y": [
            15.258000000000003
           ]
          }
         ]
        },
        {
         "data": [
          {
           "marker": {
            "color": "red",
            "size": 10
           },
           "mode": "markers",
           "type": "scatter",
           "x": [
            6.268999999999999
           ],
           "y": [
            0.7050000000000002
           ]
          },
          {
           "marker": {
            "color": "cyan",
            "size": 10
           },
           "mode": "markers",
           "type": "scatter",
           "x": [
            0.344
           ],
           "y": [
            26.145
           ]
          },
          {
           "marker": {
            "color": "yellow",
            "size": 10
           },
           "mode": "markers",
           "type": "scatter",
           "x": [
            1.9849999999999994
           ],
           "y": [
            17.841
           ]
          }
         ]
        },
        {
         "data": [
          {
           "marker": {
            "color": "red",
            "size": 10
           },
           "mode": "markers",
           "type": "scatter",
           "x": [
            6.236
           ],
           "y": [
            0.8400000000000001
           ]
          },
          {
           "marker": {
            "color": "cyan",
            "size": 10
           },
           "mode": "markers",
           "type": "scatter",
           "x": [
            0.24599999999999997
           ],
           "y": [
            25.96
           ]
          },
          {
           "marker": {
            "color": "yellow",
            "size": 10
           },
           "mode": "markers",
           "type": "scatter",
           "x": [
            1.3399999999999999
           ],
           "y": [
            20.424000000000003
           ]
          }
         ]
        },
        {
         "data": [
          {
           "marker": {
            "color": "red",
            "size": 10
           },
           "mode": "markers",
           "type": "scatter",
           "x": [
            6.202999999999999
           ],
           "y": [
            0.9750000000000001
           ]
          },
          {
           "marker": {
            "color": "cyan",
            "size": 10
           },
           "mode": "markers",
           "type": "scatter",
           "x": [
            0.148
           ],
           "y": [
            25.775
           ]
          },
          {
           "marker": {
            "color": "yellow",
            "size": 10
           },
           "mode": "markers",
           "type": "scatter",
           "x": [
            0.695
           ],
           "y": [
            23.006999999999998
           ]
          }
         ]
        },
        {
         "data": [
          {
           "marker": {
            "color": "red",
            "size": 10
           },
           "mode": "markers",
           "type": "scatter",
           "x": [
            6.17
           ],
           "y": [
            1.11
           ]
          },
          {
           "marker": {
            "color": "cyan",
            "size": 10
           },
           "mode": "markers",
           "type": "scatter",
           "x": [
            0.05
           ],
           "y": [
            25.59
           ]
          },
          {
           "marker": {
            "color": "yellow",
            "size": 10
           },
           "mode": "markers",
           "type": "scatter",
           "x": [
            0.05
           ],
           "y": [
            25.59
           ]
          }
         ]
        },
        {
         "data": [
          {
           "marker": {
            "color": "red",
            "size": 10
           },
           "mode": "markers",
           "type": "scatter",
           "x": [
            6.17
           ],
           "y": [
            1.11
           ]
          },
          {
           "marker": {
            "color": "cyan",
            "size": 10
           },
           "mode": "markers",
           "type": "scatter",
           "x": [
            0.05
           ],
           "y": [
            25.59
           ]
          },
          {
           "marker": {
            "color": "yellow",
            "size": 10
           },
           "mode": "markers",
           "type": "scatter",
           "x": [
            0.05
           ],
           "y": [
            25.59
           ]
          }
         ]
        },
        {
         "data": [
          {
           "marker": {
            "color": "red",
            "size": 10
           },
           "mode": "markers",
           "type": "scatter",
           "x": [
            5.695
           ],
           "y": [
            1.2320000000000002
           ]
          },
          {
           "marker": {
            "color": "cyan",
            "size": 10
           },
           "mode": "markers",
           "type": "scatter",
           "x": [
            0.52
           ],
           "y": [
            25.676
           ]
          },
          {
           "marker": {
            "color": "yellow",
            "size": 10
           },
           "mode": "markers",
           "type": "scatter",
           "x": [
            0.23700000000000002
           ],
           "y": [
            25.227
           ]
          }
         ]
        },
        {
         "data": [
          {
           "marker": {
            "color": "red",
            "size": 10
           },
           "mode": "markers",
           "type": "scatter",
           "x": [
            5.22
           ],
           "y": [
            1.354
           ]
          },
          {
           "marker": {
            "color": "cyan",
            "size": 10
           },
           "mode": "markers",
           "type": "scatter",
           "x": [
            0.9900000000000001
           ],
           "y": [
            25.762
           ]
          },
          {
           "marker": {
            "color": "yellow",
            "size": 10
           },
           "mode": "markers",
           "type": "scatter",
           "x": [
            0.42400000000000004
           ],
           "y": [
            24.864
           ]
          }
         ]
        },
        {
         "data": [
          {
           "marker": {
            "color": "red",
            "size": 10
           },
           "mode": "markers",
           "type": "scatter",
           "x": [
            4.745
           ],
           "y": [
            1.4760000000000002
           ]
          },
          {
           "marker": {
            "color": "cyan",
            "size": 10
           },
           "mode": "markers",
           "type": "scatter",
           "x": [
            1.4600000000000002
           ],
           "y": [
            25.848000000000003
           ]
          },
          {
           "marker": {
            "color": "yellow",
            "size": 10
           },
           "mode": "markers",
           "type": "scatter",
           "x": [
            0.6110000000000001
           ],
           "y": [
            24.501
           ]
          }
         ]
        },
        {
         "data": [
          {
           "marker": {
            "color": "red",
            "size": 10
           },
           "mode": "markers",
           "type": "scatter",
           "x": [
            4.27
           ],
           "y": [
            1.598
           ]
          },
          {
           "marker": {
            "color": "cyan",
            "size": 10
           },
           "mode": "markers",
           "type": "scatter",
           "x": [
            1.9300000000000002
           ],
           "y": [
            25.933999999999997
           ]
          },
          {
           "marker": {
            "color": "yellow",
            "size": 10
           },
           "mode": "markers",
           "type": "scatter",
           "x": [
            0.798
           ],
           "y": [
            24.137999999999998
           ]
          }
         ]
        },
        {
         "data": [
          {
           "marker": {
            "color": "red",
            "size": 10
           },
           "mode": "markers",
           "type": "scatter",
           "x": [
            3.795
           ],
           "y": [
            1.7200000000000002
           ]
          },
          {
           "marker": {
            "color": "cyan",
            "size": 10
           },
           "mode": "markers",
           "type": "scatter",
           "x": [
            2.4
           ],
           "y": [
            26.02
           ]
          },
          {
           "marker": {
            "color": "yellow",
            "size": 10
           },
           "mode": "markers",
           "type": "scatter",
           "x": [
            0.985
           ],
           "y": [
            23.775
           ]
          }
         ]
        },
        {
         "data": [
          {
           "marker": {
            "color": "red",
            "size": 10
           },
           "mode": "markers",
           "type": "scatter",
           "x": [
            3.3199999999999994
           ],
           "y": [
            1.8420000000000003
           ]
          },
          {
           "marker": {
            "color": "cyan",
            "size": 10
           },
           "mode": "markers",
           "type": "scatter",
           "x": [
            2.8700000000000006
           ],
           "y": [
            26.106
           ]
          },
          {
           "marker": {
            "color": "yellow",
            "size": 10
           },
           "mode": "markers",
           "type": "scatter",
           "x": [
            1.1720000000000002
           ],
           "y": [
            23.412
           ]
          }
         ]
        },
        {
         "data": [
          {
           "marker": {
            "color": "red",
            "size": 10
           },
           "mode": "markers",
           "type": "scatter",
           "x": [
            2.8449999999999998
           ],
           "y": [
            1.9640000000000002
           ]
          },
          {
           "marker": {
            "color": "cyan",
            "size": 10
           },
           "mode": "markers",
           "type": "scatter",
           "x": [
            3.3400000000000003
           ],
           "y": [
            26.192
           ]
          },
          {
           "marker": {
            "color": "yellow",
            "size": 10
           },
           "mode": "markers",
           "type": "scatter",
           "x": [
            1.359
           ],
           "y": [
            23.049
           ]
          }
         ]
        },
        {
         "data": [
          {
           "marker": {
            "color": "red",
            "size": 10
           },
           "mode": "markers",
           "type": "scatter",
           "x": [
            2.3699999999999997
           ],
           "y": [
            2.0860000000000003
           ]
          },
          {
           "marker": {
            "color": "cyan",
            "size": 10
           },
           "mode": "markers",
           "type": "scatter",
           "x": [
            3.81
           ],
           "y": [
            26.278
           ]
          },
          {
           "marker": {
            "color": "yellow",
            "size": 10
           },
           "mode": "markers",
           "type": "scatter",
           "x": [
            1.546
           ],
           "y": [
            22.686
           ]
          }
         ]
        },
        {
         "data": [
          {
           "marker": {
            "color": "red",
            "size": 10
           },
           "mode": "markers",
           "type": "scatter",
           "x": [
            1.895
           ],
           "y": [
            2.208
           ]
          },
          {
           "marker": {
            "color": "cyan",
            "size": 10
           },
           "mode": "markers",
           "type": "scatter",
           "x": [
            4.28
           ],
           "y": [
            26.363999999999997
           ]
          },
          {
           "marker": {
            "color": "yellow",
            "size": 10
           },
           "mode": "markers",
           "type": "scatter",
           "x": [
            1.7329999999999999
           ],
           "y": [
            22.323
           ]
          }
         ]
        },
        {
         "data": [
          {
           "marker": {
            "color": "red",
            "size": 10
           },
           "mode": "markers",
           "type": "scatter",
           "x": [
            1.42
           ],
           "y": [
            2.33
           ]
          },
          {
           "marker": {
            "color": "cyan",
            "size": 10
           },
           "mode": "markers",
           "type": "scatter",
           "x": [
            4.75
           ],
           "y": [
            26.45
           ]
          },
          {
           "marker": {
            "color": "yellow",
            "size": 10
           },
           "mode": "markers",
           "type": "scatter",
           "x": [
            1.92
           ],
           "y": [
            21.96
           ]
          }
         ]
        }
       ],
       "layout": {
        "plot_bgcolor": "#5080B0",
        "template": {
         "data": {
          "bar": [
           {
            "error_x": {
             "color": "#2a3f5f"
            },
            "error_y": {
             "color": "#2a3f5f"
            },
            "marker": {
             "line": {
              "color": "#E5ECF6",
              "width": 0.5
             },
             "pattern": {
              "fillmode": "overlay",
              "size": 10,
              "solidity": 0.2
             }
            },
            "type": "bar"
           }
          ],
          "barpolar": [
           {
            "marker": {
             "line": {
              "color": "#E5ECF6",
              "width": 0.5
             },
             "pattern": {
              "fillmode": "overlay",
              "size": 10,
              "solidity": 0.2
             }
            },
            "type": "barpolar"
           }
          ],
          "carpet": [
           {
            "aaxis": {
             "endlinecolor": "#2a3f5f",
             "gridcolor": "white",
             "linecolor": "white",
             "minorgridcolor": "white",
             "startlinecolor": "#2a3f5f"
            },
            "baxis": {
             "endlinecolor": "#2a3f5f",
             "gridcolor": "white",
             "linecolor": "white",
             "minorgridcolor": "white",
             "startlinecolor": "#2a3f5f"
            },
            "type": "carpet"
           }
          ],
          "choropleth": [
           {
            "colorbar": {
             "outlinewidth": 0,
             "ticks": ""
            },
            "type": "choropleth"
           }
          ],
          "contour": [
           {
            "colorbar": {
             "outlinewidth": 0,
             "ticks": ""
            },
            "colorscale": [
             [
              0,
              "#0d0887"
             ],
             [
              0.1111111111111111,
              "#46039f"
             ],
             [
              0.2222222222222222,
              "#7201a8"
             ],
             [
              0.3333333333333333,
              "#9c179e"
             ],
             [
              0.4444444444444444,
              "#bd3786"
             ],
             [
              0.5555555555555556,
              "#d8576b"
             ],
             [
              0.6666666666666666,
              "#ed7953"
             ],
             [
              0.7777777777777778,
              "#fb9f3a"
             ],
             [
              0.8888888888888888,
              "#fdca26"
             ],
             [
              1,
              "#f0f921"
             ]
            ],
            "type": "contour"
           }
          ],
          "contourcarpet": [
           {
            "colorbar": {
             "outlinewidth": 0,
             "ticks": ""
            },
            "type": "contourcarpet"
           }
          ],
          "heatmap": [
           {
            "colorbar": {
             "outlinewidth": 0,
             "ticks": ""
            },
            "colorscale": [
             [
              0,
              "#0d0887"
             ],
             [
              0.1111111111111111,
              "#46039f"
             ],
             [
              0.2222222222222222,
              "#7201a8"
             ],
             [
              0.3333333333333333,
              "#9c179e"
             ],
             [
              0.4444444444444444,
              "#bd3786"
             ],
             [
              0.5555555555555556,
              "#d8576b"
             ],
             [
              0.6666666666666666,
              "#ed7953"
             ],
             [
              0.7777777777777778,
              "#fb9f3a"
             ],
             [
              0.8888888888888888,
              "#fdca26"
             ],
             [
              1,
              "#f0f921"
             ]
            ],
            "type": "heatmap"
           }
          ],
          "heatmapgl": [
           {
            "colorbar": {
             "outlinewidth": 0,
             "ticks": ""
            },
            "colorscale": [
             [
              0,
              "#0d0887"
             ],
             [
              0.1111111111111111,
              "#46039f"
             ],
             [
              0.2222222222222222,
              "#7201a8"
             ],
             [
              0.3333333333333333,
              "#9c179e"
             ],
             [
              0.4444444444444444,
              "#bd3786"
             ],
             [
              0.5555555555555556,
              "#d8576b"
             ],
             [
              0.6666666666666666,
              "#ed7953"
             ],
             [
              0.7777777777777778,
              "#fb9f3a"
             ],
             [
              0.8888888888888888,
              "#fdca26"
             ],
             [
              1,
              "#f0f921"
             ]
            ],
            "type": "heatmapgl"
           }
          ],
          "histogram": [
           {
            "marker": {
             "pattern": {
              "fillmode": "overlay",
              "size": 10,
              "solidity": 0.2
             }
            },
            "type": "histogram"
           }
          ],
          "histogram2d": [
           {
            "colorbar": {
             "outlinewidth": 0,
             "ticks": ""
            },
            "colorscale": [
             [
              0,
              "#0d0887"
             ],
             [
              0.1111111111111111,
              "#46039f"
             ],
             [
              0.2222222222222222,
              "#7201a8"
             ],
             [
              0.3333333333333333,
              "#9c179e"
             ],
             [
              0.4444444444444444,
              "#bd3786"
             ],
             [
              0.5555555555555556,
              "#d8576b"
             ],
             [
              0.6666666666666666,
              "#ed7953"
             ],
             [
              0.7777777777777778,
              "#fb9f3a"
             ],
             [
              0.8888888888888888,
              "#fdca26"
             ],
             [
              1,
              "#f0f921"
             ]
            ],
            "type": "histogram2d"
           }
          ],
          "histogram2dcontour": [
           {
            "colorbar": {
             "outlinewidth": 0,
             "ticks": ""
            },
            "colorscale": [
             [
              0,
              "#0d0887"
             ],
             [
              0.1111111111111111,
              "#46039f"
             ],
             [
              0.2222222222222222,
              "#7201a8"
             ],
             [
              0.3333333333333333,
              "#9c179e"
             ],
             [
              0.4444444444444444,
              "#bd3786"
             ],
             [
              0.5555555555555556,
              "#d8576b"
             ],
             [
              0.6666666666666666,
              "#ed7953"
             ],
             [
              0.7777777777777778,
              "#fb9f3a"
             ],
             [
              0.8888888888888888,
              "#fdca26"
             ],
             [
              1,
              "#f0f921"
             ]
            ],
            "type": "histogram2dcontour"
           }
          ],
          "mesh3d": [
           {
            "colorbar": {
             "outlinewidth": 0,
             "ticks": ""
            },
            "type": "mesh3d"
           }
          ],
          "parcoords": [
           {
            "line": {
             "colorbar": {
              "outlinewidth": 0,
              "ticks": ""
             }
            },
            "type": "parcoords"
           }
          ],
          "pie": [
           {
            "automargin": true,
            "type": "pie"
           }
          ],
          "scatter": [
           {
            "marker": {
             "colorbar": {
              "outlinewidth": 0,
              "ticks": ""
             }
            },
            "type": "scatter"
           }
          ],
          "scatter3d": [
           {
            "line": {
             "colorbar": {
              "outlinewidth": 0,
              "ticks": ""
             }
            },
            "marker": {
             "colorbar": {
              "outlinewidth": 0,
              "ticks": ""
             }
            },
            "type": "scatter3d"
           }
          ],
          "scattercarpet": [
           {
            "marker": {
             "colorbar": {
              "outlinewidth": 0,
              "ticks": ""
             }
            },
            "type": "scattercarpet"
           }
          ],
          "scattergeo": [
           {
            "marker": {
             "colorbar": {
              "outlinewidth": 0,
              "ticks": ""
             }
            },
            "type": "scattergeo"
           }
          ],
          "scattergl": [
           {
            "marker": {
             "colorbar": {
              "outlinewidth": 0,
              "ticks": ""
             }
            },
            "type": "scattergl"
           }
          ],
          "scattermapbox": [
           {
            "marker": {
             "colorbar": {
              "outlinewidth": 0,
              "ticks": ""
             }
            },
            "type": "scattermapbox"
           }
          ],
          "scatterpolar": [
           {
            "marker": {
             "colorbar": {
              "outlinewidth": 0,
              "ticks": ""
             }
            },
            "type": "scatterpolar"
           }
          ],
          "scatterpolargl": [
           {
            "marker": {
             "colorbar": {
              "outlinewidth": 0,
              "ticks": ""
             }
            },
            "type": "scatterpolargl"
           }
          ],
          "scatterternary": [
           {
            "marker": {
             "colorbar": {
              "outlinewidth": 0,
              "ticks": ""
             }
            },
            "type": "scatterternary"
           }
          ],
          "surface": [
           {
            "colorbar": {
             "outlinewidth": 0,
             "ticks": ""
            },
            "colorscale": [
             [
              0,
              "#0d0887"
             ],
             [
              0.1111111111111111,
              "#46039f"
             ],
             [
              0.2222222222222222,
              "#7201a8"
             ],
             [
              0.3333333333333333,
              "#9c179e"
             ],
             [
              0.4444444444444444,
              "#bd3786"
             ],
             [
              0.5555555555555556,
              "#d8576b"
             ],
             [
              0.6666666666666666,
              "#ed7953"
             ],
             [
              0.7777777777777778,
              "#fb9f3a"
             ],
             [
              0.8888888888888888,
              "#fdca26"
             ],
             [
              1,
              "#f0f921"
             ]
            ],
            "type": "surface"
           }
          ],
          "table": [
           {
            "cells": {
             "fill": {
              "color": "#EBF0F8"
             },
             "line": {
              "color": "white"
             }
            },
            "header": {
             "fill": {
              "color": "#C8D4E3"
             },
             "line": {
              "color": "white"
             }
            },
            "type": "table"
           }
          ]
         },
         "layout": {
          "annotationdefaults": {
           "arrowcolor": "#2a3f5f",
           "arrowhead": 0,
           "arrowwidth": 1
          },
          "autotypenumbers": "strict",
          "coloraxis": {
           "colorbar": {
            "outlinewidth": 0,
            "ticks": ""
           }
          },
          "colorscale": {
           "diverging": [
            [
             0,
             "#8e0152"
            ],
            [
             0.1,
             "#c51b7d"
            ],
            [
             0.2,
             "#de77ae"
            ],
            [
             0.3,
             "#f1b6da"
            ],
            [
             0.4,
             "#fde0ef"
            ],
            [
             0.5,
             "#f7f7f7"
            ],
            [
             0.6,
             "#e6f5d0"
            ],
            [
             0.7,
             "#b8e186"
            ],
            [
             0.8,
             "#7fbc41"
            ],
            [
             0.9,
             "#4d9221"
            ],
            [
             1,
             "#276419"
            ]
           ],
           "sequential": [
            [
             0,
             "#0d0887"
            ],
            [
             0.1111111111111111,
             "#46039f"
            ],
            [
             0.2222222222222222,
             "#7201a8"
            ],
            [
             0.3333333333333333,
             "#9c179e"
            ],
            [
             0.4444444444444444,
             "#bd3786"
            ],
            [
             0.5555555555555556,
             "#d8576b"
            ],
            [
             0.6666666666666666,
             "#ed7953"
            ],
            [
             0.7777777777777778,
             "#fb9f3a"
            ],
            [
             0.8888888888888888,
             "#fdca26"
            ],
            [
             1,
             "#f0f921"
            ]
           ],
           "sequentialminus": [
            [
             0,
             "#0d0887"
            ],
            [
             0.1111111111111111,
             "#46039f"
            ],
            [
             0.2222222222222222,
             "#7201a8"
            ],
            [
             0.3333333333333333,
             "#9c179e"
            ],
            [
             0.4444444444444444,
             "#bd3786"
            ],
            [
             0.5555555555555556,
             "#d8576b"
            ],
            [
             0.6666666666666666,
             "#ed7953"
            ],
            [
             0.7777777777777778,
             "#fb9f3a"
            ],
            [
             0.8888888888888888,
             "#fdca26"
            ],
            [
             1,
             "#f0f921"
            ]
           ]
          },
          "colorway": [
           "#636efa",
           "#EF553B",
           "#00cc96",
           "#ab63fa",
           "#FFA15A",
           "#19d3f3",
           "#FF6692",
           "#B6E880",
           "#FF97FF",
           "#FECB52"
          ],
          "font": {
           "color": "#2a3f5f"
          },
          "geo": {
           "bgcolor": "white",
           "lakecolor": "white",
           "landcolor": "#E5ECF6",
           "showlakes": true,
           "showland": true,
           "subunitcolor": "white"
          },
          "hoverlabel": {
           "align": "left"
          },
          "hovermode": "closest",
          "mapbox": {
           "style": "light"
          },
          "paper_bgcolor": "white",
          "plot_bgcolor": "#E5ECF6",
          "polar": {
           "angularaxis": {
            "gridcolor": "white",
            "linecolor": "white",
            "ticks": ""
           },
           "bgcolor": "#E5ECF6",
           "radialaxis": {
            "gridcolor": "white",
            "linecolor": "white",
            "ticks": ""
           }
          },
          "scene": {
           "xaxis": {
            "backgroundcolor": "#E5ECF6",
            "gridcolor": "white",
            "gridwidth": 2,
            "linecolor": "white",
            "showbackground": true,
            "ticks": "",
            "zerolinecolor": "white"
           },
           "yaxis": {
            "backgroundcolor": "#E5ECF6",
            "gridcolor": "white",
            "gridwidth": 2,
            "linecolor": "white",
            "showbackground": true,
            "ticks": "",
            "zerolinecolor": "white"
           },
           "zaxis": {
            "backgroundcolor": "#E5ECF6",
            "gridcolor": "white",
            "gridwidth": 2,
            "linecolor": "white",
            "showbackground": true,
            "ticks": "",
            "zerolinecolor": "white"
           }
          },
          "shapedefaults": {
           "line": {
            "color": "#2a3f5f"
           }
          },
          "ternary": {
           "aaxis": {
            "gridcolor": "white",
            "linecolor": "white",
            "ticks": ""
           },
           "baxis": {
            "gridcolor": "white",
            "linecolor": "white",
            "ticks": ""
           },
           "bgcolor": "#E5ECF6",
           "caxis": {
            "gridcolor": "white",
            "linecolor": "white",
            "ticks": ""
           }
          },
          "title": {
           "x": 0.05
          },
          "xaxis": {
           "automargin": true,
           "gridcolor": "white",
           "linecolor": "white",
           "ticks": "",
           "title": {
            "standoff": 15
           },
           "zerolinecolor": "white",
           "zerolinewidth": 2
          },
          "yaxis": {
           "automargin": true,
           "gridcolor": "white",
           "linecolor": "white",
           "ticks": "",
           "title": {
            "standoff": 15
           },
           "zerolinecolor": "white",
           "zerolinewidth": 2
          }
         }
        },
        "title": {
         "text": "Elliptical Motion"
        },
        "updatemenus": [
         {
          "buttons": [
           {
            "args": [
             null,
             {
              "frame": {
               "duration": 100,
               "redraw": true
              },
              "fromcurrent": true,
              "transition": {
               "duration": 300,
               "easing": "quadratic-in-out"
              }
             }
            ],
            "label": "Play",
            "method": "animate"
           },
           {
            "args": [
             [
              null
             ],
             {
              "frame": {
               "duration": 0,
               "redraw": true
              },
              "mode": "immediate",
              "transition": {
               "duration": 0
              }
             }
            ],
            "label": "Pause",
            "method": "animate"
           }
          ],
          "direction": "left",
          "pad": {
           "r": 10,
           "t": 87
          },
          "showactive": true,
          "type": "buttons",
          "x": 0.1,
          "xanchor": "right",
          "y": 0,
          "yanchor": "top"
         }
        ],
        "xaxis": {
         "autorange": false,
         "range": [
          -2,
          12.97
         ],
         "showgrid": false,
         "zeroline": false
        },
        "yaxis": {
         "autorange": false,
         "range": [
          -6.5,
          30.28
         ],
         "showgrid": false,
         "zeroline": false
        }
       }
      },
      "text/html": [
       "<div>                            <div id=\"622dc356-090a-4583-9355-921fe322565c\" class=\"plotly-graph-div\" style=\"height:525px; width:100%;\"></div>            <script type=\"text/javascript\">                require([\"plotly\"], function(Plotly) {                    window.PLOTLYENV=window.PLOTLYENV || {};                                    if (document.getElementById(\"622dc356-090a-4583-9355-921fe322565c\")) {                    Plotly.newPlot(                        \"622dc356-090a-4583-9355-921fe322565c\",                        [{\"type\":\"scatter\",\"x\":[0],\"y\":[0]},{\"type\":\"scatter\",\"x\":[0],\"y\":[0]},{\"type\":\"scatter\",\"x\":[0],\"y\":[0]},{\"line\":{\"color\":\"white\",\"width\":2},\"mode\":\"lines\",\"type\":\"scatter\",\"x\":[10.97,0],\"y\":[11.89,11.89]},{\"line\":{\"color\":\"white\",\"width\":2},\"mode\":\"lines\",\"type\":\"scatter\",\"x\":[0,0,10.97,10.97,0],\"y\":[0,23.78,23.78,0,0]},{\"line\":{\"color\":\"white\",\"width\":2},\"mode\":\"lines\",\"type\":\"scatter\",\"x\":[5.485,5.49],\"y\":[5.485,18.29]},{\"line\":{\"color\":\"white\",\"width\":2},\"mode\":\"lines\",\"type\":\"scatter\",\"x\":[5.485,5.485],\"y\":[0,0.45]},{\"line\":{\"color\":\"white\",\"width\":2},\"mode\":\"lines\",\"type\":\"scatter\",\"x\":[5.485,5.485],\"y\":[23.78,23.330000000000002]},{\"line\":{\"color\":\"white\",\"width\":2},\"mode\":\"lines\",\"type\":\"scatter\",\"x\":[1.37,1.37],\"y\":[0,23.78]},{\"line\":{\"color\":\"white\",\"width\":2},\"mode\":\"lines\",\"type\":\"scatter\",\"x\":[9.600000000000001,9.600000000000001],\"y\":[0,23.78]},{\"line\":{\"color\":\"white\",\"width\":2},\"mode\":\"lines\",\"type\":\"scatter\",\"x\":[1.37,1.37,9.600000000000001,9.600000000000001,1.37],\"y\":[5.5,18.29,18.29,5.5,5.5]}],                        {\"plot_bgcolor\":\"#5080B0\",\"template\":{\"data\":{\"bar\":[{\"error_x\":{\"color\":\"#2a3f5f\"},\"error_y\":{\"color\":\"#2a3f5f\"},\"marker\":{\"line\":{\"color\":\"#E5ECF6\",\"width\":0.5},\"pattern\":{\"fillmode\":\"overlay\",\"size\":10,\"solidity\":0.2}},\"type\":\"bar\"}],\"barpolar\":[{\"marker\":{\"line\":{\"color\":\"#E5ECF6\",\"width\":0.5},\"pattern\":{\"fillmode\":\"overlay\",\"size\":10,\"solidity\":0.2}},\"type\":\"barpolar\"}],\"carpet\":[{\"aaxis\":{\"endlinecolor\":\"#2a3f5f\",\"gridcolor\":\"white\",\"linecolor\":\"white\",\"minorgridcolor\":\"white\",\"startlinecolor\":\"#2a3f5f\"},\"baxis\":{\"endlinecolor\":\"#2a3f5f\",\"gridcolor\":\"white\",\"linecolor\":\"white\",\"minorgridcolor\":\"white\",\"startlinecolor\":\"#2a3f5f\"},\"type\":\"carpet\"}],\"choropleth\":[{\"colorbar\":{\"outlinewidth\":0,\"ticks\":\"\"},\"type\":\"choropleth\"}],\"contour\":[{\"colorbar\":{\"outlinewidth\":0,\"ticks\":\"\"},\"colorscale\":[[0.0,\"#0d0887\"],[0.1111111111111111,\"#46039f\"],[0.2222222222222222,\"#7201a8\"],[0.3333333333333333,\"#9c179e\"],[0.4444444444444444,\"#bd3786\"],[0.5555555555555556,\"#d8576b\"],[0.6666666666666666,\"#ed7953\"],[0.7777777777777778,\"#fb9f3a\"],[0.8888888888888888,\"#fdca26\"],[1.0,\"#f0f921\"]],\"type\":\"contour\"}],\"contourcarpet\":[{\"colorbar\":{\"outlinewidth\":0,\"ticks\":\"\"},\"type\":\"contourcarpet\"}],\"heatmap\":[{\"colorbar\":{\"outlinewidth\":0,\"ticks\":\"\"},\"colorscale\":[[0.0,\"#0d0887\"],[0.1111111111111111,\"#46039f\"],[0.2222222222222222,\"#7201a8\"],[0.3333333333333333,\"#9c179e\"],[0.4444444444444444,\"#bd3786\"],[0.5555555555555556,\"#d8576b\"],[0.6666666666666666,\"#ed7953\"],[0.7777777777777778,\"#fb9f3a\"],[0.8888888888888888,\"#fdca26\"],[1.0,\"#f0f921\"]],\"type\":\"heatmap\"}],\"heatmapgl\":[{\"colorbar\":{\"outlinewidth\":0,\"ticks\":\"\"},\"colorscale\":[[0.0,\"#0d0887\"],[0.1111111111111111,\"#46039f\"],[0.2222222222222222,\"#7201a8\"],[0.3333333333333333,\"#9c179e\"],[0.4444444444444444,\"#bd3786\"],[0.5555555555555556,\"#d8576b\"],[0.6666666666666666,\"#ed7953\"],[0.7777777777777778,\"#fb9f3a\"],[0.8888888888888888,\"#fdca26\"],[1.0,\"#f0f921\"]],\"type\":\"heatmapgl\"}],\"histogram\":[{\"marker\":{\"pattern\":{\"fillmode\":\"overlay\",\"size\":10,\"solidity\":0.2}},\"type\":\"histogram\"}],\"histogram2d\":[{\"colorbar\":{\"outlinewidth\":0,\"ticks\":\"\"},\"colorscale\":[[0.0,\"#0d0887\"],[0.1111111111111111,\"#46039f\"],[0.2222222222222222,\"#7201a8\"],[0.3333333333333333,\"#9c179e\"],[0.4444444444444444,\"#bd3786\"],[0.5555555555555556,\"#d8576b\"],[0.6666666666666666,\"#ed7953\"],[0.7777777777777778,\"#fb9f3a\"],[0.8888888888888888,\"#fdca26\"],[1.0,\"#f0f921\"]],\"type\":\"histogram2d\"}],\"histogram2dcontour\":[{\"colorbar\":{\"outlinewidth\":0,\"ticks\":\"\"},\"colorscale\":[[0.0,\"#0d0887\"],[0.1111111111111111,\"#46039f\"],[0.2222222222222222,\"#7201a8\"],[0.3333333333333333,\"#9c179e\"],[0.4444444444444444,\"#bd3786\"],[0.5555555555555556,\"#d8576b\"],[0.6666666666666666,\"#ed7953\"],[0.7777777777777778,\"#fb9f3a\"],[0.8888888888888888,\"#fdca26\"],[1.0,\"#f0f921\"]],\"type\":\"histogram2dcontour\"}],\"mesh3d\":[{\"colorbar\":{\"outlinewidth\":0,\"ticks\":\"\"},\"type\":\"mesh3d\"}],\"parcoords\":[{\"line\":{\"colorbar\":{\"outlinewidth\":0,\"ticks\":\"\"}},\"type\":\"parcoords\"}],\"pie\":[{\"automargin\":true,\"type\":\"pie\"}],\"scatter\":[{\"marker\":{\"colorbar\":{\"outlinewidth\":0,\"ticks\":\"\"}},\"type\":\"scatter\"}],\"scatter3d\":[{\"line\":{\"colorbar\":{\"outlinewidth\":0,\"ticks\":\"\"}},\"marker\":{\"colorbar\":{\"outlinewidth\":0,\"ticks\":\"\"}},\"type\":\"scatter3d\"}],\"scattercarpet\":[{\"marker\":{\"colorbar\":{\"outlinewidth\":0,\"ticks\":\"\"}},\"type\":\"scattercarpet\"}],\"scattergeo\":[{\"marker\":{\"colorbar\":{\"outlinewidth\":0,\"ticks\":\"\"}},\"type\":\"scattergeo\"}],\"scattergl\":[{\"marker\":{\"colorbar\":{\"outlinewidth\":0,\"ticks\":\"\"}},\"type\":\"scattergl\"}],\"scattermapbox\":[{\"marker\":{\"colorbar\":{\"outlinewidth\":0,\"ticks\":\"\"}},\"type\":\"scattermapbox\"}],\"scatterpolar\":[{\"marker\":{\"colorbar\":{\"outlinewidth\":0,\"ticks\":\"\"}},\"type\":\"scatterpolar\"}],\"scatterpolargl\":[{\"marker\":{\"colorbar\":{\"outlinewidth\":0,\"ticks\":\"\"}},\"type\":\"scatterpolargl\"}],\"scatterternary\":[{\"marker\":{\"colorbar\":{\"outlinewidth\":0,\"ticks\":\"\"}},\"type\":\"scatterternary\"}],\"surface\":[{\"colorbar\":{\"outlinewidth\":0,\"ticks\":\"\"},\"colorscale\":[[0.0,\"#0d0887\"],[0.1111111111111111,\"#46039f\"],[0.2222222222222222,\"#7201a8\"],[0.3333333333333333,\"#9c179e\"],[0.4444444444444444,\"#bd3786\"],[0.5555555555555556,\"#d8576b\"],[0.6666666666666666,\"#ed7953\"],[0.7777777777777778,\"#fb9f3a\"],[0.8888888888888888,\"#fdca26\"],[1.0,\"#f0f921\"]],\"type\":\"surface\"}],\"table\":[{\"cells\":{\"fill\":{\"color\":\"#EBF0F8\"},\"line\":{\"color\":\"white\"}},\"header\":{\"fill\":{\"color\":\"#C8D4E3\"},\"line\":{\"color\":\"white\"}},\"type\":\"table\"}]},\"layout\":{\"annotationdefaults\":{\"arrowcolor\":\"#2a3f5f\",\"arrowhead\":0,\"arrowwidth\":1},\"autotypenumbers\":\"strict\",\"coloraxis\":{\"colorbar\":{\"outlinewidth\":0,\"ticks\":\"\"}},\"colorscale\":{\"diverging\":[[0,\"#8e0152\"],[0.1,\"#c51b7d\"],[0.2,\"#de77ae\"],[0.3,\"#f1b6da\"],[0.4,\"#fde0ef\"],[0.5,\"#f7f7f7\"],[0.6,\"#e6f5d0\"],[0.7,\"#b8e186\"],[0.8,\"#7fbc41\"],[0.9,\"#4d9221\"],[1,\"#276419\"]],\"sequential\":[[0.0,\"#0d0887\"],[0.1111111111111111,\"#46039f\"],[0.2222222222222222,\"#7201a8\"],[0.3333333333333333,\"#9c179e\"],[0.4444444444444444,\"#bd3786\"],[0.5555555555555556,\"#d8576b\"],[0.6666666666666666,\"#ed7953\"],[0.7777777777777778,\"#fb9f3a\"],[0.8888888888888888,\"#fdca26\"],[1.0,\"#f0f921\"]],\"sequentialminus\":[[0.0,\"#0d0887\"],[0.1111111111111111,\"#46039f\"],[0.2222222222222222,\"#7201a8\"],[0.3333333333333333,\"#9c179e\"],[0.4444444444444444,\"#bd3786\"],[0.5555555555555556,\"#d8576b\"],[0.6666666666666666,\"#ed7953\"],[0.7777777777777778,\"#fb9f3a\"],[0.8888888888888888,\"#fdca26\"],[1.0,\"#f0f921\"]]},\"colorway\":[\"#636efa\",\"#EF553B\",\"#00cc96\",\"#ab63fa\",\"#FFA15A\",\"#19d3f3\",\"#FF6692\",\"#B6E880\",\"#FF97FF\",\"#FECB52\"],\"font\":{\"color\":\"#2a3f5f\"},\"geo\":{\"bgcolor\":\"white\",\"lakecolor\":\"white\",\"landcolor\":\"#E5ECF6\",\"showlakes\":true,\"showland\":true,\"subunitcolor\":\"white\"},\"hoverlabel\":{\"align\":\"left\"},\"hovermode\":\"closest\",\"mapbox\":{\"style\":\"light\"},\"paper_bgcolor\":\"white\",\"plot_bgcolor\":\"#E5ECF6\",\"polar\":{\"angularaxis\":{\"gridcolor\":\"white\",\"linecolor\":\"white\",\"ticks\":\"\"},\"bgcolor\":\"#E5ECF6\",\"radialaxis\":{\"gridcolor\":\"white\",\"linecolor\":\"white\",\"ticks\":\"\"}},\"scene\":{\"xaxis\":{\"backgroundcolor\":\"#E5ECF6\",\"gridcolor\":\"white\",\"gridwidth\":2,\"linecolor\":\"white\",\"showbackground\":true,\"ticks\":\"\",\"zerolinecolor\":\"white\"},\"yaxis\":{\"backgroundcolor\":\"#E5ECF6\",\"gridcolor\":\"white\",\"gridwidth\":2,\"linecolor\":\"white\",\"showbackground\":true,\"ticks\":\"\",\"zerolinecolor\":\"white\"},\"zaxis\":{\"backgroundcolor\":\"#E5ECF6\",\"gridcolor\":\"white\",\"gridwidth\":2,\"linecolor\":\"white\",\"showbackground\":true,\"ticks\":\"\",\"zerolinecolor\":\"white\"}},\"shapedefaults\":{\"line\":{\"color\":\"#2a3f5f\"}},\"ternary\":{\"aaxis\":{\"gridcolor\":\"white\",\"linecolor\":\"white\",\"ticks\":\"\"},\"baxis\":{\"gridcolor\":\"white\",\"linecolor\":\"white\",\"ticks\":\"\"},\"bgcolor\":\"#E5ECF6\",\"caxis\":{\"gridcolor\":\"white\",\"linecolor\":\"white\",\"ticks\":\"\"}},\"title\":{\"x\":0.05},\"xaxis\":{\"automargin\":true,\"gridcolor\":\"white\",\"linecolor\":\"white\",\"ticks\":\"\",\"title\":{\"standoff\":15},\"zerolinecolor\":\"white\",\"zerolinewidth\":2},\"yaxis\":{\"automargin\":true,\"gridcolor\":\"white\",\"linecolor\":\"white\",\"ticks\":\"\",\"title\":{\"standoff\":15},\"zerolinecolor\":\"white\",\"zerolinewidth\":2}}},\"title\":{\"text\":\"Elliptical Motion\"},\"updatemenus\":[{\"buttons\":[{\"args\":[null,{\"frame\":{\"duration\":100,\"redraw\":true},\"fromcurrent\":true,\"transition\":{\"duration\":300,\"easing\":\"quadratic-in-out\"}}],\"label\":\"Play\",\"method\":\"animate\"},{\"args\":[[null],{\"frame\":{\"duration\":0,\"redraw\":true},\"mode\":\"immediate\",\"transition\":{\"duration\":0}}],\"label\":\"Pause\",\"method\":\"animate\"}],\"direction\":\"left\",\"pad\":{\"r\":10,\"t\":87},\"showactive\":true,\"type\":\"buttons\",\"x\":0.1,\"xanchor\":\"right\",\"y\":0,\"yanchor\":\"top\"}],\"xaxis\":{\"autorange\":false,\"range\":[-2,12.97],\"showgrid\":false,\"zeroline\":false},\"yaxis\":{\"autorange\":false,\"range\":[-6.5,30.28],\"showgrid\":false,\"zeroline\":false}},                        {\"responsive\": true}                    ).then(function(){\n",
       "                            Plotly.addFrames('622dc356-090a-4583-9355-921fe322565c', [{\"data\":[{\"marker\":{\"color\":\"red\",\"size\":10},\"mode\":\"markers\",\"type\":\"scatter\",\"x\":[6.5],\"y\":[-0.24]},{\"marker\":{\"color\":\"cyan\",\"size\":10},\"mode\":\"markers\",\"type\":\"scatter\",\"x\":[1.03],\"y\":[27.44]},{\"marker\":{\"color\":\"yellow\",\"size\":10},\"mode\":\"markers\",\"type\":\"scatter\",\"x\":[6.5],\"y\":[-0.24]}]},{\"data\":[{\"marker\":{\"color\":\"red\",\"size\":10},\"mode\":\"markers\",\"type\":\"scatter\",\"x\":[6.5],\"y\":[-0.24]},{\"marker\":{\"color\":\"cyan\",\"size\":10},\"mode\":\"markers\",\"type\":\"scatter\",\"x\":[1.03],\"y\":[27.44]},{\"marker\":{\"color\":\"yellow\",\"size\":10},\"mode\":\"markers\",\"type\":\"scatter\",\"x\":[6.5],\"y\":[-0.24]}]},{\"data\":[{\"marker\":{\"color\":\"red\",\"size\":10},\"mode\":\"markers\",\"type\":\"scatter\",\"x\":[6.4670000000000005],\"y\":[-0.10499999999999998]},{\"marker\":{\"color\":\"cyan\",\"size\":10},\"mode\":\"markers\",\"type\":\"scatter\",\"x\":[0.932],\"y\":[27.255000000000003]},{\"marker\":{\"color\":\"yellow\",\"size\":10},\"mode\":\"markers\",\"type\":\"scatter\",\"x\":[5.855],\"y\":[2.343]}]},{\"data\":[{\"marker\":{\"color\":\"red\",\"size\":10},\"mode\":\"markers\",\"type\":\"scatter\",\"x\":[6.434],\"y\":[0.030000000000000027]},{\"marker\":{\"color\":\"cyan\",\"size\":10},\"mode\":\"markers\",\"type\":\"scatter\",\"x\":[0.8340000000000001],\"y\":[27.07]},{\"marker\":{\"color\":\"yellow\",\"size\":10},\"mode\":\"markers\",\"type\":\"scatter\",\"x\":[5.21],\"y\":[4.926]}]},{\"data\":[{\"marker\":{\"color\":\"red\",\"size\":10},\"mode\":\"markers\",\"type\":\"scatter\",\"x\":[6.401],\"y\":[0.1650000000000001]},{\"marker\":{\"color\":\"cyan\",\"size\":10},\"mode\":\"markers\",\"type\":\"scatter\",\"x\":[0.736],\"y\":[26.884999999999998]},{\"marker\":{\"color\":\"yellow\",\"size\":10},\"mode\":\"markers\",\"type\":\"scatter\",\"x\":[4.5649999999999995],\"y\":[7.509000000000001]}]},{\"data\":[{\"marker\":{\"color\":\"red\",\"size\":10},\"mode\":\"markers\",\"type\":\"scatter\",\"x\":[6.368],\"y\":[0.30000000000000004]},{\"marker\":{\"color\":\"cyan\",\"size\":10},\"mode\":\"markers\",\"type\":\"scatter\",\"x\":[0.638],\"y\":[26.7]},{\"marker\":{\"color\":\"yellow\",\"size\":10},\"mode\":\"markers\",\"type\":\"scatter\",\"x\":[3.92],\"y\":[10.092]}]},{\"data\":[{\"marker\":{\"color\":\"red\",\"size\":10},\"mode\":\"markers\",\"type\":\"scatter\",\"x\":[6.335],\"y\":[0.43500000000000005]},{\"marker\":{\"color\":\"cyan\",\"size\":10},\"mode\":\"markers\",\"type\":\"scatter\",\"x\":[0.54],\"y\":[26.515]},{\"marker\":{\"color\":\"yellow\",\"size\":10},\"mode\":\"markers\",\"type\":\"scatter\",\"x\":[3.275],\"y\":[12.675]}]},{\"data\":[{\"marker\":{\"color\":\"red\",\"size\":10},\"mode\":\"markers\",\"type\":\"scatter\",\"x\":[6.302],\"y\":[0.5700000000000002]},{\"marker\":{\"color\":\"cyan\",\"size\":10},\"mode\":\"markers\",\"type\":\"scatter\",\"x\":[0.44199999999999995],\"y\":[26.33]},{\"marker\":{\"color\":\"yellow\",\"size\":10},\"mode\":\"markers\",\"type\":\"scatter\",\"x\":[2.6299999999999994],\"y\":[15.258000000000003]}]},{\"data\":[{\"marker\":{\"color\":\"red\",\"size\":10},\"mode\":\"markers\",\"type\":\"scatter\",\"x\":[6.268999999999999],\"y\":[0.7050000000000002]},{\"marker\":{\"color\":\"cyan\",\"size\":10},\"mode\":\"markers\",\"type\":\"scatter\",\"x\":[0.344],\"y\":[26.145]},{\"marker\":{\"color\":\"yellow\",\"size\":10},\"mode\":\"markers\",\"type\":\"scatter\",\"x\":[1.9849999999999994],\"y\":[17.841]}]},{\"data\":[{\"marker\":{\"color\":\"red\",\"size\":10},\"mode\":\"markers\",\"type\":\"scatter\",\"x\":[6.236],\"y\":[0.8400000000000001]},{\"marker\":{\"color\":\"cyan\",\"size\":10},\"mode\":\"markers\",\"type\":\"scatter\",\"x\":[0.24599999999999997],\"y\":[25.96]},{\"marker\":{\"color\":\"yellow\",\"size\":10},\"mode\":\"markers\",\"type\":\"scatter\",\"x\":[1.3399999999999999],\"y\":[20.424000000000003]}]},{\"data\":[{\"marker\":{\"color\":\"red\",\"size\":10},\"mode\":\"markers\",\"type\":\"scatter\",\"x\":[6.202999999999999],\"y\":[0.9750000000000001]},{\"marker\":{\"color\":\"cyan\",\"size\":10},\"mode\":\"markers\",\"type\":\"scatter\",\"x\":[0.148],\"y\":[25.775]},{\"marker\":{\"color\":\"yellow\",\"size\":10},\"mode\":\"markers\",\"type\":\"scatter\",\"x\":[0.695],\"y\":[23.006999999999998]}]},{\"data\":[{\"marker\":{\"color\":\"red\",\"size\":10},\"mode\":\"markers\",\"type\":\"scatter\",\"x\":[6.17],\"y\":[1.11]},{\"marker\":{\"color\":\"cyan\",\"size\":10},\"mode\":\"markers\",\"type\":\"scatter\",\"x\":[0.05],\"y\":[25.59]},{\"marker\":{\"color\":\"yellow\",\"size\":10},\"mode\":\"markers\",\"type\":\"scatter\",\"x\":[0.05],\"y\":[25.59]}]},{\"data\":[{\"marker\":{\"color\":\"red\",\"size\":10},\"mode\":\"markers\",\"type\":\"scatter\",\"x\":[6.17],\"y\":[1.11]},{\"marker\":{\"color\":\"cyan\",\"size\":10},\"mode\":\"markers\",\"type\":\"scatter\",\"x\":[0.05],\"y\":[25.59]},{\"marker\":{\"color\":\"yellow\",\"size\":10},\"mode\":\"markers\",\"type\":\"scatter\",\"x\":[0.05],\"y\":[25.59]}]},{\"data\":[{\"marker\":{\"color\":\"red\",\"size\":10},\"mode\":\"markers\",\"type\":\"scatter\",\"x\":[5.695],\"y\":[1.2320000000000002]},{\"marker\":{\"color\":\"cyan\",\"size\":10},\"mode\":\"markers\",\"type\":\"scatter\",\"x\":[0.52],\"y\":[25.676]},{\"marker\":{\"color\":\"yellow\",\"size\":10},\"mode\":\"markers\",\"type\":\"scatter\",\"x\":[0.23700000000000002],\"y\":[25.227]}]},{\"data\":[{\"marker\":{\"color\":\"red\",\"size\":10},\"mode\":\"markers\",\"type\":\"scatter\",\"x\":[5.22],\"y\":[1.354]},{\"marker\":{\"color\":\"cyan\",\"size\":10},\"mode\":\"markers\",\"type\":\"scatter\",\"x\":[0.9900000000000001],\"y\":[25.762]},{\"marker\":{\"color\":\"yellow\",\"size\":10},\"mode\":\"markers\",\"type\":\"scatter\",\"x\":[0.42400000000000004],\"y\":[24.864]}]},{\"data\":[{\"marker\":{\"color\":\"red\",\"size\":10},\"mode\":\"markers\",\"type\":\"scatter\",\"x\":[4.745],\"y\":[1.4760000000000002]},{\"marker\":{\"color\":\"cyan\",\"size\":10},\"mode\":\"markers\",\"type\":\"scatter\",\"x\":[1.4600000000000002],\"y\":[25.848000000000003]},{\"marker\":{\"color\":\"yellow\",\"size\":10},\"mode\":\"markers\",\"type\":\"scatter\",\"x\":[0.6110000000000001],\"y\":[24.501]}]},{\"data\":[{\"marker\":{\"color\":\"red\",\"size\":10},\"mode\":\"markers\",\"type\":\"scatter\",\"x\":[4.27],\"y\":[1.598]},{\"marker\":{\"color\":\"cyan\",\"size\":10},\"mode\":\"markers\",\"type\":\"scatter\",\"x\":[1.9300000000000002],\"y\":[25.933999999999997]},{\"marker\":{\"color\":\"yellow\",\"size\":10},\"mode\":\"markers\",\"type\":\"scatter\",\"x\":[0.798],\"y\":[24.137999999999998]}]},{\"data\":[{\"marker\":{\"color\":\"red\",\"size\":10},\"mode\":\"markers\",\"type\":\"scatter\",\"x\":[3.795],\"y\":[1.7200000000000002]},{\"marker\":{\"color\":\"cyan\",\"size\":10},\"mode\":\"markers\",\"type\":\"scatter\",\"x\":[2.4],\"y\":[26.02]},{\"marker\":{\"color\":\"yellow\",\"size\":10},\"mode\":\"markers\",\"type\":\"scatter\",\"x\":[0.985],\"y\":[23.775]}]},{\"data\":[{\"marker\":{\"color\":\"red\",\"size\":10},\"mode\":\"markers\",\"type\":\"scatter\",\"x\":[3.3199999999999994],\"y\":[1.8420000000000003]},{\"marker\":{\"color\":\"cyan\",\"size\":10},\"mode\":\"markers\",\"type\":\"scatter\",\"x\":[2.8700000000000006],\"y\":[26.106]},{\"marker\":{\"color\":\"yellow\",\"size\":10},\"mode\":\"markers\",\"type\":\"scatter\",\"x\":[1.1720000000000002],\"y\":[23.412]}]},{\"data\":[{\"marker\":{\"color\":\"red\",\"size\":10},\"mode\":\"markers\",\"type\":\"scatter\",\"x\":[2.8449999999999998],\"y\":[1.9640000000000002]},{\"marker\":{\"color\":\"cyan\",\"size\":10},\"mode\":\"markers\",\"type\":\"scatter\",\"x\":[3.3400000000000003],\"y\":[26.192]},{\"marker\":{\"color\":\"yellow\",\"size\":10},\"mode\":\"markers\",\"type\":\"scatter\",\"x\":[1.359],\"y\":[23.049]}]},{\"data\":[{\"marker\":{\"color\":\"red\",\"size\":10},\"mode\":\"markers\",\"type\":\"scatter\",\"x\":[2.3699999999999997],\"y\":[2.0860000000000003]},{\"marker\":{\"color\":\"cyan\",\"size\":10},\"mode\":\"markers\",\"type\":\"scatter\",\"x\":[3.81],\"y\":[26.278]},{\"marker\":{\"color\":\"yellow\",\"size\":10},\"mode\":\"markers\",\"type\":\"scatter\",\"x\":[1.546],\"y\":[22.686]}]},{\"data\":[{\"marker\":{\"color\":\"red\",\"size\":10},\"mode\":\"markers\",\"type\":\"scatter\",\"x\":[1.895],\"y\":[2.208]},{\"marker\":{\"color\":\"cyan\",\"size\":10},\"mode\":\"markers\",\"type\":\"scatter\",\"x\":[4.28],\"y\":[26.363999999999997]},{\"marker\":{\"color\":\"yellow\",\"size\":10},\"mode\":\"markers\",\"type\":\"scatter\",\"x\":[1.7329999999999999],\"y\":[22.323]}]},{\"data\":[{\"marker\":{\"color\":\"red\",\"size\":10},\"mode\":\"markers\",\"type\":\"scatter\",\"x\":[1.42],\"y\":[2.33]},{\"marker\":{\"color\":\"cyan\",\"size\":10},\"mode\":\"markers\",\"type\":\"scatter\",\"x\":[4.75],\"y\":[26.45]},{\"marker\":{\"color\":\"yellow\",\"size\":10},\"mode\":\"markers\",\"type\":\"scatter\",\"x\":[1.92],\"y\":[21.96]}]}]);\n",
       "                        }).then(function(){\n",
       "                            \n",
       "var gd = document.getElementById('622dc356-090a-4583-9355-921fe322565c');\n",
       "var x = new MutationObserver(function (mutations, observer) {{\n",
       "        var display = window.getComputedStyle(gd).display;\n",
       "        if (!display || display === 'none') {{\n",
       "            console.log([gd, 'removed!']);\n",
       "            Plotly.purge(gd);\n",
       "            observer.disconnect();\n",
       "        }}\n",
       "}});\n",
       "\n",
       "// Listen for the removal of the full notebook cells\n",
       "var notebookContainer = gd.closest('#notebook-container');\n",
       "if (notebookContainer) {{\n",
       "    x.observe(notebookContainer, {childList: true});\n",
       "}}\n",
       "\n",
       "// Listen for the clearing of the current output cell\n",
       "var outputEl = gd.closest('.output');\n",
       "if (outputEl) {{\n",
       "    x.observe(outputEl, {childList: true});\n",
       "}}\n",
       "\n",
       "                        })                };                });            </script>        </div>"
      ]
     },
     "metadata": {},
     "output_type": "display_data"
    }
   ],
   "source": [
    "import numpy as np\n",
    "from matplotlib import pyplot as plt\n",
    "from math import pi\n",
    "import plotly.graph_objects as go\n",
    "\n",
    "#Generate Data\n",
    "\n",
    "height_court = 10.97\n",
    "width_court = 11.89*2\n",
    "service_box = 6.4\n",
    "double_field = 1.37\n",
    "baseline_serviceline = 5.5\n",
    "breite_einzel = 8.23\n",
    "serviceline_net = 6.4\n",
    "colors=['red', 'cyan']\n",
    "\n",
    "# Create figure\n",
    "fig = go.Figure(\n",
    "    data=[\n",
    "        go.Scatter(x=[0], y=[0]),\n",
    "        go.Scatter(x=[0], y=[0]),\n",
    "        go.Scatter(x=[0], y=[0]),\n",
    "        go.Scatter(x=[height_court, 0], y=[width_court/2, width_court/2],\n",
    "                     mode=\"lines\",\n",
    "                     line=dict(width=2, color=\"white\")),\n",
    "          go.Scatter(x=[0,0, height_court, height_court, 0],\n",
    "                     y=[0,width_court,width_court, 0, 0],\n",
    "                     mode=\"lines\",\n",
    "                     line=dict(width=2, color=\"white\")),\n",
    "          go.Scatter(x=[height_court/2, width_court/2-service_box],\n",
    "                     y=[height_court/2, width_court/2+service_box],\n",
    "                    mode=\"lines\",\n",
    "                    line=dict(width=2, color=\"white\")),\n",
    "          go.Scatter(x=[height_court/2, height_court/2], y=[0, 0 + 0.45],\n",
    "                    mode=\"lines\",\n",
    "                    line=dict(width=2, color=\"white\")),\n",
    "          go.Scatter(x=[height_court/2, height_court/2], y=[width_court, width_court - 0.45],\n",
    "            mode=\"lines\",\n",
    "            line=dict(width=2, color=\"white\")),\n",
    "         go.Scatter(x=[1.37, 1.37], y=[0, width_court],\n",
    "            mode=\"lines\",\n",
    "            line=dict(width=2, color=\"white\")),\n",
    "        go.Scatter(x=[height_court-1.37, height_court-1.37], y=[0, width_court],\n",
    "            mode=\"lines\",\n",
    "            line=dict(width=2, color=\"white\")),\n",
    "        go.Scatter(x=[0+double_field,0+double_field, \n",
    "                      height_court-1.37, height_court-1.37, 0+double_field],\n",
    "                   y=[baseline_serviceline, width_court/2+service_box, \n",
    "                      width_court/2+service_box, baseline_serviceline, baseline_serviceline],\n",
    "            mode=\"lines\",\n",
    "            line=dict(width=2, color=\"white\"))\n",
    "          ],\n",
    "    layout=go.Layout(\n",
    "        xaxis=dict(range=[-2, height_court+2], autorange=False, zeroline=False, showgrid=False),\n",
    "        yaxis=dict(range=[-6.5, width_court+6.5], autorange=False, zeroline=False, showgrid=False),\n",
    "        title_text=\"Elliptical Motion\",\n",
    "        plot_bgcolor=\"#5080B0\",\n",
    "        updatemenus = [\n",
    "    {\n",
    "        \"buttons\": [\n",
    "            {\n",
    "                \"args\": [None, {\"frame\": {\"duration\": 100, \"redraw\": True},\n",
    "                                \"fromcurrent\": True, \"transition\": {\"duration\": 300,\n",
    "                                                                    \"easing\": \"quadratic-in-out\"}}],\n",
    "                \"label\": \"Play\",\n",
    "                \"method\": \"animate\"\n",
    "            },\n",
    "            {\n",
    "                \"args\": [[None],{\"frame\": {\"duration\": 0, \"redraw\": True},\n",
    "                                  \"mode\": \"immediate\",\n",
    "                                  \"transition\": {\"duration\": 0}}],\n",
    "                \"label\": \"Pause\",\n",
    "                \"method\": \"animate\"\n",
    "            }\n",
    "        ],\n",
    "        \"direction\": \"left\",\n",
    "        \"pad\": {\"r\": 10, \"t\": 87},\n",
    "        \"showactive\": True,\n",
    "        \"type\": \"buttons\",\n",
    "        \"x\": 0.1,\n",
    "        \"xanchor\": \"right\",\n",
    "        \"y\": 0,\n",
    "        \"yanchor\": \"top\"\n",
    "    }\n",
    "]),\n",
    "    \n",
    "    frames=[go.Frame(\n",
    "        data=[go.Scatter(\n",
    "            x=[player1[k][0]],\n",
    "            y=[player1[k][1]],\n",
    "            mode=\"markers\",\n",
    "            marker=dict(color=\"red\", size=10)),\n",
    "             go.Scatter(\n",
    "            x=[player2[k][0]],\n",
    "            y=[player2[k][1]],\n",
    "            mode=\"markers\",\n",
    "            marker=dict(color=\"cyan\", size=10)),\n",
    "              go.Scatter(\n",
    "            x=[ball[k][0]],\n",
    "            y=[ball[k][1]],\n",
    "            mode=\"markers\",\n",
    "            marker=dict(color=\"yellow\", size=10))])\n",
    "        for k in range(len(player1))]\n",
    ")\n",
    "fig.show()"
   ]
  },
  {
   "cell_type": "code",
   "execution_count": 20,
   "id": "75295f15",
   "metadata": {},
   "outputs": [],
   "source": [
    "ball.append([1.92, 21.96])"
   ]
  },
  {
   "cell_type": "code",
   "execution_count": 21,
   "id": "c90431f1",
   "metadata": {},
   "outputs": [
    {
     "data": {
      "text/plain": [
       "[array([ 6.5 , -0.24]), array([ 0.05, 25.59]), array([ 1.92, 21.96])]"
      ]
     },
     "execution_count": 21,
     "metadata": {},
     "output_type": "execute_result"
    }
   ],
   "source": [
    "ball"
   ]
  },
  {
   "cell_type": "code",
   "execution_count": 22,
   "id": "c99f6bd1",
   "metadata": {},
   "outputs": [
    {
     "data": {
      "text/html": [
       "<div>\n",
       "<style scoped>\n",
       "    .dataframe tbody tr th:only-of-type {\n",
       "        vertical-align: middle;\n",
       "    }\n",
       "\n",
       "    .dataframe tbody tr th {\n",
       "        vertical-align: top;\n",
       "    }\n",
       "\n",
       "    .dataframe thead th {\n",
       "        text-align: right;\n",
       "    }\n",
       "</style>\n",
       "<table border=\"1\" class=\"dataframe\">\n",
       "  <thead>\n",
       "    <tr style=\"text-align: right;\">\n",
       "      <th></th>\n",
       "      <th>rallyid</th>\n",
       "      <th>frameid</th>\n",
       "      <th>strokeid</th>\n",
       "      <th>hitter</th>\n",
       "      <th>receiver</th>\n",
       "      <th>isserve</th>\n",
       "      <th>serve</th>\n",
       "      <th>type</th>\n",
       "      <th>stroke</th>\n",
       "      <th>hitter_x</th>\n",
       "      <th>hitter_y</th>\n",
       "      <th>receiver_x</th>\n",
       "      <th>receiver_y</th>\n",
       "      <th>time</th>\n",
       "    </tr>\n",
       "  </thead>\n",
       "  <tbody>\n",
       "    <tr>\n",
       "      <th>0</th>\n",
       "      <td>1</td>\n",
       "      <td>70877</td>\n",
       "      <td>1</td>\n",
       "      <td>Djokovic</td>\n",
       "      <td>Nadal</td>\n",
       "      <td>True</td>\n",
       "      <td>first</td>\n",
       "      <td>serve</td>\n",
       "      <td>forehand</td>\n",
       "      <td>6.50</td>\n",
       "      <td>-0.24</td>\n",
       "      <td>1.03</td>\n",
       "      <td>27.44</td>\n",
       "      <td>0.00</td>\n",
       "    </tr>\n",
       "    <tr>\n",
       "      <th>1</th>\n",
       "      <td>1</td>\n",
       "      <td>70900</td>\n",
       "      <td>2</td>\n",
       "      <td>Nadal</td>\n",
       "      <td>Djokovic</td>\n",
       "      <td>False</td>\n",
       "      <td>first</td>\n",
       "      <td>slice</td>\n",
       "      <td>backhand</td>\n",
       "      <td>0.05</td>\n",
       "      <td>25.59</td>\n",
       "      <td>6.17</td>\n",
       "      <td>1.11</td>\n",
       "      <td>0.92</td>\n",
       "    </tr>\n",
       "    <tr>\n",
       "      <th>2</th>\n",
       "      <td>1</td>\n",
       "      <td>70950</td>\n",
       "      <td>3</td>\n",
       "      <td>Djokovic</td>\n",
       "      <td>Nadal</td>\n",
       "      <td>False</td>\n",
       "      <td>first</td>\n",
       "      <td>topspin</td>\n",
       "      <td>forehand</td>\n",
       "      <td>1.42</td>\n",
       "      <td>2.33</td>\n",
       "      <td>4.75</td>\n",
       "      <td>26.45</td>\n",
       "      <td>2.92</td>\n",
       "    </tr>\n",
       "  </tbody>\n",
       "</table>\n",
       "</div>"
      ],
      "text/plain": [
       "   rallyid  frameid  strokeid    hitter  receiver  isserve  serve     type  \\\n",
       "0        1    70877         1  Djokovic     Nadal     True  first    serve   \n",
       "1        1    70900         2     Nadal  Djokovic    False  first    slice   \n",
       "2        1    70950         3  Djokovic     Nadal    False  first  topspin   \n",
       "\n",
       "     stroke  hitter_x  hitter_y  receiver_x  receiver_y  time  \n",
       "0  forehand      6.50     -0.24        1.03       27.44  0.00  \n",
       "1  backhand      0.05     25.59        6.17        1.11  0.92  \n",
       "2  forehand      1.42      2.33        4.75       26.45  2.92  "
      ]
     },
     "execution_count": 22,
     "metadata": {},
     "output_type": "execute_result"
    }
   ],
   "source": [
    "temp"
   ]
  },
  {
   "cell_type": "code",
   "execution_count": 23,
   "id": "356055cb",
   "metadata": {},
   "outputs": [],
   "source": [
    "t3 = np.arange(0,1,0.1)"
   ]
  },
  {
   "cell_type": "code",
   "execution_count": 24,
   "id": "93ca1f01",
   "metadata": {},
   "outputs": [],
   "source": [
    "player1 = np.array(player1)\n",
    "player2 = np.array(player2)"
   ]
  },
  {
   "cell_type": "code",
   "execution_count": 25,
   "id": "c9dcbc1d",
   "metadata": {},
   "outputs": [],
   "source": [
    "t2 = []\n",
    "t6 = []\n",
    "for i in t3:\n",
    "    t4 = player1[0]*(1-i) + player1[1] * i\n",
    "    t2.append(t4.T)\n",
    "for i in t3:\n",
    "    t4 = player1[1]*(1-i) + player1[2] * i\n",
    "    t6.append(t4.T)"
   ]
  },
  {
   "cell_type": "code",
   "execution_count": 26,
   "id": "092b21b0",
   "metadata": {},
   "outputs": [],
   "source": [
    "t2 = np.array(t2)"
   ]
  },
  {
   "cell_type": "code",
   "execution_count": 27,
   "id": "861ba590",
   "metadata": {},
   "outputs": [],
   "source": [
    "t6 = np.array(t6)"
   ]
  },
  {
   "cell_type": "code",
   "execution_count": 28,
   "id": "7cf78ced",
   "metadata": {},
   "outputs": [],
   "source": [
    "t5 = np.insert(player1, 1, t2, axis=0)\n",
    "t5 = np.insert(t5, -1, t6, axis=0)"
   ]
  },
  {
   "cell_type": "code",
   "execution_count": 29,
   "id": "693d0ebc",
   "metadata": {},
   "outputs": [],
   "source": [
    "t7 = []\n",
    "t8 = []\n",
    "for i in t3:\n",
    "    t4 = player2[0]*(1-i) + player2[1] * i\n",
    "    t7.append(t4.T)\n",
    "for i in t3:\n",
    "    t4 = player2[1]*(1-i) + player2[2] * i\n",
    "    t8.append(t4.T)"
   ]
  },
  {
   "cell_type": "code",
   "execution_count": 30,
   "id": "60d1b8b3",
   "metadata": {},
   "outputs": [],
   "source": [
    "t7 = np.array(t7)\n",
    "t8 = np.array(t8)\n",
    "t9 = np.insert(player2, 1, t7, axis=0)\n",
    "t9 = np.insert(t9, -1, t8, axis=0)"
   ]
  },
  {
   "cell_type": "code",
   "execution_count": 31,
   "id": "16815746",
   "metadata": {},
   "outputs": [],
   "source": [
    "t10 = []\n",
    "t11 = []\n",
    "for i in t3:\n",
    "    t4 = ball[0]*(1-i) + ball[1] * i\n",
    "    t10.append(t4.T)\n",
    "for i in t3:\n",
    "    t4 = ball[1]*(1-i) + ball[2] * i\n",
    "    t11.append(t4.T)\n",
    "t10 = np.array(t10)\n",
    "t11 = np.array(t11)\n",
    "t12 = np.insert(ball, 1, t10, axis=0)\n",
    "t12 = np.insert(t12, -1, t11, axis=0)"
   ]
  },
  {
   "cell_type": "code",
   "execution_count": 32,
   "id": "21e880ca",
   "metadata": {},
   "outputs": [],
   "source": [
    "player1 = t5\n",
    "player2 = t9\n",
    "ball = t12"
   ]
  },
  {
   "cell_type": "code",
   "execution_count": 33,
   "id": "1b1f4261",
   "metadata": {},
   "outputs": [
    {
     "data": {
      "text/plain": [
       "array([[ 6.5  , -0.24 ],\n",
       "       [ 6.5  , -0.24 ],\n",
       "       [ 5.855,  2.343],\n",
       "       [ 5.21 ,  4.926],\n",
       "       [ 4.565,  7.509],\n",
       "       [ 3.92 , 10.092],\n",
       "       [ 3.275, 12.675],\n",
       "       [ 2.63 , 15.258],\n",
       "       [ 1.985, 17.841],\n",
       "       [ 1.34 , 20.424],\n",
       "       [ 0.695, 23.007],\n",
       "       [ 0.05 , 25.59 ],\n",
       "       [ 0.05 , 25.59 ],\n",
       "       [ 0.237, 25.227],\n",
       "       [ 0.424, 24.864],\n",
       "       [ 0.611, 24.501],\n",
       "       [ 0.798, 24.138],\n",
       "       [ 0.985, 23.775],\n",
       "       [ 1.172, 23.412],\n",
       "       [ 1.359, 23.049],\n",
       "       [ 1.546, 22.686],\n",
       "       [ 1.733, 22.323],\n",
       "       [ 1.92 , 21.96 ]])"
      ]
     },
     "execution_count": 33,
     "metadata": {},
     "output_type": "execute_result"
    }
   ],
   "source": [
    "ball"
   ]
  },
  {
   "cell_type": "code",
   "execution_count": 34,
   "id": "f54cc7b4",
   "metadata": {},
   "outputs": [
    {
     "data": {
      "text/plain": [
       "array([[ 6.5  , -0.24 ],\n",
       "       [ 5.855,  2.343],\n",
       "       [ 5.21 ,  4.926],\n",
       "       [ 4.565,  7.509],\n",
       "       [ 3.92 , 10.092],\n",
       "       [ 3.275, 12.675],\n",
       "       [ 2.63 , 15.258],\n",
       "       [ 1.985, 17.841],\n",
       "       [ 1.34 , 20.424],\n",
       "       [ 0.695, 23.007]])"
      ]
     },
     "execution_count": 34,
     "metadata": {},
     "output_type": "execute_result"
    }
   ],
   "source": [
    "t10"
   ]
  },
  {
   "cell_type": "code",
   "execution_count": 35,
   "id": "c4f55551",
   "metadata": {},
   "outputs": [
    {
     "data": {
      "text/plain": [
       "array([[ 0.05 , 25.59 ],\n",
       "       [ 0.237, 25.227],\n",
       "       [ 0.424, 24.864],\n",
       "       [ 0.611, 24.501],\n",
       "       [ 0.798, 24.138],\n",
       "       [ 0.985, 23.775],\n",
       "       [ 1.172, 23.412],\n",
       "       [ 1.359, 23.049],\n",
       "       [ 1.546, 22.686],\n",
       "       [ 1.733, 22.323]])"
      ]
     },
     "execution_count": 35,
     "metadata": {},
     "output_type": "execute_result"
    }
   ],
   "source": [
    "t11"
   ]
  },
  {
   "cell_type": "code",
   "execution_count": null,
   "id": "a55beadc",
   "metadata": {},
   "outputs": [],
   "source": []
  }
 ],
 "metadata": {
  "kernelspec": {
   "display_name": "Python 3",
   "language": "python",
   "name": "python3"
  },
  "language_info": {
   "codemirror_mode": {
    "name": "ipython",
    "version": 3
   },
   "file_extension": ".py",
   "mimetype": "text/x-python",
   "name": "python",
   "nbconvert_exporter": "python",
   "pygments_lexer": "ipython3",
   "version": "3.9.12"
  }
 },
 "nbformat": 4,
 "nbformat_minor": 5
}
