{
 "cells": [
  {
   "cell_type": "code",
   "execution_count": 1,
   "id": "52145ad8",
   "metadata": {},
   "outputs": [
    {
     "data": {
      "text/html": [
       "        <script type=\"text/javascript\">\n",
       "        window.PlotlyConfig = {MathJaxConfig: 'local'};\n",
       "        if (window.MathJax) {MathJax.Hub.Config({SVG: {font: \"STIX-Web\"}});}\n",
       "        if (typeof require !== 'undefined') {\n",
       "        require.undef(\"plotly\");\n",
       "        requirejs.config({\n",
       "            paths: {\n",
       "                'plotly': ['https://cdn.plot.ly/plotly-2.4.2.min']\n",
       "            }\n",
       "        });\n",
       "        require(['plotly'], function(Plotly) {\n",
       "            window._Plotly = Plotly;\n",
       "        });\n",
       "        }\n",
       "        </script>\n",
       "        "
      ]
     },
     "metadata": {},
     "output_type": "display_data"
    },
    {
     "data": {
      "text/html": [
       "        <script type=\"text/javascript\">\n",
       "        window.PlotlyConfig = {MathJaxConfig: 'local'};\n",
       "        if (window.MathJax) {MathJax.Hub.Config({SVG: {font: \"STIX-Web\"}});}\n",
       "        if (typeof require !== 'undefined') {\n",
       "        require.undef(\"plotly\");\n",
       "        requirejs.config({\n",
       "            paths: {\n",
       "                'plotly': ['https://cdn.plot.ly/plotly-2.4.2.min']\n",
       "            }\n",
       "        });\n",
       "        require(['plotly'], function(Plotly) {\n",
       "            window._Plotly = Plotly;\n",
       "        });\n",
       "        }\n",
       "        </script>\n",
       "        "
      ]
     },
     "metadata": {},
     "output_type": "display_data"
    }
   ],
   "source": [
    "import os\n",
    "import pandas as pd\n",
    "\n",
    "# Plotly and cufflinks for data analysis\n",
    "from plotly.offline import init_notebook_mode, iplot\n",
    "import cufflinks as cf\n",
    "init_notebook_mode(connected=True) \n",
    "\n",
    "cf.set_config_file(theme='ggplot')\n",
    "cf.go_offline()\n",
    "\n",
    "# Matplotlib for drawing the court\n",
    "from matplotlib.patches import Ellipse\n",
    "import plotly.express as px\n",
    "import numpy as np\n",
    "from matplotlib import pyplot as plt\n",
    "from math import pi\n",
    "import plotly.graph_objects as go\n",
    "%matplotlib inline"
   ]
  },
  {
   "cell_type": "code",
   "execution_count": 2,
   "id": "aee9b55b",
   "metadata": {},
   "outputs": [],
   "source": [
    "INPUT_DIR = './Tennis_data'\n",
    "def load_data():\n",
    "    return [pd.read_csv(os.path.join(INPUT_DIR, file_), index_col=0) for file_ in os.listdir(INPUT_DIR)]\n",
    "        \n",
    "rallies, points, events, serves = load_data()"
   ]
  },
  {
   "cell_type": "code",
   "execution_count": 3,
   "id": "9b03310e",
   "metadata": {},
   "outputs": [
    {
     "data": {
      "text/html": [
       "<div>\n",
       "<style scoped>\n",
       "    .dataframe tbody tr th:only-of-type {\n",
       "        vertical-align: middle;\n",
       "    }\n",
       "\n",
       "    .dataframe tbody tr th {\n",
       "        vertical-align: top;\n",
       "    }\n",
       "\n",
       "    .dataframe thead th {\n",
       "        text-align: right;\n",
       "    }\n",
       "</style>\n",
       "<table border=\"1\" class=\"dataframe\">\n",
       "  <thead>\n",
       "    <tr style=\"text-align: right;\">\n",
       "      <th></th>\n",
       "      <th>rallyid</th>\n",
       "      <th>frameid</th>\n",
       "      <th>strokeid</th>\n",
       "      <th>hitter</th>\n",
       "      <th>receiver</th>\n",
       "      <th>isserve</th>\n",
       "      <th>serve</th>\n",
       "      <th>type</th>\n",
       "      <th>stroke</th>\n",
       "      <th>hitter_x</th>\n",
       "      <th>hitter_y</th>\n",
       "      <th>receiver_x</th>\n",
       "      <th>receiver_y</th>\n",
       "      <th>time</th>\n",
       "    </tr>\n",
       "  </thead>\n",
       "  <tbody>\n",
       "    <tr>\n",
       "      <th>0</th>\n",
       "      <td>1</td>\n",
       "      <td>70877</td>\n",
       "      <td>1</td>\n",
       "      <td>Djokovic</td>\n",
       "      <td>Nadal</td>\n",
       "      <td>True</td>\n",
       "      <td>first</td>\n",
       "      <td>serve</td>\n",
       "      <td>forehand</td>\n",
       "      <td>6.50</td>\n",
       "      <td>-0.24</td>\n",
       "      <td>1.03</td>\n",
       "      <td>27.44</td>\n",
       "      <td>0.00</td>\n",
       "    </tr>\n",
       "    <tr>\n",
       "      <th>1</th>\n",
       "      <td>1</td>\n",
       "      <td>70900</td>\n",
       "      <td>2</td>\n",
       "      <td>Nadal</td>\n",
       "      <td>Djokovic</td>\n",
       "      <td>False</td>\n",
       "      <td>first</td>\n",
       "      <td>slice</td>\n",
       "      <td>backhand</td>\n",
       "      <td>0.05</td>\n",
       "      <td>25.59</td>\n",
       "      <td>6.17</td>\n",
       "      <td>1.11</td>\n",
       "      <td>0.92</td>\n",
       "    </tr>\n",
       "    <tr>\n",
       "      <th>2</th>\n",
       "      <td>1</td>\n",
       "      <td>70950</td>\n",
       "      <td>3</td>\n",
       "      <td>Djokovic</td>\n",
       "      <td>Nadal</td>\n",
       "      <td>False</td>\n",
       "      <td>first</td>\n",
       "      <td>topspin</td>\n",
       "      <td>forehand</td>\n",
       "      <td>1.42</td>\n",
       "      <td>2.33</td>\n",
       "      <td>4.75</td>\n",
       "      <td>26.45</td>\n",
       "      <td>2.92</td>\n",
       "    </tr>\n",
       "    <tr>\n",
       "      <th>3</th>\n",
       "      <td>2</td>\n",
       "      <td>71488</td>\n",
       "      <td>1</td>\n",
       "      <td>Djokovic</td>\n",
       "      <td>Nadal</td>\n",
       "      <td>True</td>\n",
       "      <td>first</td>\n",
       "      <td>serve</td>\n",
       "      <td>forehand</td>\n",
       "      <td>4.48</td>\n",
       "      <td>-0.01</td>\n",
       "      <td>7.90</td>\n",
       "      <td>26.83</td>\n",
       "      <td>24.44</td>\n",
       "    </tr>\n",
       "    <tr>\n",
       "      <th>4</th>\n",
       "      <td>3</td>\n",
       "      <td>71796</td>\n",
       "      <td>1</td>\n",
       "      <td>Djokovic</td>\n",
       "      <td>Nadal</td>\n",
       "      <td>True</td>\n",
       "      <td>second</td>\n",
       "      <td>serve</td>\n",
       "      <td>forehand</td>\n",
       "      <td>4.48</td>\n",
       "      <td>-0.37</td>\n",
       "      <td>7.88</td>\n",
       "      <td>26.47</td>\n",
       "      <td>36.76</td>\n",
       "    </tr>\n",
       "  </tbody>\n",
       "</table>\n",
       "</div>"
      ],
      "text/plain": [
       "   rallyid  frameid  strokeid    hitter  receiver  isserve   serve     type  \\\n",
       "0        1    70877         1  Djokovic     Nadal     True   first    serve   \n",
       "1        1    70900         2     Nadal  Djokovic    False   first    slice   \n",
       "2        1    70950         3  Djokovic     Nadal    False   first  topspin   \n",
       "3        2    71488         1  Djokovic     Nadal     True   first    serve   \n",
       "4        3    71796         1  Djokovic     Nadal     True  second    serve   \n",
       "\n",
       "     stroke  hitter_x  hitter_y  receiver_x  receiver_y   time  \n",
       "0  forehand      6.50     -0.24        1.03       27.44   0.00  \n",
       "1  backhand      0.05     25.59        6.17        1.11   0.92  \n",
       "2  forehand      1.42      2.33        4.75       26.45   2.92  \n",
       "3  forehand      4.48     -0.01        7.90       26.83  24.44  \n",
       "4  forehand      4.48     -0.37        7.88       26.47  36.76  "
      ]
     },
     "execution_count": 3,
     "metadata": {},
     "output_type": "execute_result"
    }
   ],
   "source": [
    "# events\n",
    "events.head()"
   ]
  },
  {
   "cell_type": "code",
   "execution_count": 4,
   "id": "d90c7e2e",
   "metadata": {},
   "outputs": [
    {
     "data": {
      "text/html": [
       "<div>\n",
       "<style scoped>\n",
       "    .dataframe tbody tr th:only-of-type {\n",
       "        vertical-align: middle;\n",
       "    }\n",
       "\n",
       "    .dataframe tbody tr th {\n",
       "        vertical-align: top;\n",
       "    }\n",
       "\n",
       "    .dataframe thead th {\n",
       "        text-align: right;\n",
       "    }\n",
       "</style>\n",
       "<table border=\"1\" class=\"dataframe\">\n",
       "  <thead>\n",
       "    <tr style=\"text-align: right;\">\n",
       "      <th></th>\n",
       "      <th>rallyid</th>\n",
       "      <th>server</th>\n",
       "      <th>returner</th>\n",
       "      <th>winner</th>\n",
       "      <th>reason</th>\n",
       "      <th>serve</th>\n",
       "      <th>strokes</th>\n",
       "      <th>totaltime</th>\n",
       "      <th>x</th>\n",
       "      <th>y</th>\n",
       "      <th>score</th>\n",
       "    </tr>\n",
       "  </thead>\n",
       "  <tbody>\n",
       "    <tr>\n",
       "      <th>0</th>\n",
       "      <td>1</td>\n",
       "      <td>Djokovic</td>\n",
       "      <td>Nadal</td>\n",
       "      <td>Djokovic</td>\n",
       "      <td>winner</td>\n",
       "      <td>first</td>\n",
       "      <td>3</td>\n",
       "      <td>0.92</td>\n",
       "      <td>1.92</td>\n",
       "      <td>21.96</td>\n",
       "      <td>0:0, 15:0</td>\n",
       "    </tr>\n",
       "    <tr>\n",
       "      <th>2</th>\n",
       "      <td>3</td>\n",
       "      <td>Djokovic</td>\n",
       "      <td>Nadal</td>\n",
       "      <td>Djokovic</td>\n",
       "      <td>out</td>\n",
       "      <td>second</td>\n",
       "      <td>4</td>\n",
       "      <td>4.16</td>\n",
       "      <td>3.33</td>\n",
       "      <td>-0.39</td>\n",
       "      <td>0:0, 30:0</td>\n",
       "    </tr>\n",
       "    <tr>\n",
       "      <th>4</th>\n",
       "      <td>5</td>\n",
       "      <td>Djokovic</td>\n",
       "      <td>Nadal</td>\n",
       "      <td>Djokovic</td>\n",
       "      <td>ace</td>\n",
       "      <td>second</td>\n",
       "      <td>2</td>\n",
       "      <td>0.40</td>\n",
       "      <td>1.62</td>\n",
       "      <td>17.18</td>\n",
       "      <td>0:0, 40:0</td>\n",
       "    </tr>\n",
       "    <tr>\n",
       "      <th>5</th>\n",
       "      <td>6</td>\n",
       "      <td>Djokovic</td>\n",
       "      <td>Nadal</td>\n",
       "      <td>Djokovic</td>\n",
       "      <td>net</td>\n",
       "      <td>first</td>\n",
       "      <td>10</td>\n",
       "      <td>10.40</td>\n",
       "      <td>6.41</td>\n",
       "      <td>12.78</td>\n",
       "      <td>1:0, 0:0</td>\n",
       "    </tr>\n",
       "    <tr>\n",
       "      <th>7</th>\n",
       "      <td>8</td>\n",
       "      <td>Nadal</td>\n",
       "      <td>Djokovic</td>\n",
       "      <td>Djokovic</td>\n",
       "      <td>out</td>\n",
       "      <td>second</td>\n",
       "      <td>7</td>\n",
       "      <td>7.20</td>\n",
       "      <td>0.50</td>\n",
       "      <td>18.67</td>\n",
       "      <td>1:0, 15:0</td>\n",
       "    </tr>\n",
       "  </tbody>\n",
       "</table>\n",
       "</div>"
      ],
      "text/plain": [
       "   rallyid    server  returner    winner  reason   serve  strokes  totaltime  \\\n",
       "0        1  Djokovic     Nadal  Djokovic  winner   first        3       0.92   \n",
       "2        3  Djokovic     Nadal  Djokovic     out  second        4       4.16   \n",
       "4        5  Djokovic     Nadal  Djokovic     ace  second        2       0.40   \n",
       "5        6  Djokovic     Nadal  Djokovic     net   first       10      10.40   \n",
       "7        8     Nadal  Djokovic  Djokovic     out  second        7       7.20   \n",
       "\n",
       "      x      y      score  \n",
       "0  1.92  21.96  0:0, 15:0  \n",
       "2  3.33  -0.39  0:0, 30:0  \n",
       "4  1.62  17.18  0:0, 40:0  \n",
       "5  6.41  12.78   1:0, 0:0  \n",
       "7  0.50  18.67  1:0, 15:0  "
      ]
     },
     "execution_count": 4,
     "metadata": {},
     "output_type": "execute_result"
    }
   ],
   "source": [
    "points.head()"
   ]
  },
  {
   "cell_type": "code",
   "execution_count": 5,
   "id": "5ac6c124",
   "metadata": {},
   "outputs": [],
   "source": [
    "temp = events.merge(right=points, how='left', left_on='rallyid', right_on='rallyid')"
   ]
  },
  {
   "cell_type": "code",
   "execution_count": 6,
   "id": "246d1211",
   "metadata": {},
   "outputs": [],
   "source": [
    "def linear_interpolate_data(data):\n",
    "    data = np.array(data)\n",
    "    interpolate_values = np.arange(0,1,0.1)\n",
    "    ret = []\n",
    "    for i in range(0,len(data)-1):\n",
    "        for j in interpolate_values:\n",
    "            temp = data[i]*(1-j) + data[i+1] * j\n",
    "            ret.append(temp.T)\n",
    "    ret = np.array(ret)\n",
    "    return ret"
   ]
  },
  {
   "cell_type": "code",
   "execution_count": 7,
   "id": "355fb316",
   "metadata": {},
   "outputs": [],
   "source": [
    "def add_padding(data, amt_to_pad, where_to_insert):\n",
    "    data = np.array(data)\n",
    "    padding = [data[where_to_insert]] * amt_to_pad\n",
    "    data = np.insert(data, where_to_insert, padding, axis=0)\n",
    "    return data"
   ]
  },
  {
   "cell_type": "code",
   "execution_count": 8,
   "id": "10c2d8a5",
   "metadata": {},
   "outputs": [],
   "source": [
    "import itertools"
   ]
  },
  {
   "cell_type": "code",
   "execution_count": 9,
   "id": "dba07f36",
   "metadata": {},
   "outputs": [],
   "source": [
    "def pad_rally_meta_data(data, amt_to_pad, num_strokes):\n",
    "    data = np.array(data)\n",
    "    temp = []\n",
    "    for i in range(0, len(data)):\n",
    "        temp.append([data[i]] * amt_to_pad)\n",
    "    for i in range(0, len(temp)):\n",
    "        data = np.insert(data, i*amt_to_pad, temp[i], axis=0)\n",
    "    data = np.insert(data, len(data), data[-1], axis=0)\n",
    "    data.resize((len(data) - num_strokes), 8)\n",
    "    return np.array(data)"
   ]
  },
  {
   "cell_type": "code",
   "execution_count": 10,
   "id": "e34606dc",
   "metadata": {},
   "outputs": [],
   "source": [
    "def extract_rally_data(data_extract, rally_id):\n",
    "    player1 = []\n",
    "    player2 = []\n",
    "    ball = []\n",
    "    rally_metadata = []\n",
    "    data = data_extract.loc[events['rallyid'] == rally_id]\n",
    "    data = data.reset_index()\n",
    "    for i in range(0, len(data)):\n",
    "        x1 = 0\n",
    "        x2 = 0\n",
    "        y1 = 0\n",
    "        y2 = 0\n",
    "        if i % 2 == 0:\n",
    "            x1 = data.loc[i, 'hitter_x']\n",
    "            y1 = data.loc[i, 'hitter_y']\n",
    "            x2 = data.loc[i, 'receiver_x']\n",
    "            y2 = data.loc[i, 'receiver_y']\n",
    "            ball.append(np.asarray([x1,y1]))\n",
    "        else:\n",
    "            x2 = data.loc[i, 'hitter_x']\n",
    "            y2 = data.loc[i, 'hitter_y']\n",
    "            x1 = data.loc[i, 'receiver_x']\n",
    "            y1 = data.loc[i, 'receiver_y']\n",
    "            ball.append(np.asarray([x2, y2]))\n",
    "        player1.append(np.asarray([x1, y1]))\n",
    "        player2.append(np.asarray([x2, y2]))\n",
    "        rally_metadata.append([\"type \"+str(data.loc[i, 'type']), \"stroke \"+str(data.loc[i, 'stroke']), \n",
    "                              \"hitter \"+str(data.loc[i, 'hitter']), \"rallyid \"+str(data.loc[i, 'rallyid']),\n",
    "                              \"strokeid \"+str(data.loc[i, 'strokeid']), \"server \"+str(data.loc[i, 'server']),\n",
    "                              \"1st/2nd serve \"+str(data.loc[i, 'serve_x']), \"score \"+str(data.loc[i, 'score'])])\n",
    "    player1 = linear_interpolate_data(player1)\n",
    "    player1 = add_padding(player1, 11, -1)\n",
    "    player2 = linear_interpolate_data(player2)\n",
    "    player2 = add_padding(player2, 11, -1)\n",
    "    ball.append(np.asarray([data.loc[0, 'x'], data.loc[0, 'y']]))\n",
    "    ball = linear_interpolate_data(ball)\n",
    "    ball = np.insert(ball, len(ball), np.asarray([data.loc[0, 'x'], data.loc[0, 'y']]), axis=0)\n",
    "    rally_metadata = pad_rally_meta_data(rally_metadata, 10, data.shape[0])\n",
    "    return player1, player2, ball, rally_metadata"
   ]
  },
  {
   "cell_type": "code",
   "execution_count": 11,
   "id": "a87238a4",
   "metadata": {},
   "outputs": [],
   "source": [
    "def create_figure(data, rally_id):\n",
    "    player1, player2, ball, rally_metadata = extract_rally_data(data, rally_id)\n",
    "\n",
    "    height_court = 10.97\n",
    "    width_court = 11.89*2\n",
    "    service_box = 6.4\n",
    "    double_field = 1.37\n",
    "    baseline_serviceline = 5.5\n",
    "    breite_einzel = 8.23\n",
    "    serviceline_net = 6.4\n",
    "    colors=['red', 'cyan']\n",
    "\n",
    "    # Create figure\n",
    "    fig = go.Figure(\n",
    "        data=[\n",
    "            go.Scatter(x=[-10], y=[-10], name=\"\"),\n",
    "            go.Scatter(x=[-10], y=[-10], name=\"\"),\n",
    "            go.Scatter(x=[-10], y=[-10], name=\"\"),\n",
    "            go.Scatter(x=[-10], y=[-10], name=\"\"),\n",
    "            go.Scatter(x=[-10], y=[-10], name=\"\"),\n",
    "            go.Scatter(x=[-10], y=[-10], name=\"\"),\n",
    "            go.Scatter(x=[-10], y=[-10], name=\"\"),\n",
    "            go.Scatter(x=[-10], y=[-10], name=\"\"),\n",
    "            go.Scatter(x=[-10], y=[-10], name=\"\"),\n",
    "            go.Scatter(x=[-10], y=[-10], name=\"\"),\n",
    "            go.Scatter(x=[height_court, 0], y=[width_court/2, width_court/2],\n",
    "                         mode=\"lines\",\n",
    "                         line=dict(width=2, color=\"white\"), name=\"\"),\n",
    "              go.Scatter(x=[0,0, height_court, height_court, 0],\n",
    "                         y=[0,width_court,width_court, 0, 0],\n",
    "                         mode=\"lines\",\n",
    "                         line=dict(width=2, color=\"white\"), name=\"\"),\n",
    "              go.Scatter(x=[height_court/2, width_court/2-service_box],\n",
    "                         y=[height_court/2, width_court/2+service_box],\n",
    "                        mode=\"lines\",\n",
    "                        line=dict(width=2, color=\"white\"), name=\"\"),\n",
    "              go.Scatter(x=[height_court/2, height_court/2], y=[0, 0 + 0.45],\n",
    "                        mode=\"lines\",\n",
    "                        line=dict(width=2, color=\"white\"), name=\"\"),\n",
    "              go.Scatter(x=[height_court/2, height_court/2], y=[width_court, width_court - 0.45],\n",
    "                mode=\"lines\",\n",
    "                line=dict(width=2, color=\"white\"), name=\"\"),\n",
    "             go.Scatter(x=[1.37, 1.37], y=[0, width_court],\n",
    "                mode=\"lines\",\n",
    "                line=dict(width=2, color=\"white\"), name=\"\"),\n",
    "            go.Scatter(x=[height_court-1.37, height_court-1.37], y=[0, width_court],\n",
    "                mode=\"lines\",\n",
    "                line=dict(width=2, color=\"white\"), name=\"\"),\n",
    "            go.Scatter(x=[0+double_field,0+double_field, \n",
    "                          height_court-1.37, height_court-1.37, 0+double_field],\n",
    "                       y=[baseline_serviceline, width_court/2+service_box, \n",
    "                          width_court/2+service_box, baseline_serviceline, baseline_serviceline],\n",
    "                mode=\"lines\",\n",
    "                line=dict(width=2, color=\"white\"), name=\"\"),\n",
    "            go.Scatter(\n",
    "                 x=[-5],\n",
    "                 y=[20],\n",
    "                 mode='text',\n",
    "                textfont=dict(color='white', size=12),\n",
    "                 text=rally_metadata[0][7], name=\"\"),\n",
    "            go.Scatter(\n",
    "                 x=[-5],\n",
    "                 y=[16],\n",
    "                 mode='text',\n",
    "                textfont=dict(color='white', size=12),\n",
    "                 text=rally_metadata[0][6], name=\"\"),\n",
    "                 go.Scatter(\n",
    "                 x=[-5],\n",
    "                 y=[18],\n",
    "                 mode='text',\n",
    "                textfont=dict(color='white', size=12),\n",
    "                 text=rally_metadata[0][5], name=\"\"),\n",
    "                 go.Scatter(\n",
    "                 x=[-5],\n",
    "                 y=[14],\n",
    "                 mode='text',\n",
    "                     textfont=dict(color='white', size=12),\n",
    "                 text=rally_metadata[0][3], name=\"\")\n",
    "              ],\n",
    "        layout=go.Layout(\n",
    "            xaxis=dict(range=[-9, height_court+2], autorange=False, zeroline=False, showgrid=False),\n",
    "            yaxis=dict(range=[-6.5, width_court+6.5], \n",
    "                       autorange=False, zeroline=False, showgrid=False, ),\n",
    "            height=800,\n",
    "            width=550,\n",
    "            title_text=\"Tennis Point\",\n",
    "            plot_bgcolor=\"#5080B0\",\n",
    "            updatemenus = [\n",
    "        {\n",
    "            \"buttons\": [\n",
    "                {\n",
    "                    \"args\": [None, {\"frame\": {\"duration\": 100, \"redraw\": True},\n",
    "                                    \"fromcurrent\": True, \"transition\": {\"duration\": 300,\n",
    "                                                                        \"easing\": \"quadratic-in-out\"}}],\n",
    "                    \"label\": \"Play\",\n",
    "                    \"method\": \"animate\"\n",
    "                },\n",
    "                {\n",
    "                    \"args\": [[None],{\"frame\": {\"duration\": 0, \"redraw\": True},\n",
    "                                      \"mode\": \"immediate\",\n",
    "                                      \"transition\": {\"duration\": 0}}],\n",
    "                    \"label\": \"Pause\",\n",
    "                    \"method\": \"animate\"\n",
    "                }\n",
    "            ],\n",
    "            \"direction\": \"left\",\n",
    "            \"pad\": {\"r\": 10, \"t\": 87},\n",
    "            \"showactive\": True,\n",
    "            \"type\": \"buttons\",\n",
    "            \"x\": 0.1,\n",
    "            \"xanchor\": \"right\",\n",
    "            \"y\": 0,\n",
    "            \"yanchor\": \"top\"\n",
    "        }\n",
    "    ]),\n",
    "\n",
    "        frames=[go.Frame(\n",
    "            data=[go.Scatter(\n",
    "                x=[player1[k][0]],\n",
    "                y=[player1[k][1]],\n",
    "                mode=\"markers\",\n",
    "                marker=dict(color=\"orangered\", size=10),\n",
    "                name=\"Player 1\"),\n",
    "                 go.Scatter(\n",
    "                x=[player2[k][0]],\n",
    "                y=[player2[k][1]],\n",
    "                mode=\"markers\",\n",
    "                marker=dict(color=\"aquamarine\", size=10),\n",
    "                 name=\"Player 2\"),\n",
    "                  go.Scatter(\n",
    "                x=[ball[k][0]],\n",
    "                y=[ball[k][1]],\n",
    "                mode=\"markers\",\n",
    "                marker=dict(color=\"yellow\", size=10)),\n",
    "                 go.Scatter(\n",
    "                 x=[-5],\n",
    "                 y=[6],\n",
    "                 mode='text',\n",
    "                     textfont=dict(color='white', size=12),\n",
    "                 text=rally_metadata[k][0], name=\"\"),\n",
    "                 go.Scatter(\n",
    "                 x=[-5],\n",
    "                 y=[8],\n",
    "                 mode='text',\n",
    "                     textfont=dict(color='white', size=12),\n",
    "                 text=rally_metadata[k][1], name=\"\"),\n",
    "                 go.Scatter(\n",
    "                 x=[-5],\n",
    "                 y=[10],\n",
    "                 mode='text',\n",
    "                     textfont=dict(color='white', size=12),\n",
    "                 text=rally_metadata[k][2], name=\"\"),\n",
    "                 go.Scatter(\n",
    "                 x=[-5],\n",
    "                 y=[12],\n",
    "                 mode='text',\n",
    "                     textfont=dict(color='white', size=12),\n",
    "                 text=rally_metadata[k][4])], name=\"\")\n",
    "            for k in range(len(player1))]\n",
    "    )\n",
    "    return fig"
   ]
  },
  {
   "cell_type": "code",
   "execution_count": 12,
   "id": "f092ce4b",
   "metadata": {},
   "outputs": [],
   "source": [
    "fig = create_figure(temp, 8)"
   ]
  },
  {
   "cell_type": "code",
   "execution_count": 13,
   "id": "f7fca98f",
   "metadata": {},
   "outputs": [
    {
     "data": {
      "application/vnd.plotly.v1+json": {
       "config": {
        "plotlyServerURL": "https://plot.ly"
       },
       "data": [
        {
         "name": "",
         "type": "scatter",
         "x": [
          -10
         ],
         "y": [
          -10
         ]
        },
        {
         "name": "",
         "type": "scatter",
         "x": [
          -10
         ],
         "y": [
          -10
         ]
        },
        {
         "name": "",
         "type": "scatter",
         "x": [
          -10
         ],
         "y": [
          -10
         ]
        },
        {
         "name": "",
         "type": "scatter",
         "x": [
          -10
         ],
         "y": [
          -10
         ]
        },
        {
         "name": "",
         "type": "scatter",
         "x": [
          -10
         ],
         "y": [
          -10
         ]
        },
        {
         "name": "",
         "type": "scatter",
         "x": [
          -10
         ],
         "y": [
          -10
         ]
        },
        {
         "name": "",
         "type": "scatter",
         "x": [
          -10
         ],
         "y": [
          -10
         ]
        },
        {
         "name": "",
         "type": "scatter",
         "x": [
          -10
         ],
         "y": [
          -10
         ]
        },
        {
         "name": "",
         "type": "scatter",
         "x": [
          -10
         ],
         "y": [
          -10
         ]
        },
        {
         "name": "",
         "type": "scatter",
         "x": [
          -10
         ],
         "y": [
          -10
         ]
        },
        {
         "line": {
          "color": "white",
          "width": 2
         },
         "mode": "lines",
         "name": "",
         "type": "scatter",
         "x": [
          10.97,
          0
         ],
         "y": [
          11.89,
          11.89
         ]
        },
        {
         "line": {
          "color": "white",
          "width": 2
         },
         "mode": "lines",
         "name": "",
         "type": "scatter",
         "x": [
          0,
          0,
          10.97,
          10.97,
          0
         ],
         "y": [
          0,
          23.78,
          23.78,
          0,
          0
         ]
        },
        {
         "line": {
          "color": "white",
          "width": 2
         },
         "mode": "lines",
         "name": "",
         "type": "scatter",
         "x": [
          5.485,
          5.49
         ],
         "y": [
          5.485,
          18.29
         ]
        },
        {
         "line": {
          "color": "white",
          "width": 2
         },
         "mode": "lines",
         "name": "",
         "type": "scatter",
         "x": [
          5.485,
          5.485
         ],
         "y": [
          0,
          0.45
         ]
        },
        {
         "line": {
          "color": "white",
          "width": 2
         },
         "mode": "lines",
         "name": "",
         "type": "scatter",
         "x": [
          5.485,
          5.485
         ],
         "y": [
          23.78,
          23.330000000000002
         ]
        },
        {
         "line": {
          "color": "white",
          "width": 2
         },
         "mode": "lines",
         "name": "",
         "type": "scatter",
         "x": [
          1.37,
          1.37
         ],
         "y": [
          0,
          23.78
         ]
        },
        {
         "line": {
          "color": "white",
          "width": 2
         },
         "mode": "lines",
         "name": "",
         "type": "scatter",
         "x": [
          9.600000000000001,
          9.600000000000001
         ],
         "y": [
          0,
          23.78
         ]
        },
        {
         "line": {
          "color": "white",
          "width": 2
         },
         "mode": "lines",
         "name": "",
         "type": "scatter",
         "x": [
          1.37,
          1.37,
          9.600000000000001,
          9.600000000000001,
          1.37
         ],
         "y": [
          5.5,
          18.29,
          18.29,
          5.5,
          5.5
         ]
        },
        {
         "mode": "text",
         "name": "",
         "text": "score 1:0, 15:0",
         "textfont": {
          "color": "white",
          "size": 12
         },
         "type": "scatter",
         "x": [
          -5
         ],
         "y": [
          20
         ]
        },
        {
         "mode": "text",
         "name": "",
         "text": "1st/2nd serve second",
         "textfont": {
          "color": "white",
          "size": 12
         },
         "type": "scatter",
         "x": [
          -5
         ],
         "y": [
          16
         ]
        },
        {
         "mode": "text",
         "name": "",
         "text": "server Nadal",
         "textfont": {
          "color": "white",
          "size": 12
         },
         "type": "scatter",
         "x": [
          -5
         ],
         "y": [
          18
         ]
        },
        {
         "mode": "text",
         "name": "",
         "text": "rallyid 8",
         "textfont": {
          "color": "white",
          "size": 12
         },
         "type": "scatter",
         "x": [
          -5
         ],
         "y": [
          14
         ]
        }
       ],
       "frames": [
        {
         "data": [
          {
           "marker": {
            "color": "orangered",
            "size": 10
           },
           "mode": "markers",
           "name": "Player 1",
           "type": "scatter",
           "x": [
            5.48
           ],
           "y": [
            -0.4
           ]
          },
          {
           "marker": {
            "color": "aquamarine",
            "size": 10
           },
           "mode": "markers",
           "name": "Player 2",
           "type": "scatter",
           "x": [
            1.64
           ],
           "y": [
            23.86
           ]
          },
          {
           "marker": {
            "color": "yellow",
            "size": 10
           },
           "mode": "markers",
           "type": "scatter",
           "x": [
            5.48
           ],
           "y": [
            -0.4
           ]
          },
          {
           "mode": "text",
           "name": "",
           "text": "type serve",
           "textfont": {
            "color": "white",
            "size": 12
           },
           "type": "scatter",
           "x": [
            -5
           ],
           "y": [
            6
           ]
          },
          {
           "mode": "text",
           "name": "",
           "text": "stroke forehand",
           "textfont": {
            "color": "white",
            "size": 12
           },
           "type": "scatter",
           "x": [
            -5
           ],
           "y": [
            8
           ]
          },
          {
           "mode": "text",
           "name": "",
           "text": "hitter Nadal",
           "textfont": {
            "color": "white",
            "size": 12
           },
           "type": "scatter",
           "x": [
            -5
           ],
           "y": [
            10
           ]
          },
          {
           "mode": "text",
           "text": "strokeid 1",
           "textfont": {
            "color": "white",
            "size": 12
           },
           "type": "scatter",
           "x": [
            -5
           ],
           "y": [
            12
           ]
          }
         ],
         "name": ""
        },
        {
         "data": [
          {
           "marker": {
            "color": "orangered",
            "size": 10
           },
           "mode": "markers",
           "name": "Player 1",
           "type": "scatter",
           "x": [
            5.515000000000001
           ],
           "y": [
            -0.23100000000000004
           ]
          },
          {
           "marker": {
            "color": "aquamarine",
            "size": 10
           },
           "mode": "markers",
           "name": "Player 2",
           "type": "scatter",
           "x": [
            1.858
           ],
           "y": [
            23.907
           ]
          },
          {
           "marker": {
            "color": "yellow",
            "size": 10
           },
           "mode": "markers",
           "type": "scatter",
           "x": [
            5.314
           ],
           "y": [
            2.073
           ]
          },
          {
           "mode": "text",
           "name": "",
           "text": "type serve",
           "textfont": {
            "color": "white",
            "size": 12
           },
           "type": "scatter",
           "x": [
            -5
           ],
           "y": [
            6
           ]
          },
          {
           "mode": "text",
           "name": "",
           "text": "stroke forehand",
           "textfont": {
            "color": "white",
            "size": 12
           },
           "type": "scatter",
           "x": [
            -5
           ],
           "y": [
            8
           ]
          },
          {
           "mode": "text",
           "name": "",
           "text": "hitter Nadal",
           "textfont": {
            "color": "white",
            "size": 12
           },
           "type": "scatter",
           "x": [
            -5
           ],
           "y": [
            10
           ]
          },
          {
           "mode": "text",
           "text": "strokeid 1",
           "textfont": {
            "color": "white",
            "size": 12
           },
           "type": "scatter",
           "x": [
            -5
           ],
           "y": [
            12
           ]
          }
         ],
         "name": ""
        },
        {
         "data": [
          {
           "marker": {
            "color": "orangered",
            "size": 10
           },
           "mode": "markers",
           "name": "Player 1",
           "type": "scatter",
           "x": [
            5.550000000000001
           ],
           "y": [
            -0.062000000000000055
           ]
          },
          {
           "marker": {
            "color": "aquamarine",
            "size": 10
           },
           "mode": "markers",
           "name": "Player 2",
           "type": "scatter",
           "x": [
            2.076
           ],
           "y": [
            23.954
           ]
          },
          {
           "marker": {
            "color": "yellow",
            "size": 10
           },
           "mode": "markers",
           "type": "scatter",
           "x": [
            5.148000000000001
           ],
           "y": [
            4.545999999999999
           ]
          },
          {
           "mode": "text",
           "name": "",
           "text": "type serve",
           "textfont": {
            "color": "white",
            "size": 12
           },
           "type": "scatter",
           "x": [
            -5
           ],
           "y": [
            6
           ]
          },
          {
           "mode": "text",
           "name": "",
           "text": "stroke forehand",
           "textfont": {
            "color": "white",
            "size": 12
           },
           "type": "scatter",
           "x": [
            -5
           ],
           "y": [
            8
           ]
          },
          {
           "mode": "text",
           "name": "",
           "text": "hitter Nadal",
           "textfont": {
            "color": "white",
            "size": 12
           },
           "type": "scatter",
           "x": [
            -5
           ],
           "y": [
            10
           ]
          },
          {
           "mode": "text",
           "text": "strokeid 1",
           "textfont": {
            "color": "white",
            "size": 12
           },
           "type": "scatter",
           "x": [
            -5
           ],
           "y": [
            12
           ]
          }
         ],
         "name": ""
        },
        {
         "data": [
          {
           "marker": {
            "color": "orangered",
            "size": 10
           },
           "mode": "markers",
           "name": "Player 1",
           "type": "scatter",
           "x": [
            5.585
           ],
           "y": [
            0.1070000000000001
           ]
          },
          {
           "marker": {
            "color": "aquamarine",
            "size": 10
           },
           "mode": "markers",
           "name": "Player 2",
           "type": "scatter",
           "x": [
            2.294
           ],
           "y": [
            24.000999999999998
           ]
          },
          {
           "marker": {
            "color": "yellow",
            "size": 10
           },
           "mode": "markers",
           "type": "scatter",
           "x": [
            4.982
           ],
           "y": [
            7.019
           ]
          },
          {
           "mode": "text",
           "name": "",
           "text": "type serve",
           "textfont": {
            "color": "white",
            "size": 12
           },
           "type": "scatter",
           "x": [
            -5
           ],
           "y": [
            6
           ]
          },
          {
           "mode": "text",
           "name": "",
           "text": "stroke forehand",
           "textfont": {
            "color": "white",
            "size": 12
           },
           "type": "scatter",
           "x": [
            -5
           ],
           "y": [
            8
           ]
          },
          {
           "mode": "text",
           "name": "",
           "text": "hitter Nadal",
           "textfont": {
            "color": "white",
            "size": 12
           },
           "type": "scatter",
           "x": [
            -5
           ],
           "y": [
            10
           ]
          },
          {
           "mode": "text",
           "text": "strokeid 1",
           "textfont": {
            "color": "white",
            "size": 12
           },
           "type": "scatter",
           "x": [
            -5
           ],
           "y": [
            12
           ]
          }
         ],
         "name": ""
        },
        {
         "data": [
          {
           "marker": {
            "color": "orangered",
            "size": 10
           },
           "mode": "markers",
           "name": "Player 1",
           "type": "scatter",
           "x": [
            5.620000000000001
           ],
           "y": [
            0.276
           ]
          },
          {
           "marker": {
            "color": "aquamarine",
            "size": 10
           },
           "mode": "markers",
           "name": "Player 2",
           "type": "scatter",
           "x": [
            2.512
           ],
           "y": [
            24.048
           ]
          },
          {
           "marker": {
            "color": "yellow",
            "size": 10
           },
           "mode": "markers",
           "type": "scatter",
           "x": [
            4.816000000000001
           ],
           "y": [
            9.491999999999999
           ]
          },
          {
           "mode": "text",
           "name": "",
           "text": "type serve",
           "textfont": {
            "color": "white",
            "size": 12
           },
           "type": "scatter",
           "x": [
            -5
           ],
           "y": [
            6
           ]
          },
          {
           "mode": "text",
           "name": "",
           "text": "stroke forehand",
           "textfont": {
            "color": "white",
            "size": 12
           },
           "type": "scatter",
           "x": [
            -5
           ],
           "y": [
            8
           ]
          },
          {
           "mode": "text",
           "name": "",
           "text": "hitter Nadal",
           "textfont": {
            "color": "white",
            "size": 12
           },
           "type": "scatter",
           "x": [
            -5
           ],
           "y": [
            10
           ]
          },
          {
           "mode": "text",
           "text": "strokeid 1",
           "textfont": {
            "color": "white",
            "size": 12
           },
           "type": "scatter",
           "x": [
            -5
           ],
           "y": [
            12
           ]
          }
         ],
         "name": ""
        },
        {
         "data": [
          {
           "marker": {
            "color": "orangered",
            "size": 10
           },
           "mode": "markers",
           "name": "Player 1",
           "type": "scatter",
           "x": [
            5.655
           ],
           "y": [
            0.445
           ]
          },
          {
           "marker": {
            "color": "aquamarine",
            "size": 10
           },
           "mode": "markers",
           "name": "Player 2",
           "type": "scatter",
           "x": [
            2.73
           ],
           "y": [
            24.095
           ]
          },
          {
           "marker": {
            "color": "yellow",
            "size": 10
           },
           "mode": "markers",
           "type": "scatter",
           "x": [
            4.65
           ],
           "y": [
            11.965
           ]
          },
          {
           "mode": "text",
           "name": "",
           "text": "type serve",
           "textfont": {
            "color": "white",
            "size": 12
           },
           "type": "scatter",
           "x": [
            -5
           ],
           "y": [
            6
           ]
          },
          {
           "mode": "text",
           "name": "",
           "text": "stroke forehand",
           "textfont": {
            "color": "white",
            "size": 12
           },
           "type": "scatter",
           "x": [
            -5
           ],
           "y": [
            8
           ]
          },
          {
           "mode": "text",
           "name": "",
           "text": "hitter Nadal",
           "textfont": {
            "color": "white",
            "size": 12
           },
           "type": "scatter",
           "x": [
            -5
           ],
           "y": [
            10
           ]
          },
          {
           "mode": "text",
           "text": "strokeid 1",
           "textfont": {
            "color": "white",
            "size": 12
           },
           "type": "scatter",
           "x": [
            -5
           ],
           "y": [
            12
           ]
          }
         ],
         "name": ""
        },
        {
         "data": [
          {
           "marker": {
            "color": "orangered",
            "size": 10
           },
           "mode": "markers",
           "name": "Player 1",
           "type": "scatter",
           "x": [
            5.69
           ],
           "y": [
            0.6140000000000001
           ]
          },
          {
           "marker": {
            "color": "aquamarine",
            "size": 10
           },
           "mode": "markers",
           "name": "Player 2",
           "type": "scatter",
           "x": [
            2.948
           ],
           "y": [
            24.141999999999996
           ]
          },
          {
           "marker": {
            "color": "yellow",
            "size": 10
           },
           "mode": "markers",
           "type": "scatter",
           "x": [
            4.484
           ],
           "y": [
            14.438
           ]
          },
          {
           "mode": "text",
           "name": "",
           "text": "type serve",
           "textfont": {
            "color": "white",
            "size": 12
           },
           "type": "scatter",
           "x": [
            -5
           ],
           "y": [
            6
           ]
          },
          {
           "mode": "text",
           "name": "",
           "text": "stroke forehand",
           "textfont": {
            "color": "white",
            "size": 12
           },
           "type": "scatter",
           "x": [
            -5
           ],
           "y": [
            8
           ]
          },
          {
           "mode": "text",
           "name": "",
           "text": "hitter Nadal",
           "textfont": {
            "color": "white",
            "size": 12
           },
           "type": "scatter",
           "x": [
            -5
           ],
           "y": [
            10
           ]
          },
          {
           "mode": "text",
           "text": "strokeid 1",
           "textfont": {
            "color": "white",
            "size": 12
           },
           "type": "scatter",
           "x": [
            -5
           ],
           "y": [
            12
           ]
          }
         ],
         "name": ""
        },
        {
         "data": [
          {
           "marker": {
            "color": "orangered",
            "size": 10
           },
           "mode": "markers",
           "name": "Player 1",
           "type": "scatter",
           "x": [
            5.725
           ],
           "y": [
            0.7830000000000001
           ]
          },
          {
           "marker": {
            "color": "aquamarine",
            "size": 10
           },
           "mode": "markers",
           "name": "Player 2",
           "type": "scatter",
           "x": [
            3.166
           ],
           "y": [
            24.188999999999997
           ]
          },
          {
           "marker": {
            "color": "yellow",
            "size": 10
           },
           "mode": "markers",
           "type": "scatter",
           "x": [
            4.318
           ],
           "y": [
            16.910999999999998
           ]
          },
          {
           "mode": "text",
           "name": "",
           "text": "type serve",
           "textfont": {
            "color": "white",
            "size": 12
           },
           "type": "scatter",
           "x": [
            -5
           ],
           "y": [
            6
           ]
          },
          {
           "mode": "text",
           "name": "",
           "text": "stroke forehand",
           "textfont": {
            "color": "white",
            "size": 12
           },
           "type": "scatter",
           "x": [
            -5
           ],
           "y": [
            8
           ]
          },
          {
           "mode": "text",
           "name": "",
           "text": "hitter Nadal",
           "textfont": {
            "color": "white",
            "size": 12
           },
           "type": "scatter",
           "x": [
            -5
           ],
           "y": [
            10
           ]
          },
          {
           "mode": "text",
           "text": "strokeid 1",
           "textfont": {
            "color": "white",
            "size": 12
           },
           "type": "scatter",
           "x": [
            -5
           ],
           "y": [
            12
           ]
          }
         ],
         "name": ""
        },
        {
         "data": [
          {
           "marker": {
            "color": "orangered",
            "size": 10
           },
           "mode": "markers",
           "name": "Player 1",
           "type": "scatter",
           "x": [
            5.760000000000001
           ],
           "y": [
            0.9520000000000001
           ]
          },
          {
           "marker": {
            "color": "aquamarine",
            "size": 10
           },
           "mode": "markers",
           "name": "Player 2",
           "type": "scatter",
           "x": [
            3.384
           ],
           "y": [
            24.235999999999997
           ]
          },
          {
           "marker": {
            "color": "yellow",
            "size": 10
           },
           "mode": "markers",
           "type": "scatter",
           "x": [
            4.152
           ],
           "y": [
            19.384
           ]
          },
          {
           "mode": "text",
           "name": "",
           "text": "type serve",
           "textfont": {
            "color": "white",
            "size": 12
           },
           "type": "scatter",
           "x": [
            -5
           ],
           "y": [
            6
           ]
          },
          {
           "mode": "text",
           "name": "",
           "text": "stroke forehand",
           "textfont": {
            "color": "white",
            "size": 12
           },
           "type": "scatter",
           "x": [
            -5
           ],
           "y": [
            8
           ]
          },
          {
           "mode": "text",
           "name": "",
           "text": "hitter Nadal",
           "textfont": {
            "color": "white",
            "size": 12
           },
           "type": "scatter",
           "x": [
            -5
           ],
           "y": [
            10
           ]
          },
          {
           "mode": "text",
           "text": "strokeid 1",
           "textfont": {
            "color": "white",
            "size": 12
           },
           "type": "scatter",
           "x": [
            -5
           ],
           "y": [
            12
           ]
          }
         ],
         "name": ""
        },
        {
         "data": [
          {
           "marker": {
            "color": "orangered",
            "size": 10
           },
           "mode": "markers",
           "name": "Player 1",
           "type": "scatter",
           "x": [
            5.795
           ],
           "y": [
            1.121
           ]
          },
          {
           "marker": {
            "color": "aquamarine",
            "size": 10
           },
           "mode": "markers",
           "name": "Player 2",
           "type": "scatter",
           "x": [
            3.602
           ],
           "y": [
            24.282999999999998
           ]
          },
          {
           "marker": {
            "color": "yellow",
            "size": 10
           },
           "mode": "markers",
           "type": "scatter",
           "x": [
            3.9859999999999998
           ],
           "y": [
            21.857
           ]
          },
          {
           "mode": "text",
           "name": "",
           "text": "type serve",
           "textfont": {
            "color": "white",
            "size": 12
           },
           "type": "scatter",
           "x": [
            -5
           ],
           "y": [
            6
           ]
          },
          {
           "mode": "text",
           "name": "",
           "text": "stroke forehand",
           "textfont": {
            "color": "white",
            "size": 12
           },
           "type": "scatter",
           "x": [
            -5
           ],
           "y": [
            8
           ]
          },
          {
           "mode": "text",
           "name": "",
           "text": "hitter Nadal",
           "textfont": {
            "color": "white",
            "size": 12
           },
           "type": "scatter",
           "x": [
            -5
           ],
           "y": [
            10
           ]
          },
          {
           "mode": "text",
           "text": "strokeid 1",
           "textfont": {
            "color": "white",
            "size": 12
           },
           "type": "scatter",
           "x": [
            -5
           ],
           "y": [
            12
           ]
          }
         ],
         "name": ""
        },
        {
         "data": [
          {
           "marker": {
            "color": "orangered",
            "size": 10
           },
           "mode": "markers",
           "name": "Player 1",
           "type": "scatter",
           "x": [
            5.83
           ],
           "y": [
            1.29
           ]
          },
          {
           "marker": {
            "color": "aquamarine",
            "size": 10
           },
           "mode": "markers",
           "name": "Player 2",
           "type": "scatter",
           "x": [
            3.82
           ],
           "y": [
            24.33
           ]
          },
          {
           "marker": {
            "color": "yellow",
            "size": 10
           },
           "mode": "markers",
           "type": "scatter",
           "x": [
            3.82
           ],
           "y": [
            24.33
           ]
          },
          {
           "mode": "text",
           "name": "",
           "text": "type return",
           "textfont": {
            "color": "white",
            "size": 12
           },
           "type": "scatter",
           "x": [
            -5
           ],
           "y": [
            6
           ]
          },
          {
           "mode": "text",
           "name": "",
           "text": "stroke backhand",
           "textfont": {
            "color": "white",
            "size": 12
           },
           "type": "scatter",
           "x": [
            -5
           ],
           "y": [
            8
           ]
          },
          {
           "mode": "text",
           "name": "",
           "text": "hitter Djokovic",
           "textfont": {
            "color": "white",
            "size": 12
           },
           "type": "scatter",
           "x": [
            -5
           ],
           "y": [
            10
           ]
          },
          {
           "mode": "text",
           "text": "strokeid 2",
           "textfont": {
            "color": "white",
            "size": 12
           },
           "type": "scatter",
           "x": [
            -5
           ],
           "y": [
            12
           ]
          }
         ],
         "name": ""
        },
        {
         "data": [
          {
           "marker": {
            "color": "orangered",
            "size": 10
           },
           "mode": "markers",
           "name": "Player 1",
           "type": "scatter",
           "x": [
            5.796
           ],
           "y": [
            1.129
           ]
          },
          {
           "marker": {
            "color": "aquamarine",
            "size": 10
           },
           "mode": "markers",
           "name": "Player 2",
           "type": "scatter",
           "x": [
            3.9639999999999995
           ],
           "y": [
            24.423
           ]
          },
          {
           "marker": {
            "color": "yellow",
            "size": 10
           },
           "mode": "markers",
           "type": "scatter",
           "x": [
            3.9869999999999997
           ],
           "y": [
            21.865
           ]
          },
          {
           "mode": "text",
           "name": "",
           "text": "type return",
           "textfont": {
            "color": "white",
            "size": 12
           },
           "type": "scatter",
           "x": [
            -5
           ],
           "y": [
            6
           ]
          },
          {
           "mode": "text",
           "name": "",
           "text": "stroke backhand",
           "textfont": {
            "color": "white",
            "size": 12
           },
           "type": "scatter",
           "x": [
            -5
           ],
           "y": [
            8
           ]
          },
          {
           "mode": "text",
           "name": "",
           "text": "hitter Djokovic",
           "textfont": {
            "color": "white",
            "size": 12
           },
           "type": "scatter",
           "x": [
            -5
           ],
           "y": [
            10
           ]
          },
          {
           "mode": "text",
           "text": "strokeid 2",
           "textfont": {
            "color": "white",
            "size": 12
           },
           "type": "scatter",
           "x": [
            -5
           ],
           "y": [
            12
           ]
          }
         ],
         "name": ""
        },
        {
         "data": [
          {
           "marker": {
            "color": "orangered",
            "size": 10
           },
           "mode": "markers",
           "name": "Player 1",
           "type": "scatter",
           "x": [
            5.7620000000000005
           ],
           "y": [
            0.968
           ]
          },
          {
           "marker": {
            "color": "aquamarine",
            "size": 10
           },
           "mode": "markers",
           "name": "Player 2",
           "type": "scatter",
           "x": [
            4.1080000000000005
           ],
           "y": [
            24.516
           ]
          },
          {
           "marker": {
            "color": "yellow",
            "size": 10
           },
           "mode": "markers",
           "type": "scatter",
           "x": [
            4.154
           ],
           "y": [
            19.4
           ]
          },
          {
           "mode": "text",
           "name": "",
           "text": "type return",
           "textfont": {
            "color": "white",
            "size": 12
           },
           "type": "scatter",
           "x": [
            -5
           ],
           "y": [
            6
           ]
          },
          {
           "mode": "text",
           "name": "",
           "text": "stroke backhand",
           "textfont": {
            "color": "white",
            "size": 12
           },
           "type": "scatter",
           "x": [
            -5
           ],
           "y": [
            8
           ]
          },
          {
           "mode": "text",
           "name": "",
           "text": "hitter Djokovic",
           "textfont": {
            "color": "white",
            "size": 12
           },
           "type": "scatter",
           "x": [
            -5
           ],
           "y": [
            10
           ]
          },
          {
           "mode": "text",
           "text": "strokeid 2",
           "textfont": {
            "color": "white",
            "size": 12
           },
           "type": "scatter",
           "x": [
            -5
           ],
           "y": [
            12
           ]
          }
         ],
         "name": ""
        },
        {
         "data": [
          {
           "marker": {
            "color": "orangered",
            "size": 10
           },
           "mode": "markers",
           "name": "Player 1",
           "type": "scatter",
           "x": [
            5.728
           ],
           "y": [
            0.8069999999999999
           ]
          },
          {
           "marker": {
            "color": "aquamarine",
            "size": 10
           },
           "mode": "markers",
           "name": "Player 2",
           "type": "scatter",
           "x": [
            4.252
           ],
           "y": [
            24.609
           ]
          },
          {
           "marker": {
            "color": "yellow",
            "size": 10
           },
           "mode": "markers",
           "type": "scatter",
           "x": [
            4.321
           ],
           "y": [
            16.935
           ]
          },
          {
           "mode": "text",
           "name": "",
           "text": "type return",
           "textfont": {
            "color": "white",
            "size": 12
           },
           "type": "scatter",
           "x": [
            -5
           ],
           "y": [
            6
           ]
          },
          {
           "mode": "text",
           "name": "",
           "text": "stroke backhand",
           "textfont": {
            "color": "white",
            "size": 12
           },
           "type": "scatter",
           "x": [
            -5
           ],
           "y": [
            8
           ]
          },
          {
           "mode": "text",
           "name": "",
           "text": "hitter Djokovic",
           "textfont": {
            "color": "white",
            "size": 12
           },
           "type": "scatter",
           "x": [
            -5
           ],
           "y": [
            10
           ]
          },
          {
           "mode": "text",
           "text": "strokeid 2",
           "textfont": {
            "color": "white",
            "size": 12
           },
           "type": "scatter",
           "x": [
            -5
           ],
           "y": [
            12
           ]
          }
         ],
         "name": ""
        },
        {
         "data": [
          {
           "marker": {
            "color": "orangered",
            "size": 10
           },
           "mode": "markers",
           "name": "Player 1",
           "type": "scatter",
           "x": [
            5.694
           ],
           "y": [
            0.646
           ]
          },
          {
           "marker": {
            "color": "aquamarine",
            "size": 10
           },
           "mode": "markers",
           "name": "Player 2",
           "type": "scatter",
           "x": [
            4.396
           ],
           "y": [
            24.701999999999998
           ]
          },
          {
           "marker": {
            "color": "yellow",
            "size": 10
           },
           "mode": "markers",
           "type": "scatter",
           "x": [
            4.4879999999999995
           ],
           "y": [
            14.469999999999999
           ]
          },
          {
           "mode": "text",
           "name": "",
           "text": "type return",
           "textfont": {
            "color": "white",
            "size": 12
           },
           "type": "scatter",
           "x": [
            -5
           ],
           "y": [
            6
           ]
          },
          {
           "mode": "text",
           "name": "",
           "text": "stroke backhand",
           "textfont": {
            "color": "white",
            "size": 12
           },
           "type": "scatter",
           "x": [
            -5
           ],
           "y": [
            8
           ]
          },
          {
           "mode": "text",
           "name": "",
           "text": "hitter Djokovic",
           "textfont": {
            "color": "white",
            "size": 12
           },
           "type": "scatter",
           "x": [
            -5
           ],
           "y": [
            10
           ]
          },
          {
           "mode": "text",
           "text": "strokeid 2",
           "textfont": {
            "color": "white",
            "size": 12
           },
           "type": "scatter",
           "x": [
            -5
           ],
           "y": [
            12
           ]
          }
         ],
         "name": ""
        },
        {
         "data": [
          {
           "marker": {
            "color": "orangered",
            "size": 10
           },
           "mode": "markers",
           "name": "Player 1",
           "type": "scatter",
           "x": [
            5.66
           ],
           "y": [
            0.485
           ]
          },
          {
           "marker": {
            "color": "aquamarine",
            "size": 10
           },
           "mode": "markers",
           "name": "Player 2",
           "type": "scatter",
           "x": [
            4.54
           ],
           "y": [
            24.795
           ]
          },
          {
           "marker": {
            "color": "yellow",
            "size": 10
           },
           "mode": "markers",
           "type": "scatter",
           "x": [
            4.655
           ],
           "y": [
            12.004999999999999
           ]
          },
          {
           "mode": "text",
           "name": "",
           "text": "type return",
           "textfont": {
            "color": "white",
            "size": 12
           },
           "type": "scatter",
           "x": [
            -5
           ],
           "y": [
            6
           ]
          },
          {
           "mode": "text",
           "name": "",
           "text": "stroke backhand",
           "textfont": {
            "color": "white",
            "size": 12
           },
           "type": "scatter",
           "x": [
            -5
           ],
           "y": [
            8
           ]
          },
          {
           "mode": "text",
           "name": "",
           "text": "hitter Djokovic",
           "textfont": {
            "color": "white",
            "size": 12
           },
           "type": "scatter",
           "x": [
            -5
           ],
           "y": [
            10
           ]
          },
          {
           "mode": "text",
           "text": "strokeid 2",
           "textfont": {
            "color": "white",
            "size": 12
           },
           "type": "scatter",
           "x": [
            -5
           ],
           "y": [
            12
           ]
          }
         ],
         "name": ""
        },
        {
         "data": [
          {
           "marker": {
            "color": "orangered",
            "size": 10
           },
           "mode": "markers",
           "name": "Player 1",
           "type": "scatter",
           "x": [
            5.6259999999999994
           ],
           "y": [
            0.32399999999999984
           ]
          },
          {
           "marker": {
            "color": "aquamarine",
            "size": 10
           },
           "mode": "markers",
           "name": "Player 2",
           "type": "scatter",
           "x": [
            4.683999999999999
           ],
           "y": [
            24.887999999999998
           ]
          },
          {
           "marker": {
            "color": "yellow",
            "size": 10
           },
           "mode": "markers",
           "type": "scatter",
           "x": [
            4.822
           ],
           "y": [
            9.539999999999997
           ]
          },
          {
           "mode": "text",
           "name": "",
           "text": "type return",
           "textfont": {
            "color": "white",
            "size": 12
           },
           "type": "scatter",
           "x": [
            -5
           ],
           "y": [
            6
           ]
          },
          {
           "mode": "text",
           "name": "",
           "text": "stroke backhand",
           "textfont": {
            "color": "white",
            "size": 12
           },
           "type": "scatter",
           "x": [
            -5
           ],
           "y": [
            8
           ]
          },
          {
           "mode": "text",
           "name": "",
           "text": "hitter Djokovic",
           "textfont": {
            "color": "white",
            "size": 12
           },
           "type": "scatter",
           "x": [
            -5
           ],
           "y": [
            10
           ]
          },
          {
           "mode": "text",
           "text": "strokeid 2",
           "textfont": {
            "color": "white",
            "size": 12
           },
           "type": "scatter",
           "x": [
            -5
           ],
           "y": [
            12
           ]
          }
         ],
         "name": ""
        },
        {
         "data": [
          {
           "marker": {
            "color": "orangered",
            "size": 10
           },
           "mode": "markers",
           "name": "Player 1",
           "type": "scatter",
           "x": [
            5.5920000000000005
           ],
           "y": [
            0.16299999999999987
           ]
          },
          {
           "marker": {
            "color": "aquamarine",
            "size": 10
           },
           "mode": "markers",
           "name": "Player 2",
           "type": "scatter",
           "x": [
            4.828
           ],
           "y": [
            24.981
           ]
          },
          {
           "marker": {
            "color": "yellow",
            "size": 10
           },
           "mode": "markers",
           "type": "scatter",
           "x": [
            4.989
           ],
           "y": [
            7.0749999999999975
           ]
          },
          {
           "mode": "text",
           "name": "",
           "text": "type return",
           "textfont": {
            "color": "white",
            "size": 12
           },
           "type": "scatter",
           "x": [
            -5
           ],
           "y": [
            6
           ]
          },
          {
           "mode": "text",
           "name": "",
           "text": "stroke backhand",
           "textfont": {
            "color": "white",
            "size": 12
           },
           "type": "scatter",
           "x": [
            -5
           ],
           "y": [
            8
           ]
          },
          {
           "mode": "text",
           "name": "",
           "text": "hitter Djokovic",
           "textfont": {
            "color": "white",
            "size": 12
           },
           "type": "scatter",
           "x": [
            -5
           ],
           "y": [
            10
           ]
          },
          {
           "mode": "text",
           "text": "strokeid 2",
           "textfont": {
            "color": "white",
            "size": 12
           },
           "type": "scatter",
           "x": [
            -5
           ],
           "y": [
            12
           ]
          }
         ],
         "name": ""
        },
        {
         "data": [
          {
           "marker": {
            "color": "orangered",
            "size": 10
           },
           "mode": "markers",
           "name": "Player 1",
           "type": "scatter",
           "x": [
            5.558
           ],
           "y": [
            0.0019999999999999463
           ]
          },
          {
           "marker": {
            "color": "aquamarine",
            "size": 10
           },
           "mode": "markers",
           "name": "Player 2",
           "type": "scatter",
           "x": [
            4.9719999999999995
           ],
           "y": [
            25.074
           ]
          },
          {
           "marker": {
            "color": "yellow",
            "size": 10
           },
           "mode": "markers",
           "type": "scatter",
           "x": [
            5.156000000000001
           ],
           "y": [
            4.6099999999999985
           ]
          },
          {
           "mode": "text",
           "name": "",
           "text": "type return",
           "textfont": {
            "color": "white",
            "size": 12
           },
           "type": "scatter",
           "x": [
            -5
           ],
           "y": [
            6
           ]
          },
          {
           "mode": "text",
           "name": "",
           "text": "stroke backhand",
           "textfont": {
            "color": "white",
            "size": 12
           },
           "type": "scatter",
           "x": [
            -5
           ],
           "y": [
            8
           ]
          },
          {
           "mode": "text",
           "name": "",
           "text": "hitter Djokovic",
           "textfont": {
            "color": "white",
            "size": 12
           },
           "type": "scatter",
           "x": [
            -5
           ],
           "y": [
            10
           ]
          },
          {
           "mode": "text",
           "text": "strokeid 2",
           "textfont": {
            "color": "white",
            "size": 12
           },
           "type": "scatter",
           "x": [
            -5
           ],
           "y": [
            12
           ]
          }
         ],
         "name": ""
        },
        {
         "data": [
          {
           "marker": {
            "color": "orangered",
            "size": 10
           },
           "mode": "markers",
           "name": "Player 1",
           "type": "scatter",
           "x": [
            5.524000000000001
           ],
           "y": [
            -0.15900000000000006
           ]
          },
          {
           "marker": {
            "color": "aquamarine",
            "size": 10
           },
           "mode": "markers",
           "name": "Player 2",
           "type": "scatter",
           "x": [
            5.116
           ],
           "y": [
            25.167
           ]
          },
          {
           "marker": {
            "color": "yellow",
            "size": 10
           },
           "mode": "markers",
           "type": "scatter",
           "x": [
            5.323
           ],
           "y": [
            2.1449999999999996
           ]
          },
          {
           "mode": "text",
           "name": "",
           "text": "type return",
           "textfont": {
            "color": "white",
            "size": 12
           },
           "type": "scatter",
           "x": [
            -5
           ],
           "y": [
            6
           ]
          },
          {
           "mode": "text",
           "name": "",
           "text": "stroke backhand",
           "textfont": {
            "color": "white",
            "size": 12
           },
           "type": "scatter",
           "x": [
            -5
           ],
           "y": [
            8
           ]
          },
          {
           "mode": "text",
           "name": "",
           "text": "hitter Djokovic",
           "textfont": {
            "color": "white",
            "size": 12
           },
           "type": "scatter",
           "x": [
            -5
           ],
           "y": [
            10
           ]
          },
          {
           "mode": "text",
           "text": "strokeid 2",
           "textfont": {
            "color": "white",
            "size": 12
           },
           "type": "scatter",
           "x": [
            -5
           ],
           "y": [
            12
           ]
          }
         ],
         "name": ""
        },
        {
         "data": [
          {
           "marker": {
            "color": "orangered",
            "size": 10
           },
           "mode": "markers",
           "name": "Player 1",
           "type": "scatter",
           "x": [
            5.49
           ],
           "y": [
            -0.32
           ]
          },
          {
           "marker": {
            "color": "aquamarine",
            "size": 10
           },
           "mode": "markers",
           "name": "Player 2",
           "type": "scatter",
           "x": [
            5.26
           ],
           "y": [
            25.26
           ]
          },
          {
           "marker": {
            "color": "yellow",
            "size": 10
           },
           "mode": "markers",
           "type": "scatter",
           "x": [
            5.49
           ],
           "y": [
            -0.32
           ]
          },
          {
           "mode": "text",
           "name": "",
           "text": "type topspin",
           "textfont": {
            "color": "white",
            "size": 12
           },
           "type": "scatter",
           "x": [
            -5
           ],
           "y": [
            6
           ]
          },
          {
           "mode": "text",
           "name": "",
           "text": "stroke forehand",
           "textfont": {
            "color": "white",
            "size": 12
           },
           "type": "scatter",
           "x": [
            -5
           ],
           "y": [
            8
           ]
          },
          {
           "mode": "text",
           "name": "",
           "text": "hitter Nadal",
           "textfont": {
            "color": "white",
            "size": 12
           },
           "type": "scatter",
           "x": [
            -5
           ],
           "y": [
            10
           ]
          },
          {
           "mode": "text",
           "text": "strokeid 3",
           "textfont": {
            "color": "white",
            "size": 12
           },
           "type": "scatter",
           "x": [
            -5
           ],
           "y": [
            12
           ]
          }
         ],
         "name": ""
        },
        {
         "data": [
          {
           "marker": {
            "color": "orangered",
            "size": 10
           },
           "mode": "markers",
           "name": "Player 1",
           "type": "scatter",
           "x": [
            5.3790000000000004
           ],
           "y": [
            -0.42600000000000005
           ]
          },
          {
           "marker": {
            "color": "aquamarine",
            "size": 10
           },
           "mode": "markers",
           "name": "Player 2",
           "type": "scatter",
           "x": [
            5.5120000000000005
           ],
           "y": [
            25.248
           ]
          },
          {
           "marker": {
            "color": "yellow",
            "size": 10
           },
           "mode": "markers",
           "type": "scatter",
           "x": [
            5.719000000000001
           ],
           "y": [
            2.226
           ]
          },
          {
           "mode": "text",
           "name": "",
           "text": "type topspin",
           "textfont": {
            "color": "white",
            "size": 12
           },
           "type": "scatter",
           "x": [
            -5
           ],
           "y": [
            6
           ]
          },
          {
           "mode": "text",
           "name": "",
           "text": "stroke forehand",
           "textfont": {
            "color": "white",
            "size": 12
           },
           "type": "scatter",
           "x": [
            -5
           ],
           "y": [
            8
           ]
          },
          {
           "mode": "text",
           "name": "",
           "text": "hitter Nadal",
           "textfont": {
            "color": "white",
            "size": 12
           },
           "type": "scatter",
           "x": [
            -5
           ],
           "y": [
            10
           ]
          },
          {
           "mode": "text",
           "text": "strokeid 3",
           "textfont": {
            "color": "white",
            "size": 12
           },
           "type": "scatter",
           "x": [
            -5
           ],
           "y": [
            12
           ]
          }
         ],
         "name": ""
        },
        {
         "data": [
          {
           "marker": {
            "color": "orangered",
            "size": 10
           },
           "mode": "markers",
           "name": "Player 1",
           "type": "scatter",
           "x": [
            5.268000000000001
           ],
           "y": [
            -0.532
           ]
          },
          {
           "marker": {
            "color": "aquamarine",
            "size": 10
           },
           "mode": "markers",
           "name": "Player 2",
           "type": "scatter",
           "x": [
            5.764
           ],
           "y": [
            25.236000000000004
           ]
          },
          {
           "marker": {
            "color": "yellow",
            "size": 10
           },
           "mode": "markers",
           "type": "scatter",
           "x": [
            5.948
           ],
           "y": [
            4.772
           ]
          },
          {
           "mode": "text",
           "name": "",
           "text": "type topspin",
           "textfont": {
            "color": "white",
            "size": 12
           },
           "type": "scatter",
           "x": [
            -5
           ],
           "y": [
            6
           ]
          },
          {
           "mode": "text",
           "name": "",
           "text": "stroke forehand",
           "textfont": {
            "color": "white",
            "size": 12
           },
           "type": "scatter",
           "x": [
            -5
           ],
           "y": [
            8
           ]
          },
          {
           "mode": "text",
           "name": "",
           "text": "hitter Nadal",
           "textfont": {
            "color": "white",
            "size": 12
           },
           "type": "scatter",
           "x": [
            -5
           ],
           "y": [
            10
           ]
          },
          {
           "mode": "text",
           "text": "strokeid 3",
           "textfont": {
            "color": "white",
            "size": 12
           },
           "type": "scatter",
           "x": [
            -5
           ],
           "y": [
            12
           ]
          }
         ],
         "name": ""
        },
        {
         "data": [
          {
           "marker": {
            "color": "orangered",
            "size": 10
           },
           "mode": "markers",
           "name": "Player 1",
           "type": "scatter",
           "x": [
            5.157
           ],
           "y": [
            -0.638
           ]
          },
          {
           "marker": {
            "color": "aquamarine",
            "size": 10
           },
           "mode": "markers",
           "name": "Player 2",
           "type": "scatter",
           "x": [
            6.016
           ],
           "y": [
            25.224
           ]
          },
          {
           "marker": {
            "color": "yellow",
            "size": 10
           },
           "mode": "markers",
           "type": "scatter",
           "x": [
            6.1770000000000005
           ],
           "y": [
            7.318000000000001
           ]
          },
          {
           "mode": "text",
           "name": "",
           "text": "type topspin",
           "textfont": {
            "color": "white",
            "size": 12
           },
           "type": "scatter",
           "x": [
            -5
           ],
           "y": [
            6
           ]
          },
          {
           "mode": "text",
           "name": "",
           "text": "stroke forehand",
           "textfont": {
            "color": "white",
            "size": 12
           },
           "type": "scatter",
           "x": [
            -5
           ],
           "y": [
            8
           ]
          },
          {
           "mode": "text",
           "name": "",
           "text": "hitter Nadal",
           "textfont": {
            "color": "white",
            "size": 12
           },
           "type": "scatter",
           "x": [
            -5
           ],
           "y": [
            10
           ]
          },
          {
           "mode": "text",
           "text": "strokeid 3",
           "textfont": {
            "color": "white",
            "size": 12
           },
           "type": "scatter",
           "x": [
            -5
           ],
           "y": [
            12
           ]
          }
         ],
         "name": ""
        },
        {
         "data": [
          {
           "marker": {
            "color": "orangered",
            "size": 10
           },
           "mode": "markers",
           "name": "Player 1",
           "type": "scatter",
           "x": [
            5.046
           ],
           "y": [
            -0.744
           ]
          },
          {
           "marker": {
            "color": "aquamarine",
            "size": 10
           },
           "mode": "markers",
           "name": "Player 2",
           "type": "scatter",
           "x": [
            6.268
           ],
           "y": [
            25.212000000000003
           ]
          },
          {
           "marker": {
            "color": "yellow",
            "size": 10
           },
           "mode": "markers",
           "type": "scatter",
           "x": [
            6.406000000000001
           ],
           "y": [
            9.864
           ]
          },
          {
           "mode": "text",
           "name": "",
           "text": "type topspin",
           "textfont": {
            "color": "white",
            "size": 12
           },
           "type": "scatter",
           "x": [
            -5
           ],
           "y": [
            6
           ]
          },
          {
           "mode": "text",
           "name": "",
           "text": "stroke forehand",
           "textfont": {
            "color": "white",
            "size": 12
           },
           "type": "scatter",
           "x": [
            -5
           ],
           "y": [
            8
           ]
          },
          {
           "mode": "text",
           "name": "",
           "text": "hitter Nadal",
           "textfont": {
            "color": "white",
            "size": 12
           },
           "type": "scatter",
           "x": [
            -5
           ],
           "y": [
            10
           ]
          },
          {
           "mode": "text",
           "text": "strokeid 3",
           "textfont": {
            "color": "white",
            "size": 12
           },
           "type": "scatter",
           "x": [
            -5
           ],
           "y": [
            12
           ]
          }
         ],
         "name": ""
        },
        {
         "data": [
          {
           "marker": {
            "color": "orangered",
            "size": 10
           },
           "mode": "markers",
           "name": "Player 1",
           "type": "scatter",
           "x": [
            4.9350000000000005
           ],
           "y": [
            -0.85
           ]
          },
          {
           "marker": {
            "color": "aquamarine",
            "size": 10
           },
           "mode": "markers",
           "name": "Player 2",
           "type": "scatter",
           "x": [
            6.52
           ],
           "y": [
            25.200000000000003
           ]
          },
          {
           "marker": {
            "color": "yellow",
            "size": 10
           },
           "mode": "markers",
           "type": "scatter",
           "x": [
            6.635
           ],
           "y": [
            12.41
           ]
          },
          {
           "mode": "text",
           "name": "",
           "text": "type topspin",
           "textfont": {
            "color": "white",
            "size": 12
           },
           "type": "scatter",
           "x": [
            -5
           ],
           "y": [
            6
           ]
          },
          {
           "mode": "text",
           "name": "",
           "text": "stroke forehand",
           "textfont": {
            "color": "white",
            "size": 12
           },
           "type": "scatter",
           "x": [
            -5
           ],
           "y": [
            8
           ]
          },
          {
           "mode": "text",
           "name": "",
           "text": "hitter Nadal",
           "textfont": {
            "color": "white",
            "size": 12
           },
           "type": "scatter",
           "x": [
            -5
           ],
           "y": [
            10
           ]
          },
          {
           "mode": "text",
           "text": "strokeid 3",
           "textfont": {
            "color": "white",
            "size": 12
           },
           "type": "scatter",
           "x": [
            -5
           ],
           "y": [
            12
           ]
          }
         ],
         "name": ""
        },
        {
         "data": [
          {
           "marker": {
            "color": "orangered",
            "size": 10
           },
           "mode": "markers",
           "name": "Player 1",
           "type": "scatter",
           "x": [
            4.824
           ],
           "y": [
            -0.9560000000000001
           ]
          },
          {
           "marker": {
            "color": "aquamarine",
            "size": 10
           },
           "mode": "markers",
           "name": "Player 2",
           "type": "scatter",
           "x": [
            6.772
           ],
           "y": [
            25.188000000000002
           ]
          },
          {
           "marker": {
            "color": "yellow",
            "size": 10
           },
           "mode": "markers",
           "type": "scatter",
           "x": [
            6.864000000000001
           ],
           "y": [
            14.956000000000003
           ]
          },
          {
           "mode": "text",
           "name": "",
           "text": "type topspin",
           "textfont": {
            "color": "white",
            "size": 12
           },
           "type": "scatter",
           "x": [
            -5
           ],
           "y": [
            6
           ]
          },
          {
           "mode": "text",
           "name": "",
           "text": "stroke forehand",
           "textfont": {
            "color": "white",
            "size": 12
           },
           "type": "scatter",
           "x": [
            -5
           ],
           "y": [
            8
           ]
          },
          {
           "mode": "text",
           "name": "",
           "text": "hitter Nadal",
           "textfont": {
            "color": "white",
            "size": 12
           },
           "type": "scatter",
           "x": [
            -5
           ],
           "y": [
            10
           ]
          },
          {
           "mode": "text",
           "text": "strokeid 3",
           "textfont": {
            "color": "white",
            "size": 12
           },
           "type": "scatter",
           "x": [
            -5
           ],
           "y": [
            12
           ]
          }
         ],
         "name": ""
        },
        {
         "data": [
          {
           "marker": {
            "color": "orangered",
            "size": 10
           },
           "mode": "markers",
           "name": "Player 1",
           "type": "scatter",
           "x": [
            4.713
           ],
           "y": [
            -1.0619999999999998
           ]
          },
          {
           "marker": {
            "color": "aquamarine",
            "size": 10
           },
           "mode": "markers",
           "name": "Player 2",
           "type": "scatter",
           "x": [
            7.024
           ],
           "y": [
            25.176000000000002
           ]
          },
          {
           "marker": {
            "color": "yellow",
            "size": 10
           },
           "mode": "markers",
           "type": "scatter",
           "x": [
            7.093
           ],
           "y": [
            17.502000000000002
           ]
          },
          {
           "mode": "text",
           "name": "",
           "text": "type topspin",
           "textfont": {
            "color": "white",
            "size": 12
           },
           "type": "scatter",
           "x": [
            -5
           ],
           "y": [
            6
           ]
          },
          {
           "mode": "text",
           "name": "",
           "text": "stroke forehand",
           "textfont": {
            "color": "white",
            "size": 12
           },
           "type": "scatter",
           "x": [
            -5
           ],
           "y": [
            8
           ]
          },
          {
           "mode": "text",
           "name": "",
           "text": "hitter Nadal",
           "textfont": {
            "color": "white",
            "size": 12
           },
           "type": "scatter",
           "x": [
            -5
           ],
           "y": [
            10
           ]
          },
          {
           "mode": "text",
           "text": "strokeid 3",
           "textfont": {
            "color": "white",
            "size": 12
           },
           "type": "scatter",
           "x": [
            -5
           ],
           "y": [
            12
           ]
          }
         ],
         "name": ""
        },
        {
         "data": [
          {
           "marker": {
            "color": "orangered",
            "size": 10
           },
           "mode": "markers",
           "name": "Player 1",
           "type": "scatter",
           "x": [
            4.602
           ],
           "y": [
            -1.168
           ]
          },
          {
           "marker": {
            "color": "aquamarine",
            "size": 10
           },
           "mode": "markers",
           "name": "Player 2",
           "type": "scatter",
           "x": [
            7.276
           ],
           "y": [
            25.164
           ]
          },
          {
           "marker": {
            "color": "yellow",
            "size": 10
           },
           "mode": "markers",
           "type": "scatter",
           "x": [
            7.322
           ],
           "y": [
            20.048000000000002
           ]
          },
          {
           "mode": "text",
           "name": "",
           "text": "type topspin",
           "textfont": {
            "color": "white",
            "size": 12
           },
           "type": "scatter",
           "x": [
            -5
           ],
           "y": [
            6
           ]
          },
          {
           "mode": "text",
           "name": "",
           "text": "stroke forehand",
           "textfont": {
            "color": "white",
            "size": 12
           },
           "type": "scatter",
           "x": [
            -5
           ],
           "y": [
            8
           ]
          },
          {
           "mode": "text",
           "name": "",
           "text": "hitter Nadal",
           "textfont": {
            "color": "white",
            "size": 12
           },
           "type": "scatter",
           "x": [
            -5
           ],
           "y": [
            10
           ]
          },
          {
           "mode": "text",
           "text": "strokeid 3",
           "textfont": {
            "color": "white",
            "size": 12
           },
           "type": "scatter",
           "x": [
            -5
           ],
           "y": [
            12
           ]
          }
         ],
         "name": ""
        },
        {
         "data": [
          {
           "marker": {
            "color": "orangered",
            "size": 10
           },
           "mode": "markers",
           "name": "Player 1",
           "type": "scatter",
           "x": [
            4.491
           ],
           "y": [
            -1.274
           ]
          },
          {
           "marker": {
            "color": "aquamarine",
            "size": 10
           },
           "mode": "markers",
           "name": "Player 2",
           "type": "scatter",
           "x": [
            7.5280000000000005
           ],
           "y": [
            25.152
           ]
          },
          {
           "marker": {
            "color": "yellow",
            "size": 10
           },
           "mode": "markers",
           "type": "scatter",
           "x": [
            7.551
           ],
           "y": [
            22.594
           ]
          },
          {
           "mode": "text",
           "name": "",
           "text": "type topspin",
           "textfont": {
            "color": "white",
            "size": 12
           },
           "type": "scatter",
           "x": [
            -5
           ],
           "y": [
            6
           ]
          },
          {
           "mode": "text",
           "name": "",
           "text": "stroke forehand",
           "textfont": {
            "color": "white",
            "size": 12
           },
           "type": "scatter",
           "x": [
            -5
           ],
           "y": [
            8
           ]
          },
          {
           "mode": "text",
           "name": "",
           "text": "hitter Nadal",
           "textfont": {
            "color": "white",
            "size": 12
           },
           "type": "scatter",
           "x": [
            -5
           ],
           "y": [
            10
           ]
          },
          {
           "mode": "text",
           "text": "strokeid 3",
           "textfont": {
            "color": "white",
            "size": 12
           },
           "type": "scatter",
           "x": [
            -5
           ],
           "y": [
            12
           ]
          }
         ],
         "name": ""
        },
        {
         "data": [
          {
           "marker": {
            "color": "orangered",
            "size": 10
           },
           "mode": "markers",
           "name": "Player 1",
           "type": "scatter",
           "x": [
            4.38
           ],
           "y": [
            -1.38
           ]
          },
          {
           "marker": {
            "color": "aquamarine",
            "size": 10
           },
           "mode": "markers",
           "name": "Player 2",
           "type": "scatter",
           "x": [
            7.78
           ],
           "y": [
            25.14
           ]
          },
          {
           "marker": {
            "color": "yellow",
            "size": 10
           },
           "mode": "markers",
           "type": "scatter",
           "x": [
            7.78
           ],
           "y": [
            25.14
           ]
          },
          {
           "mode": "text",
           "name": "",
           "text": "type topspin",
           "textfont": {
            "color": "white",
            "size": 12
           },
           "type": "scatter",
           "x": [
            -5
           ],
           "y": [
            6
           ]
          },
          {
           "mode": "text",
           "name": "",
           "text": "stroke backhand",
           "textfont": {
            "color": "white",
            "size": 12
           },
           "type": "scatter",
           "x": [
            -5
           ],
           "y": [
            8
           ]
          },
          {
           "mode": "text",
           "name": "",
           "text": "hitter Djokovic",
           "textfont": {
            "color": "white",
            "size": 12
           },
           "type": "scatter",
           "x": [
            -5
           ],
           "y": [
            10
           ]
          },
          {
           "mode": "text",
           "text": "strokeid 4",
           "textfont": {
            "color": "white",
            "size": 12
           },
           "type": "scatter",
           "x": [
            -5
           ],
           "y": [
            12
           ]
          }
         ],
         "name": ""
        },
        {
         "data": [
          {
           "marker": {
            "color": "orangered",
            "size": 10
           },
           "mode": "markers",
           "name": "Player 1",
           "type": "scatter",
           "x": [
            4.722
           ],
           "y": [
            -1.358
           ]
          },
          {
           "marker": {
            "color": "aquamarine",
            "size": 10
           },
           "mode": "markers",
           "name": "Player 2",
           "type": "scatter",
           "x": [
            7.472
           ],
           "y": [
            25.32
           ]
          },
          {
           "marker": {
            "color": "yellow",
            "size": 10
           },
           "mode": "markers",
           "type": "scatter",
           "x": [
            7.782000000000001
           ],
           "y": [
            22.51
           ]
          },
          {
           "mode": "text",
           "name": "",
           "text": "type topspin",
           "textfont": {
            "color": "white",
            "size": 12
           },
           "type": "scatter",
           "x": [
            -5
           ],
           "y": [
            6
           ]
          },
          {
           "mode": "text",
           "name": "",
           "text": "stroke backhand",
           "textfont": {
            "color": "white",
            "size": 12
           },
           "type": "scatter",
           "x": [
            -5
           ],
           "y": [
            8
           ]
          },
          {
           "mode": "text",
           "name": "",
           "text": "hitter Djokovic",
           "textfont": {
            "color": "white",
            "size": 12
           },
           "type": "scatter",
           "x": [
            -5
           ],
           "y": [
            10
           ]
          },
          {
           "mode": "text",
           "text": "strokeid 4",
           "textfont": {
            "color": "white",
            "size": 12
           },
           "type": "scatter",
           "x": [
            -5
           ],
           "y": [
            12
           ]
          }
         ],
         "name": ""
        },
        {
         "data": [
          {
           "marker": {
            "color": "orangered",
            "size": 10
           },
           "mode": "markers",
           "name": "Player 1",
           "type": "scatter",
           "x": [
            5.064
           ],
           "y": [
            -1.3359999999999999
           ]
          },
          {
           "marker": {
            "color": "aquamarine",
            "size": 10
           },
           "mode": "markers",
           "name": "Player 2",
           "type": "scatter",
           "x": [
            7.164000000000001
           ],
           "y": [
            25.500000000000004
           ]
          },
          {
           "marker": {
            "color": "yellow",
            "size": 10
           },
           "mode": "markers",
           "type": "scatter",
           "x": [
            7.784000000000001
           ],
           "y": [
            19.880000000000003
           ]
          },
          {
           "mode": "text",
           "name": "",
           "text": "type topspin",
           "textfont": {
            "color": "white",
            "size": 12
           },
           "type": "scatter",
           "x": [
            -5
           ],
           "y": [
            6
           ]
          },
          {
           "mode": "text",
           "name": "",
           "text": "stroke backhand",
           "textfont": {
            "color": "white",
            "size": 12
           },
           "type": "scatter",
           "x": [
            -5
           ],
           "y": [
            8
           ]
          },
          {
           "mode": "text",
           "name": "",
           "text": "hitter Djokovic",
           "textfont": {
            "color": "white",
            "size": 12
           },
           "type": "scatter",
           "x": [
            -5
           ],
           "y": [
            10
           ]
          },
          {
           "mode": "text",
           "text": "strokeid 4",
           "textfont": {
            "color": "white",
            "size": 12
           },
           "type": "scatter",
           "x": [
            -5
           ],
           "y": [
            12
           ]
          }
         ],
         "name": ""
        },
        {
         "data": [
          {
           "marker": {
            "color": "orangered",
            "size": 10
           },
           "mode": "markers",
           "name": "Player 1",
           "type": "scatter",
           "x": [
            5.406000000000001
           ],
           "y": [
            -1.3139999999999998
           ]
          },
          {
           "marker": {
            "color": "aquamarine",
            "size": 10
           },
           "mode": "markers",
           "name": "Player 2",
           "type": "scatter",
           "x": [
            6.856
           ],
           "y": [
            25.68
           ]
          },
          {
           "marker": {
            "color": "yellow",
            "size": 10
           },
           "mode": "markers",
           "type": "scatter",
           "x": [
            7.786
           ],
           "y": [
            17.25
           ]
          },
          {
           "mode": "text",
           "name": "",
           "text": "type topspin",
           "textfont": {
            "color": "white",
            "size": 12
           },
           "type": "scatter",
           "x": [
            -5
           ],
           "y": [
            6
           ]
          },
          {
           "mode": "text",
           "name": "",
           "text": "stroke backhand",
           "textfont": {
            "color": "white",
            "size": 12
           },
           "type": "scatter",
           "x": [
            -5
           ],
           "y": [
            8
           ]
          },
          {
           "mode": "text",
           "name": "",
           "text": "hitter Djokovic",
           "textfont": {
            "color": "white",
            "size": 12
           },
           "type": "scatter",
           "x": [
            -5
           ],
           "y": [
            10
           ]
          },
          {
           "mode": "text",
           "text": "strokeid 4",
           "textfont": {
            "color": "white",
            "size": 12
           },
           "type": "scatter",
           "x": [
            -5
           ],
           "y": [
            12
           ]
          }
         ],
         "name": ""
        },
        {
         "data": [
          {
           "marker": {
            "color": "orangered",
            "size": 10
           },
           "mode": "markers",
           "name": "Player 1",
           "type": "scatter",
           "x": [
            5.747999999999999
           ],
           "y": [
            -1.2919999999999998
           ]
          },
          {
           "marker": {
            "color": "aquamarine",
            "size": 10
           },
           "mode": "markers",
           "name": "Player 2",
           "type": "scatter",
           "x": [
            6.548
           ],
           "y": [
            25.86
           ]
          },
          {
           "marker": {
            "color": "yellow",
            "size": 10
           },
           "mode": "markers",
           "type": "scatter",
           "x": [
            7.788
           ],
           "y": [
            14.62
           ]
          },
          {
           "mode": "text",
           "name": "",
           "text": "type topspin",
           "textfont": {
            "color": "white",
            "size": 12
           },
           "type": "scatter",
           "x": [
            -5
           ],
           "y": [
            6
           ]
          },
          {
           "mode": "text",
           "name": "",
           "text": "stroke backhand",
           "textfont": {
            "color": "white",
            "size": 12
           },
           "type": "scatter",
           "x": [
            -5
           ],
           "y": [
            8
           ]
          },
          {
           "mode": "text",
           "name": "",
           "text": "hitter Djokovic",
           "textfont": {
            "color": "white",
            "size": 12
           },
           "type": "scatter",
           "x": [
            -5
           ],
           "y": [
            10
           ]
          },
          {
           "mode": "text",
           "text": "strokeid 4",
           "textfont": {
            "color": "white",
            "size": 12
           },
           "type": "scatter",
           "x": [
            -5
           ],
           "y": [
            12
           ]
          }
         ],
         "name": ""
        },
        {
         "data": [
          {
           "marker": {
            "color": "orangered",
            "size": 10
           },
           "mode": "markers",
           "name": "Player 1",
           "type": "scatter",
           "x": [
            6.09
           ],
           "y": [
            -1.27
           ]
          },
          {
           "marker": {
            "color": "aquamarine",
            "size": 10
           },
           "mode": "markers",
           "name": "Player 2",
           "type": "scatter",
           "x": [
            6.24
           ],
           "y": [
            26.04
           ]
          },
          {
           "marker": {
            "color": "yellow",
            "size": 10
           },
           "mode": "markers",
           "type": "scatter",
           "x": [
            7.79
           ],
           "y": [
            11.99
           ]
          },
          {
           "mode": "text",
           "name": "",
           "text": "type topspin",
           "textfont": {
            "color": "white",
            "size": 12
           },
           "type": "scatter",
           "x": [
            -5
           ],
           "y": [
            6
           ]
          },
          {
           "mode": "text",
           "name": "",
           "text": "stroke backhand",
           "textfont": {
            "color": "white",
            "size": 12
           },
           "type": "scatter",
           "x": [
            -5
           ],
           "y": [
            8
           ]
          },
          {
           "mode": "text",
           "name": "",
           "text": "hitter Djokovic",
           "textfont": {
            "color": "white",
            "size": 12
           },
           "type": "scatter",
           "x": [
            -5
           ],
           "y": [
            10
           ]
          },
          {
           "mode": "text",
           "text": "strokeid 4",
           "textfont": {
            "color": "white",
            "size": 12
           },
           "type": "scatter",
           "x": [
            -5
           ],
           "y": [
            12
           ]
          }
         ],
         "name": ""
        },
        {
         "data": [
          {
           "marker": {
            "color": "orangered",
            "size": 10
           },
           "mode": "markers",
           "name": "Player 1",
           "type": "scatter",
           "x": [
            6.432
           ],
           "y": [
            -1.2479999999999998
           ]
          },
          {
           "marker": {
            "color": "aquamarine",
            "size": 10
           },
           "mode": "markers",
           "name": "Player 2",
           "type": "scatter",
           "x": [
            5.932
           ],
           "y": [
            26.22
           ]
          },
          {
           "marker": {
            "color": "yellow",
            "size": 10
           },
           "mode": "markers",
           "type": "scatter",
           "x": [
            7.792
           ],
           "y": [
            9.359999999999998
           ]
          },
          {
           "mode": "text",
           "name": "",
           "text": "type topspin",
           "textfont": {
            "color": "white",
            "size": 12
           },
           "type": "scatter",
           "x": [
            -5
           ],
           "y": [
            6
           ]
          },
          {
           "mode": "text",
           "name": "",
           "text": "stroke backhand",
           "textfont": {
            "color": "white",
            "size": 12
           },
           "type": "scatter",
           "x": [
            -5
           ],
           "y": [
            8
           ]
          },
          {
           "mode": "text",
           "name": "",
           "text": "hitter Djokovic",
           "textfont": {
            "color": "white",
            "size": 12
           },
           "type": "scatter",
           "x": [
            -5
           ],
           "y": [
            10
           ]
          },
          {
           "mode": "text",
           "text": "strokeid 4",
           "textfont": {
            "color": "white",
            "size": 12
           },
           "type": "scatter",
           "x": [
            -5
           ],
           "y": [
            12
           ]
          }
         ],
         "name": ""
        },
        {
         "data": [
          {
           "marker": {
            "color": "orangered",
            "size": 10
           },
           "mode": "markers",
           "name": "Player 1",
           "type": "scatter",
           "x": [
            6.773999999999999
           ],
           "y": [
            -1.226
           ]
          },
          {
           "marker": {
            "color": "aquamarine",
            "size": 10
           },
           "mode": "markers",
           "name": "Player 2",
           "type": "scatter",
           "x": [
            5.6240000000000006
           ],
           "y": [
            26.400000000000002
           ]
          },
          {
           "marker": {
            "color": "yellow",
            "size": 10
           },
           "mode": "markers",
           "type": "scatter",
           "x": [
            7.794
           ],
           "y": [
            6.729999999999999
           ]
          },
          {
           "mode": "text",
           "name": "",
           "text": "type topspin",
           "textfont": {
            "color": "white",
            "size": 12
           },
           "type": "scatter",
           "x": [
            -5
           ],
           "y": [
            6
           ]
          },
          {
           "mode": "text",
           "name": "",
           "text": "stroke backhand",
           "textfont": {
            "color": "white",
            "size": 12
           },
           "type": "scatter",
           "x": [
            -5
           ],
           "y": [
            8
           ]
          },
          {
           "mode": "text",
           "name": "",
           "text": "hitter Djokovic",
           "textfont": {
            "color": "white",
            "size": 12
           },
           "type": "scatter",
           "x": [
            -5
           ],
           "y": [
            10
           ]
          },
          {
           "mode": "text",
           "text": "strokeid 4",
           "textfont": {
            "color": "white",
            "size": 12
           },
           "type": "scatter",
           "x": [
            -5
           ],
           "y": [
            12
           ]
          }
         ],
         "name": ""
        },
        {
         "data": [
          {
           "marker": {
            "color": "orangered",
            "size": 10
           },
           "mode": "markers",
           "name": "Player 1",
           "type": "scatter",
           "x": [
            7.116
           ],
           "y": [
            -1.2039999999999997
           ]
          },
          {
           "marker": {
            "color": "aquamarine",
            "size": 10
           },
           "mode": "markers",
           "name": "Player 2",
           "type": "scatter",
           "x": [
            5.316
           ],
           "y": [
            26.580000000000002
           ]
          },
          {
           "marker": {
            "color": "yellow",
            "size": 10
           },
           "mode": "markers",
           "type": "scatter",
           "x": [
            7.795999999999999
           ],
           "y": [
            4.099999999999999
           ]
          },
          {
           "mode": "text",
           "name": "",
           "text": "type topspin",
           "textfont": {
            "color": "white",
            "size": 12
           },
           "type": "scatter",
           "x": [
            -5
           ],
           "y": [
            6
           ]
          },
          {
           "mode": "text",
           "name": "",
           "text": "stroke backhand",
           "textfont": {
            "color": "white",
            "size": 12
           },
           "type": "scatter",
           "x": [
            -5
           ],
           "y": [
            8
           ]
          },
          {
           "mode": "text",
           "name": "",
           "text": "hitter Djokovic",
           "textfont": {
            "color": "white",
            "size": 12
           },
           "type": "scatter",
           "x": [
            -5
           ],
           "y": [
            10
           ]
          },
          {
           "mode": "text",
           "text": "strokeid 4",
           "textfont": {
            "color": "white",
            "size": 12
           },
           "type": "scatter",
           "x": [
            -5
           ],
           "y": [
            12
           ]
          }
         ],
         "name": ""
        },
        {
         "data": [
          {
           "marker": {
            "color": "orangered",
            "size": 10
           },
           "mode": "markers",
           "name": "Player 1",
           "type": "scatter",
           "x": [
            7.457999999999999
           ],
           "y": [
            -1.182
           ]
          },
          {
           "marker": {
            "color": "aquamarine",
            "size": 10
           },
           "mode": "markers",
           "name": "Player 2",
           "type": "scatter",
           "x": [
            5.008
           ],
           "y": [
            26.76
           ]
          },
          {
           "marker": {
            "color": "yellow",
            "size": 10
           },
           "mode": "markers",
           "type": "scatter",
           "x": [
            7.797999999999999
           ],
           "y": [
            1.4699999999999993
           ]
          },
          {
           "mode": "text",
           "name": "",
           "text": "type topspin",
           "textfont": {
            "color": "white",
            "size": 12
           },
           "type": "scatter",
           "x": [
            -5
           ],
           "y": [
            6
           ]
          },
          {
           "mode": "text",
           "name": "",
           "text": "stroke backhand",
           "textfont": {
            "color": "white",
            "size": 12
           },
           "type": "scatter",
           "x": [
            -5
           ],
           "y": [
            8
           ]
          },
          {
           "mode": "text",
           "name": "",
           "text": "hitter Djokovic",
           "textfont": {
            "color": "white",
            "size": 12
           },
           "type": "scatter",
           "x": [
            -5
           ],
           "y": [
            10
           ]
          },
          {
           "mode": "text",
           "text": "strokeid 4",
           "textfont": {
            "color": "white",
            "size": 12
           },
           "type": "scatter",
           "x": [
            -5
           ],
           "y": [
            12
           ]
          }
         ],
         "name": ""
        },
        {
         "data": [
          {
           "marker": {
            "color": "orangered",
            "size": 10
           },
           "mode": "markers",
           "name": "Player 1",
           "type": "scatter",
           "x": [
            7.8
           ],
           "y": [
            -1.16
           ]
          },
          {
           "marker": {
            "color": "aquamarine",
            "size": 10
           },
           "mode": "markers",
           "name": "Player 2",
           "type": "scatter",
           "x": [
            4.7
           ],
           "y": [
            26.94
           ]
          },
          {
           "marker": {
            "color": "yellow",
            "size": 10
           },
           "mode": "markers",
           "type": "scatter",
           "x": [
            7.8
           ],
           "y": [
            -1.16
           ]
          },
          {
           "mode": "text",
           "name": "",
           "text": "type topspin",
           "textfont": {
            "color": "white",
            "size": 12
           },
           "type": "scatter",
           "x": [
            -5
           ],
           "y": [
            6
           ]
          },
          {
           "mode": "text",
           "name": "",
           "text": "stroke backhand",
           "textfont": {
            "color": "white",
            "size": 12
           },
           "type": "scatter",
           "x": [
            -5
           ],
           "y": [
            8
           ]
          },
          {
           "mode": "text",
           "name": "",
           "text": "hitter Nadal",
           "textfont": {
            "color": "white",
            "size": 12
           },
           "type": "scatter",
           "x": [
            -5
           ],
           "y": [
            10
           ]
          },
          {
           "mode": "text",
           "text": "strokeid 5",
           "textfont": {
            "color": "white",
            "size": 12
           },
           "type": "scatter",
           "x": [
            -5
           ],
           "y": [
            12
           ]
          }
         ],
         "name": ""
        },
        {
         "data": [
          {
           "marker": {
            "color": "orangered",
            "size": 10
           },
           "mode": "markers",
           "name": "Player 1",
           "type": "scatter",
           "x": [
            7.696
           ],
           "y": [
            -1.1600000000000001
           ]
          },
          {
           "marker": {
            "color": "aquamarine",
            "size": 10
           },
           "mode": "markers",
           "name": "Player 2",
           "type": "scatter",
           "x": [
            4.384
           ],
           "y": [
            26.843000000000004
           ]
          },
          {
           "marker": {
            "color": "yellow",
            "size": 10
           },
           "mode": "markers",
           "type": "scatter",
           "x": [
            7.1739999999999995
           ],
           "y": [
            1.553
           ]
          },
          {
           "mode": "text",
           "name": "",
           "text": "type topspin",
           "textfont": {
            "color": "white",
            "size": 12
           },
           "type": "scatter",
           "x": [
            -5
           ],
           "y": [
            6
           ]
          },
          {
           "mode": "text",
           "name": "",
           "text": "stroke backhand",
           "textfont": {
            "color": "white",
            "size": 12
           },
           "type": "scatter",
           "x": [
            -5
           ],
           "y": [
            8
           ]
          },
          {
           "mode": "text",
           "name": "",
           "text": "hitter Nadal",
           "textfont": {
            "color": "white",
            "size": 12
           },
           "type": "scatter",
           "x": [
            -5
           ],
           "y": [
            10
           ]
          },
          {
           "mode": "text",
           "text": "strokeid 5",
           "textfont": {
            "color": "white",
            "size": 12
           },
           "type": "scatter",
           "x": [
            -5
           ],
           "y": [
            12
           ]
          }
         ],
         "name": ""
        },
        {
         "data": [
          {
           "marker": {
            "color": "orangered",
            "size": 10
           },
           "mode": "markers",
           "name": "Player 1",
           "type": "scatter",
           "x": [
            7.5920000000000005
           ],
           "y": [
            -1.16
           ]
          },
          {
           "marker": {
            "color": "aquamarine",
            "size": 10
           },
           "mode": "markers",
           "name": "Player 2",
           "type": "scatter",
           "x": [
            4.0680000000000005
           ],
           "y": [
            26.746000000000002
           ]
          },
          {
           "marker": {
            "color": "yellow",
            "size": 10
           },
           "mode": "markers",
           "type": "scatter",
           "x": [
            6.548
           ],
           "y": [
            4.266
           ]
          },
          {
           "mode": "text",
           "name": "",
           "text": "type topspin",
           "textfont": {
            "color": "white",
            "size": 12
           },
           "type": "scatter",
           "x": [
            -5
           ],
           "y": [
            6
           ]
          },
          {
           "mode": "text",
           "name": "",
           "text": "stroke backhand",
           "textfont": {
            "color": "white",
            "size": 12
           },
           "type": "scatter",
           "x": [
            -5
           ],
           "y": [
            8
           ]
          },
          {
           "mode": "text",
           "name": "",
           "text": "hitter Nadal",
           "textfont": {
            "color": "white",
            "size": 12
           },
           "type": "scatter",
           "x": [
            -5
           ],
           "y": [
            10
           ]
          },
          {
           "mode": "text",
           "text": "strokeid 5",
           "textfont": {
            "color": "white",
            "size": 12
           },
           "type": "scatter",
           "x": [
            -5
           ],
           "y": [
            12
           ]
          }
         ],
         "name": ""
        },
        {
         "data": [
          {
           "marker": {
            "color": "orangered",
            "size": 10
           },
           "mode": "markers",
           "name": "Player 1",
           "type": "scatter",
           "x": [
            7.4879999999999995
           ],
           "y": [
            -1.16
           ]
          },
          {
           "marker": {
            "color": "aquamarine",
            "size": 10
           },
           "mode": "markers",
           "name": "Player 2",
           "type": "scatter",
           "x": [
            3.7520000000000002
           ],
           "y": [
            26.649
           ]
          },
          {
           "marker": {
            "color": "yellow",
            "size": 10
           },
           "mode": "markers",
           "type": "scatter",
           "x": [
            5.922
           ],
           "y": [
            6.979
           ]
          },
          {
           "mode": "text",
           "name": "",
           "text": "type topspin",
           "textfont": {
            "color": "white",
            "size": 12
           },
           "type": "scatter",
           "x": [
            -5
           ],
           "y": [
            6
           ]
          },
          {
           "mode": "text",
           "name": "",
           "text": "stroke backhand",
           "textfont": {
            "color": "white",
            "size": 12
           },
           "type": "scatter",
           "x": [
            -5
           ],
           "y": [
            8
           ]
          },
          {
           "mode": "text",
           "name": "",
           "text": "hitter Nadal",
           "textfont": {
            "color": "white",
            "size": 12
           },
           "type": "scatter",
           "x": [
            -5
           ],
           "y": [
            10
           ]
          },
          {
           "mode": "text",
           "text": "strokeid 5",
           "textfont": {
            "color": "white",
            "size": 12
           },
           "type": "scatter",
           "x": [
            -5
           ],
           "y": [
            12
           ]
          }
         ],
         "name": ""
        },
        {
         "data": [
          {
           "marker": {
            "color": "orangered",
            "size": 10
           },
           "mode": "markers",
           "name": "Player 1",
           "type": "scatter",
           "x": [
            7.384
           ],
           "y": [
            -1.16
           ]
          },
          {
           "marker": {
            "color": "aquamarine",
            "size": 10
           },
           "mode": "markers",
           "name": "Player 2",
           "type": "scatter",
           "x": [
            3.436
           ],
           "y": [
            26.552
           ]
          },
          {
           "marker": {
            "color": "yellow",
            "size": 10
           },
           "mode": "markers",
           "type": "scatter",
           "x": [
            5.295999999999999
           ],
           "y": [
            9.692
           ]
          },
          {
           "mode": "text",
           "name": "",
           "text": "type topspin",
           "textfont": {
            "color": "white",
            "size": 12
           },
           "type": "scatter",
           "x": [
            -5
           ],
           "y": [
            6
           ]
          },
          {
           "mode": "text",
           "name": "",
           "text": "stroke backhand",
           "textfont": {
            "color": "white",
            "size": 12
           },
           "type": "scatter",
           "x": [
            -5
           ],
           "y": [
            8
           ]
          },
          {
           "mode": "text",
           "name": "",
           "text": "hitter Nadal",
           "textfont": {
            "color": "white",
            "size": 12
           },
           "type": "scatter",
           "x": [
            -5
           ],
           "y": [
            10
           ]
          },
          {
           "mode": "text",
           "text": "strokeid 5",
           "textfont": {
            "color": "white",
            "size": 12
           },
           "type": "scatter",
           "x": [
            -5
           ],
           "y": [
            12
           ]
          }
         ],
         "name": ""
        },
        {
         "data": [
          {
           "marker": {
            "color": "orangered",
            "size": 10
           },
           "mode": "markers",
           "name": "Player 1",
           "type": "scatter",
           "x": [
            7.279999999999999
           ],
           "y": [
            -1.16
           ]
          },
          {
           "marker": {
            "color": "aquamarine",
            "size": 10
           },
           "mode": "markers",
           "name": "Player 2",
           "type": "scatter",
           "x": [
            3.12
           ],
           "y": [
            26.455
           ]
          },
          {
           "marker": {
            "color": "yellow",
            "size": 10
           },
           "mode": "markers",
           "type": "scatter",
           "x": [
            4.67
           ],
           "y": [
            12.405
           ]
          },
          {
           "mode": "text",
           "name": "",
           "text": "type topspin",
           "textfont": {
            "color": "white",
            "size": 12
           },
           "type": "scatter",
           "x": [
            -5
           ],
           "y": [
            6
           ]
          },
          {
           "mode": "text",
           "name": "",
           "text": "stroke backhand",
           "textfont": {
            "color": "white",
            "size": 12
           },
           "type": "scatter",
           "x": [
            -5
           ],
           "y": [
            8
           ]
          },
          {
           "mode": "text",
           "name": "",
           "text": "hitter Nadal",
           "textfont": {
            "color": "white",
            "size": 12
           },
           "type": "scatter",
           "x": [
            -5
           ],
           "y": [
            10
           ]
          },
          {
           "mode": "text",
           "text": "strokeid 5",
           "textfont": {
            "color": "white",
            "size": 12
           },
           "type": "scatter",
           "x": [
            -5
           ],
           "y": [
            12
           ]
          }
         ],
         "name": ""
        },
        {
         "data": [
          {
           "marker": {
            "color": "orangered",
            "size": 10
           },
           "mode": "markers",
           "name": "Player 1",
           "type": "scatter",
           "x": [
            7.175999999999999
           ],
           "y": [
            -1.16
           ]
          },
          {
           "marker": {
            "color": "aquamarine",
            "size": 10
           },
           "mode": "markers",
           "name": "Player 2",
           "type": "scatter",
           "x": [
            2.804
           ],
           "y": [
            26.357999999999997
           ]
          },
          {
           "marker": {
            "color": "yellow",
            "size": 10
           },
           "mode": "markers",
           "type": "scatter",
           "x": [
            4.044
           ],
           "y": [
            15.118
           ]
          },
          {
           "mode": "text",
           "name": "",
           "text": "type topspin",
           "textfont": {
            "color": "white",
            "size": 12
           },
           "type": "scatter",
           "x": [
            -5
           ],
           "y": [
            6
           ]
          },
          {
           "mode": "text",
           "name": "",
           "text": "stroke backhand",
           "textfont": {
            "color": "white",
            "size": 12
           },
           "type": "scatter",
           "x": [
            -5
           ],
           "y": [
            8
           ]
          },
          {
           "mode": "text",
           "name": "",
           "text": "hitter Nadal",
           "textfont": {
            "color": "white",
            "size": 12
           },
           "type": "scatter",
           "x": [
            -5
           ],
           "y": [
            10
           ]
          },
          {
           "mode": "text",
           "text": "strokeid 5",
           "textfont": {
            "color": "white",
            "size": 12
           },
           "type": "scatter",
           "x": [
            -5
           ],
           "y": [
            12
           ]
          }
         ],
         "name": ""
        },
        {
         "data": [
          {
           "marker": {
            "color": "orangered",
            "size": 10
           },
           "mode": "markers",
           "name": "Player 1",
           "type": "scatter",
           "x": [
            7.071999999999999
           ],
           "y": [
            -1.16
           ]
          },
          {
           "marker": {
            "color": "aquamarine",
            "size": 10
           },
           "mode": "markers",
           "name": "Player 2",
           "type": "scatter",
           "x": [
            2.4879999999999995
           ],
           "y": [
            26.261000000000003
           ]
          },
          {
           "marker": {
            "color": "yellow",
            "size": 10
           },
           "mode": "markers",
           "type": "scatter",
           "x": [
            3.4179999999999993
           ],
           "y": [
            17.831000000000003
           ]
          },
          {
           "mode": "text",
           "name": "",
           "text": "type topspin",
           "textfont": {
            "color": "white",
            "size": 12
           },
           "type": "scatter",
           "x": [
            -5
           ],
           "y": [
            6
           ]
          },
          {
           "mode": "text",
           "name": "",
           "text": "stroke backhand",
           "textfont": {
            "color": "white",
            "size": 12
           },
           "type": "scatter",
           "x": [
            -5
           ],
           "y": [
            8
           ]
          },
          {
           "mode": "text",
           "name": "",
           "text": "hitter Nadal",
           "textfont": {
            "color": "white",
            "size": 12
           },
           "type": "scatter",
           "x": [
            -5
           ],
           "y": [
            10
           ]
          },
          {
           "mode": "text",
           "text": "strokeid 5",
           "textfont": {
            "color": "white",
            "size": 12
           },
           "type": "scatter",
           "x": [
            -5
           ],
           "y": [
            12
           ]
          }
         ],
         "name": ""
        },
        {
         "data": [
          {
           "marker": {
            "color": "orangered",
            "size": 10
           },
           "mode": "markers",
           "name": "Player 1",
           "type": "scatter",
           "x": [
            6.968
           ],
           "y": [
            -1.16
           ]
          },
          {
           "marker": {
            "color": "aquamarine",
            "size": 10
           },
           "mode": "markers",
           "name": "Player 2",
           "type": "scatter",
           "x": [
            2.172
           ],
           "y": [
            26.163999999999998
           ]
          },
          {
           "marker": {
            "color": "yellow",
            "size": 10
           },
           "mode": "markers",
           "type": "scatter",
           "x": [
            2.792
           ],
           "y": [
            20.544
           ]
          },
          {
           "mode": "text",
           "name": "",
           "text": "type topspin",
           "textfont": {
            "color": "white",
            "size": 12
           },
           "type": "scatter",
           "x": [
            -5
           ],
           "y": [
            6
           ]
          },
          {
           "mode": "text",
           "name": "",
           "text": "stroke backhand",
           "textfont": {
            "color": "white",
            "size": 12
           },
           "type": "scatter",
           "x": [
            -5
           ],
           "y": [
            8
           ]
          },
          {
           "mode": "text",
           "name": "",
           "text": "hitter Nadal",
           "textfont": {
            "color": "white",
            "size": 12
           },
           "type": "scatter",
           "x": [
            -5
           ],
           "y": [
            10
           ]
          },
          {
           "mode": "text",
           "text": "strokeid 5",
           "textfont": {
            "color": "white",
            "size": 12
           },
           "type": "scatter",
           "x": [
            -5
           ],
           "y": [
            12
           ]
          }
         ],
         "name": ""
        },
        {
         "data": [
          {
           "marker": {
            "color": "orangered",
            "size": 10
           },
           "mode": "markers",
           "name": "Player 1",
           "type": "scatter",
           "x": [
            6.863999999999999
           ],
           "y": [
            -1.16
           ]
          },
          {
           "marker": {
            "color": "aquamarine",
            "size": 10
           },
           "mode": "markers",
           "name": "Player 2",
           "type": "scatter",
           "x": [
            1.856
           ],
           "y": [
            26.067
           ]
          },
          {
           "marker": {
            "color": "yellow",
            "size": 10
           },
           "mode": "markers",
           "type": "scatter",
           "x": [
            2.166
           ],
           "y": [
            23.257
           ]
          },
          {
           "mode": "text",
           "name": "",
           "text": "type topspin",
           "textfont": {
            "color": "white",
            "size": 12
           },
           "type": "scatter",
           "x": [
            -5
           ],
           "y": [
            6
           ]
          },
          {
           "mode": "text",
           "name": "",
           "text": "stroke backhand",
           "textfont": {
            "color": "white",
            "size": 12
           },
           "type": "scatter",
           "x": [
            -5
           ],
           "y": [
            8
           ]
          },
          {
           "mode": "text",
           "name": "",
           "text": "hitter Nadal",
           "textfont": {
            "color": "white",
            "size": 12
           },
           "type": "scatter",
           "x": [
            -5
           ],
           "y": [
            10
           ]
          },
          {
           "mode": "text",
           "text": "strokeid 5",
           "textfont": {
            "color": "white",
            "size": 12
           },
           "type": "scatter",
           "x": [
            -5
           ],
           "y": [
            12
           ]
          }
         ],
         "name": ""
        },
        {
         "data": [
          {
           "marker": {
            "color": "orangered",
            "size": 10
           },
           "mode": "markers",
           "name": "Player 1",
           "type": "scatter",
           "x": [
            6.76
           ],
           "y": [
            -1.16
           ]
          },
          {
           "marker": {
            "color": "aquamarine",
            "size": 10
           },
           "mode": "markers",
           "name": "Player 2",
           "type": "scatter",
           "x": [
            1.54
           ],
           "y": [
            25.97
           ]
          },
          {
           "marker": {
            "color": "yellow",
            "size": 10
           },
           "mode": "markers",
           "type": "scatter",
           "x": [
            1.54
           ],
           "y": [
            25.97
           ]
          },
          {
           "mode": "text",
           "name": "",
           "text": "type topspin",
           "textfont": {
            "color": "white",
            "size": 12
           },
           "type": "scatter",
           "x": [
            -5
           ],
           "y": [
            6
           ]
          },
          {
           "mode": "text",
           "name": "",
           "text": "stroke forehand",
           "textfont": {
            "color": "white",
            "size": 12
           },
           "type": "scatter",
           "x": [
            -5
           ],
           "y": [
            8
           ]
          },
          {
           "mode": "text",
           "name": "",
           "text": "hitter Djokovic",
           "textfont": {
            "color": "white",
            "size": 12
           },
           "type": "scatter",
           "x": [
            -5
           ],
           "y": [
            10
           ]
          },
          {
           "mode": "text",
           "text": "strokeid 6",
           "textfont": {
            "color": "white",
            "size": 12
           },
           "type": "scatter",
           "x": [
            -5
           ],
           "y": [
            12
           ]
          }
         ],
         "name": ""
        },
        {
         "data": [
          {
           "marker": {
            "color": "orangered",
            "size": 10
           },
           "mode": "markers",
           "name": "Player 1",
           "type": "scatter",
           "x": [
            6.356
           ],
           "y": [
            -1.227
           ]
          },
          {
           "marker": {
            "color": "aquamarine",
            "size": 10
           },
           "mode": "markers",
           "name": "Player 2",
           "type": "scatter",
           "x": [
            1.828
           ],
           "y": [
            25.934
           ]
          },
          {
           "marker": {
            "color": "yellow",
            "size": 10
           },
           "mode": "markers",
           "type": "scatter",
           "x": [
            1.6580000000000001
           ],
           "y": [
            23.19
           ]
          },
          {
           "mode": "text",
           "name": "",
           "text": "type topspin",
           "textfont": {
            "color": "white",
            "size": 12
           },
           "type": "scatter",
           "x": [
            -5
           ],
           "y": [
            6
           ]
          },
          {
           "mode": "text",
           "name": "",
           "text": "stroke forehand",
           "textfont": {
            "color": "white",
            "size": 12
           },
           "type": "scatter",
           "x": [
            -5
           ],
           "y": [
            8
           ]
          },
          {
           "mode": "text",
           "name": "",
           "text": "hitter Djokovic",
           "textfont": {
            "color": "white",
            "size": 12
           },
           "type": "scatter",
           "x": [
            -5
           ],
           "y": [
            10
           ]
          },
          {
           "mode": "text",
           "text": "strokeid 6",
           "textfont": {
            "color": "white",
            "size": 12
           },
           "type": "scatter",
           "x": [
            -5
           ],
           "y": [
            12
           ]
          }
         ],
         "name": ""
        },
        {
         "data": [
          {
           "marker": {
            "color": "orangered",
            "size": 10
           },
           "mode": "markers",
           "name": "Player 1",
           "type": "scatter",
           "x": [
            5.952
           ],
           "y": [
            -1.294
           ]
          },
          {
           "marker": {
            "color": "aquamarine",
            "size": 10
           },
           "mode": "markers",
           "name": "Player 2",
           "type": "scatter",
           "x": [
            2.116
           ],
           "y": [
            25.898
           ]
          },
          {
           "marker": {
            "color": "yellow",
            "size": 10
           },
           "mode": "markers",
           "type": "scatter",
           "x": [
            1.7760000000000002
           ],
           "y": [
            20.41
           ]
          },
          {
           "mode": "text",
           "name": "",
           "text": "type topspin",
           "textfont": {
            "color": "white",
            "size": 12
           },
           "type": "scatter",
           "x": [
            -5
           ],
           "y": [
            6
           ]
          },
          {
           "mode": "text",
           "name": "",
           "text": "stroke forehand",
           "textfont": {
            "color": "white",
            "size": 12
           },
           "type": "scatter",
           "x": [
            -5
           ],
           "y": [
            8
           ]
          },
          {
           "mode": "text",
           "name": "",
           "text": "hitter Djokovic",
           "textfont": {
            "color": "white",
            "size": 12
           },
           "type": "scatter",
           "x": [
            -5
           ],
           "y": [
            10
           ]
          },
          {
           "mode": "text",
           "text": "strokeid 6",
           "textfont": {
            "color": "white",
            "size": 12
           },
           "type": "scatter",
           "x": [
            -5
           ],
           "y": [
            12
           ]
          }
         ],
         "name": ""
        },
        {
         "data": [
          {
           "marker": {
            "color": "orangered",
            "size": 10
           },
           "mode": "markers",
           "name": "Player 1",
           "type": "scatter",
           "x": [
            5.547999999999999
           ],
           "y": [
            -1.3610000000000002
           ]
          },
          {
           "marker": {
            "color": "aquamarine",
            "size": 10
           },
           "mode": "markers",
           "name": "Player 2",
           "type": "scatter",
           "x": [
            2.404
           ],
           "y": [
            25.862
           ]
          },
          {
           "marker": {
            "color": "yellow",
            "size": 10
           },
           "mode": "markers",
           "type": "scatter",
           "x": [
            1.8940000000000001
           ],
           "y": [
            17.63
           ]
          },
          {
           "mode": "text",
           "name": "",
           "text": "type topspin",
           "textfont": {
            "color": "white",
            "size": 12
           },
           "type": "scatter",
           "x": [
            -5
           ],
           "y": [
            6
           ]
          },
          {
           "mode": "text",
           "name": "",
           "text": "stroke forehand",
           "textfont": {
            "color": "white",
            "size": 12
           },
           "type": "scatter",
           "x": [
            -5
           ],
           "y": [
            8
           ]
          },
          {
           "mode": "text",
           "name": "",
           "text": "hitter Djokovic",
           "textfont": {
            "color": "white",
            "size": 12
           },
           "type": "scatter",
           "x": [
            -5
           ],
           "y": [
            10
           ]
          },
          {
           "mode": "text",
           "text": "strokeid 6",
           "textfont": {
            "color": "white",
            "size": 12
           },
           "type": "scatter",
           "x": [
            -5
           ],
           "y": [
            12
           ]
          }
         ],
         "name": ""
        },
        {
         "data": [
          {
           "marker": {
            "color": "orangered",
            "size": 10
           },
           "mode": "markers",
           "name": "Player 1",
           "type": "scatter",
           "x": [
            5.144
           ],
           "y": [
            -1.428
           ]
          },
          {
           "marker": {
            "color": "aquamarine",
            "size": 10
           },
           "mode": "markers",
           "name": "Player 2",
           "type": "scatter",
           "x": [
            2.692
           ],
           "y": [
            25.826
           ]
          },
          {
           "marker": {
            "color": "yellow",
            "size": 10
           },
           "mode": "markers",
           "type": "scatter",
           "x": [
            2.012
           ],
           "y": [
            14.85
           ]
          },
          {
           "mode": "text",
           "name": "",
           "text": "type topspin",
           "textfont": {
            "color": "white",
            "size": 12
           },
           "type": "scatter",
           "x": [
            -5
           ],
           "y": [
            6
           ]
          },
          {
           "mode": "text",
           "name": "",
           "text": "stroke forehand",
           "textfont": {
            "color": "white",
            "size": 12
           },
           "type": "scatter",
           "x": [
            -5
           ],
           "y": [
            8
           ]
          },
          {
           "mode": "text",
           "name": "",
           "text": "hitter Djokovic",
           "textfont": {
            "color": "white",
            "size": 12
           },
           "type": "scatter",
           "x": [
            -5
           ],
           "y": [
            10
           ]
          },
          {
           "mode": "text",
           "text": "strokeid 6",
           "textfont": {
            "color": "white",
            "size": 12
           },
           "type": "scatter",
           "x": [
            -5
           ],
           "y": [
            12
           ]
          }
         ],
         "name": ""
        },
        {
         "data": [
          {
           "marker": {
            "color": "orangered",
            "size": 10
           },
           "mode": "markers",
           "name": "Player 1",
           "type": "scatter",
           "x": [
            4.74
           ],
           "y": [
            -1.495
           ]
          },
          {
           "marker": {
            "color": "aquamarine",
            "size": 10
           },
           "mode": "markers",
           "name": "Player 2",
           "type": "scatter",
           "x": [
            2.98
           ],
           "y": [
            25.79
           ]
          },
          {
           "marker": {
            "color": "yellow",
            "size": 10
           },
           "mode": "markers",
           "type": "scatter",
           "x": [
            2.13
           ],
           "y": [
            12.07
           ]
          },
          {
           "mode": "text",
           "name": "",
           "text": "type topspin",
           "textfont": {
            "color": "white",
            "size": 12
           },
           "type": "scatter",
           "x": [
            -5
           ],
           "y": [
            6
           ]
          },
          {
           "mode": "text",
           "name": "",
           "text": "stroke forehand",
           "textfont": {
            "color": "white",
            "size": 12
           },
           "type": "scatter",
           "x": [
            -5
           ],
           "y": [
            8
           ]
          },
          {
           "mode": "text",
           "name": "",
           "text": "hitter Djokovic",
           "textfont": {
            "color": "white",
            "size": 12
           },
           "type": "scatter",
           "x": [
            -5
           ],
           "y": [
            10
           ]
          },
          {
           "mode": "text",
           "text": "strokeid 6",
           "textfont": {
            "color": "white",
            "size": 12
           },
           "type": "scatter",
           "x": [
            -5
           ],
           "y": [
            12
           ]
          }
         ],
         "name": ""
        },
        {
         "data": [
          {
           "marker": {
            "color": "orangered",
            "size": 10
           },
           "mode": "markers",
           "name": "Player 1",
           "type": "scatter",
           "x": [
            4.335999999999999
           ],
           "y": [
            -1.5620000000000003
           ]
          },
          {
           "marker": {
            "color": "aquamarine",
            "size": 10
           },
           "mode": "markers",
           "name": "Player 2",
           "type": "scatter",
           "x": [
            3.268
           ],
           "y": [
            25.753999999999998
           ]
          },
          {
           "marker": {
            "color": "yellow",
            "size": 10
           },
           "mode": "markers",
           "type": "scatter",
           "x": [
            2.248
           ],
           "y": [
            9.289999999999997
           ]
          },
          {
           "mode": "text",
           "name": "",
           "text": "type topspin",
           "textfont": {
            "color": "white",
            "size": 12
           },
           "type": "scatter",
           "x": [
            -5
           ],
           "y": [
            6
           ]
          },
          {
           "mode": "text",
           "name": "",
           "text": "stroke forehand",
           "textfont": {
            "color": "white",
            "size": 12
           },
           "type": "scatter",
           "x": [
            -5
           ],
           "y": [
            8
           ]
          },
          {
           "mode": "text",
           "name": "",
           "text": "hitter Djokovic",
           "textfont": {
            "color": "white",
            "size": 12
           },
           "type": "scatter",
           "x": [
            -5
           ],
           "y": [
            10
           ]
          },
          {
           "mode": "text",
           "text": "strokeid 6",
           "textfont": {
            "color": "white",
            "size": 12
           },
           "type": "scatter",
           "x": [
            -5
           ],
           "y": [
            12
           ]
          }
         ],
         "name": ""
        },
        {
         "data": [
          {
           "marker": {
            "color": "orangered",
            "size": 10
           },
           "mode": "markers",
           "name": "Player 1",
           "type": "scatter",
           "x": [
            3.932
           ],
           "y": [
            -1.629
           ]
          },
          {
           "marker": {
            "color": "aquamarine",
            "size": 10
           },
           "mode": "markers",
           "name": "Player 2",
           "type": "scatter",
           "x": [
            3.556
           ],
           "y": [
            25.717999999999996
           ]
          },
          {
           "marker": {
            "color": "yellow",
            "size": 10
           },
           "mode": "markers",
           "type": "scatter",
           "x": [
            2.366
           ],
           "y": [
            6.509999999999998
           ]
          },
          {
           "mode": "text",
           "name": "",
           "text": "type topspin",
           "textfont": {
            "color": "white",
            "size": 12
           },
           "type": "scatter",
           "x": [
            -5
           ],
           "y": [
            6
           ]
          },
          {
           "mode": "text",
           "name": "",
           "text": "stroke forehand",
           "textfont": {
            "color": "white",
            "size": 12
           },
           "type": "scatter",
           "x": [
            -5
           ],
           "y": [
            8
           ]
          },
          {
           "mode": "text",
           "name": "",
           "text": "hitter Djokovic",
           "textfont": {
            "color": "white",
            "size": 12
           },
           "type": "scatter",
           "x": [
            -5
           ],
           "y": [
            10
           ]
          },
          {
           "mode": "text",
           "text": "strokeid 6",
           "textfont": {
            "color": "white",
            "size": 12
           },
           "type": "scatter",
           "x": [
            -5
           ],
           "y": [
            12
           ]
          }
         ],
         "name": ""
        },
        {
         "data": [
          {
           "marker": {
            "color": "orangered",
            "size": 10
           },
           "mode": "markers",
           "name": "Player 1",
           "type": "scatter",
           "x": [
            3.5279999999999996
           ],
           "y": [
            -1.6960000000000002
           ]
          },
          {
           "marker": {
            "color": "aquamarine",
            "size": 10
           },
           "mode": "markers",
           "name": "Player 2",
           "type": "scatter",
           "x": [
            3.844
           ],
           "y": [
            25.682
           ]
          },
          {
           "marker": {
            "color": "yellow",
            "size": 10
           },
           "mode": "markers",
           "type": "scatter",
           "x": [
            2.484
           ],
           "y": [
            3.7299999999999986
           ]
          },
          {
           "mode": "text",
           "name": "",
           "text": "type topspin",
           "textfont": {
            "color": "white",
            "size": 12
           },
           "type": "scatter",
           "x": [
            -5
           ],
           "y": [
            6
           ]
          },
          {
           "mode": "text",
           "name": "",
           "text": "stroke forehand",
           "textfont": {
            "color": "white",
            "size": 12
           },
           "type": "scatter",
           "x": [
            -5
           ],
           "y": [
            8
           ]
          },
          {
           "mode": "text",
           "name": "",
           "text": "hitter Djokovic",
           "textfont": {
            "color": "white",
            "size": 12
           },
           "type": "scatter",
           "x": [
            -5
           ],
           "y": [
            10
           ]
          },
          {
           "mode": "text",
           "text": "strokeid 6",
           "textfont": {
            "color": "white",
            "size": 12
           },
           "type": "scatter",
           "x": [
            -5
           ],
           "y": [
            12
           ]
          }
         ],
         "name": ""
        },
        {
         "data": [
          {
           "marker": {
            "color": "orangered",
            "size": 10
           },
           "mode": "markers",
           "name": "Player 1",
           "type": "scatter",
           "x": [
            3.124
           ],
           "y": [
            -1.763
           ]
          },
          {
           "marker": {
            "color": "aquamarine",
            "size": 10
           },
           "mode": "markers",
           "name": "Player 2",
           "type": "scatter",
           "x": [
            4.132000000000001
           ],
           "y": [
            25.646
           ]
          },
          {
           "marker": {
            "color": "yellow",
            "size": 10
           },
           "mode": "markers",
           "type": "scatter",
           "x": [
            2.6020000000000003
           ],
           "y": [
            0.9499999999999995
           ]
          },
          {
           "mode": "text",
           "name": "",
           "text": "type topspin",
           "textfont": {
            "color": "white",
            "size": 12
           },
           "type": "scatter",
           "x": [
            -5
           ],
           "y": [
            6
           ]
          },
          {
           "mode": "text",
           "name": "",
           "text": "stroke forehand",
           "textfont": {
            "color": "white",
            "size": 12
           },
           "type": "scatter",
           "x": [
            -5
           ],
           "y": [
            8
           ]
          },
          {
           "mode": "text",
           "name": "",
           "text": "hitter Djokovic",
           "textfont": {
            "color": "white",
            "size": 12
           },
           "type": "scatter",
           "x": [
            -5
           ],
           "y": [
            10
           ]
          },
          {
           "mode": "text",
           "text": "strokeid 6",
           "textfont": {
            "color": "white",
            "size": 12
           },
           "type": "scatter",
           "x": [
            -5
           ],
           "y": [
            12
           ]
          }
         ],
         "name": ""
        },
        {
         "data": [
          {
           "marker": {
            "color": "orangered",
            "size": 10
           },
           "mode": "markers",
           "name": "Player 1",
           "type": "scatter",
           "x": [
            3.124
           ],
           "y": [
            -1.763
           ]
          },
          {
           "marker": {
            "color": "aquamarine",
            "size": 10
           },
           "mode": "markers",
           "name": "Player 2",
           "type": "scatter",
           "x": [
            4.132000000000001
           ],
           "y": [
            25.646
           ]
          },
          {
           "marker": {
            "color": "yellow",
            "size": 10
           },
           "mode": "markers",
           "type": "scatter",
           "x": [
            2.72
           ],
           "y": [
            -1.83
           ]
          },
          {
           "mode": "text",
           "name": "",
           "text": "type topspin",
           "textfont": {
            "color": "white",
            "size": 12
           },
           "type": "scatter",
           "x": [
            -5
           ],
           "y": [
            6
           ]
          },
          {
           "mode": "text",
           "name": "",
           "text": "stroke forehand",
           "textfont": {
            "color": "white",
            "size": 12
           },
           "type": "scatter",
           "x": [
            -5
           ],
           "y": [
            8
           ]
          },
          {
           "mode": "text",
           "name": "",
           "text": "hitter Nadal",
           "textfont": {
            "color": "white",
            "size": 12
           },
           "type": "scatter",
           "x": [
            -5
           ],
           "y": [
            10
           ]
          },
          {
           "mode": "text",
           "text": "strokeid 7",
           "textfont": {
            "color": "white",
            "size": 12
           },
           "type": "scatter",
           "x": [
            -5
           ],
           "y": [
            12
           ]
          }
         ],
         "name": ""
        },
        {
         "data": [
          {
           "marker": {
            "color": "orangered",
            "size": 10
           },
           "mode": "markers",
           "name": "Player 1",
           "type": "scatter",
           "x": [
            3.124
           ],
           "y": [
            -1.763
           ]
          },
          {
           "marker": {
            "color": "aquamarine",
            "size": 10
           },
           "mode": "markers",
           "name": "Player 2",
           "type": "scatter",
           "x": [
            4.132000000000001
           ],
           "y": [
            25.646
           ]
          },
          {
           "marker": {
            "color": "yellow",
            "size": 10
           },
           "mode": "markers",
           "type": "scatter",
           "x": [
            2.498
           ],
           "y": [
            0.2200000000000002
           ]
          },
          {
           "mode": "text",
           "name": "",
           "text": "type topspin",
           "textfont": {
            "color": "white",
            "size": 12
           },
           "type": "scatter",
           "x": [
            -5
           ],
           "y": [
            6
           ]
          },
          {
           "mode": "text",
           "name": "",
           "text": "stroke forehand",
           "textfont": {
            "color": "white",
            "size": 12
           },
           "type": "scatter",
           "x": [
            -5
           ],
           "y": [
            8
           ]
          },
          {
           "mode": "text",
           "name": "",
           "text": "hitter Nadal",
           "textfont": {
            "color": "white",
            "size": 12
           },
           "type": "scatter",
           "x": [
            -5
           ],
           "y": [
            10
           ]
          },
          {
           "mode": "text",
           "text": "strokeid 7",
           "textfont": {
            "color": "white",
            "size": 12
           },
           "type": "scatter",
           "x": [
            -5
           ],
           "y": [
            12
           ]
          }
         ],
         "name": ""
        },
        {
         "data": [
          {
           "marker": {
            "color": "orangered",
            "size": 10
           },
           "mode": "markers",
           "name": "Player 1",
           "type": "scatter",
           "x": [
            3.124
           ],
           "y": [
            -1.763
           ]
          },
          {
           "marker": {
            "color": "aquamarine",
            "size": 10
           },
           "mode": "markers",
           "name": "Player 2",
           "type": "scatter",
           "x": [
            4.132000000000001
           ],
           "y": [
            25.646
           ]
          },
          {
           "marker": {
            "color": "yellow",
            "size": 10
           },
           "mode": "markers",
           "type": "scatter",
           "x": [
            2.2760000000000002
           ],
           "y": [
            2.2700000000000005
           ]
          },
          {
           "mode": "text",
           "name": "",
           "text": "type topspin",
           "textfont": {
            "color": "white",
            "size": 12
           },
           "type": "scatter",
           "x": [
            -5
           ],
           "y": [
            6
           ]
          },
          {
           "mode": "text",
           "name": "",
           "text": "stroke forehand",
           "textfont": {
            "color": "white",
            "size": 12
           },
           "type": "scatter",
           "x": [
            -5
           ],
           "y": [
            8
           ]
          },
          {
           "mode": "text",
           "name": "",
           "text": "hitter Nadal",
           "textfont": {
            "color": "white",
            "size": 12
           },
           "type": "scatter",
           "x": [
            -5
           ],
           "y": [
            10
           ]
          },
          {
           "mode": "text",
           "text": "strokeid 7",
           "textfont": {
            "color": "white",
            "size": 12
           },
           "type": "scatter",
           "x": [
            -5
           ],
           "y": [
            12
           ]
          }
         ],
         "name": ""
        },
        {
         "data": [
          {
           "marker": {
            "color": "orangered",
            "size": 10
           },
           "mode": "markers",
           "name": "Player 1",
           "type": "scatter",
           "x": [
            3.124
           ],
           "y": [
            -1.763
           ]
          },
          {
           "marker": {
            "color": "aquamarine",
            "size": 10
           },
           "mode": "markers",
           "name": "Player 2",
           "type": "scatter",
           "x": [
            4.132000000000001
           ],
           "y": [
            25.646
           ]
          },
          {
           "marker": {
            "color": "yellow",
            "size": 10
           },
           "mode": "markers",
           "type": "scatter",
           "x": [
            2.054
           ],
           "y": [
            4.320000000000002
           ]
          },
          {
           "mode": "text",
           "name": "",
           "text": "type topspin",
           "textfont": {
            "color": "white",
            "size": 12
           },
           "type": "scatter",
           "x": [
            -5
           ],
           "y": [
            6
           ]
          },
          {
           "mode": "text",
           "name": "",
           "text": "stroke forehand",
           "textfont": {
            "color": "white",
            "size": 12
           },
           "type": "scatter",
           "x": [
            -5
           ],
           "y": [
            8
           ]
          },
          {
           "mode": "text",
           "name": "",
           "text": "hitter Nadal",
           "textfont": {
            "color": "white",
            "size": 12
           },
           "type": "scatter",
           "x": [
            -5
           ],
           "y": [
            10
           ]
          },
          {
           "mode": "text",
           "text": "strokeid 7",
           "textfont": {
            "color": "white",
            "size": 12
           },
           "type": "scatter",
           "x": [
            -5
           ],
           "y": [
            12
           ]
          }
         ],
         "name": ""
        },
        {
         "data": [
          {
           "marker": {
            "color": "orangered",
            "size": 10
           },
           "mode": "markers",
           "name": "Player 1",
           "type": "scatter",
           "x": [
            3.124
           ],
           "y": [
            -1.763
           ]
          },
          {
           "marker": {
            "color": "aquamarine",
            "size": 10
           },
           "mode": "markers",
           "name": "Player 2",
           "type": "scatter",
           "x": [
            4.132000000000001
           ],
           "y": [
            25.646
           ]
          },
          {
           "marker": {
            "color": "yellow",
            "size": 10
           },
           "mode": "markers",
           "type": "scatter",
           "x": [
            1.832
           ],
           "y": [
            6.370000000000001
           ]
          },
          {
           "mode": "text",
           "name": "",
           "text": "type topspin",
           "textfont": {
            "color": "white",
            "size": 12
           },
           "type": "scatter",
           "x": [
            -5
           ],
           "y": [
            6
           ]
          },
          {
           "mode": "text",
           "name": "",
           "text": "stroke forehand",
           "textfont": {
            "color": "white",
            "size": 12
           },
           "type": "scatter",
           "x": [
            -5
           ],
           "y": [
            8
           ]
          },
          {
           "mode": "text",
           "name": "",
           "text": "hitter Nadal",
           "textfont": {
            "color": "white",
            "size": 12
           },
           "type": "scatter",
           "x": [
            -5
           ],
           "y": [
            10
           ]
          },
          {
           "mode": "text",
           "text": "strokeid 7",
           "textfont": {
            "color": "white",
            "size": 12
           },
           "type": "scatter",
           "x": [
            -5
           ],
           "y": [
            12
           ]
          }
         ],
         "name": ""
        },
        {
         "data": [
          {
           "marker": {
            "color": "orangered",
            "size": 10
           },
           "mode": "markers",
           "name": "Player 1",
           "type": "scatter",
           "x": [
            3.124
           ],
           "y": [
            -1.763
           ]
          },
          {
           "marker": {
            "color": "aquamarine",
            "size": 10
           },
           "mode": "markers",
           "name": "Player 2",
           "type": "scatter",
           "x": [
            4.132000000000001
           ],
           "y": [
            25.646
           ]
          },
          {
           "marker": {
            "color": "yellow",
            "size": 10
           },
           "mode": "markers",
           "type": "scatter",
           "x": [
            1.61
           ],
           "y": [
            8.420000000000002
           ]
          },
          {
           "mode": "text",
           "name": "",
           "text": "type topspin",
           "textfont": {
            "color": "white",
            "size": 12
           },
           "type": "scatter",
           "x": [
            -5
           ],
           "y": [
            6
           ]
          },
          {
           "mode": "text",
           "name": "",
           "text": "stroke forehand",
           "textfont": {
            "color": "white",
            "size": 12
           },
           "type": "scatter",
           "x": [
            -5
           ],
           "y": [
            8
           ]
          },
          {
           "mode": "text",
           "name": "",
           "text": "hitter Nadal",
           "textfont": {
            "color": "white",
            "size": 12
           },
           "type": "scatter",
           "x": [
            -5
           ],
           "y": [
            10
           ]
          },
          {
           "mode": "text",
           "text": "strokeid 7",
           "textfont": {
            "color": "white",
            "size": 12
           },
           "type": "scatter",
           "x": [
            -5
           ],
           "y": [
            12
           ]
          }
         ],
         "name": ""
        },
        {
         "data": [
          {
           "marker": {
            "color": "orangered",
            "size": 10
           },
           "mode": "markers",
           "name": "Player 1",
           "type": "scatter",
           "x": [
            3.124
           ],
           "y": [
            -1.763
           ]
          },
          {
           "marker": {
            "color": "aquamarine",
            "size": 10
           },
           "mode": "markers",
           "name": "Player 2",
           "type": "scatter",
           "x": [
            4.132000000000001
           ],
           "y": [
            25.646
           ]
          },
          {
           "marker": {
            "color": "yellow",
            "size": 10
           },
           "mode": "markers",
           "type": "scatter",
           "x": [
            1.388
           ],
           "y": [
            10.470000000000004
           ]
          },
          {
           "mode": "text",
           "name": "",
           "text": "type topspin",
           "textfont": {
            "color": "white",
            "size": 12
           },
           "type": "scatter",
           "x": [
            -5
           ],
           "y": [
            6
           ]
          },
          {
           "mode": "text",
           "name": "",
           "text": "stroke forehand",
           "textfont": {
            "color": "white",
            "size": 12
           },
           "type": "scatter",
           "x": [
            -5
           ],
           "y": [
            8
           ]
          },
          {
           "mode": "text",
           "name": "",
           "text": "hitter Nadal",
           "textfont": {
            "color": "white",
            "size": 12
           },
           "type": "scatter",
           "x": [
            -5
           ],
           "y": [
            10
           ]
          },
          {
           "mode": "text",
           "text": "strokeid 7",
           "textfont": {
            "color": "white",
            "size": 12
           },
           "type": "scatter",
           "x": [
            -5
           ],
           "y": [
            12
           ]
          }
         ],
         "name": ""
        },
        {
         "data": [
          {
           "marker": {
            "color": "orangered",
            "size": 10
           },
           "mode": "markers",
           "name": "Player 1",
           "type": "scatter",
           "x": [
            3.124
           ],
           "y": [
            -1.763
           ]
          },
          {
           "marker": {
            "color": "aquamarine",
            "size": 10
           },
           "mode": "markers",
           "name": "Player 2",
           "type": "scatter",
           "x": [
            4.132000000000001
           ],
           "y": [
            25.646
           ]
          },
          {
           "marker": {
            "color": "yellow",
            "size": 10
           },
           "mode": "markers",
           "type": "scatter",
           "x": [
            1.166
           ],
           "y": [
            12.520000000000003
           ]
          },
          {
           "mode": "text",
           "name": "",
           "text": "type topspin",
           "textfont": {
            "color": "white",
            "size": 12
           },
           "type": "scatter",
           "x": [
            -5
           ],
           "y": [
            6
           ]
          },
          {
           "mode": "text",
           "name": "",
           "text": "stroke forehand",
           "textfont": {
            "color": "white",
            "size": 12
           },
           "type": "scatter",
           "x": [
            -5
           ],
           "y": [
            8
           ]
          },
          {
           "mode": "text",
           "name": "",
           "text": "hitter Nadal",
           "textfont": {
            "color": "white",
            "size": 12
           },
           "type": "scatter",
           "x": [
            -5
           ],
           "y": [
            10
           ]
          },
          {
           "mode": "text",
           "text": "strokeid 7",
           "textfont": {
            "color": "white",
            "size": 12
           },
           "type": "scatter",
           "x": [
            -5
           ],
           "y": [
            12
           ]
          }
         ],
         "name": ""
        },
        {
         "data": [
          {
           "marker": {
            "color": "orangered",
            "size": 10
           },
           "mode": "markers",
           "name": "Player 1",
           "type": "scatter",
           "x": [
            3.124
           ],
           "y": [
            -1.763
           ]
          },
          {
           "marker": {
            "color": "aquamarine",
            "size": 10
           },
           "mode": "markers",
           "name": "Player 2",
           "type": "scatter",
           "x": [
            4.132000000000001
           ],
           "y": [
            25.646
           ]
          },
          {
           "marker": {
            "color": "yellow",
            "size": 10
           },
           "mode": "markers",
           "type": "scatter",
           "x": [
            0.944
           ],
           "y": [
            14.570000000000002
           ]
          },
          {
           "mode": "text",
           "name": "",
           "text": "type topspin",
           "textfont": {
            "color": "white",
            "size": 12
           },
           "type": "scatter",
           "x": [
            -5
           ],
           "y": [
            6
           ]
          },
          {
           "mode": "text",
           "name": "",
           "text": "stroke forehand",
           "textfont": {
            "color": "white",
            "size": 12
           },
           "type": "scatter",
           "x": [
            -5
           ],
           "y": [
            8
           ]
          },
          {
           "mode": "text",
           "name": "",
           "text": "hitter Nadal",
           "textfont": {
            "color": "white",
            "size": 12
           },
           "type": "scatter",
           "x": [
            -5
           ],
           "y": [
            10
           ]
          },
          {
           "mode": "text",
           "text": "strokeid 7",
           "textfont": {
            "color": "white",
            "size": 12
           },
           "type": "scatter",
           "x": [
            -5
           ],
           "y": [
            12
           ]
          }
         ],
         "name": ""
        },
        {
         "data": [
          {
           "marker": {
            "color": "orangered",
            "size": 10
           },
           "mode": "markers",
           "name": "Player 1",
           "type": "scatter",
           "x": [
            3.124
           ],
           "y": [
            -1.763
           ]
          },
          {
           "marker": {
            "color": "aquamarine",
            "size": 10
           },
           "mode": "markers",
           "name": "Player 2",
           "type": "scatter",
           "x": [
            4.132000000000001
           ],
           "y": [
            25.646
           ]
          },
          {
           "marker": {
            "color": "yellow",
            "size": 10
           },
           "mode": "markers",
           "type": "scatter",
           "x": [
            0.722
           ],
           "y": [
            16.62
           ]
          },
          {
           "mode": "text",
           "name": "",
           "text": "type topspin",
           "textfont": {
            "color": "white",
            "size": 12
           },
           "type": "scatter",
           "x": [
            -5
           ],
           "y": [
            6
           ]
          },
          {
           "mode": "text",
           "name": "",
           "text": "stroke forehand",
           "textfont": {
            "color": "white",
            "size": 12
           },
           "type": "scatter",
           "x": [
            -5
           ],
           "y": [
            8
           ]
          },
          {
           "mode": "text",
           "name": "",
           "text": "hitter Nadal",
           "textfont": {
            "color": "white",
            "size": 12
           },
           "type": "scatter",
           "x": [
            -5
           ],
           "y": [
            10
           ]
          },
          {
           "mode": "text",
           "text": "strokeid 7",
           "textfont": {
            "color": "white",
            "size": 12
           },
           "type": "scatter",
           "x": [
            -5
           ],
           "y": [
            12
           ]
          }
         ],
         "name": ""
        },
        {
         "data": [
          {
           "marker": {
            "color": "orangered",
            "size": 10
           },
           "mode": "markers",
           "name": "Player 1",
           "type": "scatter",
           "x": [
            3.124
           ],
           "y": [
            -1.763
           ]
          },
          {
           "marker": {
            "color": "aquamarine",
            "size": 10
           },
           "mode": "markers",
           "name": "Player 2",
           "type": "scatter",
           "x": [
            4.132000000000001
           ],
           "y": [
            25.646
           ]
          },
          {
           "marker": {
            "color": "yellow",
            "size": 10
           },
           "mode": "markers",
           "type": "scatter",
           "x": [
            0.5
           ],
           "y": [
            18.67
           ]
          },
          {
           "mode": "text",
           "name": "",
           "text": "type serve",
           "textfont": {
            "color": "white",
            "size": 12
           },
           "type": "scatter",
           "x": [
            -5
           ],
           "y": [
            6
           ]
          },
          {
           "mode": "text",
           "name": "",
           "text": "stroke forehand",
           "textfont": {
            "color": "white",
            "size": 12
           },
           "type": "scatter",
           "x": [
            -5
           ],
           "y": [
            8
           ]
          },
          {
           "mode": "text",
           "name": "",
           "text": "hitter Nadal",
           "textfont": {
            "color": "white",
            "size": 12
           },
           "type": "scatter",
           "x": [
            -5
           ],
           "y": [
            10
           ]
          },
          {
           "mode": "text",
           "text": "strokeid 1",
           "textfont": {
            "color": "white",
            "size": 12
           },
           "type": "scatter",
           "x": [
            -5
           ],
           "y": [
            12
           ]
          }
         ],
         "name": ""
        }
       ],
       "layout": {
        "height": 800,
        "plot_bgcolor": "#5080B0",
        "template": {
         "data": {
          "bar": [
           {
            "error_x": {
             "color": "#2a3f5f"
            },
            "error_y": {
             "color": "#2a3f5f"
            },
            "marker": {
             "line": {
              "color": "#E5ECF6",
              "width": 0.5
             },
             "pattern": {
              "fillmode": "overlay",
              "size": 10,
              "solidity": 0.2
             }
            },
            "type": "bar"
           }
          ],
          "barpolar": [
           {
            "marker": {
             "line": {
              "color": "#E5ECF6",
              "width": 0.5
             },
             "pattern": {
              "fillmode": "overlay",
              "size": 10,
              "solidity": 0.2
             }
            },
            "type": "barpolar"
           }
          ],
          "carpet": [
           {
            "aaxis": {
             "endlinecolor": "#2a3f5f",
             "gridcolor": "white",
             "linecolor": "white",
             "minorgridcolor": "white",
             "startlinecolor": "#2a3f5f"
            },
            "baxis": {
             "endlinecolor": "#2a3f5f",
             "gridcolor": "white",
             "linecolor": "white",
             "minorgridcolor": "white",
             "startlinecolor": "#2a3f5f"
            },
            "type": "carpet"
           }
          ],
          "choropleth": [
           {
            "colorbar": {
             "outlinewidth": 0,
             "ticks": ""
            },
            "type": "choropleth"
           }
          ],
          "contour": [
           {
            "colorbar": {
             "outlinewidth": 0,
             "ticks": ""
            },
            "colorscale": [
             [
              0,
              "#0d0887"
             ],
             [
              0.1111111111111111,
              "#46039f"
             ],
             [
              0.2222222222222222,
              "#7201a8"
             ],
             [
              0.3333333333333333,
              "#9c179e"
             ],
             [
              0.4444444444444444,
              "#bd3786"
             ],
             [
              0.5555555555555556,
              "#d8576b"
             ],
             [
              0.6666666666666666,
              "#ed7953"
             ],
             [
              0.7777777777777778,
              "#fb9f3a"
             ],
             [
              0.8888888888888888,
              "#fdca26"
             ],
             [
              1,
              "#f0f921"
             ]
            ],
            "type": "contour"
           }
          ],
          "contourcarpet": [
           {
            "colorbar": {
             "outlinewidth": 0,
             "ticks": ""
            },
            "type": "contourcarpet"
           }
          ],
          "heatmap": [
           {
            "colorbar": {
             "outlinewidth": 0,
             "ticks": ""
            },
            "colorscale": [
             [
              0,
              "#0d0887"
             ],
             [
              0.1111111111111111,
              "#46039f"
             ],
             [
              0.2222222222222222,
              "#7201a8"
             ],
             [
              0.3333333333333333,
              "#9c179e"
             ],
             [
              0.4444444444444444,
              "#bd3786"
             ],
             [
              0.5555555555555556,
              "#d8576b"
             ],
             [
              0.6666666666666666,
              "#ed7953"
             ],
             [
              0.7777777777777778,
              "#fb9f3a"
             ],
             [
              0.8888888888888888,
              "#fdca26"
             ],
             [
              1,
              "#f0f921"
             ]
            ],
            "type": "heatmap"
           }
          ],
          "heatmapgl": [
           {
            "colorbar": {
             "outlinewidth": 0,
             "ticks": ""
            },
            "colorscale": [
             [
              0,
              "#0d0887"
             ],
             [
              0.1111111111111111,
              "#46039f"
             ],
             [
              0.2222222222222222,
              "#7201a8"
             ],
             [
              0.3333333333333333,
              "#9c179e"
             ],
             [
              0.4444444444444444,
              "#bd3786"
             ],
             [
              0.5555555555555556,
              "#d8576b"
             ],
             [
              0.6666666666666666,
              "#ed7953"
             ],
             [
              0.7777777777777778,
              "#fb9f3a"
             ],
             [
              0.8888888888888888,
              "#fdca26"
             ],
             [
              1,
              "#f0f921"
             ]
            ],
            "type": "heatmapgl"
           }
          ],
          "histogram": [
           {
            "marker": {
             "pattern": {
              "fillmode": "overlay",
              "size": 10,
              "solidity": 0.2
             }
            },
            "type": "histogram"
           }
          ],
          "histogram2d": [
           {
            "colorbar": {
             "outlinewidth": 0,
             "ticks": ""
            },
            "colorscale": [
             [
              0,
              "#0d0887"
             ],
             [
              0.1111111111111111,
              "#46039f"
             ],
             [
              0.2222222222222222,
              "#7201a8"
             ],
             [
              0.3333333333333333,
              "#9c179e"
             ],
             [
              0.4444444444444444,
              "#bd3786"
             ],
             [
              0.5555555555555556,
              "#d8576b"
             ],
             [
              0.6666666666666666,
              "#ed7953"
             ],
             [
              0.7777777777777778,
              "#fb9f3a"
             ],
             [
              0.8888888888888888,
              "#fdca26"
             ],
             [
              1,
              "#f0f921"
             ]
            ],
            "type": "histogram2d"
           }
          ],
          "histogram2dcontour": [
           {
            "colorbar": {
             "outlinewidth": 0,
             "ticks": ""
            },
            "colorscale": [
             [
              0,
              "#0d0887"
             ],
             [
              0.1111111111111111,
              "#46039f"
             ],
             [
              0.2222222222222222,
              "#7201a8"
             ],
             [
              0.3333333333333333,
              "#9c179e"
             ],
             [
              0.4444444444444444,
              "#bd3786"
             ],
             [
              0.5555555555555556,
              "#d8576b"
             ],
             [
              0.6666666666666666,
              "#ed7953"
             ],
             [
              0.7777777777777778,
              "#fb9f3a"
             ],
             [
              0.8888888888888888,
              "#fdca26"
             ],
             [
              1,
              "#f0f921"
             ]
            ],
            "type": "histogram2dcontour"
           }
          ],
          "mesh3d": [
           {
            "colorbar": {
             "outlinewidth": 0,
             "ticks": ""
            },
            "type": "mesh3d"
           }
          ],
          "parcoords": [
           {
            "line": {
             "colorbar": {
              "outlinewidth": 0,
              "ticks": ""
             }
            },
            "type": "parcoords"
           }
          ],
          "pie": [
           {
            "automargin": true,
            "type": "pie"
           }
          ],
          "scatter": [
           {
            "marker": {
             "colorbar": {
              "outlinewidth": 0,
              "ticks": ""
             }
            },
            "type": "scatter"
           }
          ],
          "scatter3d": [
           {
            "line": {
             "colorbar": {
              "outlinewidth": 0,
              "ticks": ""
             }
            },
            "marker": {
             "colorbar": {
              "outlinewidth": 0,
              "ticks": ""
             }
            },
            "type": "scatter3d"
           }
          ],
          "scattercarpet": [
           {
            "marker": {
             "colorbar": {
              "outlinewidth": 0,
              "ticks": ""
             }
            },
            "type": "scattercarpet"
           }
          ],
          "scattergeo": [
           {
            "marker": {
             "colorbar": {
              "outlinewidth": 0,
              "ticks": ""
             }
            },
            "type": "scattergeo"
           }
          ],
          "scattergl": [
           {
            "marker": {
             "colorbar": {
              "outlinewidth": 0,
              "ticks": ""
             }
            },
            "type": "scattergl"
           }
          ],
          "scattermapbox": [
           {
            "marker": {
             "colorbar": {
              "outlinewidth": 0,
              "ticks": ""
             }
            },
            "type": "scattermapbox"
           }
          ],
          "scatterpolar": [
           {
            "marker": {
             "colorbar": {
              "outlinewidth": 0,
              "ticks": ""
             }
            },
            "type": "scatterpolar"
           }
          ],
          "scatterpolargl": [
           {
            "marker": {
             "colorbar": {
              "outlinewidth": 0,
              "ticks": ""
             }
            },
            "type": "scatterpolargl"
           }
          ],
          "scatterternary": [
           {
            "marker": {
             "colorbar": {
              "outlinewidth": 0,
              "ticks": ""
             }
            },
            "type": "scatterternary"
           }
          ],
          "surface": [
           {
            "colorbar": {
             "outlinewidth": 0,
             "ticks": ""
            },
            "colorscale": [
             [
              0,
              "#0d0887"
             ],
             [
              0.1111111111111111,
              "#46039f"
             ],
             [
              0.2222222222222222,
              "#7201a8"
             ],
             [
              0.3333333333333333,
              "#9c179e"
             ],
             [
              0.4444444444444444,
              "#bd3786"
             ],
             [
              0.5555555555555556,
              "#d8576b"
             ],
             [
              0.6666666666666666,
              "#ed7953"
             ],
             [
              0.7777777777777778,
              "#fb9f3a"
             ],
             [
              0.8888888888888888,
              "#fdca26"
             ],
             [
              1,
              "#f0f921"
             ]
            ],
            "type": "surface"
           }
          ],
          "table": [
           {
            "cells": {
             "fill": {
              "color": "#EBF0F8"
             },
             "line": {
              "color": "white"
             }
            },
            "header": {
             "fill": {
              "color": "#C8D4E3"
             },
             "line": {
              "color": "white"
             }
            },
            "type": "table"
           }
          ]
         },
         "layout": {
          "annotationdefaults": {
           "arrowcolor": "#2a3f5f",
           "arrowhead": 0,
           "arrowwidth": 1
          },
          "autotypenumbers": "strict",
          "coloraxis": {
           "colorbar": {
            "outlinewidth": 0,
            "ticks": ""
           }
          },
          "colorscale": {
           "diverging": [
            [
             0,
             "#8e0152"
            ],
            [
             0.1,
             "#c51b7d"
            ],
            [
             0.2,
             "#de77ae"
            ],
            [
             0.3,
             "#f1b6da"
            ],
            [
             0.4,
             "#fde0ef"
            ],
            [
             0.5,
             "#f7f7f7"
            ],
            [
             0.6,
             "#e6f5d0"
            ],
            [
             0.7,
             "#b8e186"
            ],
            [
             0.8,
             "#7fbc41"
            ],
            [
             0.9,
             "#4d9221"
            ],
            [
             1,
             "#276419"
            ]
           ],
           "sequential": [
            [
             0,
             "#0d0887"
            ],
            [
             0.1111111111111111,
             "#46039f"
            ],
            [
             0.2222222222222222,
             "#7201a8"
            ],
            [
             0.3333333333333333,
             "#9c179e"
            ],
            [
             0.4444444444444444,
             "#bd3786"
            ],
            [
             0.5555555555555556,
             "#d8576b"
            ],
            [
             0.6666666666666666,
             "#ed7953"
            ],
            [
             0.7777777777777778,
             "#fb9f3a"
            ],
            [
             0.8888888888888888,
             "#fdca26"
            ],
            [
             1,
             "#f0f921"
            ]
           ],
           "sequentialminus": [
            [
             0,
             "#0d0887"
            ],
            [
             0.1111111111111111,
             "#46039f"
            ],
            [
             0.2222222222222222,
             "#7201a8"
            ],
            [
             0.3333333333333333,
             "#9c179e"
            ],
            [
             0.4444444444444444,
             "#bd3786"
            ],
            [
             0.5555555555555556,
             "#d8576b"
            ],
            [
             0.6666666666666666,
             "#ed7953"
            ],
            [
             0.7777777777777778,
             "#fb9f3a"
            ],
            [
             0.8888888888888888,
             "#fdca26"
            ],
            [
             1,
             "#f0f921"
            ]
           ]
          },
          "colorway": [
           "#636efa",
           "#EF553B",
           "#00cc96",
           "#ab63fa",
           "#FFA15A",
           "#19d3f3",
           "#FF6692",
           "#B6E880",
           "#FF97FF",
           "#FECB52"
          ],
          "font": {
           "color": "#2a3f5f"
          },
          "geo": {
           "bgcolor": "white",
           "lakecolor": "white",
           "landcolor": "#E5ECF6",
           "showlakes": true,
           "showland": true,
           "subunitcolor": "white"
          },
          "hoverlabel": {
           "align": "left"
          },
          "hovermode": "closest",
          "mapbox": {
           "style": "light"
          },
          "paper_bgcolor": "white",
          "plot_bgcolor": "#E5ECF6",
          "polar": {
           "angularaxis": {
            "gridcolor": "white",
            "linecolor": "white",
            "ticks": ""
           },
           "bgcolor": "#E5ECF6",
           "radialaxis": {
            "gridcolor": "white",
            "linecolor": "white",
            "ticks": ""
           }
          },
          "scene": {
           "xaxis": {
            "backgroundcolor": "#E5ECF6",
            "gridcolor": "white",
            "gridwidth": 2,
            "linecolor": "white",
            "showbackground": true,
            "ticks": "",
            "zerolinecolor": "white"
           },
           "yaxis": {
            "backgroundcolor": "#E5ECF6",
            "gridcolor": "white",
            "gridwidth": 2,
            "linecolor": "white",
            "showbackground": true,
            "ticks": "",
            "zerolinecolor": "white"
           },
           "zaxis": {
            "backgroundcolor": "#E5ECF6",
            "gridcolor": "white",
            "gridwidth": 2,
            "linecolor": "white",
            "showbackground": true,
            "ticks": "",
            "zerolinecolor": "white"
           }
          },
          "shapedefaults": {
           "line": {
            "color": "#2a3f5f"
           }
          },
          "ternary": {
           "aaxis": {
            "gridcolor": "white",
            "linecolor": "white",
            "ticks": ""
           },
           "baxis": {
            "gridcolor": "white",
            "linecolor": "white",
            "ticks": ""
           },
           "bgcolor": "#E5ECF6",
           "caxis": {
            "gridcolor": "white",
            "linecolor": "white",
            "ticks": ""
           }
          },
          "title": {
           "x": 0.05
          },
          "xaxis": {
           "automargin": true,
           "gridcolor": "white",
           "linecolor": "white",
           "ticks": "",
           "title": {
            "standoff": 15
           },
           "zerolinecolor": "white",
           "zerolinewidth": 2
          },
          "yaxis": {
           "automargin": true,
           "gridcolor": "white",
           "linecolor": "white",
           "ticks": "",
           "title": {
            "standoff": 15
           },
           "zerolinecolor": "white",
           "zerolinewidth": 2
          }
         }
        },
        "title": {
         "text": "Tennis Point"
        },
        "updatemenus": [
         {
          "buttons": [
           {
            "args": [
             null,
             {
              "frame": {
               "duration": 100,
               "redraw": true
              },
              "fromcurrent": true,
              "transition": {
               "duration": 300,
               "easing": "quadratic-in-out"
              }
             }
            ],
            "label": "Play",
            "method": "animate"
           },
           {
            "args": [
             [
              null
             ],
             {
              "frame": {
               "duration": 0,
               "redraw": true
              },
              "mode": "immediate",
              "transition": {
               "duration": 0
              }
             }
            ],
            "label": "Pause",
            "method": "animate"
           }
          ],
          "direction": "left",
          "pad": {
           "r": 10,
           "t": 87
          },
          "showactive": true,
          "type": "buttons",
          "x": 0.1,
          "xanchor": "right",
          "y": 0,
          "yanchor": "top"
         }
        ],
        "width": 550,
        "xaxis": {
         "autorange": false,
         "range": [
          -9,
          12.97
         ],
         "showgrid": false,
         "zeroline": false
        },
        "yaxis": {
         "autorange": false,
         "range": [
          -6.5,
          30.28
         ],
         "showgrid": false,
         "zeroline": false
        }
       }
      },
      "text/html": [
       "<div>                            <div id=\"49e7abaa-b420-4919-bd65-2871b156f85c\" class=\"plotly-graph-div\" style=\"height:800px; width:550px;\"></div>            <script type=\"text/javascript\">                require([\"plotly\"], function(Plotly) {                    window.PLOTLYENV=window.PLOTLYENV || {};                                    if (document.getElementById(\"49e7abaa-b420-4919-bd65-2871b156f85c\")) {                    Plotly.newPlot(                        \"49e7abaa-b420-4919-bd65-2871b156f85c\",                        [{\"name\":\"\",\"type\":\"scatter\",\"x\":[-10],\"y\":[-10]},{\"name\":\"\",\"type\":\"scatter\",\"x\":[-10],\"y\":[-10]},{\"name\":\"\",\"type\":\"scatter\",\"x\":[-10],\"y\":[-10]},{\"name\":\"\",\"type\":\"scatter\",\"x\":[-10],\"y\":[-10]},{\"name\":\"\",\"type\":\"scatter\",\"x\":[-10],\"y\":[-10]},{\"name\":\"\",\"type\":\"scatter\",\"x\":[-10],\"y\":[-10]},{\"name\":\"\",\"type\":\"scatter\",\"x\":[-10],\"y\":[-10]},{\"name\":\"\",\"type\":\"scatter\",\"x\":[-10],\"y\":[-10]},{\"name\":\"\",\"type\":\"scatter\",\"x\":[-10],\"y\":[-10]},{\"name\":\"\",\"type\":\"scatter\",\"x\":[-10],\"y\":[-10]},{\"line\":{\"color\":\"white\",\"width\":2},\"mode\":\"lines\",\"name\":\"\",\"type\":\"scatter\",\"x\":[10.97,0],\"y\":[11.89,11.89]},{\"line\":{\"color\":\"white\",\"width\":2},\"mode\":\"lines\",\"name\":\"\",\"type\":\"scatter\",\"x\":[0,0,10.97,10.97,0],\"y\":[0,23.78,23.78,0,0]},{\"line\":{\"color\":\"white\",\"width\":2},\"mode\":\"lines\",\"name\":\"\",\"type\":\"scatter\",\"x\":[5.485,5.49],\"y\":[5.485,18.29]},{\"line\":{\"color\":\"white\",\"width\":2},\"mode\":\"lines\",\"name\":\"\",\"type\":\"scatter\",\"x\":[5.485,5.485],\"y\":[0,0.45]},{\"line\":{\"color\":\"white\",\"width\":2},\"mode\":\"lines\",\"name\":\"\",\"type\":\"scatter\",\"x\":[5.485,5.485],\"y\":[23.78,23.330000000000002]},{\"line\":{\"color\":\"white\",\"width\":2},\"mode\":\"lines\",\"name\":\"\",\"type\":\"scatter\",\"x\":[1.37,1.37],\"y\":[0,23.78]},{\"line\":{\"color\":\"white\",\"width\":2},\"mode\":\"lines\",\"name\":\"\",\"type\":\"scatter\",\"x\":[9.600000000000001,9.600000000000001],\"y\":[0,23.78]},{\"line\":{\"color\":\"white\",\"width\":2},\"mode\":\"lines\",\"name\":\"\",\"type\":\"scatter\",\"x\":[1.37,1.37,9.600000000000001,9.600000000000001,1.37],\"y\":[5.5,18.29,18.29,5.5,5.5]},{\"mode\":\"text\",\"name\":\"\",\"text\":\"score 1:0, 15:0\",\"textfont\":{\"color\":\"white\",\"size\":12},\"type\":\"scatter\",\"x\":[-5],\"y\":[20]},{\"mode\":\"text\",\"name\":\"\",\"text\":\"1st/2nd serve second\",\"textfont\":{\"color\":\"white\",\"size\":12},\"type\":\"scatter\",\"x\":[-5],\"y\":[16]},{\"mode\":\"text\",\"name\":\"\",\"text\":\"server Nadal\",\"textfont\":{\"color\":\"white\",\"size\":12},\"type\":\"scatter\",\"x\":[-5],\"y\":[18]},{\"mode\":\"text\",\"name\":\"\",\"text\":\"rallyid 8\",\"textfont\":{\"color\":\"white\",\"size\":12},\"type\":\"scatter\",\"x\":[-5],\"y\":[14]}],                        {\"height\":800,\"plot_bgcolor\":\"#5080B0\",\"template\":{\"data\":{\"bar\":[{\"error_x\":{\"color\":\"#2a3f5f\"},\"error_y\":{\"color\":\"#2a3f5f\"},\"marker\":{\"line\":{\"color\":\"#E5ECF6\",\"width\":0.5},\"pattern\":{\"fillmode\":\"overlay\",\"size\":10,\"solidity\":0.2}},\"type\":\"bar\"}],\"barpolar\":[{\"marker\":{\"line\":{\"color\":\"#E5ECF6\",\"width\":0.5},\"pattern\":{\"fillmode\":\"overlay\",\"size\":10,\"solidity\":0.2}},\"type\":\"barpolar\"}],\"carpet\":[{\"aaxis\":{\"endlinecolor\":\"#2a3f5f\",\"gridcolor\":\"white\",\"linecolor\":\"white\",\"minorgridcolor\":\"white\",\"startlinecolor\":\"#2a3f5f\"},\"baxis\":{\"endlinecolor\":\"#2a3f5f\",\"gridcolor\":\"white\",\"linecolor\":\"white\",\"minorgridcolor\":\"white\",\"startlinecolor\":\"#2a3f5f\"},\"type\":\"carpet\"}],\"choropleth\":[{\"colorbar\":{\"outlinewidth\":0,\"ticks\":\"\"},\"type\":\"choropleth\"}],\"contour\":[{\"colorbar\":{\"outlinewidth\":0,\"ticks\":\"\"},\"colorscale\":[[0.0,\"#0d0887\"],[0.1111111111111111,\"#46039f\"],[0.2222222222222222,\"#7201a8\"],[0.3333333333333333,\"#9c179e\"],[0.4444444444444444,\"#bd3786\"],[0.5555555555555556,\"#d8576b\"],[0.6666666666666666,\"#ed7953\"],[0.7777777777777778,\"#fb9f3a\"],[0.8888888888888888,\"#fdca26\"],[1.0,\"#f0f921\"]],\"type\":\"contour\"}],\"contourcarpet\":[{\"colorbar\":{\"outlinewidth\":0,\"ticks\":\"\"},\"type\":\"contourcarpet\"}],\"heatmap\":[{\"colorbar\":{\"outlinewidth\":0,\"ticks\":\"\"},\"colorscale\":[[0.0,\"#0d0887\"],[0.1111111111111111,\"#46039f\"],[0.2222222222222222,\"#7201a8\"],[0.3333333333333333,\"#9c179e\"],[0.4444444444444444,\"#bd3786\"],[0.5555555555555556,\"#d8576b\"],[0.6666666666666666,\"#ed7953\"],[0.7777777777777778,\"#fb9f3a\"],[0.8888888888888888,\"#fdca26\"],[1.0,\"#f0f921\"]],\"type\":\"heatmap\"}],\"heatmapgl\":[{\"colorbar\":{\"outlinewidth\":0,\"ticks\":\"\"},\"colorscale\":[[0.0,\"#0d0887\"],[0.1111111111111111,\"#46039f\"],[0.2222222222222222,\"#7201a8\"],[0.3333333333333333,\"#9c179e\"],[0.4444444444444444,\"#bd3786\"],[0.5555555555555556,\"#d8576b\"],[0.6666666666666666,\"#ed7953\"],[0.7777777777777778,\"#fb9f3a\"],[0.8888888888888888,\"#fdca26\"],[1.0,\"#f0f921\"]],\"type\":\"heatmapgl\"}],\"histogram\":[{\"marker\":{\"pattern\":{\"fillmode\":\"overlay\",\"size\":10,\"solidity\":0.2}},\"type\":\"histogram\"}],\"histogram2d\":[{\"colorbar\":{\"outlinewidth\":0,\"ticks\":\"\"},\"colorscale\":[[0.0,\"#0d0887\"],[0.1111111111111111,\"#46039f\"],[0.2222222222222222,\"#7201a8\"],[0.3333333333333333,\"#9c179e\"],[0.4444444444444444,\"#bd3786\"],[0.5555555555555556,\"#d8576b\"],[0.6666666666666666,\"#ed7953\"],[0.7777777777777778,\"#fb9f3a\"],[0.8888888888888888,\"#fdca26\"],[1.0,\"#f0f921\"]],\"type\":\"histogram2d\"}],\"histogram2dcontour\":[{\"colorbar\":{\"outlinewidth\":0,\"ticks\":\"\"},\"colorscale\":[[0.0,\"#0d0887\"],[0.1111111111111111,\"#46039f\"],[0.2222222222222222,\"#7201a8\"],[0.3333333333333333,\"#9c179e\"],[0.4444444444444444,\"#bd3786\"],[0.5555555555555556,\"#d8576b\"],[0.6666666666666666,\"#ed7953\"],[0.7777777777777778,\"#fb9f3a\"],[0.8888888888888888,\"#fdca26\"],[1.0,\"#f0f921\"]],\"type\":\"histogram2dcontour\"}],\"mesh3d\":[{\"colorbar\":{\"outlinewidth\":0,\"ticks\":\"\"},\"type\":\"mesh3d\"}],\"parcoords\":[{\"line\":{\"colorbar\":{\"outlinewidth\":0,\"ticks\":\"\"}},\"type\":\"parcoords\"}],\"pie\":[{\"automargin\":true,\"type\":\"pie\"}],\"scatter\":[{\"marker\":{\"colorbar\":{\"outlinewidth\":0,\"ticks\":\"\"}},\"type\":\"scatter\"}],\"scatter3d\":[{\"line\":{\"colorbar\":{\"outlinewidth\":0,\"ticks\":\"\"}},\"marker\":{\"colorbar\":{\"outlinewidth\":0,\"ticks\":\"\"}},\"type\":\"scatter3d\"}],\"scattercarpet\":[{\"marker\":{\"colorbar\":{\"outlinewidth\":0,\"ticks\":\"\"}},\"type\":\"scattercarpet\"}],\"scattergeo\":[{\"marker\":{\"colorbar\":{\"outlinewidth\":0,\"ticks\":\"\"}},\"type\":\"scattergeo\"}],\"scattergl\":[{\"marker\":{\"colorbar\":{\"outlinewidth\":0,\"ticks\":\"\"}},\"type\":\"scattergl\"}],\"scattermapbox\":[{\"marker\":{\"colorbar\":{\"outlinewidth\":0,\"ticks\":\"\"}},\"type\":\"scattermapbox\"}],\"scatterpolar\":[{\"marker\":{\"colorbar\":{\"outlinewidth\":0,\"ticks\":\"\"}},\"type\":\"scatterpolar\"}],\"scatterpolargl\":[{\"marker\":{\"colorbar\":{\"outlinewidth\":0,\"ticks\":\"\"}},\"type\":\"scatterpolargl\"}],\"scatterternary\":[{\"marker\":{\"colorbar\":{\"outlinewidth\":0,\"ticks\":\"\"}},\"type\":\"scatterternary\"}],\"surface\":[{\"colorbar\":{\"outlinewidth\":0,\"ticks\":\"\"},\"colorscale\":[[0.0,\"#0d0887\"],[0.1111111111111111,\"#46039f\"],[0.2222222222222222,\"#7201a8\"],[0.3333333333333333,\"#9c179e\"],[0.4444444444444444,\"#bd3786\"],[0.5555555555555556,\"#d8576b\"],[0.6666666666666666,\"#ed7953\"],[0.7777777777777778,\"#fb9f3a\"],[0.8888888888888888,\"#fdca26\"],[1.0,\"#f0f921\"]],\"type\":\"surface\"}],\"table\":[{\"cells\":{\"fill\":{\"color\":\"#EBF0F8\"},\"line\":{\"color\":\"white\"}},\"header\":{\"fill\":{\"color\":\"#C8D4E3\"},\"line\":{\"color\":\"white\"}},\"type\":\"table\"}]},\"layout\":{\"annotationdefaults\":{\"arrowcolor\":\"#2a3f5f\",\"arrowhead\":0,\"arrowwidth\":1},\"autotypenumbers\":\"strict\",\"coloraxis\":{\"colorbar\":{\"outlinewidth\":0,\"ticks\":\"\"}},\"colorscale\":{\"diverging\":[[0,\"#8e0152\"],[0.1,\"#c51b7d\"],[0.2,\"#de77ae\"],[0.3,\"#f1b6da\"],[0.4,\"#fde0ef\"],[0.5,\"#f7f7f7\"],[0.6,\"#e6f5d0\"],[0.7,\"#b8e186\"],[0.8,\"#7fbc41\"],[0.9,\"#4d9221\"],[1,\"#276419\"]],\"sequential\":[[0.0,\"#0d0887\"],[0.1111111111111111,\"#46039f\"],[0.2222222222222222,\"#7201a8\"],[0.3333333333333333,\"#9c179e\"],[0.4444444444444444,\"#bd3786\"],[0.5555555555555556,\"#d8576b\"],[0.6666666666666666,\"#ed7953\"],[0.7777777777777778,\"#fb9f3a\"],[0.8888888888888888,\"#fdca26\"],[1.0,\"#f0f921\"]],\"sequentialminus\":[[0.0,\"#0d0887\"],[0.1111111111111111,\"#46039f\"],[0.2222222222222222,\"#7201a8\"],[0.3333333333333333,\"#9c179e\"],[0.4444444444444444,\"#bd3786\"],[0.5555555555555556,\"#d8576b\"],[0.6666666666666666,\"#ed7953\"],[0.7777777777777778,\"#fb9f3a\"],[0.8888888888888888,\"#fdca26\"],[1.0,\"#f0f921\"]]},\"colorway\":[\"#636efa\",\"#EF553B\",\"#00cc96\",\"#ab63fa\",\"#FFA15A\",\"#19d3f3\",\"#FF6692\",\"#B6E880\",\"#FF97FF\",\"#FECB52\"],\"font\":{\"color\":\"#2a3f5f\"},\"geo\":{\"bgcolor\":\"white\",\"lakecolor\":\"white\",\"landcolor\":\"#E5ECF6\",\"showlakes\":true,\"showland\":true,\"subunitcolor\":\"white\"},\"hoverlabel\":{\"align\":\"left\"},\"hovermode\":\"closest\",\"mapbox\":{\"style\":\"light\"},\"paper_bgcolor\":\"white\",\"plot_bgcolor\":\"#E5ECF6\",\"polar\":{\"angularaxis\":{\"gridcolor\":\"white\",\"linecolor\":\"white\",\"ticks\":\"\"},\"bgcolor\":\"#E5ECF6\",\"radialaxis\":{\"gridcolor\":\"white\",\"linecolor\":\"white\",\"ticks\":\"\"}},\"scene\":{\"xaxis\":{\"backgroundcolor\":\"#E5ECF6\",\"gridcolor\":\"white\",\"gridwidth\":2,\"linecolor\":\"white\",\"showbackground\":true,\"ticks\":\"\",\"zerolinecolor\":\"white\"},\"yaxis\":{\"backgroundcolor\":\"#E5ECF6\",\"gridcolor\":\"white\",\"gridwidth\":2,\"linecolor\":\"white\",\"showbackground\":true,\"ticks\":\"\",\"zerolinecolor\":\"white\"},\"zaxis\":{\"backgroundcolor\":\"#E5ECF6\",\"gridcolor\":\"white\",\"gridwidth\":2,\"linecolor\":\"white\",\"showbackground\":true,\"ticks\":\"\",\"zerolinecolor\":\"white\"}},\"shapedefaults\":{\"line\":{\"color\":\"#2a3f5f\"}},\"ternary\":{\"aaxis\":{\"gridcolor\":\"white\",\"linecolor\":\"white\",\"ticks\":\"\"},\"baxis\":{\"gridcolor\":\"white\",\"linecolor\":\"white\",\"ticks\":\"\"},\"bgcolor\":\"#E5ECF6\",\"caxis\":{\"gridcolor\":\"white\",\"linecolor\":\"white\",\"ticks\":\"\"}},\"title\":{\"x\":0.05},\"xaxis\":{\"automargin\":true,\"gridcolor\":\"white\",\"linecolor\":\"white\",\"ticks\":\"\",\"title\":{\"standoff\":15},\"zerolinecolor\":\"white\",\"zerolinewidth\":2},\"yaxis\":{\"automargin\":true,\"gridcolor\":\"white\",\"linecolor\":\"white\",\"ticks\":\"\",\"title\":{\"standoff\":15},\"zerolinecolor\":\"white\",\"zerolinewidth\":2}}},\"title\":{\"text\":\"Tennis Point\"},\"updatemenus\":[{\"buttons\":[{\"args\":[null,{\"frame\":{\"duration\":100,\"redraw\":true},\"fromcurrent\":true,\"transition\":{\"duration\":300,\"easing\":\"quadratic-in-out\"}}],\"label\":\"Play\",\"method\":\"animate\"},{\"args\":[[null],{\"frame\":{\"duration\":0,\"redraw\":true},\"mode\":\"immediate\",\"transition\":{\"duration\":0}}],\"label\":\"Pause\",\"method\":\"animate\"}],\"direction\":\"left\",\"pad\":{\"r\":10,\"t\":87},\"showactive\":true,\"type\":\"buttons\",\"x\":0.1,\"xanchor\":\"right\",\"y\":0,\"yanchor\":\"top\"}],\"width\":550,\"xaxis\":{\"autorange\":false,\"range\":[-9,12.97],\"showgrid\":false,\"zeroline\":false},\"yaxis\":{\"autorange\":false,\"range\":[-6.5,30.28],\"showgrid\":false,\"zeroline\":false}},                        {\"responsive\": true}                    ).then(function(){\n",
       "                            Plotly.addFrames('49e7abaa-b420-4919-bd65-2871b156f85c', [{\"data\":[{\"marker\":{\"color\":\"orangered\",\"size\":10},\"mode\":\"markers\",\"name\":\"Player 1\",\"type\":\"scatter\",\"x\":[5.48],\"y\":[-0.4]},{\"marker\":{\"color\":\"aquamarine\",\"size\":10},\"mode\":\"markers\",\"name\":\"Player 2\",\"type\":\"scatter\",\"x\":[1.64],\"y\":[23.86]},{\"marker\":{\"color\":\"yellow\",\"size\":10},\"mode\":\"markers\",\"type\":\"scatter\",\"x\":[5.48],\"y\":[-0.4]},{\"mode\":\"text\",\"name\":\"\",\"text\":\"type serve\",\"textfont\":{\"color\":\"white\",\"size\":12},\"type\":\"scatter\",\"x\":[-5],\"y\":[6]},{\"mode\":\"text\",\"name\":\"\",\"text\":\"stroke forehand\",\"textfont\":{\"color\":\"white\",\"size\":12},\"type\":\"scatter\",\"x\":[-5],\"y\":[8]},{\"mode\":\"text\",\"name\":\"\",\"text\":\"hitter Nadal\",\"textfont\":{\"color\":\"white\",\"size\":12},\"type\":\"scatter\",\"x\":[-5],\"y\":[10]},{\"mode\":\"text\",\"text\":\"strokeid 1\",\"textfont\":{\"color\":\"white\",\"size\":12},\"type\":\"scatter\",\"x\":[-5],\"y\":[12]}],\"name\":\"\"},{\"data\":[{\"marker\":{\"color\":\"orangered\",\"size\":10},\"mode\":\"markers\",\"name\":\"Player 1\",\"type\":\"scatter\",\"x\":[5.515000000000001],\"y\":[-0.23100000000000004]},{\"marker\":{\"color\":\"aquamarine\",\"size\":10},\"mode\":\"markers\",\"name\":\"Player 2\",\"type\":\"scatter\",\"x\":[1.858],\"y\":[23.907]},{\"marker\":{\"color\":\"yellow\",\"size\":10},\"mode\":\"markers\",\"type\":\"scatter\",\"x\":[5.314],\"y\":[2.073]},{\"mode\":\"text\",\"name\":\"\",\"text\":\"type serve\",\"textfont\":{\"color\":\"white\",\"size\":12},\"type\":\"scatter\",\"x\":[-5],\"y\":[6]},{\"mode\":\"text\",\"name\":\"\",\"text\":\"stroke forehand\",\"textfont\":{\"color\":\"white\",\"size\":12},\"type\":\"scatter\",\"x\":[-5],\"y\":[8]},{\"mode\":\"text\",\"name\":\"\",\"text\":\"hitter Nadal\",\"textfont\":{\"color\":\"white\",\"size\":12},\"type\":\"scatter\",\"x\":[-5],\"y\":[10]},{\"mode\":\"text\",\"text\":\"strokeid 1\",\"textfont\":{\"color\":\"white\",\"size\":12},\"type\":\"scatter\",\"x\":[-5],\"y\":[12]}],\"name\":\"\"},{\"data\":[{\"marker\":{\"color\":\"orangered\",\"size\":10},\"mode\":\"markers\",\"name\":\"Player 1\",\"type\":\"scatter\",\"x\":[5.550000000000001],\"y\":[-0.062000000000000055]},{\"marker\":{\"color\":\"aquamarine\",\"size\":10},\"mode\":\"markers\",\"name\":\"Player 2\",\"type\":\"scatter\",\"x\":[2.076],\"y\":[23.954]},{\"marker\":{\"color\":\"yellow\",\"size\":10},\"mode\":\"markers\",\"type\":\"scatter\",\"x\":[5.148000000000001],\"y\":[4.545999999999999]},{\"mode\":\"text\",\"name\":\"\",\"text\":\"type serve\",\"textfont\":{\"color\":\"white\",\"size\":12},\"type\":\"scatter\",\"x\":[-5],\"y\":[6]},{\"mode\":\"text\",\"name\":\"\",\"text\":\"stroke forehand\",\"textfont\":{\"color\":\"white\",\"size\":12},\"type\":\"scatter\",\"x\":[-5],\"y\":[8]},{\"mode\":\"text\",\"name\":\"\",\"text\":\"hitter Nadal\",\"textfont\":{\"color\":\"white\",\"size\":12},\"type\":\"scatter\",\"x\":[-5],\"y\":[10]},{\"mode\":\"text\",\"text\":\"strokeid 1\",\"textfont\":{\"color\":\"white\",\"size\":12},\"type\":\"scatter\",\"x\":[-5],\"y\":[12]}],\"name\":\"\"},{\"data\":[{\"marker\":{\"color\":\"orangered\",\"size\":10},\"mode\":\"markers\",\"name\":\"Player 1\",\"type\":\"scatter\",\"x\":[5.585],\"y\":[0.1070000000000001]},{\"marker\":{\"color\":\"aquamarine\",\"size\":10},\"mode\":\"markers\",\"name\":\"Player 2\",\"type\":\"scatter\",\"x\":[2.294],\"y\":[24.000999999999998]},{\"marker\":{\"color\":\"yellow\",\"size\":10},\"mode\":\"markers\",\"type\":\"scatter\",\"x\":[4.982],\"y\":[7.019]},{\"mode\":\"text\",\"name\":\"\",\"text\":\"type serve\",\"textfont\":{\"color\":\"white\",\"size\":12},\"type\":\"scatter\",\"x\":[-5],\"y\":[6]},{\"mode\":\"text\",\"name\":\"\",\"text\":\"stroke forehand\",\"textfont\":{\"color\":\"white\",\"size\":12},\"type\":\"scatter\",\"x\":[-5],\"y\":[8]},{\"mode\":\"text\",\"name\":\"\",\"text\":\"hitter Nadal\",\"textfont\":{\"color\":\"white\",\"size\":12},\"type\":\"scatter\",\"x\":[-5],\"y\":[10]},{\"mode\":\"text\",\"text\":\"strokeid 1\",\"textfont\":{\"color\":\"white\",\"size\":12},\"type\":\"scatter\",\"x\":[-5],\"y\":[12]}],\"name\":\"\"},{\"data\":[{\"marker\":{\"color\":\"orangered\",\"size\":10},\"mode\":\"markers\",\"name\":\"Player 1\",\"type\":\"scatter\",\"x\":[5.620000000000001],\"y\":[0.276]},{\"marker\":{\"color\":\"aquamarine\",\"size\":10},\"mode\":\"markers\",\"name\":\"Player 2\",\"type\":\"scatter\",\"x\":[2.512],\"y\":[24.048]},{\"marker\":{\"color\":\"yellow\",\"size\":10},\"mode\":\"markers\",\"type\":\"scatter\",\"x\":[4.816000000000001],\"y\":[9.491999999999999]},{\"mode\":\"text\",\"name\":\"\",\"text\":\"type serve\",\"textfont\":{\"color\":\"white\",\"size\":12},\"type\":\"scatter\",\"x\":[-5],\"y\":[6]},{\"mode\":\"text\",\"name\":\"\",\"text\":\"stroke forehand\",\"textfont\":{\"color\":\"white\",\"size\":12},\"type\":\"scatter\",\"x\":[-5],\"y\":[8]},{\"mode\":\"text\",\"name\":\"\",\"text\":\"hitter Nadal\",\"textfont\":{\"color\":\"white\",\"size\":12},\"type\":\"scatter\",\"x\":[-5],\"y\":[10]},{\"mode\":\"text\",\"text\":\"strokeid 1\",\"textfont\":{\"color\":\"white\",\"size\":12},\"type\":\"scatter\",\"x\":[-5],\"y\":[12]}],\"name\":\"\"},{\"data\":[{\"marker\":{\"color\":\"orangered\",\"size\":10},\"mode\":\"markers\",\"name\":\"Player 1\",\"type\":\"scatter\",\"x\":[5.655],\"y\":[0.445]},{\"marker\":{\"color\":\"aquamarine\",\"size\":10},\"mode\":\"markers\",\"name\":\"Player 2\",\"type\":\"scatter\",\"x\":[2.73],\"y\":[24.095]},{\"marker\":{\"color\":\"yellow\",\"size\":10},\"mode\":\"markers\",\"type\":\"scatter\",\"x\":[4.65],\"y\":[11.965]},{\"mode\":\"text\",\"name\":\"\",\"text\":\"type serve\",\"textfont\":{\"color\":\"white\",\"size\":12},\"type\":\"scatter\",\"x\":[-5],\"y\":[6]},{\"mode\":\"text\",\"name\":\"\",\"text\":\"stroke forehand\",\"textfont\":{\"color\":\"white\",\"size\":12},\"type\":\"scatter\",\"x\":[-5],\"y\":[8]},{\"mode\":\"text\",\"name\":\"\",\"text\":\"hitter Nadal\",\"textfont\":{\"color\":\"white\",\"size\":12},\"type\":\"scatter\",\"x\":[-5],\"y\":[10]},{\"mode\":\"text\",\"text\":\"strokeid 1\",\"textfont\":{\"color\":\"white\",\"size\":12},\"type\":\"scatter\",\"x\":[-5],\"y\":[12]}],\"name\":\"\"},{\"data\":[{\"marker\":{\"color\":\"orangered\",\"size\":10},\"mode\":\"markers\",\"name\":\"Player 1\",\"type\":\"scatter\",\"x\":[5.69],\"y\":[0.6140000000000001]},{\"marker\":{\"color\":\"aquamarine\",\"size\":10},\"mode\":\"markers\",\"name\":\"Player 2\",\"type\":\"scatter\",\"x\":[2.948],\"y\":[24.141999999999996]},{\"marker\":{\"color\":\"yellow\",\"size\":10},\"mode\":\"markers\",\"type\":\"scatter\",\"x\":[4.484],\"y\":[14.438]},{\"mode\":\"text\",\"name\":\"\",\"text\":\"type serve\",\"textfont\":{\"color\":\"white\",\"size\":12},\"type\":\"scatter\",\"x\":[-5],\"y\":[6]},{\"mode\":\"text\",\"name\":\"\",\"text\":\"stroke forehand\",\"textfont\":{\"color\":\"white\",\"size\":12},\"type\":\"scatter\",\"x\":[-5],\"y\":[8]},{\"mode\":\"text\",\"name\":\"\",\"text\":\"hitter Nadal\",\"textfont\":{\"color\":\"white\",\"size\":12},\"type\":\"scatter\",\"x\":[-5],\"y\":[10]},{\"mode\":\"text\",\"text\":\"strokeid 1\",\"textfont\":{\"color\":\"white\",\"size\":12},\"type\":\"scatter\",\"x\":[-5],\"y\":[12]}],\"name\":\"\"},{\"data\":[{\"marker\":{\"color\":\"orangered\",\"size\":10},\"mode\":\"markers\",\"name\":\"Player 1\",\"type\":\"scatter\",\"x\":[5.725],\"y\":[0.7830000000000001]},{\"marker\":{\"color\":\"aquamarine\",\"size\":10},\"mode\":\"markers\",\"name\":\"Player 2\",\"type\":\"scatter\",\"x\":[3.166],\"y\":[24.188999999999997]},{\"marker\":{\"color\":\"yellow\",\"size\":10},\"mode\":\"markers\",\"type\":\"scatter\",\"x\":[4.318],\"y\":[16.910999999999998]},{\"mode\":\"text\",\"name\":\"\",\"text\":\"type serve\",\"textfont\":{\"color\":\"white\",\"size\":12},\"type\":\"scatter\",\"x\":[-5],\"y\":[6]},{\"mode\":\"text\",\"name\":\"\",\"text\":\"stroke forehand\",\"textfont\":{\"color\":\"white\",\"size\":12},\"type\":\"scatter\",\"x\":[-5],\"y\":[8]},{\"mode\":\"text\",\"name\":\"\",\"text\":\"hitter Nadal\",\"textfont\":{\"color\":\"white\",\"size\":12},\"type\":\"scatter\",\"x\":[-5],\"y\":[10]},{\"mode\":\"text\",\"text\":\"strokeid 1\",\"textfont\":{\"color\":\"white\",\"size\":12},\"type\":\"scatter\",\"x\":[-5],\"y\":[12]}],\"name\":\"\"},{\"data\":[{\"marker\":{\"color\":\"orangered\",\"size\":10},\"mode\":\"markers\",\"name\":\"Player 1\",\"type\":\"scatter\",\"x\":[5.760000000000001],\"y\":[0.9520000000000001]},{\"marker\":{\"color\":\"aquamarine\",\"size\":10},\"mode\":\"markers\",\"name\":\"Player 2\",\"type\":\"scatter\",\"x\":[3.384],\"y\":[24.235999999999997]},{\"marker\":{\"color\":\"yellow\",\"size\":10},\"mode\":\"markers\",\"type\":\"scatter\",\"x\":[4.152],\"y\":[19.384]},{\"mode\":\"text\",\"name\":\"\",\"text\":\"type serve\",\"textfont\":{\"color\":\"white\",\"size\":12},\"type\":\"scatter\",\"x\":[-5],\"y\":[6]},{\"mode\":\"text\",\"name\":\"\",\"text\":\"stroke forehand\",\"textfont\":{\"color\":\"white\",\"size\":12},\"type\":\"scatter\",\"x\":[-5],\"y\":[8]},{\"mode\":\"text\",\"name\":\"\",\"text\":\"hitter Nadal\",\"textfont\":{\"color\":\"white\",\"size\":12},\"type\":\"scatter\",\"x\":[-5],\"y\":[10]},{\"mode\":\"text\",\"text\":\"strokeid 1\",\"textfont\":{\"color\":\"white\",\"size\":12},\"type\":\"scatter\",\"x\":[-5],\"y\":[12]}],\"name\":\"\"},{\"data\":[{\"marker\":{\"color\":\"orangered\",\"size\":10},\"mode\":\"markers\",\"name\":\"Player 1\",\"type\":\"scatter\",\"x\":[5.795],\"y\":[1.121]},{\"marker\":{\"color\":\"aquamarine\",\"size\":10},\"mode\":\"markers\",\"name\":\"Player 2\",\"type\":\"scatter\",\"x\":[3.602],\"y\":[24.282999999999998]},{\"marker\":{\"color\":\"yellow\",\"size\":10},\"mode\":\"markers\",\"type\":\"scatter\",\"x\":[3.9859999999999998],\"y\":[21.857]},{\"mode\":\"text\",\"name\":\"\",\"text\":\"type serve\",\"textfont\":{\"color\":\"white\",\"size\":12},\"type\":\"scatter\",\"x\":[-5],\"y\":[6]},{\"mode\":\"text\",\"name\":\"\",\"text\":\"stroke forehand\",\"textfont\":{\"color\":\"white\",\"size\":12},\"type\":\"scatter\",\"x\":[-5],\"y\":[8]},{\"mode\":\"text\",\"name\":\"\",\"text\":\"hitter Nadal\",\"textfont\":{\"color\":\"white\",\"size\":12},\"type\":\"scatter\",\"x\":[-5],\"y\":[10]},{\"mode\":\"text\",\"text\":\"strokeid 1\",\"textfont\":{\"color\":\"white\",\"size\":12},\"type\":\"scatter\",\"x\":[-5],\"y\":[12]}],\"name\":\"\"},{\"data\":[{\"marker\":{\"color\":\"orangered\",\"size\":10},\"mode\":\"markers\",\"name\":\"Player 1\",\"type\":\"scatter\",\"x\":[5.83],\"y\":[1.29]},{\"marker\":{\"color\":\"aquamarine\",\"size\":10},\"mode\":\"markers\",\"name\":\"Player 2\",\"type\":\"scatter\",\"x\":[3.82],\"y\":[24.33]},{\"marker\":{\"color\":\"yellow\",\"size\":10},\"mode\":\"markers\",\"type\":\"scatter\",\"x\":[3.82],\"y\":[24.33]},{\"mode\":\"text\",\"name\":\"\",\"text\":\"type return\",\"textfont\":{\"color\":\"white\",\"size\":12},\"type\":\"scatter\",\"x\":[-5],\"y\":[6]},{\"mode\":\"text\",\"name\":\"\",\"text\":\"stroke backhand\",\"textfont\":{\"color\":\"white\",\"size\":12},\"type\":\"scatter\",\"x\":[-5],\"y\":[8]},{\"mode\":\"text\",\"name\":\"\",\"text\":\"hitter Djokovic\",\"textfont\":{\"color\":\"white\",\"size\":12},\"type\":\"scatter\",\"x\":[-5],\"y\":[10]},{\"mode\":\"text\",\"text\":\"strokeid 2\",\"textfont\":{\"color\":\"white\",\"size\":12},\"type\":\"scatter\",\"x\":[-5],\"y\":[12]}],\"name\":\"\"},{\"data\":[{\"marker\":{\"color\":\"orangered\",\"size\":10},\"mode\":\"markers\",\"name\":\"Player 1\",\"type\":\"scatter\",\"x\":[5.796],\"y\":[1.129]},{\"marker\":{\"color\":\"aquamarine\",\"size\":10},\"mode\":\"markers\",\"name\":\"Player 2\",\"type\":\"scatter\",\"x\":[3.9639999999999995],\"y\":[24.423]},{\"marker\":{\"color\":\"yellow\",\"size\":10},\"mode\":\"markers\",\"type\":\"scatter\",\"x\":[3.9869999999999997],\"y\":[21.865]},{\"mode\":\"text\",\"name\":\"\",\"text\":\"type return\",\"textfont\":{\"color\":\"white\",\"size\":12},\"type\":\"scatter\",\"x\":[-5],\"y\":[6]},{\"mode\":\"text\",\"name\":\"\",\"text\":\"stroke backhand\",\"textfont\":{\"color\":\"white\",\"size\":12},\"type\":\"scatter\",\"x\":[-5],\"y\":[8]},{\"mode\":\"text\",\"name\":\"\",\"text\":\"hitter Djokovic\",\"textfont\":{\"color\":\"white\",\"size\":12},\"type\":\"scatter\",\"x\":[-5],\"y\":[10]},{\"mode\":\"text\",\"text\":\"strokeid 2\",\"textfont\":{\"color\":\"white\",\"size\":12},\"type\":\"scatter\",\"x\":[-5],\"y\":[12]}],\"name\":\"\"},{\"data\":[{\"marker\":{\"color\":\"orangered\",\"size\":10},\"mode\":\"markers\",\"name\":\"Player 1\",\"type\":\"scatter\",\"x\":[5.7620000000000005],\"y\":[0.968]},{\"marker\":{\"color\":\"aquamarine\",\"size\":10},\"mode\":\"markers\",\"name\":\"Player 2\",\"type\":\"scatter\",\"x\":[4.1080000000000005],\"y\":[24.516]},{\"marker\":{\"color\":\"yellow\",\"size\":10},\"mode\":\"markers\",\"type\":\"scatter\",\"x\":[4.154],\"y\":[19.4]},{\"mode\":\"text\",\"name\":\"\",\"text\":\"type return\",\"textfont\":{\"color\":\"white\",\"size\":12},\"type\":\"scatter\",\"x\":[-5],\"y\":[6]},{\"mode\":\"text\",\"name\":\"\",\"text\":\"stroke backhand\",\"textfont\":{\"color\":\"white\",\"size\":12},\"type\":\"scatter\",\"x\":[-5],\"y\":[8]},{\"mode\":\"text\",\"name\":\"\",\"text\":\"hitter Djokovic\",\"textfont\":{\"color\":\"white\",\"size\":12},\"type\":\"scatter\",\"x\":[-5],\"y\":[10]},{\"mode\":\"text\",\"text\":\"strokeid 2\",\"textfont\":{\"color\":\"white\",\"size\":12},\"type\":\"scatter\",\"x\":[-5],\"y\":[12]}],\"name\":\"\"},{\"data\":[{\"marker\":{\"color\":\"orangered\",\"size\":10},\"mode\":\"markers\",\"name\":\"Player 1\",\"type\":\"scatter\",\"x\":[5.728],\"y\":[0.8069999999999999]},{\"marker\":{\"color\":\"aquamarine\",\"size\":10},\"mode\":\"markers\",\"name\":\"Player 2\",\"type\":\"scatter\",\"x\":[4.252],\"y\":[24.609]},{\"marker\":{\"color\":\"yellow\",\"size\":10},\"mode\":\"markers\",\"type\":\"scatter\",\"x\":[4.321],\"y\":[16.935]},{\"mode\":\"text\",\"name\":\"\",\"text\":\"type return\",\"textfont\":{\"color\":\"white\",\"size\":12},\"type\":\"scatter\",\"x\":[-5],\"y\":[6]},{\"mode\":\"text\",\"name\":\"\",\"text\":\"stroke backhand\",\"textfont\":{\"color\":\"white\",\"size\":12},\"type\":\"scatter\",\"x\":[-5],\"y\":[8]},{\"mode\":\"text\",\"name\":\"\",\"text\":\"hitter Djokovic\",\"textfont\":{\"color\":\"white\",\"size\":12},\"type\":\"scatter\",\"x\":[-5],\"y\":[10]},{\"mode\":\"text\",\"text\":\"strokeid 2\",\"textfont\":{\"color\":\"white\",\"size\":12},\"type\":\"scatter\",\"x\":[-5],\"y\":[12]}],\"name\":\"\"},{\"data\":[{\"marker\":{\"color\":\"orangered\",\"size\":10},\"mode\":\"markers\",\"name\":\"Player 1\",\"type\":\"scatter\",\"x\":[5.694],\"y\":[0.646]},{\"marker\":{\"color\":\"aquamarine\",\"size\":10},\"mode\":\"markers\",\"name\":\"Player 2\",\"type\":\"scatter\",\"x\":[4.396],\"y\":[24.701999999999998]},{\"marker\":{\"color\":\"yellow\",\"size\":10},\"mode\":\"markers\",\"type\":\"scatter\",\"x\":[4.4879999999999995],\"y\":[14.469999999999999]},{\"mode\":\"text\",\"name\":\"\",\"text\":\"type return\",\"textfont\":{\"color\":\"white\",\"size\":12},\"type\":\"scatter\",\"x\":[-5],\"y\":[6]},{\"mode\":\"text\",\"name\":\"\",\"text\":\"stroke backhand\",\"textfont\":{\"color\":\"white\",\"size\":12},\"type\":\"scatter\",\"x\":[-5],\"y\":[8]},{\"mode\":\"text\",\"name\":\"\",\"text\":\"hitter Djokovic\",\"textfont\":{\"color\":\"white\",\"size\":12},\"type\":\"scatter\",\"x\":[-5],\"y\":[10]},{\"mode\":\"text\",\"text\":\"strokeid 2\",\"textfont\":{\"color\":\"white\",\"size\":12},\"type\":\"scatter\",\"x\":[-5],\"y\":[12]}],\"name\":\"\"},{\"data\":[{\"marker\":{\"color\":\"orangered\",\"size\":10},\"mode\":\"markers\",\"name\":\"Player 1\",\"type\":\"scatter\",\"x\":[5.66],\"y\":[0.485]},{\"marker\":{\"color\":\"aquamarine\",\"size\":10},\"mode\":\"markers\",\"name\":\"Player 2\",\"type\":\"scatter\",\"x\":[4.54],\"y\":[24.795]},{\"marker\":{\"color\":\"yellow\",\"size\":10},\"mode\":\"markers\",\"type\":\"scatter\",\"x\":[4.655],\"y\":[12.004999999999999]},{\"mode\":\"text\",\"name\":\"\",\"text\":\"type return\",\"textfont\":{\"color\":\"white\",\"size\":12},\"type\":\"scatter\",\"x\":[-5],\"y\":[6]},{\"mode\":\"text\",\"name\":\"\",\"text\":\"stroke backhand\",\"textfont\":{\"color\":\"white\",\"size\":12},\"type\":\"scatter\",\"x\":[-5],\"y\":[8]},{\"mode\":\"text\",\"name\":\"\",\"text\":\"hitter Djokovic\",\"textfont\":{\"color\":\"white\",\"size\":12},\"type\":\"scatter\",\"x\":[-5],\"y\":[10]},{\"mode\":\"text\",\"text\":\"strokeid 2\",\"textfont\":{\"color\":\"white\",\"size\":12},\"type\":\"scatter\",\"x\":[-5],\"y\":[12]}],\"name\":\"\"},{\"data\":[{\"marker\":{\"color\":\"orangered\",\"size\":10},\"mode\":\"markers\",\"name\":\"Player 1\",\"type\":\"scatter\",\"x\":[5.6259999999999994],\"y\":[0.32399999999999984]},{\"marker\":{\"color\":\"aquamarine\",\"size\":10},\"mode\":\"markers\",\"name\":\"Player 2\",\"type\":\"scatter\",\"x\":[4.683999999999999],\"y\":[24.887999999999998]},{\"marker\":{\"color\":\"yellow\",\"size\":10},\"mode\":\"markers\",\"type\":\"scatter\",\"x\":[4.822],\"y\":[9.539999999999997]},{\"mode\":\"text\",\"name\":\"\",\"text\":\"type return\",\"textfont\":{\"color\":\"white\",\"size\":12},\"type\":\"scatter\",\"x\":[-5],\"y\":[6]},{\"mode\":\"text\",\"name\":\"\",\"text\":\"stroke backhand\",\"textfont\":{\"color\":\"white\",\"size\":12},\"type\":\"scatter\",\"x\":[-5],\"y\":[8]},{\"mode\":\"text\",\"name\":\"\",\"text\":\"hitter Djokovic\",\"textfont\":{\"color\":\"white\",\"size\":12},\"type\":\"scatter\",\"x\":[-5],\"y\":[10]},{\"mode\":\"text\",\"text\":\"strokeid 2\",\"textfont\":{\"color\":\"white\",\"size\":12},\"type\":\"scatter\",\"x\":[-5],\"y\":[12]}],\"name\":\"\"},{\"data\":[{\"marker\":{\"color\":\"orangered\",\"size\":10},\"mode\":\"markers\",\"name\":\"Player 1\",\"type\":\"scatter\",\"x\":[5.5920000000000005],\"y\":[0.16299999999999987]},{\"marker\":{\"color\":\"aquamarine\",\"size\":10},\"mode\":\"markers\",\"name\":\"Player 2\",\"type\":\"scatter\",\"x\":[4.828],\"y\":[24.981]},{\"marker\":{\"color\":\"yellow\",\"size\":10},\"mode\":\"markers\",\"type\":\"scatter\",\"x\":[4.989],\"y\":[7.0749999999999975]},{\"mode\":\"text\",\"name\":\"\",\"text\":\"type return\",\"textfont\":{\"color\":\"white\",\"size\":12},\"type\":\"scatter\",\"x\":[-5],\"y\":[6]},{\"mode\":\"text\",\"name\":\"\",\"text\":\"stroke backhand\",\"textfont\":{\"color\":\"white\",\"size\":12},\"type\":\"scatter\",\"x\":[-5],\"y\":[8]},{\"mode\":\"text\",\"name\":\"\",\"text\":\"hitter Djokovic\",\"textfont\":{\"color\":\"white\",\"size\":12},\"type\":\"scatter\",\"x\":[-5],\"y\":[10]},{\"mode\":\"text\",\"text\":\"strokeid 2\",\"textfont\":{\"color\":\"white\",\"size\":12},\"type\":\"scatter\",\"x\":[-5],\"y\":[12]}],\"name\":\"\"},{\"data\":[{\"marker\":{\"color\":\"orangered\",\"size\":10},\"mode\":\"markers\",\"name\":\"Player 1\",\"type\":\"scatter\",\"x\":[5.558],\"y\":[0.0019999999999999463]},{\"marker\":{\"color\":\"aquamarine\",\"size\":10},\"mode\":\"markers\",\"name\":\"Player 2\",\"type\":\"scatter\",\"x\":[4.9719999999999995],\"y\":[25.074]},{\"marker\":{\"color\":\"yellow\",\"size\":10},\"mode\":\"markers\",\"type\":\"scatter\",\"x\":[5.156000000000001],\"y\":[4.6099999999999985]},{\"mode\":\"text\",\"name\":\"\",\"text\":\"type return\",\"textfont\":{\"color\":\"white\",\"size\":12},\"type\":\"scatter\",\"x\":[-5],\"y\":[6]},{\"mode\":\"text\",\"name\":\"\",\"text\":\"stroke backhand\",\"textfont\":{\"color\":\"white\",\"size\":12},\"type\":\"scatter\",\"x\":[-5],\"y\":[8]},{\"mode\":\"text\",\"name\":\"\",\"text\":\"hitter Djokovic\",\"textfont\":{\"color\":\"white\",\"size\":12},\"type\":\"scatter\",\"x\":[-5],\"y\":[10]},{\"mode\":\"text\",\"text\":\"strokeid 2\",\"textfont\":{\"color\":\"white\",\"size\":12},\"type\":\"scatter\",\"x\":[-5],\"y\":[12]}],\"name\":\"\"},{\"data\":[{\"marker\":{\"color\":\"orangered\",\"size\":10},\"mode\":\"markers\",\"name\":\"Player 1\",\"type\":\"scatter\",\"x\":[5.524000000000001],\"y\":[-0.15900000000000006]},{\"marker\":{\"color\":\"aquamarine\",\"size\":10},\"mode\":\"markers\",\"name\":\"Player 2\",\"type\":\"scatter\",\"x\":[5.116],\"y\":[25.167]},{\"marker\":{\"color\":\"yellow\",\"size\":10},\"mode\":\"markers\",\"type\":\"scatter\",\"x\":[5.323],\"y\":[2.1449999999999996]},{\"mode\":\"text\",\"name\":\"\",\"text\":\"type return\",\"textfont\":{\"color\":\"white\",\"size\":12},\"type\":\"scatter\",\"x\":[-5],\"y\":[6]},{\"mode\":\"text\",\"name\":\"\",\"text\":\"stroke backhand\",\"textfont\":{\"color\":\"white\",\"size\":12},\"type\":\"scatter\",\"x\":[-5],\"y\":[8]},{\"mode\":\"text\",\"name\":\"\",\"text\":\"hitter Djokovic\",\"textfont\":{\"color\":\"white\",\"size\":12},\"type\":\"scatter\",\"x\":[-5],\"y\":[10]},{\"mode\":\"text\",\"text\":\"strokeid 2\",\"textfont\":{\"color\":\"white\",\"size\":12},\"type\":\"scatter\",\"x\":[-5],\"y\":[12]}],\"name\":\"\"},{\"data\":[{\"marker\":{\"color\":\"orangered\",\"size\":10},\"mode\":\"markers\",\"name\":\"Player 1\",\"type\":\"scatter\",\"x\":[5.49],\"y\":[-0.32]},{\"marker\":{\"color\":\"aquamarine\",\"size\":10},\"mode\":\"markers\",\"name\":\"Player 2\",\"type\":\"scatter\",\"x\":[5.26],\"y\":[25.26]},{\"marker\":{\"color\":\"yellow\",\"size\":10},\"mode\":\"markers\",\"type\":\"scatter\",\"x\":[5.49],\"y\":[-0.32]},{\"mode\":\"text\",\"name\":\"\",\"text\":\"type topspin\",\"textfont\":{\"color\":\"white\",\"size\":12},\"type\":\"scatter\",\"x\":[-5],\"y\":[6]},{\"mode\":\"text\",\"name\":\"\",\"text\":\"stroke forehand\",\"textfont\":{\"color\":\"white\",\"size\":12},\"type\":\"scatter\",\"x\":[-5],\"y\":[8]},{\"mode\":\"text\",\"name\":\"\",\"text\":\"hitter Nadal\",\"textfont\":{\"color\":\"white\",\"size\":12},\"type\":\"scatter\",\"x\":[-5],\"y\":[10]},{\"mode\":\"text\",\"text\":\"strokeid 3\",\"textfont\":{\"color\":\"white\",\"size\":12},\"type\":\"scatter\",\"x\":[-5],\"y\":[12]}],\"name\":\"\"},{\"data\":[{\"marker\":{\"color\":\"orangered\",\"size\":10},\"mode\":\"markers\",\"name\":\"Player 1\",\"type\":\"scatter\",\"x\":[5.3790000000000004],\"y\":[-0.42600000000000005]},{\"marker\":{\"color\":\"aquamarine\",\"size\":10},\"mode\":\"markers\",\"name\":\"Player 2\",\"type\":\"scatter\",\"x\":[5.5120000000000005],\"y\":[25.248]},{\"marker\":{\"color\":\"yellow\",\"size\":10},\"mode\":\"markers\",\"type\":\"scatter\",\"x\":[5.719000000000001],\"y\":[2.226]},{\"mode\":\"text\",\"name\":\"\",\"text\":\"type topspin\",\"textfont\":{\"color\":\"white\",\"size\":12},\"type\":\"scatter\",\"x\":[-5],\"y\":[6]},{\"mode\":\"text\",\"name\":\"\",\"text\":\"stroke forehand\",\"textfont\":{\"color\":\"white\",\"size\":12},\"type\":\"scatter\",\"x\":[-5],\"y\":[8]},{\"mode\":\"text\",\"name\":\"\",\"text\":\"hitter Nadal\",\"textfont\":{\"color\":\"white\",\"size\":12},\"type\":\"scatter\",\"x\":[-5],\"y\":[10]},{\"mode\":\"text\",\"text\":\"strokeid 3\",\"textfont\":{\"color\":\"white\",\"size\":12},\"type\":\"scatter\",\"x\":[-5],\"y\":[12]}],\"name\":\"\"},{\"data\":[{\"marker\":{\"color\":\"orangered\",\"size\":10},\"mode\":\"markers\",\"name\":\"Player 1\",\"type\":\"scatter\",\"x\":[5.268000000000001],\"y\":[-0.532]},{\"marker\":{\"color\":\"aquamarine\",\"size\":10},\"mode\":\"markers\",\"name\":\"Player 2\",\"type\":\"scatter\",\"x\":[5.764],\"y\":[25.236000000000004]},{\"marker\":{\"color\":\"yellow\",\"size\":10},\"mode\":\"markers\",\"type\":\"scatter\",\"x\":[5.948],\"y\":[4.772]},{\"mode\":\"text\",\"name\":\"\",\"text\":\"type topspin\",\"textfont\":{\"color\":\"white\",\"size\":12},\"type\":\"scatter\",\"x\":[-5],\"y\":[6]},{\"mode\":\"text\",\"name\":\"\",\"text\":\"stroke forehand\",\"textfont\":{\"color\":\"white\",\"size\":12},\"type\":\"scatter\",\"x\":[-5],\"y\":[8]},{\"mode\":\"text\",\"name\":\"\",\"text\":\"hitter Nadal\",\"textfont\":{\"color\":\"white\",\"size\":12},\"type\":\"scatter\",\"x\":[-5],\"y\":[10]},{\"mode\":\"text\",\"text\":\"strokeid 3\",\"textfont\":{\"color\":\"white\",\"size\":12},\"type\":\"scatter\",\"x\":[-5],\"y\":[12]}],\"name\":\"\"},{\"data\":[{\"marker\":{\"color\":\"orangered\",\"size\":10},\"mode\":\"markers\",\"name\":\"Player 1\",\"type\":\"scatter\",\"x\":[5.157],\"y\":[-0.638]},{\"marker\":{\"color\":\"aquamarine\",\"size\":10},\"mode\":\"markers\",\"name\":\"Player 2\",\"type\":\"scatter\",\"x\":[6.016],\"y\":[25.224]},{\"marker\":{\"color\":\"yellow\",\"size\":10},\"mode\":\"markers\",\"type\":\"scatter\",\"x\":[6.1770000000000005],\"y\":[7.318000000000001]},{\"mode\":\"text\",\"name\":\"\",\"text\":\"type topspin\",\"textfont\":{\"color\":\"white\",\"size\":12},\"type\":\"scatter\",\"x\":[-5],\"y\":[6]},{\"mode\":\"text\",\"name\":\"\",\"text\":\"stroke forehand\",\"textfont\":{\"color\":\"white\",\"size\":12},\"type\":\"scatter\",\"x\":[-5],\"y\":[8]},{\"mode\":\"text\",\"name\":\"\",\"text\":\"hitter Nadal\",\"textfont\":{\"color\":\"white\",\"size\":12},\"type\":\"scatter\",\"x\":[-5],\"y\":[10]},{\"mode\":\"text\",\"text\":\"strokeid 3\",\"textfont\":{\"color\":\"white\",\"size\":12},\"type\":\"scatter\",\"x\":[-5],\"y\":[12]}],\"name\":\"\"},{\"data\":[{\"marker\":{\"color\":\"orangered\",\"size\":10},\"mode\":\"markers\",\"name\":\"Player 1\",\"type\":\"scatter\",\"x\":[5.046],\"y\":[-0.744]},{\"marker\":{\"color\":\"aquamarine\",\"size\":10},\"mode\":\"markers\",\"name\":\"Player 2\",\"type\":\"scatter\",\"x\":[6.268],\"y\":[25.212000000000003]},{\"marker\":{\"color\":\"yellow\",\"size\":10},\"mode\":\"markers\",\"type\":\"scatter\",\"x\":[6.406000000000001],\"y\":[9.864]},{\"mode\":\"text\",\"name\":\"\",\"text\":\"type topspin\",\"textfont\":{\"color\":\"white\",\"size\":12},\"type\":\"scatter\",\"x\":[-5],\"y\":[6]},{\"mode\":\"text\",\"name\":\"\",\"text\":\"stroke forehand\",\"textfont\":{\"color\":\"white\",\"size\":12},\"type\":\"scatter\",\"x\":[-5],\"y\":[8]},{\"mode\":\"text\",\"name\":\"\",\"text\":\"hitter Nadal\",\"textfont\":{\"color\":\"white\",\"size\":12},\"type\":\"scatter\",\"x\":[-5],\"y\":[10]},{\"mode\":\"text\",\"text\":\"strokeid 3\",\"textfont\":{\"color\":\"white\",\"size\":12},\"type\":\"scatter\",\"x\":[-5],\"y\":[12]}],\"name\":\"\"},{\"data\":[{\"marker\":{\"color\":\"orangered\",\"size\":10},\"mode\":\"markers\",\"name\":\"Player 1\",\"type\":\"scatter\",\"x\":[4.9350000000000005],\"y\":[-0.85]},{\"marker\":{\"color\":\"aquamarine\",\"size\":10},\"mode\":\"markers\",\"name\":\"Player 2\",\"type\":\"scatter\",\"x\":[6.52],\"y\":[25.200000000000003]},{\"marker\":{\"color\":\"yellow\",\"size\":10},\"mode\":\"markers\",\"type\":\"scatter\",\"x\":[6.635],\"y\":[12.41]},{\"mode\":\"text\",\"name\":\"\",\"text\":\"type topspin\",\"textfont\":{\"color\":\"white\",\"size\":12},\"type\":\"scatter\",\"x\":[-5],\"y\":[6]},{\"mode\":\"text\",\"name\":\"\",\"text\":\"stroke forehand\",\"textfont\":{\"color\":\"white\",\"size\":12},\"type\":\"scatter\",\"x\":[-5],\"y\":[8]},{\"mode\":\"text\",\"name\":\"\",\"text\":\"hitter Nadal\",\"textfont\":{\"color\":\"white\",\"size\":12},\"type\":\"scatter\",\"x\":[-5],\"y\":[10]},{\"mode\":\"text\",\"text\":\"strokeid 3\",\"textfont\":{\"color\":\"white\",\"size\":12},\"type\":\"scatter\",\"x\":[-5],\"y\":[12]}],\"name\":\"\"},{\"data\":[{\"marker\":{\"color\":\"orangered\",\"size\":10},\"mode\":\"markers\",\"name\":\"Player 1\",\"type\":\"scatter\",\"x\":[4.824],\"y\":[-0.9560000000000001]},{\"marker\":{\"color\":\"aquamarine\",\"size\":10},\"mode\":\"markers\",\"name\":\"Player 2\",\"type\":\"scatter\",\"x\":[6.772],\"y\":[25.188000000000002]},{\"marker\":{\"color\":\"yellow\",\"size\":10},\"mode\":\"markers\",\"type\":\"scatter\",\"x\":[6.864000000000001],\"y\":[14.956000000000003]},{\"mode\":\"text\",\"name\":\"\",\"text\":\"type topspin\",\"textfont\":{\"color\":\"white\",\"size\":12},\"type\":\"scatter\",\"x\":[-5],\"y\":[6]},{\"mode\":\"text\",\"name\":\"\",\"text\":\"stroke forehand\",\"textfont\":{\"color\":\"white\",\"size\":12},\"type\":\"scatter\",\"x\":[-5],\"y\":[8]},{\"mode\":\"text\",\"name\":\"\",\"text\":\"hitter Nadal\",\"textfont\":{\"color\":\"white\",\"size\":12},\"type\":\"scatter\",\"x\":[-5],\"y\":[10]},{\"mode\":\"text\",\"text\":\"strokeid 3\",\"textfont\":{\"color\":\"white\",\"size\":12},\"type\":\"scatter\",\"x\":[-5],\"y\":[12]}],\"name\":\"\"},{\"data\":[{\"marker\":{\"color\":\"orangered\",\"size\":10},\"mode\":\"markers\",\"name\":\"Player 1\",\"type\":\"scatter\",\"x\":[4.713],\"y\":[-1.0619999999999998]},{\"marker\":{\"color\":\"aquamarine\",\"size\":10},\"mode\":\"markers\",\"name\":\"Player 2\",\"type\":\"scatter\",\"x\":[7.024],\"y\":[25.176000000000002]},{\"marker\":{\"color\":\"yellow\",\"size\":10},\"mode\":\"markers\",\"type\":\"scatter\",\"x\":[7.093],\"y\":[17.502000000000002]},{\"mode\":\"text\",\"name\":\"\",\"text\":\"type topspin\",\"textfont\":{\"color\":\"white\",\"size\":12},\"type\":\"scatter\",\"x\":[-5],\"y\":[6]},{\"mode\":\"text\",\"name\":\"\",\"text\":\"stroke forehand\",\"textfont\":{\"color\":\"white\",\"size\":12},\"type\":\"scatter\",\"x\":[-5],\"y\":[8]},{\"mode\":\"text\",\"name\":\"\",\"text\":\"hitter Nadal\",\"textfont\":{\"color\":\"white\",\"size\":12},\"type\":\"scatter\",\"x\":[-5],\"y\":[10]},{\"mode\":\"text\",\"text\":\"strokeid 3\",\"textfont\":{\"color\":\"white\",\"size\":12},\"type\":\"scatter\",\"x\":[-5],\"y\":[12]}],\"name\":\"\"},{\"data\":[{\"marker\":{\"color\":\"orangered\",\"size\":10},\"mode\":\"markers\",\"name\":\"Player 1\",\"type\":\"scatter\",\"x\":[4.602],\"y\":[-1.168]},{\"marker\":{\"color\":\"aquamarine\",\"size\":10},\"mode\":\"markers\",\"name\":\"Player 2\",\"type\":\"scatter\",\"x\":[7.276],\"y\":[25.164]},{\"marker\":{\"color\":\"yellow\",\"size\":10},\"mode\":\"markers\",\"type\":\"scatter\",\"x\":[7.322],\"y\":[20.048000000000002]},{\"mode\":\"text\",\"name\":\"\",\"text\":\"type topspin\",\"textfont\":{\"color\":\"white\",\"size\":12},\"type\":\"scatter\",\"x\":[-5],\"y\":[6]},{\"mode\":\"text\",\"name\":\"\",\"text\":\"stroke forehand\",\"textfont\":{\"color\":\"white\",\"size\":12},\"type\":\"scatter\",\"x\":[-5],\"y\":[8]},{\"mode\":\"text\",\"name\":\"\",\"text\":\"hitter Nadal\",\"textfont\":{\"color\":\"white\",\"size\":12},\"type\":\"scatter\",\"x\":[-5],\"y\":[10]},{\"mode\":\"text\",\"text\":\"strokeid 3\",\"textfont\":{\"color\":\"white\",\"size\":12},\"type\":\"scatter\",\"x\":[-5],\"y\":[12]}],\"name\":\"\"},{\"data\":[{\"marker\":{\"color\":\"orangered\",\"size\":10},\"mode\":\"markers\",\"name\":\"Player 1\",\"type\":\"scatter\",\"x\":[4.491],\"y\":[-1.274]},{\"marker\":{\"color\":\"aquamarine\",\"size\":10},\"mode\":\"markers\",\"name\":\"Player 2\",\"type\":\"scatter\",\"x\":[7.5280000000000005],\"y\":[25.152]},{\"marker\":{\"color\":\"yellow\",\"size\":10},\"mode\":\"markers\",\"type\":\"scatter\",\"x\":[7.551],\"y\":[22.594]},{\"mode\":\"text\",\"name\":\"\",\"text\":\"type topspin\",\"textfont\":{\"color\":\"white\",\"size\":12},\"type\":\"scatter\",\"x\":[-5],\"y\":[6]},{\"mode\":\"text\",\"name\":\"\",\"text\":\"stroke forehand\",\"textfont\":{\"color\":\"white\",\"size\":12},\"type\":\"scatter\",\"x\":[-5],\"y\":[8]},{\"mode\":\"text\",\"name\":\"\",\"text\":\"hitter Nadal\",\"textfont\":{\"color\":\"white\",\"size\":12},\"type\":\"scatter\",\"x\":[-5],\"y\":[10]},{\"mode\":\"text\",\"text\":\"strokeid 3\",\"textfont\":{\"color\":\"white\",\"size\":12},\"type\":\"scatter\",\"x\":[-5],\"y\":[12]}],\"name\":\"\"},{\"data\":[{\"marker\":{\"color\":\"orangered\",\"size\":10},\"mode\":\"markers\",\"name\":\"Player 1\",\"type\":\"scatter\",\"x\":[4.38],\"y\":[-1.38]},{\"marker\":{\"color\":\"aquamarine\",\"size\":10},\"mode\":\"markers\",\"name\":\"Player 2\",\"type\":\"scatter\",\"x\":[7.78],\"y\":[25.14]},{\"marker\":{\"color\":\"yellow\",\"size\":10},\"mode\":\"markers\",\"type\":\"scatter\",\"x\":[7.78],\"y\":[25.14]},{\"mode\":\"text\",\"name\":\"\",\"text\":\"type topspin\",\"textfont\":{\"color\":\"white\",\"size\":12},\"type\":\"scatter\",\"x\":[-5],\"y\":[6]},{\"mode\":\"text\",\"name\":\"\",\"text\":\"stroke backhand\",\"textfont\":{\"color\":\"white\",\"size\":12},\"type\":\"scatter\",\"x\":[-5],\"y\":[8]},{\"mode\":\"text\",\"name\":\"\",\"text\":\"hitter Djokovic\",\"textfont\":{\"color\":\"white\",\"size\":12},\"type\":\"scatter\",\"x\":[-5],\"y\":[10]},{\"mode\":\"text\",\"text\":\"strokeid 4\",\"textfont\":{\"color\":\"white\",\"size\":12},\"type\":\"scatter\",\"x\":[-5],\"y\":[12]}],\"name\":\"\"},{\"data\":[{\"marker\":{\"color\":\"orangered\",\"size\":10},\"mode\":\"markers\",\"name\":\"Player 1\",\"type\":\"scatter\",\"x\":[4.722],\"y\":[-1.358]},{\"marker\":{\"color\":\"aquamarine\",\"size\":10},\"mode\":\"markers\",\"name\":\"Player 2\",\"type\":\"scatter\",\"x\":[7.472],\"y\":[25.32]},{\"marker\":{\"color\":\"yellow\",\"size\":10},\"mode\":\"markers\",\"type\":\"scatter\",\"x\":[7.782000000000001],\"y\":[22.51]},{\"mode\":\"text\",\"name\":\"\",\"text\":\"type topspin\",\"textfont\":{\"color\":\"white\",\"size\":12},\"type\":\"scatter\",\"x\":[-5],\"y\":[6]},{\"mode\":\"text\",\"name\":\"\",\"text\":\"stroke backhand\",\"textfont\":{\"color\":\"white\",\"size\":12},\"type\":\"scatter\",\"x\":[-5],\"y\":[8]},{\"mode\":\"text\",\"name\":\"\",\"text\":\"hitter Djokovic\",\"textfont\":{\"color\":\"white\",\"size\":12},\"type\":\"scatter\",\"x\":[-5],\"y\":[10]},{\"mode\":\"text\",\"text\":\"strokeid 4\",\"textfont\":{\"color\":\"white\",\"size\":12},\"type\":\"scatter\",\"x\":[-5],\"y\":[12]}],\"name\":\"\"},{\"data\":[{\"marker\":{\"color\":\"orangered\",\"size\":10},\"mode\":\"markers\",\"name\":\"Player 1\",\"type\":\"scatter\",\"x\":[5.064],\"y\":[-1.3359999999999999]},{\"marker\":{\"color\":\"aquamarine\",\"size\":10},\"mode\":\"markers\",\"name\":\"Player 2\",\"type\":\"scatter\",\"x\":[7.164000000000001],\"y\":[25.500000000000004]},{\"marker\":{\"color\":\"yellow\",\"size\":10},\"mode\":\"markers\",\"type\":\"scatter\",\"x\":[7.784000000000001],\"y\":[19.880000000000003]},{\"mode\":\"text\",\"name\":\"\",\"text\":\"type topspin\",\"textfont\":{\"color\":\"white\",\"size\":12},\"type\":\"scatter\",\"x\":[-5],\"y\":[6]},{\"mode\":\"text\",\"name\":\"\",\"text\":\"stroke backhand\",\"textfont\":{\"color\":\"white\",\"size\":12},\"type\":\"scatter\",\"x\":[-5],\"y\":[8]},{\"mode\":\"text\",\"name\":\"\",\"text\":\"hitter Djokovic\",\"textfont\":{\"color\":\"white\",\"size\":12},\"type\":\"scatter\",\"x\":[-5],\"y\":[10]},{\"mode\":\"text\",\"text\":\"strokeid 4\",\"textfont\":{\"color\":\"white\",\"size\":12},\"type\":\"scatter\",\"x\":[-5],\"y\":[12]}],\"name\":\"\"},{\"data\":[{\"marker\":{\"color\":\"orangered\",\"size\":10},\"mode\":\"markers\",\"name\":\"Player 1\",\"type\":\"scatter\",\"x\":[5.406000000000001],\"y\":[-1.3139999999999998]},{\"marker\":{\"color\":\"aquamarine\",\"size\":10},\"mode\":\"markers\",\"name\":\"Player 2\",\"type\":\"scatter\",\"x\":[6.856],\"y\":[25.68]},{\"marker\":{\"color\":\"yellow\",\"size\":10},\"mode\":\"markers\",\"type\":\"scatter\",\"x\":[7.786],\"y\":[17.25]},{\"mode\":\"text\",\"name\":\"\",\"text\":\"type topspin\",\"textfont\":{\"color\":\"white\",\"size\":12},\"type\":\"scatter\",\"x\":[-5],\"y\":[6]},{\"mode\":\"text\",\"name\":\"\",\"text\":\"stroke backhand\",\"textfont\":{\"color\":\"white\",\"size\":12},\"type\":\"scatter\",\"x\":[-5],\"y\":[8]},{\"mode\":\"text\",\"name\":\"\",\"text\":\"hitter Djokovic\",\"textfont\":{\"color\":\"white\",\"size\":12},\"type\":\"scatter\",\"x\":[-5],\"y\":[10]},{\"mode\":\"text\",\"text\":\"strokeid 4\",\"textfont\":{\"color\":\"white\",\"size\":12},\"type\":\"scatter\",\"x\":[-5],\"y\":[12]}],\"name\":\"\"},{\"data\":[{\"marker\":{\"color\":\"orangered\",\"size\":10},\"mode\":\"markers\",\"name\":\"Player 1\",\"type\":\"scatter\",\"x\":[5.747999999999999],\"y\":[-1.2919999999999998]},{\"marker\":{\"color\":\"aquamarine\",\"size\":10},\"mode\":\"markers\",\"name\":\"Player 2\",\"type\":\"scatter\",\"x\":[6.548],\"y\":[25.86]},{\"marker\":{\"color\":\"yellow\",\"size\":10},\"mode\":\"markers\",\"type\":\"scatter\",\"x\":[7.788],\"y\":[14.62]},{\"mode\":\"text\",\"name\":\"\",\"text\":\"type topspin\",\"textfont\":{\"color\":\"white\",\"size\":12},\"type\":\"scatter\",\"x\":[-5],\"y\":[6]},{\"mode\":\"text\",\"name\":\"\",\"text\":\"stroke backhand\",\"textfont\":{\"color\":\"white\",\"size\":12},\"type\":\"scatter\",\"x\":[-5],\"y\":[8]},{\"mode\":\"text\",\"name\":\"\",\"text\":\"hitter Djokovic\",\"textfont\":{\"color\":\"white\",\"size\":12},\"type\":\"scatter\",\"x\":[-5],\"y\":[10]},{\"mode\":\"text\",\"text\":\"strokeid 4\",\"textfont\":{\"color\":\"white\",\"size\":12},\"type\":\"scatter\",\"x\":[-5],\"y\":[12]}],\"name\":\"\"},{\"data\":[{\"marker\":{\"color\":\"orangered\",\"size\":10},\"mode\":\"markers\",\"name\":\"Player 1\",\"type\":\"scatter\",\"x\":[6.09],\"y\":[-1.27]},{\"marker\":{\"color\":\"aquamarine\",\"size\":10},\"mode\":\"markers\",\"name\":\"Player 2\",\"type\":\"scatter\",\"x\":[6.24],\"y\":[26.04]},{\"marker\":{\"color\":\"yellow\",\"size\":10},\"mode\":\"markers\",\"type\":\"scatter\",\"x\":[7.79],\"y\":[11.99]},{\"mode\":\"text\",\"name\":\"\",\"text\":\"type topspin\",\"textfont\":{\"color\":\"white\",\"size\":12},\"type\":\"scatter\",\"x\":[-5],\"y\":[6]},{\"mode\":\"text\",\"name\":\"\",\"text\":\"stroke backhand\",\"textfont\":{\"color\":\"white\",\"size\":12},\"type\":\"scatter\",\"x\":[-5],\"y\":[8]},{\"mode\":\"text\",\"name\":\"\",\"text\":\"hitter Djokovic\",\"textfont\":{\"color\":\"white\",\"size\":12},\"type\":\"scatter\",\"x\":[-5],\"y\":[10]},{\"mode\":\"text\",\"text\":\"strokeid 4\",\"textfont\":{\"color\":\"white\",\"size\":12},\"type\":\"scatter\",\"x\":[-5],\"y\":[12]}],\"name\":\"\"},{\"data\":[{\"marker\":{\"color\":\"orangered\",\"size\":10},\"mode\":\"markers\",\"name\":\"Player 1\",\"type\":\"scatter\",\"x\":[6.432],\"y\":[-1.2479999999999998]},{\"marker\":{\"color\":\"aquamarine\",\"size\":10},\"mode\":\"markers\",\"name\":\"Player 2\",\"type\":\"scatter\",\"x\":[5.932],\"y\":[26.22]},{\"marker\":{\"color\":\"yellow\",\"size\":10},\"mode\":\"markers\",\"type\":\"scatter\",\"x\":[7.792],\"y\":[9.359999999999998]},{\"mode\":\"text\",\"name\":\"\",\"text\":\"type topspin\",\"textfont\":{\"color\":\"white\",\"size\":12},\"type\":\"scatter\",\"x\":[-5],\"y\":[6]},{\"mode\":\"text\",\"name\":\"\",\"text\":\"stroke backhand\",\"textfont\":{\"color\":\"white\",\"size\":12},\"type\":\"scatter\",\"x\":[-5],\"y\":[8]},{\"mode\":\"text\",\"name\":\"\",\"text\":\"hitter Djokovic\",\"textfont\":{\"color\":\"white\",\"size\":12},\"type\":\"scatter\",\"x\":[-5],\"y\":[10]},{\"mode\":\"text\",\"text\":\"strokeid 4\",\"textfont\":{\"color\":\"white\",\"size\":12},\"type\":\"scatter\",\"x\":[-5],\"y\":[12]}],\"name\":\"\"},{\"data\":[{\"marker\":{\"color\":\"orangered\",\"size\":10},\"mode\":\"markers\",\"name\":\"Player 1\",\"type\":\"scatter\",\"x\":[6.773999999999999],\"y\":[-1.226]},{\"marker\":{\"color\":\"aquamarine\",\"size\":10},\"mode\":\"markers\",\"name\":\"Player 2\",\"type\":\"scatter\",\"x\":[5.6240000000000006],\"y\":[26.400000000000002]},{\"marker\":{\"color\":\"yellow\",\"size\":10},\"mode\":\"markers\",\"type\":\"scatter\",\"x\":[7.794],\"y\":[6.729999999999999]},{\"mode\":\"text\",\"name\":\"\",\"text\":\"type topspin\",\"textfont\":{\"color\":\"white\",\"size\":12},\"type\":\"scatter\",\"x\":[-5],\"y\":[6]},{\"mode\":\"text\",\"name\":\"\",\"text\":\"stroke backhand\",\"textfont\":{\"color\":\"white\",\"size\":12},\"type\":\"scatter\",\"x\":[-5],\"y\":[8]},{\"mode\":\"text\",\"name\":\"\",\"text\":\"hitter Djokovic\",\"textfont\":{\"color\":\"white\",\"size\":12},\"type\":\"scatter\",\"x\":[-5],\"y\":[10]},{\"mode\":\"text\",\"text\":\"strokeid 4\",\"textfont\":{\"color\":\"white\",\"size\":12},\"type\":\"scatter\",\"x\":[-5],\"y\":[12]}],\"name\":\"\"},{\"data\":[{\"marker\":{\"color\":\"orangered\",\"size\":10},\"mode\":\"markers\",\"name\":\"Player 1\",\"type\":\"scatter\",\"x\":[7.116],\"y\":[-1.2039999999999997]},{\"marker\":{\"color\":\"aquamarine\",\"size\":10},\"mode\":\"markers\",\"name\":\"Player 2\",\"type\":\"scatter\",\"x\":[5.316],\"y\":[26.580000000000002]},{\"marker\":{\"color\":\"yellow\",\"size\":10},\"mode\":\"markers\",\"type\":\"scatter\",\"x\":[7.795999999999999],\"y\":[4.099999999999999]},{\"mode\":\"text\",\"name\":\"\",\"text\":\"type topspin\",\"textfont\":{\"color\":\"white\",\"size\":12},\"type\":\"scatter\",\"x\":[-5],\"y\":[6]},{\"mode\":\"text\",\"name\":\"\",\"text\":\"stroke backhand\",\"textfont\":{\"color\":\"white\",\"size\":12},\"type\":\"scatter\",\"x\":[-5],\"y\":[8]},{\"mode\":\"text\",\"name\":\"\",\"text\":\"hitter Djokovic\",\"textfont\":{\"color\":\"white\",\"size\":12},\"type\":\"scatter\",\"x\":[-5],\"y\":[10]},{\"mode\":\"text\",\"text\":\"strokeid 4\",\"textfont\":{\"color\":\"white\",\"size\":12},\"type\":\"scatter\",\"x\":[-5],\"y\":[12]}],\"name\":\"\"},{\"data\":[{\"marker\":{\"color\":\"orangered\",\"size\":10},\"mode\":\"markers\",\"name\":\"Player 1\",\"type\":\"scatter\",\"x\":[7.457999999999999],\"y\":[-1.182]},{\"marker\":{\"color\":\"aquamarine\",\"size\":10},\"mode\":\"markers\",\"name\":\"Player 2\",\"type\":\"scatter\",\"x\":[5.008],\"y\":[26.76]},{\"marker\":{\"color\":\"yellow\",\"size\":10},\"mode\":\"markers\",\"type\":\"scatter\",\"x\":[7.797999999999999],\"y\":[1.4699999999999993]},{\"mode\":\"text\",\"name\":\"\",\"text\":\"type topspin\",\"textfont\":{\"color\":\"white\",\"size\":12},\"type\":\"scatter\",\"x\":[-5],\"y\":[6]},{\"mode\":\"text\",\"name\":\"\",\"text\":\"stroke backhand\",\"textfont\":{\"color\":\"white\",\"size\":12},\"type\":\"scatter\",\"x\":[-5],\"y\":[8]},{\"mode\":\"text\",\"name\":\"\",\"text\":\"hitter Djokovic\",\"textfont\":{\"color\":\"white\",\"size\":12},\"type\":\"scatter\",\"x\":[-5],\"y\":[10]},{\"mode\":\"text\",\"text\":\"strokeid 4\",\"textfont\":{\"color\":\"white\",\"size\":12},\"type\":\"scatter\",\"x\":[-5],\"y\":[12]}],\"name\":\"\"},{\"data\":[{\"marker\":{\"color\":\"orangered\",\"size\":10},\"mode\":\"markers\",\"name\":\"Player 1\",\"type\":\"scatter\",\"x\":[7.8],\"y\":[-1.16]},{\"marker\":{\"color\":\"aquamarine\",\"size\":10},\"mode\":\"markers\",\"name\":\"Player 2\",\"type\":\"scatter\",\"x\":[4.7],\"y\":[26.94]},{\"marker\":{\"color\":\"yellow\",\"size\":10},\"mode\":\"markers\",\"type\":\"scatter\",\"x\":[7.8],\"y\":[-1.16]},{\"mode\":\"text\",\"name\":\"\",\"text\":\"type topspin\",\"textfont\":{\"color\":\"white\",\"size\":12},\"type\":\"scatter\",\"x\":[-5],\"y\":[6]},{\"mode\":\"text\",\"name\":\"\",\"text\":\"stroke backhand\",\"textfont\":{\"color\":\"white\",\"size\":12},\"type\":\"scatter\",\"x\":[-5],\"y\":[8]},{\"mode\":\"text\",\"name\":\"\",\"text\":\"hitter Nadal\",\"textfont\":{\"color\":\"white\",\"size\":12},\"type\":\"scatter\",\"x\":[-5],\"y\":[10]},{\"mode\":\"text\",\"text\":\"strokeid 5\",\"textfont\":{\"color\":\"white\",\"size\":12},\"type\":\"scatter\",\"x\":[-5],\"y\":[12]}],\"name\":\"\"},{\"data\":[{\"marker\":{\"color\":\"orangered\",\"size\":10},\"mode\":\"markers\",\"name\":\"Player 1\",\"type\":\"scatter\",\"x\":[7.696],\"y\":[-1.1600000000000001]},{\"marker\":{\"color\":\"aquamarine\",\"size\":10},\"mode\":\"markers\",\"name\":\"Player 2\",\"type\":\"scatter\",\"x\":[4.384],\"y\":[26.843000000000004]},{\"marker\":{\"color\":\"yellow\",\"size\":10},\"mode\":\"markers\",\"type\":\"scatter\",\"x\":[7.1739999999999995],\"y\":[1.553]},{\"mode\":\"text\",\"name\":\"\",\"text\":\"type topspin\",\"textfont\":{\"color\":\"white\",\"size\":12},\"type\":\"scatter\",\"x\":[-5],\"y\":[6]},{\"mode\":\"text\",\"name\":\"\",\"text\":\"stroke backhand\",\"textfont\":{\"color\":\"white\",\"size\":12},\"type\":\"scatter\",\"x\":[-5],\"y\":[8]},{\"mode\":\"text\",\"name\":\"\",\"text\":\"hitter Nadal\",\"textfont\":{\"color\":\"white\",\"size\":12},\"type\":\"scatter\",\"x\":[-5],\"y\":[10]},{\"mode\":\"text\",\"text\":\"strokeid 5\",\"textfont\":{\"color\":\"white\",\"size\":12},\"type\":\"scatter\",\"x\":[-5],\"y\":[12]}],\"name\":\"\"},{\"data\":[{\"marker\":{\"color\":\"orangered\",\"size\":10},\"mode\":\"markers\",\"name\":\"Player 1\",\"type\":\"scatter\",\"x\":[7.5920000000000005],\"y\":[-1.16]},{\"marker\":{\"color\":\"aquamarine\",\"size\":10},\"mode\":\"markers\",\"name\":\"Player 2\",\"type\":\"scatter\",\"x\":[4.0680000000000005],\"y\":[26.746000000000002]},{\"marker\":{\"color\":\"yellow\",\"size\":10},\"mode\":\"markers\",\"type\":\"scatter\",\"x\":[6.548],\"y\":[4.266]},{\"mode\":\"text\",\"name\":\"\",\"text\":\"type topspin\",\"textfont\":{\"color\":\"white\",\"size\":12},\"type\":\"scatter\",\"x\":[-5],\"y\":[6]},{\"mode\":\"text\",\"name\":\"\",\"text\":\"stroke backhand\",\"textfont\":{\"color\":\"white\",\"size\":12},\"type\":\"scatter\",\"x\":[-5],\"y\":[8]},{\"mode\":\"text\",\"name\":\"\",\"text\":\"hitter Nadal\",\"textfont\":{\"color\":\"white\",\"size\":12},\"type\":\"scatter\",\"x\":[-5],\"y\":[10]},{\"mode\":\"text\",\"text\":\"strokeid 5\",\"textfont\":{\"color\":\"white\",\"size\":12},\"type\":\"scatter\",\"x\":[-5],\"y\":[12]}],\"name\":\"\"},{\"data\":[{\"marker\":{\"color\":\"orangered\",\"size\":10},\"mode\":\"markers\",\"name\":\"Player 1\",\"type\":\"scatter\",\"x\":[7.4879999999999995],\"y\":[-1.16]},{\"marker\":{\"color\":\"aquamarine\",\"size\":10},\"mode\":\"markers\",\"name\":\"Player 2\",\"type\":\"scatter\",\"x\":[3.7520000000000002],\"y\":[26.649]},{\"marker\":{\"color\":\"yellow\",\"size\":10},\"mode\":\"markers\",\"type\":\"scatter\",\"x\":[5.922],\"y\":[6.979]},{\"mode\":\"text\",\"name\":\"\",\"text\":\"type topspin\",\"textfont\":{\"color\":\"white\",\"size\":12},\"type\":\"scatter\",\"x\":[-5],\"y\":[6]},{\"mode\":\"text\",\"name\":\"\",\"text\":\"stroke backhand\",\"textfont\":{\"color\":\"white\",\"size\":12},\"type\":\"scatter\",\"x\":[-5],\"y\":[8]},{\"mode\":\"text\",\"name\":\"\",\"text\":\"hitter Nadal\",\"textfont\":{\"color\":\"white\",\"size\":12},\"type\":\"scatter\",\"x\":[-5],\"y\":[10]},{\"mode\":\"text\",\"text\":\"strokeid 5\",\"textfont\":{\"color\":\"white\",\"size\":12},\"type\":\"scatter\",\"x\":[-5],\"y\":[12]}],\"name\":\"\"},{\"data\":[{\"marker\":{\"color\":\"orangered\",\"size\":10},\"mode\":\"markers\",\"name\":\"Player 1\",\"type\":\"scatter\",\"x\":[7.384],\"y\":[-1.16]},{\"marker\":{\"color\":\"aquamarine\",\"size\":10},\"mode\":\"markers\",\"name\":\"Player 2\",\"type\":\"scatter\",\"x\":[3.436],\"y\":[26.552]},{\"marker\":{\"color\":\"yellow\",\"size\":10},\"mode\":\"markers\",\"type\":\"scatter\",\"x\":[5.295999999999999],\"y\":[9.692]},{\"mode\":\"text\",\"name\":\"\",\"text\":\"type topspin\",\"textfont\":{\"color\":\"white\",\"size\":12},\"type\":\"scatter\",\"x\":[-5],\"y\":[6]},{\"mode\":\"text\",\"name\":\"\",\"text\":\"stroke backhand\",\"textfont\":{\"color\":\"white\",\"size\":12},\"type\":\"scatter\",\"x\":[-5],\"y\":[8]},{\"mode\":\"text\",\"name\":\"\",\"text\":\"hitter Nadal\",\"textfont\":{\"color\":\"white\",\"size\":12},\"type\":\"scatter\",\"x\":[-5],\"y\":[10]},{\"mode\":\"text\",\"text\":\"strokeid 5\",\"textfont\":{\"color\":\"white\",\"size\":12},\"type\":\"scatter\",\"x\":[-5],\"y\":[12]}],\"name\":\"\"},{\"data\":[{\"marker\":{\"color\":\"orangered\",\"size\":10},\"mode\":\"markers\",\"name\":\"Player 1\",\"type\":\"scatter\",\"x\":[7.279999999999999],\"y\":[-1.16]},{\"marker\":{\"color\":\"aquamarine\",\"size\":10},\"mode\":\"markers\",\"name\":\"Player 2\",\"type\":\"scatter\",\"x\":[3.12],\"y\":[26.455]},{\"marker\":{\"color\":\"yellow\",\"size\":10},\"mode\":\"markers\",\"type\":\"scatter\",\"x\":[4.67],\"y\":[12.405]},{\"mode\":\"text\",\"name\":\"\",\"text\":\"type topspin\",\"textfont\":{\"color\":\"white\",\"size\":12},\"type\":\"scatter\",\"x\":[-5],\"y\":[6]},{\"mode\":\"text\",\"name\":\"\",\"text\":\"stroke backhand\",\"textfont\":{\"color\":\"white\",\"size\":12},\"type\":\"scatter\",\"x\":[-5],\"y\":[8]},{\"mode\":\"text\",\"name\":\"\",\"text\":\"hitter Nadal\",\"textfont\":{\"color\":\"white\",\"size\":12},\"type\":\"scatter\",\"x\":[-5],\"y\":[10]},{\"mode\":\"text\",\"text\":\"strokeid 5\",\"textfont\":{\"color\":\"white\",\"size\":12},\"type\":\"scatter\",\"x\":[-5],\"y\":[12]}],\"name\":\"\"},{\"data\":[{\"marker\":{\"color\":\"orangered\",\"size\":10},\"mode\":\"markers\",\"name\":\"Player 1\",\"type\":\"scatter\",\"x\":[7.175999999999999],\"y\":[-1.16]},{\"marker\":{\"color\":\"aquamarine\",\"size\":10},\"mode\":\"markers\",\"name\":\"Player 2\",\"type\":\"scatter\",\"x\":[2.804],\"y\":[26.357999999999997]},{\"marker\":{\"color\":\"yellow\",\"size\":10},\"mode\":\"markers\",\"type\":\"scatter\",\"x\":[4.044],\"y\":[15.118]},{\"mode\":\"text\",\"name\":\"\",\"text\":\"type topspin\",\"textfont\":{\"color\":\"white\",\"size\":12},\"type\":\"scatter\",\"x\":[-5],\"y\":[6]},{\"mode\":\"text\",\"name\":\"\",\"text\":\"stroke backhand\",\"textfont\":{\"color\":\"white\",\"size\":12},\"type\":\"scatter\",\"x\":[-5],\"y\":[8]},{\"mode\":\"text\",\"name\":\"\",\"text\":\"hitter Nadal\",\"textfont\":{\"color\":\"white\",\"size\":12},\"type\":\"scatter\",\"x\":[-5],\"y\":[10]},{\"mode\":\"text\",\"text\":\"strokeid 5\",\"textfont\":{\"color\":\"white\",\"size\":12},\"type\":\"scatter\",\"x\":[-5],\"y\":[12]}],\"name\":\"\"},{\"data\":[{\"marker\":{\"color\":\"orangered\",\"size\":10},\"mode\":\"markers\",\"name\":\"Player 1\",\"type\":\"scatter\",\"x\":[7.071999999999999],\"y\":[-1.16]},{\"marker\":{\"color\":\"aquamarine\",\"size\":10},\"mode\":\"markers\",\"name\":\"Player 2\",\"type\":\"scatter\",\"x\":[2.4879999999999995],\"y\":[26.261000000000003]},{\"marker\":{\"color\":\"yellow\",\"size\":10},\"mode\":\"markers\",\"type\":\"scatter\",\"x\":[3.4179999999999993],\"y\":[17.831000000000003]},{\"mode\":\"text\",\"name\":\"\",\"text\":\"type topspin\",\"textfont\":{\"color\":\"white\",\"size\":12},\"type\":\"scatter\",\"x\":[-5],\"y\":[6]},{\"mode\":\"text\",\"name\":\"\",\"text\":\"stroke backhand\",\"textfont\":{\"color\":\"white\",\"size\":12},\"type\":\"scatter\",\"x\":[-5],\"y\":[8]},{\"mode\":\"text\",\"name\":\"\",\"text\":\"hitter Nadal\",\"textfont\":{\"color\":\"white\",\"size\":12},\"type\":\"scatter\",\"x\":[-5],\"y\":[10]},{\"mode\":\"text\",\"text\":\"strokeid 5\",\"textfont\":{\"color\":\"white\",\"size\":12},\"type\":\"scatter\",\"x\":[-5],\"y\":[12]}],\"name\":\"\"},{\"data\":[{\"marker\":{\"color\":\"orangered\",\"size\":10},\"mode\":\"markers\",\"name\":\"Player 1\",\"type\":\"scatter\",\"x\":[6.968],\"y\":[-1.16]},{\"marker\":{\"color\":\"aquamarine\",\"size\":10},\"mode\":\"markers\",\"name\":\"Player 2\",\"type\":\"scatter\",\"x\":[2.172],\"y\":[26.163999999999998]},{\"marker\":{\"color\":\"yellow\",\"size\":10},\"mode\":\"markers\",\"type\":\"scatter\",\"x\":[2.792],\"y\":[20.544]},{\"mode\":\"text\",\"name\":\"\",\"text\":\"type topspin\",\"textfont\":{\"color\":\"white\",\"size\":12},\"type\":\"scatter\",\"x\":[-5],\"y\":[6]},{\"mode\":\"text\",\"name\":\"\",\"text\":\"stroke backhand\",\"textfont\":{\"color\":\"white\",\"size\":12},\"type\":\"scatter\",\"x\":[-5],\"y\":[8]},{\"mode\":\"text\",\"name\":\"\",\"text\":\"hitter Nadal\",\"textfont\":{\"color\":\"white\",\"size\":12},\"type\":\"scatter\",\"x\":[-5],\"y\":[10]},{\"mode\":\"text\",\"text\":\"strokeid 5\",\"textfont\":{\"color\":\"white\",\"size\":12},\"type\":\"scatter\",\"x\":[-5],\"y\":[12]}],\"name\":\"\"},{\"data\":[{\"marker\":{\"color\":\"orangered\",\"size\":10},\"mode\":\"markers\",\"name\":\"Player 1\",\"type\":\"scatter\",\"x\":[6.863999999999999],\"y\":[-1.16]},{\"marker\":{\"color\":\"aquamarine\",\"size\":10},\"mode\":\"markers\",\"name\":\"Player 2\",\"type\":\"scatter\",\"x\":[1.856],\"y\":[26.067]},{\"marker\":{\"color\":\"yellow\",\"size\":10},\"mode\":\"markers\",\"type\":\"scatter\",\"x\":[2.166],\"y\":[23.257]},{\"mode\":\"text\",\"name\":\"\",\"text\":\"type topspin\",\"textfont\":{\"color\":\"white\",\"size\":12},\"type\":\"scatter\",\"x\":[-5],\"y\":[6]},{\"mode\":\"text\",\"name\":\"\",\"text\":\"stroke backhand\",\"textfont\":{\"color\":\"white\",\"size\":12},\"type\":\"scatter\",\"x\":[-5],\"y\":[8]},{\"mode\":\"text\",\"name\":\"\",\"text\":\"hitter Nadal\",\"textfont\":{\"color\":\"white\",\"size\":12},\"type\":\"scatter\",\"x\":[-5],\"y\":[10]},{\"mode\":\"text\",\"text\":\"strokeid 5\",\"textfont\":{\"color\":\"white\",\"size\":12},\"type\":\"scatter\",\"x\":[-5],\"y\":[12]}],\"name\":\"\"},{\"data\":[{\"marker\":{\"color\":\"orangered\",\"size\":10},\"mode\":\"markers\",\"name\":\"Player 1\",\"type\":\"scatter\",\"x\":[6.76],\"y\":[-1.16]},{\"marker\":{\"color\":\"aquamarine\",\"size\":10},\"mode\":\"markers\",\"name\":\"Player 2\",\"type\":\"scatter\",\"x\":[1.54],\"y\":[25.97]},{\"marker\":{\"color\":\"yellow\",\"size\":10},\"mode\":\"markers\",\"type\":\"scatter\",\"x\":[1.54],\"y\":[25.97]},{\"mode\":\"text\",\"name\":\"\",\"text\":\"type topspin\",\"textfont\":{\"color\":\"white\",\"size\":12},\"type\":\"scatter\",\"x\":[-5],\"y\":[6]},{\"mode\":\"text\",\"name\":\"\",\"text\":\"stroke forehand\",\"textfont\":{\"color\":\"white\",\"size\":12},\"type\":\"scatter\",\"x\":[-5],\"y\":[8]},{\"mode\":\"text\",\"name\":\"\",\"text\":\"hitter Djokovic\",\"textfont\":{\"color\":\"white\",\"size\":12},\"type\":\"scatter\",\"x\":[-5],\"y\":[10]},{\"mode\":\"text\",\"text\":\"strokeid 6\",\"textfont\":{\"color\":\"white\",\"size\":12},\"type\":\"scatter\",\"x\":[-5],\"y\":[12]}],\"name\":\"\"},{\"data\":[{\"marker\":{\"color\":\"orangered\",\"size\":10},\"mode\":\"markers\",\"name\":\"Player 1\",\"type\":\"scatter\",\"x\":[6.356],\"y\":[-1.227]},{\"marker\":{\"color\":\"aquamarine\",\"size\":10},\"mode\":\"markers\",\"name\":\"Player 2\",\"type\":\"scatter\",\"x\":[1.828],\"y\":[25.934]},{\"marker\":{\"color\":\"yellow\",\"size\":10},\"mode\":\"markers\",\"type\":\"scatter\",\"x\":[1.6580000000000001],\"y\":[23.19]},{\"mode\":\"text\",\"name\":\"\",\"text\":\"type topspin\",\"textfont\":{\"color\":\"white\",\"size\":12},\"type\":\"scatter\",\"x\":[-5],\"y\":[6]},{\"mode\":\"text\",\"name\":\"\",\"text\":\"stroke forehand\",\"textfont\":{\"color\":\"white\",\"size\":12},\"type\":\"scatter\",\"x\":[-5],\"y\":[8]},{\"mode\":\"text\",\"name\":\"\",\"text\":\"hitter Djokovic\",\"textfont\":{\"color\":\"white\",\"size\":12},\"type\":\"scatter\",\"x\":[-5],\"y\":[10]},{\"mode\":\"text\",\"text\":\"strokeid 6\",\"textfont\":{\"color\":\"white\",\"size\":12},\"type\":\"scatter\",\"x\":[-5],\"y\":[12]}],\"name\":\"\"},{\"data\":[{\"marker\":{\"color\":\"orangered\",\"size\":10},\"mode\":\"markers\",\"name\":\"Player 1\",\"type\":\"scatter\",\"x\":[5.952],\"y\":[-1.294]},{\"marker\":{\"color\":\"aquamarine\",\"size\":10},\"mode\":\"markers\",\"name\":\"Player 2\",\"type\":\"scatter\",\"x\":[2.116],\"y\":[25.898]},{\"marker\":{\"color\":\"yellow\",\"size\":10},\"mode\":\"markers\",\"type\":\"scatter\",\"x\":[1.7760000000000002],\"y\":[20.41]},{\"mode\":\"text\",\"name\":\"\",\"text\":\"type topspin\",\"textfont\":{\"color\":\"white\",\"size\":12},\"type\":\"scatter\",\"x\":[-5],\"y\":[6]},{\"mode\":\"text\",\"name\":\"\",\"text\":\"stroke forehand\",\"textfont\":{\"color\":\"white\",\"size\":12},\"type\":\"scatter\",\"x\":[-5],\"y\":[8]},{\"mode\":\"text\",\"name\":\"\",\"text\":\"hitter Djokovic\",\"textfont\":{\"color\":\"white\",\"size\":12},\"type\":\"scatter\",\"x\":[-5],\"y\":[10]},{\"mode\":\"text\",\"text\":\"strokeid 6\",\"textfont\":{\"color\":\"white\",\"size\":12},\"type\":\"scatter\",\"x\":[-5],\"y\":[12]}],\"name\":\"\"},{\"data\":[{\"marker\":{\"color\":\"orangered\",\"size\":10},\"mode\":\"markers\",\"name\":\"Player 1\",\"type\":\"scatter\",\"x\":[5.547999999999999],\"y\":[-1.3610000000000002]},{\"marker\":{\"color\":\"aquamarine\",\"size\":10},\"mode\":\"markers\",\"name\":\"Player 2\",\"type\":\"scatter\",\"x\":[2.404],\"y\":[25.862]},{\"marker\":{\"color\":\"yellow\",\"size\":10},\"mode\":\"markers\",\"type\":\"scatter\",\"x\":[1.8940000000000001],\"y\":[17.63]},{\"mode\":\"text\",\"name\":\"\",\"text\":\"type topspin\",\"textfont\":{\"color\":\"white\",\"size\":12},\"type\":\"scatter\",\"x\":[-5],\"y\":[6]},{\"mode\":\"text\",\"name\":\"\",\"text\":\"stroke forehand\",\"textfont\":{\"color\":\"white\",\"size\":12},\"type\":\"scatter\",\"x\":[-5],\"y\":[8]},{\"mode\":\"text\",\"name\":\"\",\"text\":\"hitter Djokovic\",\"textfont\":{\"color\":\"white\",\"size\":12},\"type\":\"scatter\",\"x\":[-5],\"y\":[10]},{\"mode\":\"text\",\"text\":\"strokeid 6\",\"textfont\":{\"color\":\"white\",\"size\":12},\"type\":\"scatter\",\"x\":[-5],\"y\":[12]}],\"name\":\"\"},{\"data\":[{\"marker\":{\"color\":\"orangered\",\"size\":10},\"mode\":\"markers\",\"name\":\"Player 1\",\"type\":\"scatter\",\"x\":[5.144],\"y\":[-1.428]},{\"marker\":{\"color\":\"aquamarine\",\"size\":10},\"mode\":\"markers\",\"name\":\"Player 2\",\"type\":\"scatter\",\"x\":[2.692],\"y\":[25.826]},{\"marker\":{\"color\":\"yellow\",\"size\":10},\"mode\":\"markers\",\"type\":\"scatter\",\"x\":[2.012],\"y\":[14.85]},{\"mode\":\"text\",\"name\":\"\",\"text\":\"type topspin\",\"textfont\":{\"color\":\"white\",\"size\":12},\"type\":\"scatter\",\"x\":[-5],\"y\":[6]},{\"mode\":\"text\",\"name\":\"\",\"text\":\"stroke forehand\",\"textfont\":{\"color\":\"white\",\"size\":12},\"type\":\"scatter\",\"x\":[-5],\"y\":[8]},{\"mode\":\"text\",\"name\":\"\",\"text\":\"hitter Djokovic\",\"textfont\":{\"color\":\"white\",\"size\":12},\"type\":\"scatter\",\"x\":[-5],\"y\":[10]},{\"mode\":\"text\",\"text\":\"strokeid 6\",\"textfont\":{\"color\":\"white\",\"size\":12},\"type\":\"scatter\",\"x\":[-5],\"y\":[12]}],\"name\":\"\"},{\"data\":[{\"marker\":{\"color\":\"orangered\",\"size\":10},\"mode\":\"markers\",\"name\":\"Player 1\",\"type\":\"scatter\",\"x\":[4.74],\"y\":[-1.495]},{\"marker\":{\"color\":\"aquamarine\",\"size\":10},\"mode\":\"markers\",\"name\":\"Player 2\",\"type\":\"scatter\",\"x\":[2.98],\"y\":[25.79]},{\"marker\":{\"color\":\"yellow\",\"size\":10},\"mode\":\"markers\",\"type\":\"scatter\",\"x\":[2.13],\"y\":[12.07]},{\"mode\":\"text\",\"name\":\"\",\"text\":\"type topspin\",\"textfont\":{\"color\":\"white\",\"size\":12},\"type\":\"scatter\",\"x\":[-5],\"y\":[6]},{\"mode\":\"text\",\"name\":\"\",\"text\":\"stroke forehand\",\"textfont\":{\"color\":\"white\",\"size\":12},\"type\":\"scatter\",\"x\":[-5],\"y\":[8]},{\"mode\":\"text\",\"name\":\"\",\"text\":\"hitter Djokovic\",\"textfont\":{\"color\":\"white\",\"size\":12},\"type\":\"scatter\",\"x\":[-5],\"y\":[10]},{\"mode\":\"text\",\"text\":\"strokeid 6\",\"textfont\":{\"color\":\"white\",\"size\":12},\"type\":\"scatter\",\"x\":[-5],\"y\":[12]}],\"name\":\"\"},{\"data\":[{\"marker\":{\"color\":\"orangered\",\"size\":10},\"mode\":\"markers\",\"name\":\"Player 1\",\"type\":\"scatter\",\"x\":[4.335999999999999],\"y\":[-1.5620000000000003]},{\"marker\":{\"color\":\"aquamarine\",\"size\":10},\"mode\":\"markers\",\"name\":\"Player 2\",\"type\":\"scatter\",\"x\":[3.268],\"y\":[25.753999999999998]},{\"marker\":{\"color\":\"yellow\",\"size\":10},\"mode\":\"markers\",\"type\":\"scatter\",\"x\":[2.248],\"y\":[9.289999999999997]},{\"mode\":\"text\",\"name\":\"\",\"text\":\"type topspin\",\"textfont\":{\"color\":\"white\",\"size\":12},\"type\":\"scatter\",\"x\":[-5],\"y\":[6]},{\"mode\":\"text\",\"name\":\"\",\"text\":\"stroke forehand\",\"textfont\":{\"color\":\"white\",\"size\":12},\"type\":\"scatter\",\"x\":[-5],\"y\":[8]},{\"mode\":\"text\",\"name\":\"\",\"text\":\"hitter Djokovic\",\"textfont\":{\"color\":\"white\",\"size\":12},\"type\":\"scatter\",\"x\":[-5],\"y\":[10]},{\"mode\":\"text\",\"text\":\"strokeid 6\",\"textfont\":{\"color\":\"white\",\"size\":12},\"type\":\"scatter\",\"x\":[-5],\"y\":[12]}],\"name\":\"\"},{\"data\":[{\"marker\":{\"color\":\"orangered\",\"size\":10},\"mode\":\"markers\",\"name\":\"Player 1\",\"type\":\"scatter\",\"x\":[3.932],\"y\":[-1.629]},{\"marker\":{\"color\":\"aquamarine\",\"size\":10},\"mode\":\"markers\",\"name\":\"Player 2\",\"type\":\"scatter\",\"x\":[3.556],\"y\":[25.717999999999996]},{\"marker\":{\"color\":\"yellow\",\"size\":10},\"mode\":\"markers\",\"type\":\"scatter\",\"x\":[2.366],\"y\":[6.509999999999998]},{\"mode\":\"text\",\"name\":\"\",\"text\":\"type topspin\",\"textfont\":{\"color\":\"white\",\"size\":12},\"type\":\"scatter\",\"x\":[-5],\"y\":[6]},{\"mode\":\"text\",\"name\":\"\",\"text\":\"stroke forehand\",\"textfont\":{\"color\":\"white\",\"size\":12},\"type\":\"scatter\",\"x\":[-5],\"y\":[8]},{\"mode\":\"text\",\"name\":\"\",\"text\":\"hitter Djokovic\",\"textfont\":{\"color\":\"white\",\"size\":12},\"type\":\"scatter\",\"x\":[-5],\"y\":[10]},{\"mode\":\"text\",\"text\":\"strokeid 6\",\"textfont\":{\"color\":\"white\",\"size\":12},\"type\":\"scatter\",\"x\":[-5],\"y\":[12]}],\"name\":\"\"},{\"data\":[{\"marker\":{\"color\":\"orangered\",\"size\":10},\"mode\":\"markers\",\"name\":\"Player 1\",\"type\":\"scatter\",\"x\":[3.5279999999999996],\"y\":[-1.6960000000000002]},{\"marker\":{\"color\":\"aquamarine\",\"size\":10},\"mode\":\"markers\",\"name\":\"Player 2\",\"type\":\"scatter\",\"x\":[3.844],\"y\":[25.682]},{\"marker\":{\"color\":\"yellow\",\"size\":10},\"mode\":\"markers\",\"type\":\"scatter\",\"x\":[2.484],\"y\":[3.7299999999999986]},{\"mode\":\"text\",\"name\":\"\",\"text\":\"type topspin\",\"textfont\":{\"color\":\"white\",\"size\":12},\"type\":\"scatter\",\"x\":[-5],\"y\":[6]},{\"mode\":\"text\",\"name\":\"\",\"text\":\"stroke forehand\",\"textfont\":{\"color\":\"white\",\"size\":12},\"type\":\"scatter\",\"x\":[-5],\"y\":[8]},{\"mode\":\"text\",\"name\":\"\",\"text\":\"hitter Djokovic\",\"textfont\":{\"color\":\"white\",\"size\":12},\"type\":\"scatter\",\"x\":[-5],\"y\":[10]},{\"mode\":\"text\",\"text\":\"strokeid 6\",\"textfont\":{\"color\":\"white\",\"size\":12},\"type\":\"scatter\",\"x\":[-5],\"y\":[12]}],\"name\":\"\"},{\"data\":[{\"marker\":{\"color\":\"orangered\",\"size\":10},\"mode\":\"markers\",\"name\":\"Player 1\",\"type\":\"scatter\",\"x\":[3.124],\"y\":[-1.763]},{\"marker\":{\"color\":\"aquamarine\",\"size\":10},\"mode\":\"markers\",\"name\":\"Player 2\",\"type\":\"scatter\",\"x\":[4.132000000000001],\"y\":[25.646]},{\"marker\":{\"color\":\"yellow\",\"size\":10},\"mode\":\"markers\",\"type\":\"scatter\",\"x\":[2.6020000000000003],\"y\":[0.9499999999999995]},{\"mode\":\"text\",\"name\":\"\",\"text\":\"type topspin\",\"textfont\":{\"color\":\"white\",\"size\":12},\"type\":\"scatter\",\"x\":[-5],\"y\":[6]},{\"mode\":\"text\",\"name\":\"\",\"text\":\"stroke forehand\",\"textfont\":{\"color\":\"white\",\"size\":12},\"type\":\"scatter\",\"x\":[-5],\"y\":[8]},{\"mode\":\"text\",\"name\":\"\",\"text\":\"hitter Djokovic\",\"textfont\":{\"color\":\"white\",\"size\":12},\"type\":\"scatter\",\"x\":[-5],\"y\":[10]},{\"mode\":\"text\",\"text\":\"strokeid 6\",\"textfont\":{\"color\":\"white\",\"size\":12},\"type\":\"scatter\",\"x\":[-5],\"y\":[12]}],\"name\":\"\"},{\"data\":[{\"marker\":{\"color\":\"orangered\",\"size\":10},\"mode\":\"markers\",\"name\":\"Player 1\",\"type\":\"scatter\",\"x\":[3.124],\"y\":[-1.763]},{\"marker\":{\"color\":\"aquamarine\",\"size\":10},\"mode\":\"markers\",\"name\":\"Player 2\",\"type\":\"scatter\",\"x\":[4.132000000000001],\"y\":[25.646]},{\"marker\":{\"color\":\"yellow\",\"size\":10},\"mode\":\"markers\",\"type\":\"scatter\",\"x\":[2.72],\"y\":[-1.83]},{\"mode\":\"text\",\"name\":\"\",\"text\":\"type topspin\",\"textfont\":{\"color\":\"white\",\"size\":12},\"type\":\"scatter\",\"x\":[-5],\"y\":[6]},{\"mode\":\"text\",\"name\":\"\",\"text\":\"stroke forehand\",\"textfont\":{\"color\":\"white\",\"size\":12},\"type\":\"scatter\",\"x\":[-5],\"y\":[8]},{\"mode\":\"text\",\"name\":\"\",\"text\":\"hitter Nadal\",\"textfont\":{\"color\":\"white\",\"size\":12},\"type\":\"scatter\",\"x\":[-5],\"y\":[10]},{\"mode\":\"text\",\"text\":\"strokeid 7\",\"textfont\":{\"color\":\"white\",\"size\":12},\"type\":\"scatter\",\"x\":[-5],\"y\":[12]}],\"name\":\"\"},{\"data\":[{\"marker\":{\"color\":\"orangered\",\"size\":10},\"mode\":\"markers\",\"name\":\"Player 1\",\"type\":\"scatter\",\"x\":[3.124],\"y\":[-1.763]},{\"marker\":{\"color\":\"aquamarine\",\"size\":10},\"mode\":\"markers\",\"name\":\"Player 2\",\"type\":\"scatter\",\"x\":[4.132000000000001],\"y\":[25.646]},{\"marker\":{\"color\":\"yellow\",\"size\":10},\"mode\":\"markers\",\"type\":\"scatter\",\"x\":[2.498],\"y\":[0.2200000000000002]},{\"mode\":\"text\",\"name\":\"\",\"text\":\"type topspin\",\"textfont\":{\"color\":\"white\",\"size\":12},\"type\":\"scatter\",\"x\":[-5],\"y\":[6]},{\"mode\":\"text\",\"name\":\"\",\"text\":\"stroke forehand\",\"textfont\":{\"color\":\"white\",\"size\":12},\"type\":\"scatter\",\"x\":[-5],\"y\":[8]},{\"mode\":\"text\",\"name\":\"\",\"text\":\"hitter Nadal\",\"textfont\":{\"color\":\"white\",\"size\":12},\"type\":\"scatter\",\"x\":[-5],\"y\":[10]},{\"mode\":\"text\",\"text\":\"strokeid 7\",\"textfont\":{\"color\":\"white\",\"size\":12},\"type\":\"scatter\",\"x\":[-5],\"y\":[12]}],\"name\":\"\"},{\"data\":[{\"marker\":{\"color\":\"orangered\",\"size\":10},\"mode\":\"markers\",\"name\":\"Player 1\",\"type\":\"scatter\",\"x\":[3.124],\"y\":[-1.763]},{\"marker\":{\"color\":\"aquamarine\",\"size\":10},\"mode\":\"markers\",\"name\":\"Player 2\",\"type\":\"scatter\",\"x\":[4.132000000000001],\"y\":[25.646]},{\"marker\":{\"color\":\"yellow\",\"size\":10},\"mode\":\"markers\",\"type\":\"scatter\",\"x\":[2.2760000000000002],\"y\":[2.2700000000000005]},{\"mode\":\"text\",\"name\":\"\",\"text\":\"type topspin\",\"textfont\":{\"color\":\"white\",\"size\":12},\"type\":\"scatter\",\"x\":[-5],\"y\":[6]},{\"mode\":\"text\",\"name\":\"\",\"text\":\"stroke forehand\",\"textfont\":{\"color\":\"white\",\"size\":12},\"type\":\"scatter\",\"x\":[-5],\"y\":[8]},{\"mode\":\"text\",\"name\":\"\",\"text\":\"hitter Nadal\",\"textfont\":{\"color\":\"white\",\"size\":12},\"type\":\"scatter\",\"x\":[-5],\"y\":[10]},{\"mode\":\"text\",\"text\":\"strokeid 7\",\"textfont\":{\"color\":\"white\",\"size\":12},\"type\":\"scatter\",\"x\":[-5],\"y\":[12]}],\"name\":\"\"},{\"data\":[{\"marker\":{\"color\":\"orangered\",\"size\":10},\"mode\":\"markers\",\"name\":\"Player 1\",\"type\":\"scatter\",\"x\":[3.124],\"y\":[-1.763]},{\"marker\":{\"color\":\"aquamarine\",\"size\":10},\"mode\":\"markers\",\"name\":\"Player 2\",\"type\":\"scatter\",\"x\":[4.132000000000001],\"y\":[25.646]},{\"marker\":{\"color\":\"yellow\",\"size\":10},\"mode\":\"markers\",\"type\":\"scatter\",\"x\":[2.054],\"y\":[4.320000000000002]},{\"mode\":\"text\",\"name\":\"\",\"text\":\"type topspin\",\"textfont\":{\"color\":\"white\",\"size\":12},\"type\":\"scatter\",\"x\":[-5],\"y\":[6]},{\"mode\":\"text\",\"name\":\"\",\"text\":\"stroke forehand\",\"textfont\":{\"color\":\"white\",\"size\":12},\"type\":\"scatter\",\"x\":[-5],\"y\":[8]},{\"mode\":\"text\",\"name\":\"\",\"text\":\"hitter Nadal\",\"textfont\":{\"color\":\"white\",\"size\":12},\"type\":\"scatter\",\"x\":[-5],\"y\":[10]},{\"mode\":\"text\",\"text\":\"strokeid 7\",\"textfont\":{\"color\":\"white\",\"size\":12},\"type\":\"scatter\",\"x\":[-5],\"y\":[12]}],\"name\":\"\"},{\"data\":[{\"marker\":{\"color\":\"orangered\",\"size\":10},\"mode\":\"markers\",\"name\":\"Player 1\",\"type\":\"scatter\",\"x\":[3.124],\"y\":[-1.763]},{\"marker\":{\"color\":\"aquamarine\",\"size\":10},\"mode\":\"markers\",\"name\":\"Player 2\",\"type\":\"scatter\",\"x\":[4.132000000000001],\"y\":[25.646]},{\"marker\":{\"color\":\"yellow\",\"size\":10},\"mode\":\"markers\",\"type\":\"scatter\",\"x\":[1.832],\"y\":[6.370000000000001]},{\"mode\":\"text\",\"name\":\"\",\"text\":\"type topspin\",\"textfont\":{\"color\":\"white\",\"size\":12},\"type\":\"scatter\",\"x\":[-5],\"y\":[6]},{\"mode\":\"text\",\"name\":\"\",\"text\":\"stroke forehand\",\"textfont\":{\"color\":\"white\",\"size\":12},\"type\":\"scatter\",\"x\":[-5],\"y\":[8]},{\"mode\":\"text\",\"name\":\"\",\"text\":\"hitter Nadal\",\"textfont\":{\"color\":\"white\",\"size\":12},\"type\":\"scatter\",\"x\":[-5],\"y\":[10]},{\"mode\":\"text\",\"text\":\"strokeid 7\",\"textfont\":{\"color\":\"white\",\"size\":12},\"type\":\"scatter\",\"x\":[-5],\"y\":[12]}],\"name\":\"\"},{\"data\":[{\"marker\":{\"color\":\"orangered\",\"size\":10},\"mode\":\"markers\",\"name\":\"Player 1\",\"type\":\"scatter\",\"x\":[3.124],\"y\":[-1.763]},{\"marker\":{\"color\":\"aquamarine\",\"size\":10},\"mode\":\"markers\",\"name\":\"Player 2\",\"type\":\"scatter\",\"x\":[4.132000000000001],\"y\":[25.646]},{\"marker\":{\"color\":\"yellow\",\"size\":10},\"mode\":\"markers\",\"type\":\"scatter\",\"x\":[1.61],\"y\":[8.420000000000002]},{\"mode\":\"text\",\"name\":\"\",\"text\":\"type topspin\",\"textfont\":{\"color\":\"white\",\"size\":12},\"type\":\"scatter\",\"x\":[-5],\"y\":[6]},{\"mode\":\"text\",\"name\":\"\",\"text\":\"stroke forehand\",\"textfont\":{\"color\":\"white\",\"size\":12},\"type\":\"scatter\",\"x\":[-5],\"y\":[8]},{\"mode\":\"text\",\"name\":\"\",\"text\":\"hitter Nadal\",\"textfont\":{\"color\":\"white\",\"size\":12},\"type\":\"scatter\",\"x\":[-5],\"y\":[10]},{\"mode\":\"text\",\"text\":\"strokeid 7\",\"textfont\":{\"color\":\"white\",\"size\":12},\"type\":\"scatter\",\"x\":[-5],\"y\":[12]}],\"name\":\"\"},{\"data\":[{\"marker\":{\"color\":\"orangered\",\"size\":10},\"mode\":\"markers\",\"name\":\"Player 1\",\"type\":\"scatter\",\"x\":[3.124],\"y\":[-1.763]},{\"marker\":{\"color\":\"aquamarine\",\"size\":10},\"mode\":\"markers\",\"name\":\"Player 2\",\"type\":\"scatter\",\"x\":[4.132000000000001],\"y\":[25.646]},{\"marker\":{\"color\":\"yellow\",\"size\":10},\"mode\":\"markers\",\"type\":\"scatter\",\"x\":[1.388],\"y\":[10.470000000000004]},{\"mode\":\"text\",\"name\":\"\",\"text\":\"type topspin\",\"textfont\":{\"color\":\"white\",\"size\":12},\"type\":\"scatter\",\"x\":[-5],\"y\":[6]},{\"mode\":\"text\",\"name\":\"\",\"text\":\"stroke forehand\",\"textfont\":{\"color\":\"white\",\"size\":12},\"type\":\"scatter\",\"x\":[-5],\"y\":[8]},{\"mode\":\"text\",\"name\":\"\",\"text\":\"hitter Nadal\",\"textfont\":{\"color\":\"white\",\"size\":12},\"type\":\"scatter\",\"x\":[-5],\"y\":[10]},{\"mode\":\"text\",\"text\":\"strokeid 7\",\"textfont\":{\"color\":\"white\",\"size\":12},\"type\":\"scatter\",\"x\":[-5],\"y\":[12]}],\"name\":\"\"},{\"data\":[{\"marker\":{\"color\":\"orangered\",\"size\":10},\"mode\":\"markers\",\"name\":\"Player 1\",\"type\":\"scatter\",\"x\":[3.124],\"y\":[-1.763]},{\"marker\":{\"color\":\"aquamarine\",\"size\":10},\"mode\":\"markers\",\"name\":\"Player 2\",\"type\":\"scatter\",\"x\":[4.132000000000001],\"y\":[25.646]},{\"marker\":{\"color\":\"yellow\",\"size\":10},\"mode\":\"markers\",\"type\":\"scatter\",\"x\":[1.166],\"y\":[12.520000000000003]},{\"mode\":\"text\",\"name\":\"\",\"text\":\"type topspin\",\"textfont\":{\"color\":\"white\",\"size\":12},\"type\":\"scatter\",\"x\":[-5],\"y\":[6]},{\"mode\":\"text\",\"name\":\"\",\"text\":\"stroke forehand\",\"textfont\":{\"color\":\"white\",\"size\":12},\"type\":\"scatter\",\"x\":[-5],\"y\":[8]},{\"mode\":\"text\",\"name\":\"\",\"text\":\"hitter Nadal\",\"textfont\":{\"color\":\"white\",\"size\":12},\"type\":\"scatter\",\"x\":[-5],\"y\":[10]},{\"mode\":\"text\",\"text\":\"strokeid 7\",\"textfont\":{\"color\":\"white\",\"size\":12},\"type\":\"scatter\",\"x\":[-5],\"y\":[12]}],\"name\":\"\"},{\"data\":[{\"marker\":{\"color\":\"orangered\",\"size\":10},\"mode\":\"markers\",\"name\":\"Player 1\",\"type\":\"scatter\",\"x\":[3.124],\"y\":[-1.763]},{\"marker\":{\"color\":\"aquamarine\",\"size\":10},\"mode\":\"markers\",\"name\":\"Player 2\",\"type\":\"scatter\",\"x\":[4.132000000000001],\"y\":[25.646]},{\"marker\":{\"color\":\"yellow\",\"size\":10},\"mode\":\"markers\",\"type\":\"scatter\",\"x\":[0.944],\"y\":[14.570000000000002]},{\"mode\":\"text\",\"name\":\"\",\"text\":\"type topspin\",\"textfont\":{\"color\":\"white\",\"size\":12},\"type\":\"scatter\",\"x\":[-5],\"y\":[6]},{\"mode\":\"text\",\"name\":\"\",\"text\":\"stroke forehand\",\"textfont\":{\"color\":\"white\",\"size\":12},\"type\":\"scatter\",\"x\":[-5],\"y\":[8]},{\"mode\":\"text\",\"name\":\"\",\"text\":\"hitter Nadal\",\"textfont\":{\"color\":\"white\",\"size\":12},\"type\":\"scatter\",\"x\":[-5],\"y\":[10]},{\"mode\":\"text\",\"text\":\"strokeid 7\",\"textfont\":{\"color\":\"white\",\"size\":12},\"type\":\"scatter\",\"x\":[-5],\"y\":[12]}],\"name\":\"\"},{\"data\":[{\"marker\":{\"color\":\"orangered\",\"size\":10},\"mode\":\"markers\",\"name\":\"Player 1\",\"type\":\"scatter\",\"x\":[3.124],\"y\":[-1.763]},{\"marker\":{\"color\":\"aquamarine\",\"size\":10},\"mode\":\"markers\",\"name\":\"Player 2\",\"type\":\"scatter\",\"x\":[4.132000000000001],\"y\":[25.646]},{\"marker\":{\"color\":\"yellow\",\"size\":10},\"mode\":\"markers\",\"type\":\"scatter\",\"x\":[0.722],\"y\":[16.62]},{\"mode\":\"text\",\"name\":\"\",\"text\":\"type topspin\",\"textfont\":{\"color\":\"white\",\"size\":12},\"type\":\"scatter\",\"x\":[-5],\"y\":[6]},{\"mode\":\"text\",\"name\":\"\",\"text\":\"stroke forehand\",\"textfont\":{\"color\":\"white\",\"size\":12},\"type\":\"scatter\",\"x\":[-5],\"y\":[8]},{\"mode\":\"text\",\"name\":\"\",\"text\":\"hitter Nadal\",\"textfont\":{\"color\":\"white\",\"size\":12},\"type\":\"scatter\",\"x\":[-5],\"y\":[10]},{\"mode\":\"text\",\"text\":\"strokeid 7\",\"textfont\":{\"color\":\"white\",\"size\":12},\"type\":\"scatter\",\"x\":[-5],\"y\":[12]}],\"name\":\"\"},{\"data\":[{\"marker\":{\"color\":\"orangered\",\"size\":10},\"mode\":\"markers\",\"name\":\"Player 1\",\"type\":\"scatter\",\"x\":[3.124],\"y\":[-1.763]},{\"marker\":{\"color\":\"aquamarine\",\"size\":10},\"mode\":\"markers\",\"name\":\"Player 2\",\"type\":\"scatter\",\"x\":[4.132000000000001],\"y\":[25.646]},{\"marker\":{\"color\":\"yellow\",\"size\":10},\"mode\":\"markers\",\"type\":\"scatter\",\"x\":[0.5],\"y\":[18.67]},{\"mode\":\"text\",\"name\":\"\",\"text\":\"type serve\",\"textfont\":{\"color\":\"white\",\"size\":12},\"type\":\"scatter\",\"x\":[-5],\"y\":[6]},{\"mode\":\"text\",\"name\":\"\",\"text\":\"stroke forehand\",\"textfont\":{\"color\":\"white\",\"size\":12},\"type\":\"scatter\",\"x\":[-5],\"y\":[8]},{\"mode\":\"text\",\"name\":\"\",\"text\":\"hitter Nadal\",\"textfont\":{\"color\":\"white\",\"size\":12},\"type\":\"scatter\",\"x\":[-5],\"y\":[10]},{\"mode\":\"text\",\"text\":\"strokeid 1\",\"textfont\":{\"color\":\"white\",\"size\":12},\"type\":\"scatter\",\"x\":[-5],\"y\":[12]}],\"name\":\"\"}]);\n",
       "                        }).then(function(){\n",
       "                            \n",
       "var gd = document.getElementById('49e7abaa-b420-4919-bd65-2871b156f85c');\n",
       "var x = new MutationObserver(function (mutations, observer) {{\n",
       "        var display = window.getComputedStyle(gd).display;\n",
       "        if (!display || display === 'none') {{\n",
       "            console.log([gd, 'removed!']);\n",
       "            Plotly.purge(gd);\n",
       "            observer.disconnect();\n",
       "        }}\n",
       "}});\n",
       "\n",
       "// Listen for the removal of the full notebook cells\n",
       "var notebookContainer = gd.closest('#notebook-container');\n",
       "if (notebookContainer) {{\n",
       "    x.observe(notebookContainer, {childList: true});\n",
       "}}\n",
       "\n",
       "// Listen for the clearing of the current output cell\n",
       "var outputEl = gd.closest('.output');\n",
       "if (outputEl) {{\n",
       "    x.observe(outputEl, {childList: true});\n",
       "}}\n",
       "\n",
       "                        })                };                });            </script>        </div>"
      ]
     },
     "metadata": {},
     "output_type": "display_data"
    }
   ],
   "source": [
    "fig.show()"
   ]
  },
  {
   "cell_type": "code",
   "execution_count": null,
   "id": "c74ce64e",
   "metadata": {},
   "outputs": [],
   "source": []
  },
  {
   "cell_type": "markdown",
   "id": "e81302c0",
   "metadata": {},
   "source": [
    "## EDA"
   ]
  },
  {
   "cell_type": "code",
   "execution_count": 14,
   "id": "adc33e73",
   "metadata": {},
   "outputs": [],
   "source": [
    "events = events.dropna()"
   ]
  },
  {
   "cell_type": "code",
   "execution_count": 15,
   "id": "bf9f454d",
   "metadata": {},
   "outputs": [],
   "source": [
    "events2 = events.loc[events['receiver'] == 'Nadal']\n",
    "events3 = events.loc[events['receiver'] == 'Djokovic']"
   ]
  },
  {
   "cell_type": "code",
   "execution_count": 16,
   "id": "8e2bac1f",
   "metadata": {},
   "outputs": [],
   "source": [
    "height_court = 10.97\n",
    "width_court = 11.89*2\n",
    "service_box = 6.4\n",
    "double_field = 1.37\n",
    "baseline_serviceline = 5.5\n",
    "breite_einzel = 8.23\n",
    "serviceline_net = 6.4\n",
    "colors={'Djokovic': 'IndianRed', 'Nadal' :'DarkTurqoise'}\n",
    "\n",
    "# Create figure\n",
    "fig = go.Figure(\n",
    "    data=[\n",
    "        go.Scatter(x=[height_court, 0], y=[width_court/2, width_court/2],\n",
    "                     mode=\"lines\",\n",
    "                     line=dict(width=2, color=\"white\")),\n",
    "          go.Scatter(x=[0,0, height_court, height_court, 0],\n",
    "                     y=[0,width_court,width_court, 0, 0],\n",
    "                     mode=\"lines\",\n",
    "                     line=dict(width=2, color=\"white\")),\n",
    "          go.Scatter(x=[height_court/2, width_court/2-service_box],\n",
    "                     y=[height_court/2, width_court/2+service_box],\n",
    "                    mode=\"lines\",\n",
    "                    line=dict(width=2, color=\"white\")),\n",
    "          go.Scatter(x=[height_court/2, height_court/2], y=[0, 0 + 0.45],\n",
    "                    mode=\"lines\",\n",
    "                    line=dict(width=2, color=\"white\")),\n",
    "          go.Scatter(x=[height_court/2, height_court/2], y=[width_court, width_court - 0.45],\n",
    "            mode=\"lines\",\n",
    "            line=dict(width=2, color=\"white\")),\n",
    "         go.Scatter(x=[1.37, 1.37], y=[0, width_court],\n",
    "            mode=\"lines\",\n",
    "            line=dict(width=2, color=\"white\")),\n",
    "        go.Scatter(x=[height_court-1.37, height_court-1.37], y=[0, width_court],\n",
    "            mode=\"lines\",\n",
    "            line=dict(width=2, color=\"white\")),\n",
    "        go.Scatter(x=[0+double_field,0+double_field, \n",
    "                      height_court-1.37, height_court-1.37, 0+double_field],\n",
    "                   y=[baseline_serviceline, width_court/2+service_box, \n",
    "                      width_court/2+service_box, baseline_serviceline, baseline_serviceline],\n",
    "            mode=\"lines\",\n",
    "            line=dict(width=2, color=\"white\")),\n",
    "        go.Scatter(x=events2['receiver_x'], y=events2['receiver_y'],mode='markers',\n",
    "                  marker=dict(color='darkturquoise'), name='Nadal'),\n",
    "        go.Scatter(x=events3['receiver_x'], y=events3['receiver_y'],mode='markers',\n",
    "                  marker=dict(color='indianred'), name='Djokovic')\n",
    "    ],\n",
    "    layout=go.Layout(\n",
    "        xaxis=dict(range=[-2, height_court+2], autorange=False, zeroline=False, showgrid=False),\n",
    "        yaxis=dict(range=[-6.5, width_court+6.5], \n",
    "                   autorange=False, zeroline=False, showgrid=False, ),\n",
    "        height=800,\n",
    "        width=550,\n",
    "        title_text=\"Returner Positions\",\n",
    "        plot_bgcolor=\"#5080B0\"\n",
    "))"
   ]
  },
  {
   "cell_type": "code",
   "execution_count": 17,
   "id": "1044989a",
   "metadata": {},
   "outputs": [
    {
     "data": {
      "application/vnd.plotly.v1+json": {
       "config": {
        "plotlyServerURL": "https://plot.ly"
       },
       "data": [
        {
         "line": {
          "color": "white",
          "width": 2
         },
         "mode": "lines",
         "type": "scatter",
         "x": [
          10.97,
          0
         ],
         "y": [
          11.89,
          11.89
         ]
        },
        {
         "line": {
          "color": "white",
          "width": 2
         },
         "mode": "lines",
         "type": "scatter",
         "x": [
          0,
          0,
          10.97,
          10.97,
          0
         ],
         "y": [
          0,
          23.78,
          23.78,
          0,
          0
         ]
        },
        {
         "line": {
          "color": "white",
          "width": 2
         },
         "mode": "lines",
         "type": "scatter",
         "x": [
          5.485,
          5.49
         ],
         "y": [
          5.485,
          18.29
         ]
        },
        {
         "line": {
          "color": "white",
          "width": 2
         },
         "mode": "lines",
         "type": "scatter",
         "x": [
          5.485,
          5.485
         ],
         "y": [
          0,
          0.45
         ]
        },
        {
         "line": {
          "color": "white",
          "width": 2
         },
         "mode": "lines",
         "type": "scatter",
         "x": [
          5.485,
          5.485
         ],
         "y": [
          23.78,
          23.330000000000002
         ]
        },
        {
         "line": {
          "color": "white",
          "width": 2
         },
         "mode": "lines",
         "type": "scatter",
         "x": [
          1.37,
          1.37
         ],
         "y": [
          0,
          23.78
         ]
        },
        {
         "line": {
          "color": "white",
          "width": 2
         },
         "mode": "lines",
         "type": "scatter",
         "x": [
          9.600000000000001,
          9.600000000000001
         ],
         "y": [
          0,
          23.78
         ]
        },
        {
         "line": {
          "color": "white",
          "width": 2
         },
         "mode": "lines",
         "type": "scatter",
         "x": [
          1.37,
          1.37,
          9.600000000000001,
          9.600000000000001,
          1.37
         ],
         "y": [
          5.5,
          18.29,
          18.29,
          5.5,
          5.5
         ]
        },
        {
         "marker": {
          "color": "darkturquoise"
         },
         "mode": "markers",
         "name": "Nadal",
         "type": "scatter",
         "x": [
          1.03,
          4.75,
          7.9,
          7.88,
          6.12,
          0.96,
          0.54,
          0.93,
          7.81,
          8.12,
          7.66,
          6.42,
          7.12,
          5.83,
          4.38,
          6.76,
          5.51,
          6.49,
          3.38,
          6.23,
          6.12,
          3.49,
          5.96,
          6.59,
          5.14,
          4.55,
          5.73,
          5.15,
          6.78,
          4.78,
          6.2,
          9.61,
          2.06,
          1.83,
          4.78,
          9.13,
          5.78,
          4.76,
          1.71,
          2.92,
          0.39,
          6.39,
          2.39,
          2.89,
          3.84,
          4.58,
          2.75,
          2.78,
          2.17,
          4.67,
          3.51,
          1.24,
          8.34,
          5.19,
          3.06,
          5.45,
          3.86,
          1.12,
          4.52,
          6.32,
          -0.48,
          7.27,
          6.12,
          6.42,
          5.87,
          4.71,
          5.72,
          4.81,
          4.75,
          3.75,
          2.34,
          5.89,
          5.39,
          6.66,
          4.96,
          9.56,
          7.43,
          3.5,
          5.9,
          1.92,
          1.83,
          3.25,
          3.11,
          4.95,
          5.67,
          6.15,
          9.5,
          8.81,
          4.83,
          1.71,
          2.06,
          3.65,
          2.98,
          7.11,
          5.02,
          3.54,
          7.19,
          2.57,
          2.93,
          0.11,
          5.55,
          2.45,
          3.79,
          3.53,
          4.62,
          0.34,
          0.19,
          1.03,
          5.81,
          5.9,
          5.4,
          2.8,
          7.83,
          5.43,
          5.85,
          -0.06,
          0.24,
          1.37,
          6.38,
          3.91,
          0.91,
          5.6,
          7.8,
          4.31,
          2.27,
          5.61,
          1.68,
          5.18,
          2.53,
          1.97,
          5.53,
          6.99,
          4.43,
          -0.32,
          -0.73,
          6.13,
          7.79,
          4.99,
          5.7,
          4.91,
          3.72,
          4.52,
          2.21,
          0.43,
          4.18,
          7.89,
          7.75,
          5.09,
          0.17,
          8.2,
          4.23,
          3.61,
          5.26,
          6.96,
          2.65,
          3.17,
          5.04,
          6.86,
          2.74,
          6.21,
          6.89,
          6.23,
          1.15,
          3.85,
          5.56,
          3.57,
          5.45,
          7.7,
          5.48,
          9.41,
          9.43,
          2.6,
          2.41,
          3.13,
          5.16,
          9.32,
          2.09,
          5.17,
          2.38,
          9.06,
          5.96,
          4.88,
          3.74,
          4.54,
          5.91,
          6.12,
          6.02,
          4.94,
          5.65,
          4.67,
          5.74,
          6.04,
          5.88,
          3.44,
          3.99,
          7.23,
          4.88,
          6.28,
          0.4,
          0.71,
          -0.47,
          7.9,
          6.54,
          -0.02,
          1.27,
          7.57,
          7.54,
          7.33,
          4.55,
          1.11,
          6.51,
          0.19,
          -0.49,
          5.45,
          6.65,
          3.58,
          2.62,
          6.28,
          7.8,
          4.02,
          -0.52,
          3.46,
          0.49,
          3.37,
          8.18,
          3.53,
          8.01,
          3.92,
          1.31,
          4.85,
          1.1,
          0.39,
          1.07,
          7.19,
          5.72,
          7.42,
          3.2,
          3.88,
          2.64,
          6.77,
          3.37,
          2.04,
          6.93,
          3.65,
          3.6,
          1.92,
          6.88,
          3.6,
          -1.7,
          5.56,
          5.19,
          6.16,
          4.18,
          3.43,
          3.48,
          2.65,
          7.25,
          9.04,
          8.99,
          6.17,
          2.08,
          9.15,
          1.8,
          5.66,
          8.36,
          5.42,
          4.68,
          4.15,
          4.3,
          6.5,
          3.81,
          6.7,
          5.65,
          4.6,
          5.72,
          7.6,
          3.1,
          6.26,
          5.84,
          7.98,
          6.88,
          4.63,
          3.38,
          0.91,
          0.32,
          1.78,
          7.69,
          7.67,
          4.86,
          0.27,
          0.28,
          7.94,
          7.88,
          3.8,
          4.92,
          3.22,
          2.57,
          4.77,
          5.68,
          4.04,
          5.05,
          4.64,
          1.83,
          5.07,
          4.14,
          3.68,
          5.52,
          4.99,
          6.43,
          7.87,
          9.74,
          7.77,
          4.09,
          4.53,
          2.7,
          1.88,
          2.69,
          9.57,
          9.1,
          8.72,
          2.69,
          6.14,
          4.26,
          5.72,
          5.76,
          4.8,
          5.82,
          4.6,
          0.17,
          3.69,
          4.89,
          4.72,
          5.32,
          3.03,
          7.8,
          5.38,
          7.84,
          4.95,
          6.29,
          7.79,
          0.2,
          2.91,
          7.82,
          7.69,
          5.12,
          6.42,
          6.98,
          4.2,
          6.12,
          0.23,
          1.5,
          7.98,
          4.74,
          7.84,
          4.62,
          0.07,
          2.11,
          4.28,
          1.69,
          3.4,
          7.76,
          7.21,
          3.7,
          5.21,
          3.67,
          4.62,
          3.95,
          9.69,
          10.08,
          7.72,
          2.06,
          4.7,
          5.48,
          4.03,
          9.04,
          2.17,
          4.9,
          6.6,
          7.28,
          9.39,
          8.89,
          4.48,
          2.17,
          4.84,
          3.74,
          4.26,
          6.31,
          5.25,
          6.8,
          5.69,
          9.23,
          6.46,
          1.7,
          6.38,
          5.13,
          5.75,
          5.74,
          6.49,
          6.17,
          7.23,
          4.57,
          5.13,
          4.87,
          5.99,
          5.72,
          7.84,
          5.2,
          4.65,
          5.79,
          4.36,
          6.04
         ],
         "y": [
          27.44,
          26.45,
          26.83,
          26.47,
          25.84,
          26.71,
          27.32,
          27.08,
          28.35,
          26.94,
          26.09,
          25.37,
          26.33,
          1.29,
          -1.38,
          -1.16,
          1.11,
          -1.47,
          -1.59,
          -1.56,
          -2.16,
          -0.49,
          2.85,
          1.04,
          1.44,
          1.07,
          -0.91,
          -1.8,
          -2.16,
          -1.16,
          1.71,
          -3.57,
          -0.49,
          -1.16,
          0.75,
          -2.98,
          -3.31,
          -0.97,
          -1.13,
          19.5,
          21.24,
          26.94,
          27.83,
          18.94,
          17.01,
          22.37,
          22.06,
          22.17,
          26.33,
          24.11,
          22.69,
          25.02,
          26.33,
          22.48,
          23.01,
          24,
          23.44,
          24.11,
          29.14,
          28.21,
          28.47,
          29.27,
          27.57,
          26.45,
          0.82,
          1.29,
          0.82,
          0.71,
          -2.53,
          -2.22,
          -1.41,
          1,
          10.04,
          -1.38,
          0.86,
          -3.09,
          -1.86,
          -1.83,
          8.8,
          -1.1,
          -1.32,
          0.75,
          0.5,
          0.47,
          -1.35,
          -1.59,
          -3.36,
          -1.71,
          -1.62,
          -1.25,
          0.33,
          22.48,
          24.33,
          25.61,
          24,
          27.19,
          28.74,
          27.32,
          26.45,
          25.37,
          25.37,
          26.57,
          22.69,
          24.33,
          22.37,
          24.68,
          25.61,
          24,
          27.19,
          25.26,
          25.02,
          25.49,
          28.21,
          27.19,
          24.56,
          27.57,
          25.26,
          24.56,
          26.33,
          26.09,
          25.49,
          27.45,
          27.95,
          26.94,
          26.09,
          25.37,
          24,
          23.67,
          21.85,
          20.06,
          25.02,
          26.21,
          26.69,
          27.19,
          25.61,
          0.5,
          1.98,
          1.26,
          1.07,
          1.07,
          0.86,
          0.97,
          14.08,
          26.94,
          27.19,
          28.61,
          27.45,
          26.21,
          25.84,
          26.94,
          26.82,
          21.55,
          13.5,
          -1.22,
          14.68,
          22.27,
          24.11,
          27.07,
          26.33,
          28.08,
          28.21,
          27.57,
          24,
          19.31,
          22.8,
          21.96,
          26.57,
          28.21,
          22.8,
          -3.33,
          -3.04,
          -1.44,
          -1.06,
          0.54,
          -0.25,
          -3.25,
          -1.28,
          0.12,
          0.36,
          -2.45,
          0.78,
          -1.86,
          -1.8,
          -0.97,
          -2.33,
          -0.49,
          -1.92,
          0.75,
          -0.81,
          0.75,
          0.64,
          -3.09,
          -2.62,
          -2.5,
          -0.68,
          -1.44,
          -2.04,
          9.86,
          26.33,
          24.68,
          24.79,
          28.35,
          27.07,
          26.69,
          25.14,
          28.87,
          28.21,
          24.11,
          23.23,
          25.37,
          27.83,
          26.69,
          25.49,
          26.33,
          25.37,
          25.97,
          25.73,
          26.94,
          28.47,
          27.57,
          28.47,
          27.7,
          27.7,
          26.94,
          28.35,
          28.08,
          28.35,
          26.57,
          26.57,
          26.94,
          28.87,
          25.02,
          24.22,
          27.45,
          26.09,
          26.45,
          25.97,
          24.79,
          25.37,
          26.09,
          22.17,
          23.77,
          21.65,
          21.34,
          24.11,
          24,
          25.49,
          26.69,
          24.79,
          27.7,
          22.37,
          25.73,
          26.21,
          27.07,
          20.94,
          22.06,
          24.56,
          -2.01,
          -1.47,
          -1.13,
          -0.12,
          -1.77,
          -0.97,
          0.89,
          1.33,
          -1.44,
          1,
          -2.45,
          -1.32,
          -2.45,
          -1.89,
          9.68,
          1.29,
          1,
          -1.47,
          -0.08,
          -1.74,
          8.75,
          1.67,
          -1.25,
          2.09,
          0.75,
          19.03,
          27.07,
          25.14,
          24.33,
          25.97,
          24.91,
          24.22,
          26.33,
          25.14,
          25.84,
          24.22,
          22.37,
          22.17,
          24.56,
          25.49,
          26.57,
          26.45,
          21.96,
          22.17,
          23.89,
          24.45,
          23.23,
          25.49,
          24.79,
          22.58,
          25.37,
          27.07,
          26.69,
          -3.09,
          -1.59,
          22.17,
          -2.07,
          -1.5,
          -1.22,
          0.05,
          -2.25,
          -1.86,
          -1.59,
          -1.83,
          0.29,
          -0.78,
          1.22,
          1.59,
          1.48,
          1.18,
          0.86,
          27.45,
          27.07,
          26.94,
          25.37,
          25.49,
          25.97,
          26.45,
          26.33,
          26.94,
          27.7,
          26.09,
          24.33,
          26.82,
          25.84,
          26.94,
          26.45,
          27.45,
          26.57,
          25.26,
          25.37,
          25.73,
          26.57,
          25.97,
          27.32,
          25.61,
          24.68,
          25.26,
          26.69,
          25.97,
          26.57,
          24.79,
          24.11,
          27.19,
          25.37,
          23.55,
          26.33,
          23.12,
          23.55,
          23.01,
          -2.9,
          -2.98,
          -1.56,
          -0.15,
          -0.39,
          -2.93,
          -3.39,
          -2.67,
          -0.45,
          0.4,
          0.29,
          0.71,
          -2.36,
          -2.3,
          -1.77,
          -1.19,
          -0.97,
          -0.29,
          -0.71,
          -0.15,
          -0.39,
          0.12,
          0.97,
          -2.48,
          -0.12,
          -0.55,
          1.11,
          1.22,
          -2.36,
          -2.48,
          1.22,
          -1.62,
          -0.25,
          -1.74,
          0.96,
          -0.46,
          0.4,
          -0.65,
          -1.78,
          -1.87,
          -1.18,
          -1.93,
          0.5,
          -3.12
         ]
        },
        {
         "marker": {
          "color": "indianred"
         },
         "mode": "markers",
         "name": "Djokovic",
         "type": "scatter",
         "x": [
          6.17,
          4.47,
          3.12,
          4.47,
          1.66,
          3.55,
          3.86,
          2.05,
          1.66,
          1.64,
          5.26,
          4.7,
          4.42,
          8.63,
          5.32,
          4.23,
          5.55,
          3.81,
          7.17,
          0.68,
          1.41,
          4.8,
          8.37,
          6.57,
          4.33,
          5.32,
          3.97,
          3.19,
          5.85,
          1.21,
          3.12,
          3.92,
          5.32,
          5.15,
          2.27,
          7.68,
          5.77,
          4.81,
          3.04,
          5.14,
          7.48,
          0.94,
          7.87,
          7.8,
          7.28,
          0.92,
          1.67,
          8.1,
          5.48,
          7.37,
          2.7,
          1.17,
          1.12,
          1.01,
          4.19,
          3.97,
          3.89,
          2.72,
          1.18,
          3.95,
          8.46,
          1.38,
          5.63,
          3.95,
          8.51,
          6.52,
          5.01,
          7.4,
          1.31,
          1.44,
          8.67,
          3.77,
          5.39,
          6.72,
          5.23,
          5.96,
          6.43,
          3.67,
          5.06,
          6.27,
          5.38,
          5.17,
          8.23,
          8.33,
          5.68,
          1.43,
          1.15,
          0.92,
          1.06,
          1.55,
          7.03,
          3.59,
          7.29,
          6.68,
          4.16,
          2.06,
          8.21,
          8.03,
          4.6,
          1.15,
          5.24,
          5.98,
          4.52,
          2.9,
          2.82,
          5.58,
          4.51,
          1.29,
          6.28,
          6.09,
          4.76,
          4.16,
          5.92,
          4.21,
          4.48,
          4.1,
          4.77,
          4.26,
          4.72,
          6.77,
          5.07,
          2,
          2.76,
          5.45,
          5.76,
          6.79,
          1.77,
          2.56,
          8.51,
          8.94,
          8.04,
          1.49,
          8.77,
          8.79,
          8.54,
          6.27,
          1.57,
          8.62,
          8.76,
          9.89,
          6.48,
          3.36,
          4.17,
          2.62,
          4.28,
          4.03,
          3.18,
          7.57,
          8.29,
          6.48,
          2.73,
          4.65,
          5.03,
          3.03,
          2.26,
          6.16,
          3.14,
          1.79,
          1.1,
          1.29,
          3.55,
          8.01,
          7.95,
          5.6,
          3.17,
          4.55,
          1.11,
          3.19,
          6.35,
          5.34,
          3.38,
          5.66,
          7.07,
          3.76,
          2.05,
          1.46,
          3.76,
          5.89,
          6.77,
          4.91,
          2.95,
          4.98,
          3.62,
          8.74,
          7.74,
          2.72,
          1.57,
          8.91,
          6.9,
          1.38,
          4.48,
          5.05,
          5.38,
          7.23,
          3.9,
          3.07,
          5.74,
          6.95,
          6.22,
          4.19,
          3.81,
          6.19,
          4.35,
          5.66,
          6.2,
          6.08,
          5.49,
          2.44,
          4.12,
          5.58,
          3.82,
          2.44,
          4.22,
          5.71,
          5.05,
          6.63,
          4.67,
          3.98,
          6.3,
          4.66,
          1.68,
          4.63,
          6.07,
          5.52,
          2.19,
          6.26,
          5.18,
          3.07,
          3.34,
          4.13,
          5.98,
          4.5,
          3.34,
          1.75,
          8.17,
          7.97,
          6.41,
          6.55,
          2.64,
          1.33,
          1.44,
          8.04,
          7.45,
          5.06,
          4.4,
          2.82,
          5.99,
          6.47,
          1.32,
          4.69,
          3.67,
          5.19,
          8.32,
          5.89,
          3.16,
          2.73,
          3.98,
          1.19,
          1.18,
          4.93,
          5.77,
          6,
          8.56,
          7.93,
          6.03,
          4.08,
          4.85,
          5.59,
          1.24,
          8.57,
          8.33,
          6.45,
          1.77,
          5.76,
          6.5,
          4.97,
          1.34,
          3.93,
          2.61,
          8.54,
          5.94,
          4.13,
          4.41,
          4.29,
          5.84,
          4.36,
          8.39,
          2.75,
          3.33,
          8.33,
          8.19,
          1.08,
          2.08,
          6.94,
          4.38,
          4.05,
          8.23,
          7.95,
          4.1,
          7.34,
          3.13,
          5.26,
          3.35,
          5.51,
          3.4,
          1.27,
          1.72,
          4.62,
          4.49,
          3.63,
          3.11,
          4.88,
          2.83,
          7.05,
          5.36,
          5.24,
          3.27,
          2.64,
          4.27,
          5.92,
          6.21,
          3.78,
          1.43,
          5.28,
          8.31,
          1.41,
          8.38,
          6.2,
          2.72,
          1.5,
          1.44,
          1.28,
          5.55,
          4.51,
          3.71,
          3.89,
          5.83,
          4.98,
          2.45,
          4.38,
          2.66,
          3.33,
          6.07,
          4.26,
          4.35,
          3.16,
          3.56,
          2.28,
          4.76,
          6.04,
          3.55,
          2.02,
          2.82,
          5.74,
          5.86,
          4.45,
          4.59,
          5.56,
          4.44,
          8.23,
          5.3,
          1.01,
          8.3,
          8.12,
          1.07,
          8.46,
          8.49,
          8.25,
          3.4,
          5.4,
          5.61,
          5.72,
          3.13,
          5.83,
          5.14,
          4.01,
          2.45,
          8.03,
          5.75,
          6.93,
          6.48,
          5.8,
          4.23,
          6,
          4.09,
          2.81,
          4.81,
          2.57,
          2.19,
          9.19,
          5.66,
          8.42,
          2.54,
          2.58,
          2,
          5.47,
          3.76,
          9.67,
          9.01,
          8.86,
          1.39,
          1.65,
          5.24,
          3.02,
          2.16,
          6.32,
          2.26,
          7.96,
          8.08,
          5.04,
          3.26
         ],
         "y": [
          1.11,
          0.19,
          -0.94,
          1.26,
          1.41,
          -0.94,
          -1.16,
          -0.71,
          26.12,
          23.86,
          25.26,
          26.94,
          25.61,
          25.76,
          26.45,
          27.07,
          26.33,
          26.09,
          25.97,
          26.59,
          25.65,
          27.32,
          27.32,
          26.69,
          27.19,
          26.69,
          26.94,
          27.19,
          26.33,
          27.82,
          25.37,
          21.45,
          28.21,
          30.93,
          24.33,
          -3.25,
          -3.09,
          -2.3,
          -0.29,
          -1.22,
          -1.06,
          0.29,
          -2.27,
          -1.83,
          -0.25,
          -0.87,
          -0.42,
          -2.04,
          -2.39,
          -1.71,
          0.93,
          -1.06,
          -0.62,
          -1.19,
          0.86,
          -0.42,
          0.86,
          0.82,
          24.68,
          24.56,
          25.84,
          25.02,
          23.67,
          8.57,
          24.45,
          25.02,
          25.37,
          23.67,
          25.73,
          24,
          27.19,
          22.69,
          16.92,
          17.43,
          28.87,
          27.45,
          26.94,
          28.35,
          26.82,
          26.21,
          24.56,
          26.45,
          -2.56,
          -0.15,
          -0.84,
          -0.29,
          -1.03,
          -1.06,
          0.29,
          1.11,
          0.4,
          -1.13,
          -1.06,
          -0.35,
          -0.45,
          2.73,
          -1.77,
          -0.25,
          -0.81,
          -0.97,
          -1.77,
          0.68,
          -1.62,
          -1.06,
          -0.97,
          -1.19,
          0.61,
          0.36,
          -2.81,
          0.26,
          -1.25,
          -2.33,
          -2.01,
          -1.92,
          0.54,
          0.29,
          -1.13,
          -0.84,
          -1.74,
          -1.56,
          -1.06,
          0.12,
          -0.15,
          -1.77,
          0.57,
          -0.45,
          25.14,
          25.02,
          26.33,
          27.07,
          25.73,
          26.45,
          27.07,
          26.82,
          23.89,
          25.97,
          25.61,
          25.02,
          23.89,
          22.48,
          0.05,
          -0.22,
          -1.28,
          -2.39,
          0.15,
          4.13,
          -0.78,
          -1.1,
          -2.48,
          -2.01,
          -1.16,
          -1.53,
          -1.53,
          -1.19,
          -0.55,
          -1.89,
          -0.94,
          5.65,
          -0.84,
          -0.52,
          -1.16,
          -2.25,
          -0.91,
          -1.5,
          -1.25,
          -1.98,
          -0.91,
          23.67,
          25.02,
          26.82,
          21.85,
          26.21,
          30.09,
          29.27,
          22.9,
          24.45,
          24,
          25.97,
          26.82,
          27.45,
          25.97,
          26.09,
          25.37,
          26.33,
          25.49,
          27.32,
          26.21,
          26.33,
          24.56,
          25.84,
          25.97,
          25.14,
          26.69,
          26.69,
          28.08,
          28.08,
          19.4,
          17.52,
          -0.02,
          0.26,
          4.71,
          0.09,
          0.26,
          -1.25,
          -0.65,
          0.61,
          -0.35,
          -0.49,
          -1.41,
          -1.38,
          -1.47,
          0.26,
          -0.05,
          -1.59,
          -1.59,
          27.32,
          -0.91,
          -1.53,
          0.36,
          -1.44,
          0.29,
          0.22,
          -0.87,
          -1.1,
          -1.35,
          0.54,
          -0.87,
          -0.12,
          -2.07,
          0.15,
          0.12,
          -1.16,
          -1.77,
          0.61,
          -2.9,
          -0.81,
          -0.94,
          -0.35,
          -0.35,
          -1.5,
          -0.49,
          -1.77,
          -1.1,
          -1.68,
          -1.65,
          -0.39,
          -0.55,
          0.19,
          -0.97,
          -1.5,
          -0.08,
          0.15,
          -2.73,
          -2.39,
          -2.39,
          0.09,
          20.74,
          27.32,
          24.68,
          25.14,
          24.33,
          16.84,
          25.02,
          23.89,
          25.26,
          25.14,
          24.79,
          19.22,
          25.73,
          25.49,
          23.44,
          23.67,
          25.97,
          25.97,
          17.35,
          16.92,
          26.09,
          24.79,
          26.45,
          25.73,
          0.5,
          -1.8,
          0.29,
          -1.25,
          0.15,
          -0.12,
          -2.7,
          -0.68,
          -1.22,
          -1.86,
          -0.35,
          -1.06,
          0.19,
          -0.58,
          -0.87,
          -1.44,
          -2.13,
          -0.91,
          -2.16,
          -2.33,
          0.75,
          -2.16,
          -1,
          -0.49,
          -1.03,
          -1,
          0.15,
          -1.35,
          0.5,
          26.94,
          -1.03,
          6.14,
          22.37,
          22.17,
          24,
          25.97,
          23.45,
          22.69,
          23.89,
          26.82,
          27.83,
          29.27,
          26.33,
          26.21,
          25.37,
          25.73,
          25.49,
          24.33,
          25.49,
          25.02,
          23.89,
          23.44,
          1.22,
          -0.71,
          -1.5,
          -0.84,
          -0.52,
          0.4,
          -1.65,
          0.61,
          -0.91,
          -0.65,
          0.86,
          6.9,
          1.07,
          -0.55,
          -1.1,
          0.05,
          -0.55,
          0.57,
          -1.28,
          0.4,
          -0.94,
          -2.07,
          0.47,
          0.33,
          -0.45,
          7,
          0.78,
          -1.71,
          -1.62,
          -0.71,
          -2.16,
          -0.32,
          -0.68,
          -2.04,
          -2.1,
          0.02,
          25.14,
          25.02,
          24.79,
          22.17,
          22.27,
          26.21,
          28.08,
          29.14,
          23.55,
          26.82,
          24.11,
          27.19,
          27.32,
          27.95,
          27.95,
          26.57,
          27.57,
          23.33,
          21.45,
          24.79,
          25.97,
          26.69,
          25.84,
          25.14,
          26.09,
          26.21,
          26.09,
          26.69,
          26.21,
          25.97,
          26.33,
          24.4,
          25.42,
          24.18,
          24.63,
          26.12,
          26.35,
          26,
          26.12,
          24.96,
          23.75,
          24.29,
          26.24
         ]
        }
       ],
       "layout": {
        "height": 800,
        "plot_bgcolor": "#5080B0",
        "template": {
         "data": {
          "bar": [
           {
            "error_x": {
             "color": "#2a3f5f"
            },
            "error_y": {
             "color": "#2a3f5f"
            },
            "marker": {
             "line": {
              "color": "#E5ECF6",
              "width": 0.5
             },
             "pattern": {
              "fillmode": "overlay",
              "size": 10,
              "solidity": 0.2
             }
            },
            "type": "bar"
           }
          ],
          "barpolar": [
           {
            "marker": {
             "line": {
              "color": "#E5ECF6",
              "width": 0.5
             },
             "pattern": {
              "fillmode": "overlay",
              "size": 10,
              "solidity": 0.2
             }
            },
            "type": "barpolar"
           }
          ],
          "carpet": [
           {
            "aaxis": {
             "endlinecolor": "#2a3f5f",
             "gridcolor": "white",
             "linecolor": "white",
             "minorgridcolor": "white",
             "startlinecolor": "#2a3f5f"
            },
            "baxis": {
             "endlinecolor": "#2a3f5f",
             "gridcolor": "white",
             "linecolor": "white",
             "minorgridcolor": "white",
             "startlinecolor": "#2a3f5f"
            },
            "type": "carpet"
           }
          ],
          "choropleth": [
           {
            "colorbar": {
             "outlinewidth": 0,
             "ticks": ""
            },
            "type": "choropleth"
           }
          ],
          "contour": [
           {
            "colorbar": {
             "outlinewidth": 0,
             "ticks": ""
            },
            "colorscale": [
             [
              0,
              "#0d0887"
             ],
             [
              0.1111111111111111,
              "#46039f"
             ],
             [
              0.2222222222222222,
              "#7201a8"
             ],
             [
              0.3333333333333333,
              "#9c179e"
             ],
             [
              0.4444444444444444,
              "#bd3786"
             ],
             [
              0.5555555555555556,
              "#d8576b"
             ],
             [
              0.6666666666666666,
              "#ed7953"
             ],
             [
              0.7777777777777778,
              "#fb9f3a"
             ],
             [
              0.8888888888888888,
              "#fdca26"
             ],
             [
              1,
              "#f0f921"
             ]
            ],
            "type": "contour"
           }
          ],
          "contourcarpet": [
           {
            "colorbar": {
             "outlinewidth": 0,
             "ticks": ""
            },
            "type": "contourcarpet"
           }
          ],
          "heatmap": [
           {
            "colorbar": {
             "outlinewidth": 0,
             "ticks": ""
            },
            "colorscale": [
             [
              0,
              "#0d0887"
             ],
             [
              0.1111111111111111,
              "#46039f"
             ],
             [
              0.2222222222222222,
              "#7201a8"
             ],
             [
              0.3333333333333333,
              "#9c179e"
             ],
             [
              0.4444444444444444,
              "#bd3786"
             ],
             [
              0.5555555555555556,
              "#d8576b"
             ],
             [
              0.6666666666666666,
              "#ed7953"
             ],
             [
              0.7777777777777778,
              "#fb9f3a"
             ],
             [
              0.8888888888888888,
              "#fdca26"
             ],
             [
              1,
              "#f0f921"
             ]
            ],
            "type": "heatmap"
           }
          ],
          "heatmapgl": [
           {
            "colorbar": {
             "outlinewidth": 0,
             "ticks": ""
            },
            "colorscale": [
             [
              0,
              "#0d0887"
             ],
             [
              0.1111111111111111,
              "#46039f"
             ],
             [
              0.2222222222222222,
              "#7201a8"
             ],
             [
              0.3333333333333333,
              "#9c179e"
             ],
             [
              0.4444444444444444,
              "#bd3786"
             ],
             [
              0.5555555555555556,
              "#d8576b"
             ],
             [
              0.6666666666666666,
              "#ed7953"
             ],
             [
              0.7777777777777778,
              "#fb9f3a"
             ],
             [
              0.8888888888888888,
              "#fdca26"
             ],
             [
              1,
              "#f0f921"
             ]
            ],
            "type": "heatmapgl"
           }
          ],
          "histogram": [
           {
            "marker": {
             "pattern": {
              "fillmode": "overlay",
              "size": 10,
              "solidity": 0.2
             }
            },
            "type": "histogram"
           }
          ],
          "histogram2d": [
           {
            "colorbar": {
             "outlinewidth": 0,
             "ticks": ""
            },
            "colorscale": [
             [
              0,
              "#0d0887"
             ],
             [
              0.1111111111111111,
              "#46039f"
             ],
             [
              0.2222222222222222,
              "#7201a8"
             ],
             [
              0.3333333333333333,
              "#9c179e"
             ],
             [
              0.4444444444444444,
              "#bd3786"
             ],
             [
              0.5555555555555556,
              "#d8576b"
             ],
             [
              0.6666666666666666,
              "#ed7953"
             ],
             [
              0.7777777777777778,
              "#fb9f3a"
             ],
             [
              0.8888888888888888,
              "#fdca26"
             ],
             [
              1,
              "#f0f921"
             ]
            ],
            "type": "histogram2d"
           }
          ],
          "histogram2dcontour": [
           {
            "colorbar": {
             "outlinewidth": 0,
             "ticks": ""
            },
            "colorscale": [
             [
              0,
              "#0d0887"
             ],
             [
              0.1111111111111111,
              "#46039f"
             ],
             [
              0.2222222222222222,
              "#7201a8"
             ],
             [
              0.3333333333333333,
              "#9c179e"
             ],
             [
              0.4444444444444444,
              "#bd3786"
             ],
             [
              0.5555555555555556,
              "#d8576b"
             ],
             [
              0.6666666666666666,
              "#ed7953"
             ],
             [
              0.7777777777777778,
              "#fb9f3a"
             ],
             [
              0.8888888888888888,
              "#fdca26"
             ],
             [
              1,
              "#f0f921"
             ]
            ],
            "type": "histogram2dcontour"
           }
          ],
          "mesh3d": [
           {
            "colorbar": {
             "outlinewidth": 0,
             "ticks": ""
            },
            "type": "mesh3d"
           }
          ],
          "parcoords": [
           {
            "line": {
             "colorbar": {
              "outlinewidth": 0,
              "ticks": ""
             }
            },
            "type": "parcoords"
           }
          ],
          "pie": [
           {
            "automargin": true,
            "type": "pie"
           }
          ],
          "scatter": [
           {
            "marker": {
             "colorbar": {
              "outlinewidth": 0,
              "ticks": ""
             }
            },
            "type": "scatter"
           }
          ],
          "scatter3d": [
           {
            "line": {
             "colorbar": {
              "outlinewidth": 0,
              "ticks": ""
             }
            },
            "marker": {
             "colorbar": {
              "outlinewidth": 0,
              "ticks": ""
             }
            },
            "type": "scatter3d"
           }
          ],
          "scattercarpet": [
           {
            "marker": {
             "colorbar": {
              "outlinewidth": 0,
              "ticks": ""
             }
            },
            "type": "scattercarpet"
           }
          ],
          "scattergeo": [
           {
            "marker": {
             "colorbar": {
              "outlinewidth": 0,
              "ticks": ""
             }
            },
            "type": "scattergeo"
           }
          ],
          "scattergl": [
           {
            "marker": {
             "colorbar": {
              "outlinewidth": 0,
              "ticks": ""
             }
            },
            "type": "scattergl"
           }
          ],
          "scattermapbox": [
           {
            "marker": {
             "colorbar": {
              "outlinewidth": 0,
              "ticks": ""
             }
            },
            "type": "scattermapbox"
           }
          ],
          "scatterpolar": [
           {
            "marker": {
             "colorbar": {
              "outlinewidth": 0,
              "ticks": ""
             }
            },
            "type": "scatterpolar"
           }
          ],
          "scatterpolargl": [
           {
            "marker": {
             "colorbar": {
              "outlinewidth": 0,
              "ticks": ""
             }
            },
            "type": "scatterpolargl"
           }
          ],
          "scatterternary": [
           {
            "marker": {
             "colorbar": {
              "outlinewidth": 0,
              "ticks": ""
             }
            },
            "type": "scatterternary"
           }
          ],
          "surface": [
           {
            "colorbar": {
             "outlinewidth": 0,
             "ticks": ""
            },
            "colorscale": [
             [
              0,
              "#0d0887"
             ],
             [
              0.1111111111111111,
              "#46039f"
             ],
             [
              0.2222222222222222,
              "#7201a8"
             ],
             [
              0.3333333333333333,
              "#9c179e"
             ],
             [
              0.4444444444444444,
              "#bd3786"
             ],
             [
              0.5555555555555556,
              "#d8576b"
             ],
             [
              0.6666666666666666,
              "#ed7953"
             ],
             [
              0.7777777777777778,
              "#fb9f3a"
             ],
             [
              0.8888888888888888,
              "#fdca26"
             ],
             [
              1,
              "#f0f921"
             ]
            ],
            "type": "surface"
           }
          ],
          "table": [
           {
            "cells": {
             "fill": {
              "color": "#EBF0F8"
             },
             "line": {
              "color": "white"
             }
            },
            "header": {
             "fill": {
              "color": "#C8D4E3"
             },
             "line": {
              "color": "white"
             }
            },
            "type": "table"
           }
          ]
         },
         "layout": {
          "annotationdefaults": {
           "arrowcolor": "#2a3f5f",
           "arrowhead": 0,
           "arrowwidth": 1
          },
          "autotypenumbers": "strict",
          "coloraxis": {
           "colorbar": {
            "outlinewidth": 0,
            "ticks": ""
           }
          },
          "colorscale": {
           "diverging": [
            [
             0,
             "#8e0152"
            ],
            [
             0.1,
             "#c51b7d"
            ],
            [
             0.2,
             "#de77ae"
            ],
            [
             0.3,
             "#f1b6da"
            ],
            [
             0.4,
             "#fde0ef"
            ],
            [
             0.5,
             "#f7f7f7"
            ],
            [
             0.6,
             "#e6f5d0"
            ],
            [
             0.7,
             "#b8e186"
            ],
            [
             0.8,
             "#7fbc41"
            ],
            [
             0.9,
             "#4d9221"
            ],
            [
             1,
             "#276419"
            ]
           ],
           "sequential": [
            [
             0,
             "#0d0887"
            ],
            [
             0.1111111111111111,
             "#46039f"
            ],
            [
             0.2222222222222222,
             "#7201a8"
            ],
            [
             0.3333333333333333,
             "#9c179e"
            ],
            [
             0.4444444444444444,
             "#bd3786"
            ],
            [
             0.5555555555555556,
             "#d8576b"
            ],
            [
             0.6666666666666666,
             "#ed7953"
            ],
            [
             0.7777777777777778,
             "#fb9f3a"
            ],
            [
             0.8888888888888888,
             "#fdca26"
            ],
            [
             1,
             "#f0f921"
            ]
           ],
           "sequentialminus": [
            [
             0,
             "#0d0887"
            ],
            [
             0.1111111111111111,
             "#46039f"
            ],
            [
             0.2222222222222222,
             "#7201a8"
            ],
            [
             0.3333333333333333,
             "#9c179e"
            ],
            [
             0.4444444444444444,
             "#bd3786"
            ],
            [
             0.5555555555555556,
             "#d8576b"
            ],
            [
             0.6666666666666666,
             "#ed7953"
            ],
            [
             0.7777777777777778,
             "#fb9f3a"
            ],
            [
             0.8888888888888888,
             "#fdca26"
            ],
            [
             1,
             "#f0f921"
            ]
           ]
          },
          "colorway": [
           "#636efa",
           "#EF553B",
           "#00cc96",
           "#ab63fa",
           "#FFA15A",
           "#19d3f3",
           "#FF6692",
           "#B6E880",
           "#FF97FF",
           "#FECB52"
          ],
          "font": {
           "color": "#2a3f5f"
          },
          "geo": {
           "bgcolor": "white",
           "lakecolor": "white",
           "landcolor": "#E5ECF6",
           "showlakes": true,
           "showland": true,
           "subunitcolor": "white"
          },
          "hoverlabel": {
           "align": "left"
          },
          "hovermode": "closest",
          "mapbox": {
           "style": "light"
          },
          "paper_bgcolor": "white",
          "plot_bgcolor": "#E5ECF6",
          "polar": {
           "angularaxis": {
            "gridcolor": "white",
            "linecolor": "white",
            "ticks": ""
           },
           "bgcolor": "#E5ECF6",
           "radialaxis": {
            "gridcolor": "white",
            "linecolor": "white",
            "ticks": ""
           }
          },
          "scene": {
           "xaxis": {
            "backgroundcolor": "#E5ECF6",
            "gridcolor": "white",
            "gridwidth": 2,
            "linecolor": "white",
            "showbackground": true,
            "ticks": "",
            "zerolinecolor": "white"
           },
           "yaxis": {
            "backgroundcolor": "#E5ECF6",
            "gridcolor": "white",
            "gridwidth": 2,
            "linecolor": "white",
            "showbackground": true,
            "ticks": "",
            "zerolinecolor": "white"
           },
           "zaxis": {
            "backgroundcolor": "#E5ECF6",
            "gridcolor": "white",
            "gridwidth": 2,
            "linecolor": "white",
            "showbackground": true,
            "ticks": "",
            "zerolinecolor": "white"
           }
          },
          "shapedefaults": {
           "line": {
            "color": "#2a3f5f"
           }
          },
          "ternary": {
           "aaxis": {
            "gridcolor": "white",
            "linecolor": "white",
            "ticks": ""
           },
           "baxis": {
            "gridcolor": "white",
            "linecolor": "white",
            "ticks": ""
           },
           "bgcolor": "#E5ECF6",
           "caxis": {
            "gridcolor": "white",
            "linecolor": "white",
            "ticks": ""
           }
          },
          "title": {
           "x": 0.05
          },
          "xaxis": {
           "automargin": true,
           "gridcolor": "white",
           "linecolor": "white",
           "ticks": "",
           "title": {
            "standoff": 15
           },
           "zerolinecolor": "white",
           "zerolinewidth": 2
          },
          "yaxis": {
           "automargin": true,
           "gridcolor": "white",
           "linecolor": "white",
           "ticks": "",
           "title": {
            "standoff": 15
           },
           "zerolinecolor": "white",
           "zerolinewidth": 2
          }
         }
        },
        "title": {
         "text": "Returner Positions"
        },
        "width": 550,
        "xaxis": {
         "autorange": false,
         "range": [
          -2,
          12.97
         ],
         "showgrid": false,
         "zeroline": false
        },
        "yaxis": {
         "autorange": false,
         "range": [
          -6.5,
          30.28
         ],
         "showgrid": false,
         "zeroline": false
        }
       }
      },
      "text/html": [
       "<div>                            <div id=\"a71bd6d3-c67b-4518-b48c-b1aa440eb413\" class=\"plotly-graph-div\" style=\"height:800px; width:550px;\"></div>            <script type=\"text/javascript\">                require([\"plotly\"], function(Plotly) {                    window.PLOTLYENV=window.PLOTLYENV || {};                                    if (document.getElementById(\"a71bd6d3-c67b-4518-b48c-b1aa440eb413\")) {                    Plotly.newPlot(                        \"a71bd6d3-c67b-4518-b48c-b1aa440eb413\",                        [{\"line\":{\"color\":\"white\",\"width\":2},\"mode\":\"lines\",\"type\":\"scatter\",\"x\":[10.97,0],\"y\":[11.89,11.89]},{\"line\":{\"color\":\"white\",\"width\":2},\"mode\":\"lines\",\"type\":\"scatter\",\"x\":[0,0,10.97,10.97,0],\"y\":[0,23.78,23.78,0,0]},{\"line\":{\"color\":\"white\",\"width\":2},\"mode\":\"lines\",\"type\":\"scatter\",\"x\":[5.485,5.49],\"y\":[5.485,18.29]},{\"line\":{\"color\":\"white\",\"width\":2},\"mode\":\"lines\",\"type\":\"scatter\",\"x\":[5.485,5.485],\"y\":[0,0.45]},{\"line\":{\"color\":\"white\",\"width\":2},\"mode\":\"lines\",\"type\":\"scatter\",\"x\":[5.485,5.485],\"y\":[23.78,23.330000000000002]},{\"line\":{\"color\":\"white\",\"width\":2},\"mode\":\"lines\",\"type\":\"scatter\",\"x\":[1.37,1.37],\"y\":[0,23.78]},{\"line\":{\"color\":\"white\",\"width\":2},\"mode\":\"lines\",\"type\":\"scatter\",\"x\":[9.600000000000001,9.600000000000001],\"y\":[0,23.78]},{\"line\":{\"color\":\"white\",\"width\":2},\"mode\":\"lines\",\"type\":\"scatter\",\"x\":[1.37,1.37,9.600000000000001,9.600000000000001,1.37],\"y\":[5.5,18.29,18.29,5.5,5.5]},{\"marker\":{\"color\":\"darkturquoise\"},\"mode\":\"markers\",\"name\":\"Nadal\",\"type\":\"scatter\",\"x\":[1.03,4.75,7.9,7.88,6.12,0.96,0.54,0.93,7.81,8.12,7.66,6.42,7.12,5.83,4.38,6.76,5.51,6.49,3.38,6.23,6.12,3.49,5.96,6.59,5.14,4.55,5.73,5.15,6.78,4.78,6.2,9.61,2.06,1.83,4.78,9.13,5.78,4.76,1.71,2.92,0.39,6.39,2.39,2.89,3.84,4.58,2.75,2.78,2.17,4.67,3.51,1.24,8.34,5.19,3.06,5.45,3.86,1.12,4.52,6.32,-0.48,7.27,6.12,6.42,5.87,4.71,5.72,4.81,4.75,3.75,2.34,5.89,5.39,6.66,4.96,9.56,7.43,3.5,5.9,1.92,1.83,3.25,3.11,4.95,5.67,6.15,9.5,8.81,4.83,1.71,2.06,3.65,2.98,7.11,5.02,3.54,7.19,2.57,2.93,0.11,5.55,2.45,3.79,3.53,4.62,0.34,0.19,1.03,5.81,5.9,5.4,2.8,7.83,5.43,5.85,-0.06,0.24,1.37,6.38,3.91,0.91,5.6,7.8,4.31,2.27,5.61,1.68,5.18,2.53,1.97,5.53,6.99,4.43,-0.32,-0.73,6.13,7.79,4.99,5.7,4.91,3.72,4.52,2.21,0.43,4.18,7.89,7.75,5.09,0.17,8.2,4.23,3.61,5.26,6.96,2.65,3.17,5.04,6.86,2.74,6.21,6.89,6.23,1.15,3.85,5.56,3.57,5.45,7.7,5.48,9.41,9.43,2.6,2.41,3.13,5.16,9.32,2.09,5.17,2.38,9.06,5.96,4.88,3.74,4.54,5.91,6.12,6.02,4.94,5.65,4.67,5.74,6.04,5.88,3.44,3.99,7.23,4.88,6.28,0.4,0.71,-0.47,7.9,6.54,-0.02,1.27,7.57,7.54,7.33,4.55,1.11,6.51,0.19,-0.49,5.45,6.65,3.58,2.62,6.28,7.8,4.02,-0.52,3.46,0.49,3.37,8.18,3.53,8.01,3.92,1.31,4.85,1.1,0.39,1.07,7.19,5.72,7.42,3.2,3.88,2.64,6.77,3.37,2.04,6.93,3.65,3.6,1.92,6.88,3.6,-1.7,5.56,5.19,6.16,4.18,3.43,3.48,2.65,7.25,9.04,8.99,6.17,2.08,9.15,1.8,5.66,8.36,5.42,4.68,4.15,4.3,6.5,3.81,6.7,5.65,4.6,5.72,7.6,3.1,6.26,5.84,7.98,6.88,4.63,3.38,0.91,0.32,1.78,7.69,7.67,4.86,0.27,0.28,7.94,7.88,3.8,4.92,3.22,2.57,4.77,5.68,4.04,5.05,4.64,1.83,5.07,4.14,3.68,5.52,4.99,6.43,7.87,9.74,7.77,4.09,4.53,2.7,1.88,2.69,9.57,9.1,8.72,2.69,6.14,4.26,5.72,5.76,4.8,5.82,4.6,0.17,3.69,4.89,4.72,5.32,3.03,7.8,5.38,7.84,4.95,6.29,7.79,0.2,2.91,7.82,7.69,5.12,6.42,6.98,4.2,6.12,0.23,1.5,7.98,4.74,7.84,4.62,0.07,2.11,4.28,1.69,3.4,7.76,7.21,3.7,5.21,3.67,4.62,3.95,9.69,10.08,7.72,2.06,4.7,5.48,4.03,9.04,2.17,4.9,6.6,7.28,9.39,8.89,4.48,2.17,4.84,3.74,4.26,6.31,5.25,6.8,5.69,9.23,6.46,1.7,6.38,5.13,5.75,5.74,6.49,6.17,7.23,4.57,5.13,4.87,5.99,5.72,7.84,5.2,4.65,5.79,4.36,6.04],\"y\":[27.44,26.45,26.83,26.47,25.84,26.71,27.32,27.08,28.35,26.94,26.09,25.37,26.33,1.29,-1.38,-1.16,1.11,-1.47,-1.59,-1.56,-2.16,-0.49,2.85,1.04,1.44,1.07,-0.91,-1.8,-2.16,-1.16,1.71,-3.57,-0.49,-1.16,0.75,-2.98,-3.31,-0.97,-1.13,19.5,21.24,26.94,27.83,18.94,17.01,22.37,22.06,22.17,26.33,24.11,22.69,25.02,26.33,22.48,23.01,24.0,23.44,24.11,29.14,28.21,28.47,29.27,27.57,26.45,0.82,1.29,0.82,0.71,-2.53,-2.22,-1.41,1.0,10.04,-1.38,0.86,-3.09,-1.86,-1.83,8.8,-1.1,-1.32,0.75,0.5,0.47,-1.35,-1.59,-3.36,-1.71,-1.62,-1.25,0.33,22.48,24.33,25.61,24.0,27.19,28.74,27.32,26.45,25.37,25.37,26.57,22.69,24.33,22.37,24.68,25.61,24.0,27.19,25.26,25.02,25.49,28.21,27.19,24.56,27.57,25.26,24.56,26.33,26.09,25.49,27.45,27.95,26.94,26.09,25.37,24.0,23.67,21.85,20.06,25.02,26.21,26.69,27.19,25.61,0.5,1.98,1.26,1.07,1.07,0.86,0.97,14.08,26.94,27.19,28.61,27.45,26.21,25.84,26.94,26.82,21.55,13.5,-1.22,14.68,22.27,24.11,27.07,26.33,28.08,28.21,27.57,24.0,19.31,22.8,21.96,26.57,28.21,22.8,-3.33,-3.04,-1.44,-1.06,0.54,-0.25,-3.25,-1.28,0.12,0.36,-2.45,0.78,-1.86,-1.8,-0.97,-2.33,-0.49,-1.92,0.75,-0.81,0.75,0.64,-3.09,-2.62,-2.5,-0.68,-1.44,-2.04,9.86,26.33,24.68,24.79,28.35,27.07,26.69,25.14,28.87,28.21,24.11,23.23,25.37,27.83,26.69,25.49,26.33,25.37,25.97,25.73,26.94,28.47,27.57,28.47,27.7,27.7,26.94,28.35,28.08,28.35,26.57,26.57,26.94,28.87,25.02,24.22,27.45,26.09,26.45,25.97,24.79,25.37,26.09,22.17,23.77,21.65,21.34,24.11,24.0,25.49,26.69,24.79,27.7,22.37,25.73,26.21,27.07,20.94,22.06,24.56,-2.01,-1.47,-1.13,-0.12,-1.77,-0.97,0.89,1.33,-1.44,1.0,-2.45,-1.32,-2.45,-1.89,9.68,1.29,1.0,-1.47,-0.08,-1.74,8.75,1.67,-1.25,2.09,0.75,19.03,27.07,25.14,24.33,25.97,24.91,24.22,26.33,25.14,25.84,24.22,22.37,22.17,24.56,25.49,26.57,26.45,21.96,22.17,23.89,24.45,23.23,25.49,24.79,22.58,25.37,27.07,26.69,-3.09,-1.59,22.17,-2.07,-1.5,-1.22,0.05,-2.25,-1.86,-1.59,-1.83,0.29,-0.78,1.22,1.59,1.48,1.18,0.86,27.45,27.07,26.94,25.37,25.49,25.97,26.45,26.33,26.94,27.7,26.09,24.33,26.82,25.84,26.94,26.45,27.45,26.57,25.26,25.37,25.73,26.57,25.97,27.32,25.61,24.68,25.26,26.69,25.97,26.57,24.79,24.11,27.19,25.37,23.55,26.33,23.12,23.55,23.01,-2.9,-2.98,-1.56,-0.15,-0.39,-2.93,-3.39,-2.67,-0.45,0.4,0.29,0.71,-2.36,-2.3,-1.77,-1.19,-0.97,-0.29,-0.71,-0.15,-0.39,0.12,0.97,-2.48,-0.12,-0.55,1.11,1.22,-2.36,-2.48,1.22,-1.62,-0.25,-1.74,0.96,-0.46,0.4,-0.65,-1.78,-1.87,-1.18,-1.93,0.5,-3.12]},{\"marker\":{\"color\":\"indianred\"},\"mode\":\"markers\",\"name\":\"Djokovic\",\"type\":\"scatter\",\"x\":[6.17,4.47,3.12,4.47,1.66,3.55,3.86,2.05,1.66,1.64,5.26,4.7,4.42,8.63,5.32,4.23,5.55,3.81,7.17,0.68,1.41,4.8,8.37,6.57,4.33,5.32,3.97,3.19,5.85,1.21,3.12,3.92,5.32,5.15,2.27,7.68,5.77,4.81,3.04,5.14,7.48,0.94,7.87,7.8,7.28,0.92,1.67,8.1,5.48,7.37,2.7,1.17,1.12,1.01,4.19,3.97,3.89,2.72,1.18,3.95,8.46,1.38,5.63,3.95,8.51,6.52,5.01,7.4,1.31,1.44,8.67,3.77,5.39,6.72,5.23,5.96,6.43,3.67,5.06,6.27,5.38,5.17,8.23,8.33,5.68,1.43,1.15,0.92,1.06,1.55,7.03,3.59,7.29,6.68,4.16,2.06,8.21,8.03,4.6,1.15,5.24,5.98,4.52,2.9,2.82,5.58,4.51,1.29,6.28,6.09,4.76,4.16,5.92,4.21,4.48,4.1,4.77,4.26,4.72,6.77,5.07,2.0,2.76,5.45,5.76,6.79,1.77,2.56,8.51,8.94,8.04,1.49,8.77,8.79,8.54,6.27,1.57,8.62,8.76,9.89,6.48,3.36,4.17,2.62,4.28,4.03,3.18,7.57,8.29,6.48,2.73,4.65,5.03,3.03,2.26,6.16,3.14,1.79,1.1,1.29,3.55,8.01,7.95,5.6,3.17,4.55,1.11,3.19,6.35,5.34,3.38,5.66,7.07,3.76,2.05,1.46,3.76,5.89,6.77,4.91,2.95,4.98,3.62,8.74,7.74,2.72,1.57,8.91,6.9,1.38,4.48,5.05,5.38,7.23,3.9,3.07,5.74,6.95,6.22,4.19,3.81,6.19,4.35,5.66,6.2,6.08,5.49,2.44,4.12,5.58,3.82,2.44,4.22,5.71,5.05,6.63,4.67,3.98,6.3,4.66,1.68,4.63,6.07,5.52,2.19,6.26,5.18,3.07,3.34,4.13,5.98,4.5,3.34,1.75,8.17,7.97,6.41,6.55,2.64,1.33,1.44,8.04,7.45,5.06,4.4,2.82,5.99,6.47,1.32,4.69,3.67,5.19,8.32,5.89,3.16,2.73,3.98,1.19,1.18,4.93,5.77,6.0,8.56,7.93,6.03,4.08,4.85,5.59,1.24,8.57,8.33,6.45,1.77,5.76,6.5,4.97,1.34,3.93,2.61,8.54,5.94,4.13,4.41,4.29,5.84,4.36,8.39,2.75,3.33,8.33,8.19,1.08,2.08,6.94,4.38,4.05,8.23,7.95,4.1,7.34,3.13,5.26,3.35,5.51,3.4,1.27,1.72,4.62,4.49,3.63,3.11,4.88,2.83,7.05,5.36,5.24,3.27,2.64,4.27,5.92,6.21,3.78,1.43,5.28,8.31,1.41,8.38,6.2,2.72,1.5,1.44,1.28,5.55,4.51,3.71,3.89,5.83,4.98,2.45,4.38,2.66,3.33,6.07,4.26,4.35,3.16,3.56,2.28,4.76,6.04,3.55,2.02,2.82,5.74,5.86,4.45,4.59,5.56,4.44,8.23,5.3,1.01,8.3,8.12,1.07,8.46,8.49,8.25,3.4,5.4,5.61,5.72,3.13,5.83,5.14,4.01,2.45,8.03,5.75,6.93,6.48,5.8,4.23,6.0,4.09,2.81,4.81,2.57,2.19,9.19,5.66,8.42,2.54,2.58,2.0,5.47,3.76,9.67,9.01,8.86,1.39,1.65,5.24,3.02,2.16,6.32,2.26,7.96,8.08,5.04,3.26],\"y\":[1.11,0.19,-0.94,1.26,1.41,-0.94,-1.16,-0.71,26.12,23.86,25.26,26.94,25.61,25.76,26.45,27.07,26.33,26.09,25.97,26.59,25.65,27.32,27.32,26.69,27.19,26.69,26.94,27.19,26.33,27.82,25.37,21.45,28.21,30.93,24.33,-3.25,-3.09,-2.3,-0.29,-1.22,-1.06,0.29,-2.27,-1.83,-0.25,-0.87,-0.42,-2.04,-2.39,-1.71,0.93,-1.06,-0.62,-1.19,0.86,-0.42,0.86,0.82,24.68,24.56,25.84,25.02,23.67,8.57,24.45,25.02,25.37,23.67,25.73,24.0,27.19,22.69,16.92,17.43,28.87,27.45,26.94,28.35,26.82,26.21,24.56,26.45,-2.56,-0.15,-0.84,-0.29,-1.03,-1.06,0.29,1.11,0.4,-1.13,-1.06,-0.35,-0.45,2.73,-1.77,-0.25,-0.81,-0.97,-1.77,0.68,-1.62,-1.06,-0.97,-1.19,0.61,0.36,-2.81,0.26,-1.25,-2.33,-2.01,-1.92,0.54,0.29,-1.13,-0.84,-1.74,-1.56,-1.06,0.12,-0.15,-1.77,0.57,-0.45,25.14,25.02,26.33,27.07,25.73,26.45,27.07,26.82,23.89,25.97,25.61,25.02,23.89,22.48,0.05,-0.22,-1.28,-2.39,0.15,4.13,-0.78,-1.1,-2.48,-2.01,-1.16,-1.53,-1.53,-1.19,-0.55,-1.89,-0.94,5.65,-0.84,-0.52,-1.16,-2.25,-0.91,-1.5,-1.25,-1.98,-0.91,23.67,25.02,26.82,21.85,26.21,30.09,29.27,22.9,24.45,24.0,25.97,26.82,27.45,25.97,26.09,25.37,26.33,25.49,27.32,26.21,26.33,24.56,25.84,25.97,25.14,26.69,26.69,28.08,28.08,19.4,17.52,-0.02,0.26,4.71,0.09,0.26,-1.25,-0.65,0.61,-0.35,-0.49,-1.41,-1.38,-1.47,0.26,-0.05,-1.59,-1.59,27.32,-0.91,-1.53,0.36,-1.44,0.29,0.22,-0.87,-1.1,-1.35,0.54,-0.87,-0.12,-2.07,0.15,0.12,-1.16,-1.77,0.61,-2.9,-0.81,-0.94,-0.35,-0.35,-1.5,-0.49,-1.77,-1.1,-1.68,-1.65,-0.39,-0.55,0.19,-0.97,-1.5,-0.08,0.15,-2.73,-2.39,-2.39,0.09,20.74,27.32,24.68,25.14,24.33,16.84,25.02,23.89,25.26,25.14,24.79,19.22,25.73,25.49,23.44,23.67,25.97,25.97,17.35,16.92,26.09,24.79,26.45,25.73,0.5,-1.8,0.29,-1.25,0.15,-0.12,-2.7,-0.68,-1.22,-1.86,-0.35,-1.06,0.19,-0.58,-0.87,-1.44,-2.13,-0.91,-2.16,-2.33,0.75,-2.16,-1.0,-0.49,-1.03,-1.0,0.15,-1.35,0.5,26.94,-1.03,6.14,22.37,22.17,24.0,25.97,23.45,22.69,23.89,26.82,27.83,29.27,26.33,26.21,25.37,25.73,25.49,24.33,25.49,25.02,23.89,23.44,1.22,-0.71,-1.5,-0.84,-0.52,0.4,-1.65,0.61,-0.91,-0.65,0.86,6.9,1.07,-0.55,-1.1,0.05,-0.55,0.57,-1.28,0.4,-0.94,-2.07,0.47,0.33,-0.45,7.0,0.78,-1.71,-1.62,-0.71,-2.16,-0.32,-0.68,-2.04,-2.1,0.02,25.14,25.02,24.79,22.17,22.27,26.21,28.08,29.14,23.55,26.82,24.11,27.19,27.32,27.95,27.95,26.57,27.57,23.33,21.45,24.79,25.97,26.69,25.84,25.14,26.09,26.21,26.09,26.69,26.21,25.97,26.33,24.4,25.42,24.18,24.63,26.12,26.35,26.0,26.12,24.96,23.75,24.29,26.24]}],                        {\"height\":800,\"plot_bgcolor\":\"#5080B0\",\"template\":{\"data\":{\"bar\":[{\"error_x\":{\"color\":\"#2a3f5f\"},\"error_y\":{\"color\":\"#2a3f5f\"},\"marker\":{\"line\":{\"color\":\"#E5ECF6\",\"width\":0.5},\"pattern\":{\"fillmode\":\"overlay\",\"size\":10,\"solidity\":0.2}},\"type\":\"bar\"}],\"barpolar\":[{\"marker\":{\"line\":{\"color\":\"#E5ECF6\",\"width\":0.5},\"pattern\":{\"fillmode\":\"overlay\",\"size\":10,\"solidity\":0.2}},\"type\":\"barpolar\"}],\"carpet\":[{\"aaxis\":{\"endlinecolor\":\"#2a3f5f\",\"gridcolor\":\"white\",\"linecolor\":\"white\",\"minorgridcolor\":\"white\",\"startlinecolor\":\"#2a3f5f\"},\"baxis\":{\"endlinecolor\":\"#2a3f5f\",\"gridcolor\":\"white\",\"linecolor\":\"white\",\"minorgridcolor\":\"white\",\"startlinecolor\":\"#2a3f5f\"},\"type\":\"carpet\"}],\"choropleth\":[{\"colorbar\":{\"outlinewidth\":0,\"ticks\":\"\"},\"type\":\"choropleth\"}],\"contour\":[{\"colorbar\":{\"outlinewidth\":0,\"ticks\":\"\"},\"colorscale\":[[0.0,\"#0d0887\"],[0.1111111111111111,\"#46039f\"],[0.2222222222222222,\"#7201a8\"],[0.3333333333333333,\"#9c179e\"],[0.4444444444444444,\"#bd3786\"],[0.5555555555555556,\"#d8576b\"],[0.6666666666666666,\"#ed7953\"],[0.7777777777777778,\"#fb9f3a\"],[0.8888888888888888,\"#fdca26\"],[1.0,\"#f0f921\"]],\"type\":\"contour\"}],\"contourcarpet\":[{\"colorbar\":{\"outlinewidth\":0,\"ticks\":\"\"},\"type\":\"contourcarpet\"}],\"heatmap\":[{\"colorbar\":{\"outlinewidth\":0,\"ticks\":\"\"},\"colorscale\":[[0.0,\"#0d0887\"],[0.1111111111111111,\"#46039f\"],[0.2222222222222222,\"#7201a8\"],[0.3333333333333333,\"#9c179e\"],[0.4444444444444444,\"#bd3786\"],[0.5555555555555556,\"#d8576b\"],[0.6666666666666666,\"#ed7953\"],[0.7777777777777778,\"#fb9f3a\"],[0.8888888888888888,\"#fdca26\"],[1.0,\"#f0f921\"]],\"type\":\"heatmap\"}],\"heatmapgl\":[{\"colorbar\":{\"outlinewidth\":0,\"ticks\":\"\"},\"colorscale\":[[0.0,\"#0d0887\"],[0.1111111111111111,\"#46039f\"],[0.2222222222222222,\"#7201a8\"],[0.3333333333333333,\"#9c179e\"],[0.4444444444444444,\"#bd3786\"],[0.5555555555555556,\"#d8576b\"],[0.6666666666666666,\"#ed7953\"],[0.7777777777777778,\"#fb9f3a\"],[0.8888888888888888,\"#fdca26\"],[1.0,\"#f0f921\"]],\"type\":\"heatmapgl\"}],\"histogram\":[{\"marker\":{\"pattern\":{\"fillmode\":\"overlay\",\"size\":10,\"solidity\":0.2}},\"type\":\"histogram\"}],\"histogram2d\":[{\"colorbar\":{\"outlinewidth\":0,\"ticks\":\"\"},\"colorscale\":[[0.0,\"#0d0887\"],[0.1111111111111111,\"#46039f\"],[0.2222222222222222,\"#7201a8\"],[0.3333333333333333,\"#9c179e\"],[0.4444444444444444,\"#bd3786\"],[0.5555555555555556,\"#d8576b\"],[0.6666666666666666,\"#ed7953\"],[0.7777777777777778,\"#fb9f3a\"],[0.8888888888888888,\"#fdca26\"],[1.0,\"#f0f921\"]],\"type\":\"histogram2d\"}],\"histogram2dcontour\":[{\"colorbar\":{\"outlinewidth\":0,\"ticks\":\"\"},\"colorscale\":[[0.0,\"#0d0887\"],[0.1111111111111111,\"#46039f\"],[0.2222222222222222,\"#7201a8\"],[0.3333333333333333,\"#9c179e\"],[0.4444444444444444,\"#bd3786\"],[0.5555555555555556,\"#d8576b\"],[0.6666666666666666,\"#ed7953\"],[0.7777777777777778,\"#fb9f3a\"],[0.8888888888888888,\"#fdca26\"],[1.0,\"#f0f921\"]],\"type\":\"histogram2dcontour\"}],\"mesh3d\":[{\"colorbar\":{\"outlinewidth\":0,\"ticks\":\"\"},\"type\":\"mesh3d\"}],\"parcoords\":[{\"line\":{\"colorbar\":{\"outlinewidth\":0,\"ticks\":\"\"}},\"type\":\"parcoords\"}],\"pie\":[{\"automargin\":true,\"type\":\"pie\"}],\"scatter\":[{\"marker\":{\"colorbar\":{\"outlinewidth\":0,\"ticks\":\"\"}},\"type\":\"scatter\"}],\"scatter3d\":[{\"line\":{\"colorbar\":{\"outlinewidth\":0,\"ticks\":\"\"}},\"marker\":{\"colorbar\":{\"outlinewidth\":0,\"ticks\":\"\"}},\"type\":\"scatter3d\"}],\"scattercarpet\":[{\"marker\":{\"colorbar\":{\"outlinewidth\":0,\"ticks\":\"\"}},\"type\":\"scattercarpet\"}],\"scattergeo\":[{\"marker\":{\"colorbar\":{\"outlinewidth\":0,\"ticks\":\"\"}},\"type\":\"scattergeo\"}],\"scattergl\":[{\"marker\":{\"colorbar\":{\"outlinewidth\":0,\"ticks\":\"\"}},\"type\":\"scattergl\"}],\"scattermapbox\":[{\"marker\":{\"colorbar\":{\"outlinewidth\":0,\"ticks\":\"\"}},\"type\":\"scattermapbox\"}],\"scatterpolar\":[{\"marker\":{\"colorbar\":{\"outlinewidth\":0,\"ticks\":\"\"}},\"type\":\"scatterpolar\"}],\"scatterpolargl\":[{\"marker\":{\"colorbar\":{\"outlinewidth\":0,\"ticks\":\"\"}},\"type\":\"scatterpolargl\"}],\"scatterternary\":[{\"marker\":{\"colorbar\":{\"outlinewidth\":0,\"ticks\":\"\"}},\"type\":\"scatterternary\"}],\"surface\":[{\"colorbar\":{\"outlinewidth\":0,\"ticks\":\"\"},\"colorscale\":[[0.0,\"#0d0887\"],[0.1111111111111111,\"#46039f\"],[0.2222222222222222,\"#7201a8\"],[0.3333333333333333,\"#9c179e\"],[0.4444444444444444,\"#bd3786\"],[0.5555555555555556,\"#d8576b\"],[0.6666666666666666,\"#ed7953\"],[0.7777777777777778,\"#fb9f3a\"],[0.8888888888888888,\"#fdca26\"],[1.0,\"#f0f921\"]],\"type\":\"surface\"}],\"table\":[{\"cells\":{\"fill\":{\"color\":\"#EBF0F8\"},\"line\":{\"color\":\"white\"}},\"header\":{\"fill\":{\"color\":\"#C8D4E3\"},\"line\":{\"color\":\"white\"}},\"type\":\"table\"}]},\"layout\":{\"annotationdefaults\":{\"arrowcolor\":\"#2a3f5f\",\"arrowhead\":0,\"arrowwidth\":1},\"autotypenumbers\":\"strict\",\"coloraxis\":{\"colorbar\":{\"outlinewidth\":0,\"ticks\":\"\"}},\"colorscale\":{\"diverging\":[[0,\"#8e0152\"],[0.1,\"#c51b7d\"],[0.2,\"#de77ae\"],[0.3,\"#f1b6da\"],[0.4,\"#fde0ef\"],[0.5,\"#f7f7f7\"],[0.6,\"#e6f5d0\"],[0.7,\"#b8e186\"],[0.8,\"#7fbc41\"],[0.9,\"#4d9221\"],[1,\"#276419\"]],\"sequential\":[[0.0,\"#0d0887\"],[0.1111111111111111,\"#46039f\"],[0.2222222222222222,\"#7201a8\"],[0.3333333333333333,\"#9c179e\"],[0.4444444444444444,\"#bd3786\"],[0.5555555555555556,\"#d8576b\"],[0.6666666666666666,\"#ed7953\"],[0.7777777777777778,\"#fb9f3a\"],[0.8888888888888888,\"#fdca26\"],[1.0,\"#f0f921\"]],\"sequentialminus\":[[0.0,\"#0d0887\"],[0.1111111111111111,\"#46039f\"],[0.2222222222222222,\"#7201a8\"],[0.3333333333333333,\"#9c179e\"],[0.4444444444444444,\"#bd3786\"],[0.5555555555555556,\"#d8576b\"],[0.6666666666666666,\"#ed7953\"],[0.7777777777777778,\"#fb9f3a\"],[0.8888888888888888,\"#fdca26\"],[1.0,\"#f0f921\"]]},\"colorway\":[\"#636efa\",\"#EF553B\",\"#00cc96\",\"#ab63fa\",\"#FFA15A\",\"#19d3f3\",\"#FF6692\",\"#B6E880\",\"#FF97FF\",\"#FECB52\"],\"font\":{\"color\":\"#2a3f5f\"},\"geo\":{\"bgcolor\":\"white\",\"lakecolor\":\"white\",\"landcolor\":\"#E5ECF6\",\"showlakes\":true,\"showland\":true,\"subunitcolor\":\"white\"},\"hoverlabel\":{\"align\":\"left\"},\"hovermode\":\"closest\",\"mapbox\":{\"style\":\"light\"},\"paper_bgcolor\":\"white\",\"plot_bgcolor\":\"#E5ECF6\",\"polar\":{\"angularaxis\":{\"gridcolor\":\"white\",\"linecolor\":\"white\",\"ticks\":\"\"},\"bgcolor\":\"#E5ECF6\",\"radialaxis\":{\"gridcolor\":\"white\",\"linecolor\":\"white\",\"ticks\":\"\"}},\"scene\":{\"xaxis\":{\"backgroundcolor\":\"#E5ECF6\",\"gridcolor\":\"white\",\"gridwidth\":2,\"linecolor\":\"white\",\"showbackground\":true,\"ticks\":\"\",\"zerolinecolor\":\"white\"},\"yaxis\":{\"backgroundcolor\":\"#E5ECF6\",\"gridcolor\":\"white\",\"gridwidth\":2,\"linecolor\":\"white\",\"showbackground\":true,\"ticks\":\"\",\"zerolinecolor\":\"white\"},\"zaxis\":{\"backgroundcolor\":\"#E5ECF6\",\"gridcolor\":\"white\",\"gridwidth\":2,\"linecolor\":\"white\",\"showbackground\":true,\"ticks\":\"\",\"zerolinecolor\":\"white\"}},\"shapedefaults\":{\"line\":{\"color\":\"#2a3f5f\"}},\"ternary\":{\"aaxis\":{\"gridcolor\":\"white\",\"linecolor\":\"white\",\"ticks\":\"\"},\"baxis\":{\"gridcolor\":\"white\",\"linecolor\":\"white\",\"ticks\":\"\"},\"bgcolor\":\"#E5ECF6\",\"caxis\":{\"gridcolor\":\"white\",\"linecolor\":\"white\",\"ticks\":\"\"}},\"title\":{\"x\":0.05},\"xaxis\":{\"automargin\":true,\"gridcolor\":\"white\",\"linecolor\":\"white\",\"ticks\":\"\",\"title\":{\"standoff\":15},\"zerolinecolor\":\"white\",\"zerolinewidth\":2},\"yaxis\":{\"automargin\":true,\"gridcolor\":\"white\",\"linecolor\":\"white\",\"ticks\":\"\",\"title\":{\"standoff\":15},\"zerolinecolor\":\"white\",\"zerolinewidth\":2}}},\"title\":{\"text\":\"Returner Positions\"},\"width\":550,\"xaxis\":{\"autorange\":false,\"range\":[-2,12.97],\"showgrid\":false,\"zeroline\":false},\"yaxis\":{\"autorange\":false,\"range\":[-6.5,30.28],\"showgrid\":false,\"zeroline\":false}},                        {\"responsive\": true}                    ).then(function(){\n",
       "                            \n",
       "var gd = document.getElementById('a71bd6d3-c67b-4518-b48c-b1aa440eb413');\n",
       "var x = new MutationObserver(function (mutations, observer) {{\n",
       "        var display = window.getComputedStyle(gd).display;\n",
       "        if (!display || display === 'none') {{\n",
       "            console.log([gd, 'removed!']);\n",
       "            Plotly.purge(gd);\n",
       "            observer.disconnect();\n",
       "        }}\n",
       "}});\n",
       "\n",
       "// Listen for the removal of the full notebook cells\n",
       "var notebookContainer = gd.closest('#notebook-container');\n",
       "if (notebookContainer) {{\n",
       "    x.observe(notebookContainer, {childList: true});\n",
       "}}\n",
       "\n",
       "// Listen for the clearing of the current output cell\n",
       "var outputEl = gd.closest('.output');\n",
       "if (outputEl) {{\n",
       "    x.observe(outputEl, {childList: true});\n",
       "}}\n",
       "\n",
       "                        })                };                });            </script>        </div>"
      ]
     },
     "metadata": {},
     "output_type": "display_data"
    }
   ],
   "source": [
    "fig.show()"
   ]
  },
  {
   "cell_type": "code",
   "execution_count": 18,
   "id": "cc027d6a",
   "metadata": {},
   "outputs": [],
   "source": [
    "points = points.dropna()"
   ]
  },
  {
   "cell_type": "code",
   "execution_count": 19,
   "id": "77f9343c",
   "metadata": {},
   "outputs": [
    {
     "data": {
      "text/html": [
       "<div>\n",
       "<style scoped>\n",
       "    .dataframe tbody tr th:only-of-type {\n",
       "        vertical-align: middle;\n",
       "    }\n",
       "\n",
       "    .dataframe tbody tr th {\n",
       "        vertical-align: top;\n",
       "    }\n",
       "\n",
       "    .dataframe thead th {\n",
       "        text-align: right;\n",
       "    }\n",
       "</style>\n",
       "<table border=\"1\" class=\"dataframe\">\n",
       "  <thead>\n",
       "    <tr style=\"text-align: right;\">\n",
       "      <th></th>\n",
       "      <th>rallyid</th>\n",
       "      <th>server</th>\n",
       "      <th>returner</th>\n",
       "      <th>winner</th>\n",
       "      <th>reason</th>\n",
       "      <th>serve</th>\n",
       "      <th>strokes</th>\n",
       "      <th>totaltime</th>\n",
       "      <th>x</th>\n",
       "      <th>y</th>\n",
       "      <th>score</th>\n",
       "    </tr>\n",
       "  </thead>\n",
       "  <tbody>\n",
       "    <tr>\n",
       "      <th>0</th>\n",
       "      <td>1</td>\n",
       "      <td>Djokovic</td>\n",
       "      <td>Nadal</td>\n",
       "      <td>Djokovic</td>\n",
       "      <td>winner</td>\n",
       "      <td>first</td>\n",
       "      <td>3</td>\n",
       "      <td>0.92</td>\n",
       "      <td>1.92</td>\n",
       "      <td>21.96</td>\n",
       "      <td>0:0, 15:0</td>\n",
       "    </tr>\n",
       "    <tr>\n",
       "      <th>2</th>\n",
       "      <td>3</td>\n",
       "      <td>Djokovic</td>\n",
       "      <td>Nadal</td>\n",
       "      <td>Djokovic</td>\n",
       "      <td>out</td>\n",
       "      <td>second</td>\n",
       "      <td>4</td>\n",
       "      <td>4.16</td>\n",
       "      <td>3.33</td>\n",
       "      <td>-0.39</td>\n",
       "      <td>0:0, 30:0</td>\n",
       "    </tr>\n",
       "    <tr>\n",
       "      <th>4</th>\n",
       "      <td>5</td>\n",
       "      <td>Djokovic</td>\n",
       "      <td>Nadal</td>\n",
       "      <td>Djokovic</td>\n",
       "      <td>ace</td>\n",
       "      <td>second</td>\n",
       "      <td>2</td>\n",
       "      <td>0.40</td>\n",
       "      <td>1.62</td>\n",
       "      <td>17.18</td>\n",
       "      <td>0:0, 40:0</td>\n",
       "    </tr>\n",
       "    <tr>\n",
       "      <th>5</th>\n",
       "      <td>6</td>\n",
       "      <td>Djokovic</td>\n",
       "      <td>Nadal</td>\n",
       "      <td>Djokovic</td>\n",
       "      <td>net</td>\n",
       "      <td>first</td>\n",
       "      <td>10</td>\n",
       "      <td>10.40</td>\n",
       "      <td>6.41</td>\n",
       "      <td>12.78</td>\n",
       "      <td>1:0, 0:0</td>\n",
       "    </tr>\n",
       "    <tr>\n",
       "      <th>7</th>\n",
       "      <td>8</td>\n",
       "      <td>Nadal</td>\n",
       "      <td>Djokovic</td>\n",
       "      <td>Djokovic</td>\n",
       "      <td>out</td>\n",
       "      <td>second</td>\n",
       "      <td>7</td>\n",
       "      <td>7.20</td>\n",
       "      <td>0.50</td>\n",
       "      <td>18.67</td>\n",
       "      <td>1:0, 15:0</td>\n",
       "    </tr>\n",
       "  </tbody>\n",
       "</table>\n",
       "</div>"
      ],
      "text/plain": [
       "   rallyid    server  returner    winner  reason   serve  strokes  totaltime  \\\n",
       "0        1  Djokovic     Nadal  Djokovic  winner   first        3       0.92   \n",
       "2        3  Djokovic     Nadal  Djokovic     out  second        4       4.16   \n",
       "4        5  Djokovic     Nadal  Djokovic     ace  second        2       0.40   \n",
       "5        6  Djokovic     Nadal  Djokovic     net   first       10      10.40   \n",
       "7        8     Nadal  Djokovic  Djokovic     out  second        7       7.20   \n",
       "\n",
       "      x      y      score  \n",
       "0  1.92  21.96  0:0, 15:0  \n",
       "2  3.33  -0.39  0:0, 30:0  \n",
       "4  1.62  17.18  0:0, 40:0  \n",
       "5  6.41  12.78   1:0, 0:0  \n",
       "7  0.50  18.67  1:0, 15:0  "
      ]
     },
     "execution_count": 19,
     "metadata": {},
     "output_type": "execute_result"
    }
   ],
   "source": [
    "points.head()"
   ]
  },
  {
   "cell_type": "code",
   "execution_count": 20,
   "id": "c43b3e3d",
   "metadata": {},
   "outputs": [],
   "source": [
    "points2 = points.loc[points['reason'] == 'winner']\n",
    "points3 = points2.loc[points2['winner'] == 'Nadal']\n",
    "points4 = points2.loc[points2['winner'] == 'Djokovic']"
   ]
  },
  {
   "cell_type": "code",
   "execution_count": 21,
   "id": "4ac997cd",
   "metadata": {},
   "outputs": [],
   "source": [
    "height_court = 10.97\n",
    "width_court = 11.89*2\n",
    "service_box = 6.4\n",
    "double_field = 1.37\n",
    "baseline_serviceline = 5.5\n",
    "breite_einzel = 8.23\n",
    "serviceline_net = 6.4\n",
    "colors={'Djokovic': 'IndianRed', 'Nadal' :'DarkTurqoise'}\n",
    "\n",
    "# Create figure\n",
    "fig = go.Figure(\n",
    "    data=[\n",
    "        go.Scatter(x=[height_court, 0], y=[width_court/2, width_court/2],\n",
    "                     mode=\"lines\",\n",
    "                     line=dict(width=2, color=\"white\")),\n",
    "          go.Scatter(x=[0,0, height_court, height_court, 0],\n",
    "                     y=[0,width_court,width_court, 0, 0],\n",
    "                     mode=\"lines\",\n",
    "                     line=dict(width=2, color=\"white\")),\n",
    "          go.Scatter(x=[height_court/2, width_court/2-service_box],\n",
    "                     y=[height_court/2, width_court/2+service_box],\n",
    "                    mode=\"lines\",\n",
    "                    line=dict(width=2, color=\"white\")),\n",
    "          go.Scatter(x=[height_court/2, height_court/2], y=[0, 0 + 0.45],\n",
    "                    mode=\"lines\",\n",
    "                    line=dict(width=2, color=\"white\")),\n",
    "          go.Scatter(x=[height_court/2, height_court/2], y=[width_court, width_court - 0.45],\n",
    "            mode=\"lines\",\n",
    "            line=dict(width=2, color=\"white\")),\n",
    "         go.Scatter(x=[1.37, 1.37], y=[0, width_court],\n",
    "            mode=\"lines\",\n",
    "            line=dict(width=2, color=\"white\")),\n",
    "        go.Scatter(x=[height_court-1.37, height_court-1.37], y=[0, width_court],\n",
    "            mode=\"lines\",\n",
    "            line=dict(width=2, color=\"white\")),\n",
    "        go.Scatter(x=[0+double_field,0+double_field, \n",
    "                      height_court-1.37, height_court-1.37, 0+double_field],\n",
    "                   y=[baseline_serviceline, width_court/2+service_box, \n",
    "                      width_court/2+service_box, baseline_serviceline, baseline_serviceline],\n",
    "            mode=\"lines\",\n",
    "            line=dict(width=2, color=\"white\")),\n",
    "        go.Scatter(x=points3['x'], y=points3['y'],mode='markers',\n",
    "                  marker=dict(color='darkturquoise'), name='Nadal'),\n",
    "        go.Scatter(x=points4['x'], y=points4['y'],mode='markers',\n",
    "                  marker=dict(color='indianred'), name='Djokovic')\n",
    "    ],\n",
    "    layout=go.Layout(\n",
    "        xaxis=dict(range=[-2, height_court+2], autorange=False, zeroline=False, showgrid=False),\n",
    "        yaxis=dict(range=[-6.5, width_court+6.5], \n",
    "                   autorange=False, zeroline=False, showgrid=False, ),\n",
    "        height=800,\n",
    "        width=550,\n",
    "        title_text=\"Winner Positions\",\n",
    "        plot_bgcolor=\"#5080B0\"\n",
    "))"
   ]
  },
  {
   "cell_type": "code",
   "execution_count": 22,
   "id": "a33dcbac",
   "metadata": {},
   "outputs": [
    {
     "data": {
      "application/vnd.plotly.v1+json": {
       "config": {
        "plotlyServerURL": "https://plot.ly"
       },
       "data": [
        {
         "line": {
          "color": "white",
          "width": 2
         },
         "mode": "lines",
         "type": "scatter",
         "x": [
          10.97,
          0
         ],
         "y": [
          11.89,
          11.89
         ]
        },
        {
         "line": {
          "color": "white",
          "width": 2
         },
         "mode": "lines",
         "type": "scatter",
         "x": [
          0,
          0,
          10.97,
          10.97,
          0
         ],
         "y": [
          0,
          23.78,
          23.78,
          0,
          0
         ]
        },
        {
         "line": {
          "color": "white",
          "width": 2
         },
         "mode": "lines",
         "type": "scatter",
         "x": [
          5.485,
          5.49
         ],
         "y": [
          5.485,
          18.29
         ]
        },
        {
         "line": {
          "color": "white",
          "width": 2
         },
         "mode": "lines",
         "type": "scatter",
         "x": [
          5.485,
          5.485
         ],
         "y": [
          0,
          0.45
         ]
        },
        {
         "line": {
          "color": "white",
          "width": 2
         },
         "mode": "lines",
         "type": "scatter",
         "x": [
          5.485,
          5.485
         ],
         "y": [
          23.78,
          23.330000000000002
         ]
        },
        {
         "line": {
          "color": "white",
          "width": 2
         },
         "mode": "lines",
         "type": "scatter",
         "x": [
          1.37,
          1.37
         ],
         "y": [
          0,
          23.78
         ]
        },
        {
         "line": {
          "color": "white",
          "width": 2
         },
         "mode": "lines",
         "type": "scatter",
         "x": [
          9.600000000000001,
          9.600000000000001
         ],
         "y": [
          0,
          23.78
         ]
        },
        {
         "line": {
          "color": "white",
          "width": 2
         },
         "mode": "lines",
         "type": "scatter",
         "x": [
          1.37,
          1.37,
          9.600000000000001,
          9.600000000000001,
          1.37
         ],
         "y": [
          5.5,
          18.29,
          18.29,
          5.5,
          5.5
         ]
        },
        {
         "marker": {
          "color": "darkturquoise"
         },
         "mode": "markers",
         "name": "Nadal",
         "type": "scatter",
         "x": [
          7.34,
          8.4,
          3.19,
          8.4,
          8.34,
          1.67,
          4.84,
          1.92,
          9.26,
          1.61,
          8.35,
          7.57,
          0.68,
          1.63,
          8.21,
          1.55,
          1.83
         ],
         "y": [
          18.76,
          3.22,
          16.26,
          0.61,
          1.15,
          20.06,
          29.68,
          21.65,
          0.58,
          6.54,
          0.26,
          10.17,
          21.85,
          17.26,
          20.84,
          21.96,
          16.18
         ]
        },
        {
         "marker": {
          "color": "indianred"
         },
         "mode": "markers",
         "name": "Djokovic",
         "type": "scatter",
         "x": [
          1.92,
          3.65,
          0.53,
          7.3,
          7.33,
          1,
          8.16,
          0.78,
          1.4,
          5.46,
          0.8,
          7.57,
          8.23,
          8.14,
          2.13,
          1,
          8.67,
          2.77,
          1.08,
          1.89,
          8.18,
          6.57,
          2.44,
          1.88
         ],
         "y": [
          21.96,
          9.5,
          21.45,
          22.58,
          20.36,
          -3.57,
          4.3,
          20.16,
          1.59,
          -1.77,
          21.85,
          21.55,
          20.65,
          22.17,
          0.54,
          7.21,
          11.43,
          5.36,
          4.57,
          19.59,
          19.78,
          5.75,
          4.71,
          3.36
         ]
        }
       ],
       "layout": {
        "height": 800,
        "plot_bgcolor": "#5080B0",
        "template": {
         "data": {
          "bar": [
           {
            "error_x": {
             "color": "#2a3f5f"
            },
            "error_y": {
             "color": "#2a3f5f"
            },
            "marker": {
             "line": {
              "color": "#E5ECF6",
              "width": 0.5
             },
             "pattern": {
              "fillmode": "overlay",
              "size": 10,
              "solidity": 0.2
             }
            },
            "type": "bar"
           }
          ],
          "barpolar": [
           {
            "marker": {
             "line": {
              "color": "#E5ECF6",
              "width": 0.5
             },
             "pattern": {
              "fillmode": "overlay",
              "size": 10,
              "solidity": 0.2
             }
            },
            "type": "barpolar"
           }
          ],
          "carpet": [
           {
            "aaxis": {
             "endlinecolor": "#2a3f5f",
             "gridcolor": "white",
             "linecolor": "white",
             "minorgridcolor": "white",
             "startlinecolor": "#2a3f5f"
            },
            "baxis": {
             "endlinecolor": "#2a3f5f",
             "gridcolor": "white",
             "linecolor": "white",
             "minorgridcolor": "white",
             "startlinecolor": "#2a3f5f"
            },
            "type": "carpet"
           }
          ],
          "choropleth": [
           {
            "colorbar": {
             "outlinewidth": 0,
             "ticks": ""
            },
            "type": "choropleth"
           }
          ],
          "contour": [
           {
            "colorbar": {
             "outlinewidth": 0,
             "ticks": ""
            },
            "colorscale": [
             [
              0,
              "#0d0887"
             ],
             [
              0.1111111111111111,
              "#46039f"
             ],
             [
              0.2222222222222222,
              "#7201a8"
             ],
             [
              0.3333333333333333,
              "#9c179e"
             ],
             [
              0.4444444444444444,
              "#bd3786"
             ],
             [
              0.5555555555555556,
              "#d8576b"
             ],
             [
              0.6666666666666666,
              "#ed7953"
             ],
             [
              0.7777777777777778,
              "#fb9f3a"
             ],
             [
              0.8888888888888888,
              "#fdca26"
             ],
             [
              1,
              "#f0f921"
             ]
            ],
            "type": "contour"
           }
          ],
          "contourcarpet": [
           {
            "colorbar": {
             "outlinewidth": 0,
             "ticks": ""
            },
            "type": "contourcarpet"
           }
          ],
          "heatmap": [
           {
            "colorbar": {
             "outlinewidth": 0,
             "ticks": ""
            },
            "colorscale": [
             [
              0,
              "#0d0887"
             ],
             [
              0.1111111111111111,
              "#46039f"
             ],
             [
              0.2222222222222222,
              "#7201a8"
             ],
             [
              0.3333333333333333,
              "#9c179e"
             ],
             [
              0.4444444444444444,
              "#bd3786"
             ],
             [
              0.5555555555555556,
              "#d8576b"
             ],
             [
              0.6666666666666666,
              "#ed7953"
             ],
             [
              0.7777777777777778,
              "#fb9f3a"
             ],
             [
              0.8888888888888888,
              "#fdca26"
             ],
             [
              1,
              "#f0f921"
             ]
            ],
            "type": "heatmap"
           }
          ],
          "heatmapgl": [
           {
            "colorbar": {
             "outlinewidth": 0,
             "ticks": ""
            },
            "colorscale": [
             [
              0,
              "#0d0887"
             ],
             [
              0.1111111111111111,
              "#46039f"
             ],
             [
              0.2222222222222222,
              "#7201a8"
             ],
             [
              0.3333333333333333,
              "#9c179e"
             ],
             [
              0.4444444444444444,
              "#bd3786"
             ],
             [
              0.5555555555555556,
              "#d8576b"
             ],
             [
              0.6666666666666666,
              "#ed7953"
             ],
             [
              0.7777777777777778,
              "#fb9f3a"
             ],
             [
              0.8888888888888888,
              "#fdca26"
             ],
             [
              1,
              "#f0f921"
             ]
            ],
            "type": "heatmapgl"
           }
          ],
          "histogram": [
           {
            "marker": {
             "pattern": {
              "fillmode": "overlay",
              "size": 10,
              "solidity": 0.2
             }
            },
            "type": "histogram"
           }
          ],
          "histogram2d": [
           {
            "colorbar": {
             "outlinewidth": 0,
             "ticks": ""
            },
            "colorscale": [
             [
              0,
              "#0d0887"
             ],
             [
              0.1111111111111111,
              "#46039f"
             ],
             [
              0.2222222222222222,
              "#7201a8"
             ],
             [
              0.3333333333333333,
              "#9c179e"
             ],
             [
              0.4444444444444444,
              "#bd3786"
             ],
             [
              0.5555555555555556,
              "#d8576b"
             ],
             [
              0.6666666666666666,
              "#ed7953"
             ],
             [
              0.7777777777777778,
              "#fb9f3a"
             ],
             [
              0.8888888888888888,
              "#fdca26"
             ],
             [
              1,
              "#f0f921"
             ]
            ],
            "type": "histogram2d"
           }
          ],
          "histogram2dcontour": [
           {
            "colorbar": {
             "outlinewidth": 0,
             "ticks": ""
            },
            "colorscale": [
             [
              0,
              "#0d0887"
             ],
             [
              0.1111111111111111,
              "#46039f"
             ],
             [
              0.2222222222222222,
              "#7201a8"
             ],
             [
              0.3333333333333333,
              "#9c179e"
             ],
             [
              0.4444444444444444,
              "#bd3786"
             ],
             [
              0.5555555555555556,
              "#d8576b"
             ],
             [
              0.6666666666666666,
              "#ed7953"
             ],
             [
              0.7777777777777778,
              "#fb9f3a"
             ],
             [
              0.8888888888888888,
              "#fdca26"
             ],
             [
              1,
              "#f0f921"
             ]
            ],
            "type": "histogram2dcontour"
           }
          ],
          "mesh3d": [
           {
            "colorbar": {
             "outlinewidth": 0,
             "ticks": ""
            },
            "type": "mesh3d"
           }
          ],
          "parcoords": [
           {
            "line": {
             "colorbar": {
              "outlinewidth": 0,
              "ticks": ""
             }
            },
            "type": "parcoords"
           }
          ],
          "pie": [
           {
            "automargin": true,
            "type": "pie"
           }
          ],
          "scatter": [
           {
            "marker": {
             "colorbar": {
              "outlinewidth": 0,
              "ticks": ""
             }
            },
            "type": "scatter"
           }
          ],
          "scatter3d": [
           {
            "line": {
             "colorbar": {
              "outlinewidth": 0,
              "ticks": ""
             }
            },
            "marker": {
             "colorbar": {
              "outlinewidth": 0,
              "ticks": ""
             }
            },
            "type": "scatter3d"
           }
          ],
          "scattercarpet": [
           {
            "marker": {
             "colorbar": {
              "outlinewidth": 0,
              "ticks": ""
             }
            },
            "type": "scattercarpet"
           }
          ],
          "scattergeo": [
           {
            "marker": {
             "colorbar": {
              "outlinewidth": 0,
              "ticks": ""
             }
            },
            "type": "scattergeo"
           }
          ],
          "scattergl": [
           {
            "marker": {
             "colorbar": {
              "outlinewidth": 0,
              "ticks": ""
             }
            },
            "type": "scattergl"
           }
          ],
          "scattermapbox": [
           {
            "marker": {
             "colorbar": {
              "outlinewidth": 0,
              "ticks": ""
             }
            },
            "type": "scattermapbox"
           }
          ],
          "scatterpolar": [
           {
            "marker": {
             "colorbar": {
              "outlinewidth": 0,
              "ticks": ""
             }
            },
            "type": "scatterpolar"
           }
          ],
          "scatterpolargl": [
           {
            "marker": {
             "colorbar": {
              "outlinewidth": 0,
              "ticks": ""
             }
            },
            "type": "scatterpolargl"
           }
          ],
          "scatterternary": [
           {
            "marker": {
             "colorbar": {
              "outlinewidth": 0,
              "ticks": ""
             }
            },
            "type": "scatterternary"
           }
          ],
          "surface": [
           {
            "colorbar": {
             "outlinewidth": 0,
             "ticks": ""
            },
            "colorscale": [
             [
              0,
              "#0d0887"
             ],
             [
              0.1111111111111111,
              "#46039f"
             ],
             [
              0.2222222222222222,
              "#7201a8"
             ],
             [
              0.3333333333333333,
              "#9c179e"
             ],
             [
              0.4444444444444444,
              "#bd3786"
             ],
             [
              0.5555555555555556,
              "#d8576b"
             ],
             [
              0.6666666666666666,
              "#ed7953"
             ],
             [
              0.7777777777777778,
              "#fb9f3a"
             ],
             [
              0.8888888888888888,
              "#fdca26"
             ],
             [
              1,
              "#f0f921"
             ]
            ],
            "type": "surface"
           }
          ],
          "table": [
           {
            "cells": {
             "fill": {
              "color": "#EBF0F8"
             },
             "line": {
              "color": "white"
             }
            },
            "header": {
             "fill": {
              "color": "#C8D4E3"
             },
             "line": {
              "color": "white"
             }
            },
            "type": "table"
           }
          ]
         },
         "layout": {
          "annotationdefaults": {
           "arrowcolor": "#2a3f5f",
           "arrowhead": 0,
           "arrowwidth": 1
          },
          "autotypenumbers": "strict",
          "coloraxis": {
           "colorbar": {
            "outlinewidth": 0,
            "ticks": ""
           }
          },
          "colorscale": {
           "diverging": [
            [
             0,
             "#8e0152"
            ],
            [
             0.1,
             "#c51b7d"
            ],
            [
             0.2,
             "#de77ae"
            ],
            [
             0.3,
             "#f1b6da"
            ],
            [
             0.4,
             "#fde0ef"
            ],
            [
             0.5,
             "#f7f7f7"
            ],
            [
             0.6,
             "#e6f5d0"
            ],
            [
             0.7,
             "#b8e186"
            ],
            [
             0.8,
             "#7fbc41"
            ],
            [
             0.9,
             "#4d9221"
            ],
            [
             1,
             "#276419"
            ]
           ],
           "sequential": [
            [
             0,
             "#0d0887"
            ],
            [
             0.1111111111111111,
             "#46039f"
            ],
            [
             0.2222222222222222,
             "#7201a8"
            ],
            [
             0.3333333333333333,
             "#9c179e"
            ],
            [
             0.4444444444444444,
             "#bd3786"
            ],
            [
             0.5555555555555556,
             "#d8576b"
            ],
            [
             0.6666666666666666,
             "#ed7953"
            ],
            [
             0.7777777777777778,
             "#fb9f3a"
            ],
            [
             0.8888888888888888,
             "#fdca26"
            ],
            [
             1,
             "#f0f921"
            ]
           ],
           "sequentialminus": [
            [
             0,
             "#0d0887"
            ],
            [
             0.1111111111111111,
             "#46039f"
            ],
            [
             0.2222222222222222,
             "#7201a8"
            ],
            [
             0.3333333333333333,
             "#9c179e"
            ],
            [
             0.4444444444444444,
             "#bd3786"
            ],
            [
             0.5555555555555556,
             "#d8576b"
            ],
            [
             0.6666666666666666,
             "#ed7953"
            ],
            [
             0.7777777777777778,
             "#fb9f3a"
            ],
            [
             0.8888888888888888,
             "#fdca26"
            ],
            [
             1,
             "#f0f921"
            ]
           ]
          },
          "colorway": [
           "#636efa",
           "#EF553B",
           "#00cc96",
           "#ab63fa",
           "#FFA15A",
           "#19d3f3",
           "#FF6692",
           "#B6E880",
           "#FF97FF",
           "#FECB52"
          ],
          "font": {
           "color": "#2a3f5f"
          },
          "geo": {
           "bgcolor": "white",
           "lakecolor": "white",
           "landcolor": "#E5ECF6",
           "showlakes": true,
           "showland": true,
           "subunitcolor": "white"
          },
          "hoverlabel": {
           "align": "left"
          },
          "hovermode": "closest",
          "mapbox": {
           "style": "light"
          },
          "paper_bgcolor": "white",
          "plot_bgcolor": "#E5ECF6",
          "polar": {
           "angularaxis": {
            "gridcolor": "white",
            "linecolor": "white",
            "ticks": ""
           },
           "bgcolor": "#E5ECF6",
           "radialaxis": {
            "gridcolor": "white",
            "linecolor": "white",
            "ticks": ""
           }
          },
          "scene": {
           "xaxis": {
            "backgroundcolor": "#E5ECF6",
            "gridcolor": "white",
            "gridwidth": 2,
            "linecolor": "white",
            "showbackground": true,
            "ticks": "",
            "zerolinecolor": "white"
           },
           "yaxis": {
            "backgroundcolor": "#E5ECF6",
            "gridcolor": "white",
            "gridwidth": 2,
            "linecolor": "white",
            "showbackground": true,
            "ticks": "",
            "zerolinecolor": "white"
           },
           "zaxis": {
            "backgroundcolor": "#E5ECF6",
            "gridcolor": "white",
            "gridwidth": 2,
            "linecolor": "white",
            "showbackground": true,
            "ticks": "",
            "zerolinecolor": "white"
           }
          },
          "shapedefaults": {
           "line": {
            "color": "#2a3f5f"
           }
          },
          "ternary": {
           "aaxis": {
            "gridcolor": "white",
            "linecolor": "white",
            "ticks": ""
           },
           "baxis": {
            "gridcolor": "white",
            "linecolor": "white",
            "ticks": ""
           },
           "bgcolor": "#E5ECF6",
           "caxis": {
            "gridcolor": "white",
            "linecolor": "white",
            "ticks": ""
           }
          },
          "title": {
           "x": 0.05
          },
          "xaxis": {
           "automargin": true,
           "gridcolor": "white",
           "linecolor": "white",
           "ticks": "",
           "title": {
            "standoff": 15
           },
           "zerolinecolor": "white",
           "zerolinewidth": 2
          },
          "yaxis": {
           "automargin": true,
           "gridcolor": "white",
           "linecolor": "white",
           "ticks": "",
           "title": {
            "standoff": 15
           },
           "zerolinecolor": "white",
           "zerolinewidth": 2
          }
         }
        },
        "title": {
         "text": "Winner Positions"
        },
        "width": 550,
        "xaxis": {
         "autorange": false,
         "range": [
          -2,
          12.97
         ],
         "showgrid": false,
         "zeroline": false
        },
        "yaxis": {
         "autorange": false,
         "range": [
          -6.5,
          30.28
         ],
         "showgrid": false,
         "zeroline": false
        }
       }
      },
      "text/html": [
       "<div>                            <div id=\"cc57e0b3-f4c4-4ed1-99e1-5083b8df5379\" class=\"plotly-graph-div\" style=\"height:800px; width:550px;\"></div>            <script type=\"text/javascript\">                require([\"plotly\"], function(Plotly) {                    window.PLOTLYENV=window.PLOTLYENV || {};                                    if (document.getElementById(\"cc57e0b3-f4c4-4ed1-99e1-5083b8df5379\")) {                    Plotly.newPlot(                        \"cc57e0b3-f4c4-4ed1-99e1-5083b8df5379\",                        [{\"line\":{\"color\":\"white\",\"width\":2},\"mode\":\"lines\",\"type\":\"scatter\",\"x\":[10.97,0],\"y\":[11.89,11.89]},{\"line\":{\"color\":\"white\",\"width\":2},\"mode\":\"lines\",\"type\":\"scatter\",\"x\":[0,0,10.97,10.97,0],\"y\":[0,23.78,23.78,0,0]},{\"line\":{\"color\":\"white\",\"width\":2},\"mode\":\"lines\",\"type\":\"scatter\",\"x\":[5.485,5.49],\"y\":[5.485,18.29]},{\"line\":{\"color\":\"white\",\"width\":2},\"mode\":\"lines\",\"type\":\"scatter\",\"x\":[5.485,5.485],\"y\":[0,0.45]},{\"line\":{\"color\":\"white\",\"width\":2},\"mode\":\"lines\",\"type\":\"scatter\",\"x\":[5.485,5.485],\"y\":[23.78,23.330000000000002]},{\"line\":{\"color\":\"white\",\"width\":2},\"mode\":\"lines\",\"type\":\"scatter\",\"x\":[1.37,1.37],\"y\":[0,23.78]},{\"line\":{\"color\":\"white\",\"width\":2},\"mode\":\"lines\",\"type\":\"scatter\",\"x\":[9.600000000000001,9.600000000000001],\"y\":[0,23.78]},{\"line\":{\"color\":\"white\",\"width\":2},\"mode\":\"lines\",\"type\":\"scatter\",\"x\":[1.37,1.37,9.600000000000001,9.600000000000001,1.37],\"y\":[5.5,18.29,18.29,5.5,5.5]},{\"marker\":{\"color\":\"darkturquoise\"},\"mode\":\"markers\",\"name\":\"Nadal\",\"type\":\"scatter\",\"x\":[7.34,8.4,3.19,8.4,8.34,1.67,4.84,1.92,9.26,1.61,8.35,7.57,0.68,1.63,8.21,1.55,1.83],\"y\":[18.76,3.22,16.26,0.61,1.15,20.06,29.68,21.65,0.58,6.54,0.26,10.17,21.85,17.26,20.84,21.96,16.18]},{\"marker\":{\"color\":\"indianred\"},\"mode\":\"markers\",\"name\":\"Djokovic\",\"type\":\"scatter\",\"x\":[1.92,3.65,0.53,7.3,7.33,1.0,8.16,0.78,1.4,5.46,0.8,7.57,8.23,8.14,2.13,1.0,8.67,2.77,1.08,1.89,8.18,6.57,2.44,1.88],\"y\":[21.96,9.5,21.45,22.58,20.36,-3.57,4.3,20.16,1.59,-1.77,21.85,21.55,20.65,22.17,0.54,7.21,11.43,5.36,4.57,19.59,19.78,5.75,4.71,3.36]}],                        {\"height\":800,\"plot_bgcolor\":\"#5080B0\",\"template\":{\"data\":{\"bar\":[{\"error_x\":{\"color\":\"#2a3f5f\"},\"error_y\":{\"color\":\"#2a3f5f\"},\"marker\":{\"line\":{\"color\":\"#E5ECF6\",\"width\":0.5},\"pattern\":{\"fillmode\":\"overlay\",\"size\":10,\"solidity\":0.2}},\"type\":\"bar\"}],\"barpolar\":[{\"marker\":{\"line\":{\"color\":\"#E5ECF6\",\"width\":0.5},\"pattern\":{\"fillmode\":\"overlay\",\"size\":10,\"solidity\":0.2}},\"type\":\"barpolar\"}],\"carpet\":[{\"aaxis\":{\"endlinecolor\":\"#2a3f5f\",\"gridcolor\":\"white\",\"linecolor\":\"white\",\"minorgridcolor\":\"white\",\"startlinecolor\":\"#2a3f5f\"},\"baxis\":{\"endlinecolor\":\"#2a3f5f\",\"gridcolor\":\"white\",\"linecolor\":\"white\",\"minorgridcolor\":\"white\",\"startlinecolor\":\"#2a3f5f\"},\"type\":\"carpet\"}],\"choropleth\":[{\"colorbar\":{\"outlinewidth\":0,\"ticks\":\"\"},\"type\":\"choropleth\"}],\"contour\":[{\"colorbar\":{\"outlinewidth\":0,\"ticks\":\"\"},\"colorscale\":[[0.0,\"#0d0887\"],[0.1111111111111111,\"#46039f\"],[0.2222222222222222,\"#7201a8\"],[0.3333333333333333,\"#9c179e\"],[0.4444444444444444,\"#bd3786\"],[0.5555555555555556,\"#d8576b\"],[0.6666666666666666,\"#ed7953\"],[0.7777777777777778,\"#fb9f3a\"],[0.8888888888888888,\"#fdca26\"],[1.0,\"#f0f921\"]],\"type\":\"contour\"}],\"contourcarpet\":[{\"colorbar\":{\"outlinewidth\":0,\"ticks\":\"\"},\"type\":\"contourcarpet\"}],\"heatmap\":[{\"colorbar\":{\"outlinewidth\":0,\"ticks\":\"\"},\"colorscale\":[[0.0,\"#0d0887\"],[0.1111111111111111,\"#46039f\"],[0.2222222222222222,\"#7201a8\"],[0.3333333333333333,\"#9c179e\"],[0.4444444444444444,\"#bd3786\"],[0.5555555555555556,\"#d8576b\"],[0.6666666666666666,\"#ed7953\"],[0.7777777777777778,\"#fb9f3a\"],[0.8888888888888888,\"#fdca26\"],[1.0,\"#f0f921\"]],\"type\":\"heatmap\"}],\"heatmapgl\":[{\"colorbar\":{\"outlinewidth\":0,\"ticks\":\"\"},\"colorscale\":[[0.0,\"#0d0887\"],[0.1111111111111111,\"#46039f\"],[0.2222222222222222,\"#7201a8\"],[0.3333333333333333,\"#9c179e\"],[0.4444444444444444,\"#bd3786\"],[0.5555555555555556,\"#d8576b\"],[0.6666666666666666,\"#ed7953\"],[0.7777777777777778,\"#fb9f3a\"],[0.8888888888888888,\"#fdca26\"],[1.0,\"#f0f921\"]],\"type\":\"heatmapgl\"}],\"histogram\":[{\"marker\":{\"pattern\":{\"fillmode\":\"overlay\",\"size\":10,\"solidity\":0.2}},\"type\":\"histogram\"}],\"histogram2d\":[{\"colorbar\":{\"outlinewidth\":0,\"ticks\":\"\"},\"colorscale\":[[0.0,\"#0d0887\"],[0.1111111111111111,\"#46039f\"],[0.2222222222222222,\"#7201a8\"],[0.3333333333333333,\"#9c179e\"],[0.4444444444444444,\"#bd3786\"],[0.5555555555555556,\"#d8576b\"],[0.6666666666666666,\"#ed7953\"],[0.7777777777777778,\"#fb9f3a\"],[0.8888888888888888,\"#fdca26\"],[1.0,\"#f0f921\"]],\"type\":\"histogram2d\"}],\"histogram2dcontour\":[{\"colorbar\":{\"outlinewidth\":0,\"ticks\":\"\"},\"colorscale\":[[0.0,\"#0d0887\"],[0.1111111111111111,\"#46039f\"],[0.2222222222222222,\"#7201a8\"],[0.3333333333333333,\"#9c179e\"],[0.4444444444444444,\"#bd3786\"],[0.5555555555555556,\"#d8576b\"],[0.6666666666666666,\"#ed7953\"],[0.7777777777777778,\"#fb9f3a\"],[0.8888888888888888,\"#fdca26\"],[1.0,\"#f0f921\"]],\"type\":\"histogram2dcontour\"}],\"mesh3d\":[{\"colorbar\":{\"outlinewidth\":0,\"ticks\":\"\"},\"type\":\"mesh3d\"}],\"parcoords\":[{\"line\":{\"colorbar\":{\"outlinewidth\":0,\"ticks\":\"\"}},\"type\":\"parcoords\"}],\"pie\":[{\"automargin\":true,\"type\":\"pie\"}],\"scatter\":[{\"marker\":{\"colorbar\":{\"outlinewidth\":0,\"ticks\":\"\"}},\"type\":\"scatter\"}],\"scatter3d\":[{\"line\":{\"colorbar\":{\"outlinewidth\":0,\"ticks\":\"\"}},\"marker\":{\"colorbar\":{\"outlinewidth\":0,\"ticks\":\"\"}},\"type\":\"scatter3d\"}],\"scattercarpet\":[{\"marker\":{\"colorbar\":{\"outlinewidth\":0,\"ticks\":\"\"}},\"type\":\"scattercarpet\"}],\"scattergeo\":[{\"marker\":{\"colorbar\":{\"outlinewidth\":0,\"ticks\":\"\"}},\"type\":\"scattergeo\"}],\"scattergl\":[{\"marker\":{\"colorbar\":{\"outlinewidth\":0,\"ticks\":\"\"}},\"type\":\"scattergl\"}],\"scattermapbox\":[{\"marker\":{\"colorbar\":{\"outlinewidth\":0,\"ticks\":\"\"}},\"type\":\"scattermapbox\"}],\"scatterpolar\":[{\"marker\":{\"colorbar\":{\"outlinewidth\":0,\"ticks\":\"\"}},\"type\":\"scatterpolar\"}],\"scatterpolargl\":[{\"marker\":{\"colorbar\":{\"outlinewidth\":0,\"ticks\":\"\"}},\"type\":\"scatterpolargl\"}],\"scatterternary\":[{\"marker\":{\"colorbar\":{\"outlinewidth\":0,\"ticks\":\"\"}},\"type\":\"scatterternary\"}],\"surface\":[{\"colorbar\":{\"outlinewidth\":0,\"ticks\":\"\"},\"colorscale\":[[0.0,\"#0d0887\"],[0.1111111111111111,\"#46039f\"],[0.2222222222222222,\"#7201a8\"],[0.3333333333333333,\"#9c179e\"],[0.4444444444444444,\"#bd3786\"],[0.5555555555555556,\"#d8576b\"],[0.6666666666666666,\"#ed7953\"],[0.7777777777777778,\"#fb9f3a\"],[0.8888888888888888,\"#fdca26\"],[1.0,\"#f0f921\"]],\"type\":\"surface\"}],\"table\":[{\"cells\":{\"fill\":{\"color\":\"#EBF0F8\"},\"line\":{\"color\":\"white\"}},\"header\":{\"fill\":{\"color\":\"#C8D4E3\"},\"line\":{\"color\":\"white\"}},\"type\":\"table\"}]},\"layout\":{\"annotationdefaults\":{\"arrowcolor\":\"#2a3f5f\",\"arrowhead\":0,\"arrowwidth\":1},\"autotypenumbers\":\"strict\",\"coloraxis\":{\"colorbar\":{\"outlinewidth\":0,\"ticks\":\"\"}},\"colorscale\":{\"diverging\":[[0,\"#8e0152\"],[0.1,\"#c51b7d\"],[0.2,\"#de77ae\"],[0.3,\"#f1b6da\"],[0.4,\"#fde0ef\"],[0.5,\"#f7f7f7\"],[0.6,\"#e6f5d0\"],[0.7,\"#b8e186\"],[0.8,\"#7fbc41\"],[0.9,\"#4d9221\"],[1,\"#276419\"]],\"sequential\":[[0.0,\"#0d0887\"],[0.1111111111111111,\"#46039f\"],[0.2222222222222222,\"#7201a8\"],[0.3333333333333333,\"#9c179e\"],[0.4444444444444444,\"#bd3786\"],[0.5555555555555556,\"#d8576b\"],[0.6666666666666666,\"#ed7953\"],[0.7777777777777778,\"#fb9f3a\"],[0.8888888888888888,\"#fdca26\"],[1.0,\"#f0f921\"]],\"sequentialminus\":[[0.0,\"#0d0887\"],[0.1111111111111111,\"#46039f\"],[0.2222222222222222,\"#7201a8\"],[0.3333333333333333,\"#9c179e\"],[0.4444444444444444,\"#bd3786\"],[0.5555555555555556,\"#d8576b\"],[0.6666666666666666,\"#ed7953\"],[0.7777777777777778,\"#fb9f3a\"],[0.8888888888888888,\"#fdca26\"],[1.0,\"#f0f921\"]]},\"colorway\":[\"#636efa\",\"#EF553B\",\"#00cc96\",\"#ab63fa\",\"#FFA15A\",\"#19d3f3\",\"#FF6692\",\"#B6E880\",\"#FF97FF\",\"#FECB52\"],\"font\":{\"color\":\"#2a3f5f\"},\"geo\":{\"bgcolor\":\"white\",\"lakecolor\":\"white\",\"landcolor\":\"#E5ECF6\",\"showlakes\":true,\"showland\":true,\"subunitcolor\":\"white\"},\"hoverlabel\":{\"align\":\"left\"},\"hovermode\":\"closest\",\"mapbox\":{\"style\":\"light\"},\"paper_bgcolor\":\"white\",\"plot_bgcolor\":\"#E5ECF6\",\"polar\":{\"angularaxis\":{\"gridcolor\":\"white\",\"linecolor\":\"white\",\"ticks\":\"\"},\"bgcolor\":\"#E5ECF6\",\"radialaxis\":{\"gridcolor\":\"white\",\"linecolor\":\"white\",\"ticks\":\"\"}},\"scene\":{\"xaxis\":{\"backgroundcolor\":\"#E5ECF6\",\"gridcolor\":\"white\",\"gridwidth\":2,\"linecolor\":\"white\",\"showbackground\":true,\"ticks\":\"\",\"zerolinecolor\":\"white\"},\"yaxis\":{\"backgroundcolor\":\"#E5ECF6\",\"gridcolor\":\"white\",\"gridwidth\":2,\"linecolor\":\"white\",\"showbackground\":true,\"ticks\":\"\",\"zerolinecolor\":\"white\"},\"zaxis\":{\"backgroundcolor\":\"#E5ECF6\",\"gridcolor\":\"white\",\"gridwidth\":2,\"linecolor\":\"white\",\"showbackground\":true,\"ticks\":\"\",\"zerolinecolor\":\"white\"}},\"shapedefaults\":{\"line\":{\"color\":\"#2a3f5f\"}},\"ternary\":{\"aaxis\":{\"gridcolor\":\"white\",\"linecolor\":\"white\",\"ticks\":\"\"},\"baxis\":{\"gridcolor\":\"white\",\"linecolor\":\"white\",\"ticks\":\"\"},\"bgcolor\":\"#E5ECF6\",\"caxis\":{\"gridcolor\":\"white\",\"linecolor\":\"white\",\"ticks\":\"\"}},\"title\":{\"x\":0.05},\"xaxis\":{\"automargin\":true,\"gridcolor\":\"white\",\"linecolor\":\"white\",\"ticks\":\"\",\"title\":{\"standoff\":15},\"zerolinecolor\":\"white\",\"zerolinewidth\":2},\"yaxis\":{\"automargin\":true,\"gridcolor\":\"white\",\"linecolor\":\"white\",\"ticks\":\"\",\"title\":{\"standoff\":15},\"zerolinecolor\":\"white\",\"zerolinewidth\":2}}},\"title\":{\"text\":\"Winner Positions\"},\"width\":550,\"xaxis\":{\"autorange\":false,\"range\":[-2,12.97],\"showgrid\":false,\"zeroline\":false},\"yaxis\":{\"autorange\":false,\"range\":[-6.5,30.28],\"showgrid\":false,\"zeroline\":false}},                        {\"responsive\": true}                    ).then(function(){\n",
       "                            \n",
       "var gd = document.getElementById('cc57e0b3-f4c4-4ed1-99e1-5083b8df5379');\n",
       "var x = new MutationObserver(function (mutations, observer) {{\n",
       "        var display = window.getComputedStyle(gd).display;\n",
       "        if (!display || display === 'none') {{\n",
       "            console.log([gd, 'removed!']);\n",
       "            Plotly.purge(gd);\n",
       "            observer.disconnect();\n",
       "        }}\n",
       "}});\n",
       "\n",
       "// Listen for the removal of the full notebook cells\n",
       "var notebookContainer = gd.closest('#notebook-container');\n",
       "if (notebookContainer) {{\n",
       "    x.observe(notebookContainer, {childList: true});\n",
       "}}\n",
       "\n",
       "// Listen for the clearing of the current output cell\n",
       "var outputEl = gd.closest('.output');\n",
       "if (outputEl) {{\n",
       "    x.observe(outputEl, {childList: true});\n",
       "}}\n",
       "\n",
       "                        })                };                });            </script>        </div>"
      ]
     },
     "metadata": {},
     "output_type": "display_data"
    }
   ],
   "source": [
    "fig.show()"
   ]
  },
  {
   "cell_type": "code",
   "execution_count": 23,
   "id": "3279de63",
   "metadata": {},
   "outputs": [
    {
     "data": {
      "text/html": [
       "<div>\n",
       "<style scoped>\n",
       "    .dataframe tbody tr th:only-of-type {\n",
       "        vertical-align: middle;\n",
       "    }\n",
       "\n",
       "    .dataframe tbody tr th {\n",
       "        vertical-align: top;\n",
       "    }\n",
       "\n",
       "    .dataframe thead th {\n",
       "        text-align: right;\n",
       "    }\n",
       "</style>\n",
       "<table border=\"1\" class=\"dataframe\">\n",
       "  <thead>\n",
       "    <tr style=\"text-align: right;\">\n",
       "      <th></th>\n",
       "      <th>rallyid</th>\n",
       "      <th>server</th>\n",
       "      <th>x</th>\n",
       "      <th>y</th>\n",
       "    </tr>\n",
       "  </thead>\n",
       "  <tbody>\n",
       "    <tr>\n",
       "      <th>0</th>\n",
       "      <td>1</td>\n",
       "      <td>Djokovic</td>\n",
       "      <td>1.86</td>\n",
       "      <td>16.80</td>\n",
       "    </tr>\n",
       "    <tr>\n",
       "      <th>1</th>\n",
       "      <td>3</td>\n",
       "      <td>Djokovic</td>\n",
       "      <td>7.05</td>\n",
       "      <td>16.97</td>\n",
       "    </tr>\n",
       "    <tr>\n",
       "      <th>2</th>\n",
       "      <td>6</td>\n",
       "      <td>Djokovic</td>\n",
       "      <td>8.04</td>\n",
       "      <td>17.80</td>\n",
       "    </tr>\n",
       "    <tr>\n",
       "      <th>3</th>\n",
       "      <td>8</td>\n",
       "      <td>Nadal</td>\n",
       "      <td>4.44</td>\n",
       "      <td>16.24</td>\n",
       "    </tr>\n",
       "    <tr>\n",
       "      <th>4</th>\n",
       "      <td>9</td>\n",
       "      <td>Nadal</td>\n",
       "      <td>5.71</td>\n",
       "      <td>16.40</td>\n",
       "    </tr>\n",
       "  </tbody>\n",
       "</table>\n",
       "</div>"
      ],
      "text/plain": [
       "   rallyid    server     x      y\n",
       "0        1  Djokovic  1.86  16.80\n",
       "1        3  Djokovic  7.05  16.97\n",
       "2        6  Djokovic  8.04  17.80\n",
       "3        8     Nadal  4.44  16.24\n",
       "4        9     Nadal  5.71  16.40"
      ]
     },
     "execution_count": 23,
     "metadata": {},
     "output_type": "execute_result"
    }
   ],
   "source": [
    "serves.head()"
   ]
  },
  {
   "cell_type": "code",
   "execution_count": 24,
   "id": "d1c126ae",
   "metadata": {},
   "outputs": [],
   "source": [
    "serves = serves.dropna()"
   ]
  },
  {
   "cell_type": "code",
   "execution_count": 25,
   "id": "834e6ddb",
   "metadata": {},
   "outputs": [],
   "source": [
    "serves3 = serves.loc[serves['server'] == 'Djokovic']\n",
    "serves2 = serves.loc[serves['server'] == 'Nadal']"
   ]
  },
  {
   "cell_type": "code",
   "execution_count": 26,
   "id": "4737f7f0",
   "metadata": {},
   "outputs": [],
   "source": [
    "height_court = 10.97\n",
    "width_court = 11.89*2\n",
    "service_box = 6.4\n",
    "double_field = 1.37\n",
    "baseline_serviceline = 5.5\n",
    "breite_einzel = 8.23\n",
    "serviceline_net = 6.4\n",
    "colors={'Djokovic': 'IndianRed', 'Nadal' :'DarkTurqoise'}\n",
    "\n",
    "# Create figure\n",
    "fig = go.Figure(\n",
    "    data=[\n",
    "        go.Scatter(x=[height_court, 0], y=[width_court/2, width_court/2],\n",
    "                     mode=\"lines\",\n",
    "                     line=dict(width=2, color=\"white\")),\n",
    "          go.Scatter(x=[0,0, height_court, height_court, 0],\n",
    "                     y=[0,width_court,width_court, 0, 0],\n",
    "                     mode=\"lines\",\n",
    "                     line=dict(width=2, color=\"white\")),\n",
    "          go.Scatter(x=[height_court/2, width_court/2-service_box],\n",
    "                     y=[height_court/2, width_court/2+service_box],\n",
    "                    mode=\"lines\",\n",
    "                    line=dict(width=2, color=\"white\")),\n",
    "          go.Scatter(x=[height_court/2, height_court/2], y=[0, 0 + 0.45],\n",
    "                    mode=\"lines\",\n",
    "                    line=dict(width=2, color=\"white\")),\n",
    "          go.Scatter(x=[height_court/2, height_court/2], y=[width_court, width_court - 0.45],\n",
    "            mode=\"lines\",\n",
    "            line=dict(width=2, color=\"white\")),\n",
    "         go.Scatter(x=[1.37, 1.37], y=[0, width_court],\n",
    "            mode=\"lines\",\n",
    "            line=dict(width=2, color=\"white\")),\n",
    "        go.Scatter(x=[height_court-1.37, height_court-1.37], y=[0, width_court],\n",
    "            mode=\"lines\",\n",
    "            line=dict(width=2, color=\"white\")),\n",
    "        go.Scatter(x=[0+double_field,0+double_field, \n",
    "                      height_court-1.37, height_court-1.37, 0+double_field],\n",
    "                   y=[baseline_serviceline, width_court/2+service_box, \n",
    "                      width_court/2+service_box, baseline_serviceline, baseline_serviceline],\n",
    "            mode=\"lines\",\n",
    "            line=dict(width=2, color=\"white\")),\n",
    "        go.Scatter(x=serves2['x'], y=serves2['y'],mode='markers',\n",
    "                  marker=dict(color='darkturquoise'), name='Nadal'),\n",
    "        go.Scatter(x=serves3['x'], y=serves3['y'],mode='markers',\n",
    "                  marker=dict(color='indianred'), name='Djokovic')\n",
    "    ],\n",
    "    layout=go.Layout(\n",
    "        xaxis=dict(range=[-2, height_court+2], autorange=False, zeroline=False, showgrid=False),\n",
    "        yaxis=dict(range=[-6.5, width_court+6.5], \n",
    "                   autorange=False, zeroline=False, showgrid=False, ),\n",
    "        height=800,\n",
    "        width=550,\n",
    "        title_text=\"Serve Locations\",\n",
    "        plot_bgcolor=\"#5080B0\"\n",
    "))"
   ]
  },
  {
   "cell_type": "code",
   "execution_count": 27,
   "id": "980e4d87",
   "metadata": {},
   "outputs": [
    {
     "data": {
      "application/vnd.plotly.v1+json": {
       "config": {
        "plotlyServerURL": "https://plot.ly"
       },
       "data": [
        {
         "line": {
          "color": "white",
          "width": 2
         },
         "mode": "lines",
         "type": "scatter",
         "x": [
          10.97,
          0
         ],
         "y": [
          11.89,
          11.89
         ]
        },
        {
         "line": {
          "color": "white",
          "width": 2
         },
         "mode": "lines",
         "type": "scatter",
         "x": [
          0,
          0,
          10.97,
          10.97,
          0
         ],
         "y": [
          0,
          23.78,
          23.78,
          0,
          0
         ]
        },
        {
         "line": {
          "color": "white",
          "width": 2
         },
         "mode": "lines",
         "type": "scatter",
         "x": [
          5.485,
          5.49
         ],
         "y": [
          5.485,
          18.29
         ]
        },
        {
         "line": {
          "color": "white",
          "width": 2
         },
         "mode": "lines",
         "type": "scatter",
         "x": [
          5.485,
          5.485
         ],
         "y": [
          0,
          0.45
         ]
        },
        {
         "line": {
          "color": "white",
          "width": 2
         },
         "mode": "lines",
         "type": "scatter",
         "x": [
          5.485,
          5.485
         ],
         "y": [
          23.78,
          23.330000000000002
         ]
        },
        {
         "line": {
          "color": "white",
          "width": 2
         },
         "mode": "lines",
         "type": "scatter",
         "x": [
          1.37,
          1.37
         ],
         "y": [
          0,
          23.78
         ]
        },
        {
         "line": {
          "color": "white",
          "width": 2
         },
         "mode": "lines",
         "type": "scatter",
         "x": [
          9.600000000000001,
          9.600000000000001
         ],
         "y": [
          0,
          23.78
         ]
        },
        {
         "line": {
          "color": "white",
          "width": 2
         },
         "mode": "lines",
         "type": "scatter",
         "x": [
          1.37,
          1.37,
          9.600000000000001,
          9.600000000000001,
          1.37
         ],
         "y": [
          5.5,
          18.29,
          18.29,
          5.5,
          5.5
         ]
        },
        {
         "marker": {
          "color": "darkturquoise"
         },
         "mode": "markers",
         "name": "Nadal",
         "type": "scatter",
         "x": [
          4.44,
          5.71,
          4.66,
          5.83,
          0.98,
          6.68,
          2.77,
          4.27,
          7.55,
          1.01,
          5.03,
          3.07,
          7.98,
          1.16,
          3.19,
          8.4,
          4.53,
          5.88,
          3.68,
          7.76,
          7.08,
          1.83,
          5.3,
          4.13,
          1.63,
          8.69,
          4.63,
          7.35,
          4.91,
          8.08,
          5.24,
          7.76,
          3.14,
          7.34,
          1.6,
          3.95,
          8.08,
          1.46,
          7.63,
          4.37,
          7.45,
          7.71,
          4.86,
          5.65,
          4.38,
          7.73,
          0.89,
          7.25,
          3.67,
          8.57,
          5.04,
          4.78,
          2.13,
          6.25,
          1.74,
          4,
          8.46,
          1.27,
          0.97,
          6.08,
          4.64,
          7.9,
          4.58,
          5.6,
          4.41,
          5.89,
          2.38,
          8.29,
          3.21,
          6.49
         ],
         "y": [
          16.24,
          16.4,
          16.24,
          16.72,
          17.3,
          4.64,
          6.71,
          6.51,
          6.66,
          7.63,
          6.32,
          6.41,
          5.93,
          7.9,
          16.16,
          16.16,
          15.92,
          16.48,
          16.56,
          16,
          6.81,
          8,
          6.36,
          7.48,
          16.26,
          17.43,
          17.09,
          16.26,
          15.54,
          15.54,
          6.79,
          6.49,
          7.48,
          6.44,
          7.91,
          17.35,
          17.01,
          16.18,
          16.01,
          16.01,
          6.54,
          7,
          6.49,
          5.89,
          17.18,
          16.1,
          17.09,
          16.1,
          16.76,
          16.67,
          5.22,
          4.26,
          7.91,
          6.34,
          7.05,
          17.52,
          16.67,
          16.42,
          17.18,
          6.19,
          7.42,
          6.95,
          7,
          7.42,
          16.42,
          16.42,
          17.43,
          15.88,
          16.24,
          16.64
         ]
        },
        {
         "marker": {
          "color": "indianred"
         },
         "mode": "markers",
         "name": "Djokovic",
         "type": "scatter",
         "x": [
          1.86,
          7.05,
          8.04,
          5.58,
          3.87,
          5.14,
          4.53,
          7.15,
          8.23,
          2.61,
          5.31,
          1.86,
          1.4,
          4.74,
          1.68,
          5.08,
          0.86,
          2.05,
          6.16,
          3.93,
          5.13,
          5.9,
          2.89,
          5,
          4.92,
          4.65,
          1.24,
          8.25,
          1.24,
          5.42,
          0.93,
          4.94,
          1.63,
          5.2,
          1.4,
          4.86,
          1.79,
          4.54,
          1.46,
          2.74,
          5.51,
          4.19,
          8.41,
          8.19,
          2.04,
          8.2,
          8.14,
          3.5,
          4.91,
          0.95,
          5.28,
          1.3,
          5.07,
          1.05,
          8.07,
          7.69,
          4.46,
          4.65,
          4.65,
          4.43,
          4.82,
          8.1,
          6.08
         ],
         "y": [
          16.8,
          16.97,
          17.8,
          5.41,
          10.83,
          6.51,
          17.89,
          17.46,
          6.96,
          11.58,
          5.79,
          8.77,
          16.64,
          15.53,
          16.32,
          16.8,
          16,
          16.84,
          15.85,
          16.26,
          16.67,
          5.94,
          9.56,
          5.94,
          10.41,
          6.85,
          16.76,
          16.67,
          16.18,
          16.51,
          15.94,
          16.1,
          17.52,
          16.59,
          15.77,
          15.46,
          8.97,
          7.96,
          8.41,
          17.52,
          17.35,
          16.51,
          17.26,
          6.79,
          10.23,
          8.13,
          6.14,
          17.87,
          16.92,
          16.84,
          16.1,
          16.26,
          16.76,
          15.3,
          17.18,
          7.11,
          8.55,
          6.74,
          8.86,
          6.95,
          8.29,
          7.16,
          7.85
         ]
        }
       ],
       "layout": {
        "height": 800,
        "plot_bgcolor": "#5080B0",
        "template": {
         "data": {
          "bar": [
           {
            "error_x": {
             "color": "#2a3f5f"
            },
            "error_y": {
             "color": "#2a3f5f"
            },
            "marker": {
             "line": {
              "color": "#E5ECF6",
              "width": 0.5
             },
             "pattern": {
              "fillmode": "overlay",
              "size": 10,
              "solidity": 0.2
             }
            },
            "type": "bar"
           }
          ],
          "barpolar": [
           {
            "marker": {
             "line": {
              "color": "#E5ECF6",
              "width": 0.5
             },
             "pattern": {
              "fillmode": "overlay",
              "size": 10,
              "solidity": 0.2
             }
            },
            "type": "barpolar"
           }
          ],
          "carpet": [
           {
            "aaxis": {
             "endlinecolor": "#2a3f5f",
             "gridcolor": "white",
             "linecolor": "white",
             "minorgridcolor": "white",
             "startlinecolor": "#2a3f5f"
            },
            "baxis": {
             "endlinecolor": "#2a3f5f",
             "gridcolor": "white",
             "linecolor": "white",
             "minorgridcolor": "white",
             "startlinecolor": "#2a3f5f"
            },
            "type": "carpet"
           }
          ],
          "choropleth": [
           {
            "colorbar": {
             "outlinewidth": 0,
             "ticks": ""
            },
            "type": "choropleth"
           }
          ],
          "contour": [
           {
            "colorbar": {
             "outlinewidth": 0,
             "ticks": ""
            },
            "colorscale": [
             [
              0,
              "#0d0887"
             ],
             [
              0.1111111111111111,
              "#46039f"
             ],
             [
              0.2222222222222222,
              "#7201a8"
             ],
             [
              0.3333333333333333,
              "#9c179e"
             ],
             [
              0.4444444444444444,
              "#bd3786"
             ],
             [
              0.5555555555555556,
              "#d8576b"
             ],
             [
              0.6666666666666666,
              "#ed7953"
             ],
             [
              0.7777777777777778,
              "#fb9f3a"
             ],
             [
              0.8888888888888888,
              "#fdca26"
             ],
             [
              1,
              "#f0f921"
             ]
            ],
            "type": "contour"
           }
          ],
          "contourcarpet": [
           {
            "colorbar": {
             "outlinewidth": 0,
             "ticks": ""
            },
            "type": "contourcarpet"
           }
          ],
          "heatmap": [
           {
            "colorbar": {
             "outlinewidth": 0,
             "ticks": ""
            },
            "colorscale": [
             [
              0,
              "#0d0887"
             ],
             [
              0.1111111111111111,
              "#46039f"
             ],
             [
              0.2222222222222222,
              "#7201a8"
             ],
             [
              0.3333333333333333,
              "#9c179e"
             ],
             [
              0.4444444444444444,
              "#bd3786"
             ],
             [
              0.5555555555555556,
              "#d8576b"
             ],
             [
              0.6666666666666666,
              "#ed7953"
             ],
             [
              0.7777777777777778,
              "#fb9f3a"
             ],
             [
              0.8888888888888888,
              "#fdca26"
             ],
             [
              1,
              "#f0f921"
             ]
            ],
            "type": "heatmap"
           }
          ],
          "heatmapgl": [
           {
            "colorbar": {
             "outlinewidth": 0,
             "ticks": ""
            },
            "colorscale": [
             [
              0,
              "#0d0887"
             ],
             [
              0.1111111111111111,
              "#46039f"
             ],
             [
              0.2222222222222222,
              "#7201a8"
             ],
             [
              0.3333333333333333,
              "#9c179e"
             ],
             [
              0.4444444444444444,
              "#bd3786"
             ],
             [
              0.5555555555555556,
              "#d8576b"
             ],
             [
              0.6666666666666666,
              "#ed7953"
             ],
             [
              0.7777777777777778,
              "#fb9f3a"
             ],
             [
              0.8888888888888888,
              "#fdca26"
             ],
             [
              1,
              "#f0f921"
             ]
            ],
            "type": "heatmapgl"
           }
          ],
          "histogram": [
           {
            "marker": {
             "pattern": {
              "fillmode": "overlay",
              "size": 10,
              "solidity": 0.2
             }
            },
            "type": "histogram"
           }
          ],
          "histogram2d": [
           {
            "colorbar": {
             "outlinewidth": 0,
             "ticks": ""
            },
            "colorscale": [
             [
              0,
              "#0d0887"
             ],
             [
              0.1111111111111111,
              "#46039f"
             ],
             [
              0.2222222222222222,
              "#7201a8"
             ],
             [
              0.3333333333333333,
              "#9c179e"
             ],
             [
              0.4444444444444444,
              "#bd3786"
             ],
             [
              0.5555555555555556,
              "#d8576b"
             ],
             [
              0.6666666666666666,
              "#ed7953"
             ],
             [
              0.7777777777777778,
              "#fb9f3a"
             ],
             [
              0.8888888888888888,
              "#fdca26"
             ],
             [
              1,
              "#f0f921"
             ]
            ],
            "type": "histogram2d"
           }
          ],
          "histogram2dcontour": [
           {
            "colorbar": {
             "outlinewidth": 0,
             "ticks": ""
            },
            "colorscale": [
             [
              0,
              "#0d0887"
             ],
             [
              0.1111111111111111,
              "#46039f"
             ],
             [
              0.2222222222222222,
              "#7201a8"
             ],
             [
              0.3333333333333333,
              "#9c179e"
             ],
             [
              0.4444444444444444,
              "#bd3786"
             ],
             [
              0.5555555555555556,
              "#d8576b"
             ],
             [
              0.6666666666666666,
              "#ed7953"
             ],
             [
              0.7777777777777778,
              "#fb9f3a"
             ],
             [
              0.8888888888888888,
              "#fdca26"
             ],
             [
              1,
              "#f0f921"
             ]
            ],
            "type": "histogram2dcontour"
           }
          ],
          "mesh3d": [
           {
            "colorbar": {
             "outlinewidth": 0,
             "ticks": ""
            },
            "type": "mesh3d"
           }
          ],
          "parcoords": [
           {
            "line": {
             "colorbar": {
              "outlinewidth": 0,
              "ticks": ""
             }
            },
            "type": "parcoords"
           }
          ],
          "pie": [
           {
            "automargin": true,
            "type": "pie"
           }
          ],
          "scatter": [
           {
            "marker": {
             "colorbar": {
              "outlinewidth": 0,
              "ticks": ""
             }
            },
            "type": "scatter"
           }
          ],
          "scatter3d": [
           {
            "line": {
             "colorbar": {
              "outlinewidth": 0,
              "ticks": ""
             }
            },
            "marker": {
             "colorbar": {
              "outlinewidth": 0,
              "ticks": ""
             }
            },
            "type": "scatter3d"
           }
          ],
          "scattercarpet": [
           {
            "marker": {
             "colorbar": {
              "outlinewidth": 0,
              "ticks": ""
             }
            },
            "type": "scattercarpet"
           }
          ],
          "scattergeo": [
           {
            "marker": {
             "colorbar": {
              "outlinewidth": 0,
              "ticks": ""
             }
            },
            "type": "scattergeo"
           }
          ],
          "scattergl": [
           {
            "marker": {
             "colorbar": {
              "outlinewidth": 0,
              "ticks": ""
             }
            },
            "type": "scattergl"
           }
          ],
          "scattermapbox": [
           {
            "marker": {
             "colorbar": {
              "outlinewidth": 0,
              "ticks": ""
             }
            },
            "type": "scattermapbox"
           }
          ],
          "scatterpolar": [
           {
            "marker": {
             "colorbar": {
              "outlinewidth": 0,
              "ticks": ""
             }
            },
            "type": "scatterpolar"
           }
          ],
          "scatterpolargl": [
           {
            "marker": {
             "colorbar": {
              "outlinewidth": 0,
              "ticks": ""
             }
            },
            "type": "scatterpolargl"
           }
          ],
          "scatterternary": [
           {
            "marker": {
             "colorbar": {
              "outlinewidth": 0,
              "ticks": ""
             }
            },
            "type": "scatterternary"
           }
          ],
          "surface": [
           {
            "colorbar": {
             "outlinewidth": 0,
             "ticks": ""
            },
            "colorscale": [
             [
              0,
              "#0d0887"
             ],
             [
              0.1111111111111111,
              "#46039f"
             ],
             [
              0.2222222222222222,
              "#7201a8"
             ],
             [
              0.3333333333333333,
              "#9c179e"
             ],
             [
              0.4444444444444444,
              "#bd3786"
             ],
             [
              0.5555555555555556,
              "#d8576b"
             ],
             [
              0.6666666666666666,
              "#ed7953"
             ],
             [
              0.7777777777777778,
              "#fb9f3a"
             ],
             [
              0.8888888888888888,
              "#fdca26"
             ],
             [
              1,
              "#f0f921"
             ]
            ],
            "type": "surface"
           }
          ],
          "table": [
           {
            "cells": {
             "fill": {
              "color": "#EBF0F8"
             },
             "line": {
              "color": "white"
             }
            },
            "header": {
             "fill": {
              "color": "#C8D4E3"
             },
             "line": {
              "color": "white"
             }
            },
            "type": "table"
           }
          ]
         },
         "layout": {
          "annotationdefaults": {
           "arrowcolor": "#2a3f5f",
           "arrowhead": 0,
           "arrowwidth": 1
          },
          "autotypenumbers": "strict",
          "coloraxis": {
           "colorbar": {
            "outlinewidth": 0,
            "ticks": ""
           }
          },
          "colorscale": {
           "diverging": [
            [
             0,
             "#8e0152"
            ],
            [
             0.1,
             "#c51b7d"
            ],
            [
             0.2,
             "#de77ae"
            ],
            [
             0.3,
             "#f1b6da"
            ],
            [
             0.4,
             "#fde0ef"
            ],
            [
             0.5,
             "#f7f7f7"
            ],
            [
             0.6,
             "#e6f5d0"
            ],
            [
             0.7,
             "#b8e186"
            ],
            [
             0.8,
             "#7fbc41"
            ],
            [
             0.9,
             "#4d9221"
            ],
            [
             1,
             "#276419"
            ]
           ],
           "sequential": [
            [
             0,
             "#0d0887"
            ],
            [
             0.1111111111111111,
             "#46039f"
            ],
            [
             0.2222222222222222,
             "#7201a8"
            ],
            [
             0.3333333333333333,
             "#9c179e"
            ],
            [
             0.4444444444444444,
             "#bd3786"
            ],
            [
             0.5555555555555556,
             "#d8576b"
            ],
            [
             0.6666666666666666,
             "#ed7953"
            ],
            [
             0.7777777777777778,
             "#fb9f3a"
            ],
            [
             0.8888888888888888,
             "#fdca26"
            ],
            [
             1,
             "#f0f921"
            ]
           ],
           "sequentialminus": [
            [
             0,
             "#0d0887"
            ],
            [
             0.1111111111111111,
             "#46039f"
            ],
            [
             0.2222222222222222,
             "#7201a8"
            ],
            [
             0.3333333333333333,
             "#9c179e"
            ],
            [
             0.4444444444444444,
             "#bd3786"
            ],
            [
             0.5555555555555556,
             "#d8576b"
            ],
            [
             0.6666666666666666,
             "#ed7953"
            ],
            [
             0.7777777777777778,
             "#fb9f3a"
            ],
            [
             0.8888888888888888,
             "#fdca26"
            ],
            [
             1,
             "#f0f921"
            ]
           ]
          },
          "colorway": [
           "#636efa",
           "#EF553B",
           "#00cc96",
           "#ab63fa",
           "#FFA15A",
           "#19d3f3",
           "#FF6692",
           "#B6E880",
           "#FF97FF",
           "#FECB52"
          ],
          "font": {
           "color": "#2a3f5f"
          },
          "geo": {
           "bgcolor": "white",
           "lakecolor": "white",
           "landcolor": "#E5ECF6",
           "showlakes": true,
           "showland": true,
           "subunitcolor": "white"
          },
          "hoverlabel": {
           "align": "left"
          },
          "hovermode": "closest",
          "mapbox": {
           "style": "light"
          },
          "paper_bgcolor": "white",
          "plot_bgcolor": "#E5ECF6",
          "polar": {
           "angularaxis": {
            "gridcolor": "white",
            "linecolor": "white",
            "ticks": ""
           },
           "bgcolor": "#E5ECF6",
           "radialaxis": {
            "gridcolor": "white",
            "linecolor": "white",
            "ticks": ""
           }
          },
          "scene": {
           "xaxis": {
            "backgroundcolor": "#E5ECF6",
            "gridcolor": "white",
            "gridwidth": 2,
            "linecolor": "white",
            "showbackground": true,
            "ticks": "",
            "zerolinecolor": "white"
           },
           "yaxis": {
            "backgroundcolor": "#E5ECF6",
            "gridcolor": "white",
            "gridwidth": 2,
            "linecolor": "white",
            "showbackground": true,
            "ticks": "",
            "zerolinecolor": "white"
           },
           "zaxis": {
            "backgroundcolor": "#E5ECF6",
            "gridcolor": "white",
            "gridwidth": 2,
            "linecolor": "white",
            "showbackground": true,
            "ticks": "",
            "zerolinecolor": "white"
           }
          },
          "shapedefaults": {
           "line": {
            "color": "#2a3f5f"
           }
          },
          "ternary": {
           "aaxis": {
            "gridcolor": "white",
            "linecolor": "white",
            "ticks": ""
           },
           "baxis": {
            "gridcolor": "white",
            "linecolor": "white",
            "ticks": ""
           },
           "bgcolor": "#E5ECF6",
           "caxis": {
            "gridcolor": "white",
            "linecolor": "white",
            "ticks": ""
           }
          },
          "title": {
           "x": 0.05
          },
          "xaxis": {
           "automargin": true,
           "gridcolor": "white",
           "linecolor": "white",
           "ticks": "",
           "title": {
            "standoff": 15
           },
           "zerolinecolor": "white",
           "zerolinewidth": 2
          },
          "yaxis": {
           "automargin": true,
           "gridcolor": "white",
           "linecolor": "white",
           "ticks": "",
           "title": {
            "standoff": 15
           },
           "zerolinecolor": "white",
           "zerolinewidth": 2
          }
         }
        },
        "title": {
         "text": "Serve Locations"
        },
        "width": 550,
        "xaxis": {
         "autorange": false,
         "range": [
          -2,
          12.97
         ],
         "showgrid": false,
         "zeroline": false
        },
        "yaxis": {
         "autorange": false,
         "range": [
          -6.5,
          30.28
         ],
         "showgrid": false,
         "zeroline": false
        }
       }
      },
      "text/html": [
       "<div>                            <div id=\"fc82f7f3-ee6a-4aff-8693-a22fe5718667\" class=\"plotly-graph-div\" style=\"height:800px; width:550px;\"></div>            <script type=\"text/javascript\">                require([\"plotly\"], function(Plotly) {                    window.PLOTLYENV=window.PLOTLYENV || {};                                    if (document.getElementById(\"fc82f7f3-ee6a-4aff-8693-a22fe5718667\")) {                    Plotly.newPlot(                        \"fc82f7f3-ee6a-4aff-8693-a22fe5718667\",                        [{\"line\":{\"color\":\"white\",\"width\":2},\"mode\":\"lines\",\"type\":\"scatter\",\"x\":[10.97,0],\"y\":[11.89,11.89]},{\"line\":{\"color\":\"white\",\"width\":2},\"mode\":\"lines\",\"type\":\"scatter\",\"x\":[0,0,10.97,10.97,0],\"y\":[0,23.78,23.78,0,0]},{\"line\":{\"color\":\"white\",\"width\":2},\"mode\":\"lines\",\"type\":\"scatter\",\"x\":[5.485,5.49],\"y\":[5.485,18.29]},{\"line\":{\"color\":\"white\",\"width\":2},\"mode\":\"lines\",\"type\":\"scatter\",\"x\":[5.485,5.485],\"y\":[0,0.45]},{\"line\":{\"color\":\"white\",\"width\":2},\"mode\":\"lines\",\"type\":\"scatter\",\"x\":[5.485,5.485],\"y\":[23.78,23.330000000000002]},{\"line\":{\"color\":\"white\",\"width\":2},\"mode\":\"lines\",\"type\":\"scatter\",\"x\":[1.37,1.37],\"y\":[0,23.78]},{\"line\":{\"color\":\"white\",\"width\":2},\"mode\":\"lines\",\"type\":\"scatter\",\"x\":[9.600000000000001,9.600000000000001],\"y\":[0,23.78]},{\"line\":{\"color\":\"white\",\"width\":2},\"mode\":\"lines\",\"type\":\"scatter\",\"x\":[1.37,1.37,9.600000000000001,9.600000000000001,1.37],\"y\":[5.5,18.29,18.29,5.5,5.5]},{\"marker\":{\"color\":\"darkturquoise\"},\"mode\":\"markers\",\"name\":\"Nadal\",\"type\":\"scatter\",\"x\":[4.44,5.71,4.66,5.83,0.98,6.68,2.77,4.27,7.55,1.01,5.03,3.07,7.98,1.16,3.19,8.4,4.53,5.88,3.68,7.76,7.08,1.83,5.3,4.13,1.63,8.69,4.63,7.35,4.91,8.08,5.24,7.76,3.14,7.34,1.6,3.95,8.08,1.46,7.63,4.37,7.45,7.71,4.86,5.65,4.38,7.73,0.89,7.25,3.67,8.57,5.04,4.78,2.13,6.25,1.74,4.0,8.46,1.27,0.97,6.08,4.64,7.9,4.58,5.6,4.41,5.89,2.38,8.29,3.21,6.49],\"y\":[16.24,16.4,16.24,16.72,17.3,4.64,6.71,6.51,6.66,7.63,6.32,6.41,5.93,7.9,16.16,16.16,15.92,16.48,16.56,16.0,6.81,8.0,6.36,7.48,16.26,17.43,17.09,16.26,15.54,15.54,6.79,6.49,7.48,6.44,7.91,17.35,17.01,16.18,16.01,16.01,6.54,7.0,6.49,5.89,17.18,16.1,17.09,16.1,16.76,16.67,5.22,4.26,7.91,6.34,7.05,17.52,16.67,16.42,17.18,6.19,7.42,6.95,7.0,7.42,16.42,16.42,17.43,15.88,16.24,16.64]},{\"marker\":{\"color\":\"indianred\"},\"mode\":\"markers\",\"name\":\"Djokovic\",\"type\":\"scatter\",\"x\":[1.86,7.05,8.04,5.58,3.87,5.14,4.53,7.15,8.23,2.61,5.31,1.86,1.4,4.74,1.68,5.08,0.86,2.05,6.16,3.93,5.13,5.9,2.89,5.0,4.92,4.65,1.24,8.25,1.24,5.42,0.93,4.94,1.63,5.2,1.4,4.86,1.79,4.54,1.46,2.74,5.51,4.19,8.41,8.19,2.04,8.2,8.14,3.5,4.91,0.95,5.28,1.3,5.07,1.05,8.07,7.69,4.46,4.65,4.65,4.43,4.82,8.1,6.08],\"y\":[16.8,16.97,17.8,5.41,10.83,6.51,17.89,17.46,6.96,11.58,5.79,8.77,16.64,15.53,16.32,16.8,16.0,16.84,15.85,16.26,16.67,5.94,9.56,5.94,10.41,6.85,16.76,16.67,16.18,16.51,15.94,16.1,17.52,16.59,15.77,15.46,8.97,7.96,8.41,17.52,17.35,16.51,17.26,6.79,10.23,8.13,6.14,17.87,16.92,16.84,16.1,16.26,16.76,15.3,17.18,7.11,8.55,6.74,8.86,6.95,8.29,7.16,7.85]}],                        {\"height\":800,\"plot_bgcolor\":\"#5080B0\",\"template\":{\"data\":{\"bar\":[{\"error_x\":{\"color\":\"#2a3f5f\"},\"error_y\":{\"color\":\"#2a3f5f\"},\"marker\":{\"line\":{\"color\":\"#E5ECF6\",\"width\":0.5},\"pattern\":{\"fillmode\":\"overlay\",\"size\":10,\"solidity\":0.2}},\"type\":\"bar\"}],\"barpolar\":[{\"marker\":{\"line\":{\"color\":\"#E5ECF6\",\"width\":0.5},\"pattern\":{\"fillmode\":\"overlay\",\"size\":10,\"solidity\":0.2}},\"type\":\"barpolar\"}],\"carpet\":[{\"aaxis\":{\"endlinecolor\":\"#2a3f5f\",\"gridcolor\":\"white\",\"linecolor\":\"white\",\"minorgridcolor\":\"white\",\"startlinecolor\":\"#2a3f5f\"},\"baxis\":{\"endlinecolor\":\"#2a3f5f\",\"gridcolor\":\"white\",\"linecolor\":\"white\",\"minorgridcolor\":\"white\",\"startlinecolor\":\"#2a3f5f\"},\"type\":\"carpet\"}],\"choropleth\":[{\"colorbar\":{\"outlinewidth\":0,\"ticks\":\"\"},\"type\":\"choropleth\"}],\"contour\":[{\"colorbar\":{\"outlinewidth\":0,\"ticks\":\"\"},\"colorscale\":[[0.0,\"#0d0887\"],[0.1111111111111111,\"#46039f\"],[0.2222222222222222,\"#7201a8\"],[0.3333333333333333,\"#9c179e\"],[0.4444444444444444,\"#bd3786\"],[0.5555555555555556,\"#d8576b\"],[0.6666666666666666,\"#ed7953\"],[0.7777777777777778,\"#fb9f3a\"],[0.8888888888888888,\"#fdca26\"],[1.0,\"#f0f921\"]],\"type\":\"contour\"}],\"contourcarpet\":[{\"colorbar\":{\"outlinewidth\":0,\"ticks\":\"\"},\"type\":\"contourcarpet\"}],\"heatmap\":[{\"colorbar\":{\"outlinewidth\":0,\"ticks\":\"\"},\"colorscale\":[[0.0,\"#0d0887\"],[0.1111111111111111,\"#46039f\"],[0.2222222222222222,\"#7201a8\"],[0.3333333333333333,\"#9c179e\"],[0.4444444444444444,\"#bd3786\"],[0.5555555555555556,\"#d8576b\"],[0.6666666666666666,\"#ed7953\"],[0.7777777777777778,\"#fb9f3a\"],[0.8888888888888888,\"#fdca26\"],[1.0,\"#f0f921\"]],\"type\":\"heatmap\"}],\"heatmapgl\":[{\"colorbar\":{\"outlinewidth\":0,\"ticks\":\"\"},\"colorscale\":[[0.0,\"#0d0887\"],[0.1111111111111111,\"#46039f\"],[0.2222222222222222,\"#7201a8\"],[0.3333333333333333,\"#9c179e\"],[0.4444444444444444,\"#bd3786\"],[0.5555555555555556,\"#d8576b\"],[0.6666666666666666,\"#ed7953\"],[0.7777777777777778,\"#fb9f3a\"],[0.8888888888888888,\"#fdca26\"],[1.0,\"#f0f921\"]],\"type\":\"heatmapgl\"}],\"histogram\":[{\"marker\":{\"pattern\":{\"fillmode\":\"overlay\",\"size\":10,\"solidity\":0.2}},\"type\":\"histogram\"}],\"histogram2d\":[{\"colorbar\":{\"outlinewidth\":0,\"ticks\":\"\"},\"colorscale\":[[0.0,\"#0d0887\"],[0.1111111111111111,\"#46039f\"],[0.2222222222222222,\"#7201a8\"],[0.3333333333333333,\"#9c179e\"],[0.4444444444444444,\"#bd3786\"],[0.5555555555555556,\"#d8576b\"],[0.6666666666666666,\"#ed7953\"],[0.7777777777777778,\"#fb9f3a\"],[0.8888888888888888,\"#fdca26\"],[1.0,\"#f0f921\"]],\"type\":\"histogram2d\"}],\"histogram2dcontour\":[{\"colorbar\":{\"outlinewidth\":0,\"ticks\":\"\"},\"colorscale\":[[0.0,\"#0d0887\"],[0.1111111111111111,\"#46039f\"],[0.2222222222222222,\"#7201a8\"],[0.3333333333333333,\"#9c179e\"],[0.4444444444444444,\"#bd3786\"],[0.5555555555555556,\"#d8576b\"],[0.6666666666666666,\"#ed7953\"],[0.7777777777777778,\"#fb9f3a\"],[0.8888888888888888,\"#fdca26\"],[1.0,\"#f0f921\"]],\"type\":\"histogram2dcontour\"}],\"mesh3d\":[{\"colorbar\":{\"outlinewidth\":0,\"ticks\":\"\"},\"type\":\"mesh3d\"}],\"parcoords\":[{\"line\":{\"colorbar\":{\"outlinewidth\":0,\"ticks\":\"\"}},\"type\":\"parcoords\"}],\"pie\":[{\"automargin\":true,\"type\":\"pie\"}],\"scatter\":[{\"marker\":{\"colorbar\":{\"outlinewidth\":0,\"ticks\":\"\"}},\"type\":\"scatter\"}],\"scatter3d\":[{\"line\":{\"colorbar\":{\"outlinewidth\":0,\"ticks\":\"\"}},\"marker\":{\"colorbar\":{\"outlinewidth\":0,\"ticks\":\"\"}},\"type\":\"scatter3d\"}],\"scattercarpet\":[{\"marker\":{\"colorbar\":{\"outlinewidth\":0,\"ticks\":\"\"}},\"type\":\"scattercarpet\"}],\"scattergeo\":[{\"marker\":{\"colorbar\":{\"outlinewidth\":0,\"ticks\":\"\"}},\"type\":\"scattergeo\"}],\"scattergl\":[{\"marker\":{\"colorbar\":{\"outlinewidth\":0,\"ticks\":\"\"}},\"type\":\"scattergl\"}],\"scattermapbox\":[{\"marker\":{\"colorbar\":{\"outlinewidth\":0,\"ticks\":\"\"}},\"type\":\"scattermapbox\"}],\"scatterpolar\":[{\"marker\":{\"colorbar\":{\"outlinewidth\":0,\"ticks\":\"\"}},\"type\":\"scatterpolar\"}],\"scatterpolargl\":[{\"marker\":{\"colorbar\":{\"outlinewidth\":0,\"ticks\":\"\"}},\"type\":\"scatterpolargl\"}],\"scatterternary\":[{\"marker\":{\"colorbar\":{\"outlinewidth\":0,\"ticks\":\"\"}},\"type\":\"scatterternary\"}],\"surface\":[{\"colorbar\":{\"outlinewidth\":0,\"ticks\":\"\"},\"colorscale\":[[0.0,\"#0d0887\"],[0.1111111111111111,\"#46039f\"],[0.2222222222222222,\"#7201a8\"],[0.3333333333333333,\"#9c179e\"],[0.4444444444444444,\"#bd3786\"],[0.5555555555555556,\"#d8576b\"],[0.6666666666666666,\"#ed7953\"],[0.7777777777777778,\"#fb9f3a\"],[0.8888888888888888,\"#fdca26\"],[1.0,\"#f0f921\"]],\"type\":\"surface\"}],\"table\":[{\"cells\":{\"fill\":{\"color\":\"#EBF0F8\"},\"line\":{\"color\":\"white\"}},\"header\":{\"fill\":{\"color\":\"#C8D4E3\"},\"line\":{\"color\":\"white\"}},\"type\":\"table\"}]},\"layout\":{\"annotationdefaults\":{\"arrowcolor\":\"#2a3f5f\",\"arrowhead\":0,\"arrowwidth\":1},\"autotypenumbers\":\"strict\",\"coloraxis\":{\"colorbar\":{\"outlinewidth\":0,\"ticks\":\"\"}},\"colorscale\":{\"diverging\":[[0,\"#8e0152\"],[0.1,\"#c51b7d\"],[0.2,\"#de77ae\"],[0.3,\"#f1b6da\"],[0.4,\"#fde0ef\"],[0.5,\"#f7f7f7\"],[0.6,\"#e6f5d0\"],[0.7,\"#b8e186\"],[0.8,\"#7fbc41\"],[0.9,\"#4d9221\"],[1,\"#276419\"]],\"sequential\":[[0.0,\"#0d0887\"],[0.1111111111111111,\"#46039f\"],[0.2222222222222222,\"#7201a8\"],[0.3333333333333333,\"#9c179e\"],[0.4444444444444444,\"#bd3786\"],[0.5555555555555556,\"#d8576b\"],[0.6666666666666666,\"#ed7953\"],[0.7777777777777778,\"#fb9f3a\"],[0.8888888888888888,\"#fdca26\"],[1.0,\"#f0f921\"]],\"sequentialminus\":[[0.0,\"#0d0887\"],[0.1111111111111111,\"#46039f\"],[0.2222222222222222,\"#7201a8\"],[0.3333333333333333,\"#9c179e\"],[0.4444444444444444,\"#bd3786\"],[0.5555555555555556,\"#d8576b\"],[0.6666666666666666,\"#ed7953\"],[0.7777777777777778,\"#fb9f3a\"],[0.8888888888888888,\"#fdca26\"],[1.0,\"#f0f921\"]]},\"colorway\":[\"#636efa\",\"#EF553B\",\"#00cc96\",\"#ab63fa\",\"#FFA15A\",\"#19d3f3\",\"#FF6692\",\"#B6E880\",\"#FF97FF\",\"#FECB52\"],\"font\":{\"color\":\"#2a3f5f\"},\"geo\":{\"bgcolor\":\"white\",\"lakecolor\":\"white\",\"landcolor\":\"#E5ECF6\",\"showlakes\":true,\"showland\":true,\"subunitcolor\":\"white\"},\"hoverlabel\":{\"align\":\"left\"},\"hovermode\":\"closest\",\"mapbox\":{\"style\":\"light\"},\"paper_bgcolor\":\"white\",\"plot_bgcolor\":\"#E5ECF6\",\"polar\":{\"angularaxis\":{\"gridcolor\":\"white\",\"linecolor\":\"white\",\"ticks\":\"\"},\"bgcolor\":\"#E5ECF6\",\"radialaxis\":{\"gridcolor\":\"white\",\"linecolor\":\"white\",\"ticks\":\"\"}},\"scene\":{\"xaxis\":{\"backgroundcolor\":\"#E5ECF6\",\"gridcolor\":\"white\",\"gridwidth\":2,\"linecolor\":\"white\",\"showbackground\":true,\"ticks\":\"\",\"zerolinecolor\":\"white\"},\"yaxis\":{\"backgroundcolor\":\"#E5ECF6\",\"gridcolor\":\"white\",\"gridwidth\":2,\"linecolor\":\"white\",\"showbackground\":true,\"ticks\":\"\",\"zerolinecolor\":\"white\"},\"zaxis\":{\"backgroundcolor\":\"#E5ECF6\",\"gridcolor\":\"white\",\"gridwidth\":2,\"linecolor\":\"white\",\"showbackground\":true,\"ticks\":\"\",\"zerolinecolor\":\"white\"}},\"shapedefaults\":{\"line\":{\"color\":\"#2a3f5f\"}},\"ternary\":{\"aaxis\":{\"gridcolor\":\"white\",\"linecolor\":\"white\",\"ticks\":\"\"},\"baxis\":{\"gridcolor\":\"white\",\"linecolor\":\"white\",\"ticks\":\"\"},\"bgcolor\":\"#E5ECF6\",\"caxis\":{\"gridcolor\":\"white\",\"linecolor\":\"white\",\"ticks\":\"\"}},\"title\":{\"x\":0.05},\"xaxis\":{\"automargin\":true,\"gridcolor\":\"white\",\"linecolor\":\"white\",\"ticks\":\"\",\"title\":{\"standoff\":15},\"zerolinecolor\":\"white\",\"zerolinewidth\":2},\"yaxis\":{\"automargin\":true,\"gridcolor\":\"white\",\"linecolor\":\"white\",\"ticks\":\"\",\"title\":{\"standoff\":15},\"zerolinecolor\":\"white\",\"zerolinewidth\":2}}},\"title\":{\"text\":\"Serve Locations\"},\"width\":550,\"xaxis\":{\"autorange\":false,\"range\":[-2,12.97],\"showgrid\":false,\"zeroline\":false},\"yaxis\":{\"autorange\":false,\"range\":[-6.5,30.28],\"showgrid\":false,\"zeroline\":false}},                        {\"responsive\": true}                    ).then(function(){\n",
       "                            \n",
       "var gd = document.getElementById('fc82f7f3-ee6a-4aff-8693-a22fe5718667');\n",
       "var x = new MutationObserver(function (mutations, observer) {{\n",
       "        var display = window.getComputedStyle(gd).display;\n",
       "        if (!display || display === 'none') {{\n",
       "            console.log([gd, 'removed!']);\n",
       "            Plotly.purge(gd);\n",
       "            observer.disconnect();\n",
       "        }}\n",
       "}});\n",
       "\n",
       "// Listen for the removal of the full notebook cells\n",
       "var notebookContainer = gd.closest('#notebook-container');\n",
       "if (notebookContainer) {{\n",
       "    x.observe(notebookContainer, {childList: true});\n",
       "}}\n",
       "\n",
       "// Listen for the clearing of the current output cell\n",
       "var outputEl = gd.closest('.output');\n",
       "if (outputEl) {{\n",
       "    x.observe(outputEl, {childList: true});\n",
       "}}\n",
       "\n",
       "                        })                };                });            </script>        </div>"
      ]
     },
     "metadata": {},
     "output_type": "display_data"
    }
   ],
   "source": [
    "fig.show()"
   ]
  },
  {
   "cell_type": "code",
   "execution_count": 28,
   "id": "ba98c7a1",
   "metadata": {},
   "outputs": [
    {
     "data": {
      "application/vnd.plotly.v1+json": {
       "config": {
        "linkText": "Export to plot.ly",
        "plotlyServerURL": "https://plot.ly",
        "showLink": true
       },
       "data": [
        {
         "marker": {
          "color": "rgba(226, 74, 51, 0.6)",
          "line": {
           "color": "rgba(226, 74, 51, 1.0)",
           "width": 1
          }
         },
         "name": "Djokovic",
         "orientation": "v",
         "text": "",
         "type": "bar",
         "x": [
          "ace",
          "double_fault",
          "net",
          "out",
          "winner"
         ],
         "y": [
          8,
          2,
          23,
          30,
          24
         ]
        },
        {
         "marker": {
          "color": "rgba(62, 111, 176, 0.6)",
          "line": {
           "color": "rgba(62, 111, 176, 1.0)",
           "width": 1
          }
         },
         "name": "Nadal",
         "orientation": "v",
         "text": "",
         "type": "bar",
         "x": [
          "ace",
          "double_fault",
          "net",
          "out",
          "winner"
         ],
         "y": [
          3,
          "",
          14,
          18,
          17
         ]
        }
       ],
       "layout": {
        "legend": {
         "bgcolor": "#FFFFFF",
         "font": {
          "color": "#666666"
         }
        },
        "paper_bgcolor": "#FFFFFF",
        "plot_bgcolor": "#E5E5E5",
        "template": {
         "data": {
          "bar": [
           {
            "error_x": {
             "color": "#2a3f5f"
            },
            "error_y": {
             "color": "#2a3f5f"
            },
            "marker": {
             "line": {
              "color": "#E5ECF6",
              "width": 0.5
             },
             "pattern": {
              "fillmode": "overlay",
              "size": 10,
              "solidity": 0.2
             }
            },
            "type": "bar"
           }
          ],
          "barpolar": [
           {
            "marker": {
             "line": {
              "color": "#E5ECF6",
              "width": 0.5
             },
             "pattern": {
              "fillmode": "overlay",
              "size": 10,
              "solidity": 0.2
             }
            },
            "type": "barpolar"
           }
          ],
          "carpet": [
           {
            "aaxis": {
             "endlinecolor": "#2a3f5f",
             "gridcolor": "white",
             "linecolor": "white",
             "minorgridcolor": "white",
             "startlinecolor": "#2a3f5f"
            },
            "baxis": {
             "endlinecolor": "#2a3f5f",
             "gridcolor": "white",
             "linecolor": "white",
             "minorgridcolor": "white",
             "startlinecolor": "#2a3f5f"
            },
            "type": "carpet"
           }
          ],
          "choropleth": [
           {
            "colorbar": {
             "outlinewidth": 0,
             "ticks": ""
            },
            "type": "choropleth"
           }
          ],
          "contour": [
           {
            "colorbar": {
             "outlinewidth": 0,
             "ticks": ""
            },
            "colorscale": [
             [
              0,
              "#0d0887"
             ],
             [
              0.1111111111111111,
              "#46039f"
             ],
             [
              0.2222222222222222,
              "#7201a8"
             ],
             [
              0.3333333333333333,
              "#9c179e"
             ],
             [
              0.4444444444444444,
              "#bd3786"
             ],
             [
              0.5555555555555556,
              "#d8576b"
             ],
             [
              0.6666666666666666,
              "#ed7953"
             ],
             [
              0.7777777777777778,
              "#fb9f3a"
             ],
             [
              0.8888888888888888,
              "#fdca26"
             ],
             [
              1,
              "#f0f921"
             ]
            ],
            "type": "contour"
           }
          ],
          "contourcarpet": [
           {
            "colorbar": {
             "outlinewidth": 0,
             "ticks": ""
            },
            "type": "contourcarpet"
           }
          ],
          "heatmap": [
           {
            "colorbar": {
             "outlinewidth": 0,
             "ticks": ""
            },
            "colorscale": [
             [
              0,
              "#0d0887"
             ],
             [
              0.1111111111111111,
              "#46039f"
             ],
             [
              0.2222222222222222,
              "#7201a8"
             ],
             [
              0.3333333333333333,
              "#9c179e"
             ],
             [
              0.4444444444444444,
              "#bd3786"
             ],
             [
              0.5555555555555556,
              "#d8576b"
             ],
             [
              0.6666666666666666,
              "#ed7953"
             ],
             [
              0.7777777777777778,
              "#fb9f3a"
             ],
             [
              0.8888888888888888,
              "#fdca26"
             ],
             [
              1,
              "#f0f921"
             ]
            ],
            "type": "heatmap"
           }
          ],
          "heatmapgl": [
           {
            "colorbar": {
             "outlinewidth": 0,
             "ticks": ""
            },
            "colorscale": [
             [
              0,
              "#0d0887"
             ],
             [
              0.1111111111111111,
              "#46039f"
             ],
             [
              0.2222222222222222,
              "#7201a8"
             ],
             [
              0.3333333333333333,
              "#9c179e"
             ],
             [
              0.4444444444444444,
              "#bd3786"
             ],
             [
              0.5555555555555556,
              "#d8576b"
             ],
             [
              0.6666666666666666,
              "#ed7953"
             ],
             [
              0.7777777777777778,
              "#fb9f3a"
             ],
             [
              0.8888888888888888,
              "#fdca26"
             ],
             [
              1,
              "#f0f921"
             ]
            ],
            "type": "heatmapgl"
           }
          ],
          "histogram": [
           {
            "marker": {
             "pattern": {
              "fillmode": "overlay",
              "size": 10,
              "solidity": 0.2
             }
            },
            "type": "histogram"
           }
          ],
          "histogram2d": [
           {
            "colorbar": {
             "outlinewidth": 0,
             "ticks": ""
            },
            "colorscale": [
             [
              0,
              "#0d0887"
             ],
             [
              0.1111111111111111,
              "#46039f"
             ],
             [
              0.2222222222222222,
              "#7201a8"
             ],
             [
              0.3333333333333333,
              "#9c179e"
             ],
             [
              0.4444444444444444,
              "#bd3786"
             ],
             [
              0.5555555555555556,
              "#d8576b"
             ],
             [
              0.6666666666666666,
              "#ed7953"
             ],
             [
              0.7777777777777778,
              "#fb9f3a"
             ],
             [
              0.8888888888888888,
              "#fdca26"
             ],
             [
              1,
              "#f0f921"
             ]
            ],
            "type": "histogram2d"
           }
          ],
          "histogram2dcontour": [
           {
            "colorbar": {
             "outlinewidth": 0,
             "ticks": ""
            },
            "colorscale": [
             [
              0,
              "#0d0887"
             ],
             [
              0.1111111111111111,
              "#46039f"
             ],
             [
              0.2222222222222222,
              "#7201a8"
             ],
             [
              0.3333333333333333,
              "#9c179e"
             ],
             [
              0.4444444444444444,
              "#bd3786"
             ],
             [
              0.5555555555555556,
              "#d8576b"
             ],
             [
              0.6666666666666666,
              "#ed7953"
             ],
             [
              0.7777777777777778,
              "#fb9f3a"
             ],
             [
              0.8888888888888888,
              "#fdca26"
             ],
             [
              1,
              "#f0f921"
             ]
            ],
            "type": "histogram2dcontour"
           }
          ],
          "mesh3d": [
           {
            "colorbar": {
             "outlinewidth": 0,
             "ticks": ""
            },
            "type": "mesh3d"
           }
          ],
          "parcoords": [
           {
            "line": {
             "colorbar": {
              "outlinewidth": 0,
              "ticks": ""
             }
            },
            "type": "parcoords"
           }
          ],
          "pie": [
           {
            "automargin": true,
            "type": "pie"
           }
          ],
          "scatter": [
           {
            "marker": {
             "colorbar": {
              "outlinewidth": 0,
              "ticks": ""
             }
            },
            "type": "scatter"
           }
          ],
          "scatter3d": [
           {
            "line": {
             "colorbar": {
              "outlinewidth": 0,
              "ticks": ""
             }
            },
            "marker": {
             "colorbar": {
              "outlinewidth": 0,
              "ticks": ""
             }
            },
            "type": "scatter3d"
           }
          ],
          "scattercarpet": [
           {
            "marker": {
             "colorbar": {
              "outlinewidth": 0,
              "ticks": ""
             }
            },
            "type": "scattercarpet"
           }
          ],
          "scattergeo": [
           {
            "marker": {
             "colorbar": {
              "outlinewidth": 0,
              "ticks": ""
             }
            },
            "type": "scattergeo"
           }
          ],
          "scattergl": [
           {
            "marker": {
             "colorbar": {
              "outlinewidth": 0,
              "ticks": ""
             }
            },
            "type": "scattergl"
           }
          ],
          "scattermapbox": [
           {
            "marker": {
             "colorbar": {
              "outlinewidth": 0,
              "ticks": ""
             }
            },
            "type": "scattermapbox"
           }
          ],
          "scatterpolar": [
           {
            "marker": {
             "colorbar": {
              "outlinewidth": 0,
              "ticks": ""
             }
            },
            "type": "scatterpolar"
           }
          ],
          "scatterpolargl": [
           {
            "marker": {
             "colorbar": {
              "outlinewidth": 0,
              "ticks": ""
             }
            },
            "type": "scatterpolargl"
           }
          ],
          "scatterternary": [
           {
            "marker": {
             "colorbar": {
              "outlinewidth": 0,
              "ticks": ""
             }
            },
            "type": "scatterternary"
           }
          ],
          "surface": [
           {
            "colorbar": {
             "outlinewidth": 0,
             "ticks": ""
            },
            "colorscale": [
             [
              0,
              "#0d0887"
             ],
             [
              0.1111111111111111,
              "#46039f"
             ],
             [
              0.2222222222222222,
              "#7201a8"
             ],
             [
              0.3333333333333333,
              "#9c179e"
             ],
             [
              0.4444444444444444,
              "#bd3786"
             ],
             [
              0.5555555555555556,
              "#d8576b"
             ],
             [
              0.6666666666666666,
              "#ed7953"
             ],
             [
              0.7777777777777778,
              "#fb9f3a"
             ],
             [
              0.8888888888888888,
              "#fdca26"
             ],
             [
              1,
              "#f0f921"
             ]
            ],
            "type": "surface"
           }
          ],
          "table": [
           {
            "cells": {
             "fill": {
              "color": "#EBF0F8"
             },
             "line": {
              "color": "white"
             }
            },
            "header": {
             "fill": {
              "color": "#C8D4E3"
             },
             "line": {
              "color": "white"
             }
            },
            "type": "table"
           }
          ]
         },
         "layout": {
          "annotationdefaults": {
           "arrowcolor": "#2a3f5f",
           "arrowhead": 0,
           "arrowwidth": 1
          },
          "autotypenumbers": "strict",
          "coloraxis": {
           "colorbar": {
            "outlinewidth": 0,
            "ticks": ""
           }
          },
          "colorscale": {
           "diverging": [
            [
             0,
             "#8e0152"
            ],
            [
             0.1,
             "#c51b7d"
            ],
            [
             0.2,
             "#de77ae"
            ],
            [
             0.3,
             "#f1b6da"
            ],
            [
             0.4,
             "#fde0ef"
            ],
            [
             0.5,
             "#f7f7f7"
            ],
            [
             0.6,
             "#e6f5d0"
            ],
            [
             0.7,
             "#b8e186"
            ],
            [
             0.8,
             "#7fbc41"
            ],
            [
             0.9,
             "#4d9221"
            ],
            [
             1,
             "#276419"
            ]
           ],
           "sequential": [
            [
             0,
             "#0d0887"
            ],
            [
             0.1111111111111111,
             "#46039f"
            ],
            [
             0.2222222222222222,
             "#7201a8"
            ],
            [
             0.3333333333333333,
             "#9c179e"
            ],
            [
             0.4444444444444444,
             "#bd3786"
            ],
            [
             0.5555555555555556,
             "#d8576b"
            ],
            [
             0.6666666666666666,
             "#ed7953"
            ],
            [
             0.7777777777777778,
             "#fb9f3a"
            ],
            [
             0.8888888888888888,
             "#fdca26"
            ],
            [
             1,
             "#f0f921"
            ]
           ],
           "sequentialminus": [
            [
             0,
             "#0d0887"
            ],
            [
             0.1111111111111111,
             "#46039f"
            ],
            [
             0.2222222222222222,
             "#7201a8"
            ],
            [
             0.3333333333333333,
             "#9c179e"
            ],
            [
             0.4444444444444444,
             "#bd3786"
            ],
            [
             0.5555555555555556,
             "#d8576b"
            ],
            [
             0.6666666666666666,
             "#ed7953"
            ],
            [
             0.7777777777777778,
             "#fb9f3a"
            ],
            [
             0.8888888888888888,
             "#fdca26"
            ],
            [
             1,
             "#f0f921"
            ]
           ]
          },
          "colorway": [
           "#636efa",
           "#EF553B",
           "#00cc96",
           "#ab63fa",
           "#FFA15A",
           "#19d3f3",
           "#FF6692",
           "#B6E880",
           "#FF97FF",
           "#FECB52"
          ],
          "font": {
           "color": "#2a3f5f"
          },
          "geo": {
           "bgcolor": "white",
           "lakecolor": "white",
           "landcolor": "#E5ECF6",
           "showlakes": true,
           "showland": true,
           "subunitcolor": "white"
          },
          "hoverlabel": {
           "align": "left"
          },
          "hovermode": "closest",
          "mapbox": {
           "style": "light"
          },
          "paper_bgcolor": "white",
          "plot_bgcolor": "#E5ECF6",
          "polar": {
           "angularaxis": {
            "gridcolor": "white",
            "linecolor": "white",
            "ticks": ""
           },
           "bgcolor": "#E5ECF6",
           "radialaxis": {
            "gridcolor": "white",
            "linecolor": "white",
            "ticks": ""
           }
          },
          "scene": {
           "xaxis": {
            "backgroundcolor": "#E5ECF6",
            "gridcolor": "white",
            "gridwidth": 2,
            "linecolor": "white",
            "showbackground": true,
            "ticks": "",
            "zerolinecolor": "white"
           },
           "yaxis": {
            "backgroundcolor": "#E5ECF6",
            "gridcolor": "white",
            "gridwidth": 2,
            "linecolor": "white",
            "showbackground": true,
            "ticks": "",
            "zerolinecolor": "white"
           },
           "zaxis": {
            "backgroundcolor": "#E5ECF6",
            "gridcolor": "white",
            "gridwidth": 2,
            "linecolor": "white",
            "showbackground": true,
            "ticks": "",
            "zerolinecolor": "white"
           }
          },
          "shapedefaults": {
           "line": {
            "color": "#2a3f5f"
           }
          },
          "ternary": {
           "aaxis": {
            "gridcolor": "white",
            "linecolor": "white",
            "ticks": ""
           },
           "baxis": {
            "gridcolor": "white",
            "linecolor": "white",
            "ticks": ""
           },
           "bgcolor": "#E5ECF6",
           "caxis": {
            "gridcolor": "white",
            "linecolor": "white",
            "ticks": ""
           }
          },
          "title": {
           "x": 0.05
          },
          "xaxis": {
           "automargin": true,
           "gridcolor": "white",
           "linecolor": "white",
           "ticks": "",
           "title": {
            "standoff": 15
           },
           "zerolinecolor": "white",
           "zerolinewidth": 2
          },
          "yaxis": {
           "automargin": true,
           "gridcolor": "white",
           "linecolor": "white",
           "ticks": "",
           "title": {
            "standoff": 15
           },
           "zerolinecolor": "white",
           "zerolinewidth": 2
          }
         }
        },
        "title": {
         "font": {
          "color": "#151516"
         }
        },
        "xaxis": {
         "gridcolor": "#F6F6F6",
         "showgrid": true,
         "tickfont": {
          "color": "#666666"
         },
         "title": {
          "font": {
           "color": "#666666"
          },
          "text": ""
         },
         "zerolinecolor": "#F6F6F6"
        },
        "yaxis": {
         "gridcolor": "#F6F6F6",
         "showgrid": true,
         "tickfont": {
          "color": "#666666"
         },
         "title": {
          "font": {
           "color": "#666666"
          },
          "text": ""
         },
         "zerolinecolor": "#F6F6F6"
        }
       }
      },
      "text/html": [
       "<div>                            <div id=\"a1947357-e897-4887-84b8-dd3caf7c903e\" class=\"plotly-graph-div\" style=\"height:525px; width:100%;\"></div>            <script type=\"text/javascript\">                require([\"plotly\"], function(Plotly) {                    window.PLOTLYENV=window.PLOTLYENV || {};\n",
       "                    window.PLOTLYENV.BASE_URL='https://plot.ly';                                    if (document.getElementById(\"a1947357-e897-4887-84b8-dd3caf7c903e\")) {                    Plotly.newPlot(                        \"a1947357-e897-4887-84b8-dd3caf7c903e\",                        [{\"marker\":{\"color\":\"rgba(226, 74, 51, 0.6)\",\"line\":{\"color\":\"rgba(226, 74, 51, 1.0)\",\"width\":1}},\"name\":\"Djokovic\",\"orientation\":\"v\",\"text\":\"\",\"type\":\"bar\",\"x\":[\"ace\",\"double_fault\",\"net\",\"out\",\"winner\"],\"y\":[8.0,2.0,23.0,30.0,24.0]},{\"marker\":{\"color\":\"rgba(62, 111, 176, 0.6)\",\"line\":{\"color\":\"rgba(62, 111, 176, 1.0)\",\"width\":1}},\"name\":\"Nadal\",\"orientation\":\"v\",\"text\":\"\",\"type\":\"bar\",\"x\":[\"ace\",\"double_fault\",\"net\",\"out\",\"winner\"],\"y\":[3.0,\"\",14.0,18.0,17.0]}],                        {\"legend\":{\"bgcolor\":\"#FFFFFF\",\"font\":{\"color\":\"#666666\"}},\"paper_bgcolor\":\"#FFFFFF\",\"plot_bgcolor\":\"#E5E5E5\",\"template\":{\"data\":{\"bar\":[{\"error_x\":{\"color\":\"#2a3f5f\"},\"error_y\":{\"color\":\"#2a3f5f\"},\"marker\":{\"line\":{\"color\":\"#E5ECF6\",\"width\":0.5},\"pattern\":{\"fillmode\":\"overlay\",\"size\":10,\"solidity\":0.2}},\"type\":\"bar\"}],\"barpolar\":[{\"marker\":{\"line\":{\"color\":\"#E5ECF6\",\"width\":0.5},\"pattern\":{\"fillmode\":\"overlay\",\"size\":10,\"solidity\":0.2}},\"type\":\"barpolar\"}],\"carpet\":[{\"aaxis\":{\"endlinecolor\":\"#2a3f5f\",\"gridcolor\":\"white\",\"linecolor\":\"white\",\"minorgridcolor\":\"white\",\"startlinecolor\":\"#2a3f5f\"},\"baxis\":{\"endlinecolor\":\"#2a3f5f\",\"gridcolor\":\"white\",\"linecolor\":\"white\",\"minorgridcolor\":\"white\",\"startlinecolor\":\"#2a3f5f\"},\"type\":\"carpet\"}],\"choropleth\":[{\"colorbar\":{\"outlinewidth\":0,\"ticks\":\"\"},\"type\":\"choropleth\"}],\"contour\":[{\"colorbar\":{\"outlinewidth\":0,\"ticks\":\"\"},\"colorscale\":[[0.0,\"#0d0887\"],[0.1111111111111111,\"#46039f\"],[0.2222222222222222,\"#7201a8\"],[0.3333333333333333,\"#9c179e\"],[0.4444444444444444,\"#bd3786\"],[0.5555555555555556,\"#d8576b\"],[0.6666666666666666,\"#ed7953\"],[0.7777777777777778,\"#fb9f3a\"],[0.8888888888888888,\"#fdca26\"],[1.0,\"#f0f921\"]],\"type\":\"contour\"}],\"contourcarpet\":[{\"colorbar\":{\"outlinewidth\":0,\"ticks\":\"\"},\"type\":\"contourcarpet\"}],\"heatmap\":[{\"colorbar\":{\"outlinewidth\":0,\"ticks\":\"\"},\"colorscale\":[[0.0,\"#0d0887\"],[0.1111111111111111,\"#46039f\"],[0.2222222222222222,\"#7201a8\"],[0.3333333333333333,\"#9c179e\"],[0.4444444444444444,\"#bd3786\"],[0.5555555555555556,\"#d8576b\"],[0.6666666666666666,\"#ed7953\"],[0.7777777777777778,\"#fb9f3a\"],[0.8888888888888888,\"#fdca26\"],[1.0,\"#f0f921\"]],\"type\":\"heatmap\"}],\"heatmapgl\":[{\"colorbar\":{\"outlinewidth\":0,\"ticks\":\"\"},\"colorscale\":[[0.0,\"#0d0887\"],[0.1111111111111111,\"#46039f\"],[0.2222222222222222,\"#7201a8\"],[0.3333333333333333,\"#9c179e\"],[0.4444444444444444,\"#bd3786\"],[0.5555555555555556,\"#d8576b\"],[0.6666666666666666,\"#ed7953\"],[0.7777777777777778,\"#fb9f3a\"],[0.8888888888888888,\"#fdca26\"],[1.0,\"#f0f921\"]],\"type\":\"heatmapgl\"}],\"histogram\":[{\"marker\":{\"pattern\":{\"fillmode\":\"overlay\",\"size\":10,\"solidity\":0.2}},\"type\":\"histogram\"}],\"histogram2d\":[{\"colorbar\":{\"outlinewidth\":0,\"ticks\":\"\"},\"colorscale\":[[0.0,\"#0d0887\"],[0.1111111111111111,\"#46039f\"],[0.2222222222222222,\"#7201a8\"],[0.3333333333333333,\"#9c179e\"],[0.4444444444444444,\"#bd3786\"],[0.5555555555555556,\"#d8576b\"],[0.6666666666666666,\"#ed7953\"],[0.7777777777777778,\"#fb9f3a\"],[0.8888888888888888,\"#fdca26\"],[1.0,\"#f0f921\"]],\"type\":\"histogram2d\"}],\"histogram2dcontour\":[{\"colorbar\":{\"outlinewidth\":0,\"ticks\":\"\"},\"colorscale\":[[0.0,\"#0d0887\"],[0.1111111111111111,\"#46039f\"],[0.2222222222222222,\"#7201a8\"],[0.3333333333333333,\"#9c179e\"],[0.4444444444444444,\"#bd3786\"],[0.5555555555555556,\"#d8576b\"],[0.6666666666666666,\"#ed7953\"],[0.7777777777777778,\"#fb9f3a\"],[0.8888888888888888,\"#fdca26\"],[1.0,\"#f0f921\"]],\"type\":\"histogram2dcontour\"}],\"mesh3d\":[{\"colorbar\":{\"outlinewidth\":0,\"ticks\":\"\"},\"type\":\"mesh3d\"}],\"parcoords\":[{\"line\":{\"colorbar\":{\"outlinewidth\":0,\"ticks\":\"\"}},\"type\":\"parcoords\"}],\"pie\":[{\"automargin\":true,\"type\":\"pie\"}],\"scatter\":[{\"marker\":{\"colorbar\":{\"outlinewidth\":0,\"ticks\":\"\"}},\"type\":\"scatter\"}],\"scatter3d\":[{\"line\":{\"colorbar\":{\"outlinewidth\":0,\"ticks\":\"\"}},\"marker\":{\"colorbar\":{\"outlinewidth\":0,\"ticks\":\"\"}},\"type\":\"scatter3d\"}],\"scattercarpet\":[{\"marker\":{\"colorbar\":{\"outlinewidth\":0,\"ticks\":\"\"}},\"type\":\"scattercarpet\"}],\"scattergeo\":[{\"marker\":{\"colorbar\":{\"outlinewidth\":0,\"ticks\":\"\"}},\"type\":\"scattergeo\"}],\"scattergl\":[{\"marker\":{\"colorbar\":{\"outlinewidth\":0,\"ticks\":\"\"}},\"type\":\"scattergl\"}],\"scattermapbox\":[{\"marker\":{\"colorbar\":{\"outlinewidth\":0,\"ticks\":\"\"}},\"type\":\"scattermapbox\"}],\"scatterpolar\":[{\"marker\":{\"colorbar\":{\"outlinewidth\":0,\"ticks\":\"\"}},\"type\":\"scatterpolar\"}],\"scatterpolargl\":[{\"marker\":{\"colorbar\":{\"outlinewidth\":0,\"ticks\":\"\"}},\"type\":\"scatterpolargl\"}],\"scatterternary\":[{\"marker\":{\"colorbar\":{\"outlinewidth\":0,\"ticks\":\"\"}},\"type\":\"scatterternary\"}],\"surface\":[{\"colorbar\":{\"outlinewidth\":0,\"ticks\":\"\"},\"colorscale\":[[0.0,\"#0d0887\"],[0.1111111111111111,\"#46039f\"],[0.2222222222222222,\"#7201a8\"],[0.3333333333333333,\"#9c179e\"],[0.4444444444444444,\"#bd3786\"],[0.5555555555555556,\"#d8576b\"],[0.6666666666666666,\"#ed7953\"],[0.7777777777777778,\"#fb9f3a\"],[0.8888888888888888,\"#fdca26\"],[1.0,\"#f0f921\"]],\"type\":\"surface\"}],\"table\":[{\"cells\":{\"fill\":{\"color\":\"#EBF0F8\"},\"line\":{\"color\":\"white\"}},\"header\":{\"fill\":{\"color\":\"#C8D4E3\"},\"line\":{\"color\":\"white\"}},\"type\":\"table\"}]},\"layout\":{\"annotationdefaults\":{\"arrowcolor\":\"#2a3f5f\",\"arrowhead\":0,\"arrowwidth\":1},\"autotypenumbers\":\"strict\",\"coloraxis\":{\"colorbar\":{\"outlinewidth\":0,\"ticks\":\"\"}},\"colorscale\":{\"diverging\":[[0,\"#8e0152\"],[0.1,\"#c51b7d\"],[0.2,\"#de77ae\"],[0.3,\"#f1b6da\"],[0.4,\"#fde0ef\"],[0.5,\"#f7f7f7\"],[0.6,\"#e6f5d0\"],[0.7,\"#b8e186\"],[0.8,\"#7fbc41\"],[0.9,\"#4d9221\"],[1,\"#276419\"]],\"sequential\":[[0.0,\"#0d0887\"],[0.1111111111111111,\"#46039f\"],[0.2222222222222222,\"#7201a8\"],[0.3333333333333333,\"#9c179e\"],[0.4444444444444444,\"#bd3786\"],[0.5555555555555556,\"#d8576b\"],[0.6666666666666666,\"#ed7953\"],[0.7777777777777778,\"#fb9f3a\"],[0.8888888888888888,\"#fdca26\"],[1.0,\"#f0f921\"]],\"sequentialminus\":[[0.0,\"#0d0887\"],[0.1111111111111111,\"#46039f\"],[0.2222222222222222,\"#7201a8\"],[0.3333333333333333,\"#9c179e\"],[0.4444444444444444,\"#bd3786\"],[0.5555555555555556,\"#d8576b\"],[0.6666666666666666,\"#ed7953\"],[0.7777777777777778,\"#fb9f3a\"],[0.8888888888888888,\"#fdca26\"],[1.0,\"#f0f921\"]]},\"colorway\":[\"#636efa\",\"#EF553B\",\"#00cc96\",\"#ab63fa\",\"#FFA15A\",\"#19d3f3\",\"#FF6692\",\"#B6E880\",\"#FF97FF\",\"#FECB52\"],\"font\":{\"color\":\"#2a3f5f\"},\"geo\":{\"bgcolor\":\"white\",\"lakecolor\":\"white\",\"landcolor\":\"#E5ECF6\",\"showlakes\":true,\"showland\":true,\"subunitcolor\":\"white\"},\"hoverlabel\":{\"align\":\"left\"},\"hovermode\":\"closest\",\"mapbox\":{\"style\":\"light\"},\"paper_bgcolor\":\"white\",\"plot_bgcolor\":\"#E5ECF6\",\"polar\":{\"angularaxis\":{\"gridcolor\":\"white\",\"linecolor\":\"white\",\"ticks\":\"\"},\"bgcolor\":\"#E5ECF6\",\"radialaxis\":{\"gridcolor\":\"white\",\"linecolor\":\"white\",\"ticks\":\"\"}},\"scene\":{\"xaxis\":{\"backgroundcolor\":\"#E5ECF6\",\"gridcolor\":\"white\",\"gridwidth\":2,\"linecolor\":\"white\",\"showbackground\":true,\"ticks\":\"\",\"zerolinecolor\":\"white\"},\"yaxis\":{\"backgroundcolor\":\"#E5ECF6\",\"gridcolor\":\"white\",\"gridwidth\":2,\"linecolor\":\"white\",\"showbackground\":true,\"ticks\":\"\",\"zerolinecolor\":\"white\"},\"zaxis\":{\"backgroundcolor\":\"#E5ECF6\",\"gridcolor\":\"white\",\"gridwidth\":2,\"linecolor\":\"white\",\"showbackground\":true,\"ticks\":\"\",\"zerolinecolor\":\"white\"}},\"shapedefaults\":{\"line\":{\"color\":\"#2a3f5f\"}},\"ternary\":{\"aaxis\":{\"gridcolor\":\"white\",\"linecolor\":\"white\",\"ticks\":\"\"},\"baxis\":{\"gridcolor\":\"white\",\"linecolor\":\"white\",\"ticks\":\"\"},\"bgcolor\":\"#E5ECF6\",\"caxis\":{\"gridcolor\":\"white\",\"linecolor\":\"white\",\"ticks\":\"\"}},\"title\":{\"x\":0.05},\"xaxis\":{\"automargin\":true,\"gridcolor\":\"white\",\"linecolor\":\"white\",\"ticks\":\"\",\"title\":{\"standoff\":15},\"zerolinecolor\":\"white\",\"zerolinewidth\":2},\"yaxis\":{\"automargin\":true,\"gridcolor\":\"white\",\"linecolor\":\"white\",\"ticks\":\"\",\"title\":{\"standoff\":15},\"zerolinecolor\":\"white\",\"zerolinewidth\":2}}},\"title\":{\"font\":{\"color\":\"#151516\"}},\"xaxis\":{\"gridcolor\":\"#F6F6F6\",\"showgrid\":true,\"tickfont\":{\"color\":\"#666666\"},\"title\":{\"font\":{\"color\":\"#666666\"},\"text\":\"\"},\"zerolinecolor\":\"#F6F6F6\"},\"yaxis\":{\"gridcolor\":\"#F6F6F6\",\"showgrid\":true,\"tickfont\":{\"color\":\"#666666\"},\"title\":{\"font\":{\"color\":\"#666666\"},\"text\":\"\"},\"zerolinecolor\":\"#F6F6F6\"}},                        {\"showLink\": true, \"linkText\": \"Export to plot.ly\", \"plotlyServerURL\": \"https://plot.ly\", \"responsive\": true}                    ).then(function(){\n",
       "                            \n",
       "var gd = document.getElementById('a1947357-e897-4887-84b8-dd3caf7c903e');\n",
       "var x = new MutationObserver(function (mutations, observer) {{\n",
       "        var display = window.getComputedStyle(gd).display;\n",
       "        if (!display || display === 'none') {{\n",
       "            console.log([gd, 'removed!']);\n",
       "            Plotly.purge(gd);\n",
       "            observer.disconnect();\n",
       "        }}\n",
       "}});\n",
       "\n",
       "// Listen for the removal of the full notebook cells\n",
       "var notebookContainer = gd.closest('#notebook-container');\n",
       "if (notebookContainer) {{\n",
       "    x.observe(notebookContainer, {childList: true});\n",
       "}}\n",
       "\n",
       "// Listen for the clearing of the current output cell\n",
       "var outputEl = gd.closest('.output');\n",
       "if (outputEl) {{\n",
       "    x.observe(outputEl, {childList: true});\n",
       "}}\n",
       "\n",
       "                        })                };                });            </script>        </div>"
      ]
     },
     "metadata": {},
     "output_type": "display_data"
    }
   ],
   "source": [
    "points.groupby('reason')['winner'].value_counts().unstack().iplot(kind='bar')"
   ]
  },
  {
   "cell_type": "code",
   "execution_count": null,
   "id": "d0f93c67",
   "metadata": {},
   "outputs": [],
   "source": []
  }
 ],
 "metadata": {
  "kernelspec": {
   "display_name": "Python 3",
   "language": "python",
   "name": "python3"
  },
  "language_info": {
   "codemirror_mode": {
    "name": "ipython",
    "version": 3
   },
   "file_extension": ".py",
   "mimetype": "text/x-python",
   "name": "python",
   "nbconvert_exporter": "python",
   "pygments_lexer": "ipython3",
   "version": "3.9.12"
  }
 },
 "nbformat": 4,
 "nbformat_minor": 5
}
