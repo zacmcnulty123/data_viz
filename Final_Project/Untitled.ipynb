{
 "cells": [
  {
   "cell_type": "code",
   "execution_count": 1,
   "id": "52145ad8",
   "metadata": {},
   "outputs": [
    {
     "data": {
      "text/html": [
       "        <script type=\"text/javascript\">\n",
       "        window.PlotlyConfig = {MathJaxConfig: 'local'};\n",
       "        if (window.MathJax) {MathJax.Hub.Config({SVG: {font: \"STIX-Web\"}});}\n",
       "        if (typeof require !== 'undefined') {\n",
       "        require.undef(\"plotly\");\n",
       "        requirejs.config({\n",
       "            paths: {\n",
       "                'plotly': ['https://cdn.plot.ly/plotly-2.4.2.min']\n",
       "            }\n",
       "        });\n",
       "        require(['plotly'], function(Plotly) {\n",
       "            window._Plotly = Plotly;\n",
       "        });\n",
       "        }\n",
       "        </script>\n",
       "        "
      ]
     },
     "metadata": {},
     "output_type": "display_data"
    },
    {
     "data": {
      "text/html": [
       "        <script type=\"text/javascript\">\n",
       "        window.PlotlyConfig = {MathJaxConfig: 'local'};\n",
       "        if (window.MathJax) {MathJax.Hub.Config({SVG: {font: \"STIX-Web\"}});}\n",
       "        if (typeof require !== 'undefined') {\n",
       "        require.undef(\"plotly\");\n",
       "        requirejs.config({\n",
       "            paths: {\n",
       "                'plotly': ['https://cdn.plot.ly/plotly-2.4.2.min']\n",
       "            }\n",
       "        });\n",
       "        require(['plotly'], function(Plotly) {\n",
       "            window._Plotly = Plotly;\n",
       "        });\n",
       "        }\n",
       "        </script>\n",
       "        "
      ]
     },
     "metadata": {},
     "output_type": "display_data"
    }
   ],
   "source": [
    "import os\n",
    "import pandas as pd\n",
    "\n",
    "# Plotly and cufflinks for data analysis\n",
    "from plotly.offline import init_notebook_mode, iplot\n",
    "import cufflinks as cf\n",
    "init_notebook_mode(connected=True) \n",
    "\n",
    "cf.set_config_file(theme='ggplot')\n",
    "cf.go_offline()\n",
    "\n",
    "# Matplotlib for drawing the court\n",
    "from matplotlib.patches import Ellipse\n",
    "import plotly.express as px\n",
    "import numpy as np\n",
    "from matplotlib import pyplot as plt\n",
    "from math import pi\n",
    "import plotly.graph_objects as go\n",
    "%matplotlib inline"
   ]
  },
  {
   "cell_type": "code",
   "execution_count": 2,
   "id": "aee9b55b",
   "metadata": {},
   "outputs": [],
   "source": [
    "INPUT_DIR = './Tennis_data'\n",
    "def load_data():\n",
    "    return [pd.read_csv(os.path.join(INPUT_DIR, file_), index_col=0) for file_ in os.listdir(INPUT_DIR)]\n",
    "        \n",
    "rallies, points, events, serves = load_data()"
   ]
  },
  {
   "cell_type": "code",
   "execution_count": 3,
   "id": "9b03310e",
   "metadata": {},
   "outputs": [
    {
     "data": {
      "text/html": [
       "<div>\n",
       "<style scoped>\n",
       "    .dataframe tbody tr th:only-of-type {\n",
       "        vertical-align: middle;\n",
       "    }\n",
       "\n",
       "    .dataframe tbody tr th {\n",
       "        vertical-align: top;\n",
       "    }\n",
       "\n",
       "    .dataframe thead th {\n",
       "        text-align: right;\n",
       "    }\n",
       "</style>\n",
       "<table border=\"1\" class=\"dataframe\">\n",
       "  <thead>\n",
       "    <tr style=\"text-align: right;\">\n",
       "      <th></th>\n",
       "      <th>rallyid</th>\n",
       "      <th>frameid</th>\n",
       "      <th>strokeid</th>\n",
       "      <th>hitter</th>\n",
       "      <th>receiver</th>\n",
       "      <th>isserve</th>\n",
       "      <th>serve</th>\n",
       "      <th>type</th>\n",
       "      <th>stroke</th>\n",
       "      <th>hitter_x</th>\n",
       "      <th>hitter_y</th>\n",
       "      <th>receiver_x</th>\n",
       "      <th>receiver_y</th>\n",
       "      <th>time</th>\n",
       "    </tr>\n",
       "  </thead>\n",
       "  <tbody>\n",
       "    <tr>\n",
       "      <th>0</th>\n",
       "      <td>1</td>\n",
       "      <td>70877</td>\n",
       "      <td>1</td>\n",
       "      <td>Djokovic</td>\n",
       "      <td>Nadal</td>\n",
       "      <td>True</td>\n",
       "      <td>first</td>\n",
       "      <td>serve</td>\n",
       "      <td>forehand</td>\n",
       "      <td>6.50</td>\n",
       "      <td>-0.24</td>\n",
       "      <td>1.03</td>\n",
       "      <td>27.44</td>\n",
       "      <td>0.00</td>\n",
       "    </tr>\n",
       "    <tr>\n",
       "      <th>1</th>\n",
       "      <td>1</td>\n",
       "      <td>70900</td>\n",
       "      <td>2</td>\n",
       "      <td>Nadal</td>\n",
       "      <td>Djokovic</td>\n",
       "      <td>False</td>\n",
       "      <td>first</td>\n",
       "      <td>slice</td>\n",
       "      <td>backhand</td>\n",
       "      <td>0.05</td>\n",
       "      <td>25.59</td>\n",
       "      <td>6.17</td>\n",
       "      <td>1.11</td>\n",
       "      <td>0.92</td>\n",
       "    </tr>\n",
       "    <tr>\n",
       "      <th>2</th>\n",
       "      <td>1</td>\n",
       "      <td>70950</td>\n",
       "      <td>3</td>\n",
       "      <td>Djokovic</td>\n",
       "      <td>Nadal</td>\n",
       "      <td>False</td>\n",
       "      <td>first</td>\n",
       "      <td>topspin</td>\n",
       "      <td>forehand</td>\n",
       "      <td>1.42</td>\n",
       "      <td>2.33</td>\n",
       "      <td>4.75</td>\n",
       "      <td>26.45</td>\n",
       "      <td>2.92</td>\n",
       "    </tr>\n",
       "    <tr>\n",
       "      <th>3</th>\n",
       "      <td>2</td>\n",
       "      <td>71488</td>\n",
       "      <td>1</td>\n",
       "      <td>Djokovic</td>\n",
       "      <td>Nadal</td>\n",
       "      <td>True</td>\n",
       "      <td>first</td>\n",
       "      <td>serve</td>\n",
       "      <td>forehand</td>\n",
       "      <td>4.48</td>\n",
       "      <td>-0.01</td>\n",
       "      <td>7.90</td>\n",
       "      <td>26.83</td>\n",
       "      <td>24.44</td>\n",
       "    </tr>\n",
       "    <tr>\n",
       "      <th>4</th>\n",
       "      <td>3</td>\n",
       "      <td>71796</td>\n",
       "      <td>1</td>\n",
       "      <td>Djokovic</td>\n",
       "      <td>Nadal</td>\n",
       "      <td>True</td>\n",
       "      <td>second</td>\n",
       "      <td>serve</td>\n",
       "      <td>forehand</td>\n",
       "      <td>4.48</td>\n",
       "      <td>-0.37</td>\n",
       "      <td>7.88</td>\n",
       "      <td>26.47</td>\n",
       "      <td>36.76</td>\n",
       "    </tr>\n",
       "  </tbody>\n",
       "</table>\n",
       "</div>"
      ],
      "text/plain": [
       "   rallyid  frameid  strokeid    hitter  receiver  isserve   serve     type  \\\n",
       "0        1    70877         1  Djokovic     Nadal     True   first    serve   \n",
       "1        1    70900         2     Nadal  Djokovic    False   first    slice   \n",
       "2        1    70950         3  Djokovic     Nadal    False   first  topspin   \n",
       "3        2    71488         1  Djokovic     Nadal     True   first    serve   \n",
       "4        3    71796         1  Djokovic     Nadal     True  second    serve   \n",
       "\n",
       "     stroke  hitter_x  hitter_y  receiver_x  receiver_y   time  \n",
       "0  forehand      6.50     -0.24        1.03       27.44   0.00  \n",
       "1  backhand      0.05     25.59        6.17        1.11   0.92  \n",
       "2  forehand      1.42      2.33        4.75       26.45   2.92  \n",
       "3  forehand      4.48     -0.01        7.90       26.83  24.44  \n",
       "4  forehand      4.48     -0.37        7.88       26.47  36.76  "
      ]
     },
     "execution_count": 3,
     "metadata": {},
     "output_type": "execute_result"
    }
   ],
   "source": [
    "# events\n",
    "events.head()"
   ]
  },
  {
   "cell_type": "code",
   "execution_count": 4,
   "id": "d90c7e2e",
   "metadata": {},
   "outputs": [
    {
     "data": {
      "text/html": [
       "<div>\n",
       "<style scoped>\n",
       "    .dataframe tbody tr th:only-of-type {\n",
       "        vertical-align: middle;\n",
       "    }\n",
       "\n",
       "    .dataframe tbody tr th {\n",
       "        vertical-align: top;\n",
       "    }\n",
       "\n",
       "    .dataframe thead th {\n",
       "        text-align: right;\n",
       "    }\n",
       "</style>\n",
       "<table border=\"1\" class=\"dataframe\">\n",
       "  <thead>\n",
       "    <tr style=\"text-align: right;\">\n",
       "      <th></th>\n",
       "      <th>rallyid</th>\n",
       "      <th>server</th>\n",
       "      <th>returner</th>\n",
       "      <th>winner</th>\n",
       "      <th>reason</th>\n",
       "      <th>serve</th>\n",
       "      <th>strokes</th>\n",
       "      <th>totaltime</th>\n",
       "      <th>x</th>\n",
       "      <th>y</th>\n",
       "      <th>score</th>\n",
       "    </tr>\n",
       "  </thead>\n",
       "  <tbody>\n",
       "    <tr>\n",
       "      <th>0</th>\n",
       "      <td>1</td>\n",
       "      <td>Djokovic</td>\n",
       "      <td>Nadal</td>\n",
       "      <td>Djokovic</td>\n",
       "      <td>winner</td>\n",
       "      <td>first</td>\n",
       "      <td>3</td>\n",
       "      <td>0.92</td>\n",
       "      <td>1.92</td>\n",
       "      <td>21.96</td>\n",
       "      <td>0:0, 15:0</td>\n",
       "    </tr>\n",
       "    <tr>\n",
       "      <th>2</th>\n",
       "      <td>3</td>\n",
       "      <td>Djokovic</td>\n",
       "      <td>Nadal</td>\n",
       "      <td>Djokovic</td>\n",
       "      <td>out</td>\n",
       "      <td>second</td>\n",
       "      <td>4</td>\n",
       "      <td>4.16</td>\n",
       "      <td>3.33</td>\n",
       "      <td>-0.39</td>\n",
       "      <td>0:0, 30:0</td>\n",
       "    </tr>\n",
       "    <tr>\n",
       "      <th>4</th>\n",
       "      <td>5</td>\n",
       "      <td>Djokovic</td>\n",
       "      <td>Nadal</td>\n",
       "      <td>Djokovic</td>\n",
       "      <td>ace</td>\n",
       "      <td>second</td>\n",
       "      <td>2</td>\n",
       "      <td>0.40</td>\n",
       "      <td>1.62</td>\n",
       "      <td>17.18</td>\n",
       "      <td>0:0, 40:0</td>\n",
       "    </tr>\n",
       "    <tr>\n",
       "      <th>5</th>\n",
       "      <td>6</td>\n",
       "      <td>Djokovic</td>\n",
       "      <td>Nadal</td>\n",
       "      <td>Djokovic</td>\n",
       "      <td>net</td>\n",
       "      <td>first</td>\n",
       "      <td>10</td>\n",
       "      <td>10.40</td>\n",
       "      <td>6.41</td>\n",
       "      <td>12.78</td>\n",
       "      <td>1:0, 0:0</td>\n",
       "    </tr>\n",
       "    <tr>\n",
       "      <th>7</th>\n",
       "      <td>8</td>\n",
       "      <td>Nadal</td>\n",
       "      <td>Djokovic</td>\n",
       "      <td>Djokovic</td>\n",
       "      <td>out</td>\n",
       "      <td>second</td>\n",
       "      <td>7</td>\n",
       "      <td>7.20</td>\n",
       "      <td>0.50</td>\n",
       "      <td>18.67</td>\n",
       "      <td>1:0, 15:0</td>\n",
       "    </tr>\n",
       "  </tbody>\n",
       "</table>\n",
       "</div>"
      ],
      "text/plain": [
       "   rallyid    server  returner    winner  reason   serve  strokes  totaltime  \\\n",
       "0        1  Djokovic     Nadal  Djokovic  winner   first        3       0.92   \n",
       "2        3  Djokovic     Nadal  Djokovic     out  second        4       4.16   \n",
       "4        5  Djokovic     Nadal  Djokovic     ace  second        2       0.40   \n",
       "5        6  Djokovic     Nadal  Djokovic     net   first       10      10.40   \n",
       "7        8     Nadal  Djokovic  Djokovic     out  second        7       7.20   \n",
       "\n",
       "      x      y      score  \n",
       "0  1.92  21.96  0:0, 15:0  \n",
       "2  3.33  -0.39  0:0, 30:0  \n",
       "4  1.62  17.18  0:0, 40:0  \n",
       "5  6.41  12.78   1:0, 0:0  \n",
       "7  0.50  18.67  1:0, 15:0  "
      ]
     },
     "execution_count": 4,
     "metadata": {},
     "output_type": "execute_result"
    }
   ],
   "source": [
    "points.head()"
   ]
  },
  {
   "cell_type": "code",
   "execution_count": 5,
   "id": "5ac6c124",
   "metadata": {},
   "outputs": [],
   "source": [
    "temp = events.merge(right=points, how='left', left_on='rallyid', right_on='rallyid')"
   ]
  },
  {
   "cell_type": "code",
   "execution_count": 6,
   "id": "246d1211",
   "metadata": {},
   "outputs": [],
   "source": [
    "def linear_interpolate_data(data):\n",
    "    data = np.array(data)\n",
    "    interpolate_values = np.arange(0,1,0.1)\n",
    "    ret = []\n",
    "    for i in range(0,len(data)-1):\n",
    "        for j in interpolate_values:\n",
    "            temp = data[i]*(1-j) + data[i+1] * j\n",
    "            ret.append(temp.T)\n",
    "    ret = np.array(ret)\n",
    "    return ret"
   ]
  },
  {
   "cell_type": "code",
   "execution_count": 7,
   "id": "355fb316",
   "metadata": {},
   "outputs": [],
   "source": [
    "def add_padding(data, amt_to_pad, where_to_insert):\n",
    "    data = np.array(data)\n",
    "    padding = [data[where_to_insert]] * amt_to_pad\n",
    "    data = np.insert(data, where_to_insert, padding, axis=0)\n",
    "    return data"
   ]
  },
  {
   "cell_type": "code",
   "execution_count": 8,
   "id": "10c2d8a5",
   "metadata": {},
   "outputs": [],
   "source": [
    "import itertools"
   ]
  },
  {
   "cell_type": "code",
   "execution_count": 9,
   "id": "dba07f36",
   "metadata": {},
   "outputs": [],
   "source": [
    "def pad_rally_meta_data(data, amt_to_pad):\n",
    "    data = np.array(data)\n",
    "    temp = []\n",
    "    for i in range(0, len(data)):\n",
    "        temp.append([data[i]] * amt_to_pad)\n",
    "    for i in range(0, len(temp)):\n",
    "        data = np.insert(data, i*amt_to_pad, temp[i], axis=0)\n",
    "    data = np.insert(data, len(data), data[-1], axis=0)\n",
    "    data.resize((len(data) - 10), 8)\n",
    "    return np.array(data)"
   ]
  },
  {
   "cell_type": "code",
   "execution_count": 46,
   "id": "e34606dc",
   "metadata": {},
   "outputs": [],
   "source": [
    "def extract_rally_data(data_extract, rally_id):\n",
    "    player1 = []\n",
    "    player2 = []\n",
    "    ball = []\n",
    "    rally_metadata = []\n",
    "    data = data_extract.loc[events['rallyid'] == rally_id]\n",
    "    data = data.reset_index()\n",
    "    for i in range(0, len(data)):\n",
    "        x1 = 0\n",
    "        x2 = 0\n",
    "        y1 = 0\n",
    "        y2 = 0\n",
    "        if i % 2 == 0:\n",
    "            x1 = data.loc[i, 'hitter_x']\n",
    "            y1 = data.loc[i, 'hitter_y']\n",
    "            x2 = data.loc[i, 'receiver_x']\n",
    "            y2 = data.loc[i, 'receiver_y']\n",
    "            ball.append(np.asarray([x1,y1]))\n",
    "        else:\n",
    "            x2 = data.loc[i, 'hitter_x']\n",
    "            y2 = data.loc[i, 'hitter_y']\n",
    "            x1 = data.loc[i, 'receiver_x']\n",
    "            y1 = data.loc[i, 'receiver_y']\n",
    "            ball.append(np.asarray([x2, y2]))\n",
    "        player1.append(np.asarray([x1, y1]))\n",
    "        player2.append(np.asarray([x2, y2]))\n",
    "        rally_metadata.append([\"type \"+str(data.loc[i, 'type']), \"stroke \"+str(data.loc[i, 'stroke']), \n",
    "                              \"hitter \"+str(data.loc[i, 'hitter']), \"rallyid \"+str(data.loc[i, 'rallyid']),\n",
    "                              \"strokeid \"+str(data.loc[i, 'strokeid']), \"server \"+str(data.loc[i, 'server']),\n",
    "                              \"1st/2nd serve \"+str(data.loc[i, 'serve_x']), \"score \"+str(data.loc[i, 'score'])])\n",
    "    player1 = linear_interpolate_data(player1)\n",
    "    player1 = add_padding(player1, 11, -1)\n",
    "    player2 = linear_interpolate_data(player2)\n",
    "    player2 = add_padding(player2, 11, -1)\n",
    "    ball.append(np.asarray([data.loc[0, 'x'], data.loc[0, 'y']]))\n",
    "    ball = linear_interpolate_data(ball)\n",
    "    ball = np.insert(ball, len(ball), np.asarray([data.loc[0, 'x'], data.loc[0, 'y']]), axis=0)\n",
    "    rally_metadata = pad_rally_meta_data(rally_metadata, data.shape[0])\n",
    "    return player1, player2, ball, rally_metadata"
   ]
  },
  {
   "cell_type": "code",
   "execution_count": 47,
   "id": "a87238a4",
   "metadata": {},
   "outputs": [],
   "source": [
    "def create_figure(data, rally_id):\n",
    "    player1, player2, ball, rally_metadata = extract_rally_data(data, rally_id)\n",
    "\n",
    "    height_court = 10.97\n",
    "    width_court = 11.89*2\n",
    "    service_box = 6.4\n",
    "    double_field = 1.37\n",
    "    baseline_serviceline = 5.5\n",
    "    breite_einzel = 8.23\n",
    "    serviceline_net = 6.4\n",
    "    colors=['red', 'cyan']\n",
    "\n",
    "    # Create figure\n",
    "    fig = go.Figure(\n",
    "        data=[\n",
    "            go.Scatter(x=[-10], y=[-10]),\n",
    "            go.Scatter(x=[-10], y=[-10]),\n",
    "            go.Scatter(x=[-10], y=[-10]),\n",
    "            go.Scatter(x=[-10], y=[-10]),\n",
    "            go.Scatter(x=[-10], y=[-10]),\n",
    "            go.Scatter(x=[-10], y=[-10]),\n",
    "            go.Scatter(x=[-10], y=[-10]),\n",
    "            go.Scatter(x=[-10], y=[-10]),\n",
    "            go.Scatter(x=[-10], y=[-10]),\n",
    "            go.Scatter(x=[-10], y=[-10]),\n",
    "            go.Scatter(x=[height_court, 0], y=[width_court/2, width_court/2],\n",
    "                         mode=\"lines\",\n",
    "                         line=dict(width=2, color=\"white\")),\n",
    "              go.Scatter(x=[0,0, height_court, height_court, 0],\n",
    "                         y=[0,width_court,width_court, 0, 0],\n",
    "                         mode=\"lines\",\n",
    "                         line=dict(width=2, color=\"white\")),\n",
    "              go.Scatter(x=[height_court/2, width_court/2-service_box],\n",
    "                         y=[height_court/2, width_court/2+service_box],\n",
    "                        mode=\"lines\",\n",
    "                        line=dict(width=2, color=\"white\")),\n",
    "              go.Scatter(x=[height_court/2, height_court/2], y=[0, 0 + 0.45],\n",
    "                        mode=\"lines\",\n",
    "                        line=dict(width=2, color=\"white\")),\n",
    "              go.Scatter(x=[height_court/2, height_court/2], y=[width_court, width_court - 0.45],\n",
    "                mode=\"lines\",\n",
    "                line=dict(width=2, color=\"white\")),\n",
    "             go.Scatter(x=[1.37, 1.37], y=[0, width_court],\n",
    "                mode=\"lines\",\n",
    "                line=dict(width=2, color=\"white\")),\n",
    "            go.Scatter(x=[height_court-1.37, height_court-1.37], y=[0, width_court],\n",
    "                mode=\"lines\",\n",
    "                line=dict(width=2, color=\"white\")),\n",
    "            go.Scatter(x=[0+double_field,0+double_field, \n",
    "                          height_court-1.37, height_court-1.37, 0+double_field],\n",
    "                       y=[baseline_serviceline, width_court/2+service_box, \n",
    "                          width_court/2+service_box, baseline_serviceline, baseline_serviceline],\n",
    "                mode=\"lines\",\n",
    "                line=dict(width=2, color=\"white\")),\n",
    "            go.Scatter(\n",
    "                 x=[-5],\n",
    "                 y=[20],\n",
    "                 mode='text',\n",
    "                textfont=dict(color='white', size=12),\n",
    "                 text=rally_metadata[0][7]),\n",
    "            go.Scatter(\n",
    "                 x=[-5],\n",
    "                 y=[16],\n",
    "                 mode='text',\n",
    "                textfont=dict(color='white', size=12),\n",
    "                 text=rally_metadata[0][6]),\n",
    "                 go.Scatter(\n",
    "                 x=[-5],\n",
    "                 y=[18],\n",
    "                 mode='text',\n",
    "                textfont=dict(color='white', size=12),\n",
    "                 text=rally_metadata[0][5]),\n",
    "                 go.Scatter(\n",
    "                 x=[-5],\n",
    "                 y=[14],\n",
    "                 mode='text',\n",
    "                     textfont=dict(color='white', size=12),\n",
    "                 text=rally_metadata[0][3])\n",
    "              ],\n",
    "        layout=go.Layout(\n",
    "            xaxis=dict(range=[-9, height_court+2], autorange=False, zeroline=False, showgrid=False),\n",
    "            yaxis=dict(range=[-6.5, width_court+6.5], \n",
    "                       autorange=False, zeroline=False, showgrid=False, ),\n",
    "            height=800,\n",
    "            width=550,\n",
    "            title_text=\"Tennis Point\",\n",
    "            plot_bgcolor=\"#5080B0\",\n",
    "            updatemenus = [\n",
    "        {\n",
    "            \"buttons\": [\n",
    "                {\n",
    "                    \"args\": [None, {\"frame\": {\"duration\": 100, \"redraw\": True},\n",
    "                                    \"fromcurrent\": True, \"transition\": {\"duration\": 300,\n",
    "                                                                        \"easing\": \"quadratic-in-out\"}}],\n",
    "                    \"label\": \"Play\",\n",
    "                    \"method\": \"animate\"\n",
    "                },\n",
    "                {\n",
    "                    \"args\": [[None],{\"frame\": {\"duration\": 0, \"redraw\": True},\n",
    "                                      \"mode\": \"immediate\",\n",
    "                                      \"transition\": {\"duration\": 0}}],\n",
    "                    \"label\": \"Pause\",\n",
    "                    \"method\": \"animate\"\n",
    "                }\n",
    "            ],\n",
    "            \"direction\": \"left\",\n",
    "            \"pad\": {\"r\": 10, \"t\": 87},\n",
    "            \"showactive\": True,\n",
    "            \"type\": \"buttons\",\n",
    "            \"x\": 0.1,\n",
    "            \"xanchor\": \"right\",\n",
    "            \"y\": 0,\n",
    "            \"yanchor\": \"top\"\n",
    "        }\n",
    "    ]),\n",
    "\n",
    "        frames=[go.Frame(\n",
    "            data=[go.Scatter(\n",
    "                x=[player1[k][0]],\n",
    "                y=[player1[k][1]],\n",
    "                mode=\"markers\",\n",
    "                marker=dict(color=\"red\", size=10)),\n",
    "                 go.Scatter(\n",
    "                x=[player2[k][0]],\n",
    "                y=[player2[k][1]],\n",
    "                mode=\"markers\",\n",
    "                marker=dict(color=\"cyan\", size=10)),\n",
    "                  go.Scatter(\n",
    "                x=[ball[k][0]],\n",
    "                y=[ball[k][1]],\n",
    "                mode=\"markers\",\n",
    "                marker=dict(color=\"yellow\", size=10)),\n",
    "                 go.Scatter(\n",
    "                 x=[-5],\n",
    "                 y=[6],\n",
    "                 mode='text',\n",
    "                     textfont=dict(color='white', size=12),\n",
    "                 text=rally_metadata[k][0]),\n",
    "                 go.Scatter(\n",
    "                 x=[-5],\n",
    "                 y=[8],\n",
    "                 mode='text',\n",
    "                     textfont=dict(color='white', size=12),\n",
    "                 text=rally_metadata[k][1]),\n",
    "                 go.Scatter(\n",
    "                 x=[-5],\n",
    "                 y=[10],\n",
    "                 mode='text',\n",
    "                     textfont=dict(color='white', size=12),\n",
    "                 text=rally_metadata[k][2]),\n",
    "                 go.Scatter(\n",
    "                 x=[-5],\n",
    "                 y=[12],\n",
    "                 mode='text',\n",
    "                     textfont=dict(color='white', size=12),\n",
    "                 text=rally_metadata[k][4])])\n",
    "            for k in range(len(player1))]\n",
    "    )\n",
    "    return fig"
   ]
  },
  {
   "cell_type": "code",
   "execution_count": 48,
   "id": "f092ce4b",
   "metadata": {},
   "outputs": [
    {
     "ename": "IndexError",
     "evalue": "index 47 is out of bounds for axis 0 with size 47",
     "output_type": "error",
     "traceback": [
      "\u001b[0;31m---------------------------------------------------------------------------\u001b[0m",
      "\u001b[0;31mIndexError\u001b[0m                                Traceback (most recent call last)",
      "\u001b[0;32m<ipython-input-48-a32b93d6feda>\u001b[0m in \u001b[0;36m<module>\u001b[0;34m\u001b[0m\n\u001b[0;32m----> 1\u001b[0;31m \u001b[0mfig\u001b[0m \u001b[0;34m=\u001b[0m \u001b[0mcreate_figure\u001b[0m\u001b[0;34m(\u001b[0m\u001b[0mtemp\u001b[0m\u001b[0;34m,\u001b[0m \u001b[0;36m8\u001b[0m\u001b[0;34m)\u001b[0m\u001b[0;34m\u001b[0m\u001b[0;34m\u001b[0m\u001b[0m\n\u001b[0m",
      "\u001b[0;32m<ipython-input-47-4bbfa295e812>\u001b[0m in \u001b[0;36mcreate_figure\u001b[0;34m(data, rally_id)\u001b[0m\n\u001b[1;32m    115\u001b[0m     ]),\n\u001b[1;32m    116\u001b[0m \u001b[0;34m\u001b[0m\u001b[0m\n\u001b[0;32m--> 117\u001b[0;31m         frames=[go.Frame(\n\u001b[0m\u001b[1;32m    118\u001b[0m             data=[go.Scatter(\n\u001b[1;32m    119\u001b[0m                 \u001b[0mx\u001b[0m\u001b[0;34m=\u001b[0m\u001b[0;34m[\u001b[0m\u001b[0mplayer1\u001b[0m\u001b[0;34m[\u001b[0m\u001b[0mk\u001b[0m\u001b[0;34m]\u001b[0m\u001b[0;34m[\u001b[0m\u001b[0;36m0\u001b[0m\u001b[0;34m]\u001b[0m\u001b[0;34m]\u001b[0m\u001b[0;34m,\u001b[0m\u001b[0;34m\u001b[0m\u001b[0;34m\u001b[0m\u001b[0m\n",
      "\u001b[0;32m<ipython-input-47-4bbfa295e812>\u001b[0m in \u001b[0;36m<listcomp>\u001b[0;34m(.0)\u001b[0m\n\u001b[1;32m    136\u001b[0m                  \u001b[0mmode\u001b[0m\u001b[0;34m=\u001b[0m\u001b[0;34m'text'\u001b[0m\u001b[0;34m,\u001b[0m\u001b[0;34m\u001b[0m\u001b[0;34m\u001b[0m\u001b[0m\n\u001b[1;32m    137\u001b[0m                      \u001b[0mtextfont\u001b[0m\u001b[0;34m=\u001b[0m\u001b[0mdict\u001b[0m\u001b[0;34m(\u001b[0m\u001b[0mcolor\u001b[0m\u001b[0;34m=\u001b[0m\u001b[0;34m'white'\u001b[0m\u001b[0;34m,\u001b[0m \u001b[0msize\u001b[0m\u001b[0;34m=\u001b[0m\u001b[0;36m12\u001b[0m\u001b[0;34m)\u001b[0m\u001b[0;34m,\u001b[0m\u001b[0;34m\u001b[0m\u001b[0;34m\u001b[0m\u001b[0m\n\u001b[0;32m--> 138\u001b[0;31m                  text=rally_metadata[k][0]),\n\u001b[0m\u001b[1;32m    139\u001b[0m                  go.Scatter(\n\u001b[1;32m    140\u001b[0m                  \u001b[0mx\u001b[0m\u001b[0;34m=\u001b[0m\u001b[0;34m[\u001b[0m\u001b[0;34m-\u001b[0m\u001b[0;36m5\u001b[0m\u001b[0;34m]\u001b[0m\u001b[0;34m,\u001b[0m\u001b[0;34m\u001b[0m\u001b[0;34m\u001b[0m\u001b[0m\n",
      "\u001b[0;31mIndexError\u001b[0m: index 47 is out of bounds for axis 0 with size 47"
     ]
    }
   ],
   "source": [
    "fig = create_figure(temp, 8)"
   ]
  },
  {
   "cell_type": "code",
   "execution_count": 40,
   "id": "f7fca98f",
   "metadata": {},
   "outputs": [
    {
     "data": {
      "application/vnd.plotly.v1+json": {
       "config": {
        "plotlyServerURL": "https://plot.ly"
       },
       "data": [
        {
         "type": "scatter",
         "x": [
          -10
         ],
         "y": [
          -10
         ]
        },
        {
         "type": "scatter",
         "x": [
          -10
         ],
         "y": [
          -10
         ]
        },
        {
         "type": "scatter",
         "x": [
          -10
         ],
         "y": [
          -10
         ]
        },
        {
         "type": "scatter",
         "x": [
          -10
         ],
         "y": [
          -10
         ]
        },
        {
         "type": "scatter",
         "x": [
          -10
         ],
         "y": [
          -10
         ]
        },
        {
         "type": "scatter",
         "x": [
          -10
         ],
         "y": [
          -10
         ]
        },
        {
         "type": "scatter",
         "x": [
          -10
         ],
         "y": [
          -10
         ]
        },
        {
         "type": "scatter",
         "x": [
          -10
         ],
         "y": [
          -10
         ]
        },
        {
         "type": "scatter",
         "x": [
          -10
         ],
         "y": [
          -10
         ]
        },
        {
         "type": "scatter",
         "x": [
          -10
         ],
         "y": [
          -10
         ]
        },
        {
         "line": {
          "color": "white",
          "width": 2
         },
         "mode": "lines",
         "type": "scatter",
         "x": [
          10.97,
          0
         ],
         "y": [
          11.89,
          11.89
         ]
        },
        {
         "line": {
          "color": "white",
          "width": 2
         },
         "mode": "lines",
         "type": "scatter",
         "x": [
          0,
          0,
          10.97,
          10.97,
          0
         ],
         "y": [
          0,
          23.78,
          23.78,
          0,
          0
         ]
        },
        {
         "line": {
          "color": "white",
          "width": 2
         },
         "mode": "lines",
         "type": "scatter",
         "x": [
          5.485,
          5.49
         ],
         "y": [
          5.485,
          18.29
         ]
        },
        {
         "line": {
          "color": "white",
          "width": 2
         },
         "mode": "lines",
         "type": "scatter",
         "x": [
          5.485,
          5.485
         ],
         "y": [
          0,
          0.45
         ]
        },
        {
         "line": {
          "color": "white",
          "width": 2
         },
         "mode": "lines",
         "type": "scatter",
         "x": [
          5.485,
          5.485
         ],
         "y": [
          23.78,
          23.330000000000002
         ]
        },
        {
         "line": {
          "color": "white",
          "width": 2
         },
         "mode": "lines",
         "type": "scatter",
         "x": [
          1.37,
          1.37
         ],
         "y": [
          0,
          23.78
         ]
        },
        {
         "line": {
          "color": "white",
          "width": 2
         },
         "mode": "lines",
         "type": "scatter",
         "x": [
          9.600000000000001,
          9.600000000000001
         ],
         "y": [
          0,
          23.78
         ]
        },
        {
         "line": {
          "color": "white",
          "width": 2
         },
         "mode": "lines",
         "type": "scatter",
         "x": [
          1.37,
          1.37,
          9.600000000000001,
          9.600000000000001,
          1.37
         ],
         "y": [
          5.5,
          18.29,
          18.29,
          5.5,
          5.5
         ]
        },
        {
         "mode": "text",
         "text": "score 1:0, 0:0",
         "textfont": {
          "color": "white",
          "size": 12
         },
         "type": "scatter",
         "x": [
          -5
         ],
         "y": [
          20
         ]
        },
        {
         "mode": "text",
         "text": "1st/2nd serve first",
         "textfont": {
          "color": "white",
          "size": 12
         },
         "type": "scatter",
         "x": [
          -5
         ],
         "y": [
          16
         ]
        },
        {
         "mode": "text",
         "text": "server Djokovic",
         "textfont": {
          "color": "white",
          "size": 12
         },
         "type": "scatter",
         "x": [
          -5
         ],
         "y": [
          18
         ]
        },
        {
         "mode": "text",
         "text": "rallyid 6",
         "textfont": {
          "color": "white",
          "size": 12
         },
         "type": "scatter",
         "x": [
          -5
         ],
         "y": [
          14
         ]
        }
       ],
       "frames": [
        {
         "data": [
          {
           "marker": {
            "color": "red",
            "size": 10
           },
           "mode": "markers",
           "type": "scatter",
           "x": [
            4.45
           ],
           "y": [
            -0.25
           ]
          },
          {
           "marker": {
            "color": "cyan",
            "size": 10
           },
           "mode": "markers",
           "type": "scatter",
           "x": [
            7.81
           ],
           "y": [
            28.35
           ]
          },
          {
           "marker": {
            "color": "yellow",
            "size": 10
           },
           "mode": "markers",
           "type": "scatter",
           "x": [
            4.45
           ],
           "y": [
            -0.25
           ]
          },
          {
           "mode": "text",
           "text": "type serve",
           "textfont": {
            "color": "white",
            "size": 12
           },
           "type": "scatter",
           "x": [
            -5
           ],
           "y": [
            6
           ]
          },
          {
           "mode": "text",
           "text": "stroke forehand",
           "textfont": {
            "color": "white",
            "size": 12
           },
           "type": "scatter",
           "x": [
            -5
           ],
           "y": [
            8
           ]
          },
          {
           "mode": "text",
           "text": "hitter Djokovic",
           "textfont": {
            "color": "white",
            "size": 12
           },
           "type": "scatter",
           "x": [
            -5
           ],
           "y": [
            10
           ]
          },
          {
           "mode": "text",
           "text": "strokeid 1",
           "textfont": {
            "color": "white",
            "size": 12
           },
           "type": "scatter",
           "x": [
            -5
           ],
           "y": [
            12
           ]
          }
         ]
        },
        {
         "data": [
          {
           "marker": {
            "color": "red",
            "size": 10
           },
           "mode": "markers",
           "type": "scatter",
           "x": [
            4.452
           ],
           "y": [
            -0.099
           ]
          },
          {
           "marker": {
            "color": "cyan",
            "size": 10
           },
           "mode": "markers",
           "type": "scatter",
           "x": [
            7.913
           ],
           "y": [
            28.272000000000002
           ]
          },
          {
           "marker": {
            "color": "yellow",
            "size": 10
           },
           "mode": "markers",
           "type": "scatter",
           "x": [
            4.889
           ],
           "y": [
            2.532
           ]
          },
          {
           "mode": "text",
           "text": "type serve",
           "textfont": {
            "color": "white",
            "size": 12
           },
           "type": "scatter",
           "x": [
            -5
           ],
           "y": [
            6
           ]
          },
          {
           "mode": "text",
           "text": "stroke forehand",
           "textfont": {
            "color": "white",
            "size": 12
           },
           "type": "scatter",
           "x": [
            -5
           ],
           "y": [
            8
           ]
          },
          {
           "mode": "text",
           "text": "hitter Djokovic",
           "textfont": {
            "color": "white",
            "size": 12
           },
           "type": "scatter",
           "x": [
            -5
           ],
           "y": [
            10
           ]
          },
          {
           "mode": "text",
           "text": "strokeid 1",
           "textfont": {
            "color": "white",
            "size": 12
           },
           "type": "scatter",
           "x": [
            -5
           ],
           "y": [
            12
           ]
          }
         ]
        },
        {
         "data": [
          {
           "marker": {
            "color": "red",
            "size": 10
           },
           "mode": "markers",
           "type": "scatter",
           "x": [
            4.454000000000001
           ],
           "y": [
            0.05199999999999999
           ]
          },
          {
           "marker": {
            "color": "cyan",
            "size": 10
           },
           "mode": "markers",
           "type": "scatter",
           "x": [
            8.016
           ],
           "y": [
            28.194000000000003
           ]
          },
          {
           "marker": {
            "color": "yellow",
            "size": 10
           },
           "mode": "markers",
           "type": "scatter",
           "x": [
            5.328
           ],
           "y": [
            5.314
           ]
          },
          {
           "mode": "text",
           "text": "type serve",
           "textfont": {
            "color": "white",
            "size": 12
           },
           "type": "scatter",
           "x": [
            -5
           ],
           "y": [
            6
           ]
          },
          {
           "mode": "text",
           "text": "stroke forehand",
           "textfont": {
            "color": "white",
            "size": 12
           },
           "type": "scatter",
           "x": [
            -5
           ],
           "y": [
            8
           ]
          },
          {
           "mode": "text",
           "text": "hitter Djokovic",
           "textfont": {
            "color": "white",
            "size": 12
           },
           "type": "scatter",
           "x": [
            -5
           ],
           "y": [
            10
           ]
          },
          {
           "mode": "text",
           "text": "strokeid 1",
           "textfont": {
            "color": "white",
            "size": 12
           },
           "type": "scatter",
           "x": [
            -5
           ],
           "y": [
            12
           ]
          }
         ]
        },
        {
         "data": [
          {
           "marker": {
            "color": "red",
            "size": 10
           },
           "mode": "markers",
           "type": "scatter",
           "x": [
            4.4559999999999995
           ],
           "y": [
            0.20300000000000007
           ]
          },
          {
           "marker": {
            "color": "cyan",
            "size": 10
           },
           "mode": "markers",
           "type": "scatter",
           "x": [
            8.119
           ],
           "y": [
            28.116
           ]
          },
          {
           "marker": {
            "color": "yellow",
            "size": 10
           },
           "mode": "markers",
           "type": "scatter",
           "x": [
            5.7669999999999995
           ],
           "y": [
            8.096
           ]
          },
          {
           "mode": "text",
           "text": "type serve",
           "textfont": {
            "color": "white",
            "size": 12
           },
           "type": "scatter",
           "x": [
            -5
           ],
           "y": [
            6
           ]
          },
          {
           "mode": "text",
           "text": "stroke forehand",
           "textfont": {
            "color": "white",
            "size": 12
           },
           "type": "scatter",
           "x": [
            -5
           ],
           "y": [
            8
           ]
          },
          {
           "mode": "text",
           "text": "hitter Djokovic",
           "textfont": {
            "color": "white",
            "size": 12
           },
           "type": "scatter",
           "x": [
            -5
           ],
           "y": [
            10
           ]
          },
          {
           "mode": "text",
           "text": "strokeid 1",
           "textfont": {
            "color": "white",
            "size": 12
           },
           "type": "scatter",
           "x": [
            -5
           ],
           "y": [
            12
           ]
          }
         ]
        },
        {
         "data": [
          {
           "marker": {
            "color": "red",
            "size": 10
           },
           "mode": "markers",
           "type": "scatter",
           "x": [
            4.458
           ],
           "y": [
            0.354
           ]
          },
          {
           "marker": {
            "color": "cyan",
            "size": 10
           },
           "mode": "markers",
           "type": "scatter",
           "x": [
            8.222
           ],
           "y": [
            28.038000000000004
           ]
          },
          {
           "marker": {
            "color": "yellow",
            "size": 10
           },
           "mode": "markers",
           "type": "scatter",
           "x": [
            6.2059999999999995
           ],
           "y": [
            10.878
           ]
          },
          {
           "mode": "text",
           "text": "type serve",
           "textfont": {
            "color": "white",
            "size": 12
           },
           "type": "scatter",
           "x": [
            -5
           ],
           "y": [
            6
           ]
          },
          {
           "mode": "text",
           "text": "stroke forehand",
           "textfont": {
            "color": "white",
            "size": 12
           },
           "type": "scatter",
           "x": [
            -5
           ],
           "y": [
            8
           ]
          },
          {
           "mode": "text",
           "text": "hitter Djokovic",
           "textfont": {
            "color": "white",
            "size": 12
           },
           "type": "scatter",
           "x": [
            -5
           ],
           "y": [
            10
           ]
          },
          {
           "mode": "text",
           "text": "strokeid 1",
           "textfont": {
            "color": "white",
            "size": 12
           },
           "type": "scatter",
           "x": [
            -5
           ],
           "y": [
            12
           ]
          }
         ]
        },
        {
         "data": [
          {
           "marker": {
            "color": "red",
            "size": 10
           },
           "mode": "markers",
           "type": "scatter",
           "x": [
            4.46
           ],
           "y": [
            0.505
           ]
          },
          {
           "marker": {
            "color": "cyan",
            "size": 10
           },
           "mode": "markers",
           "type": "scatter",
           "x": [
            8.325
           ],
           "y": [
            27.96
           ]
          },
          {
           "marker": {
            "color": "yellow",
            "size": 10
           },
           "mode": "markers",
           "type": "scatter",
           "x": [
            6.645
           ],
           "y": [
            13.66
           ]
          },
          {
           "mode": "text",
           "text": "type serve",
           "textfont": {
            "color": "white",
            "size": 12
           },
           "type": "scatter",
           "x": [
            -5
           ],
           "y": [
            6
           ]
          },
          {
           "mode": "text",
           "text": "stroke forehand",
           "textfont": {
            "color": "white",
            "size": 12
           },
           "type": "scatter",
           "x": [
            -5
           ],
           "y": [
            8
           ]
          },
          {
           "mode": "text",
           "text": "hitter Djokovic",
           "textfont": {
            "color": "white",
            "size": 12
           },
           "type": "scatter",
           "x": [
            -5
           ],
           "y": [
            10
           ]
          },
          {
           "mode": "text",
           "text": "strokeid 1",
           "textfont": {
            "color": "white",
            "size": 12
           },
           "type": "scatter",
           "x": [
            -5
           ],
           "y": [
            12
           ]
          }
         ]
        },
        {
         "data": [
          {
           "marker": {
            "color": "red",
            "size": 10
           },
           "mode": "markers",
           "type": "scatter",
           "x": [
            4.462
           ],
           "y": [
            0.6560000000000001
           ]
          },
          {
           "marker": {
            "color": "cyan",
            "size": 10
           },
           "mode": "markers",
           "type": "scatter",
           "x": [
            8.427999999999999
           ],
           "y": [
            27.881999999999998
           ]
          },
          {
           "marker": {
            "color": "yellow",
            "size": 10
           },
           "mode": "markers",
           "type": "scatter",
           "x": [
            7.084
           ],
           "y": [
            16.442
           ]
          },
          {
           "mode": "text",
           "text": "type serve",
           "textfont": {
            "color": "white",
            "size": 12
           },
           "type": "scatter",
           "x": [
            -5
           ],
           "y": [
            6
           ]
          },
          {
           "mode": "text",
           "text": "stroke forehand",
           "textfont": {
            "color": "white",
            "size": 12
           },
           "type": "scatter",
           "x": [
            -5
           ],
           "y": [
            8
           ]
          },
          {
           "mode": "text",
           "text": "hitter Djokovic",
           "textfont": {
            "color": "white",
            "size": 12
           },
           "type": "scatter",
           "x": [
            -5
           ],
           "y": [
            10
           ]
          },
          {
           "mode": "text",
           "text": "strokeid 1",
           "textfont": {
            "color": "white",
            "size": 12
           },
           "type": "scatter",
           "x": [
            -5
           ],
           "y": [
            12
           ]
          }
         ]
        },
        {
         "data": [
          {
           "marker": {
            "color": "red",
            "size": 10
           },
           "mode": "markers",
           "type": "scatter",
           "x": [
            4.4639999999999995
           ],
           "y": [
            0.8070000000000002
           ]
          },
          {
           "marker": {
            "color": "cyan",
            "size": 10
           },
           "mode": "markers",
           "type": "scatter",
           "x": [
            8.531
           ],
           "y": [
            27.804000000000002
           ]
          },
          {
           "marker": {
            "color": "yellow",
            "size": 10
           },
           "mode": "markers",
           "type": "scatter",
           "x": [
            7.523000000000001
           ],
           "y": [
            19.224000000000004
           ]
          },
          {
           "mode": "text",
           "text": "type serve",
           "textfont": {
            "color": "white",
            "size": 12
           },
           "type": "scatter",
           "x": [
            -5
           ],
           "y": [
            6
           ]
          },
          {
           "mode": "text",
           "text": "stroke forehand",
           "textfont": {
            "color": "white",
            "size": 12
           },
           "type": "scatter",
           "x": [
            -5
           ],
           "y": [
            8
           ]
          },
          {
           "mode": "text",
           "text": "hitter Djokovic",
           "textfont": {
            "color": "white",
            "size": 12
           },
           "type": "scatter",
           "x": [
            -5
           ],
           "y": [
            10
           ]
          },
          {
           "mode": "text",
           "text": "strokeid 1",
           "textfont": {
            "color": "white",
            "size": 12
           },
           "type": "scatter",
           "x": [
            -5
           ],
           "y": [
            12
           ]
          }
         ]
        },
        {
         "data": [
          {
           "marker": {
            "color": "red",
            "size": 10
           },
           "mode": "markers",
           "type": "scatter",
           "x": [
            4.466
           ],
           "y": [
            0.958
           ]
          },
          {
           "marker": {
            "color": "cyan",
            "size": 10
           },
           "mode": "markers",
           "type": "scatter",
           "x": [
            8.634
           ],
           "y": [
            27.726
           ]
          },
          {
           "marker": {
            "color": "yellow",
            "size": 10
           },
           "mode": "markers",
           "type": "scatter",
           "x": [
            7.962
           ],
           "y": [
            22.006
           ]
          },
          {
           "mode": "text",
           "text": "type serve",
           "textfont": {
            "color": "white",
            "size": 12
           },
           "type": "scatter",
           "x": [
            -5
           ],
           "y": [
            6
           ]
          },
          {
           "mode": "text",
           "text": "stroke forehand",
           "textfont": {
            "color": "white",
            "size": 12
           },
           "type": "scatter",
           "x": [
            -5
           ],
           "y": [
            8
           ]
          },
          {
           "mode": "text",
           "text": "hitter Djokovic",
           "textfont": {
            "color": "white",
            "size": 12
           },
           "type": "scatter",
           "x": [
            -5
           ],
           "y": [
            10
           ]
          },
          {
           "mode": "text",
           "text": "strokeid 1",
           "textfont": {
            "color": "white",
            "size": 12
           },
           "type": "scatter",
           "x": [
            -5
           ],
           "y": [
            12
           ]
          }
         ]
        },
        {
         "data": [
          {
           "marker": {
            "color": "red",
            "size": 10
           },
           "mode": "markers",
           "type": "scatter",
           "x": [
            4.468
           ],
           "y": [
            1.1090000000000002
           ]
          },
          {
           "marker": {
            "color": "cyan",
            "size": 10
           },
           "mode": "markers",
           "type": "scatter",
           "x": [
            8.737
           ],
           "y": [
            27.648000000000003
           ]
          },
          {
           "marker": {
            "color": "yellow",
            "size": 10
           },
           "mode": "markers",
           "type": "scatter",
           "x": [
            8.401
           ],
           "y": [
            24.788000000000004
           ]
          },
          {
           "mode": "text",
           "text": "type serve",
           "textfont": {
            "color": "white",
            "size": 12
           },
           "type": "scatter",
           "x": [
            -5
           ],
           "y": [
            6
           ]
          },
          {
           "mode": "text",
           "text": "stroke forehand",
           "textfont": {
            "color": "white",
            "size": 12
           },
           "type": "scatter",
           "x": [
            -5
           ],
           "y": [
            8
           ]
          },
          {
           "mode": "text",
           "text": "hitter Djokovic",
           "textfont": {
            "color": "white",
            "size": 12
           },
           "type": "scatter",
           "x": [
            -5
           ],
           "y": [
            10
           ]
          },
          {
           "mode": "text",
           "text": "strokeid 1",
           "textfont": {
            "color": "white",
            "size": 12
           },
           "type": "scatter",
           "x": [
            -5
           ],
           "y": [
            12
           ]
          }
         ]
        },
        {
         "data": [
          {
           "marker": {
            "color": "red",
            "size": 10
           },
           "mode": "markers",
           "type": "scatter",
           "x": [
            4.47
           ],
           "y": [
            1.26
           ]
          },
          {
           "marker": {
            "color": "cyan",
            "size": 10
           },
           "mode": "markers",
           "type": "scatter",
           "x": [
            8.84
           ],
           "y": [
            27.57
           ]
          },
          {
           "marker": {
            "color": "yellow",
            "size": 10
           },
           "mode": "markers",
           "type": "scatter",
           "x": [
            8.84
           ],
           "y": [
            27.57
           ]
          },
          {
           "mode": "text",
           "text": "type topspin",
           "textfont": {
            "color": "white",
            "size": 12
           },
           "type": "scatter",
           "x": [
            -5
           ],
           "y": [
            6
           ]
          },
          {
           "mode": "text",
           "text": "stroke forehand",
           "textfont": {
            "color": "white",
            "size": 12
           },
           "type": "scatter",
           "x": [
            -5
           ],
           "y": [
            8
           ]
          },
          {
           "mode": "text",
           "text": "hitter Nadal",
           "textfont": {
            "color": "white",
            "size": 12
           },
           "type": "scatter",
           "x": [
            -5
           ],
           "y": [
            10
           ]
          },
          {
           "mode": "text",
           "text": "strokeid 2",
           "textfont": {
            "color": "white",
            "size": 12
           },
           "type": "scatter",
           "x": [
            -5
           ],
           "y": [
            12
           ]
          }
         ]
        },
        {
         "data": [
          {
           "marker": {
            "color": "red",
            "size": 10
           },
           "mode": "markers",
           "type": "scatter",
           "x": [
            4.18
           ],
           "y": [
            1.2710000000000001
           ]
          },
          {
           "marker": {
            "color": "cyan",
            "size": 10
           },
           "mode": "markers",
           "type": "scatter",
           "x": [
            8.768
           ],
           "y": [
            27.507
           ]
          },
          {
           "marker": {
            "color": "yellow",
            "size": 10
           },
           "mode": "markers",
           "type": "scatter",
           "x": [
            8.113
           ],
           "y": [
            24.950000000000003
           ]
          },
          {
           "mode": "text",
           "text": "type topspin",
           "textfont": {
            "color": "white",
            "size": 12
           },
           "type": "scatter",
           "x": [
            -5
           ],
           "y": [
            6
           ]
          },
          {
           "mode": "text",
           "text": "stroke forehand",
           "textfont": {
            "color": "white",
            "size": 12
           },
           "type": "scatter",
           "x": [
            -5
           ],
           "y": [
            8
           ]
          },
          {
           "mode": "text",
           "text": "hitter Nadal",
           "textfont": {
            "color": "white",
            "size": 12
           },
           "type": "scatter",
           "x": [
            -5
           ],
           "y": [
            10
           ]
          },
          {
           "mode": "text",
           "text": "strokeid 2",
           "textfont": {
            "color": "white",
            "size": 12
           },
           "type": "scatter",
           "x": [
            -5
           ],
           "y": [
            12
           ]
          }
         ]
        },
        {
         "data": [
          {
           "marker": {
            "color": "red",
            "size": 10
           },
           "mode": "markers",
           "type": "scatter",
           "x": [
            3.89
           ],
           "y": [
            1.282
           ]
          },
          {
           "marker": {
            "color": "cyan",
            "size": 10
           },
           "mode": "markers",
           "type": "scatter",
           "x": [
            8.696
           ],
           "y": [
            27.444000000000003
           ]
          },
          {
           "marker": {
            "color": "yellow",
            "size": 10
           },
           "mode": "markers",
           "type": "scatter",
           "x": [
            7.386
           ],
           "y": [
            22.330000000000002
           ]
          },
          {
           "mode": "text",
           "text": "type topspin",
           "textfont": {
            "color": "white",
            "size": 12
           },
           "type": "scatter",
           "x": [
            -5
           ],
           "y": [
            6
           ]
          },
          {
           "mode": "text",
           "text": "stroke forehand",
           "textfont": {
            "color": "white",
            "size": 12
           },
           "type": "scatter",
           "x": [
            -5
           ],
           "y": [
            8
           ]
          },
          {
           "mode": "text",
           "text": "hitter Nadal",
           "textfont": {
            "color": "white",
            "size": 12
           },
           "type": "scatter",
           "x": [
            -5
           ],
           "y": [
            10
           ]
          },
          {
           "mode": "text",
           "text": "strokeid 2",
           "textfont": {
            "color": "white",
            "size": 12
           },
           "type": "scatter",
           "x": [
            -5
           ],
           "y": [
            12
           ]
          }
         ]
        },
        {
         "data": [
          {
           "marker": {
            "color": "red",
            "size": 10
           },
           "mode": "markers",
           "type": "scatter",
           "x": [
            3.5999999999999996
           ],
           "y": [
            1.293
           ]
          },
          {
           "marker": {
            "color": "cyan",
            "size": 10
           },
           "mode": "markers",
           "type": "scatter",
           "x": [
            8.623999999999999
           ],
           "y": [
            27.381
           ]
          },
          {
           "marker": {
            "color": "yellow",
            "size": 10
           },
           "mode": "markers",
           "type": "scatter",
           "x": [
            6.659
           ],
           "y": [
            19.71
           ]
          },
          {
           "mode": "text",
           "text": "type topspin",
           "textfont": {
            "color": "white",
            "size": 12
           },
           "type": "scatter",
           "x": [
            -5
           ],
           "y": [
            6
           ]
          },
          {
           "mode": "text",
           "text": "stroke forehand",
           "textfont": {
            "color": "white",
            "size": 12
           },
           "type": "scatter",
           "x": [
            -5
           ],
           "y": [
            8
           ]
          },
          {
           "mode": "text",
           "text": "hitter Nadal",
           "textfont": {
            "color": "white",
            "size": 12
           },
           "type": "scatter",
           "x": [
            -5
           ],
           "y": [
            10
           ]
          },
          {
           "mode": "text",
           "text": "strokeid 2",
           "textfont": {
            "color": "white",
            "size": 12
           },
           "type": "scatter",
           "x": [
            -5
           ],
           "y": [
            12
           ]
          }
         ]
        },
        {
         "data": [
          {
           "marker": {
            "color": "red",
            "size": 10
           },
           "mode": "markers",
           "type": "scatter",
           "x": [
            3.31
           ],
           "y": [
            1.304
           ]
          },
          {
           "marker": {
            "color": "cyan",
            "size": 10
           },
           "mode": "markers",
           "type": "scatter",
           "x": [
            8.552
           ],
           "y": [
            27.317999999999998
           ]
          },
          {
           "marker": {
            "color": "yellow",
            "size": 10
           },
           "mode": "markers",
           "type": "scatter",
           "x": [
            5.9319999999999995
           ],
           "y": [
            17.089999999999996
           ]
          },
          {
           "mode": "text",
           "text": "type topspin",
           "textfont": {
            "color": "white",
            "size": 12
           },
           "type": "scatter",
           "x": [
            -5
           ],
           "y": [
            6
           ]
          },
          {
           "mode": "text",
           "text": "stroke forehand",
           "textfont": {
            "color": "white",
            "size": 12
           },
           "type": "scatter",
           "x": [
            -5
           ],
           "y": [
            8
           ]
          },
          {
           "mode": "text",
           "text": "hitter Nadal",
           "textfont": {
            "color": "white",
            "size": 12
           },
           "type": "scatter",
           "x": [
            -5
           ],
           "y": [
            10
           ]
          },
          {
           "mode": "text",
           "text": "strokeid 2",
           "textfont": {
            "color": "white",
            "size": 12
           },
           "type": "scatter",
           "x": [
            -5
           ],
           "y": [
            12
           ]
          }
         ]
        },
        {
         "data": [
          {
           "marker": {
            "color": "red",
            "size": 10
           },
           "mode": "markers",
           "type": "scatter",
           "x": [
            3.02
           ],
           "y": [
            1.315
           ]
          },
          {
           "marker": {
            "color": "cyan",
            "size": 10
           },
           "mode": "markers",
           "type": "scatter",
           "x": [
            8.48
           ],
           "y": [
            27.255000000000003
           ]
          },
          {
           "marker": {
            "color": "yellow",
            "size": 10
           },
           "mode": "markers",
           "type": "scatter",
           "x": [
            5.205
           ],
           "y": [
            14.47
           ]
          },
          {
           "mode": "text",
           "text": "type topspin",
           "textfont": {
            "color": "white",
            "size": 12
           },
           "type": "scatter",
           "x": [
            -5
           ],
           "y": [
            6
           ]
          },
          {
           "mode": "text",
           "text": "stroke forehand",
           "textfont": {
            "color": "white",
            "size": 12
           },
           "type": "scatter",
           "x": [
            -5
           ],
           "y": [
            8
           ]
          },
          {
           "mode": "text",
           "text": "hitter Nadal",
           "textfont": {
            "color": "white",
            "size": 12
           },
           "type": "scatter",
           "x": [
            -5
           ],
           "y": [
            10
           ]
          },
          {
           "mode": "text",
           "text": "strokeid 2",
           "textfont": {
            "color": "white",
            "size": 12
           },
           "type": "scatter",
           "x": [
            -5
           ],
           "y": [
            12
           ]
          }
         ]
        },
        {
         "data": [
          {
           "marker": {
            "color": "red",
            "size": 10
           },
           "mode": "markers",
           "type": "scatter",
           "x": [
            2.7299999999999995
           ],
           "y": [
            1.326
           ]
          },
          {
           "marker": {
            "color": "cyan",
            "size": 10
           },
           "mode": "markers",
           "type": "scatter",
           "x": [
            8.408
           ],
           "y": [
            27.192
           ]
          },
          {
           "marker": {
            "color": "yellow",
            "size": 10
           },
           "mode": "markers",
           "type": "scatter",
           "x": [
            4.478
           ],
           "y": [
            11.849999999999998
           ]
          },
          {
           "mode": "text",
           "text": "type topspin",
           "textfont": {
            "color": "white",
            "size": 12
           },
           "type": "scatter",
           "x": [
            -5
           ],
           "y": [
            6
           ]
          },
          {
           "mode": "text",
           "text": "stroke forehand",
           "textfont": {
            "color": "white",
            "size": 12
           },
           "type": "scatter",
           "x": [
            -5
           ],
           "y": [
            8
           ]
          },
          {
           "mode": "text",
           "text": "hitter Nadal",
           "textfont": {
            "color": "white",
            "size": 12
           },
           "type": "scatter",
           "x": [
            -5
           ],
           "y": [
            10
           ]
          },
          {
           "mode": "text",
           "text": "strokeid 2",
           "textfont": {
            "color": "white",
            "size": 12
           },
           "type": "scatter",
           "x": [
            -5
           ],
           "y": [
            12
           ]
          }
         ]
        },
        {
         "data": [
          {
           "marker": {
            "color": "red",
            "size": 10
           },
           "mode": "markers",
           "type": "scatter",
           "x": [
            2.4399999999999995
           ],
           "y": [
            1.3370000000000002
           ]
          },
          {
           "marker": {
            "color": "cyan",
            "size": 10
           },
           "mode": "markers",
           "type": "scatter",
           "x": [
            8.335999999999999
           ],
           "y": [
            27.129000000000005
           ]
          },
          {
           "marker": {
            "color": "yellow",
            "size": 10
           },
           "mode": "markers",
           "type": "scatter",
           "x": [
            3.7509999999999994
           ],
           "y": [
            9.229999999999999
           ]
          },
          {
           "mode": "text",
           "text": "type topspin",
           "textfont": {
            "color": "white",
            "size": 12
           },
           "type": "scatter",
           "x": [
            -5
           ],
           "y": [
            6
           ]
          },
          {
           "mode": "text",
           "text": "stroke forehand",
           "textfont": {
            "color": "white",
            "size": 12
           },
           "type": "scatter",
           "x": [
            -5
           ],
           "y": [
            8
           ]
          },
          {
           "mode": "text",
           "text": "hitter Nadal",
           "textfont": {
            "color": "white",
            "size": 12
           },
           "type": "scatter",
           "x": [
            -5
           ],
           "y": [
            10
           ]
          },
          {
           "mode": "text",
           "text": "strokeid 2",
           "textfont": {
            "color": "white",
            "size": 12
           },
           "type": "scatter",
           "x": [
            -5
           ],
           "y": [
            12
           ]
          }
         ]
        },
        {
         "data": [
          {
           "marker": {
            "color": "red",
            "size": 10
           },
           "mode": "markers",
           "type": "scatter",
           "x": [
            2.15
           ],
           "y": [
            1.348
           ]
          },
          {
           "marker": {
            "color": "cyan",
            "size": 10
           },
           "mode": "markers",
           "type": "scatter",
           "x": [
            8.264
           ],
           "y": [
            27.066000000000003
           ]
          },
          {
           "marker": {
            "color": "yellow",
            "size": 10
           },
           "mode": "markers",
           "type": "scatter",
           "x": [
            3.024
           ],
           "y": [
            6.6099999999999985
           ]
          },
          {
           "mode": "text",
           "text": "type topspin",
           "textfont": {
            "color": "white",
            "size": 12
           },
           "type": "scatter",
           "x": [
            -5
           ],
           "y": [
            6
           ]
          },
          {
           "mode": "text",
           "text": "stroke forehand",
           "textfont": {
            "color": "white",
            "size": 12
           },
           "type": "scatter",
           "x": [
            -5
           ],
           "y": [
            8
           ]
          },
          {
           "mode": "text",
           "text": "hitter Nadal",
           "textfont": {
            "color": "white",
            "size": 12
           },
           "type": "scatter",
           "x": [
            -5
           ],
           "y": [
            10
           ]
          },
          {
           "mode": "text",
           "text": "strokeid 2",
           "textfont": {
            "color": "white",
            "size": 12
           },
           "type": "scatter",
           "x": [
            -5
           ],
           "y": [
            12
           ]
          }
         ]
        },
        {
         "data": [
          {
           "marker": {
            "color": "red",
            "size": 10
           },
           "mode": "markers",
           "type": "scatter",
           "x": [
            1.8599999999999999
           ],
           "y": [
            1.359
           ]
          },
          {
           "marker": {
            "color": "cyan",
            "size": 10
           },
           "mode": "markers",
           "type": "scatter",
           "x": [
            8.192
           ],
           "y": [
            27.003
           ]
          },
          {
           "marker": {
            "color": "yellow",
            "size": 10
           },
           "mode": "markers",
           "type": "scatter",
           "x": [
            2.2969999999999997
           ],
           "y": [
            3.9899999999999993
           ]
          },
          {
           "mode": "text",
           "text": "type topspin",
           "textfont": {
            "color": "white",
            "size": 12
           },
           "type": "scatter",
           "x": [
            -5
           ],
           "y": [
            6
           ]
          },
          {
           "mode": "text",
           "text": "stroke forehand",
           "textfont": {
            "color": "white",
            "size": 12
           },
           "type": "scatter",
           "x": [
            -5
           ],
           "y": [
            8
           ]
          },
          {
           "mode": "text",
           "text": "hitter Nadal",
           "textfont": {
            "color": "white",
            "size": 12
           },
           "type": "scatter",
           "x": [
            -5
           ],
           "y": [
            10
           ]
          },
          {
           "mode": "text",
           "text": "strokeid 2",
           "textfont": {
            "color": "white",
            "size": 12
           },
           "type": "scatter",
           "x": [
            -5
           ],
           "y": [
            12
           ]
          }
         ]
        },
        {
         "data": [
          {
           "marker": {
            "color": "red",
            "size": 10
           },
           "mode": "markers",
           "type": "scatter",
           "x": [
            1.57
           ],
           "y": [
            1.37
           ]
          },
          {
           "marker": {
            "color": "cyan",
            "size": 10
           },
           "mode": "markers",
           "type": "scatter",
           "x": [
            8.12
           ],
           "y": [
            26.94
           ]
          },
          {
           "marker": {
            "color": "yellow",
            "size": 10
           },
           "mode": "markers",
           "type": "scatter",
           "x": [
            1.57
           ],
           "y": [
            1.37
           ]
          },
          {
           "mode": "text",
           "text": "type topspin",
           "textfont": {
            "color": "white",
            "size": 12
           },
           "type": "scatter",
           "x": [
            -5
           ],
           "y": [
            6
           ]
          },
          {
           "mode": "text",
           "text": "stroke backhand",
           "textfont": {
            "color": "white",
            "size": 12
           },
           "type": "scatter",
           "x": [
            -5
           ],
           "y": [
            8
           ]
          },
          {
           "mode": "text",
           "text": "hitter Djokovic",
           "textfont": {
            "color": "white",
            "size": 12
           },
           "type": "scatter",
           "x": [
            -5
           ],
           "y": [
            10
           ]
          },
          {
           "mode": "text",
           "text": "strokeid 3",
           "textfont": {
            "color": "white",
            "size": 12
           },
           "type": "scatter",
           "x": [
            -5
           ],
           "y": [
            12
           ]
          }
         ]
        },
        {
         "data": [
          {
           "marker": {
            "color": "red",
            "size": 10
           },
           "mode": "markers",
           "type": "scatter",
           "x": [
            1.579
           ],
           "y": [
            1.374
           ]
          },
          {
           "marker": {
            "color": "cyan",
            "size": 10
           },
           "mode": "markers",
           "type": "scatter",
           "x": [
            8.204
           ],
           "y": [
            26.891000000000002
           ]
          },
          {
           "marker": {
            "color": "yellow",
            "size": 10
           },
           "mode": "markers",
           "type": "scatter",
           "x": [
            2.309
           ],
           "y": [
            3.878
           ]
          },
          {
           "mode": "text",
           "text": "type topspin",
           "textfont": {
            "color": "white",
            "size": 12
           },
           "type": "scatter",
           "x": [
            -5
           ],
           "y": [
            6
           ]
          },
          {
           "mode": "text",
           "text": "stroke backhand",
           "textfont": {
            "color": "white",
            "size": 12
           },
           "type": "scatter",
           "x": [
            -5
           ],
           "y": [
            8
           ]
          },
          {
           "mode": "text",
           "text": "hitter Djokovic",
           "textfont": {
            "color": "white",
            "size": 12
           },
           "type": "scatter",
           "x": [
            -5
           ],
           "y": [
            10
           ]
          },
          {
           "mode": "text",
           "text": "strokeid 3",
           "textfont": {
            "color": "white",
            "size": 12
           },
           "type": "scatter",
           "x": [
            -5
           ],
           "y": [
            12
           ]
          }
         ]
        },
        {
         "data": [
          {
           "marker": {
            "color": "red",
            "size": 10
           },
           "mode": "markers",
           "type": "scatter",
           "x": [
            1.5880000000000003
           ],
           "y": [
            1.3780000000000001
           ]
          },
          {
           "marker": {
            "color": "cyan",
            "size": 10
           },
           "mode": "markers",
           "type": "scatter",
           "x": [
            8.288
           ],
           "y": [
            26.842000000000002
           ]
          },
          {
           "marker": {
            "color": "yellow",
            "size": 10
           },
           "mode": "markers",
           "type": "scatter",
           "x": [
            3.0480000000000005
           ],
           "y": [
            6.386
           ]
          },
          {
           "mode": "text",
           "text": "type topspin",
           "textfont": {
            "color": "white",
            "size": 12
           },
           "type": "scatter",
           "x": [
            -5
           ],
           "y": [
            6
           ]
          },
          {
           "mode": "text",
           "text": "stroke backhand",
           "textfont": {
            "color": "white",
            "size": 12
           },
           "type": "scatter",
           "x": [
            -5
           ],
           "y": [
            8
           ]
          },
          {
           "mode": "text",
           "text": "hitter Djokovic",
           "textfont": {
            "color": "white",
            "size": 12
           },
           "type": "scatter",
           "x": [
            -5
           ],
           "y": [
            10
           ]
          },
          {
           "mode": "text",
           "text": "strokeid 3",
           "textfont": {
            "color": "white",
            "size": 12
           },
           "type": "scatter",
           "x": [
            -5
           ],
           "y": [
            12
           ]
          }
         ]
        },
        {
         "data": [
          {
           "marker": {
            "color": "red",
            "size": 10
           },
           "mode": "markers",
           "type": "scatter",
           "x": [
            1.597
           ],
           "y": [
            1.3820000000000001
           ]
          },
          {
           "marker": {
            "color": "cyan",
            "size": 10
           },
           "mode": "markers",
           "type": "scatter",
           "x": [
            8.372
           ],
           "y": [
            26.793000000000003
           ]
          },
          {
           "marker": {
            "color": "yellow",
            "size": 10
           },
           "mode": "markers",
           "type": "scatter",
           "x": [
            3.787000000000001
           ],
           "y": [
            8.894000000000002
           ]
          },
          {
           "mode": "text",
           "text": "type topspin",
           "textfont": {
            "color": "white",
            "size": 12
           },
           "type": "scatter",
           "x": [
            -5
           ],
           "y": [
            6
           ]
          },
          {
           "mode": "text",
           "text": "stroke backhand",
           "textfont": {
            "color": "white",
            "size": 12
           },
           "type": "scatter",
           "x": [
            -5
           ],
           "y": [
            8
           ]
          },
          {
           "mode": "text",
           "text": "hitter Djokovic",
           "textfont": {
            "color": "white",
            "size": 12
           },
           "type": "scatter",
           "x": [
            -5
           ],
           "y": [
            10
           ]
          },
          {
           "mode": "text",
           "text": "strokeid 3",
           "textfont": {
            "color": "white",
            "size": 12
           },
           "type": "scatter",
           "x": [
            -5
           ],
           "y": [
            12
           ]
          }
         ]
        },
        {
         "data": [
          {
           "marker": {
            "color": "red",
            "size": 10
           },
           "mode": "markers",
           "type": "scatter",
           "x": [
            1.6059999999999999
           ],
           "y": [
            1.3860000000000001
           ]
          },
          {
           "marker": {
            "color": "cyan",
            "size": 10
           },
           "mode": "markers",
           "type": "scatter",
           "x": [
            8.456
           ],
           "y": [
            26.744
           ]
          },
          {
           "marker": {
            "color": "yellow",
            "size": 10
           },
           "mode": "markers",
           "type": "scatter",
           "x": [
            4.526000000000001
           ],
           "y": [
            11.402000000000001
           ]
          },
          {
           "mode": "text",
           "text": "type topspin",
           "textfont": {
            "color": "white",
            "size": 12
           },
           "type": "scatter",
           "x": [
            -5
           ],
           "y": [
            6
           ]
          },
          {
           "mode": "text",
           "text": "stroke backhand",
           "textfont": {
            "color": "white",
            "size": 12
           },
           "type": "scatter",
           "x": [
            -5
           ],
           "y": [
            8
           ]
          },
          {
           "mode": "text",
           "text": "hitter Djokovic",
           "textfont": {
            "color": "white",
            "size": 12
           },
           "type": "scatter",
           "x": [
            -5
           ],
           "y": [
            10
           ]
          },
          {
           "mode": "text",
           "text": "strokeid 3",
           "textfont": {
            "color": "white",
            "size": 12
           },
           "type": "scatter",
           "x": [
            -5
           ],
           "y": [
            12
           ]
          }
         ]
        },
        {
         "data": [
          {
           "marker": {
            "color": "red",
            "size": 10
           },
           "mode": "markers",
           "type": "scatter",
           "x": [
            1.615
           ],
           "y": [
            1.3900000000000001
           ]
          },
          {
           "marker": {
            "color": "cyan",
            "size": 10
           },
           "mode": "markers",
           "type": "scatter",
           "x": [
            8.54
           ],
           "y": [
            26.695
           ]
          },
          {
           "marker": {
            "color": "yellow",
            "size": 10
           },
           "mode": "markers",
           "type": "scatter",
           "x": [
            5.265000000000001
           ],
           "y": [
            13.91
           ]
          },
          {
           "mode": "text",
           "text": "type topspin",
           "textfont": {
            "color": "white",
            "size": 12
           },
           "type": "scatter",
           "x": [
            -5
           ],
           "y": [
            6
           ]
          },
          {
           "mode": "text",
           "text": "stroke backhand",
           "textfont": {
            "color": "white",
            "size": 12
           },
           "type": "scatter",
           "x": [
            -5
           ],
           "y": [
            8
           ]
          },
          {
           "mode": "text",
           "text": "hitter Djokovic",
           "textfont": {
            "color": "white",
            "size": 12
           },
           "type": "scatter",
           "x": [
            -5
           ],
           "y": [
            10
           ]
          },
          {
           "mode": "text",
           "text": "strokeid 3",
           "textfont": {
            "color": "white",
            "size": 12
           },
           "type": "scatter",
           "x": [
            -5
           ],
           "y": [
            12
           ]
          }
         ]
        },
        {
         "data": [
          {
           "marker": {
            "color": "red",
            "size": 10
           },
           "mode": "markers",
           "type": "scatter",
           "x": [
            1.624
           ],
           "y": [
            1.3940000000000001
           ]
          },
          {
           "marker": {
            "color": "cyan",
            "size": 10
           },
           "mode": "markers",
           "type": "scatter",
           "x": [
            8.624
           ],
           "y": [
            26.646
           ]
          },
          {
           "marker": {
            "color": "yellow",
            "size": 10
           },
           "mode": "markers",
           "type": "scatter",
           "x": [
            6.004000000000001
           ],
           "y": [
            16.418000000000003
           ]
          },
          {
           "mode": "text",
           "text": "type topspin",
           "textfont": {
            "color": "white",
            "size": 12
           },
           "type": "scatter",
           "x": [
            -5
           ],
           "y": [
            6
           ]
          },
          {
           "mode": "text",
           "text": "stroke backhand",
           "textfont": {
            "color": "white",
            "size": 12
           },
           "type": "scatter",
           "x": [
            -5
           ],
           "y": [
            8
           ]
          },
          {
           "mode": "text",
           "text": "hitter Djokovic",
           "textfont": {
            "color": "white",
            "size": 12
           },
           "type": "scatter",
           "x": [
            -5
           ],
           "y": [
            10
           ]
          },
          {
           "mode": "text",
           "text": "strokeid 3",
           "textfont": {
            "color": "white",
            "size": 12
           },
           "type": "scatter",
           "x": [
            -5
           ],
           "y": [
            12
           ]
          }
         ]
        },
        {
         "data": [
          {
           "marker": {
            "color": "red",
            "size": 10
           },
           "mode": "markers",
           "type": "scatter",
           "x": [
            1.633
           ],
           "y": [
            1.398
           ]
          },
          {
           "marker": {
            "color": "cyan",
            "size": 10
           },
           "mode": "markers",
           "type": "scatter",
           "x": [
            8.708
           ],
           "y": [
            26.597
           ]
          },
          {
           "marker": {
            "color": "yellow",
            "size": 10
           },
           "mode": "markers",
           "type": "scatter",
           "x": [
            6.743000000000001
           ],
           "y": [
            18.926000000000002
           ]
          },
          {
           "mode": "text",
           "text": "type topspin",
           "textfont": {
            "color": "white",
            "size": 12
           },
           "type": "scatter",
           "x": [
            -5
           ],
           "y": [
            6
           ]
          },
          {
           "mode": "text",
           "text": "stroke backhand",
           "textfont": {
            "color": "white",
            "size": 12
           },
           "type": "scatter",
           "x": [
            -5
           ],
           "y": [
            8
           ]
          },
          {
           "mode": "text",
           "text": "hitter Djokovic",
           "textfont": {
            "color": "white",
            "size": 12
           },
           "type": "scatter",
           "x": [
            -5
           ],
           "y": [
            10
           ]
          },
          {
           "mode": "text",
           "text": "strokeid 3",
           "textfont": {
            "color": "white",
            "size": 12
           },
           "type": "scatter",
           "x": [
            -5
           ],
           "y": [
            12
           ]
          }
         ]
        },
        {
         "data": [
          {
           "marker": {
            "color": "red",
            "size": 10
           },
           "mode": "markers",
           "type": "scatter",
           "x": [
            1.642
           ],
           "y": [
            1.402
           ]
          },
          {
           "marker": {
            "color": "cyan",
            "size": 10
           },
           "mode": "markers",
           "type": "scatter",
           "x": [
            8.792
           ],
           "y": [
            26.548
           ]
          },
          {
           "marker": {
            "color": "yellow",
            "size": 10
           },
           "mode": "markers",
           "type": "scatter",
           "x": [
            7.482000000000001
           ],
           "y": [
            21.434
           ]
          },
          {
           "mode": "text",
           "text": "type topspin",
           "textfont": {
            "color": "white",
            "size": 12
           },
           "type": "scatter",
           "x": [
            -5
           ],
           "y": [
            6
           ]
          },
          {
           "mode": "text",
           "text": "stroke backhand",
           "textfont": {
            "color": "white",
            "size": 12
           },
           "type": "scatter",
           "x": [
            -5
           ],
           "y": [
            8
           ]
          },
          {
           "mode": "text",
           "text": "hitter Djokovic",
           "textfont": {
            "color": "white",
            "size": 12
           },
           "type": "scatter",
           "x": [
            -5
           ],
           "y": [
            10
           ]
          },
          {
           "mode": "text",
           "text": "strokeid 3",
           "textfont": {
            "color": "white",
            "size": 12
           },
           "type": "scatter",
           "x": [
            -5
           ],
           "y": [
            12
           ]
          }
         ]
        },
        {
         "data": [
          {
           "marker": {
            "color": "red",
            "size": 10
           },
           "mode": "markers",
           "type": "scatter",
           "x": [
            1.651
           ],
           "y": [
            1.406
           ]
          },
          {
           "marker": {
            "color": "cyan",
            "size": 10
           },
           "mode": "markers",
           "type": "scatter",
           "x": [
            8.876000000000001
           ],
           "y": [
            26.499
           ]
          },
          {
           "marker": {
            "color": "yellow",
            "size": 10
           },
           "mode": "markers",
           "type": "scatter",
           "x": [
            8.221000000000002
           ],
           "y": [
            23.942
           ]
          },
          {
           "mode": "text",
           "text": "type topspin",
           "textfont": {
            "color": "white",
            "size": 12
           },
           "type": "scatter",
           "x": [
            -5
           ],
           "y": [
            6
           ]
          },
          {
           "mode": "text",
           "text": "stroke backhand",
           "textfont": {
            "color": "white",
            "size": 12
           },
           "type": "scatter",
           "x": [
            -5
           ],
           "y": [
            8
           ]
          },
          {
           "mode": "text",
           "text": "hitter Djokovic",
           "textfont": {
            "color": "white",
            "size": 12
           },
           "type": "scatter",
           "x": [
            -5
           ],
           "y": [
            10
           ]
          },
          {
           "mode": "text",
           "text": "strokeid 3",
           "textfont": {
            "color": "white",
            "size": 12
           },
           "type": "scatter",
           "x": [
            -5
           ],
           "y": [
            12
           ]
          }
         ]
        },
        {
         "data": [
          {
           "marker": {
            "color": "red",
            "size": 10
           },
           "mode": "markers",
           "type": "scatter",
           "x": [
            1.66
           ],
           "y": [
            1.41
           ]
          },
          {
           "marker": {
            "color": "cyan",
            "size": 10
           },
           "mode": "markers",
           "type": "scatter",
           "x": [
            8.96
           ],
           "y": [
            26.45
           ]
          },
          {
           "marker": {
            "color": "yellow",
            "size": 10
           },
           "mode": "markers",
           "type": "scatter",
           "x": [
            8.96
           ],
           "y": [
            26.45
           ]
          },
          {
           "mode": "text",
           "text": "type topspin",
           "textfont": {
            "color": "white",
            "size": 12
           },
           "type": "scatter",
           "x": [
            -5
           ],
           "y": [
            6
           ]
          },
          {
           "mode": "text",
           "text": "stroke forehand",
           "textfont": {
            "color": "white",
            "size": 12
           },
           "type": "scatter",
           "x": [
            -5
           ],
           "y": [
            8
           ]
          },
          {
           "mode": "text",
           "text": "hitter Nadal",
           "textfont": {
            "color": "white",
            "size": 12
           },
           "type": "scatter",
           "x": [
            -5
           ],
           "y": [
            10
           ]
          },
          {
           "mode": "text",
           "text": "strokeid 4",
           "textfont": {
            "color": "white",
            "size": 12
           },
           "type": "scatter",
           "x": [
            -5
           ],
           "y": [
            12
           ]
          }
         ]
        },
        {
         "data": [
          {
           "marker": {
            "color": "red",
            "size": 10
           },
           "mode": "markers",
           "type": "scatter",
           "x": [
            1.805
           ],
           "y": [
            1.261
           ]
          },
          {
           "marker": {
            "color": "cyan",
            "size": 10
           },
           "mode": "markers",
           "type": "scatter",
           "x": [
            8.830000000000002
           ],
           "y": [
            26.414
           ]
          },
          {
           "marker": {
            "color": "yellow",
            "size": 10
           },
           "mode": "markers",
           "type": "scatter",
           "x": [
            8.375000000000002
           ],
           "y": [
            23.797
           ]
          },
          {
           "mode": "text",
           "text": "type topspin",
           "textfont": {
            "color": "white",
            "size": 12
           },
           "type": "scatter",
           "x": [
            -5
           ],
           "y": [
            6
           ]
          },
          {
           "mode": "text",
           "text": "stroke forehand",
           "textfont": {
            "color": "white",
            "size": 12
           },
           "type": "scatter",
           "x": [
            -5
           ],
           "y": [
            8
           ]
          },
          {
           "mode": "text",
           "text": "hitter Nadal",
           "textfont": {
            "color": "white",
            "size": 12
           },
           "type": "scatter",
           "x": [
            -5
           ],
           "y": [
            10
           ]
          },
          {
           "mode": "text",
           "text": "strokeid 4",
           "textfont": {
            "color": "white",
            "size": 12
           },
           "type": "scatter",
           "x": [
            -5
           ],
           "y": [
            12
           ]
          }
         ]
        },
        {
         "data": [
          {
           "marker": {
            "color": "red",
            "size": 10
           },
           "mode": "markers",
           "type": "scatter",
           "x": [
            1.9500000000000002
           ],
           "y": [
            1.1119999999999999
           ]
          },
          {
           "marker": {
            "color": "cyan",
            "size": 10
           },
           "mode": "markers",
           "type": "scatter",
           "x": [
            8.700000000000001
           ],
           "y": [
            26.378
           ]
          },
          {
           "marker": {
            "color": "yellow",
            "size": 10
           },
           "mode": "markers",
           "type": "scatter",
           "x": [
            7.790000000000001
           ],
           "y": [
            21.144000000000002
           ]
          },
          {
           "mode": "text",
           "text": "type topspin",
           "textfont": {
            "color": "white",
            "size": 12
           },
           "type": "scatter",
           "x": [
            -5
           ],
           "y": [
            6
           ]
          },
          {
           "mode": "text",
           "text": "stroke forehand",
           "textfont": {
            "color": "white",
            "size": 12
           },
           "type": "scatter",
           "x": [
            -5
           ],
           "y": [
            8
           ]
          },
          {
           "mode": "text",
           "text": "hitter Nadal",
           "textfont": {
            "color": "white",
            "size": 12
           },
           "type": "scatter",
           "x": [
            -5
           ],
           "y": [
            10
           ]
          },
          {
           "mode": "text",
           "text": "strokeid 4",
           "textfont": {
            "color": "white",
            "size": 12
           },
           "type": "scatter",
           "x": [
            -5
           ],
           "y": [
            12
           ]
          }
         ]
        },
        {
         "data": [
          {
           "marker": {
            "color": "red",
            "size": 10
           },
           "mode": "markers",
           "type": "scatter",
           "x": [
            2.0949999999999998
           ],
           "y": [
            0.9629999999999999
           ]
          },
          {
           "marker": {
            "color": "cyan",
            "size": 10
           },
           "mode": "markers",
           "type": "scatter",
           "x": [
            8.57
           ],
           "y": [
            26.342
           ]
          },
          {
           "marker": {
            "color": "yellow",
            "size": 10
           },
           "mode": "markers",
           "type": "scatter",
           "x": [
            7.205
           ],
           "y": [
            18.490999999999996
           ]
          },
          {
           "mode": "text",
           "text": "type topspin",
           "textfont": {
            "color": "white",
            "size": 12
           },
           "type": "scatter",
           "x": [
            -5
           ],
           "y": [
            6
           ]
          },
          {
           "mode": "text",
           "text": "stroke forehand",
           "textfont": {
            "color": "white",
            "size": 12
           },
           "type": "scatter",
           "x": [
            -5
           ],
           "y": [
            8
           ]
          },
          {
           "mode": "text",
           "text": "hitter Nadal",
           "textfont": {
            "color": "white",
            "size": 12
           },
           "type": "scatter",
           "x": [
            -5
           ],
           "y": [
            10
           ]
          },
          {
           "mode": "text",
           "text": "strokeid 4",
           "textfont": {
            "color": "white",
            "size": 12
           },
           "type": "scatter",
           "x": [
            -5
           ],
           "y": [
            12
           ]
          }
         ]
        },
        {
         "data": [
          {
           "marker": {
            "color": "red",
            "size": 10
           },
           "mode": "markers",
           "type": "scatter",
           "x": [
            2.2399999999999998
           ],
           "y": [
            0.814
           ]
          },
          {
           "marker": {
            "color": "cyan",
            "size": 10
           },
           "mode": "markers",
           "type": "scatter",
           "x": [
            8.440000000000001
           ],
           "y": [
            26.305999999999997
           ]
          },
          {
           "marker": {
            "color": "yellow",
            "size": 10
           },
           "mode": "markers",
           "type": "scatter",
           "x": [
            6.62
           ],
           "y": [
            15.838
           ]
          },
          {
           "mode": "text",
           "text": "type topspin",
           "textfont": {
            "color": "white",
            "size": 12
           },
           "type": "scatter",
           "x": [
            -5
           ],
           "y": [
            6
           ]
          },
          {
           "mode": "text",
           "text": "stroke forehand",
           "textfont": {
            "color": "white",
            "size": 12
           },
           "type": "scatter",
           "x": [
            -5
           ],
           "y": [
            8
           ]
          },
          {
           "mode": "text",
           "text": "hitter Nadal",
           "textfont": {
            "color": "white",
            "size": 12
           },
           "type": "scatter",
           "x": [
            -5
           ],
           "y": [
            10
           ]
          },
          {
           "mode": "text",
           "text": "strokeid 4",
           "textfont": {
            "color": "white",
            "size": 12
           },
           "type": "scatter",
           "x": [
            -5
           ],
           "y": [
            12
           ]
          }
         ]
        },
        {
         "data": [
          {
           "marker": {
            "color": "red",
            "size": 10
           },
           "mode": "markers",
           "type": "scatter",
           "x": [
            2.385
           ],
           "y": [
            0.6649999999999999
           ]
          },
          {
           "marker": {
            "color": "cyan",
            "size": 10
           },
           "mode": "markers",
           "type": "scatter",
           "x": [
            8.31
           ],
           "y": [
            26.27
           ]
          },
          {
           "marker": {
            "color": "yellow",
            "size": 10
           },
           "mode": "markers",
           "type": "scatter",
           "x": [
            6.035
           ],
           "y": [
            13.185
           ]
          },
          {
           "mode": "text",
           "text": "type topspin",
           "textfont": {
            "color": "white",
            "size": 12
           },
           "type": "scatter",
           "x": [
            -5
           ],
           "y": [
            6
           ]
          },
          {
           "mode": "text",
           "text": "stroke forehand",
           "textfont": {
            "color": "white",
            "size": 12
           },
           "type": "scatter",
           "x": [
            -5
           ],
           "y": [
            8
           ]
          },
          {
           "mode": "text",
           "text": "hitter Nadal",
           "textfont": {
            "color": "white",
            "size": 12
           },
           "type": "scatter",
           "x": [
            -5
           ],
           "y": [
            10
           ]
          },
          {
           "mode": "text",
           "text": "strokeid 4",
           "textfont": {
            "color": "white",
            "size": 12
           },
           "type": "scatter",
           "x": [
            -5
           ],
           "y": [
            12
           ]
          }
         ]
        },
        {
         "data": [
          {
           "marker": {
            "color": "red",
            "size": 10
           },
           "mode": "markers",
           "type": "scatter",
           "x": [
            2.53
           ],
           "y": [
            0.5159999999999998
           ]
          },
          {
           "marker": {
            "color": "cyan",
            "size": 10
           },
           "mode": "markers",
           "type": "scatter",
           "x": [
            8.18
           ],
           "y": [
            26.233999999999998
           ]
          },
          {
           "marker": {
            "color": "yellow",
            "size": 10
           },
           "mode": "markers",
           "type": "scatter",
           "x": [
            5.449999999999999
           ],
           "y": [
            10.531999999999996
           ]
          },
          {
           "mode": "text",
           "text": "type topspin",
           "textfont": {
            "color": "white",
            "size": 12
           },
           "type": "scatter",
           "x": [
            -5
           ],
           "y": [
            6
           ]
          },
          {
           "mode": "text",
           "text": "stroke forehand",
           "textfont": {
            "color": "white",
            "size": 12
           },
           "type": "scatter",
           "x": [
            -5
           ],
           "y": [
            8
           ]
          },
          {
           "mode": "text",
           "text": "hitter Nadal",
           "textfont": {
            "color": "white",
            "size": 12
           },
           "type": "scatter",
           "x": [
            -5
           ],
           "y": [
            10
           ]
          },
          {
           "mode": "text",
           "text": "strokeid 4",
           "textfont": {
            "color": "white",
            "size": 12
           },
           "type": "scatter",
           "x": [
            -5
           ],
           "y": [
            12
           ]
          }
         ]
        },
        {
         "data": [
          {
           "marker": {
            "color": "red",
            "size": 10
           },
           "mode": "markers",
           "type": "scatter",
           "x": [
            2.675
           ],
           "y": [
            0.3669999999999999
           ]
          },
          {
           "marker": {
            "color": "cyan",
            "size": 10
           },
           "mode": "markers",
           "type": "scatter",
           "x": [
            8.05
           ],
           "y": [
            26.198
           ]
          },
          {
           "marker": {
            "color": "yellow",
            "size": 10
           },
           "mode": "markers",
           "type": "scatter",
           "x": [
            4.865
           ],
           "y": [
            7.878999999999998
           ]
          },
          {
           "mode": "text",
           "text": "type topspin",
           "textfont": {
            "color": "white",
            "size": 12
           },
           "type": "scatter",
           "x": [
            -5
           ],
           "y": [
            6
           ]
          },
          {
           "mode": "text",
           "text": "stroke forehand",
           "textfont": {
            "color": "white",
            "size": 12
           },
           "type": "scatter",
           "x": [
            -5
           ],
           "y": [
            8
           ]
          },
          {
           "mode": "text",
           "text": "hitter Nadal",
           "textfont": {
            "color": "white",
            "size": 12
           },
           "type": "scatter",
           "x": [
            -5
           ],
           "y": [
            10
           ]
          },
          {
           "mode": "text",
           "text": "strokeid 4",
           "textfont": {
            "color": "white",
            "size": 12
           },
           "type": "scatter",
           "x": [
            -5
           ],
           "y": [
            12
           ]
          }
         ]
        },
        {
         "data": [
          {
           "marker": {
            "color": "red",
            "size": 10
           },
           "mode": "markers",
           "type": "scatter",
           "x": [
            2.82
           ],
           "y": [
            0.21799999999999992
           ]
          },
          {
           "marker": {
            "color": "cyan",
            "size": 10
           },
           "mode": "markers",
           "type": "scatter",
           "x": [
            7.92
           ],
           "y": [
            26.162
           ]
          },
          {
           "marker": {
            "color": "yellow",
            "size": 10
           },
           "mode": "markers",
           "type": "scatter",
           "x": [
            4.279999999999999
           ],
           "y": [
            5.225999999999998
           ]
          },
          {
           "mode": "text",
           "text": "type topspin",
           "textfont": {
            "color": "white",
            "size": 12
           },
           "type": "scatter",
           "x": [
            -5
           ],
           "y": [
            6
           ]
          },
          {
           "mode": "text",
           "text": "stroke forehand",
           "textfont": {
            "color": "white",
            "size": 12
           },
           "type": "scatter",
           "x": [
            -5
           ],
           "y": [
            8
           ]
          },
          {
           "mode": "text",
           "text": "hitter Nadal",
           "textfont": {
            "color": "white",
            "size": 12
           },
           "type": "scatter",
           "x": [
            -5
           ],
           "y": [
            10
           ]
          },
          {
           "mode": "text",
           "text": "strokeid 4",
           "textfont": {
            "color": "white",
            "size": 12
           },
           "type": "scatter",
           "x": [
            -5
           ],
           "y": [
            12
           ]
          }
         ]
        },
        {
         "data": [
          {
           "marker": {
            "color": "red",
            "size": 10
           },
           "mode": "markers",
           "type": "scatter",
           "x": [
            2.965
           ],
           "y": [
            0.06899999999999995
           ]
          },
          {
           "marker": {
            "color": "cyan",
            "size": 10
           },
           "mode": "markers",
           "type": "scatter",
           "x": [
            7.79
           ],
           "y": [
            26.126
           ]
          },
          {
           "marker": {
            "color": "yellow",
            "size": 10
           },
           "mode": "markers",
           "type": "scatter",
           "x": [
            3.695
           ],
           "y": [
            2.572999999999999
           ]
          },
          {
           "mode": "text",
           "text": "type topspin",
           "textfont": {
            "color": "white",
            "size": 12
           },
           "type": "scatter",
           "x": [
            -5
           ],
           "y": [
            6
           ]
          },
          {
           "mode": "text",
           "text": "stroke forehand",
           "textfont": {
            "color": "white",
            "size": 12
           },
           "type": "scatter",
           "x": [
            -5
           ],
           "y": [
            8
           ]
          },
          {
           "mode": "text",
           "text": "hitter Nadal",
           "textfont": {
            "color": "white",
            "size": 12
           },
           "type": "scatter",
           "x": [
            -5
           ],
           "y": [
            10
           ]
          },
          {
           "mode": "text",
           "text": "strokeid 4",
           "textfont": {
            "color": "white",
            "size": 12
           },
           "type": "scatter",
           "x": [
            -5
           ],
           "y": [
            12
           ]
          }
         ]
        },
        {
         "data": [
          {
           "marker": {
            "color": "red",
            "size": 10
           },
           "mode": "markers",
           "type": "scatter",
           "x": [
            3.11
           ],
           "y": [
            -0.08
           ]
          },
          {
           "marker": {
            "color": "cyan",
            "size": 10
           },
           "mode": "markers",
           "type": "scatter",
           "x": [
            7.66
           ],
           "y": [
            26.09
           ]
          },
          {
           "marker": {
            "color": "yellow",
            "size": 10
           },
           "mode": "markers",
           "type": "scatter",
           "x": [
            3.11
           ],
           "y": [
            -0.08
           ]
          },
          {
           "mode": "text",
           "text": "type topspin",
           "textfont": {
            "color": "white",
            "size": 12
           },
           "type": "scatter",
           "x": [
            -5
           ],
           "y": [
            6
           ]
          },
          {
           "mode": "text",
           "text": "stroke forehand",
           "textfont": {
            "color": "white",
            "size": 12
           },
           "type": "scatter",
           "x": [
            -5
           ],
           "y": [
            8
           ]
          },
          {
           "mode": "text",
           "text": "hitter Djokovic",
           "textfont": {
            "color": "white",
            "size": 12
           },
           "type": "scatter",
           "x": [
            -5
           ],
           "y": [
            10
           ]
          },
          {
           "mode": "text",
           "text": "strokeid 5",
           "textfont": {
            "color": "white",
            "size": 12
           },
           "type": "scatter",
           "x": [
            -5
           ],
           "y": [
            12
           ]
          }
         ]
        },
        {
         "data": [
          {
           "marker": {
            "color": "red",
            "size": 10
           },
           "mode": "markers",
           "type": "scatter",
           "x": [
            3.154
           ],
           "y": [
            -0.166
           ]
          },
          {
           "marker": {
            "color": "cyan",
            "size": 10
           },
           "mode": "markers",
           "type": "scatter",
           "x": [
            7.6290000000000004
           ],
           "y": [
            25.995
           ]
          },
          {
           "marker": {
            "color": "yellow",
            "size": 10
           },
           "mode": "markers",
           "type": "scatter",
           "x": [
            3.534
           ],
           "y": [
            2.442
           ]
          },
          {
           "mode": "text",
           "text": "type topspin",
           "textfont": {
            "color": "white",
            "size": 12
           },
           "type": "scatter",
           "x": [
            -5
           ],
           "y": [
            6
           ]
          },
          {
           "mode": "text",
           "text": "stroke forehand",
           "textfont": {
            "color": "white",
            "size": 12
           },
           "type": "scatter",
           "x": [
            -5
           ],
           "y": [
            8
           ]
          },
          {
           "mode": "text",
           "text": "hitter Djokovic",
           "textfont": {
            "color": "white",
            "size": 12
           },
           "type": "scatter",
           "x": [
            -5
           ],
           "y": [
            10
           ]
          },
          {
           "mode": "text",
           "text": "strokeid 5",
           "textfont": {
            "color": "white",
            "size": 12
           },
           "type": "scatter",
           "x": [
            -5
           ],
           "y": [
            12
           ]
          }
         ]
        },
        {
         "data": [
          {
           "marker": {
            "color": "red",
            "size": 10
           },
           "mode": "markers",
           "type": "scatter",
           "x": [
            3.198
           ],
           "y": [
            -0.252
           ]
          },
          {
           "marker": {
            "color": "cyan",
            "size": 10
           },
           "mode": "markers",
           "type": "scatter",
           "x": [
            7.598
           ],
           "y": [
            25.9
           ]
          },
          {
           "marker": {
            "color": "yellow",
            "size": 10
           },
           "mode": "markers",
           "type": "scatter",
           "x": [
            3.958
           ],
           "y": [
            4.964
           ]
          },
          {
           "mode": "text",
           "text": "type topspin",
           "textfont": {
            "color": "white",
            "size": 12
           },
           "type": "scatter",
           "x": [
            -5
           ],
           "y": [
            6
           ]
          },
          {
           "mode": "text",
           "text": "stroke forehand",
           "textfont": {
            "color": "white",
            "size": 12
           },
           "type": "scatter",
           "x": [
            -5
           ],
           "y": [
            8
           ]
          },
          {
           "mode": "text",
           "text": "hitter Djokovic",
           "textfont": {
            "color": "white",
            "size": 12
           },
           "type": "scatter",
           "x": [
            -5
           ],
           "y": [
            10
           ]
          },
          {
           "mode": "text",
           "text": "strokeid 5",
           "textfont": {
            "color": "white",
            "size": 12
           },
           "type": "scatter",
           "x": [
            -5
           ],
           "y": [
            12
           ]
          }
         ]
        },
        {
         "data": [
          {
           "marker": {
            "color": "red",
            "size": 10
           },
           "mode": "markers",
           "type": "scatter",
           "x": [
            3.242
           ],
           "y": [
            -0.338
           ]
          },
          {
           "marker": {
            "color": "cyan",
            "size": 10
           },
           "mode": "markers",
           "type": "scatter",
           "x": [
            7.567
           ],
           "y": [
            25.805
           ]
          },
          {
           "marker": {
            "color": "yellow",
            "size": 10
           },
           "mode": "markers",
           "type": "scatter",
           "x": [
            4.382
           ],
           "y": [
            7.4860000000000015
           ]
          },
          {
           "mode": "text",
           "text": "type topspin",
           "textfont": {
            "color": "white",
            "size": 12
           },
           "type": "scatter",
           "x": [
            -5
           ],
           "y": [
            6
           ]
          },
          {
           "mode": "text",
           "text": "stroke forehand",
           "textfont": {
            "color": "white",
            "size": 12
           },
           "type": "scatter",
           "x": [
            -5
           ],
           "y": [
            8
           ]
          },
          {
           "mode": "text",
           "text": "hitter Djokovic",
           "textfont": {
            "color": "white",
            "size": 12
           },
           "type": "scatter",
           "x": [
            -5
           ],
           "y": [
            10
           ]
          },
          {
           "mode": "text",
           "text": "strokeid 5",
           "textfont": {
            "color": "white",
            "size": 12
           },
           "type": "scatter",
           "x": [
            -5
           ],
           "y": [
            12
           ]
          }
         ]
        },
        {
         "data": [
          {
           "marker": {
            "color": "red",
            "size": 10
           },
           "mode": "markers",
           "type": "scatter",
           "x": [
            3.2859999999999996
           ],
           "y": [
            -0.424
           ]
          },
          {
           "marker": {
            "color": "cyan",
            "size": 10
           },
           "mode": "markers",
           "type": "scatter",
           "x": [
            7.536
           ],
           "y": [
            25.71
           ]
          },
          {
           "marker": {
            "color": "yellow",
            "size": 10
           },
           "mode": "markers",
           "type": "scatter",
           "x": [
            4.806
           ],
           "y": [
            10.008000000000001
           ]
          },
          {
           "mode": "text",
           "text": "type topspin",
           "textfont": {
            "color": "white",
            "size": 12
           },
           "type": "scatter",
           "x": [
            -5
           ],
           "y": [
            6
           ]
          },
          {
           "mode": "text",
           "text": "stroke forehand",
           "textfont": {
            "color": "white",
            "size": 12
           },
           "type": "scatter",
           "x": [
            -5
           ],
           "y": [
            8
           ]
          },
          {
           "mode": "text",
           "text": "hitter Djokovic",
           "textfont": {
            "color": "white",
            "size": 12
           },
           "type": "scatter",
           "x": [
            -5
           ],
           "y": [
            10
           ]
          },
          {
           "mode": "text",
           "text": "strokeid 5",
           "textfont": {
            "color": "white",
            "size": 12
           },
           "type": "scatter",
           "x": [
            -5
           ],
           "y": [
            12
           ]
          }
         ]
        },
        {
         "data": [
          {
           "marker": {
            "color": "red",
            "size": 10
           },
           "mode": "markers",
           "type": "scatter",
           "x": [
            3.33
           ],
           "y": [
            -0.51
           ]
          },
          {
           "marker": {
            "color": "cyan",
            "size": 10
           },
           "mode": "markers",
           "type": "scatter",
           "x": [
            7.505
           ],
           "y": [
            25.615000000000002
           ]
          },
          {
           "marker": {
            "color": "yellow",
            "size": 10
           },
           "mode": "markers",
           "type": "scatter",
           "x": [
            5.2299999999999995
           ],
           "y": [
            12.530000000000001
           ]
          },
          {
           "mode": "text",
           "text": "type topspin",
           "textfont": {
            "color": "white",
            "size": 12
           },
           "type": "scatter",
           "x": [
            -5
           ],
           "y": [
            6
           ]
          },
          {
           "mode": "text",
           "text": "stroke forehand",
           "textfont": {
            "color": "white",
            "size": 12
           },
           "type": "scatter",
           "x": [
            -5
           ],
           "y": [
            8
           ]
          },
          {
           "mode": "text",
           "text": "hitter Djokovic",
           "textfont": {
            "color": "white",
            "size": 12
           },
           "type": "scatter",
           "x": [
            -5
           ],
           "y": [
            10
           ]
          },
          {
           "mode": "text",
           "text": "strokeid 5",
           "textfont": {
            "color": "white",
            "size": 12
           },
           "type": "scatter",
           "x": [
            -5
           ],
           "y": [
            12
           ]
          }
         ]
        },
        {
         "data": [
          {
           "marker": {
            "color": "red",
            "size": 10
           },
           "mode": "markers",
           "type": "scatter",
           "x": [
            3.374
           ],
           "y": [
            -0.5960000000000001
           ]
          },
          {
           "marker": {
            "color": "cyan",
            "size": 10
           },
           "mode": "markers",
           "type": "scatter",
           "x": [
            7.473999999999999
           ],
           "y": [
            25.520000000000003
           ]
          },
          {
           "marker": {
            "color": "yellow",
            "size": 10
           },
           "mode": "markers",
           "type": "scatter",
           "x": [
            5.654
           ],
           "y": [
            15.052000000000003
           ]
          },
          {
           "mode": "text",
           "text": "type topspin",
           "textfont": {
            "color": "white",
            "size": 12
           },
           "type": "scatter",
           "x": [
            -5
           ],
           "y": [
            6
           ]
          },
          {
           "mode": "text",
           "text": "stroke forehand",
           "textfont": {
            "color": "white",
            "size": 12
           },
           "type": "scatter",
           "x": [
            -5
           ],
           "y": [
            8
           ]
          },
          {
           "mode": "text",
           "text": "hitter Djokovic",
           "textfont": {
            "color": "white",
            "size": 12
           },
           "type": "scatter",
           "x": [
            -5
           ],
           "y": [
            10
           ]
          },
          {
           "mode": "text",
           "text": "strokeid 5",
           "textfont": {
            "color": "white",
            "size": 12
           },
           "type": "scatter",
           "x": [
            -5
           ],
           "y": [
            12
           ]
          }
         ]
        },
        {
         "data": [
          {
           "marker": {
            "color": "red",
            "size": 10
           },
           "mode": "markers",
           "type": "scatter",
           "x": [
            3.418
           ],
           "y": [
            -0.682
           ]
          },
          {
           "marker": {
            "color": "cyan",
            "size": 10
           },
           "mode": "markers",
           "type": "scatter",
           "x": [
            7.443
           ],
           "y": [
            25.425
           ]
          },
          {
           "marker": {
            "color": "yellow",
            "size": 10
           },
           "mode": "markers",
           "type": "scatter",
           "x": [
            6.078
           ],
           "y": [
            17.574
           ]
          },
          {
           "mode": "text",
           "text": "type topspin",
           "textfont": {
            "color": "white",
            "size": 12
           },
           "type": "scatter",
           "x": [
            -5
           ],
           "y": [
            6
           ]
          },
          {
           "mode": "text",
           "text": "stroke forehand",
           "textfont": {
            "color": "white",
            "size": 12
           },
           "type": "scatter",
           "x": [
            -5
           ],
           "y": [
            8
           ]
          },
          {
           "mode": "text",
           "text": "hitter Djokovic",
           "textfont": {
            "color": "white",
            "size": 12
           },
           "type": "scatter",
           "x": [
            -5
           ],
           "y": [
            10
           ]
          },
          {
           "mode": "text",
           "text": "strokeid 5",
           "textfont": {
            "color": "white",
            "size": 12
           },
           "type": "scatter",
           "x": [
            -5
           ],
           "y": [
            12
           ]
          }
         ]
        },
        {
         "data": [
          {
           "marker": {
            "color": "red",
            "size": 10
           },
           "mode": "markers",
           "type": "scatter",
           "x": [
            3.4619999999999997
           ],
           "y": [
            -0.768
           ]
          },
          {
           "marker": {
            "color": "cyan",
            "size": 10
           },
           "mode": "markers",
           "type": "scatter",
           "x": [
            7.411999999999999
           ],
           "y": [
            25.330000000000002
           ]
          },
          {
           "marker": {
            "color": "yellow",
            "size": 10
           },
           "mode": "markers",
           "type": "scatter",
           "x": [
            6.502
           ],
           "y": [
            20.096000000000004
           ]
          },
          {
           "mode": "text",
           "text": "type topspin",
           "textfont": {
            "color": "white",
            "size": 12
           },
           "type": "scatter",
           "x": [
            -5
           ],
           "y": [
            6
           ]
          },
          {
           "mode": "text",
           "text": "stroke forehand",
           "textfont": {
            "color": "white",
            "size": 12
           },
           "type": "scatter",
           "x": [
            -5
           ],
           "y": [
            8
           ]
          },
          {
           "mode": "text",
           "text": "hitter Djokovic",
           "textfont": {
            "color": "white",
            "size": 12
           },
           "type": "scatter",
           "x": [
            -5
           ],
           "y": [
            10
           ]
          },
          {
           "mode": "text",
           "text": "strokeid 5",
           "textfont": {
            "color": "white",
            "size": 12
           },
           "type": "scatter",
           "x": [
            -5
           ],
           "y": [
            12
           ]
          }
         ]
        },
        {
         "data": [
          {
           "marker": {
            "color": "red",
            "size": 10
           },
           "mode": "markers",
           "type": "scatter",
           "x": [
            3.506
           ],
           "y": [
            -0.854
           ]
          },
          {
           "marker": {
            "color": "cyan",
            "size": 10
           },
           "mode": "markers",
           "type": "scatter",
           "x": [
            7.381
           ],
           "y": [
            25.235
           ]
          },
          {
           "marker": {
            "color": "yellow",
            "size": 10
           },
           "mode": "markers",
           "type": "scatter",
           "x": [
            6.926
           ],
           "y": [
            22.618000000000002
           ]
          },
          {
           "mode": "text",
           "text": "type topspin",
           "textfont": {
            "color": "white",
            "size": 12
           },
           "type": "scatter",
           "x": [
            -5
           ],
           "y": [
            6
           ]
          },
          {
           "mode": "text",
           "text": "stroke forehand",
           "textfont": {
            "color": "white",
            "size": 12
           },
           "type": "scatter",
           "x": [
            -5
           ],
           "y": [
            8
           ]
          },
          {
           "mode": "text",
           "text": "hitter Djokovic",
           "textfont": {
            "color": "white",
            "size": 12
           },
           "type": "scatter",
           "x": [
            -5
           ],
           "y": [
            10
           ]
          },
          {
           "mode": "text",
           "text": "strokeid 5",
           "textfont": {
            "color": "white",
            "size": 12
           },
           "type": "scatter",
           "x": [
            -5
           ],
           "y": [
            12
           ]
          }
         ]
        },
        {
         "data": [
          {
           "marker": {
            "color": "red",
            "size": 10
           },
           "mode": "markers",
           "type": "scatter",
           "x": [
            3.55
           ],
           "y": [
            -0.94
           ]
          },
          {
           "marker": {
            "color": "cyan",
            "size": 10
           },
           "mode": "markers",
           "type": "scatter",
           "x": [
            7.35
           ],
           "y": [
            25.14
           ]
          },
          {
           "marker": {
            "color": "yellow",
            "size": 10
           },
           "mode": "markers",
           "type": "scatter",
           "x": [
            7.35
           ],
           "y": [
            25.14
           ]
          },
          {
           "mode": "text",
           "text": "type topspin",
           "textfont": {
            "color": "white",
            "size": 12
           },
           "type": "scatter",
           "x": [
            -5
           ],
           "y": [
            6
           ]
          },
          {
           "mode": "text",
           "text": "stroke forehand",
           "textfont": {
            "color": "white",
            "size": 12
           },
           "type": "scatter",
           "x": [
            -5
           ],
           "y": [
            8
           ]
          },
          {
           "mode": "text",
           "text": "hitter Nadal",
           "textfont": {
            "color": "white",
            "size": 12
           },
           "type": "scatter",
           "x": [
            -5
           ],
           "y": [
            10
           ]
          },
          {
           "mode": "text",
           "text": "strokeid 6",
           "textfont": {
            "color": "white",
            "size": 12
           },
           "type": "scatter",
           "x": [
            -5
           ],
           "y": [
            12
           ]
          }
         ]
        },
        {
         "data": [
          {
           "marker": {
            "color": "red",
            "size": 10
           },
           "mode": "markers",
           "type": "scatter",
           "x": [
            3.52
           ],
           "y": [
            -0.854
           ]
          },
          {
           "marker": {
            "color": "cyan",
            "size": 10
           },
           "mode": "markers",
           "type": "scatter",
           "x": [
            7.257000000000001
           ],
           "y": [
            25.163
           ]
          },
          {
           "marker": {
            "color": "yellow",
            "size": 10
           },
           "mode": "markers",
           "type": "scatter",
           "x": [
            6.94
           ],
           "y": [
            22.618000000000002
           ]
          },
          {
           "mode": "text",
           "text": "type topspin",
           "textfont": {
            "color": "white",
            "size": 12
           },
           "type": "scatter",
           "x": [
            -5
           ],
           "y": [
            6
           ]
          },
          {
           "mode": "text",
           "text": "stroke forehand",
           "textfont": {
            "color": "white",
            "size": 12
           },
           "type": "scatter",
           "x": [
            -5
           ],
           "y": [
            8
           ]
          },
          {
           "mode": "text",
           "text": "hitter Nadal",
           "textfont": {
            "color": "white",
            "size": 12
           },
           "type": "scatter",
           "x": [
            -5
           ],
           "y": [
            10
           ]
          },
          {
           "mode": "text",
           "text": "strokeid 6",
           "textfont": {
            "color": "white",
            "size": 12
           },
           "type": "scatter",
           "x": [
            -5
           ],
           "y": [
            12
           ]
          }
         ]
        },
        {
         "data": [
          {
           "marker": {
            "color": "red",
            "size": 10
           },
           "mode": "markers",
           "type": "scatter",
           "x": [
            3.4899999999999998
           ],
           "y": [
            -0.768
           ]
          },
          {
           "marker": {
            "color": "cyan",
            "size": 10
           },
           "mode": "markers",
           "type": "scatter",
           "x": [
            7.164
           ],
           "y": [
            25.186000000000003
           ]
          },
          {
           "marker": {
            "color": "yellow",
            "size": 10
           },
           "mode": "markers",
           "type": "scatter",
           "x": [
            6.53
           ],
           "y": [
            20.096000000000004
           ]
          },
          {
           "mode": "text",
           "text": "type topspin",
           "textfont": {
            "color": "white",
            "size": 12
           },
           "type": "scatter",
           "x": [
            -5
           ],
           "y": [
            6
           ]
          },
          {
           "mode": "text",
           "text": "stroke forehand",
           "textfont": {
            "color": "white",
            "size": 12
           },
           "type": "scatter",
           "x": [
            -5
           ],
           "y": [
            8
           ]
          },
          {
           "mode": "text",
           "text": "hitter Nadal",
           "textfont": {
            "color": "white",
            "size": 12
           },
           "type": "scatter",
           "x": [
            -5
           ],
           "y": [
            10
           ]
          },
          {
           "mode": "text",
           "text": "strokeid 6",
           "textfont": {
            "color": "white",
            "size": 12
           },
           "type": "scatter",
           "x": [
            -5
           ],
           "y": [
            12
           ]
          }
         ]
        },
        {
         "data": [
          {
           "marker": {
            "color": "red",
            "size": 10
           },
           "mode": "markers",
           "type": "scatter",
           "x": [
            3.46
           ],
           "y": [
            -0.6819999999999999
           ]
          },
          {
           "marker": {
            "color": "cyan",
            "size": 10
           },
           "mode": "markers",
           "type": "scatter",
           "x": [
            7.071
           ],
           "y": [
            25.209
           ]
          },
          {
           "marker": {
            "color": "yellow",
            "size": 10
           },
           "mode": "markers",
           "type": "scatter",
           "x": [
            6.119999999999999
           ],
           "y": [
            17.573999999999998
           ]
          },
          {
           "mode": "text",
           "text": "type topspin",
           "textfont": {
            "color": "white",
            "size": 12
           },
           "type": "scatter",
           "x": [
            -5
           ],
           "y": [
            6
           ]
          },
          {
           "mode": "text",
           "text": "stroke forehand",
           "textfont": {
            "color": "white",
            "size": 12
           },
           "type": "scatter",
           "x": [
            -5
           ],
           "y": [
            8
           ]
          },
          {
           "mode": "text",
           "text": "hitter Nadal",
           "textfont": {
            "color": "white",
            "size": 12
           },
           "type": "scatter",
           "x": [
            -5
           ],
           "y": [
            10
           ]
          },
          {
           "mode": "text",
           "text": "strokeid 6",
           "textfont": {
            "color": "white",
            "size": 12
           },
           "type": "scatter",
           "x": [
            -5
           ],
           "y": [
            12
           ]
          }
         ]
        },
        {
         "data": [
          {
           "marker": {
            "color": "red",
            "size": 10
           },
           "mode": "markers",
           "type": "scatter",
           "x": [
            3.4299999999999997
           ],
           "y": [
            -0.596
           ]
          },
          {
           "marker": {
            "color": "cyan",
            "size": 10
           },
           "mode": "markers",
           "type": "scatter",
           "x": [
            6.978
           ],
           "y": [
            25.232
           ]
          },
          {
           "marker": {
            "color": "yellow",
            "size": 10
           },
           "mode": "markers",
           "type": "scatter",
           "x": [
            5.709999999999999
           ],
           "y": [
            15.052
           ]
          },
          {
           "mode": "text",
           "text": "type topspin",
           "textfont": {
            "color": "white",
            "size": 12
           },
           "type": "scatter",
           "x": [
            -5
           ],
           "y": [
            6
           ]
          },
          {
           "mode": "text",
           "text": "stroke forehand",
           "textfont": {
            "color": "white",
            "size": 12
           },
           "type": "scatter",
           "x": [
            -5
           ],
           "y": [
            8
           ]
          },
          {
           "mode": "text",
           "text": "hitter Nadal",
           "textfont": {
            "color": "white",
            "size": 12
           },
           "type": "scatter",
           "x": [
            -5
           ],
           "y": [
            10
           ]
          },
          {
           "mode": "text",
           "text": "strokeid 6",
           "textfont": {
            "color": "white",
            "size": 12
           },
           "type": "scatter",
           "x": [
            -5
           ],
           "y": [
            12
           ]
          }
         ]
        },
        {
         "data": [
          {
           "marker": {
            "color": "red",
            "size": 10
           },
           "mode": "markers",
           "type": "scatter",
           "x": [
            3.4
           ],
           "y": [
            -0.51
           ]
          },
          {
           "marker": {
            "color": "cyan",
            "size": 10
           },
           "mode": "markers",
           "type": "scatter",
           "x": [
            6.885
           ],
           "y": [
            25.255000000000003
           ]
          },
          {
           "marker": {
            "color": "yellow",
            "size": 10
           },
           "mode": "markers",
           "type": "scatter",
           "x": [
            5.3
           ],
           "y": [
            12.530000000000001
           ]
          },
          {
           "mode": "text",
           "text": "type topspin",
           "textfont": {
            "color": "white",
            "size": 12
           },
           "type": "scatter",
           "x": [
            -5
           ],
           "y": [
            6
           ]
          },
          {
           "mode": "text",
           "text": "stroke forehand",
           "textfont": {
            "color": "white",
            "size": 12
           },
           "type": "scatter",
           "x": [
            -5
           ],
           "y": [
            8
           ]
          },
          {
           "mode": "text",
           "text": "hitter Nadal",
           "textfont": {
            "color": "white",
            "size": 12
           },
           "type": "scatter",
           "x": [
            -5
           ],
           "y": [
            10
           ]
          },
          {
           "mode": "text",
           "text": "strokeid 6",
           "textfont": {
            "color": "white",
            "size": 12
           },
           "type": "scatter",
           "x": [
            -5
           ],
           "y": [
            12
           ]
          }
         ]
        },
        {
         "data": [
          {
           "marker": {
            "color": "red",
            "size": 10
           },
           "mode": "markers",
           "type": "scatter",
           "x": [
            3.37
           ],
           "y": [
            -0.4239999999999999
           ]
          },
          {
           "marker": {
            "color": "cyan",
            "size": 10
           },
           "mode": "markers",
           "type": "scatter",
           "x": [
            6.792
           ],
           "y": [
            25.278
           ]
          },
          {
           "marker": {
            "color": "yellow",
            "size": 10
           },
           "mode": "markers",
           "type": "scatter",
           "x": [
            4.889999999999999
           ],
           "y": [
            10.007999999999997
           ]
          },
          {
           "mode": "text",
           "text": "type topspin",
           "textfont": {
            "color": "white",
            "size": 12
           },
           "type": "scatter",
           "x": [
            -5
           ],
           "y": [
            6
           ]
          },
          {
           "mode": "text",
           "text": "stroke forehand",
           "textfont": {
            "color": "white",
            "size": 12
           },
           "type": "scatter",
           "x": [
            -5
           ],
           "y": [
            8
           ]
          },
          {
           "mode": "text",
           "text": "hitter Nadal",
           "textfont": {
            "color": "white",
            "size": 12
           },
           "type": "scatter",
           "x": [
            -5
           ],
           "y": [
            10
           ]
          },
          {
           "mode": "text",
           "text": "strokeid 6",
           "textfont": {
            "color": "white",
            "size": 12
           },
           "type": "scatter",
           "x": [
            -5
           ],
           "y": [
            12
           ]
          }
         ]
        },
        {
         "data": [
          {
           "marker": {
            "color": "red",
            "size": 10
           },
           "mode": "markers",
           "type": "scatter",
           "x": [
            3.34
           ],
           "y": [
            -0.3379999999999999
           ]
          },
          {
           "marker": {
            "color": "cyan",
            "size": 10
           },
           "mode": "markers",
           "type": "scatter",
           "x": [
            6.699
           ],
           "y": [
            25.301000000000002
           ]
          },
          {
           "marker": {
            "color": "yellow",
            "size": 10
           },
           "mode": "markers",
           "type": "scatter",
           "x": [
            4.4799999999999995
           ],
           "y": [
            7.485999999999999
           ]
          },
          {
           "mode": "text",
           "text": "type topspin",
           "textfont": {
            "color": "white",
            "size": 12
           },
           "type": "scatter",
           "x": [
            -5
           ],
           "y": [
            6
           ]
          },
          {
           "mode": "text",
           "text": "stroke forehand",
           "textfont": {
            "color": "white",
            "size": 12
           },
           "type": "scatter",
           "x": [
            -5
           ],
           "y": [
            8
           ]
          },
          {
           "mode": "text",
           "text": "hitter Nadal",
           "textfont": {
            "color": "white",
            "size": 12
           },
           "type": "scatter",
           "x": [
            -5
           ],
           "y": [
            10
           ]
          },
          {
           "mode": "text",
           "text": "strokeid 6",
           "textfont": {
            "color": "white",
            "size": 12
           },
           "type": "scatter",
           "x": [
            -5
           ],
           "y": [
            12
           ]
          }
         ]
        },
        {
         "data": [
          {
           "marker": {
            "color": "red",
            "size": 10
           },
           "mode": "markers",
           "type": "scatter",
           "x": [
            3.31
           ],
           "y": [
            -0.25199999999999995
           ]
          },
          {
           "marker": {
            "color": "cyan",
            "size": 10
           },
           "mode": "markers",
           "type": "scatter",
           "x": [
            6.606
           ],
           "y": [
            25.324
           ]
          },
          {
           "marker": {
            "color": "yellow",
            "size": 10
           },
           "mode": "markers",
           "type": "scatter",
           "x": [
            4.069999999999999
           ],
           "y": [
            4.963999999999999
           ]
          },
          {
           "mode": "text",
           "text": "type topspin",
           "textfont": {
            "color": "white",
            "size": 12
           },
           "type": "scatter",
           "x": [
            -5
           ],
           "y": [
            6
           ]
          },
          {
           "mode": "text",
           "text": "stroke forehand",
           "textfont": {
            "color": "white",
            "size": 12
           },
           "type": "scatter",
           "x": [
            -5
           ],
           "y": [
            8
           ]
          },
          {
           "mode": "text",
           "text": "hitter Nadal",
           "textfont": {
            "color": "white",
            "size": 12
           },
           "type": "scatter",
           "x": [
            -5
           ],
           "y": [
            10
           ]
          },
          {
           "mode": "text",
           "text": "strokeid 6",
           "textfont": {
            "color": "white",
            "size": 12
           },
           "type": "scatter",
           "x": [
            -5
           ],
           "y": [
            12
           ]
          }
         ]
        },
        {
         "data": [
          {
           "marker": {
            "color": "red",
            "size": 10
           },
           "mode": "markers",
           "type": "scatter",
           "x": [
            3.2800000000000002
           ],
           "y": [
            -0.16599999999999998
           ]
          },
          {
           "marker": {
            "color": "cyan",
            "size": 10
           },
           "mode": "markers",
           "type": "scatter",
           "x": [
            6.513
           ],
           "y": [
            25.347
           ]
          },
          {
           "marker": {
            "color": "yellow",
            "size": 10
           },
           "mode": "markers",
           "type": "scatter",
           "x": [
            3.66
           ],
           "y": [
            2.4419999999999993
           ]
          },
          {
           "mode": "text",
           "text": "type topspin",
           "textfont": {
            "color": "white",
            "size": 12
           },
           "type": "scatter",
           "x": [
            -5
           ],
           "y": [
            6
           ]
          },
          {
           "mode": "text",
           "text": "stroke forehand",
           "textfont": {
            "color": "white",
            "size": 12
           },
           "type": "scatter",
           "x": [
            -5
           ],
           "y": [
            8
           ]
          },
          {
           "mode": "text",
           "text": "hitter Nadal",
           "textfont": {
            "color": "white",
            "size": 12
           },
           "type": "scatter",
           "x": [
            -5
           ],
           "y": [
            10
           ]
          },
          {
           "mode": "text",
           "text": "strokeid 6",
           "textfont": {
            "color": "white",
            "size": 12
           },
           "type": "scatter",
           "x": [
            -5
           ],
           "y": [
            12
           ]
          }
         ]
        },
        {
         "data": [
          {
           "marker": {
            "color": "red",
            "size": 10
           },
           "mode": "markers",
           "type": "scatter",
           "x": [
            3.25
           ],
           "y": [
            -0.08
           ]
          },
          {
           "marker": {
            "color": "cyan",
            "size": 10
           },
           "mode": "markers",
           "type": "scatter",
           "x": [
            6.42
           ],
           "y": [
            25.37
           ]
          },
          {
           "marker": {
            "color": "yellow",
            "size": 10
           },
           "mode": "markers",
           "type": "scatter",
           "x": [
            3.25
           ],
           "y": [
            -0.08
           ]
          },
          {
           "mode": "text",
           "text": "type topspin",
           "textfont": {
            "color": "white",
            "size": 12
           },
           "type": "scatter",
           "x": [
            -5
           ],
           "y": [
            6
           ]
          },
          {
           "mode": "text",
           "text": "stroke backhand",
           "textfont": {
            "color": "white",
            "size": 12
           },
           "type": "scatter",
           "x": [
            -5
           ],
           "y": [
            8
           ]
          },
          {
           "mode": "text",
           "text": "hitter Djokovic",
           "textfont": {
            "color": "white",
            "size": 12
           },
           "type": "scatter",
           "x": [
            -5
           ],
           "y": [
            10
           ]
          },
          {
           "mode": "text",
           "text": "strokeid 7",
           "textfont": {
            "color": "white",
            "size": 12
           },
           "type": "scatter",
           "x": [
            -5
           ],
           "y": [
            12
           ]
          }
         ]
        },
        {
         "data": [
          {
           "marker": {
            "color": "red",
            "size": 10
           },
           "mode": "markers",
           "type": "scatter",
           "x": [
            3.3110000000000004
           ],
           "y": [
            -0.188
           ]
          },
          {
           "marker": {
            "color": "cyan",
            "size": 10
           },
           "mode": "markers",
           "type": "scatter",
           "x": [
            6.6160000000000005
           ],
           "y": [
            25.707
           ]
          },
          {
           "marker": {
            "color": "yellow",
            "size": 10
           },
           "mode": "markers",
           "type": "scatter",
           "x": [
            3.7630000000000003
           ],
           "y": [
            2.802
           ]
          },
          {
           "mode": "text",
           "text": "type topspin",
           "textfont": {
            "color": "white",
            "size": 12
           },
           "type": "scatter",
           "x": [
            -5
           ],
           "y": [
            6
           ]
          },
          {
           "mode": "text",
           "text": "stroke backhand",
           "textfont": {
            "color": "white",
            "size": 12
           },
           "type": "scatter",
           "x": [
            -5
           ],
           "y": [
            8
           ]
          },
          {
           "mode": "text",
           "text": "hitter Djokovic",
           "textfont": {
            "color": "white",
            "size": 12
           },
           "type": "scatter",
           "x": [
            -5
           ],
           "y": [
            10
           ]
          },
          {
           "mode": "text",
           "text": "strokeid 7",
           "textfont": {
            "color": "white",
            "size": 12
           },
           "type": "scatter",
           "x": [
            -5
           ],
           "y": [
            12
           ]
          }
         ]
        },
        {
         "data": [
          {
           "marker": {
            "color": "red",
            "size": 10
           },
           "mode": "markers",
           "type": "scatter",
           "x": [
            3.372
           ],
           "y": [
            -0.296
           ]
          },
          {
           "marker": {
            "color": "cyan",
            "size": 10
           },
           "mode": "markers",
           "type": "scatter",
           "x": [
            6.812
           ],
           "y": [
            26.044000000000004
           ]
          },
          {
           "marker": {
            "color": "yellow",
            "size": 10
           },
           "mode": "markers",
           "type": "scatter",
           "x": [
            4.276
           ],
           "y": [
            5.684
           ]
          },
          {
           "mode": "text",
           "text": "type topspin",
           "textfont": {
            "color": "white",
            "size": 12
           },
           "type": "scatter",
           "x": [
            -5
           ],
           "y": [
            6
           ]
          },
          {
           "mode": "text",
           "text": "stroke backhand",
           "textfont": {
            "color": "white",
            "size": 12
           },
           "type": "scatter",
           "x": [
            -5
           ],
           "y": [
            8
           ]
          },
          {
           "mode": "text",
           "text": "hitter Djokovic",
           "textfont": {
            "color": "white",
            "size": 12
           },
           "type": "scatter",
           "x": [
            -5
           ],
           "y": [
            10
           ]
          },
          {
           "mode": "text",
           "text": "strokeid 7",
           "textfont": {
            "color": "white",
            "size": 12
           },
           "type": "scatter",
           "x": [
            -5
           ],
           "y": [
            12
           ]
          }
         ]
        },
        {
         "data": [
          {
           "marker": {
            "color": "red",
            "size": 10
           },
           "mode": "markers",
           "type": "scatter",
           "x": [
            3.433
           ],
           "y": [
            -0.404
           ]
          },
          {
           "marker": {
            "color": "cyan",
            "size": 10
           },
           "mode": "markers",
           "type": "scatter",
           "x": [
            7.008000000000001
           ],
           "y": [
            26.381
           ]
          },
          {
           "marker": {
            "color": "yellow",
            "size": 10
           },
           "mode": "markers",
           "type": "scatter",
           "x": [
            4.789000000000001
           ],
           "y": [
            8.566000000000003
           ]
          },
          {
           "mode": "text",
           "text": "type topspin",
           "textfont": {
            "color": "white",
            "size": 12
           },
           "type": "scatter",
           "x": [
            -5
           ],
           "y": [
            6
           ]
          },
          {
           "mode": "text",
           "text": "stroke backhand",
           "textfont": {
            "color": "white",
            "size": 12
           },
           "type": "scatter",
           "x": [
            -5
           ],
           "y": [
            8
           ]
          },
          {
           "mode": "text",
           "text": "hitter Djokovic",
           "textfont": {
            "color": "white",
            "size": 12
           },
           "type": "scatter",
           "x": [
            -5
           ],
           "y": [
            10
           ]
          },
          {
           "mode": "text",
           "text": "strokeid 7",
           "textfont": {
            "color": "white",
            "size": 12
           },
           "type": "scatter",
           "x": [
            -5
           ],
           "y": [
            12
           ]
          }
         ]
        },
        {
         "data": [
          {
           "marker": {
            "color": "red",
            "size": 10
           },
           "mode": "markers",
           "type": "scatter",
           "x": [
            3.4939999999999998
           ],
           "y": [
            -0.512
           ]
          },
          {
           "marker": {
            "color": "cyan",
            "size": 10
           },
           "mode": "markers",
           "type": "scatter",
           "x": [
            7.204000000000001
           ],
           "y": [
            26.718
           ]
          },
          {
           "marker": {
            "color": "yellow",
            "size": 10
           },
           "mode": "markers",
           "type": "scatter",
           "x": [
            5.3020000000000005
           ],
           "y": [
            11.448
           ]
          },
          {
           "mode": "text",
           "text": "type topspin",
           "textfont": {
            "color": "white",
            "size": 12
           },
           "type": "scatter",
           "x": [
            -5
           ],
           "y": [
            6
           ]
          },
          {
           "mode": "text",
           "text": "stroke backhand",
           "textfont": {
            "color": "white",
            "size": 12
           },
           "type": "scatter",
           "x": [
            -5
           ],
           "y": [
            8
           ]
          },
          {
           "mode": "text",
           "text": "hitter Djokovic",
           "textfont": {
            "color": "white",
            "size": 12
           },
           "type": "scatter",
           "x": [
            -5
           ],
           "y": [
            10
           ]
          },
          {
           "mode": "text",
           "text": "strokeid 7",
           "textfont": {
            "color": "white",
            "size": 12
           },
           "type": "scatter",
           "x": [
            -5
           ],
           "y": [
            12
           ]
          }
         ]
        },
        {
         "data": [
          {
           "marker": {
            "color": "red",
            "size": 10
           },
           "mode": "markers",
           "type": "scatter",
           "x": [
            3.5549999999999997
           ],
           "y": [
            -0.62
           ]
          },
          {
           "marker": {
            "color": "cyan",
            "size": 10
           },
           "mode": "markers",
           "type": "scatter",
           "x": [
            7.4
           ],
           "y": [
            27.055
           ]
          },
          {
           "marker": {
            "color": "yellow",
            "size": 10
           },
           "mode": "markers",
           "type": "scatter",
           "x": [
            5.815
           ],
           "y": [
            14.33
           ]
          },
          {
           "mode": "text",
           "text": "type topspin",
           "textfont": {
            "color": "white",
            "size": 12
           },
           "type": "scatter",
           "x": [
            -5
           ],
           "y": [
            6
           ]
          },
          {
           "mode": "text",
           "text": "stroke backhand",
           "textfont": {
            "color": "white",
            "size": 12
           },
           "type": "scatter",
           "x": [
            -5
           ],
           "y": [
            8
           ]
          },
          {
           "mode": "text",
           "text": "hitter Djokovic",
           "textfont": {
            "color": "white",
            "size": 12
           },
           "type": "scatter",
           "x": [
            -5
           ],
           "y": [
            10
           ]
          },
          {
           "mode": "text",
           "text": "strokeid 7",
           "textfont": {
            "color": "white",
            "size": 12
           },
           "type": "scatter",
           "x": [
            -5
           ],
           "y": [
            12
           ]
          }
         ]
        },
        {
         "data": [
          {
           "marker": {
            "color": "red",
            "size": 10
           },
           "mode": "markers",
           "type": "scatter",
           "x": [
            3.616
           ],
           "y": [
            -0.7280000000000001
           ]
          },
          {
           "marker": {
            "color": "cyan",
            "size": 10
           },
           "mode": "markers",
           "type": "scatter",
           "x": [
            7.596000000000001
           ],
           "y": [
            27.392000000000003
           ]
          },
          {
           "marker": {
            "color": "yellow",
            "size": 10
           },
           "mode": "markers",
           "type": "scatter",
           "x": [
            6.328000000000001
           ],
           "y": [
            17.212000000000003
           ]
          },
          {
           "mode": "text",
           "text": "type topspin",
           "textfont": {
            "color": "white",
            "size": 12
           },
           "type": "scatter",
           "x": [
            -5
           ],
           "y": [
            6
           ]
          },
          {
           "mode": "text",
           "text": "stroke backhand",
           "textfont": {
            "color": "white",
            "size": 12
           },
           "type": "scatter",
           "x": [
            -5
           ],
           "y": [
            8
           ]
          },
          {
           "mode": "text",
           "text": "hitter Djokovic",
           "textfont": {
            "color": "white",
            "size": 12
           },
           "type": "scatter",
           "x": [
            -5
           ],
           "y": [
            10
           ]
          },
          {
           "mode": "text",
           "text": "strokeid 7",
           "textfont": {
            "color": "white",
            "size": 12
           },
           "type": "scatter",
           "x": [
            -5
           ],
           "y": [
            12
           ]
          }
         ]
        },
        {
         "data": [
          {
           "marker": {
            "color": "red",
            "size": 10
           },
           "mode": "markers",
           "type": "scatter",
           "x": [
            3.6769999999999996
           ],
           "y": [
            -0.8360000000000001
           ]
          },
          {
           "marker": {
            "color": "cyan",
            "size": 10
           },
           "mode": "markers",
           "type": "scatter",
           "x": [
            7.792000000000001
           ],
           "y": [
            27.729
           ]
          },
          {
           "marker": {
            "color": "yellow",
            "size": 10
           },
           "mode": "markers",
           "type": "scatter",
           "x": [
            6.841000000000001
           ],
           "y": [
            20.094
           ]
          },
          {
           "mode": "text",
           "text": "type topspin",
           "textfont": {
            "color": "white",
            "size": 12
           },
           "type": "scatter",
           "x": [
            -5
           ],
           "y": [
            6
           ]
          },
          {
           "mode": "text",
           "text": "stroke backhand",
           "textfont": {
            "color": "white",
            "size": 12
           },
           "type": "scatter",
           "x": [
            -5
           ],
           "y": [
            8
           ]
          },
          {
           "mode": "text",
           "text": "hitter Djokovic",
           "textfont": {
            "color": "white",
            "size": 12
           },
           "type": "scatter",
           "x": [
            -5
           ],
           "y": [
            10
           ]
          },
          {
           "mode": "text",
           "text": "strokeid 7",
           "textfont": {
            "color": "white",
            "size": 12
           },
           "type": "scatter",
           "x": [
            -5
           ],
           "y": [
            12
           ]
          }
         ]
        },
        {
         "data": [
          {
           "marker": {
            "color": "red",
            "size": 10
           },
           "mode": "markers",
           "type": "scatter",
           "x": [
            3.738
           ],
           "y": [
            -0.944
           ]
          },
          {
           "marker": {
            "color": "cyan",
            "size": 10
           },
           "mode": "markers",
           "type": "scatter",
           "x": [
            7.988
           ],
           "y": [
            28.066
           ]
          },
          {
           "marker": {
            "color": "yellow",
            "size": 10
           },
           "mode": "markers",
           "type": "scatter",
           "x": [
            7.354000000000001
           ],
           "y": [
            22.976000000000003
           ]
          },
          {
           "mode": "text",
           "text": "type topspin",
           "textfont": {
            "color": "white",
            "size": 12
           },
           "type": "scatter",
           "x": [
            -5
           ],
           "y": [
            6
           ]
          },
          {
           "mode": "text",
           "text": "stroke backhand",
           "textfont": {
            "color": "white",
            "size": 12
           },
           "type": "scatter",
           "x": [
            -5
           ],
           "y": [
            8
           ]
          },
          {
           "mode": "text",
           "text": "hitter Djokovic",
           "textfont": {
            "color": "white",
            "size": 12
           },
           "type": "scatter",
           "x": [
            -5
           ],
           "y": [
            10
           ]
          },
          {
           "mode": "text",
           "text": "strokeid 7",
           "textfont": {
            "color": "white",
            "size": 12
           },
           "type": "scatter",
           "x": [
            -5
           ],
           "y": [
            12
           ]
          }
         ]
        },
        {
         "data": [
          {
           "marker": {
            "color": "red",
            "size": 10
           },
           "mode": "markers",
           "type": "scatter",
           "x": [
            3.7989999999999995
           ],
           "y": [
            -1.052
           ]
          },
          {
           "marker": {
            "color": "cyan",
            "size": 10
           },
           "mode": "markers",
           "type": "scatter",
           "x": [
            8.184000000000001
           ],
           "y": [
            28.403
           ]
          },
          {
           "marker": {
            "color": "yellow",
            "size": 10
           },
           "mode": "markers",
           "type": "scatter",
           "x": [
            7.867000000000001
           ],
           "y": [
            25.858
           ]
          },
          {
           "mode": "text",
           "text": "type topspin",
           "textfont": {
            "color": "white",
            "size": 12
           },
           "type": "scatter",
           "x": [
            -5
           ],
           "y": [
            6
           ]
          },
          {
           "mode": "text",
           "text": "stroke backhand",
           "textfont": {
            "color": "white",
            "size": 12
           },
           "type": "scatter",
           "x": [
            -5
           ],
           "y": [
            8
           ]
          },
          {
           "mode": "text",
           "text": "hitter Djokovic",
           "textfont": {
            "color": "white",
            "size": 12
           },
           "type": "scatter",
           "x": [
            -5
           ],
           "y": [
            10
           ]
          },
          {
           "mode": "text",
           "text": "strokeid 7",
           "textfont": {
            "color": "white",
            "size": 12
           },
           "type": "scatter",
           "x": [
            -5
           ],
           "y": [
            12
           ]
          }
         ]
        },
        {
         "data": [
          {
           "marker": {
            "color": "red",
            "size": 10
           },
           "mode": "markers",
           "type": "scatter",
           "x": [
            3.86
           ],
           "y": [
            -1.16
           ]
          },
          {
           "marker": {
            "color": "cyan",
            "size": 10
           },
           "mode": "markers",
           "type": "scatter",
           "x": [
            8.38
           ],
           "y": [
            28.74
           ]
          },
          {
           "marker": {
            "color": "yellow",
            "size": 10
           },
           "mode": "markers",
           "type": "scatter",
           "x": [
            8.38
           ],
           "y": [
            28.74
           ]
          },
          {
           "mode": "text",
           "text": "type topspin",
           "textfont": {
            "color": "white",
            "size": 12
           },
           "type": "scatter",
           "x": [
            -5
           ],
           "y": [
            6
           ]
          },
          {
           "mode": "text",
           "text": "stroke forehand",
           "textfont": {
            "color": "white",
            "size": 12
           },
           "type": "scatter",
           "x": [
            -5
           ],
           "y": [
            8
           ]
          },
          {
           "mode": "text",
           "text": "hitter Nadal",
           "textfont": {
            "color": "white",
            "size": 12
           },
           "type": "scatter",
           "x": [
            -5
           ],
           "y": [
            10
           ]
          },
          {
           "mode": "text",
           "text": "strokeid 8",
           "textfont": {
            "color": "white",
            "size": 12
           },
           "type": "scatter",
           "x": [
            -5
           ],
           "y": [
            12
           ]
          }
         ]
        },
        {
         "data": [
          {
           "marker": {
            "color": "red",
            "size": 10
           },
           "mode": "markers",
           "type": "scatter",
           "x": [
            3.585
           ],
           "y": [
            -1.106
           ]
          },
          {
           "marker": {
            "color": "cyan",
            "size": 10
           },
           "mode": "markers",
           "type": "scatter",
           "x": [
            8.254000000000001
           ],
           "y": [
            28.499
           ]
          },
          {
           "marker": {
            "color": "yellow",
            "size": 10
           },
           "mode": "markers",
           "type": "scatter",
           "x": [
            7.6530000000000005
           ],
           "y": [
            25.804
           ]
          },
          {
           "mode": "text",
           "text": "type topspin",
           "textfont": {
            "color": "white",
            "size": 12
           },
           "type": "scatter",
           "x": [
            -5
           ],
           "y": [
            6
           ]
          },
          {
           "mode": "text",
           "text": "stroke forehand",
           "textfont": {
            "color": "white",
            "size": 12
           },
           "type": "scatter",
           "x": [
            -5
           ],
           "y": [
            8
           ]
          },
          {
           "mode": "text",
           "text": "hitter Nadal",
           "textfont": {
            "color": "white",
            "size": 12
           },
           "type": "scatter",
           "x": [
            -5
           ],
           "y": [
            10
           ]
          },
          {
           "mode": "text",
           "text": "strokeid 8",
           "textfont": {
            "color": "white",
            "size": 12
           },
           "type": "scatter",
           "x": [
            -5
           ],
           "y": [
            12
           ]
          }
         ]
        },
        {
         "data": [
          {
           "marker": {
            "color": "red",
            "size": 10
           },
           "mode": "markers",
           "type": "scatter",
           "x": [
            3.31
           ],
           "y": [
            -1.052
           ]
          },
          {
           "marker": {
            "color": "cyan",
            "size": 10
           },
           "mode": "markers",
           "type": "scatter",
           "x": [
            8.128
           ],
           "y": [
            28.258000000000003
           ]
          },
          {
           "marker": {
            "color": "yellow",
            "size": 10
           },
           "mode": "markers",
           "type": "scatter",
           "x": [
            6.926000000000001
           ],
           "y": [
            22.868000000000002
           ]
          },
          {
           "mode": "text",
           "text": "type topspin",
           "textfont": {
            "color": "white",
            "size": 12
           },
           "type": "scatter",
           "x": [
            -5
           ],
           "y": [
            6
           ]
          },
          {
           "mode": "text",
           "text": "stroke forehand",
           "textfont": {
            "color": "white",
            "size": 12
           },
           "type": "scatter",
           "x": [
            -5
           ],
           "y": [
            8
           ]
          },
          {
           "mode": "text",
           "text": "hitter Nadal",
           "textfont": {
            "color": "white",
            "size": 12
           },
           "type": "scatter",
           "x": [
            -5
           ],
           "y": [
            10
           ]
          },
          {
           "mode": "text",
           "text": "strokeid 8",
           "textfont": {
            "color": "white",
            "size": 12
           },
           "type": "scatter",
           "x": [
            -5
           ],
           "y": [
            12
           ]
          }
         ]
        },
        {
         "data": [
          {
           "marker": {
            "color": "red",
            "size": 10
           },
           "mode": "markers",
           "type": "scatter",
           "x": [
            3.035
           ],
           "y": [
            -0.998
           ]
          },
          {
           "marker": {
            "color": "cyan",
            "size": 10
           },
           "mode": "markers",
           "type": "scatter",
           "x": [
            8.002
           ],
           "y": [
            28.017
           ]
          },
          {
           "marker": {
            "color": "yellow",
            "size": 10
           },
           "mode": "markers",
           "type": "scatter",
           "x": [
            6.199000000000001
           ],
           "y": [
            19.932
           ]
          },
          {
           "mode": "text",
           "text": "type topspin",
           "textfont": {
            "color": "white",
            "size": 12
           },
           "type": "scatter",
           "x": [
            -5
           ],
           "y": [
            6
           ]
          },
          {
           "mode": "text",
           "text": "stroke forehand",
           "textfont": {
            "color": "white",
            "size": 12
           },
           "type": "scatter",
           "x": [
            -5
           ],
           "y": [
            8
           ]
          },
          {
           "mode": "text",
           "text": "hitter Nadal",
           "textfont": {
            "color": "white",
            "size": 12
           },
           "type": "scatter",
           "x": [
            -5
           ],
           "y": [
            10
           ]
          },
          {
           "mode": "text",
           "text": "strokeid 8",
           "textfont": {
            "color": "white",
            "size": 12
           },
           "type": "scatter",
           "x": [
            -5
           ],
           "y": [
            12
           ]
          }
         ]
        },
        {
         "data": [
          {
           "marker": {
            "color": "red",
            "size": 10
           },
           "mode": "markers",
           "type": "scatter",
           "x": [
            2.76
           ],
           "y": [
            -0.944
           ]
          },
          {
           "marker": {
            "color": "cyan",
            "size": 10
           },
           "mode": "markers",
           "type": "scatter",
           "x": [
            7.876000000000001
           ],
           "y": [
            27.776
           ]
          },
          {
           "marker": {
            "color": "yellow",
            "size": 10
           },
           "mode": "markers",
           "type": "scatter",
           "x": [
            5.472
           ],
           "y": [
            16.996
           ]
          },
          {
           "mode": "text",
           "text": "type topspin",
           "textfont": {
            "color": "white",
            "size": 12
           },
           "type": "scatter",
           "x": [
            -5
           ],
           "y": [
            6
           ]
          },
          {
           "mode": "text",
           "text": "stroke forehand",
           "textfont": {
            "color": "white",
            "size": 12
           },
           "type": "scatter",
           "x": [
            -5
           ],
           "y": [
            8
           ]
          },
          {
           "mode": "text",
           "text": "hitter Nadal",
           "textfont": {
            "color": "white",
            "size": 12
           },
           "type": "scatter",
           "x": [
            -5
           ],
           "y": [
            10
           ]
          },
          {
           "mode": "text",
           "text": "strokeid 8",
           "textfont": {
            "color": "white",
            "size": 12
           },
           "type": "scatter",
           "x": [
            -5
           ],
           "y": [
            12
           ]
          }
         ]
        },
        {
         "data": [
          {
           "marker": {
            "color": "red",
            "size": 10
           },
           "mode": "markers",
           "type": "scatter",
           "x": [
            2.485
           ],
           "y": [
            -0.8899999999999999
           ]
          },
          {
           "marker": {
            "color": "cyan",
            "size": 10
           },
           "mode": "markers",
           "type": "scatter",
           "x": [
            7.75
           ],
           "y": [
            27.534999999999997
           ]
          },
          {
           "marker": {
            "color": "yellow",
            "size": 10
           },
           "mode": "markers",
           "type": "scatter",
           "x": [
            4.745
           ],
           "y": [
            14.059999999999999
           ]
          },
          {
           "mode": "text",
           "text": "type topspin",
           "textfont": {
            "color": "white",
            "size": 12
           },
           "type": "scatter",
           "x": [
            -5
           ],
           "y": [
            6
           ]
          },
          {
           "mode": "text",
           "text": "stroke forehand",
           "textfont": {
            "color": "white",
            "size": 12
           },
           "type": "scatter",
           "x": [
            -5
           ],
           "y": [
            8
           ]
          },
          {
           "mode": "text",
           "text": "hitter Nadal",
           "textfont": {
            "color": "white",
            "size": 12
           },
           "type": "scatter",
           "x": [
            -5
           ],
           "y": [
            10
           ]
          },
          {
           "mode": "text",
           "text": "strokeid 8",
           "textfont": {
            "color": "white",
            "size": 12
           },
           "type": "scatter",
           "x": [
            -5
           ],
           "y": [
            12
           ]
          }
         ]
        },
        {
         "data": [
          {
           "marker": {
            "color": "red",
            "size": 10
           },
           "mode": "markers",
           "type": "scatter",
           "x": [
            2.21
           ],
           "y": [
            -0.8359999999999999
           ]
          },
          {
           "marker": {
            "color": "cyan",
            "size": 10
           },
           "mode": "markers",
           "type": "scatter",
           "x": [
            7.6240000000000006
           ],
           "y": [
            27.293999999999997
           ]
          },
          {
           "marker": {
            "color": "yellow",
            "size": 10
           },
           "mode": "markers",
           "type": "scatter",
           "x": [
            4.018
           ],
           "y": [
            11.123999999999997
           ]
          },
          {
           "mode": "text",
           "text": "type topspin",
           "textfont": {
            "color": "white",
            "size": 12
           },
           "type": "scatter",
           "x": [
            -5
           ],
           "y": [
            6
           ]
          },
          {
           "mode": "text",
           "text": "stroke forehand",
           "textfont": {
            "color": "white",
            "size": 12
           },
           "type": "scatter",
           "x": [
            -5
           ],
           "y": [
            8
           ]
          },
          {
           "mode": "text",
           "text": "hitter Nadal",
           "textfont": {
            "color": "white",
            "size": 12
           },
           "type": "scatter",
           "x": [
            -5
           ],
           "y": [
            10
           ]
          },
          {
           "mode": "text",
           "text": "strokeid 8",
           "textfont": {
            "color": "white",
            "size": 12
           },
           "type": "scatter",
           "x": [
            -5
           ],
           "y": [
            12
           ]
          }
         ]
        },
        {
         "data": [
          {
           "marker": {
            "color": "red",
            "size": 10
           },
           "mode": "markers",
           "type": "scatter",
           "x": [
            1.9349999999999998
           ],
           "y": [
            -0.782
           ]
          },
          {
           "marker": {
            "color": "cyan",
            "size": 10
           },
           "mode": "markers",
           "type": "scatter",
           "x": [
            7.498000000000001
           ],
           "y": [
            27.052999999999997
           ]
          },
          {
           "marker": {
            "color": "yellow",
            "size": 10
           },
           "mode": "markers",
           "type": "scatter",
           "x": [
            3.291
           ],
           "y": [
            8.187999999999999
           ]
          },
          {
           "mode": "text",
           "text": "type topspin",
           "textfont": {
            "color": "white",
            "size": 12
           },
           "type": "scatter",
           "x": [
            -5
           ],
           "y": [
            6
           ]
          },
          {
           "mode": "text",
           "text": "stroke forehand",
           "textfont": {
            "color": "white",
            "size": 12
           },
           "type": "scatter",
           "x": [
            -5
           ],
           "y": [
            8
           ]
          },
          {
           "mode": "text",
           "text": "hitter Nadal",
           "textfont": {
            "color": "white",
            "size": 12
           },
           "type": "scatter",
           "x": [
            -5
           ],
           "y": [
            10
           ]
          },
          {
           "mode": "text",
           "text": "strokeid 8",
           "textfont": {
            "color": "white",
            "size": 12
           },
           "type": "scatter",
           "x": [
            -5
           ],
           "y": [
            12
           ]
          }
         ]
        },
        {
         "data": [
          {
           "marker": {
            "color": "red",
            "size": 10
           },
           "mode": "markers",
           "type": "scatter",
           "x": [
            1.66
           ],
           "y": [
            -0.728
           ]
          },
          {
           "marker": {
            "color": "cyan",
            "size": 10
           },
           "mode": "markers",
           "type": "scatter",
           "x": [
            7.372
           ],
           "y": [
            26.811999999999998
           ]
          },
          {
           "marker": {
            "color": "yellow",
            "size": 10
           },
           "mode": "markers",
           "type": "scatter",
           "x": [
            2.564
           ],
           "y": [
            5.251999999999999
           ]
          },
          {
           "mode": "text",
           "text": "type topspin",
           "textfont": {
            "color": "white",
            "size": 12
           },
           "type": "scatter",
           "x": [
            -5
           ],
           "y": [
            6
           ]
          },
          {
           "mode": "text",
           "text": "stroke forehand",
           "textfont": {
            "color": "white",
            "size": 12
           },
           "type": "scatter",
           "x": [
            -5
           ],
           "y": [
            8
           ]
          },
          {
           "mode": "text",
           "text": "hitter Nadal",
           "textfont": {
            "color": "white",
            "size": 12
           },
           "type": "scatter",
           "x": [
            -5
           ],
           "y": [
            10
           ]
          },
          {
           "mode": "text",
           "text": "strokeid 8",
           "textfont": {
            "color": "white",
            "size": 12
           },
           "type": "scatter",
           "x": [
            -5
           ],
           "y": [
            12
           ]
          }
         ]
        },
        {
         "data": [
          {
           "marker": {
            "color": "red",
            "size": 10
           },
           "mode": "markers",
           "type": "scatter",
           "x": [
            1.385
           ],
           "y": [
            -0.674
           ]
          },
          {
           "marker": {
            "color": "cyan",
            "size": 10
           },
           "mode": "markers",
           "type": "scatter",
           "x": [
            7.246
           ],
           "y": [
            26.570999999999998
           ]
          },
          {
           "marker": {
            "color": "yellow",
            "size": 10
           },
           "mode": "markers",
           "type": "scatter",
           "x": [
            1.837
           ],
           "y": [
            2.315999999999999
           ]
          },
          {
           "mode": "text",
           "text": "type topspin",
           "textfont": {
            "color": "white",
            "size": 12
           },
           "type": "scatter",
           "x": [
            -5
           ],
           "y": [
            6
           ]
          },
          {
           "mode": "text",
           "text": "stroke forehand",
           "textfont": {
            "color": "white",
            "size": 12
           },
           "type": "scatter",
           "x": [
            -5
           ],
           "y": [
            8
           ]
          },
          {
           "mode": "text",
           "text": "hitter Nadal",
           "textfont": {
            "color": "white",
            "size": 12
           },
           "type": "scatter",
           "x": [
            -5
           ],
           "y": [
            10
           ]
          },
          {
           "mode": "text",
           "text": "strokeid 8",
           "textfont": {
            "color": "white",
            "size": 12
           },
           "type": "scatter",
           "x": [
            -5
           ],
           "y": [
            12
           ]
          }
         ]
        },
        {
         "data": [
          {
           "marker": {
            "color": "red",
            "size": 10
           },
           "mode": "markers",
           "type": "scatter",
           "x": [
            1.11
           ],
           "y": [
            -0.62
           ]
          },
          {
           "marker": {
            "color": "cyan",
            "size": 10
           },
           "mode": "markers",
           "type": "scatter",
           "x": [
            7.12
           ],
           "y": [
            26.33
           ]
          },
          {
           "marker": {
            "color": "yellow",
            "size": 10
           },
           "mode": "markers",
           "type": "scatter",
           "x": [
            1.11
           ],
           "y": [
            -0.62
           ]
          },
          {
           "mode": "text",
           "text": "type topspin",
           "textfont": {
            "color": "white",
            "size": 12
           },
           "type": "scatter",
           "x": [
            -5
           ],
           "y": [
            6
           ]
          },
          {
           "mode": "text",
           "text": "stroke backhand",
           "textfont": {
            "color": "white",
            "size": 12
           },
           "type": "scatter",
           "x": [
            -5
           ],
           "y": [
            8
           ]
          },
          {
           "mode": "text",
           "text": "hitter Djokovic",
           "textfont": {
            "color": "white",
            "size": 12
           },
           "type": "scatter",
           "x": [
            -5
           ],
           "y": [
            10
           ]
          },
          {
           "mode": "text",
           "text": "strokeid 9",
           "textfont": {
            "color": "white",
            "size": 12
           },
           "type": "scatter",
           "x": [
            -5
           ],
           "y": [
            12
           ]
          }
         ]
        },
        {
         "data": [
          {
           "marker": {
            "color": "red",
            "size": 10
           },
           "mode": "markers",
           "type": "scatter",
           "x": [
            1.2040000000000002
           ],
           "y": [
            -0.629
           ]
          },
          {
           "marker": {
            "color": "cyan",
            "size": 10
           },
           "mode": "markers",
           "type": "scatter",
           "x": [
            6.711
           ],
           "y": [
            26.404
           ]
          },
          {
           "marker": {
            "color": "yellow",
            "size": 10
           },
           "mode": "markers",
           "type": "scatter",
           "x": [
            1.302
           ],
           "y": [
            2.149
           ]
          },
          {
           "mode": "text",
           "text": "type topspin",
           "textfont": {
            "color": "white",
            "size": 12
           },
           "type": "scatter",
           "x": [
            -5
           ],
           "y": [
            6
           ]
          },
          {
           "mode": "text",
           "text": "stroke backhand",
           "textfont": {
            "color": "white",
            "size": 12
           },
           "type": "scatter",
           "x": [
            -5
           ],
           "y": [
            8
           ]
          },
          {
           "mode": "text",
           "text": "hitter Djokovic",
           "textfont": {
            "color": "white",
            "size": 12
           },
           "type": "scatter",
           "x": [
            -5
           ],
           "y": [
            10
           ]
          },
          {
           "mode": "text",
           "text": "strokeid 9",
           "textfont": {
            "color": "white",
            "size": 12
           },
           "type": "scatter",
           "x": [
            -5
           ],
           "y": [
            12
           ]
          }
         ]
        },
        {
         "data": [
          {
           "marker": {
            "color": "red",
            "size": 10
           },
           "mode": "markers",
           "type": "scatter",
           "x": [
            1.298
           ],
           "y": [
            -0.638
           ]
          },
          {
           "marker": {
            "color": "cyan",
            "size": 10
           },
           "mode": "markers",
           "type": "scatter",
           "x": [
            6.3020000000000005
           ],
           "y": [
            26.478
           ]
          },
          {
           "marker": {
            "color": "yellow",
            "size": 10
           },
           "mode": "markers",
           "type": "scatter",
           "x": [
            1.4940000000000002
           ],
           "y": [
            4.918000000000001
           ]
          },
          {
           "mode": "text",
           "text": "type topspin",
           "textfont": {
            "color": "white",
            "size": 12
           },
           "type": "scatter",
           "x": [
            -5
           ],
           "y": [
            6
           ]
          },
          {
           "mode": "text",
           "text": "stroke backhand",
           "textfont": {
            "color": "white",
            "size": 12
           },
           "type": "scatter",
           "x": [
            -5
           ],
           "y": [
            8
           ]
          },
          {
           "mode": "text",
           "text": "hitter Djokovic",
           "textfont": {
            "color": "white",
            "size": 12
           },
           "type": "scatter",
           "x": [
            -5
           ],
           "y": [
            10
           ]
          },
          {
           "mode": "text",
           "text": "strokeid 9",
           "textfont": {
            "color": "white",
            "size": 12
           },
           "type": "scatter",
           "x": [
            -5
           ],
           "y": [
            12
           ]
          }
         ]
        },
        {
         "data": [
          {
           "marker": {
            "color": "red",
            "size": 10
           },
           "mode": "markers",
           "type": "scatter",
           "x": [
            1.392
           ],
           "y": [
            -0.647
           ]
          },
          {
           "marker": {
            "color": "cyan",
            "size": 10
           },
           "mode": "markers",
           "type": "scatter",
           "x": [
            5.893
           ],
           "y": [
            26.552
           ]
          },
          {
           "marker": {
            "color": "yellow",
            "size": 10
           },
           "mode": "markers",
           "type": "scatter",
           "x": [
            1.686
           ],
           "y": [
            7.687
           ]
          },
          {
           "mode": "text",
           "text": "type topspin",
           "textfont": {
            "color": "white",
            "size": 12
           },
           "type": "scatter",
           "x": [
            -5
           ],
           "y": [
            6
           ]
          },
          {
           "mode": "text",
           "text": "stroke backhand",
           "textfont": {
            "color": "white",
            "size": 12
           },
           "type": "scatter",
           "x": [
            -5
           ],
           "y": [
            8
           ]
          },
          {
           "mode": "text",
           "text": "hitter Djokovic",
           "textfont": {
            "color": "white",
            "size": 12
           },
           "type": "scatter",
           "x": [
            -5
           ],
           "y": [
            10
           ]
          },
          {
           "mode": "text",
           "text": "strokeid 9",
           "textfont": {
            "color": "white",
            "size": 12
           },
           "type": "scatter",
           "x": [
            -5
           ],
           "y": [
            12
           ]
          }
         ]
        },
        {
         "data": [
          {
           "marker": {
            "color": "red",
            "size": 10
           },
           "mode": "markers",
           "type": "scatter",
           "x": [
            1.486
           ],
           "y": [
            -0.6559999999999999
           ]
          },
          {
           "marker": {
            "color": "cyan",
            "size": 10
           },
           "mode": "markers",
           "type": "scatter",
           "x": [
            5.484
           ],
           "y": [
            26.625999999999998
           ]
          },
          {
           "marker": {
            "color": "yellow",
            "size": 10
           },
           "mode": "markers",
           "type": "scatter",
           "x": [
            1.8780000000000001
           ],
           "y": [
            10.456000000000001
           ]
          },
          {
           "mode": "text",
           "text": "type topspin",
           "textfont": {
            "color": "white",
            "size": 12
           },
           "type": "scatter",
           "x": [
            -5
           ],
           "y": [
            6
           ]
          },
          {
           "mode": "text",
           "text": "stroke backhand",
           "textfont": {
            "color": "white",
            "size": 12
           },
           "type": "scatter",
           "x": [
            -5
           ],
           "y": [
            8
           ]
          },
          {
           "mode": "text",
           "text": "hitter Djokovic",
           "textfont": {
            "color": "white",
            "size": 12
           },
           "type": "scatter",
           "x": [
            -5
           ],
           "y": [
            10
           ]
          },
          {
           "mode": "text",
           "text": "strokeid 9",
           "textfont": {
            "color": "white",
            "size": 12
           },
           "type": "scatter",
           "x": [
            -5
           ],
           "y": [
            12
           ]
          }
         ]
        },
        {
         "data": [
          {
           "marker": {
            "color": "red",
            "size": 10
           },
           "mode": "markers",
           "type": "scatter",
           "x": [
            1.58
           ],
           "y": [
            -0.665
           ]
          },
          {
           "marker": {
            "color": "cyan",
            "size": 10
           },
           "mode": "markers",
           "type": "scatter",
           "x": [
            5.075
           ],
           "y": [
            26.7
           ]
          },
          {
           "marker": {
            "color": "yellow",
            "size": 10
           },
           "mode": "markers",
           "type": "scatter",
           "x": [
            2.07
           ],
           "y": [
            13.225
           ]
          },
          {
           "mode": "text",
           "text": "type topspin",
           "textfont": {
            "color": "white",
            "size": 12
           },
           "type": "scatter",
           "x": [
            -5
           ],
           "y": [
            6
           ]
          },
          {
           "mode": "text",
           "text": "stroke backhand",
           "textfont": {
            "color": "white",
            "size": 12
           },
           "type": "scatter",
           "x": [
            -5
           ],
           "y": [
            8
           ]
          },
          {
           "mode": "text",
           "text": "hitter Djokovic",
           "textfont": {
            "color": "white",
            "size": 12
           },
           "type": "scatter",
           "x": [
            -5
           ],
           "y": [
            10
           ]
          },
          {
           "mode": "text",
           "text": "strokeid 9",
           "textfont": {
            "color": "white",
            "size": 12
           },
           "type": "scatter",
           "x": [
            -5
           ],
           "y": [
            12
           ]
          }
         ]
        },
        {
         "data": [
          {
           "marker": {
            "color": "red",
            "size": 10
           },
           "mode": "markers",
           "type": "scatter",
           "x": [
            1.674
           ],
           "y": [
            -0.6739999999999999
           ]
          },
          {
           "marker": {
            "color": "cyan",
            "size": 10
           },
           "mode": "markers",
           "type": "scatter",
           "x": [
            4.6659999999999995
           ],
           "y": [
            26.773999999999997
           ]
          },
          {
           "marker": {
            "color": "yellow",
            "size": 10
           },
           "mode": "markers",
           "type": "scatter",
           "x": [
            2.262
           ],
           "y": [
            15.994000000000002
           ]
          },
          {
           "mode": "text",
           "text": "type topspin",
           "textfont": {
            "color": "white",
            "size": 12
           },
           "type": "scatter",
           "x": [
            -5
           ],
           "y": [
            6
           ]
          },
          {
           "mode": "text",
           "text": "stroke backhand",
           "textfont": {
            "color": "white",
            "size": 12
           },
           "type": "scatter",
           "x": [
            -5
           ],
           "y": [
            8
           ]
          },
          {
           "mode": "text",
           "text": "hitter Djokovic",
           "textfont": {
            "color": "white",
            "size": 12
           },
           "type": "scatter",
           "x": [
            -5
           ],
           "y": [
            10
           ]
          },
          {
           "mode": "text",
           "text": "strokeid 9",
           "textfont": {
            "color": "white",
            "size": 12
           },
           "type": "scatter",
           "x": [
            -5
           ],
           "y": [
            12
           ]
          }
         ]
        },
        {
         "data": [
          {
           "marker": {
            "color": "red",
            "size": 10
           },
           "mode": "markers",
           "type": "scatter",
           "x": [
            1.768
           ],
           "y": [
            -0.6829999999999999
           ]
          },
          {
           "marker": {
            "color": "cyan",
            "size": 10
           },
           "mode": "markers",
           "type": "scatter",
           "x": [
            4.257
           ],
           "y": [
            26.848
           ]
          },
          {
           "marker": {
            "color": "yellow",
            "size": 10
           },
           "mode": "markers",
           "type": "scatter",
           "x": [
            2.4539999999999997
           ],
           "y": [
            18.763
           ]
          },
          {
           "mode": "text",
           "text": "type topspin",
           "textfont": {
            "color": "white",
            "size": 12
           },
           "type": "scatter",
           "x": [
            -5
           ],
           "y": [
            6
           ]
          },
          {
           "mode": "text",
           "text": "stroke backhand",
           "textfont": {
            "color": "white",
            "size": 12
           },
           "type": "scatter",
           "x": [
            -5
           ],
           "y": [
            8
           ]
          },
          {
           "mode": "text",
           "text": "hitter Djokovic",
           "textfont": {
            "color": "white",
            "size": 12
           },
           "type": "scatter",
           "x": [
            -5
           ],
           "y": [
            10
           ]
          },
          {
           "mode": "text",
           "text": "strokeid 9",
           "textfont": {
            "color": "white",
            "size": 12
           },
           "type": "scatter",
           "x": [
            -5
           ],
           "y": [
            12
           ]
          }
         ]
        },
        {
         "data": [
          {
           "marker": {
            "color": "red",
            "size": 10
           },
           "mode": "markers",
           "type": "scatter",
           "x": [
            1.8619999999999999
           ],
           "y": [
            -0.692
           ]
          },
          {
           "marker": {
            "color": "cyan",
            "size": 10
           },
           "mode": "markers",
           "type": "scatter",
           "x": [
            3.848
           ],
           "y": [
            26.922
           ]
          },
          {
           "marker": {
            "color": "yellow",
            "size": 10
           },
           "mode": "markers",
           "type": "scatter",
           "x": [
            2.646
           ],
           "y": [
            21.532000000000004
           ]
          },
          {
           "mode": "text",
           "text": "type topspin",
           "textfont": {
            "color": "white",
            "size": 12
           },
           "type": "scatter",
           "x": [
            -5
           ],
           "y": [
            6
           ]
          },
          {
           "mode": "text",
           "text": "stroke backhand",
           "textfont": {
            "color": "white",
            "size": 12
           },
           "type": "scatter",
           "x": [
            -5
           ],
           "y": [
            8
           ]
          },
          {
           "mode": "text",
           "text": "hitter Djokovic",
           "textfont": {
            "color": "white",
            "size": 12
           },
           "type": "scatter",
           "x": [
            -5
           ],
           "y": [
            10
           ]
          },
          {
           "mode": "text",
           "text": "strokeid 9",
           "textfont": {
            "color": "white",
            "size": 12
           },
           "type": "scatter",
           "x": [
            -5
           ],
           "y": [
            12
           ]
          }
         ]
        },
        {
         "data": [
          {
           "marker": {
            "color": "red",
            "size": 10
           },
           "mode": "markers",
           "type": "scatter",
           "x": [
            1.956
           ],
           "y": [
            -0.701
           ]
          },
          {
           "marker": {
            "color": "cyan",
            "size": 10
           },
           "mode": "markers",
           "type": "scatter",
           "x": [
            3.4389999999999996
           ],
           "y": [
            26.996
           ]
          },
          {
           "marker": {
            "color": "yellow",
            "size": 10
           },
           "mode": "markers",
           "type": "scatter",
           "x": [
            2.838
           ],
           "y": [
            24.301
           ]
          },
          {
           "mode": "text",
           "text": "type topspin",
           "textfont": {
            "color": "white",
            "size": 12
           },
           "type": "scatter",
           "x": [
            -5
           ],
           "y": [
            6
           ]
          },
          {
           "mode": "text",
           "text": "stroke backhand",
           "textfont": {
            "color": "white",
            "size": 12
           },
           "type": "scatter",
           "x": [
            -5
           ],
           "y": [
            8
           ]
          },
          {
           "mode": "text",
           "text": "hitter Djokovic",
           "textfont": {
            "color": "white",
            "size": 12
           },
           "type": "scatter",
           "x": [
            -5
           ],
           "y": [
            10
           ]
          },
          {
           "mode": "text",
           "text": "strokeid 9",
           "textfont": {
            "color": "white",
            "size": 12
           },
           "type": "scatter",
           "x": [
            -5
           ],
           "y": [
            12
           ]
          }
         ]
        },
        {
         "data": [
          {
           "marker": {
            "color": "red",
            "size": 10
           },
           "mode": "markers",
           "type": "scatter",
           "x": [
            1.956
           ],
           "y": [
            -0.701
           ]
          },
          {
           "marker": {
            "color": "cyan",
            "size": 10
           },
           "mode": "markers",
           "type": "scatter",
           "x": [
            3.4389999999999996
           ],
           "y": [
            26.996
           ]
          },
          {
           "marker": {
            "color": "yellow",
            "size": 10
           },
           "mode": "markers",
           "type": "scatter",
           "x": [
            3.03
           ],
           "y": [
            27.07
           ]
          },
          {
           "mode": "text",
           "text": "type slice",
           "textfont": {
            "color": "white",
            "size": 12
           },
           "type": "scatter",
           "x": [
            -5
           ],
           "y": [
            6
           ]
          },
          {
           "mode": "text",
           "text": "stroke backhand",
           "textfont": {
            "color": "white",
            "size": 12
           },
           "type": "scatter",
           "x": [
            -5
           ],
           "y": [
            8
           ]
          },
          {
           "mode": "text",
           "text": "hitter Nadal",
           "textfont": {
            "color": "white",
            "size": 12
           },
           "type": "scatter",
           "x": [
            -5
           ],
           "y": [
            10
           ]
          },
          {
           "mode": "text",
           "text": "strokeid 10",
           "textfont": {
            "color": "white",
            "size": 12
           },
           "type": "scatter",
           "x": [
            -5
           ],
           "y": [
            12
           ]
          }
         ]
        },
        {
         "data": [
          {
           "marker": {
            "color": "red",
            "size": 10
           },
           "mode": "markers",
           "type": "scatter",
           "x": [
            1.956
           ],
           "y": [
            -0.701
           ]
          },
          {
           "marker": {
            "color": "cyan",
            "size": 10
           },
           "mode": "markers",
           "type": "scatter",
           "x": [
            3.4389999999999996
           ],
           "y": [
            26.996
           ]
          },
          {
           "marker": {
            "color": "yellow",
            "size": 10
           },
           "mode": "markers",
           "type": "scatter",
           "x": [
            3.368
           ],
           "y": [
            25.641
           ]
          },
          {
           "mode": "text",
           "text": "type slice",
           "textfont": {
            "color": "white",
            "size": 12
           },
           "type": "scatter",
           "x": [
            -5
           ],
           "y": [
            6
           ]
          },
          {
           "mode": "text",
           "text": "stroke backhand",
           "textfont": {
            "color": "white",
            "size": 12
           },
           "type": "scatter",
           "x": [
            -5
           ],
           "y": [
            8
           ]
          },
          {
           "mode": "text",
           "text": "hitter Nadal",
           "textfont": {
            "color": "white",
            "size": 12
           },
           "type": "scatter",
           "x": [
            -5
           ],
           "y": [
            10
           ]
          },
          {
           "mode": "text",
           "text": "strokeid 10",
           "textfont": {
            "color": "white",
            "size": 12
           },
           "type": "scatter",
           "x": [
            -5
           ],
           "y": [
            12
           ]
          }
         ]
        },
        {
         "data": [
          {
           "marker": {
            "color": "red",
            "size": 10
           },
           "mode": "markers",
           "type": "scatter",
           "x": [
            1.956
           ],
           "y": [
            -0.701
           ]
          },
          {
           "marker": {
            "color": "cyan",
            "size": 10
           },
           "mode": "markers",
           "type": "scatter",
           "x": [
            3.4389999999999996
           ],
           "y": [
            26.996
           ]
          },
          {
           "marker": {
            "color": "yellow",
            "size": 10
           },
           "mode": "markers",
           "type": "scatter",
           "x": [
            3.706
           ],
           "y": [
            24.212000000000003
           ]
          },
          {
           "mode": "text",
           "text": "type slice",
           "textfont": {
            "color": "white",
            "size": 12
           },
           "type": "scatter",
           "x": [
            -5
           ],
           "y": [
            6
           ]
          },
          {
           "mode": "text",
           "text": "stroke backhand",
           "textfont": {
            "color": "white",
            "size": 12
           },
           "type": "scatter",
           "x": [
            -5
           ],
           "y": [
            8
           ]
          },
          {
           "mode": "text",
           "text": "hitter Nadal",
           "textfont": {
            "color": "white",
            "size": 12
           },
           "type": "scatter",
           "x": [
            -5
           ],
           "y": [
            10
           ]
          },
          {
           "mode": "text",
           "text": "strokeid 10",
           "textfont": {
            "color": "white",
            "size": 12
           },
           "type": "scatter",
           "x": [
            -5
           ],
           "y": [
            12
           ]
          }
         ]
        },
        {
         "data": [
          {
           "marker": {
            "color": "red",
            "size": 10
           },
           "mode": "markers",
           "type": "scatter",
           "x": [
            1.956
           ],
           "y": [
            -0.701
           ]
          },
          {
           "marker": {
            "color": "cyan",
            "size": 10
           },
           "mode": "markers",
           "type": "scatter",
           "x": [
            3.4389999999999996
           ],
           "y": [
            26.996
           ]
          },
          {
           "marker": {
            "color": "yellow",
            "size": 10
           },
           "mode": "markers",
           "type": "scatter",
           "x": [
            4.044
           ],
           "y": [
            22.782999999999998
           ]
          },
          {
           "mode": "text",
           "text": "type slice",
           "textfont": {
            "color": "white",
            "size": 12
           },
           "type": "scatter",
           "x": [
            -5
           ],
           "y": [
            6
           ]
          },
          {
           "mode": "text",
           "text": "stroke backhand",
           "textfont": {
            "color": "white",
            "size": 12
           },
           "type": "scatter",
           "x": [
            -5
           ],
           "y": [
            8
           ]
          },
          {
           "mode": "text",
           "text": "hitter Nadal",
           "textfont": {
            "color": "white",
            "size": 12
           },
           "type": "scatter",
           "x": [
            -5
           ],
           "y": [
            10
           ]
          },
          {
           "mode": "text",
           "text": "strokeid 10",
           "textfont": {
            "color": "white",
            "size": 12
           },
           "type": "scatter",
           "x": [
            -5
           ],
           "y": [
            12
           ]
          }
         ]
        },
        {
         "data": [
          {
           "marker": {
            "color": "red",
            "size": 10
           },
           "mode": "markers",
           "type": "scatter",
           "x": [
            1.956
           ],
           "y": [
            -0.701
           ]
          },
          {
           "marker": {
            "color": "cyan",
            "size": 10
           },
           "mode": "markers",
           "type": "scatter",
           "x": [
            3.4389999999999996
           ],
           "y": [
            26.996
           ]
          },
          {
           "marker": {
            "color": "yellow",
            "size": 10
           },
           "mode": "markers",
           "type": "scatter",
           "x": [
            4.382
           ],
           "y": [
            21.354
           ]
          },
          {
           "mode": "text",
           "text": "type slice",
           "textfont": {
            "color": "white",
            "size": 12
           },
           "type": "scatter",
           "x": [
            -5
           ],
           "y": [
            6
           ]
          },
          {
           "mode": "text",
           "text": "stroke backhand",
           "textfont": {
            "color": "white",
            "size": 12
           },
           "type": "scatter",
           "x": [
            -5
           ],
           "y": [
            8
           ]
          },
          {
           "mode": "text",
           "text": "hitter Nadal",
           "textfont": {
            "color": "white",
            "size": 12
           },
           "type": "scatter",
           "x": [
            -5
           ],
           "y": [
            10
           ]
          },
          {
           "mode": "text",
           "text": "strokeid 10",
           "textfont": {
            "color": "white",
            "size": 12
           },
           "type": "scatter",
           "x": [
            -5
           ],
           "y": [
            12
           ]
          }
         ]
        },
        {
         "data": [
          {
           "marker": {
            "color": "red",
            "size": 10
           },
           "mode": "markers",
           "type": "scatter",
           "x": [
            1.956
           ],
           "y": [
            -0.701
           ]
          },
          {
           "marker": {
            "color": "cyan",
            "size": 10
           },
           "mode": "markers",
           "type": "scatter",
           "x": [
            3.4389999999999996
           ],
           "y": [
            26.996
           ]
          },
          {
           "marker": {
            "color": "yellow",
            "size": 10
           },
           "mode": "markers",
           "type": "scatter",
           "x": [
            4.72
           ],
           "y": [
            19.925
           ]
          },
          {
           "mode": "text",
           "text": "type slice",
           "textfont": {
            "color": "white",
            "size": 12
           },
           "type": "scatter",
           "x": [
            -5
           ],
           "y": [
            6
           ]
          },
          {
           "mode": "text",
           "text": "stroke backhand",
           "textfont": {
            "color": "white",
            "size": 12
           },
           "type": "scatter",
           "x": [
            -5
           ],
           "y": [
            8
           ]
          },
          {
           "mode": "text",
           "text": "hitter Nadal",
           "textfont": {
            "color": "white",
            "size": 12
           },
           "type": "scatter",
           "x": [
            -5
           ],
           "y": [
            10
           ]
          },
          {
           "mode": "text",
           "text": "strokeid 10",
           "textfont": {
            "color": "white",
            "size": 12
           },
           "type": "scatter",
           "x": [
            -5
           ],
           "y": [
            12
           ]
          }
         ]
        },
        {
         "data": [
          {
           "marker": {
            "color": "red",
            "size": 10
           },
           "mode": "markers",
           "type": "scatter",
           "x": [
            1.956
           ],
           "y": [
            -0.701
           ]
          },
          {
           "marker": {
            "color": "cyan",
            "size": 10
           },
           "mode": "markers",
           "type": "scatter",
           "x": [
            3.4389999999999996
           ],
           "y": [
            26.996
           ]
          },
          {
           "marker": {
            "color": "yellow",
            "size": 10
           },
           "mode": "markers",
           "type": "scatter",
           "x": [
            5.058
           ],
           "y": [
            18.496
           ]
          },
          {
           "mode": "text",
           "text": "type slice",
           "textfont": {
            "color": "white",
            "size": 12
           },
           "type": "scatter",
           "x": [
            -5
           ],
           "y": [
            6
           ]
          },
          {
           "mode": "text",
           "text": "stroke backhand",
           "textfont": {
            "color": "white",
            "size": 12
           },
           "type": "scatter",
           "x": [
            -5
           ],
           "y": [
            8
           ]
          },
          {
           "mode": "text",
           "text": "hitter Nadal",
           "textfont": {
            "color": "white",
            "size": 12
           },
           "type": "scatter",
           "x": [
            -5
           ],
           "y": [
            10
           ]
          },
          {
           "mode": "text",
           "text": "strokeid 10",
           "textfont": {
            "color": "white",
            "size": 12
           },
           "type": "scatter",
           "x": [
            -5
           ],
           "y": [
            12
           ]
          }
         ]
        },
        {
         "data": [
          {
           "marker": {
            "color": "red",
            "size": 10
           },
           "mode": "markers",
           "type": "scatter",
           "x": [
            1.956
           ],
           "y": [
            -0.701
           ]
          },
          {
           "marker": {
            "color": "cyan",
            "size": 10
           },
           "mode": "markers",
           "type": "scatter",
           "x": [
            3.4389999999999996
           ],
           "y": [
            26.996
           ]
          },
          {
           "marker": {
            "color": "yellow",
            "size": 10
           },
           "mode": "markers",
           "type": "scatter",
           "x": [
            5.396
           ],
           "y": [
            17.067
           ]
          },
          {
           "mode": "text",
           "text": "type slice",
           "textfont": {
            "color": "white",
            "size": 12
           },
           "type": "scatter",
           "x": [
            -5
           ],
           "y": [
            6
           ]
          },
          {
           "mode": "text",
           "text": "stroke backhand",
           "textfont": {
            "color": "white",
            "size": 12
           },
           "type": "scatter",
           "x": [
            -5
           ],
           "y": [
            8
           ]
          },
          {
           "mode": "text",
           "text": "hitter Nadal",
           "textfont": {
            "color": "white",
            "size": 12
           },
           "type": "scatter",
           "x": [
            -5
           ],
           "y": [
            10
           ]
          },
          {
           "mode": "text",
           "text": "strokeid 10",
           "textfont": {
            "color": "white",
            "size": 12
           },
           "type": "scatter",
           "x": [
            -5
           ],
           "y": [
            12
           ]
          }
         ]
        },
        {
         "data": [
          {
           "marker": {
            "color": "red",
            "size": 10
           },
           "mode": "markers",
           "type": "scatter",
           "x": [
            1.956
           ],
           "y": [
            -0.701
           ]
          },
          {
           "marker": {
            "color": "cyan",
            "size": 10
           },
           "mode": "markers",
           "type": "scatter",
           "x": [
            3.4389999999999996
           ],
           "y": [
            26.996
           ]
          },
          {
           "marker": {
            "color": "yellow",
            "size": 10
           },
           "mode": "markers",
           "type": "scatter",
           "x": [
            5.734
           ],
           "y": [
            15.637999999999998
           ]
          },
          {
           "mode": "text",
           "text": "type slice",
           "textfont": {
            "color": "white",
            "size": 12
           },
           "type": "scatter",
           "x": [
            -5
           ],
           "y": [
            6
           ]
          },
          {
           "mode": "text",
           "text": "stroke backhand",
           "textfont": {
            "color": "white",
            "size": 12
           },
           "type": "scatter",
           "x": [
            -5
           ],
           "y": [
            8
           ]
          },
          {
           "mode": "text",
           "text": "hitter Nadal",
           "textfont": {
            "color": "white",
            "size": 12
           },
           "type": "scatter",
           "x": [
            -5
           ],
           "y": [
            10
           ]
          },
          {
           "mode": "text",
           "text": "strokeid 10",
           "textfont": {
            "color": "white",
            "size": 12
           },
           "type": "scatter",
           "x": [
            -5
           ],
           "y": [
            12
           ]
          }
         ]
        },
        {
         "data": [
          {
           "marker": {
            "color": "red",
            "size": 10
           },
           "mode": "markers",
           "type": "scatter",
           "x": [
            1.956
           ],
           "y": [
            -0.701
           ]
          },
          {
           "marker": {
            "color": "cyan",
            "size": 10
           },
           "mode": "markers",
           "type": "scatter",
           "x": [
            3.4389999999999996
           ],
           "y": [
            26.996
           ]
          },
          {
           "marker": {
            "color": "yellow",
            "size": 10
           },
           "mode": "markers",
           "type": "scatter",
           "x": [
            6.072
           ],
           "y": [
            14.208999999999998
           ]
          },
          {
           "mode": "text",
           "text": "type slice",
           "textfont": {
            "color": "white",
            "size": 12
           },
           "type": "scatter",
           "x": [
            -5
           ],
           "y": [
            6
           ]
          },
          {
           "mode": "text",
           "text": "stroke backhand",
           "textfont": {
            "color": "white",
            "size": 12
           },
           "type": "scatter",
           "x": [
            -5
           ],
           "y": [
            8
           ]
          },
          {
           "mode": "text",
           "text": "hitter Nadal",
           "textfont": {
            "color": "white",
            "size": 12
           },
           "type": "scatter",
           "x": [
            -5
           ],
           "y": [
            10
           ]
          },
          {
           "mode": "text",
           "text": "strokeid 10",
           "textfont": {
            "color": "white",
            "size": 12
           },
           "type": "scatter",
           "x": [
            -5
           ],
           "y": [
            12
           ]
          }
         ]
        },
        {
         "data": [
          {
           "marker": {
            "color": "red",
            "size": 10
           },
           "mode": "markers",
           "type": "scatter",
           "x": [
            1.956
           ],
           "y": [
            -0.701
           ]
          },
          {
           "marker": {
            "color": "cyan",
            "size": 10
           },
           "mode": "markers",
           "type": "scatter",
           "x": [
            3.4389999999999996
           ],
           "y": [
            26.996
           ]
          },
          {
           "marker": {
            "color": "yellow",
            "size": 10
           },
           "mode": "markers",
           "type": "scatter",
           "x": [
            6.41
           ],
           "y": [
            12.78
           ]
          },
          {
           "mode": "text",
           "text": "type serve",
           "textfont": {
            "color": "white",
            "size": 12
           },
           "type": "scatter",
           "x": [
            -5
           ],
           "y": [
            6
           ]
          },
          {
           "mode": "text",
           "text": "stroke forehand",
           "textfont": {
            "color": "white",
            "size": 12
           },
           "type": "scatter",
           "x": [
            -5
           ],
           "y": [
            8
           ]
          },
          {
           "mode": "text",
           "text": "hitter Djokovic",
           "textfont": {
            "color": "white",
            "size": 12
           },
           "type": "scatter",
           "x": [
            -5
           ],
           "y": [
            10
           ]
          },
          {
           "mode": "text",
           "text": "strokeid 1",
           "textfont": {
            "color": "white",
            "size": 12
           },
           "type": "scatter",
           "x": [
            -5
           ],
           "y": [
            12
           ]
          }
         ]
        }
       ],
       "layout": {
        "height": 800,
        "plot_bgcolor": "#5080B0",
        "template": {
         "data": {
          "bar": [
           {
            "error_x": {
             "color": "#2a3f5f"
            },
            "error_y": {
             "color": "#2a3f5f"
            },
            "marker": {
             "line": {
              "color": "#E5ECF6",
              "width": 0.5
             },
             "pattern": {
              "fillmode": "overlay",
              "size": 10,
              "solidity": 0.2
             }
            },
            "type": "bar"
           }
          ],
          "barpolar": [
           {
            "marker": {
             "line": {
              "color": "#E5ECF6",
              "width": 0.5
             },
             "pattern": {
              "fillmode": "overlay",
              "size": 10,
              "solidity": 0.2
             }
            },
            "type": "barpolar"
           }
          ],
          "carpet": [
           {
            "aaxis": {
             "endlinecolor": "#2a3f5f",
             "gridcolor": "white",
             "linecolor": "white",
             "minorgridcolor": "white",
             "startlinecolor": "#2a3f5f"
            },
            "baxis": {
             "endlinecolor": "#2a3f5f",
             "gridcolor": "white",
             "linecolor": "white",
             "minorgridcolor": "white",
             "startlinecolor": "#2a3f5f"
            },
            "type": "carpet"
           }
          ],
          "choropleth": [
           {
            "colorbar": {
             "outlinewidth": 0,
             "ticks": ""
            },
            "type": "choropleth"
           }
          ],
          "contour": [
           {
            "colorbar": {
             "outlinewidth": 0,
             "ticks": ""
            },
            "colorscale": [
             [
              0,
              "#0d0887"
             ],
             [
              0.1111111111111111,
              "#46039f"
             ],
             [
              0.2222222222222222,
              "#7201a8"
             ],
             [
              0.3333333333333333,
              "#9c179e"
             ],
             [
              0.4444444444444444,
              "#bd3786"
             ],
             [
              0.5555555555555556,
              "#d8576b"
             ],
             [
              0.6666666666666666,
              "#ed7953"
             ],
             [
              0.7777777777777778,
              "#fb9f3a"
             ],
             [
              0.8888888888888888,
              "#fdca26"
             ],
             [
              1,
              "#f0f921"
             ]
            ],
            "type": "contour"
           }
          ],
          "contourcarpet": [
           {
            "colorbar": {
             "outlinewidth": 0,
             "ticks": ""
            },
            "type": "contourcarpet"
           }
          ],
          "heatmap": [
           {
            "colorbar": {
             "outlinewidth": 0,
             "ticks": ""
            },
            "colorscale": [
             [
              0,
              "#0d0887"
             ],
             [
              0.1111111111111111,
              "#46039f"
             ],
             [
              0.2222222222222222,
              "#7201a8"
             ],
             [
              0.3333333333333333,
              "#9c179e"
             ],
             [
              0.4444444444444444,
              "#bd3786"
             ],
             [
              0.5555555555555556,
              "#d8576b"
             ],
             [
              0.6666666666666666,
              "#ed7953"
             ],
             [
              0.7777777777777778,
              "#fb9f3a"
             ],
             [
              0.8888888888888888,
              "#fdca26"
             ],
             [
              1,
              "#f0f921"
             ]
            ],
            "type": "heatmap"
           }
          ],
          "heatmapgl": [
           {
            "colorbar": {
             "outlinewidth": 0,
             "ticks": ""
            },
            "colorscale": [
             [
              0,
              "#0d0887"
             ],
             [
              0.1111111111111111,
              "#46039f"
             ],
             [
              0.2222222222222222,
              "#7201a8"
             ],
             [
              0.3333333333333333,
              "#9c179e"
             ],
             [
              0.4444444444444444,
              "#bd3786"
             ],
             [
              0.5555555555555556,
              "#d8576b"
             ],
             [
              0.6666666666666666,
              "#ed7953"
             ],
             [
              0.7777777777777778,
              "#fb9f3a"
             ],
             [
              0.8888888888888888,
              "#fdca26"
             ],
             [
              1,
              "#f0f921"
             ]
            ],
            "type": "heatmapgl"
           }
          ],
          "histogram": [
           {
            "marker": {
             "pattern": {
              "fillmode": "overlay",
              "size": 10,
              "solidity": 0.2
             }
            },
            "type": "histogram"
           }
          ],
          "histogram2d": [
           {
            "colorbar": {
             "outlinewidth": 0,
             "ticks": ""
            },
            "colorscale": [
             [
              0,
              "#0d0887"
             ],
             [
              0.1111111111111111,
              "#46039f"
             ],
             [
              0.2222222222222222,
              "#7201a8"
             ],
             [
              0.3333333333333333,
              "#9c179e"
             ],
             [
              0.4444444444444444,
              "#bd3786"
             ],
             [
              0.5555555555555556,
              "#d8576b"
             ],
             [
              0.6666666666666666,
              "#ed7953"
             ],
             [
              0.7777777777777778,
              "#fb9f3a"
             ],
             [
              0.8888888888888888,
              "#fdca26"
             ],
             [
              1,
              "#f0f921"
             ]
            ],
            "type": "histogram2d"
           }
          ],
          "histogram2dcontour": [
           {
            "colorbar": {
             "outlinewidth": 0,
             "ticks": ""
            },
            "colorscale": [
             [
              0,
              "#0d0887"
             ],
             [
              0.1111111111111111,
              "#46039f"
             ],
             [
              0.2222222222222222,
              "#7201a8"
             ],
             [
              0.3333333333333333,
              "#9c179e"
             ],
             [
              0.4444444444444444,
              "#bd3786"
             ],
             [
              0.5555555555555556,
              "#d8576b"
             ],
             [
              0.6666666666666666,
              "#ed7953"
             ],
             [
              0.7777777777777778,
              "#fb9f3a"
             ],
             [
              0.8888888888888888,
              "#fdca26"
             ],
             [
              1,
              "#f0f921"
             ]
            ],
            "type": "histogram2dcontour"
           }
          ],
          "mesh3d": [
           {
            "colorbar": {
             "outlinewidth": 0,
             "ticks": ""
            },
            "type": "mesh3d"
           }
          ],
          "parcoords": [
           {
            "line": {
             "colorbar": {
              "outlinewidth": 0,
              "ticks": ""
             }
            },
            "type": "parcoords"
           }
          ],
          "pie": [
           {
            "automargin": true,
            "type": "pie"
           }
          ],
          "scatter": [
           {
            "marker": {
             "colorbar": {
              "outlinewidth": 0,
              "ticks": ""
             }
            },
            "type": "scatter"
           }
          ],
          "scatter3d": [
           {
            "line": {
             "colorbar": {
              "outlinewidth": 0,
              "ticks": ""
             }
            },
            "marker": {
             "colorbar": {
              "outlinewidth": 0,
              "ticks": ""
             }
            },
            "type": "scatter3d"
           }
          ],
          "scattercarpet": [
           {
            "marker": {
             "colorbar": {
              "outlinewidth": 0,
              "ticks": ""
             }
            },
            "type": "scattercarpet"
           }
          ],
          "scattergeo": [
           {
            "marker": {
             "colorbar": {
              "outlinewidth": 0,
              "ticks": ""
             }
            },
            "type": "scattergeo"
           }
          ],
          "scattergl": [
           {
            "marker": {
             "colorbar": {
              "outlinewidth": 0,
              "ticks": ""
             }
            },
            "type": "scattergl"
           }
          ],
          "scattermapbox": [
           {
            "marker": {
             "colorbar": {
              "outlinewidth": 0,
              "ticks": ""
             }
            },
            "type": "scattermapbox"
           }
          ],
          "scatterpolar": [
           {
            "marker": {
             "colorbar": {
              "outlinewidth": 0,
              "ticks": ""
             }
            },
            "type": "scatterpolar"
           }
          ],
          "scatterpolargl": [
           {
            "marker": {
             "colorbar": {
              "outlinewidth": 0,
              "ticks": ""
             }
            },
            "type": "scatterpolargl"
           }
          ],
          "scatterternary": [
           {
            "marker": {
             "colorbar": {
              "outlinewidth": 0,
              "ticks": ""
             }
            },
            "type": "scatterternary"
           }
          ],
          "surface": [
           {
            "colorbar": {
             "outlinewidth": 0,
             "ticks": ""
            },
            "colorscale": [
             [
              0,
              "#0d0887"
             ],
             [
              0.1111111111111111,
              "#46039f"
             ],
             [
              0.2222222222222222,
              "#7201a8"
             ],
             [
              0.3333333333333333,
              "#9c179e"
             ],
             [
              0.4444444444444444,
              "#bd3786"
             ],
             [
              0.5555555555555556,
              "#d8576b"
             ],
             [
              0.6666666666666666,
              "#ed7953"
             ],
             [
              0.7777777777777778,
              "#fb9f3a"
             ],
             [
              0.8888888888888888,
              "#fdca26"
             ],
             [
              1,
              "#f0f921"
             ]
            ],
            "type": "surface"
           }
          ],
          "table": [
           {
            "cells": {
             "fill": {
              "color": "#EBF0F8"
             },
             "line": {
              "color": "white"
             }
            },
            "header": {
             "fill": {
              "color": "#C8D4E3"
             },
             "line": {
              "color": "white"
             }
            },
            "type": "table"
           }
          ]
         },
         "layout": {
          "annotationdefaults": {
           "arrowcolor": "#2a3f5f",
           "arrowhead": 0,
           "arrowwidth": 1
          },
          "autotypenumbers": "strict",
          "coloraxis": {
           "colorbar": {
            "outlinewidth": 0,
            "ticks": ""
           }
          },
          "colorscale": {
           "diverging": [
            [
             0,
             "#8e0152"
            ],
            [
             0.1,
             "#c51b7d"
            ],
            [
             0.2,
             "#de77ae"
            ],
            [
             0.3,
             "#f1b6da"
            ],
            [
             0.4,
             "#fde0ef"
            ],
            [
             0.5,
             "#f7f7f7"
            ],
            [
             0.6,
             "#e6f5d0"
            ],
            [
             0.7,
             "#b8e186"
            ],
            [
             0.8,
             "#7fbc41"
            ],
            [
             0.9,
             "#4d9221"
            ],
            [
             1,
             "#276419"
            ]
           ],
           "sequential": [
            [
             0,
             "#0d0887"
            ],
            [
             0.1111111111111111,
             "#46039f"
            ],
            [
             0.2222222222222222,
             "#7201a8"
            ],
            [
             0.3333333333333333,
             "#9c179e"
            ],
            [
             0.4444444444444444,
             "#bd3786"
            ],
            [
             0.5555555555555556,
             "#d8576b"
            ],
            [
             0.6666666666666666,
             "#ed7953"
            ],
            [
             0.7777777777777778,
             "#fb9f3a"
            ],
            [
             0.8888888888888888,
             "#fdca26"
            ],
            [
             1,
             "#f0f921"
            ]
           ],
           "sequentialminus": [
            [
             0,
             "#0d0887"
            ],
            [
             0.1111111111111111,
             "#46039f"
            ],
            [
             0.2222222222222222,
             "#7201a8"
            ],
            [
             0.3333333333333333,
             "#9c179e"
            ],
            [
             0.4444444444444444,
             "#bd3786"
            ],
            [
             0.5555555555555556,
             "#d8576b"
            ],
            [
             0.6666666666666666,
             "#ed7953"
            ],
            [
             0.7777777777777778,
             "#fb9f3a"
            ],
            [
             0.8888888888888888,
             "#fdca26"
            ],
            [
             1,
             "#f0f921"
            ]
           ]
          },
          "colorway": [
           "#636efa",
           "#EF553B",
           "#00cc96",
           "#ab63fa",
           "#FFA15A",
           "#19d3f3",
           "#FF6692",
           "#B6E880",
           "#FF97FF",
           "#FECB52"
          ],
          "font": {
           "color": "#2a3f5f"
          },
          "geo": {
           "bgcolor": "white",
           "lakecolor": "white",
           "landcolor": "#E5ECF6",
           "showlakes": true,
           "showland": true,
           "subunitcolor": "white"
          },
          "hoverlabel": {
           "align": "left"
          },
          "hovermode": "closest",
          "mapbox": {
           "style": "light"
          },
          "paper_bgcolor": "white",
          "plot_bgcolor": "#E5ECF6",
          "polar": {
           "angularaxis": {
            "gridcolor": "white",
            "linecolor": "white",
            "ticks": ""
           },
           "bgcolor": "#E5ECF6",
           "radialaxis": {
            "gridcolor": "white",
            "linecolor": "white",
            "ticks": ""
           }
          },
          "scene": {
           "xaxis": {
            "backgroundcolor": "#E5ECF6",
            "gridcolor": "white",
            "gridwidth": 2,
            "linecolor": "white",
            "showbackground": true,
            "ticks": "",
            "zerolinecolor": "white"
           },
           "yaxis": {
            "backgroundcolor": "#E5ECF6",
            "gridcolor": "white",
            "gridwidth": 2,
            "linecolor": "white",
            "showbackground": true,
            "ticks": "",
            "zerolinecolor": "white"
           },
           "zaxis": {
            "backgroundcolor": "#E5ECF6",
            "gridcolor": "white",
            "gridwidth": 2,
            "linecolor": "white",
            "showbackground": true,
            "ticks": "",
            "zerolinecolor": "white"
           }
          },
          "shapedefaults": {
           "line": {
            "color": "#2a3f5f"
           }
          },
          "ternary": {
           "aaxis": {
            "gridcolor": "white",
            "linecolor": "white",
            "ticks": ""
           },
           "baxis": {
            "gridcolor": "white",
            "linecolor": "white",
            "ticks": ""
           },
           "bgcolor": "#E5ECF6",
           "caxis": {
            "gridcolor": "white",
            "linecolor": "white",
            "ticks": ""
           }
          },
          "title": {
           "x": 0.05
          },
          "xaxis": {
           "automargin": true,
           "gridcolor": "white",
           "linecolor": "white",
           "ticks": "",
           "title": {
            "standoff": 15
           },
           "zerolinecolor": "white",
           "zerolinewidth": 2
          },
          "yaxis": {
           "automargin": true,
           "gridcolor": "white",
           "linecolor": "white",
           "ticks": "",
           "title": {
            "standoff": 15
           },
           "zerolinecolor": "white",
           "zerolinewidth": 2
          }
         }
        },
        "title": {
         "text": "Tennis Point"
        },
        "updatemenus": [
         {
          "buttons": [
           {
            "args": [
             null,
             {
              "frame": {
               "duration": 100,
               "redraw": true
              },
              "fromcurrent": true,
              "transition": {
               "duration": 300,
               "easing": "quadratic-in-out"
              }
             }
            ],
            "label": "Play",
            "method": "animate"
           },
           {
            "args": [
             [
              null
             ],
             {
              "frame": {
               "duration": 0,
               "redraw": true
              },
              "mode": "immediate",
              "transition": {
               "duration": 0
              }
             }
            ],
            "label": "Pause",
            "method": "animate"
           }
          ],
          "direction": "left",
          "pad": {
           "r": 10,
           "t": 87
          },
          "showactive": true,
          "type": "buttons",
          "x": 0.1,
          "xanchor": "right",
          "y": 0,
          "yanchor": "top"
         }
        ],
        "width": 550,
        "xaxis": {
         "autorange": false,
         "range": [
          -9,
          12.97
         ],
         "showgrid": false,
         "zeroline": false
        },
        "yaxis": {
         "autorange": false,
         "range": [
          -6.5,
          30.28
         ],
         "showgrid": false,
         "zeroline": false
        }
       }
      },
      "text/html": [
       "<div>                            <div id=\"90ed567e-c258-4368-bcaf-dc698b71b02d\" class=\"plotly-graph-div\" style=\"height:800px; width:550px;\"></div>            <script type=\"text/javascript\">                require([\"plotly\"], function(Plotly) {                    window.PLOTLYENV=window.PLOTLYENV || {};                                    if (document.getElementById(\"90ed567e-c258-4368-bcaf-dc698b71b02d\")) {                    Plotly.newPlot(                        \"90ed567e-c258-4368-bcaf-dc698b71b02d\",                        [{\"type\":\"scatter\",\"x\":[-10],\"y\":[-10]},{\"type\":\"scatter\",\"x\":[-10],\"y\":[-10]},{\"type\":\"scatter\",\"x\":[-10],\"y\":[-10]},{\"type\":\"scatter\",\"x\":[-10],\"y\":[-10]},{\"type\":\"scatter\",\"x\":[-10],\"y\":[-10]},{\"type\":\"scatter\",\"x\":[-10],\"y\":[-10]},{\"type\":\"scatter\",\"x\":[-10],\"y\":[-10]},{\"type\":\"scatter\",\"x\":[-10],\"y\":[-10]},{\"type\":\"scatter\",\"x\":[-10],\"y\":[-10]},{\"type\":\"scatter\",\"x\":[-10],\"y\":[-10]},{\"line\":{\"color\":\"white\",\"width\":2},\"mode\":\"lines\",\"type\":\"scatter\",\"x\":[10.97,0],\"y\":[11.89,11.89]},{\"line\":{\"color\":\"white\",\"width\":2},\"mode\":\"lines\",\"type\":\"scatter\",\"x\":[0,0,10.97,10.97,0],\"y\":[0,23.78,23.78,0,0]},{\"line\":{\"color\":\"white\",\"width\":2},\"mode\":\"lines\",\"type\":\"scatter\",\"x\":[5.485,5.49],\"y\":[5.485,18.29]},{\"line\":{\"color\":\"white\",\"width\":2},\"mode\":\"lines\",\"type\":\"scatter\",\"x\":[5.485,5.485],\"y\":[0,0.45]},{\"line\":{\"color\":\"white\",\"width\":2},\"mode\":\"lines\",\"type\":\"scatter\",\"x\":[5.485,5.485],\"y\":[23.78,23.330000000000002]},{\"line\":{\"color\":\"white\",\"width\":2},\"mode\":\"lines\",\"type\":\"scatter\",\"x\":[1.37,1.37],\"y\":[0,23.78]},{\"line\":{\"color\":\"white\",\"width\":2},\"mode\":\"lines\",\"type\":\"scatter\",\"x\":[9.600000000000001,9.600000000000001],\"y\":[0,23.78]},{\"line\":{\"color\":\"white\",\"width\":2},\"mode\":\"lines\",\"type\":\"scatter\",\"x\":[1.37,1.37,9.600000000000001,9.600000000000001,1.37],\"y\":[5.5,18.29,18.29,5.5,5.5]},{\"mode\":\"text\",\"text\":\"score 1:0, 0:0\",\"textfont\":{\"color\":\"white\",\"size\":12},\"type\":\"scatter\",\"x\":[-5],\"y\":[20]},{\"mode\":\"text\",\"text\":\"1st/2nd serve first\",\"textfont\":{\"color\":\"white\",\"size\":12},\"type\":\"scatter\",\"x\":[-5],\"y\":[16]},{\"mode\":\"text\",\"text\":\"server Djokovic\",\"textfont\":{\"color\":\"white\",\"size\":12},\"type\":\"scatter\",\"x\":[-5],\"y\":[18]},{\"mode\":\"text\",\"text\":\"rallyid 6\",\"textfont\":{\"color\":\"white\",\"size\":12},\"type\":\"scatter\",\"x\":[-5],\"y\":[14]}],                        {\"height\":800,\"plot_bgcolor\":\"#5080B0\",\"template\":{\"data\":{\"bar\":[{\"error_x\":{\"color\":\"#2a3f5f\"},\"error_y\":{\"color\":\"#2a3f5f\"},\"marker\":{\"line\":{\"color\":\"#E5ECF6\",\"width\":0.5},\"pattern\":{\"fillmode\":\"overlay\",\"size\":10,\"solidity\":0.2}},\"type\":\"bar\"}],\"barpolar\":[{\"marker\":{\"line\":{\"color\":\"#E5ECF6\",\"width\":0.5},\"pattern\":{\"fillmode\":\"overlay\",\"size\":10,\"solidity\":0.2}},\"type\":\"barpolar\"}],\"carpet\":[{\"aaxis\":{\"endlinecolor\":\"#2a3f5f\",\"gridcolor\":\"white\",\"linecolor\":\"white\",\"minorgridcolor\":\"white\",\"startlinecolor\":\"#2a3f5f\"},\"baxis\":{\"endlinecolor\":\"#2a3f5f\",\"gridcolor\":\"white\",\"linecolor\":\"white\",\"minorgridcolor\":\"white\",\"startlinecolor\":\"#2a3f5f\"},\"type\":\"carpet\"}],\"choropleth\":[{\"colorbar\":{\"outlinewidth\":0,\"ticks\":\"\"},\"type\":\"choropleth\"}],\"contour\":[{\"colorbar\":{\"outlinewidth\":0,\"ticks\":\"\"},\"colorscale\":[[0.0,\"#0d0887\"],[0.1111111111111111,\"#46039f\"],[0.2222222222222222,\"#7201a8\"],[0.3333333333333333,\"#9c179e\"],[0.4444444444444444,\"#bd3786\"],[0.5555555555555556,\"#d8576b\"],[0.6666666666666666,\"#ed7953\"],[0.7777777777777778,\"#fb9f3a\"],[0.8888888888888888,\"#fdca26\"],[1.0,\"#f0f921\"]],\"type\":\"contour\"}],\"contourcarpet\":[{\"colorbar\":{\"outlinewidth\":0,\"ticks\":\"\"},\"type\":\"contourcarpet\"}],\"heatmap\":[{\"colorbar\":{\"outlinewidth\":0,\"ticks\":\"\"},\"colorscale\":[[0.0,\"#0d0887\"],[0.1111111111111111,\"#46039f\"],[0.2222222222222222,\"#7201a8\"],[0.3333333333333333,\"#9c179e\"],[0.4444444444444444,\"#bd3786\"],[0.5555555555555556,\"#d8576b\"],[0.6666666666666666,\"#ed7953\"],[0.7777777777777778,\"#fb9f3a\"],[0.8888888888888888,\"#fdca26\"],[1.0,\"#f0f921\"]],\"type\":\"heatmap\"}],\"heatmapgl\":[{\"colorbar\":{\"outlinewidth\":0,\"ticks\":\"\"},\"colorscale\":[[0.0,\"#0d0887\"],[0.1111111111111111,\"#46039f\"],[0.2222222222222222,\"#7201a8\"],[0.3333333333333333,\"#9c179e\"],[0.4444444444444444,\"#bd3786\"],[0.5555555555555556,\"#d8576b\"],[0.6666666666666666,\"#ed7953\"],[0.7777777777777778,\"#fb9f3a\"],[0.8888888888888888,\"#fdca26\"],[1.0,\"#f0f921\"]],\"type\":\"heatmapgl\"}],\"histogram\":[{\"marker\":{\"pattern\":{\"fillmode\":\"overlay\",\"size\":10,\"solidity\":0.2}},\"type\":\"histogram\"}],\"histogram2d\":[{\"colorbar\":{\"outlinewidth\":0,\"ticks\":\"\"},\"colorscale\":[[0.0,\"#0d0887\"],[0.1111111111111111,\"#46039f\"],[0.2222222222222222,\"#7201a8\"],[0.3333333333333333,\"#9c179e\"],[0.4444444444444444,\"#bd3786\"],[0.5555555555555556,\"#d8576b\"],[0.6666666666666666,\"#ed7953\"],[0.7777777777777778,\"#fb9f3a\"],[0.8888888888888888,\"#fdca26\"],[1.0,\"#f0f921\"]],\"type\":\"histogram2d\"}],\"histogram2dcontour\":[{\"colorbar\":{\"outlinewidth\":0,\"ticks\":\"\"},\"colorscale\":[[0.0,\"#0d0887\"],[0.1111111111111111,\"#46039f\"],[0.2222222222222222,\"#7201a8\"],[0.3333333333333333,\"#9c179e\"],[0.4444444444444444,\"#bd3786\"],[0.5555555555555556,\"#d8576b\"],[0.6666666666666666,\"#ed7953\"],[0.7777777777777778,\"#fb9f3a\"],[0.8888888888888888,\"#fdca26\"],[1.0,\"#f0f921\"]],\"type\":\"histogram2dcontour\"}],\"mesh3d\":[{\"colorbar\":{\"outlinewidth\":0,\"ticks\":\"\"},\"type\":\"mesh3d\"}],\"parcoords\":[{\"line\":{\"colorbar\":{\"outlinewidth\":0,\"ticks\":\"\"}},\"type\":\"parcoords\"}],\"pie\":[{\"automargin\":true,\"type\":\"pie\"}],\"scatter\":[{\"marker\":{\"colorbar\":{\"outlinewidth\":0,\"ticks\":\"\"}},\"type\":\"scatter\"}],\"scatter3d\":[{\"line\":{\"colorbar\":{\"outlinewidth\":0,\"ticks\":\"\"}},\"marker\":{\"colorbar\":{\"outlinewidth\":0,\"ticks\":\"\"}},\"type\":\"scatter3d\"}],\"scattercarpet\":[{\"marker\":{\"colorbar\":{\"outlinewidth\":0,\"ticks\":\"\"}},\"type\":\"scattercarpet\"}],\"scattergeo\":[{\"marker\":{\"colorbar\":{\"outlinewidth\":0,\"ticks\":\"\"}},\"type\":\"scattergeo\"}],\"scattergl\":[{\"marker\":{\"colorbar\":{\"outlinewidth\":0,\"ticks\":\"\"}},\"type\":\"scattergl\"}],\"scattermapbox\":[{\"marker\":{\"colorbar\":{\"outlinewidth\":0,\"ticks\":\"\"}},\"type\":\"scattermapbox\"}],\"scatterpolar\":[{\"marker\":{\"colorbar\":{\"outlinewidth\":0,\"ticks\":\"\"}},\"type\":\"scatterpolar\"}],\"scatterpolargl\":[{\"marker\":{\"colorbar\":{\"outlinewidth\":0,\"ticks\":\"\"}},\"type\":\"scatterpolargl\"}],\"scatterternary\":[{\"marker\":{\"colorbar\":{\"outlinewidth\":0,\"ticks\":\"\"}},\"type\":\"scatterternary\"}],\"surface\":[{\"colorbar\":{\"outlinewidth\":0,\"ticks\":\"\"},\"colorscale\":[[0.0,\"#0d0887\"],[0.1111111111111111,\"#46039f\"],[0.2222222222222222,\"#7201a8\"],[0.3333333333333333,\"#9c179e\"],[0.4444444444444444,\"#bd3786\"],[0.5555555555555556,\"#d8576b\"],[0.6666666666666666,\"#ed7953\"],[0.7777777777777778,\"#fb9f3a\"],[0.8888888888888888,\"#fdca26\"],[1.0,\"#f0f921\"]],\"type\":\"surface\"}],\"table\":[{\"cells\":{\"fill\":{\"color\":\"#EBF0F8\"},\"line\":{\"color\":\"white\"}},\"header\":{\"fill\":{\"color\":\"#C8D4E3\"},\"line\":{\"color\":\"white\"}},\"type\":\"table\"}]},\"layout\":{\"annotationdefaults\":{\"arrowcolor\":\"#2a3f5f\",\"arrowhead\":0,\"arrowwidth\":1},\"autotypenumbers\":\"strict\",\"coloraxis\":{\"colorbar\":{\"outlinewidth\":0,\"ticks\":\"\"}},\"colorscale\":{\"diverging\":[[0,\"#8e0152\"],[0.1,\"#c51b7d\"],[0.2,\"#de77ae\"],[0.3,\"#f1b6da\"],[0.4,\"#fde0ef\"],[0.5,\"#f7f7f7\"],[0.6,\"#e6f5d0\"],[0.7,\"#b8e186\"],[0.8,\"#7fbc41\"],[0.9,\"#4d9221\"],[1,\"#276419\"]],\"sequential\":[[0.0,\"#0d0887\"],[0.1111111111111111,\"#46039f\"],[0.2222222222222222,\"#7201a8\"],[0.3333333333333333,\"#9c179e\"],[0.4444444444444444,\"#bd3786\"],[0.5555555555555556,\"#d8576b\"],[0.6666666666666666,\"#ed7953\"],[0.7777777777777778,\"#fb9f3a\"],[0.8888888888888888,\"#fdca26\"],[1.0,\"#f0f921\"]],\"sequentialminus\":[[0.0,\"#0d0887\"],[0.1111111111111111,\"#46039f\"],[0.2222222222222222,\"#7201a8\"],[0.3333333333333333,\"#9c179e\"],[0.4444444444444444,\"#bd3786\"],[0.5555555555555556,\"#d8576b\"],[0.6666666666666666,\"#ed7953\"],[0.7777777777777778,\"#fb9f3a\"],[0.8888888888888888,\"#fdca26\"],[1.0,\"#f0f921\"]]},\"colorway\":[\"#636efa\",\"#EF553B\",\"#00cc96\",\"#ab63fa\",\"#FFA15A\",\"#19d3f3\",\"#FF6692\",\"#B6E880\",\"#FF97FF\",\"#FECB52\"],\"font\":{\"color\":\"#2a3f5f\"},\"geo\":{\"bgcolor\":\"white\",\"lakecolor\":\"white\",\"landcolor\":\"#E5ECF6\",\"showlakes\":true,\"showland\":true,\"subunitcolor\":\"white\"},\"hoverlabel\":{\"align\":\"left\"},\"hovermode\":\"closest\",\"mapbox\":{\"style\":\"light\"},\"paper_bgcolor\":\"white\",\"plot_bgcolor\":\"#E5ECF6\",\"polar\":{\"angularaxis\":{\"gridcolor\":\"white\",\"linecolor\":\"white\",\"ticks\":\"\"},\"bgcolor\":\"#E5ECF6\",\"radialaxis\":{\"gridcolor\":\"white\",\"linecolor\":\"white\",\"ticks\":\"\"}},\"scene\":{\"xaxis\":{\"backgroundcolor\":\"#E5ECF6\",\"gridcolor\":\"white\",\"gridwidth\":2,\"linecolor\":\"white\",\"showbackground\":true,\"ticks\":\"\",\"zerolinecolor\":\"white\"},\"yaxis\":{\"backgroundcolor\":\"#E5ECF6\",\"gridcolor\":\"white\",\"gridwidth\":2,\"linecolor\":\"white\",\"showbackground\":true,\"ticks\":\"\",\"zerolinecolor\":\"white\"},\"zaxis\":{\"backgroundcolor\":\"#E5ECF6\",\"gridcolor\":\"white\",\"gridwidth\":2,\"linecolor\":\"white\",\"showbackground\":true,\"ticks\":\"\",\"zerolinecolor\":\"white\"}},\"shapedefaults\":{\"line\":{\"color\":\"#2a3f5f\"}},\"ternary\":{\"aaxis\":{\"gridcolor\":\"white\",\"linecolor\":\"white\",\"ticks\":\"\"},\"baxis\":{\"gridcolor\":\"white\",\"linecolor\":\"white\",\"ticks\":\"\"},\"bgcolor\":\"#E5ECF6\",\"caxis\":{\"gridcolor\":\"white\",\"linecolor\":\"white\",\"ticks\":\"\"}},\"title\":{\"x\":0.05},\"xaxis\":{\"automargin\":true,\"gridcolor\":\"white\",\"linecolor\":\"white\",\"ticks\":\"\",\"title\":{\"standoff\":15},\"zerolinecolor\":\"white\",\"zerolinewidth\":2},\"yaxis\":{\"automargin\":true,\"gridcolor\":\"white\",\"linecolor\":\"white\",\"ticks\":\"\",\"title\":{\"standoff\":15},\"zerolinecolor\":\"white\",\"zerolinewidth\":2}}},\"title\":{\"text\":\"Tennis Point\"},\"updatemenus\":[{\"buttons\":[{\"args\":[null,{\"frame\":{\"duration\":100,\"redraw\":true},\"fromcurrent\":true,\"transition\":{\"duration\":300,\"easing\":\"quadratic-in-out\"}}],\"label\":\"Play\",\"method\":\"animate\"},{\"args\":[[null],{\"frame\":{\"duration\":0,\"redraw\":true},\"mode\":\"immediate\",\"transition\":{\"duration\":0}}],\"label\":\"Pause\",\"method\":\"animate\"}],\"direction\":\"left\",\"pad\":{\"r\":10,\"t\":87},\"showactive\":true,\"type\":\"buttons\",\"x\":0.1,\"xanchor\":\"right\",\"y\":0,\"yanchor\":\"top\"}],\"width\":550,\"xaxis\":{\"autorange\":false,\"range\":[-9,12.97],\"showgrid\":false,\"zeroline\":false},\"yaxis\":{\"autorange\":false,\"range\":[-6.5,30.28],\"showgrid\":false,\"zeroline\":false}},                        {\"responsive\": true}                    ).then(function(){\n",
       "                            Plotly.addFrames('90ed567e-c258-4368-bcaf-dc698b71b02d', [{\"data\":[{\"marker\":{\"color\":\"red\",\"size\":10},\"mode\":\"markers\",\"type\":\"scatter\",\"x\":[4.45],\"y\":[-0.25]},{\"marker\":{\"color\":\"cyan\",\"size\":10},\"mode\":\"markers\",\"type\":\"scatter\",\"x\":[7.81],\"y\":[28.35]},{\"marker\":{\"color\":\"yellow\",\"size\":10},\"mode\":\"markers\",\"type\":\"scatter\",\"x\":[4.45],\"y\":[-0.25]},{\"mode\":\"text\",\"text\":\"type serve\",\"textfont\":{\"color\":\"white\",\"size\":12},\"type\":\"scatter\",\"x\":[-5],\"y\":[6]},{\"mode\":\"text\",\"text\":\"stroke forehand\",\"textfont\":{\"color\":\"white\",\"size\":12},\"type\":\"scatter\",\"x\":[-5],\"y\":[8]},{\"mode\":\"text\",\"text\":\"hitter Djokovic\",\"textfont\":{\"color\":\"white\",\"size\":12},\"type\":\"scatter\",\"x\":[-5],\"y\":[10]},{\"mode\":\"text\",\"text\":\"strokeid 1\",\"textfont\":{\"color\":\"white\",\"size\":12},\"type\":\"scatter\",\"x\":[-5],\"y\":[12]}]},{\"data\":[{\"marker\":{\"color\":\"red\",\"size\":10},\"mode\":\"markers\",\"type\":\"scatter\",\"x\":[4.452],\"y\":[-0.099]},{\"marker\":{\"color\":\"cyan\",\"size\":10},\"mode\":\"markers\",\"type\":\"scatter\",\"x\":[7.913],\"y\":[28.272000000000002]},{\"marker\":{\"color\":\"yellow\",\"size\":10},\"mode\":\"markers\",\"type\":\"scatter\",\"x\":[4.889],\"y\":[2.532]},{\"mode\":\"text\",\"text\":\"type serve\",\"textfont\":{\"color\":\"white\",\"size\":12},\"type\":\"scatter\",\"x\":[-5],\"y\":[6]},{\"mode\":\"text\",\"text\":\"stroke forehand\",\"textfont\":{\"color\":\"white\",\"size\":12},\"type\":\"scatter\",\"x\":[-5],\"y\":[8]},{\"mode\":\"text\",\"text\":\"hitter Djokovic\",\"textfont\":{\"color\":\"white\",\"size\":12},\"type\":\"scatter\",\"x\":[-5],\"y\":[10]},{\"mode\":\"text\",\"text\":\"strokeid 1\",\"textfont\":{\"color\":\"white\",\"size\":12},\"type\":\"scatter\",\"x\":[-5],\"y\":[12]}]},{\"data\":[{\"marker\":{\"color\":\"red\",\"size\":10},\"mode\":\"markers\",\"type\":\"scatter\",\"x\":[4.454000000000001],\"y\":[0.05199999999999999]},{\"marker\":{\"color\":\"cyan\",\"size\":10},\"mode\":\"markers\",\"type\":\"scatter\",\"x\":[8.016],\"y\":[28.194000000000003]},{\"marker\":{\"color\":\"yellow\",\"size\":10},\"mode\":\"markers\",\"type\":\"scatter\",\"x\":[5.328],\"y\":[5.314]},{\"mode\":\"text\",\"text\":\"type serve\",\"textfont\":{\"color\":\"white\",\"size\":12},\"type\":\"scatter\",\"x\":[-5],\"y\":[6]},{\"mode\":\"text\",\"text\":\"stroke forehand\",\"textfont\":{\"color\":\"white\",\"size\":12},\"type\":\"scatter\",\"x\":[-5],\"y\":[8]},{\"mode\":\"text\",\"text\":\"hitter Djokovic\",\"textfont\":{\"color\":\"white\",\"size\":12},\"type\":\"scatter\",\"x\":[-5],\"y\":[10]},{\"mode\":\"text\",\"text\":\"strokeid 1\",\"textfont\":{\"color\":\"white\",\"size\":12},\"type\":\"scatter\",\"x\":[-5],\"y\":[12]}]},{\"data\":[{\"marker\":{\"color\":\"red\",\"size\":10},\"mode\":\"markers\",\"type\":\"scatter\",\"x\":[4.4559999999999995],\"y\":[0.20300000000000007]},{\"marker\":{\"color\":\"cyan\",\"size\":10},\"mode\":\"markers\",\"type\":\"scatter\",\"x\":[8.119],\"y\":[28.116]},{\"marker\":{\"color\":\"yellow\",\"size\":10},\"mode\":\"markers\",\"type\":\"scatter\",\"x\":[5.7669999999999995],\"y\":[8.096]},{\"mode\":\"text\",\"text\":\"type serve\",\"textfont\":{\"color\":\"white\",\"size\":12},\"type\":\"scatter\",\"x\":[-5],\"y\":[6]},{\"mode\":\"text\",\"text\":\"stroke forehand\",\"textfont\":{\"color\":\"white\",\"size\":12},\"type\":\"scatter\",\"x\":[-5],\"y\":[8]},{\"mode\":\"text\",\"text\":\"hitter Djokovic\",\"textfont\":{\"color\":\"white\",\"size\":12},\"type\":\"scatter\",\"x\":[-5],\"y\":[10]},{\"mode\":\"text\",\"text\":\"strokeid 1\",\"textfont\":{\"color\":\"white\",\"size\":12},\"type\":\"scatter\",\"x\":[-5],\"y\":[12]}]},{\"data\":[{\"marker\":{\"color\":\"red\",\"size\":10},\"mode\":\"markers\",\"type\":\"scatter\",\"x\":[4.458],\"y\":[0.354]},{\"marker\":{\"color\":\"cyan\",\"size\":10},\"mode\":\"markers\",\"type\":\"scatter\",\"x\":[8.222],\"y\":[28.038000000000004]},{\"marker\":{\"color\":\"yellow\",\"size\":10},\"mode\":\"markers\",\"type\":\"scatter\",\"x\":[6.2059999999999995],\"y\":[10.878]},{\"mode\":\"text\",\"text\":\"type serve\",\"textfont\":{\"color\":\"white\",\"size\":12},\"type\":\"scatter\",\"x\":[-5],\"y\":[6]},{\"mode\":\"text\",\"text\":\"stroke forehand\",\"textfont\":{\"color\":\"white\",\"size\":12},\"type\":\"scatter\",\"x\":[-5],\"y\":[8]},{\"mode\":\"text\",\"text\":\"hitter Djokovic\",\"textfont\":{\"color\":\"white\",\"size\":12},\"type\":\"scatter\",\"x\":[-5],\"y\":[10]},{\"mode\":\"text\",\"text\":\"strokeid 1\",\"textfont\":{\"color\":\"white\",\"size\":12},\"type\":\"scatter\",\"x\":[-5],\"y\":[12]}]},{\"data\":[{\"marker\":{\"color\":\"red\",\"size\":10},\"mode\":\"markers\",\"type\":\"scatter\",\"x\":[4.46],\"y\":[0.505]},{\"marker\":{\"color\":\"cyan\",\"size\":10},\"mode\":\"markers\",\"type\":\"scatter\",\"x\":[8.325],\"y\":[27.96]},{\"marker\":{\"color\":\"yellow\",\"size\":10},\"mode\":\"markers\",\"type\":\"scatter\",\"x\":[6.645],\"y\":[13.66]},{\"mode\":\"text\",\"text\":\"type serve\",\"textfont\":{\"color\":\"white\",\"size\":12},\"type\":\"scatter\",\"x\":[-5],\"y\":[6]},{\"mode\":\"text\",\"text\":\"stroke forehand\",\"textfont\":{\"color\":\"white\",\"size\":12},\"type\":\"scatter\",\"x\":[-5],\"y\":[8]},{\"mode\":\"text\",\"text\":\"hitter Djokovic\",\"textfont\":{\"color\":\"white\",\"size\":12},\"type\":\"scatter\",\"x\":[-5],\"y\":[10]},{\"mode\":\"text\",\"text\":\"strokeid 1\",\"textfont\":{\"color\":\"white\",\"size\":12},\"type\":\"scatter\",\"x\":[-5],\"y\":[12]}]},{\"data\":[{\"marker\":{\"color\":\"red\",\"size\":10},\"mode\":\"markers\",\"type\":\"scatter\",\"x\":[4.462],\"y\":[0.6560000000000001]},{\"marker\":{\"color\":\"cyan\",\"size\":10},\"mode\":\"markers\",\"type\":\"scatter\",\"x\":[8.427999999999999],\"y\":[27.881999999999998]},{\"marker\":{\"color\":\"yellow\",\"size\":10},\"mode\":\"markers\",\"type\":\"scatter\",\"x\":[7.084],\"y\":[16.442]},{\"mode\":\"text\",\"text\":\"type serve\",\"textfont\":{\"color\":\"white\",\"size\":12},\"type\":\"scatter\",\"x\":[-5],\"y\":[6]},{\"mode\":\"text\",\"text\":\"stroke forehand\",\"textfont\":{\"color\":\"white\",\"size\":12},\"type\":\"scatter\",\"x\":[-5],\"y\":[8]},{\"mode\":\"text\",\"text\":\"hitter Djokovic\",\"textfont\":{\"color\":\"white\",\"size\":12},\"type\":\"scatter\",\"x\":[-5],\"y\":[10]},{\"mode\":\"text\",\"text\":\"strokeid 1\",\"textfont\":{\"color\":\"white\",\"size\":12},\"type\":\"scatter\",\"x\":[-5],\"y\":[12]}]},{\"data\":[{\"marker\":{\"color\":\"red\",\"size\":10},\"mode\":\"markers\",\"type\":\"scatter\",\"x\":[4.4639999999999995],\"y\":[0.8070000000000002]},{\"marker\":{\"color\":\"cyan\",\"size\":10},\"mode\":\"markers\",\"type\":\"scatter\",\"x\":[8.531],\"y\":[27.804000000000002]},{\"marker\":{\"color\":\"yellow\",\"size\":10},\"mode\":\"markers\",\"type\":\"scatter\",\"x\":[7.523000000000001],\"y\":[19.224000000000004]},{\"mode\":\"text\",\"text\":\"type serve\",\"textfont\":{\"color\":\"white\",\"size\":12},\"type\":\"scatter\",\"x\":[-5],\"y\":[6]},{\"mode\":\"text\",\"text\":\"stroke forehand\",\"textfont\":{\"color\":\"white\",\"size\":12},\"type\":\"scatter\",\"x\":[-5],\"y\":[8]},{\"mode\":\"text\",\"text\":\"hitter Djokovic\",\"textfont\":{\"color\":\"white\",\"size\":12},\"type\":\"scatter\",\"x\":[-5],\"y\":[10]},{\"mode\":\"text\",\"text\":\"strokeid 1\",\"textfont\":{\"color\":\"white\",\"size\":12},\"type\":\"scatter\",\"x\":[-5],\"y\":[12]}]},{\"data\":[{\"marker\":{\"color\":\"red\",\"size\":10},\"mode\":\"markers\",\"type\":\"scatter\",\"x\":[4.466],\"y\":[0.958]},{\"marker\":{\"color\":\"cyan\",\"size\":10},\"mode\":\"markers\",\"type\":\"scatter\",\"x\":[8.634],\"y\":[27.726]},{\"marker\":{\"color\":\"yellow\",\"size\":10},\"mode\":\"markers\",\"type\":\"scatter\",\"x\":[7.962],\"y\":[22.006]},{\"mode\":\"text\",\"text\":\"type serve\",\"textfont\":{\"color\":\"white\",\"size\":12},\"type\":\"scatter\",\"x\":[-5],\"y\":[6]},{\"mode\":\"text\",\"text\":\"stroke forehand\",\"textfont\":{\"color\":\"white\",\"size\":12},\"type\":\"scatter\",\"x\":[-5],\"y\":[8]},{\"mode\":\"text\",\"text\":\"hitter Djokovic\",\"textfont\":{\"color\":\"white\",\"size\":12},\"type\":\"scatter\",\"x\":[-5],\"y\":[10]},{\"mode\":\"text\",\"text\":\"strokeid 1\",\"textfont\":{\"color\":\"white\",\"size\":12},\"type\":\"scatter\",\"x\":[-5],\"y\":[12]}]},{\"data\":[{\"marker\":{\"color\":\"red\",\"size\":10},\"mode\":\"markers\",\"type\":\"scatter\",\"x\":[4.468],\"y\":[1.1090000000000002]},{\"marker\":{\"color\":\"cyan\",\"size\":10},\"mode\":\"markers\",\"type\":\"scatter\",\"x\":[8.737],\"y\":[27.648000000000003]},{\"marker\":{\"color\":\"yellow\",\"size\":10},\"mode\":\"markers\",\"type\":\"scatter\",\"x\":[8.401],\"y\":[24.788000000000004]},{\"mode\":\"text\",\"text\":\"type serve\",\"textfont\":{\"color\":\"white\",\"size\":12},\"type\":\"scatter\",\"x\":[-5],\"y\":[6]},{\"mode\":\"text\",\"text\":\"stroke forehand\",\"textfont\":{\"color\":\"white\",\"size\":12},\"type\":\"scatter\",\"x\":[-5],\"y\":[8]},{\"mode\":\"text\",\"text\":\"hitter Djokovic\",\"textfont\":{\"color\":\"white\",\"size\":12},\"type\":\"scatter\",\"x\":[-5],\"y\":[10]},{\"mode\":\"text\",\"text\":\"strokeid 1\",\"textfont\":{\"color\":\"white\",\"size\":12},\"type\":\"scatter\",\"x\":[-5],\"y\":[12]}]},{\"data\":[{\"marker\":{\"color\":\"red\",\"size\":10},\"mode\":\"markers\",\"type\":\"scatter\",\"x\":[4.47],\"y\":[1.26]},{\"marker\":{\"color\":\"cyan\",\"size\":10},\"mode\":\"markers\",\"type\":\"scatter\",\"x\":[8.84],\"y\":[27.57]},{\"marker\":{\"color\":\"yellow\",\"size\":10},\"mode\":\"markers\",\"type\":\"scatter\",\"x\":[8.84],\"y\":[27.57]},{\"mode\":\"text\",\"text\":\"type topspin\",\"textfont\":{\"color\":\"white\",\"size\":12},\"type\":\"scatter\",\"x\":[-5],\"y\":[6]},{\"mode\":\"text\",\"text\":\"stroke forehand\",\"textfont\":{\"color\":\"white\",\"size\":12},\"type\":\"scatter\",\"x\":[-5],\"y\":[8]},{\"mode\":\"text\",\"text\":\"hitter Nadal\",\"textfont\":{\"color\":\"white\",\"size\":12},\"type\":\"scatter\",\"x\":[-5],\"y\":[10]},{\"mode\":\"text\",\"text\":\"strokeid 2\",\"textfont\":{\"color\":\"white\",\"size\":12},\"type\":\"scatter\",\"x\":[-5],\"y\":[12]}]},{\"data\":[{\"marker\":{\"color\":\"red\",\"size\":10},\"mode\":\"markers\",\"type\":\"scatter\",\"x\":[4.18],\"y\":[1.2710000000000001]},{\"marker\":{\"color\":\"cyan\",\"size\":10},\"mode\":\"markers\",\"type\":\"scatter\",\"x\":[8.768],\"y\":[27.507]},{\"marker\":{\"color\":\"yellow\",\"size\":10},\"mode\":\"markers\",\"type\":\"scatter\",\"x\":[8.113],\"y\":[24.950000000000003]},{\"mode\":\"text\",\"text\":\"type topspin\",\"textfont\":{\"color\":\"white\",\"size\":12},\"type\":\"scatter\",\"x\":[-5],\"y\":[6]},{\"mode\":\"text\",\"text\":\"stroke forehand\",\"textfont\":{\"color\":\"white\",\"size\":12},\"type\":\"scatter\",\"x\":[-5],\"y\":[8]},{\"mode\":\"text\",\"text\":\"hitter Nadal\",\"textfont\":{\"color\":\"white\",\"size\":12},\"type\":\"scatter\",\"x\":[-5],\"y\":[10]},{\"mode\":\"text\",\"text\":\"strokeid 2\",\"textfont\":{\"color\":\"white\",\"size\":12},\"type\":\"scatter\",\"x\":[-5],\"y\":[12]}]},{\"data\":[{\"marker\":{\"color\":\"red\",\"size\":10},\"mode\":\"markers\",\"type\":\"scatter\",\"x\":[3.89],\"y\":[1.282]},{\"marker\":{\"color\":\"cyan\",\"size\":10},\"mode\":\"markers\",\"type\":\"scatter\",\"x\":[8.696],\"y\":[27.444000000000003]},{\"marker\":{\"color\":\"yellow\",\"size\":10},\"mode\":\"markers\",\"type\":\"scatter\",\"x\":[7.386],\"y\":[22.330000000000002]},{\"mode\":\"text\",\"text\":\"type topspin\",\"textfont\":{\"color\":\"white\",\"size\":12},\"type\":\"scatter\",\"x\":[-5],\"y\":[6]},{\"mode\":\"text\",\"text\":\"stroke forehand\",\"textfont\":{\"color\":\"white\",\"size\":12},\"type\":\"scatter\",\"x\":[-5],\"y\":[8]},{\"mode\":\"text\",\"text\":\"hitter Nadal\",\"textfont\":{\"color\":\"white\",\"size\":12},\"type\":\"scatter\",\"x\":[-5],\"y\":[10]},{\"mode\":\"text\",\"text\":\"strokeid 2\",\"textfont\":{\"color\":\"white\",\"size\":12},\"type\":\"scatter\",\"x\":[-5],\"y\":[12]}]},{\"data\":[{\"marker\":{\"color\":\"red\",\"size\":10},\"mode\":\"markers\",\"type\":\"scatter\",\"x\":[3.5999999999999996],\"y\":[1.293]},{\"marker\":{\"color\":\"cyan\",\"size\":10},\"mode\":\"markers\",\"type\":\"scatter\",\"x\":[8.623999999999999],\"y\":[27.381]},{\"marker\":{\"color\":\"yellow\",\"size\":10},\"mode\":\"markers\",\"type\":\"scatter\",\"x\":[6.659],\"y\":[19.71]},{\"mode\":\"text\",\"text\":\"type topspin\",\"textfont\":{\"color\":\"white\",\"size\":12},\"type\":\"scatter\",\"x\":[-5],\"y\":[6]},{\"mode\":\"text\",\"text\":\"stroke forehand\",\"textfont\":{\"color\":\"white\",\"size\":12},\"type\":\"scatter\",\"x\":[-5],\"y\":[8]},{\"mode\":\"text\",\"text\":\"hitter Nadal\",\"textfont\":{\"color\":\"white\",\"size\":12},\"type\":\"scatter\",\"x\":[-5],\"y\":[10]},{\"mode\":\"text\",\"text\":\"strokeid 2\",\"textfont\":{\"color\":\"white\",\"size\":12},\"type\":\"scatter\",\"x\":[-5],\"y\":[12]}]},{\"data\":[{\"marker\":{\"color\":\"red\",\"size\":10},\"mode\":\"markers\",\"type\":\"scatter\",\"x\":[3.31],\"y\":[1.304]},{\"marker\":{\"color\":\"cyan\",\"size\":10},\"mode\":\"markers\",\"type\":\"scatter\",\"x\":[8.552],\"y\":[27.317999999999998]},{\"marker\":{\"color\":\"yellow\",\"size\":10},\"mode\":\"markers\",\"type\":\"scatter\",\"x\":[5.9319999999999995],\"y\":[17.089999999999996]},{\"mode\":\"text\",\"text\":\"type topspin\",\"textfont\":{\"color\":\"white\",\"size\":12},\"type\":\"scatter\",\"x\":[-5],\"y\":[6]},{\"mode\":\"text\",\"text\":\"stroke forehand\",\"textfont\":{\"color\":\"white\",\"size\":12},\"type\":\"scatter\",\"x\":[-5],\"y\":[8]},{\"mode\":\"text\",\"text\":\"hitter Nadal\",\"textfont\":{\"color\":\"white\",\"size\":12},\"type\":\"scatter\",\"x\":[-5],\"y\":[10]},{\"mode\":\"text\",\"text\":\"strokeid 2\",\"textfont\":{\"color\":\"white\",\"size\":12},\"type\":\"scatter\",\"x\":[-5],\"y\":[12]}]},{\"data\":[{\"marker\":{\"color\":\"red\",\"size\":10},\"mode\":\"markers\",\"type\":\"scatter\",\"x\":[3.02],\"y\":[1.315]},{\"marker\":{\"color\":\"cyan\",\"size\":10},\"mode\":\"markers\",\"type\":\"scatter\",\"x\":[8.48],\"y\":[27.255000000000003]},{\"marker\":{\"color\":\"yellow\",\"size\":10},\"mode\":\"markers\",\"type\":\"scatter\",\"x\":[5.205],\"y\":[14.47]},{\"mode\":\"text\",\"text\":\"type topspin\",\"textfont\":{\"color\":\"white\",\"size\":12},\"type\":\"scatter\",\"x\":[-5],\"y\":[6]},{\"mode\":\"text\",\"text\":\"stroke forehand\",\"textfont\":{\"color\":\"white\",\"size\":12},\"type\":\"scatter\",\"x\":[-5],\"y\":[8]},{\"mode\":\"text\",\"text\":\"hitter Nadal\",\"textfont\":{\"color\":\"white\",\"size\":12},\"type\":\"scatter\",\"x\":[-5],\"y\":[10]},{\"mode\":\"text\",\"text\":\"strokeid 2\",\"textfont\":{\"color\":\"white\",\"size\":12},\"type\":\"scatter\",\"x\":[-5],\"y\":[12]}]},{\"data\":[{\"marker\":{\"color\":\"red\",\"size\":10},\"mode\":\"markers\",\"type\":\"scatter\",\"x\":[2.7299999999999995],\"y\":[1.326]},{\"marker\":{\"color\":\"cyan\",\"size\":10},\"mode\":\"markers\",\"type\":\"scatter\",\"x\":[8.408],\"y\":[27.192]},{\"marker\":{\"color\":\"yellow\",\"size\":10},\"mode\":\"markers\",\"type\":\"scatter\",\"x\":[4.478],\"y\":[11.849999999999998]},{\"mode\":\"text\",\"text\":\"type topspin\",\"textfont\":{\"color\":\"white\",\"size\":12},\"type\":\"scatter\",\"x\":[-5],\"y\":[6]},{\"mode\":\"text\",\"text\":\"stroke forehand\",\"textfont\":{\"color\":\"white\",\"size\":12},\"type\":\"scatter\",\"x\":[-5],\"y\":[8]},{\"mode\":\"text\",\"text\":\"hitter Nadal\",\"textfont\":{\"color\":\"white\",\"size\":12},\"type\":\"scatter\",\"x\":[-5],\"y\":[10]},{\"mode\":\"text\",\"text\":\"strokeid 2\",\"textfont\":{\"color\":\"white\",\"size\":12},\"type\":\"scatter\",\"x\":[-5],\"y\":[12]}]},{\"data\":[{\"marker\":{\"color\":\"red\",\"size\":10},\"mode\":\"markers\",\"type\":\"scatter\",\"x\":[2.4399999999999995],\"y\":[1.3370000000000002]},{\"marker\":{\"color\":\"cyan\",\"size\":10},\"mode\":\"markers\",\"type\":\"scatter\",\"x\":[8.335999999999999],\"y\":[27.129000000000005]},{\"marker\":{\"color\":\"yellow\",\"size\":10},\"mode\":\"markers\",\"type\":\"scatter\",\"x\":[3.7509999999999994],\"y\":[9.229999999999999]},{\"mode\":\"text\",\"text\":\"type topspin\",\"textfont\":{\"color\":\"white\",\"size\":12},\"type\":\"scatter\",\"x\":[-5],\"y\":[6]},{\"mode\":\"text\",\"text\":\"stroke forehand\",\"textfont\":{\"color\":\"white\",\"size\":12},\"type\":\"scatter\",\"x\":[-5],\"y\":[8]},{\"mode\":\"text\",\"text\":\"hitter Nadal\",\"textfont\":{\"color\":\"white\",\"size\":12},\"type\":\"scatter\",\"x\":[-5],\"y\":[10]},{\"mode\":\"text\",\"text\":\"strokeid 2\",\"textfont\":{\"color\":\"white\",\"size\":12},\"type\":\"scatter\",\"x\":[-5],\"y\":[12]}]},{\"data\":[{\"marker\":{\"color\":\"red\",\"size\":10},\"mode\":\"markers\",\"type\":\"scatter\",\"x\":[2.15],\"y\":[1.348]},{\"marker\":{\"color\":\"cyan\",\"size\":10},\"mode\":\"markers\",\"type\":\"scatter\",\"x\":[8.264],\"y\":[27.066000000000003]},{\"marker\":{\"color\":\"yellow\",\"size\":10},\"mode\":\"markers\",\"type\":\"scatter\",\"x\":[3.024],\"y\":[6.6099999999999985]},{\"mode\":\"text\",\"text\":\"type topspin\",\"textfont\":{\"color\":\"white\",\"size\":12},\"type\":\"scatter\",\"x\":[-5],\"y\":[6]},{\"mode\":\"text\",\"text\":\"stroke forehand\",\"textfont\":{\"color\":\"white\",\"size\":12},\"type\":\"scatter\",\"x\":[-5],\"y\":[8]},{\"mode\":\"text\",\"text\":\"hitter Nadal\",\"textfont\":{\"color\":\"white\",\"size\":12},\"type\":\"scatter\",\"x\":[-5],\"y\":[10]},{\"mode\":\"text\",\"text\":\"strokeid 2\",\"textfont\":{\"color\":\"white\",\"size\":12},\"type\":\"scatter\",\"x\":[-5],\"y\":[12]}]},{\"data\":[{\"marker\":{\"color\":\"red\",\"size\":10},\"mode\":\"markers\",\"type\":\"scatter\",\"x\":[1.8599999999999999],\"y\":[1.359]},{\"marker\":{\"color\":\"cyan\",\"size\":10},\"mode\":\"markers\",\"type\":\"scatter\",\"x\":[8.192],\"y\":[27.003]},{\"marker\":{\"color\":\"yellow\",\"size\":10},\"mode\":\"markers\",\"type\":\"scatter\",\"x\":[2.2969999999999997],\"y\":[3.9899999999999993]},{\"mode\":\"text\",\"text\":\"type topspin\",\"textfont\":{\"color\":\"white\",\"size\":12},\"type\":\"scatter\",\"x\":[-5],\"y\":[6]},{\"mode\":\"text\",\"text\":\"stroke forehand\",\"textfont\":{\"color\":\"white\",\"size\":12},\"type\":\"scatter\",\"x\":[-5],\"y\":[8]},{\"mode\":\"text\",\"text\":\"hitter Nadal\",\"textfont\":{\"color\":\"white\",\"size\":12},\"type\":\"scatter\",\"x\":[-5],\"y\":[10]},{\"mode\":\"text\",\"text\":\"strokeid 2\",\"textfont\":{\"color\":\"white\",\"size\":12},\"type\":\"scatter\",\"x\":[-5],\"y\":[12]}]},{\"data\":[{\"marker\":{\"color\":\"red\",\"size\":10},\"mode\":\"markers\",\"type\":\"scatter\",\"x\":[1.57],\"y\":[1.37]},{\"marker\":{\"color\":\"cyan\",\"size\":10},\"mode\":\"markers\",\"type\":\"scatter\",\"x\":[8.12],\"y\":[26.94]},{\"marker\":{\"color\":\"yellow\",\"size\":10},\"mode\":\"markers\",\"type\":\"scatter\",\"x\":[1.57],\"y\":[1.37]},{\"mode\":\"text\",\"text\":\"type topspin\",\"textfont\":{\"color\":\"white\",\"size\":12},\"type\":\"scatter\",\"x\":[-5],\"y\":[6]},{\"mode\":\"text\",\"text\":\"stroke backhand\",\"textfont\":{\"color\":\"white\",\"size\":12},\"type\":\"scatter\",\"x\":[-5],\"y\":[8]},{\"mode\":\"text\",\"text\":\"hitter Djokovic\",\"textfont\":{\"color\":\"white\",\"size\":12},\"type\":\"scatter\",\"x\":[-5],\"y\":[10]},{\"mode\":\"text\",\"text\":\"strokeid 3\",\"textfont\":{\"color\":\"white\",\"size\":12},\"type\":\"scatter\",\"x\":[-5],\"y\":[12]}]},{\"data\":[{\"marker\":{\"color\":\"red\",\"size\":10},\"mode\":\"markers\",\"type\":\"scatter\",\"x\":[1.579],\"y\":[1.374]},{\"marker\":{\"color\":\"cyan\",\"size\":10},\"mode\":\"markers\",\"type\":\"scatter\",\"x\":[8.204],\"y\":[26.891000000000002]},{\"marker\":{\"color\":\"yellow\",\"size\":10},\"mode\":\"markers\",\"type\":\"scatter\",\"x\":[2.309],\"y\":[3.878]},{\"mode\":\"text\",\"text\":\"type topspin\",\"textfont\":{\"color\":\"white\",\"size\":12},\"type\":\"scatter\",\"x\":[-5],\"y\":[6]},{\"mode\":\"text\",\"text\":\"stroke backhand\",\"textfont\":{\"color\":\"white\",\"size\":12},\"type\":\"scatter\",\"x\":[-5],\"y\":[8]},{\"mode\":\"text\",\"text\":\"hitter Djokovic\",\"textfont\":{\"color\":\"white\",\"size\":12},\"type\":\"scatter\",\"x\":[-5],\"y\":[10]},{\"mode\":\"text\",\"text\":\"strokeid 3\",\"textfont\":{\"color\":\"white\",\"size\":12},\"type\":\"scatter\",\"x\":[-5],\"y\":[12]}]},{\"data\":[{\"marker\":{\"color\":\"red\",\"size\":10},\"mode\":\"markers\",\"type\":\"scatter\",\"x\":[1.5880000000000003],\"y\":[1.3780000000000001]},{\"marker\":{\"color\":\"cyan\",\"size\":10},\"mode\":\"markers\",\"type\":\"scatter\",\"x\":[8.288],\"y\":[26.842000000000002]},{\"marker\":{\"color\":\"yellow\",\"size\":10},\"mode\":\"markers\",\"type\":\"scatter\",\"x\":[3.0480000000000005],\"y\":[6.386]},{\"mode\":\"text\",\"text\":\"type topspin\",\"textfont\":{\"color\":\"white\",\"size\":12},\"type\":\"scatter\",\"x\":[-5],\"y\":[6]},{\"mode\":\"text\",\"text\":\"stroke backhand\",\"textfont\":{\"color\":\"white\",\"size\":12},\"type\":\"scatter\",\"x\":[-5],\"y\":[8]},{\"mode\":\"text\",\"text\":\"hitter Djokovic\",\"textfont\":{\"color\":\"white\",\"size\":12},\"type\":\"scatter\",\"x\":[-5],\"y\":[10]},{\"mode\":\"text\",\"text\":\"strokeid 3\",\"textfont\":{\"color\":\"white\",\"size\":12},\"type\":\"scatter\",\"x\":[-5],\"y\":[12]}]},{\"data\":[{\"marker\":{\"color\":\"red\",\"size\":10},\"mode\":\"markers\",\"type\":\"scatter\",\"x\":[1.597],\"y\":[1.3820000000000001]},{\"marker\":{\"color\":\"cyan\",\"size\":10},\"mode\":\"markers\",\"type\":\"scatter\",\"x\":[8.372],\"y\":[26.793000000000003]},{\"marker\":{\"color\":\"yellow\",\"size\":10},\"mode\":\"markers\",\"type\":\"scatter\",\"x\":[3.787000000000001],\"y\":[8.894000000000002]},{\"mode\":\"text\",\"text\":\"type topspin\",\"textfont\":{\"color\":\"white\",\"size\":12},\"type\":\"scatter\",\"x\":[-5],\"y\":[6]},{\"mode\":\"text\",\"text\":\"stroke backhand\",\"textfont\":{\"color\":\"white\",\"size\":12},\"type\":\"scatter\",\"x\":[-5],\"y\":[8]},{\"mode\":\"text\",\"text\":\"hitter Djokovic\",\"textfont\":{\"color\":\"white\",\"size\":12},\"type\":\"scatter\",\"x\":[-5],\"y\":[10]},{\"mode\":\"text\",\"text\":\"strokeid 3\",\"textfont\":{\"color\":\"white\",\"size\":12},\"type\":\"scatter\",\"x\":[-5],\"y\":[12]}]},{\"data\":[{\"marker\":{\"color\":\"red\",\"size\":10},\"mode\":\"markers\",\"type\":\"scatter\",\"x\":[1.6059999999999999],\"y\":[1.3860000000000001]},{\"marker\":{\"color\":\"cyan\",\"size\":10},\"mode\":\"markers\",\"type\":\"scatter\",\"x\":[8.456],\"y\":[26.744]},{\"marker\":{\"color\":\"yellow\",\"size\":10},\"mode\":\"markers\",\"type\":\"scatter\",\"x\":[4.526000000000001],\"y\":[11.402000000000001]},{\"mode\":\"text\",\"text\":\"type topspin\",\"textfont\":{\"color\":\"white\",\"size\":12},\"type\":\"scatter\",\"x\":[-5],\"y\":[6]},{\"mode\":\"text\",\"text\":\"stroke backhand\",\"textfont\":{\"color\":\"white\",\"size\":12},\"type\":\"scatter\",\"x\":[-5],\"y\":[8]},{\"mode\":\"text\",\"text\":\"hitter Djokovic\",\"textfont\":{\"color\":\"white\",\"size\":12},\"type\":\"scatter\",\"x\":[-5],\"y\":[10]},{\"mode\":\"text\",\"text\":\"strokeid 3\",\"textfont\":{\"color\":\"white\",\"size\":12},\"type\":\"scatter\",\"x\":[-5],\"y\":[12]}]},{\"data\":[{\"marker\":{\"color\":\"red\",\"size\":10},\"mode\":\"markers\",\"type\":\"scatter\",\"x\":[1.615],\"y\":[1.3900000000000001]},{\"marker\":{\"color\":\"cyan\",\"size\":10},\"mode\":\"markers\",\"type\":\"scatter\",\"x\":[8.54],\"y\":[26.695]},{\"marker\":{\"color\":\"yellow\",\"size\":10},\"mode\":\"markers\",\"type\":\"scatter\",\"x\":[5.265000000000001],\"y\":[13.91]},{\"mode\":\"text\",\"text\":\"type topspin\",\"textfont\":{\"color\":\"white\",\"size\":12},\"type\":\"scatter\",\"x\":[-5],\"y\":[6]},{\"mode\":\"text\",\"text\":\"stroke backhand\",\"textfont\":{\"color\":\"white\",\"size\":12},\"type\":\"scatter\",\"x\":[-5],\"y\":[8]},{\"mode\":\"text\",\"text\":\"hitter Djokovic\",\"textfont\":{\"color\":\"white\",\"size\":12},\"type\":\"scatter\",\"x\":[-5],\"y\":[10]},{\"mode\":\"text\",\"text\":\"strokeid 3\",\"textfont\":{\"color\":\"white\",\"size\":12},\"type\":\"scatter\",\"x\":[-5],\"y\":[12]}]},{\"data\":[{\"marker\":{\"color\":\"red\",\"size\":10},\"mode\":\"markers\",\"type\":\"scatter\",\"x\":[1.624],\"y\":[1.3940000000000001]},{\"marker\":{\"color\":\"cyan\",\"size\":10},\"mode\":\"markers\",\"type\":\"scatter\",\"x\":[8.624],\"y\":[26.646]},{\"marker\":{\"color\":\"yellow\",\"size\":10},\"mode\":\"markers\",\"type\":\"scatter\",\"x\":[6.004000000000001],\"y\":[16.418000000000003]},{\"mode\":\"text\",\"text\":\"type topspin\",\"textfont\":{\"color\":\"white\",\"size\":12},\"type\":\"scatter\",\"x\":[-5],\"y\":[6]},{\"mode\":\"text\",\"text\":\"stroke backhand\",\"textfont\":{\"color\":\"white\",\"size\":12},\"type\":\"scatter\",\"x\":[-5],\"y\":[8]},{\"mode\":\"text\",\"text\":\"hitter Djokovic\",\"textfont\":{\"color\":\"white\",\"size\":12},\"type\":\"scatter\",\"x\":[-5],\"y\":[10]},{\"mode\":\"text\",\"text\":\"strokeid 3\",\"textfont\":{\"color\":\"white\",\"size\":12},\"type\":\"scatter\",\"x\":[-5],\"y\":[12]}]},{\"data\":[{\"marker\":{\"color\":\"red\",\"size\":10},\"mode\":\"markers\",\"type\":\"scatter\",\"x\":[1.633],\"y\":[1.398]},{\"marker\":{\"color\":\"cyan\",\"size\":10},\"mode\":\"markers\",\"type\":\"scatter\",\"x\":[8.708],\"y\":[26.597]},{\"marker\":{\"color\":\"yellow\",\"size\":10},\"mode\":\"markers\",\"type\":\"scatter\",\"x\":[6.743000000000001],\"y\":[18.926000000000002]},{\"mode\":\"text\",\"text\":\"type topspin\",\"textfont\":{\"color\":\"white\",\"size\":12},\"type\":\"scatter\",\"x\":[-5],\"y\":[6]},{\"mode\":\"text\",\"text\":\"stroke backhand\",\"textfont\":{\"color\":\"white\",\"size\":12},\"type\":\"scatter\",\"x\":[-5],\"y\":[8]},{\"mode\":\"text\",\"text\":\"hitter Djokovic\",\"textfont\":{\"color\":\"white\",\"size\":12},\"type\":\"scatter\",\"x\":[-5],\"y\":[10]},{\"mode\":\"text\",\"text\":\"strokeid 3\",\"textfont\":{\"color\":\"white\",\"size\":12},\"type\":\"scatter\",\"x\":[-5],\"y\":[12]}]},{\"data\":[{\"marker\":{\"color\":\"red\",\"size\":10},\"mode\":\"markers\",\"type\":\"scatter\",\"x\":[1.642],\"y\":[1.402]},{\"marker\":{\"color\":\"cyan\",\"size\":10},\"mode\":\"markers\",\"type\":\"scatter\",\"x\":[8.792],\"y\":[26.548]},{\"marker\":{\"color\":\"yellow\",\"size\":10},\"mode\":\"markers\",\"type\":\"scatter\",\"x\":[7.482000000000001],\"y\":[21.434]},{\"mode\":\"text\",\"text\":\"type topspin\",\"textfont\":{\"color\":\"white\",\"size\":12},\"type\":\"scatter\",\"x\":[-5],\"y\":[6]},{\"mode\":\"text\",\"text\":\"stroke backhand\",\"textfont\":{\"color\":\"white\",\"size\":12},\"type\":\"scatter\",\"x\":[-5],\"y\":[8]},{\"mode\":\"text\",\"text\":\"hitter Djokovic\",\"textfont\":{\"color\":\"white\",\"size\":12},\"type\":\"scatter\",\"x\":[-5],\"y\":[10]},{\"mode\":\"text\",\"text\":\"strokeid 3\",\"textfont\":{\"color\":\"white\",\"size\":12},\"type\":\"scatter\",\"x\":[-5],\"y\":[12]}]},{\"data\":[{\"marker\":{\"color\":\"red\",\"size\":10},\"mode\":\"markers\",\"type\":\"scatter\",\"x\":[1.651],\"y\":[1.406]},{\"marker\":{\"color\":\"cyan\",\"size\":10},\"mode\":\"markers\",\"type\":\"scatter\",\"x\":[8.876000000000001],\"y\":[26.499]},{\"marker\":{\"color\":\"yellow\",\"size\":10},\"mode\":\"markers\",\"type\":\"scatter\",\"x\":[8.221000000000002],\"y\":[23.942]},{\"mode\":\"text\",\"text\":\"type topspin\",\"textfont\":{\"color\":\"white\",\"size\":12},\"type\":\"scatter\",\"x\":[-5],\"y\":[6]},{\"mode\":\"text\",\"text\":\"stroke backhand\",\"textfont\":{\"color\":\"white\",\"size\":12},\"type\":\"scatter\",\"x\":[-5],\"y\":[8]},{\"mode\":\"text\",\"text\":\"hitter Djokovic\",\"textfont\":{\"color\":\"white\",\"size\":12},\"type\":\"scatter\",\"x\":[-5],\"y\":[10]},{\"mode\":\"text\",\"text\":\"strokeid 3\",\"textfont\":{\"color\":\"white\",\"size\":12},\"type\":\"scatter\",\"x\":[-5],\"y\":[12]}]},{\"data\":[{\"marker\":{\"color\":\"red\",\"size\":10},\"mode\":\"markers\",\"type\":\"scatter\",\"x\":[1.66],\"y\":[1.41]},{\"marker\":{\"color\":\"cyan\",\"size\":10},\"mode\":\"markers\",\"type\":\"scatter\",\"x\":[8.96],\"y\":[26.45]},{\"marker\":{\"color\":\"yellow\",\"size\":10},\"mode\":\"markers\",\"type\":\"scatter\",\"x\":[8.96],\"y\":[26.45]},{\"mode\":\"text\",\"text\":\"type topspin\",\"textfont\":{\"color\":\"white\",\"size\":12},\"type\":\"scatter\",\"x\":[-5],\"y\":[6]},{\"mode\":\"text\",\"text\":\"stroke forehand\",\"textfont\":{\"color\":\"white\",\"size\":12},\"type\":\"scatter\",\"x\":[-5],\"y\":[8]},{\"mode\":\"text\",\"text\":\"hitter Nadal\",\"textfont\":{\"color\":\"white\",\"size\":12},\"type\":\"scatter\",\"x\":[-5],\"y\":[10]},{\"mode\":\"text\",\"text\":\"strokeid 4\",\"textfont\":{\"color\":\"white\",\"size\":12},\"type\":\"scatter\",\"x\":[-5],\"y\":[12]}]},{\"data\":[{\"marker\":{\"color\":\"red\",\"size\":10},\"mode\":\"markers\",\"type\":\"scatter\",\"x\":[1.805],\"y\":[1.261]},{\"marker\":{\"color\":\"cyan\",\"size\":10},\"mode\":\"markers\",\"type\":\"scatter\",\"x\":[8.830000000000002],\"y\":[26.414]},{\"marker\":{\"color\":\"yellow\",\"size\":10},\"mode\":\"markers\",\"type\":\"scatter\",\"x\":[8.375000000000002],\"y\":[23.797]},{\"mode\":\"text\",\"text\":\"type topspin\",\"textfont\":{\"color\":\"white\",\"size\":12},\"type\":\"scatter\",\"x\":[-5],\"y\":[6]},{\"mode\":\"text\",\"text\":\"stroke forehand\",\"textfont\":{\"color\":\"white\",\"size\":12},\"type\":\"scatter\",\"x\":[-5],\"y\":[8]},{\"mode\":\"text\",\"text\":\"hitter Nadal\",\"textfont\":{\"color\":\"white\",\"size\":12},\"type\":\"scatter\",\"x\":[-5],\"y\":[10]},{\"mode\":\"text\",\"text\":\"strokeid 4\",\"textfont\":{\"color\":\"white\",\"size\":12},\"type\":\"scatter\",\"x\":[-5],\"y\":[12]}]},{\"data\":[{\"marker\":{\"color\":\"red\",\"size\":10},\"mode\":\"markers\",\"type\":\"scatter\",\"x\":[1.9500000000000002],\"y\":[1.1119999999999999]},{\"marker\":{\"color\":\"cyan\",\"size\":10},\"mode\":\"markers\",\"type\":\"scatter\",\"x\":[8.700000000000001],\"y\":[26.378]},{\"marker\":{\"color\":\"yellow\",\"size\":10},\"mode\":\"markers\",\"type\":\"scatter\",\"x\":[7.790000000000001],\"y\":[21.144000000000002]},{\"mode\":\"text\",\"text\":\"type topspin\",\"textfont\":{\"color\":\"white\",\"size\":12},\"type\":\"scatter\",\"x\":[-5],\"y\":[6]},{\"mode\":\"text\",\"text\":\"stroke forehand\",\"textfont\":{\"color\":\"white\",\"size\":12},\"type\":\"scatter\",\"x\":[-5],\"y\":[8]},{\"mode\":\"text\",\"text\":\"hitter Nadal\",\"textfont\":{\"color\":\"white\",\"size\":12},\"type\":\"scatter\",\"x\":[-5],\"y\":[10]},{\"mode\":\"text\",\"text\":\"strokeid 4\",\"textfont\":{\"color\":\"white\",\"size\":12},\"type\":\"scatter\",\"x\":[-5],\"y\":[12]}]},{\"data\":[{\"marker\":{\"color\":\"red\",\"size\":10},\"mode\":\"markers\",\"type\":\"scatter\",\"x\":[2.0949999999999998],\"y\":[0.9629999999999999]},{\"marker\":{\"color\":\"cyan\",\"size\":10},\"mode\":\"markers\",\"type\":\"scatter\",\"x\":[8.57],\"y\":[26.342]},{\"marker\":{\"color\":\"yellow\",\"size\":10},\"mode\":\"markers\",\"type\":\"scatter\",\"x\":[7.205],\"y\":[18.490999999999996]},{\"mode\":\"text\",\"text\":\"type topspin\",\"textfont\":{\"color\":\"white\",\"size\":12},\"type\":\"scatter\",\"x\":[-5],\"y\":[6]},{\"mode\":\"text\",\"text\":\"stroke forehand\",\"textfont\":{\"color\":\"white\",\"size\":12},\"type\":\"scatter\",\"x\":[-5],\"y\":[8]},{\"mode\":\"text\",\"text\":\"hitter Nadal\",\"textfont\":{\"color\":\"white\",\"size\":12},\"type\":\"scatter\",\"x\":[-5],\"y\":[10]},{\"mode\":\"text\",\"text\":\"strokeid 4\",\"textfont\":{\"color\":\"white\",\"size\":12},\"type\":\"scatter\",\"x\":[-5],\"y\":[12]}]},{\"data\":[{\"marker\":{\"color\":\"red\",\"size\":10},\"mode\":\"markers\",\"type\":\"scatter\",\"x\":[2.2399999999999998],\"y\":[0.814]},{\"marker\":{\"color\":\"cyan\",\"size\":10},\"mode\":\"markers\",\"type\":\"scatter\",\"x\":[8.440000000000001],\"y\":[26.305999999999997]},{\"marker\":{\"color\":\"yellow\",\"size\":10},\"mode\":\"markers\",\"type\":\"scatter\",\"x\":[6.62],\"y\":[15.838]},{\"mode\":\"text\",\"text\":\"type topspin\",\"textfont\":{\"color\":\"white\",\"size\":12},\"type\":\"scatter\",\"x\":[-5],\"y\":[6]},{\"mode\":\"text\",\"text\":\"stroke forehand\",\"textfont\":{\"color\":\"white\",\"size\":12},\"type\":\"scatter\",\"x\":[-5],\"y\":[8]},{\"mode\":\"text\",\"text\":\"hitter Nadal\",\"textfont\":{\"color\":\"white\",\"size\":12},\"type\":\"scatter\",\"x\":[-5],\"y\":[10]},{\"mode\":\"text\",\"text\":\"strokeid 4\",\"textfont\":{\"color\":\"white\",\"size\":12},\"type\":\"scatter\",\"x\":[-5],\"y\":[12]}]},{\"data\":[{\"marker\":{\"color\":\"red\",\"size\":10},\"mode\":\"markers\",\"type\":\"scatter\",\"x\":[2.385],\"y\":[0.6649999999999999]},{\"marker\":{\"color\":\"cyan\",\"size\":10},\"mode\":\"markers\",\"type\":\"scatter\",\"x\":[8.31],\"y\":[26.27]},{\"marker\":{\"color\":\"yellow\",\"size\":10},\"mode\":\"markers\",\"type\":\"scatter\",\"x\":[6.035],\"y\":[13.185]},{\"mode\":\"text\",\"text\":\"type topspin\",\"textfont\":{\"color\":\"white\",\"size\":12},\"type\":\"scatter\",\"x\":[-5],\"y\":[6]},{\"mode\":\"text\",\"text\":\"stroke forehand\",\"textfont\":{\"color\":\"white\",\"size\":12},\"type\":\"scatter\",\"x\":[-5],\"y\":[8]},{\"mode\":\"text\",\"text\":\"hitter Nadal\",\"textfont\":{\"color\":\"white\",\"size\":12},\"type\":\"scatter\",\"x\":[-5],\"y\":[10]},{\"mode\":\"text\",\"text\":\"strokeid 4\",\"textfont\":{\"color\":\"white\",\"size\":12},\"type\":\"scatter\",\"x\":[-5],\"y\":[12]}]},{\"data\":[{\"marker\":{\"color\":\"red\",\"size\":10},\"mode\":\"markers\",\"type\":\"scatter\",\"x\":[2.53],\"y\":[0.5159999999999998]},{\"marker\":{\"color\":\"cyan\",\"size\":10},\"mode\":\"markers\",\"type\":\"scatter\",\"x\":[8.18],\"y\":[26.233999999999998]},{\"marker\":{\"color\":\"yellow\",\"size\":10},\"mode\":\"markers\",\"type\":\"scatter\",\"x\":[5.449999999999999],\"y\":[10.531999999999996]},{\"mode\":\"text\",\"text\":\"type topspin\",\"textfont\":{\"color\":\"white\",\"size\":12},\"type\":\"scatter\",\"x\":[-5],\"y\":[6]},{\"mode\":\"text\",\"text\":\"stroke forehand\",\"textfont\":{\"color\":\"white\",\"size\":12},\"type\":\"scatter\",\"x\":[-5],\"y\":[8]},{\"mode\":\"text\",\"text\":\"hitter Nadal\",\"textfont\":{\"color\":\"white\",\"size\":12},\"type\":\"scatter\",\"x\":[-5],\"y\":[10]},{\"mode\":\"text\",\"text\":\"strokeid 4\",\"textfont\":{\"color\":\"white\",\"size\":12},\"type\":\"scatter\",\"x\":[-5],\"y\":[12]}]},{\"data\":[{\"marker\":{\"color\":\"red\",\"size\":10},\"mode\":\"markers\",\"type\":\"scatter\",\"x\":[2.675],\"y\":[0.3669999999999999]},{\"marker\":{\"color\":\"cyan\",\"size\":10},\"mode\":\"markers\",\"type\":\"scatter\",\"x\":[8.05],\"y\":[26.198]},{\"marker\":{\"color\":\"yellow\",\"size\":10},\"mode\":\"markers\",\"type\":\"scatter\",\"x\":[4.865],\"y\":[7.878999999999998]},{\"mode\":\"text\",\"text\":\"type topspin\",\"textfont\":{\"color\":\"white\",\"size\":12},\"type\":\"scatter\",\"x\":[-5],\"y\":[6]},{\"mode\":\"text\",\"text\":\"stroke forehand\",\"textfont\":{\"color\":\"white\",\"size\":12},\"type\":\"scatter\",\"x\":[-5],\"y\":[8]},{\"mode\":\"text\",\"text\":\"hitter Nadal\",\"textfont\":{\"color\":\"white\",\"size\":12},\"type\":\"scatter\",\"x\":[-5],\"y\":[10]},{\"mode\":\"text\",\"text\":\"strokeid 4\",\"textfont\":{\"color\":\"white\",\"size\":12},\"type\":\"scatter\",\"x\":[-5],\"y\":[12]}]},{\"data\":[{\"marker\":{\"color\":\"red\",\"size\":10},\"mode\":\"markers\",\"type\":\"scatter\",\"x\":[2.82],\"y\":[0.21799999999999992]},{\"marker\":{\"color\":\"cyan\",\"size\":10},\"mode\":\"markers\",\"type\":\"scatter\",\"x\":[7.92],\"y\":[26.162]},{\"marker\":{\"color\":\"yellow\",\"size\":10},\"mode\":\"markers\",\"type\":\"scatter\",\"x\":[4.279999999999999],\"y\":[5.225999999999998]},{\"mode\":\"text\",\"text\":\"type topspin\",\"textfont\":{\"color\":\"white\",\"size\":12},\"type\":\"scatter\",\"x\":[-5],\"y\":[6]},{\"mode\":\"text\",\"text\":\"stroke forehand\",\"textfont\":{\"color\":\"white\",\"size\":12},\"type\":\"scatter\",\"x\":[-5],\"y\":[8]},{\"mode\":\"text\",\"text\":\"hitter Nadal\",\"textfont\":{\"color\":\"white\",\"size\":12},\"type\":\"scatter\",\"x\":[-5],\"y\":[10]},{\"mode\":\"text\",\"text\":\"strokeid 4\",\"textfont\":{\"color\":\"white\",\"size\":12},\"type\":\"scatter\",\"x\":[-5],\"y\":[12]}]},{\"data\":[{\"marker\":{\"color\":\"red\",\"size\":10},\"mode\":\"markers\",\"type\":\"scatter\",\"x\":[2.965],\"y\":[0.06899999999999995]},{\"marker\":{\"color\":\"cyan\",\"size\":10},\"mode\":\"markers\",\"type\":\"scatter\",\"x\":[7.79],\"y\":[26.126]},{\"marker\":{\"color\":\"yellow\",\"size\":10},\"mode\":\"markers\",\"type\":\"scatter\",\"x\":[3.695],\"y\":[2.572999999999999]},{\"mode\":\"text\",\"text\":\"type topspin\",\"textfont\":{\"color\":\"white\",\"size\":12},\"type\":\"scatter\",\"x\":[-5],\"y\":[6]},{\"mode\":\"text\",\"text\":\"stroke forehand\",\"textfont\":{\"color\":\"white\",\"size\":12},\"type\":\"scatter\",\"x\":[-5],\"y\":[8]},{\"mode\":\"text\",\"text\":\"hitter Nadal\",\"textfont\":{\"color\":\"white\",\"size\":12},\"type\":\"scatter\",\"x\":[-5],\"y\":[10]},{\"mode\":\"text\",\"text\":\"strokeid 4\",\"textfont\":{\"color\":\"white\",\"size\":12},\"type\":\"scatter\",\"x\":[-5],\"y\":[12]}]},{\"data\":[{\"marker\":{\"color\":\"red\",\"size\":10},\"mode\":\"markers\",\"type\":\"scatter\",\"x\":[3.11],\"y\":[-0.08]},{\"marker\":{\"color\":\"cyan\",\"size\":10},\"mode\":\"markers\",\"type\":\"scatter\",\"x\":[7.66],\"y\":[26.09]},{\"marker\":{\"color\":\"yellow\",\"size\":10},\"mode\":\"markers\",\"type\":\"scatter\",\"x\":[3.11],\"y\":[-0.08]},{\"mode\":\"text\",\"text\":\"type topspin\",\"textfont\":{\"color\":\"white\",\"size\":12},\"type\":\"scatter\",\"x\":[-5],\"y\":[6]},{\"mode\":\"text\",\"text\":\"stroke forehand\",\"textfont\":{\"color\":\"white\",\"size\":12},\"type\":\"scatter\",\"x\":[-5],\"y\":[8]},{\"mode\":\"text\",\"text\":\"hitter Djokovic\",\"textfont\":{\"color\":\"white\",\"size\":12},\"type\":\"scatter\",\"x\":[-5],\"y\":[10]},{\"mode\":\"text\",\"text\":\"strokeid 5\",\"textfont\":{\"color\":\"white\",\"size\":12},\"type\":\"scatter\",\"x\":[-5],\"y\":[12]}]},{\"data\":[{\"marker\":{\"color\":\"red\",\"size\":10},\"mode\":\"markers\",\"type\":\"scatter\",\"x\":[3.154],\"y\":[-0.166]},{\"marker\":{\"color\":\"cyan\",\"size\":10},\"mode\":\"markers\",\"type\":\"scatter\",\"x\":[7.6290000000000004],\"y\":[25.995]},{\"marker\":{\"color\":\"yellow\",\"size\":10},\"mode\":\"markers\",\"type\":\"scatter\",\"x\":[3.534],\"y\":[2.442]},{\"mode\":\"text\",\"text\":\"type topspin\",\"textfont\":{\"color\":\"white\",\"size\":12},\"type\":\"scatter\",\"x\":[-5],\"y\":[6]},{\"mode\":\"text\",\"text\":\"stroke forehand\",\"textfont\":{\"color\":\"white\",\"size\":12},\"type\":\"scatter\",\"x\":[-5],\"y\":[8]},{\"mode\":\"text\",\"text\":\"hitter Djokovic\",\"textfont\":{\"color\":\"white\",\"size\":12},\"type\":\"scatter\",\"x\":[-5],\"y\":[10]},{\"mode\":\"text\",\"text\":\"strokeid 5\",\"textfont\":{\"color\":\"white\",\"size\":12},\"type\":\"scatter\",\"x\":[-5],\"y\":[12]}]},{\"data\":[{\"marker\":{\"color\":\"red\",\"size\":10},\"mode\":\"markers\",\"type\":\"scatter\",\"x\":[3.198],\"y\":[-0.252]},{\"marker\":{\"color\":\"cyan\",\"size\":10},\"mode\":\"markers\",\"type\":\"scatter\",\"x\":[7.598],\"y\":[25.9]},{\"marker\":{\"color\":\"yellow\",\"size\":10},\"mode\":\"markers\",\"type\":\"scatter\",\"x\":[3.958],\"y\":[4.964]},{\"mode\":\"text\",\"text\":\"type topspin\",\"textfont\":{\"color\":\"white\",\"size\":12},\"type\":\"scatter\",\"x\":[-5],\"y\":[6]},{\"mode\":\"text\",\"text\":\"stroke forehand\",\"textfont\":{\"color\":\"white\",\"size\":12},\"type\":\"scatter\",\"x\":[-5],\"y\":[8]},{\"mode\":\"text\",\"text\":\"hitter Djokovic\",\"textfont\":{\"color\":\"white\",\"size\":12},\"type\":\"scatter\",\"x\":[-5],\"y\":[10]},{\"mode\":\"text\",\"text\":\"strokeid 5\",\"textfont\":{\"color\":\"white\",\"size\":12},\"type\":\"scatter\",\"x\":[-5],\"y\":[12]}]},{\"data\":[{\"marker\":{\"color\":\"red\",\"size\":10},\"mode\":\"markers\",\"type\":\"scatter\",\"x\":[3.242],\"y\":[-0.338]},{\"marker\":{\"color\":\"cyan\",\"size\":10},\"mode\":\"markers\",\"type\":\"scatter\",\"x\":[7.567],\"y\":[25.805]},{\"marker\":{\"color\":\"yellow\",\"size\":10},\"mode\":\"markers\",\"type\":\"scatter\",\"x\":[4.382],\"y\":[7.4860000000000015]},{\"mode\":\"text\",\"text\":\"type topspin\",\"textfont\":{\"color\":\"white\",\"size\":12},\"type\":\"scatter\",\"x\":[-5],\"y\":[6]},{\"mode\":\"text\",\"text\":\"stroke forehand\",\"textfont\":{\"color\":\"white\",\"size\":12},\"type\":\"scatter\",\"x\":[-5],\"y\":[8]},{\"mode\":\"text\",\"text\":\"hitter Djokovic\",\"textfont\":{\"color\":\"white\",\"size\":12},\"type\":\"scatter\",\"x\":[-5],\"y\":[10]},{\"mode\":\"text\",\"text\":\"strokeid 5\",\"textfont\":{\"color\":\"white\",\"size\":12},\"type\":\"scatter\",\"x\":[-5],\"y\":[12]}]},{\"data\":[{\"marker\":{\"color\":\"red\",\"size\":10},\"mode\":\"markers\",\"type\":\"scatter\",\"x\":[3.2859999999999996],\"y\":[-0.424]},{\"marker\":{\"color\":\"cyan\",\"size\":10},\"mode\":\"markers\",\"type\":\"scatter\",\"x\":[7.536],\"y\":[25.71]},{\"marker\":{\"color\":\"yellow\",\"size\":10},\"mode\":\"markers\",\"type\":\"scatter\",\"x\":[4.806],\"y\":[10.008000000000001]},{\"mode\":\"text\",\"text\":\"type topspin\",\"textfont\":{\"color\":\"white\",\"size\":12},\"type\":\"scatter\",\"x\":[-5],\"y\":[6]},{\"mode\":\"text\",\"text\":\"stroke forehand\",\"textfont\":{\"color\":\"white\",\"size\":12},\"type\":\"scatter\",\"x\":[-5],\"y\":[8]},{\"mode\":\"text\",\"text\":\"hitter Djokovic\",\"textfont\":{\"color\":\"white\",\"size\":12},\"type\":\"scatter\",\"x\":[-5],\"y\":[10]},{\"mode\":\"text\",\"text\":\"strokeid 5\",\"textfont\":{\"color\":\"white\",\"size\":12},\"type\":\"scatter\",\"x\":[-5],\"y\":[12]}]},{\"data\":[{\"marker\":{\"color\":\"red\",\"size\":10},\"mode\":\"markers\",\"type\":\"scatter\",\"x\":[3.33],\"y\":[-0.51]},{\"marker\":{\"color\":\"cyan\",\"size\":10},\"mode\":\"markers\",\"type\":\"scatter\",\"x\":[7.505],\"y\":[25.615000000000002]},{\"marker\":{\"color\":\"yellow\",\"size\":10},\"mode\":\"markers\",\"type\":\"scatter\",\"x\":[5.2299999999999995],\"y\":[12.530000000000001]},{\"mode\":\"text\",\"text\":\"type topspin\",\"textfont\":{\"color\":\"white\",\"size\":12},\"type\":\"scatter\",\"x\":[-5],\"y\":[6]},{\"mode\":\"text\",\"text\":\"stroke forehand\",\"textfont\":{\"color\":\"white\",\"size\":12},\"type\":\"scatter\",\"x\":[-5],\"y\":[8]},{\"mode\":\"text\",\"text\":\"hitter Djokovic\",\"textfont\":{\"color\":\"white\",\"size\":12},\"type\":\"scatter\",\"x\":[-5],\"y\":[10]},{\"mode\":\"text\",\"text\":\"strokeid 5\",\"textfont\":{\"color\":\"white\",\"size\":12},\"type\":\"scatter\",\"x\":[-5],\"y\":[12]}]},{\"data\":[{\"marker\":{\"color\":\"red\",\"size\":10},\"mode\":\"markers\",\"type\":\"scatter\",\"x\":[3.374],\"y\":[-0.5960000000000001]},{\"marker\":{\"color\":\"cyan\",\"size\":10},\"mode\":\"markers\",\"type\":\"scatter\",\"x\":[7.473999999999999],\"y\":[25.520000000000003]},{\"marker\":{\"color\":\"yellow\",\"size\":10},\"mode\":\"markers\",\"type\":\"scatter\",\"x\":[5.654],\"y\":[15.052000000000003]},{\"mode\":\"text\",\"text\":\"type topspin\",\"textfont\":{\"color\":\"white\",\"size\":12},\"type\":\"scatter\",\"x\":[-5],\"y\":[6]},{\"mode\":\"text\",\"text\":\"stroke forehand\",\"textfont\":{\"color\":\"white\",\"size\":12},\"type\":\"scatter\",\"x\":[-5],\"y\":[8]},{\"mode\":\"text\",\"text\":\"hitter Djokovic\",\"textfont\":{\"color\":\"white\",\"size\":12},\"type\":\"scatter\",\"x\":[-5],\"y\":[10]},{\"mode\":\"text\",\"text\":\"strokeid 5\",\"textfont\":{\"color\":\"white\",\"size\":12},\"type\":\"scatter\",\"x\":[-5],\"y\":[12]}]},{\"data\":[{\"marker\":{\"color\":\"red\",\"size\":10},\"mode\":\"markers\",\"type\":\"scatter\",\"x\":[3.418],\"y\":[-0.682]},{\"marker\":{\"color\":\"cyan\",\"size\":10},\"mode\":\"markers\",\"type\":\"scatter\",\"x\":[7.443],\"y\":[25.425]},{\"marker\":{\"color\":\"yellow\",\"size\":10},\"mode\":\"markers\",\"type\":\"scatter\",\"x\":[6.078],\"y\":[17.574]},{\"mode\":\"text\",\"text\":\"type topspin\",\"textfont\":{\"color\":\"white\",\"size\":12},\"type\":\"scatter\",\"x\":[-5],\"y\":[6]},{\"mode\":\"text\",\"text\":\"stroke forehand\",\"textfont\":{\"color\":\"white\",\"size\":12},\"type\":\"scatter\",\"x\":[-5],\"y\":[8]},{\"mode\":\"text\",\"text\":\"hitter Djokovic\",\"textfont\":{\"color\":\"white\",\"size\":12},\"type\":\"scatter\",\"x\":[-5],\"y\":[10]},{\"mode\":\"text\",\"text\":\"strokeid 5\",\"textfont\":{\"color\":\"white\",\"size\":12},\"type\":\"scatter\",\"x\":[-5],\"y\":[12]}]},{\"data\":[{\"marker\":{\"color\":\"red\",\"size\":10},\"mode\":\"markers\",\"type\":\"scatter\",\"x\":[3.4619999999999997],\"y\":[-0.768]},{\"marker\":{\"color\":\"cyan\",\"size\":10},\"mode\":\"markers\",\"type\":\"scatter\",\"x\":[7.411999999999999],\"y\":[25.330000000000002]},{\"marker\":{\"color\":\"yellow\",\"size\":10},\"mode\":\"markers\",\"type\":\"scatter\",\"x\":[6.502],\"y\":[20.096000000000004]},{\"mode\":\"text\",\"text\":\"type topspin\",\"textfont\":{\"color\":\"white\",\"size\":12},\"type\":\"scatter\",\"x\":[-5],\"y\":[6]},{\"mode\":\"text\",\"text\":\"stroke forehand\",\"textfont\":{\"color\":\"white\",\"size\":12},\"type\":\"scatter\",\"x\":[-5],\"y\":[8]},{\"mode\":\"text\",\"text\":\"hitter Djokovic\",\"textfont\":{\"color\":\"white\",\"size\":12},\"type\":\"scatter\",\"x\":[-5],\"y\":[10]},{\"mode\":\"text\",\"text\":\"strokeid 5\",\"textfont\":{\"color\":\"white\",\"size\":12},\"type\":\"scatter\",\"x\":[-5],\"y\":[12]}]},{\"data\":[{\"marker\":{\"color\":\"red\",\"size\":10},\"mode\":\"markers\",\"type\":\"scatter\",\"x\":[3.506],\"y\":[-0.854]},{\"marker\":{\"color\":\"cyan\",\"size\":10},\"mode\":\"markers\",\"type\":\"scatter\",\"x\":[7.381],\"y\":[25.235]},{\"marker\":{\"color\":\"yellow\",\"size\":10},\"mode\":\"markers\",\"type\":\"scatter\",\"x\":[6.926],\"y\":[22.618000000000002]},{\"mode\":\"text\",\"text\":\"type topspin\",\"textfont\":{\"color\":\"white\",\"size\":12},\"type\":\"scatter\",\"x\":[-5],\"y\":[6]},{\"mode\":\"text\",\"text\":\"stroke forehand\",\"textfont\":{\"color\":\"white\",\"size\":12},\"type\":\"scatter\",\"x\":[-5],\"y\":[8]},{\"mode\":\"text\",\"text\":\"hitter Djokovic\",\"textfont\":{\"color\":\"white\",\"size\":12},\"type\":\"scatter\",\"x\":[-5],\"y\":[10]},{\"mode\":\"text\",\"text\":\"strokeid 5\",\"textfont\":{\"color\":\"white\",\"size\":12},\"type\":\"scatter\",\"x\":[-5],\"y\":[12]}]},{\"data\":[{\"marker\":{\"color\":\"red\",\"size\":10},\"mode\":\"markers\",\"type\":\"scatter\",\"x\":[3.55],\"y\":[-0.94]},{\"marker\":{\"color\":\"cyan\",\"size\":10},\"mode\":\"markers\",\"type\":\"scatter\",\"x\":[7.35],\"y\":[25.14]},{\"marker\":{\"color\":\"yellow\",\"size\":10},\"mode\":\"markers\",\"type\":\"scatter\",\"x\":[7.35],\"y\":[25.14]},{\"mode\":\"text\",\"text\":\"type topspin\",\"textfont\":{\"color\":\"white\",\"size\":12},\"type\":\"scatter\",\"x\":[-5],\"y\":[6]},{\"mode\":\"text\",\"text\":\"stroke forehand\",\"textfont\":{\"color\":\"white\",\"size\":12},\"type\":\"scatter\",\"x\":[-5],\"y\":[8]},{\"mode\":\"text\",\"text\":\"hitter Nadal\",\"textfont\":{\"color\":\"white\",\"size\":12},\"type\":\"scatter\",\"x\":[-5],\"y\":[10]},{\"mode\":\"text\",\"text\":\"strokeid 6\",\"textfont\":{\"color\":\"white\",\"size\":12},\"type\":\"scatter\",\"x\":[-5],\"y\":[12]}]},{\"data\":[{\"marker\":{\"color\":\"red\",\"size\":10},\"mode\":\"markers\",\"type\":\"scatter\",\"x\":[3.52],\"y\":[-0.854]},{\"marker\":{\"color\":\"cyan\",\"size\":10},\"mode\":\"markers\",\"type\":\"scatter\",\"x\":[7.257000000000001],\"y\":[25.163]},{\"marker\":{\"color\":\"yellow\",\"size\":10},\"mode\":\"markers\",\"type\":\"scatter\",\"x\":[6.94],\"y\":[22.618000000000002]},{\"mode\":\"text\",\"text\":\"type topspin\",\"textfont\":{\"color\":\"white\",\"size\":12},\"type\":\"scatter\",\"x\":[-5],\"y\":[6]},{\"mode\":\"text\",\"text\":\"stroke forehand\",\"textfont\":{\"color\":\"white\",\"size\":12},\"type\":\"scatter\",\"x\":[-5],\"y\":[8]},{\"mode\":\"text\",\"text\":\"hitter Nadal\",\"textfont\":{\"color\":\"white\",\"size\":12},\"type\":\"scatter\",\"x\":[-5],\"y\":[10]},{\"mode\":\"text\",\"text\":\"strokeid 6\",\"textfont\":{\"color\":\"white\",\"size\":12},\"type\":\"scatter\",\"x\":[-5],\"y\":[12]}]},{\"data\":[{\"marker\":{\"color\":\"red\",\"size\":10},\"mode\":\"markers\",\"type\":\"scatter\",\"x\":[3.4899999999999998],\"y\":[-0.768]},{\"marker\":{\"color\":\"cyan\",\"size\":10},\"mode\":\"markers\",\"type\":\"scatter\",\"x\":[7.164],\"y\":[25.186000000000003]},{\"marker\":{\"color\":\"yellow\",\"size\":10},\"mode\":\"markers\",\"type\":\"scatter\",\"x\":[6.53],\"y\":[20.096000000000004]},{\"mode\":\"text\",\"text\":\"type topspin\",\"textfont\":{\"color\":\"white\",\"size\":12},\"type\":\"scatter\",\"x\":[-5],\"y\":[6]},{\"mode\":\"text\",\"text\":\"stroke forehand\",\"textfont\":{\"color\":\"white\",\"size\":12},\"type\":\"scatter\",\"x\":[-5],\"y\":[8]},{\"mode\":\"text\",\"text\":\"hitter Nadal\",\"textfont\":{\"color\":\"white\",\"size\":12},\"type\":\"scatter\",\"x\":[-5],\"y\":[10]},{\"mode\":\"text\",\"text\":\"strokeid 6\",\"textfont\":{\"color\":\"white\",\"size\":12},\"type\":\"scatter\",\"x\":[-5],\"y\":[12]}]},{\"data\":[{\"marker\":{\"color\":\"red\",\"size\":10},\"mode\":\"markers\",\"type\":\"scatter\",\"x\":[3.46],\"y\":[-0.6819999999999999]},{\"marker\":{\"color\":\"cyan\",\"size\":10},\"mode\":\"markers\",\"type\":\"scatter\",\"x\":[7.071],\"y\":[25.209]},{\"marker\":{\"color\":\"yellow\",\"size\":10},\"mode\":\"markers\",\"type\":\"scatter\",\"x\":[6.119999999999999],\"y\":[17.573999999999998]},{\"mode\":\"text\",\"text\":\"type topspin\",\"textfont\":{\"color\":\"white\",\"size\":12},\"type\":\"scatter\",\"x\":[-5],\"y\":[6]},{\"mode\":\"text\",\"text\":\"stroke forehand\",\"textfont\":{\"color\":\"white\",\"size\":12},\"type\":\"scatter\",\"x\":[-5],\"y\":[8]},{\"mode\":\"text\",\"text\":\"hitter Nadal\",\"textfont\":{\"color\":\"white\",\"size\":12},\"type\":\"scatter\",\"x\":[-5],\"y\":[10]},{\"mode\":\"text\",\"text\":\"strokeid 6\",\"textfont\":{\"color\":\"white\",\"size\":12},\"type\":\"scatter\",\"x\":[-5],\"y\":[12]}]},{\"data\":[{\"marker\":{\"color\":\"red\",\"size\":10},\"mode\":\"markers\",\"type\":\"scatter\",\"x\":[3.4299999999999997],\"y\":[-0.596]},{\"marker\":{\"color\":\"cyan\",\"size\":10},\"mode\":\"markers\",\"type\":\"scatter\",\"x\":[6.978],\"y\":[25.232]},{\"marker\":{\"color\":\"yellow\",\"size\":10},\"mode\":\"markers\",\"type\":\"scatter\",\"x\":[5.709999999999999],\"y\":[15.052]},{\"mode\":\"text\",\"text\":\"type topspin\",\"textfont\":{\"color\":\"white\",\"size\":12},\"type\":\"scatter\",\"x\":[-5],\"y\":[6]},{\"mode\":\"text\",\"text\":\"stroke forehand\",\"textfont\":{\"color\":\"white\",\"size\":12},\"type\":\"scatter\",\"x\":[-5],\"y\":[8]},{\"mode\":\"text\",\"text\":\"hitter Nadal\",\"textfont\":{\"color\":\"white\",\"size\":12},\"type\":\"scatter\",\"x\":[-5],\"y\":[10]},{\"mode\":\"text\",\"text\":\"strokeid 6\",\"textfont\":{\"color\":\"white\",\"size\":12},\"type\":\"scatter\",\"x\":[-5],\"y\":[12]}]},{\"data\":[{\"marker\":{\"color\":\"red\",\"size\":10},\"mode\":\"markers\",\"type\":\"scatter\",\"x\":[3.4],\"y\":[-0.51]},{\"marker\":{\"color\":\"cyan\",\"size\":10},\"mode\":\"markers\",\"type\":\"scatter\",\"x\":[6.885],\"y\":[25.255000000000003]},{\"marker\":{\"color\":\"yellow\",\"size\":10},\"mode\":\"markers\",\"type\":\"scatter\",\"x\":[5.3],\"y\":[12.530000000000001]},{\"mode\":\"text\",\"text\":\"type topspin\",\"textfont\":{\"color\":\"white\",\"size\":12},\"type\":\"scatter\",\"x\":[-5],\"y\":[6]},{\"mode\":\"text\",\"text\":\"stroke forehand\",\"textfont\":{\"color\":\"white\",\"size\":12},\"type\":\"scatter\",\"x\":[-5],\"y\":[8]},{\"mode\":\"text\",\"text\":\"hitter Nadal\",\"textfont\":{\"color\":\"white\",\"size\":12},\"type\":\"scatter\",\"x\":[-5],\"y\":[10]},{\"mode\":\"text\",\"text\":\"strokeid 6\",\"textfont\":{\"color\":\"white\",\"size\":12},\"type\":\"scatter\",\"x\":[-5],\"y\":[12]}]},{\"data\":[{\"marker\":{\"color\":\"red\",\"size\":10},\"mode\":\"markers\",\"type\":\"scatter\",\"x\":[3.37],\"y\":[-0.4239999999999999]},{\"marker\":{\"color\":\"cyan\",\"size\":10},\"mode\":\"markers\",\"type\":\"scatter\",\"x\":[6.792],\"y\":[25.278]},{\"marker\":{\"color\":\"yellow\",\"size\":10},\"mode\":\"markers\",\"type\":\"scatter\",\"x\":[4.889999999999999],\"y\":[10.007999999999997]},{\"mode\":\"text\",\"text\":\"type topspin\",\"textfont\":{\"color\":\"white\",\"size\":12},\"type\":\"scatter\",\"x\":[-5],\"y\":[6]},{\"mode\":\"text\",\"text\":\"stroke forehand\",\"textfont\":{\"color\":\"white\",\"size\":12},\"type\":\"scatter\",\"x\":[-5],\"y\":[8]},{\"mode\":\"text\",\"text\":\"hitter Nadal\",\"textfont\":{\"color\":\"white\",\"size\":12},\"type\":\"scatter\",\"x\":[-5],\"y\":[10]},{\"mode\":\"text\",\"text\":\"strokeid 6\",\"textfont\":{\"color\":\"white\",\"size\":12},\"type\":\"scatter\",\"x\":[-5],\"y\":[12]}]},{\"data\":[{\"marker\":{\"color\":\"red\",\"size\":10},\"mode\":\"markers\",\"type\":\"scatter\",\"x\":[3.34],\"y\":[-0.3379999999999999]},{\"marker\":{\"color\":\"cyan\",\"size\":10},\"mode\":\"markers\",\"type\":\"scatter\",\"x\":[6.699],\"y\":[25.301000000000002]},{\"marker\":{\"color\":\"yellow\",\"size\":10},\"mode\":\"markers\",\"type\":\"scatter\",\"x\":[4.4799999999999995],\"y\":[7.485999999999999]},{\"mode\":\"text\",\"text\":\"type topspin\",\"textfont\":{\"color\":\"white\",\"size\":12},\"type\":\"scatter\",\"x\":[-5],\"y\":[6]},{\"mode\":\"text\",\"text\":\"stroke forehand\",\"textfont\":{\"color\":\"white\",\"size\":12},\"type\":\"scatter\",\"x\":[-5],\"y\":[8]},{\"mode\":\"text\",\"text\":\"hitter Nadal\",\"textfont\":{\"color\":\"white\",\"size\":12},\"type\":\"scatter\",\"x\":[-5],\"y\":[10]},{\"mode\":\"text\",\"text\":\"strokeid 6\",\"textfont\":{\"color\":\"white\",\"size\":12},\"type\":\"scatter\",\"x\":[-5],\"y\":[12]}]},{\"data\":[{\"marker\":{\"color\":\"red\",\"size\":10},\"mode\":\"markers\",\"type\":\"scatter\",\"x\":[3.31],\"y\":[-0.25199999999999995]},{\"marker\":{\"color\":\"cyan\",\"size\":10},\"mode\":\"markers\",\"type\":\"scatter\",\"x\":[6.606],\"y\":[25.324]},{\"marker\":{\"color\":\"yellow\",\"size\":10},\"mode\":\"markers\",\"type\":\"scatter\",\"x\":[4.069999999999999],\"y\":[4.963999999999999]},{\"mode\":\"text\",\"text\":\"type topspin\",\"textfont\":{\"color\":\"white\",\"size\":12},\"type\":\"scatter\",\"x\":[-5],\"y\":[6]},{\"mode\":\"text\",\"text\":\"stroke forehand\",\"textfont\":{\"color\":\"white\",\"size\":12},\"type\":\"scatter\",\"x\":[-5],\"y\":[8]},{\"mode\":\"text\",\"text\":\"hitter Nadal\",\"textfont\":{\"color\":\"white\",\"size\":12},\"type\":\"scatter\",\"x\":[-5],\"y\":[10]},{\"mode\":\"text\",\"text\":\"strokeid 6\",\"textfont\":{\"color\":\"white\",\"size\":12},\"type\":\"scatter\",\"x\":[-5],\"y\":[12]}]},{\"data\":[{\"marker\":{\"color\":\"red\",\"size\":10},\"mode\":\"markers\",\"type\":\"scatter\",\"x\":[3.2800000000000002],\"y\":[-0.16599999999999998]},{\"marker\":{\"color\":\"cyan\",\"size\":10},\"mode\":\"markers\",\"type\":\"scatter\",\"x\":[6.513],\"y\":[25.347]},{\"marker\":{\"color\":\"yellow\",\"size\":10},\"mode\":\"markers\",\"type\":\"scatter\",\"x\":[3.66],\"y\":[2.4419999999999993]},{\"mode\":\"text\",\"text\":\"type topspin\",\"textfont\":{\"color\":\"white\",\"size\":12},\"type\":\"scatter\",\"x\":[-5],\"y\":[6]},{\"mode\":\"text\",\"text\":\"stroke forehand\",\"textfont\":{\"color\":\"white\",\"size\":12},\"type\":\"scatter\",\"x\":[-5],\"y\":[8]},{\"mode\":\"text\",\"text\":\"hitter Nadal\",\"textfont\":{\"color\":\"white\",\"size\":12},\"type\":\"scatter\",\"x\":[-5],\"y\":[10]},{\"mode\":\"text\",\"text\":\"strokeid 6\",\"textfont\":{\"color\":\"white\",\"size\":12},\"type\":\"scatter\",\"x\":[-5],\"y\":[12]}]},{\"data\":[{\"marker\":{\"color\":\"red\",\"size\":10},\"mode\":\"markers\",\"type\":\"scatter\",\"x\":[3.25],\"y\":[-0.08]},{\"marker\":{\"color\":\"cyan\",\"size\":10},\"mode\":\"markers\",\"type\":\"scatter\",\"x\":[6.42],\"y\":[25.37]},{\"marker\":{\"color\":\"yellow\",\"size\":10},\"mode\":\"markers\",\"type\":\"scatter\",\"x\":[3.25],\"y\":[-0.08]},{\"mode\":\"text\",\"text\":\"type topspin\",\"textfont\":{\"color\":\"white\",\"size\":12},\"type\":\"scatter\",\"x\":[-5],\"y\":[6]},{\"mode\":\"text\",\"text\":\"stroke backhand\",\"textfont\":{\"color\":\"white\",\"size\":12},\"type\":\"scatter\",\"x\":[-5],\"y\":[8]},{\"mode\":\"text\",\"text\":\"hitter Djokovic\",\"textfont\":{\"color\":\"white\",\"size\":12},\"type\":\"scatter\",\"x\":[-5],\"y\":[10]},{\"mode\":\"text\",\"text\":\"strokeid 7\",\"textfont\":{\"color\":\"white\",\"size\":12},\"type\":\"scatter\",\"x\":[-5],\"y\":[12]}]},{\"data\":[{\"marker\":{\"color\":\"red\",\"size\":10},\"mode\":\"markers\",\"type\":\"scatter\",\"x\":[3.3110000000000004],\"y\":[-0.188]},{\"marker\":{\"color\":\"cyan\",\"size\":10},\"mode\":\"markers\",\"type\":\"scatter\",\"x\":[6.6160000000000005],\"y\":[25.707]},{\"marker\":{\"color\":\"yellow\",\"size\":10},\"mode\":\"markers\",\"type\":\"scatter\",\"x\":[3.7630000000000003],\"y\":[2.802]},{\"mode\":\"text\",\"text\":\"type topspin\",\"textfont\":{\"color\":\"white\",\"size\":12},\"type\":\"scatter\",\"x\":[-5],\"y\":[6]},{\"mode\":\"text\",\"text\":\"stroke backhand\",\"textfont\":{\"color\":\"white\",\"size\":12},\"type\":\"scatter\",\"x\":[-5],\"y\":[8]},{\"mode\":\"text\",\"text\":\"hitter Djokovic\",\"textfont\":{\"color\":\"white\",\"size\":12},\"type\":\"scatter\",\"x\":[-5],\"y\":[10]},{\"mode\":\"text\",\"text\":\"strokeid 7\",\"textfont\":{\"color\":\"white\",\"size\":12},\"type\":\"scatter\",\"x\":[-5],\"y\":[12]}]},{\"data\":[{\"marker\":{\"color\":\"red\",\"size\":10},\"mode\":\"markers\",\"type\":\"scatter\",\"x\":[3.372],\"y\":[-0.296]},{\"marker\":{\"color\":\"cyan\",\"size\":10},\"mode\":\"markers\",\"type\":\"scatter\",\"x\":[6.812],\"y\":[26.044000000000004]},{\"marker\":{\"color\":\"yellow\",\"size\":10},\"mode\":\"markers\",\"type\":\"scatter\",\"x\":[4.276],\"y\":[5.684]},{\"mode\":\"text\",\"text\":\"type topspin\",\"textfont\":{\"color\":\"white\",\"size\":12},\"type\":\"scatter\",\"x\":[-5],\"y\":[6]},{\"mode\":\"text\",\"text\":\"stroke backhand\",\"textfont\":{\"color\":\"white\",\"size\":12},\"type\":\"scatter\",\"x\":[-5],\"y\":[8]},{\"mode\":\"text\",\"text\":\"hitter Djokovic\",\"textfont\":{\"color\":\"white\",\"size\":12},\"type\":\"scatter\",\"x\":[-5],\"y\":[10]},{\"mode\":\"text\",\"text\":\"strokeid 7\",\"textfont\":{\"color\":\"white\",\"size\":12},\"type\":\"scatter\",\"x\":[-5],\"y\":[12]}]},{\"data\":[{\"marker\":{\"color\":\"red\",\"size\":10},\"mode\":\"markers\",\"type\":\"scatter\",\"x\":[3.433],\"y\":[-0.404]},{\"marker\":{\"color\":\"cyan\",\"size\":10},\"mode\":\"markers\",\"type\":\"scatter\",\"x\":[7.008000000000001],\"y\":[26.381]},{\"marker\":{\"color\":\"yellow\",\"size\":10},\"mode\":\"markers\",\"type\":\"scatter\",\"x\":[4.789000000000001],\"y\":[8.566000000000003]},{\"mode\":\"text\",\"text\":\"type topspin\",\"textfont\":{\"color\":\"white\",\"size\":12},\"type\":\"scatter\",\"x\":[-5],\"y\":[6]},{\"mode\":\"text\",\"text\":\"stroke backhand\",\"textfont\":{\"color\":\"white\",\"size\":12},\"type\":\"scatter\",\"x\":[-5],\"y\":[8]},{\"mode\":\"text\",\"text\":\"hitter Djokovic\",\"textfont\":{\"color\":\"white\",\"size\":12},\"type\":\"scatter\",\"x\":[-5],\"y\":[10]},{\"mode\":\"text\",\"text\":\"strokeid 7\",\"textfont\":{\"color\":\"white\",\"size\":12},\"type\":\"scatter\",\"x\":[-5],\"y\":[12]}]},{\"data\":[{\"marker\":{\"color\":\"red\",\"size\":10},\"mode\":\"markers\",\"type\":\"scatter\",\"x\":[3.4939999999999998],\"y\":[-0.512]},{\"marker\":{\"color\":\"cyan\",\"size\":10},\"mode\":\"markers\",\"type\":\"scatter\",\"x\":[7.204000000000001],\"y\":[26.718]},{\"marker\":{\"color\":\"yellow\",\"size\":10},\"mode\":\"markers\",\"type\":\"scatter\",\"x\":[5.3020000000000005],\"y\":[11.448]},{\"mode\":\"text\",\"text\":\"type topspin\",\"textfont\":{\"color\":\"white\",\"size\":12},\"type\":\"scatter\",\"x\":[-5],\"y\":[6]},{\"mode\":\"text\",\"text\":\"stroke backhand\",\"textfont\":{\"color\":\"white\",\"size\":12},\"type\":\"scatter\",\"x\":[-5],\"y\":[8]},{\"mode\":\"text\",\"text\":\"hitter Djokovic\",\"textfont\":{\"color\":\"white\",\"size\":12},\"type\":\"scatter\",\"x\":[-5],\"y\":[10]},{\"mode\":\"text\",\"text\":\"strokeid 7\",\"textfont\":{\"color\":\"white\",\"size\":12},\"type\":\"scatter\",\"x\":[-5],\"y\":[12]}]},{\"data\":[{\"marker\":{\"color\":\"red\",\"size\":10},\"mode\":\"markers\",\"type\":\"scatter\",\"x\":[3.5549999999999997],\"y\":[-0.62]},{\"marker\":{\"color\":\"cyan\",\"size\":10},\"mode\":\"markers\",\"type\":\"scatter\",\"x\":[7.4],\"y\":[27.055]},{\"marker\":{\"color\":\"yellow\",\"size\":10},\"mode\":\"markers\",\"type\":\"scatter\",\"x\":[5.815],\"y\":[14.33]},{\"mode\":\"text\",\"text\":\"type topspin\",\"textfont\":{\"color\":\"white\",\"size\":12},\"type\":\"scatter\",\"x\":[-5],\"y\":[6]},{\"mode\":\"text\",\"text\":\"stroke backhand\",\"textfont\":{\"color\":\"white\",\"size\":12},\"type\":\"scatter\",\"x\":[-5],\"y\":[8]},{\"mode\":\"text\",\"text\":\"hitter Djokovic\",\"textfont\":{\"color\":\"white\",\"size\":12},\"type\":\"scatter\",\"x\":[-5],\"y\":[10]},{\"mode\":\"text\",\"text\":\"strokeid 7\",\"textfont\":{\"color\":\"white\",\"size\":12},\"type\":\"scatter\",\"x\":[-5],\"y\":[12]}]},{\"data\":[{\"marker\":{\"color\":\"red\",\"size\":10},\"mode\":\"markers\",\"type\":\"scatter\",\"x\":[3.616],\"y\":[-0.7280000000000001]},{\"marker\":{\"color\":\"cyan\",\"size\":10},\"mode\":\"markers\",\"type\":\"scatter\",\"x\":[7.596000000000001],\"y\":[27.392000000000003]},{\"marker\":{\"color\":\"yellow\",\"size\":10},\"mode\":\"markers\",\"type\":\"scatter\",\"x\":[6.328000000000001],\"y\":[17.212000000000003]},{\"mode\":\"text\",\"text\":\"type topspin\",\"textfont\":{\"color\":\"white\",\"size\":12},\"type\":\"scatter\",\"x\":[-5],\"y\":[6]},{\"mode\":\"text\",\"text\":\"stroke backhand\",\"textfont\":{\"color\":\"white\",\"size\":12},\"type\":\"scatter\",\"x\":[-5],\"y\":[8]},{\"mode\":\"text\",\"text\":\"hitter Djokovic\",\"textfont\":{\"color\":\"white\",\"size\":12},\"type\":\"scatter\",\"x\":[-5],\"y\":[10]},{\"mode\":\"text\",\"text\":\"strokeid 7\",\"textfont\":{\"color\":\"white\",\"size\":12},\"type\":\"scatter\",\"x\":[-5],\"y\":[12]}]},{\"data\":[{\"marker\":{\"color\":\"red\",\"size\":10},\"mode\":\"markers\",\"type\":\"scatter\",\"x\":[3.6769999999999996],\"y\":[-0.8360000000000001]},{\"marker\":{\"color\":\"cyan\",\"size\":10},\"mode\":\"markers\",\"type\":\"scatter\",\"x\":[7.792000000000001],\"y\":[27.729]},{\"marker\":{\"color\":\"yellow\",\"size\":10},\"mode\":\"markers\",\"type\":\"scatter\",\"x\":[6.841000000000001],\"y\":[20.094]},{\"mode\":\"text\",\"text\":\"type topspin\",\"textfont\":{\"color\":\"white\",\"size\":12},\"type\":\"scatter\",\"x\":[-5],\"y\":[6]},{\"mode\":\"text\",\"text\":\"stroke backhand\",\"textfont\":{\"color\":\"white\",\"size\":12},\"type\":\"scatter\",\"x\":[-5],\"y\":[8]},{\"mode\":\"text\",\"text\":\"hitter Djokovic\",\"textfont\":{\"color\":\"white\",\"size\":12},\"type\":\"scatter\",\"x\":[-5],\"y\":[10]},{\"mode\":\"text\",\"text\":\"strokeid 7\",\"textfont\":{\"color\":\"white\",\"size\":12},\"type\":\"scatter\",\"x\":[-5],\"y\":[12]}]},{\"data\":[{\"marker\":{\"color\":\"red\",\"size\":10},\"mode\":\"markers\",\"type\":\"scatter\",\"x\":[3.738],\"y\":[-0.944]},{\"marker\":{\"color\":\"cyan\",\"size\":10},\"mode\":\"markers\",\"type\":\"scatter\",\"x\":[7.988],\"y\":[28.066]},{\"marker\":{\"color\":\"yellow\",\"size\":10},\"mode\":\"markers\",\"type\":\"scatter\",\"x\":[7.354000000000001],\"y\":[22.976000000000003]},{\"mode\":\"text\",\"text\":\"type topspin\",\"textfont\":{\"color\":\"white\",\"size\":12},\"type\":\"scatter\",\"x\":[-5],\"y\":[6]},{\"mode\":\"text\",\"text\":\"stroke backhand\",\"textfont\":{\"color\":\"white\",\"size\":12},\"type\":\"scatter\",\"x\":[-5],\"y\":[8]},{\"mode\":\"text\",\"text\":\"hitter Djokovic\",\"textfont\":{\"color\":\"white\",\"size\":12},\"type\":\"scatter\",\"x\":[-5],\"y\":[10]},{\"mode\":\"text\",\"text\":\"strokeid 7\",\"textfont\":{\"color\":\"white\",\"size\":12},\"type\":\"scatter\",\"x\":[-5],\"y\":[12]}]},{\"data\":[{\"marker\":{\"color\":\"red\",\"size\":10},\"mode\":\"markers\",\"type\":\"scatter\",\"x\":[3.7989999999999995],\"y\":[-1.052]},{\"marker\":{\"color\":\"cyan\",\"size\":10},\"mode\":\"markers\",\"type\":\"scatter\",\"x\":[8.184000000000001],\"y\":[28.403]},{\"marker\":{\"color\":\"yellow\",\"size\":10},\"mode\":\"markers\",\"type\":\"scatter\",\"x\":[7.867000000000001],\"y\":[25.858]},{\"mode\":\"text\",\"text\":\"type topspin\",\"textfont\":{\"color\":\"white\",\"size\":12},\"type\":\"scatter\",\"x\":[-5],\"y\":[6]},{\"mode\":\"text\",\"text\":\"stroke backhand\",\"textfont\":{\"color\":\"white\",\"size\":12},\"type\":\"scatter\",\"x\":[-5],\"y\":[8]},{\"mode\":\"text\",\"text\":\"hitter Djokovic\",\"textfont\":{\"color\":\"white\",\"size\":12},\"type\":\"scatter\",\"x\":[-5],\"y\":[10]},{\"mode\":\"text\",\"text\":\"strokeid 7\",\"textfont\":{\"color\":\"white\",\"size\":12},\"type\":\"scatter\",\"x\":[-5],\"y\":[12]}]},{\"data\":[{\"marker\":{\"color\":\"red\",\"size\":10},\"mode\":\"markers\",\"type\":\"scatter\",\"x\":[3.86],\"y\":[-1.16]},{\"marker\":{\"color\":\"cyan\",\"size\":10},\"mode\":\"markers\",\"type\":\"scatter\",\"x\":[8.38],\"y\":[28.74]},{\"marker\":{\"color\":\"yellow\",\"size\":10},\"mode\":\"markers\",\"type\":\"scatter\",\"x\":[8.38],\"y\":[28.74]},{\"mode\":\"text\",\"text\":\"type topspin\",\"textfont\":{\"color\":\"white\",\"size\":12},\"type\":\"scatter\",\"x\":[-5],\"y\":[6]},{\"mode\":\"text\",\"text\":\"stroke forehand\",\"textfont\":{\"color\":\"white\",\"size\":12},\"type\":\"scatter\",\"x\":[-5],\"y\":[8]},{\"mode\":\"text\",\"text\":\"hitter Nadal\",\"textfont\":{\"color\":\"white\",\"size\":12},\"type\":\"scatter\",\"x\":[-5],\"y\":[10]},{\"mode\":\"text\",\"text\":\"strokeid 8\",\"textfont\":{\"color\":\"white\",\"size\":12},\"type\":\"scatter\",\"x\":[-5],\"y\":[12]}]},{\"data\":[{\"marker\":{\"color\":\"red\",\"size\":10},\"mode\":\"markers\",\"type\":\"scatter\",\"x\":[3.585],\"y\":[-1.106]},{\"marker\":{\"color\":\"cyan\",\"size\":10},\"mode\":\"markers\",\"type\":\"scatter\",\"x\":[8.254000000000001],\"y\":[28.499]},{\"marker\":{\"color\":\"yellow\",\"size\":10},\"mode\":\"markers\",\"type\":\"scatter\",\"x\":[7.6530000000000005],\"y\":[25.804]},{\"mode\":\"text\",\"text\":\"type topspin\",\"textfont\":{\"color\":\"white\",\"size\":12},\"type\":\"scatter\",\"x\":[-5],\"y\":[6]},{\"mode\":\"text\",\"text\":\"stroke forehand\",\"textfont\":{\"color\":\"white\",\"size\":12},\"type\":\"scatter\",\"x\":[-5],\"y\":[8]},{\"mode\":\"text\",\"text\":\"hitter Nadal\",\"textfont\":{\"color\":\"white\",\"size\":12},\"type\":\"scatter\",\"x\":[-5],\"y\":[10]},{\"mode\":\"text\",\"text\":\"strokeid 8\",\"textfont\":{\"color\":\"white\",\"size\":12},\"type\":\"scatter\",\"x\":[-5],\"y\":[12]}]},{\"data\":[{\"marker\":{\"color\":\"red\",\"size\":10},\"mode\":\"markers\",\"type\":\"scatter\",\"x\":[3.31],\"y\":[-1.052]},{\"marker\":{\"color\":\"cyan\",\"size\":10},\"mode\":\"markers\",\"type\":\"scatter\",\"x\":[8.128],\"y\":[28.258000000000003]},{\"marker\":{\"color\":\"yellow\",\"size\":10},\"mode\":\"markers\",\"type\":\"scatter\",\"x\":[6.926000000000001],\"y\":[22.868000000000002]},{\"mode\":\"text\",\"text\":\"type topspin\",\"textfont\":{\"color\":\"white\",\"size\":12},\"type\":\"scatter\",\"x\":[-5],\"y\":[6]},{\"mode\":\"text\",\"text\":\"stroke forehand\",\"textfont\":{\"color\":\"white\",\"size\":12},\"type\":\"scatter\",\"x\":[-5],\"y\":[8]},{\"mode\":\"text\",\"text\":\"hitter Nadal\",\"textfont\":{\"color\":\"white\",\"size\":12},\"type\":\"scatter\",\"x\":[-5],\"y\":[10]},{\"mode\":\"text\",\"text\":\"strokeid 8\",\"textfont\":{\"color\":\"white\",\"size\":12},\"type\":\"scatter\",\"x\":[-5],\"y\":[12]}]},{\"data\":[{\"marker\":{\"color\":\"red\",\"size\":10},\"mode\":\"markers\",\"type\":\"scatter\",\"x\":[3.035],\"y\":[-0.998]},{\"marker\":{\"color\":\"cyan\",\"size\":10},\"mode\":\"markers\",\"type\":\"scatter\",\"x\":[8.002],\"y\":[28.017]},{\"marker\":{\"color\":\"yellow\",\"size\":10},\"mode\":\"markers\",\"type\":\"scatter\",\"x\":[6.199000000000001],\"y\":[19.932]},{\"mode\":\"text\",\"text\":\"type topspin\",\"textfont\":{\"color\":\"white\",\"size\":12},\"type\":\"scatter\",\"x\":[-5],\"y\":[6]},{\"mode\":\"text\",\"text\":\"stroke forehand\",\"textfont\":{\"color\":\"white\",\"size\":12},\"type\":\"scatter\",\"x\":[-5],\"y\":[8]},{\"mode\":\"text\",\"text\":\"hitter Nadal\",\"textfont\":{\"color\":\"white\",\"size\":12},\"type\":\"scatter\",\"x\":[-5],\"y\":[10]},{\"mode\":\"text\",\"text\":\"strokeid 8\",\"textfont\":{\"color\":\"white\",\"size\":12},\"type\":\"scatter\",\"x\":[-5],\"y\":[12]}]},{\"data\":[{\"marker\":{\"color\":\"red\",\"size\":10},\"mode\":\"markers\",\"type\":\"scatter\",\"x\":[2.76],\"y\":[-0.944]},{\"marker\":{\"color\":\"cyan\",\"size\":10},\"mode\":\"markers\",\"type\":\"scatter\",\"x\":[7.876000000000001],\"y\":[27.776]},{\"marker\":{\"color\":\"yellow\",\"size\":10},\"mode\":\"markers\",\"type\":\"scatter\",\"x\":[5.472],\"y\":[16.996]},{\"mode\":\"text\",\"text\":\"type topspin\",\"textfont\":{\"color\":\"white\",\"size\":12},\"type\":\"scatter\",\"x\":[-5],\"y\":[6]},{\"mode\":\"text\",\"text\":\"stroke forehand\",\"textfont\":{\"color\":\"white\",\"size\":12},\"type\":\"scatter\",\"x\":[-5],\"y\":[8]},{\"mode\":\"text\",\"text\":\"hitter Nadal\",\"textfont\":{\"color\":\"white\",\"size\":12},\"type\":\"scatter\",\"x\":[-5],\"y\":[10]},{\"mode\":\"text\",\"text\":\"strokeid 8\",\"textfont\":{\"color\":\"white\",\"size\":12},\"type\":\"scatter\",\"x\":[-5],\"y\":[12]}]},{\"data\":[{\"marker\":{\"color\":\"red\",\"size\":10},\"mode\":\"markers\",\"type\":\"scatter\",\"x\":[2.485],\"y\":[-0.8899999999999999]},{\"marker\":{\"color\":\"cyan\",\"size\":10},\"mode\":\"markers\",\"type\":\"scatter\",\"x\":[7.75],\"y\":[27.534999999999997]},{\"marker\":{\"color\":\"yellow\",\"size\":10},\"mode\":\"markers\",\"type\":\"scatter\",\"x\":[4.745],\"y\":[14.059999999999999]},{\"mode\":\"text\",\"text\":\"type topspin\",\"textfont\":{\"color\":\"white\",\"size\":12},\"type\":\"scatter\",\"x\":[-5],\"y\":[6]},{\"mode\":\"text\",\"text\":\"stroke forehand\",\"textfont\":{\"color\":\"white\",\"size\":12},\"type\":\"scatter\",\"x\":[-5],\"y\":[8]},{\"mode\":\"text\",\"text\":\"hitter Nadal\",\"textfont\":{\"color\":\"white\",\"size\":12},\"type\":\"scatter\",\"x\":[-5],\"y\":[10]},{\"mode\":\"text\",\"text\":\"strokeid 8\",\"textfont\":{\"color\":\"white\",\"size\":12},\"type\":\"scatter\",\"x\":[-5],\"y\":[12]}]},{\"data\":[{\"marker\":{\"color\":\"red\",\"size\":10},\"mode\":\"markers\",\"type\":\"scatter\",\"x\":[2.21],\"y\":[-0.8359999999999999]},{\"marker\":{\"color\":\"cyan\",\"size\":10},\"mode\":\"markers\",\"type\":\"scatter\",\"x\":[7.6240000000000006],\"y\":[27.293999999999997]},{\"marker\":{\"color\":\"yellow\",\"size\":10},\"mode\":\"markers\",\"type\":\"scatter\",\"x\":[4.018],\"y\":[11.123999999999997]},{\"mode\":\"text\",\"text\":\"type topspin\",\"textfont\":{\"color\":\"white\",\"size\":12},\"type\":\"scatter\",\"x\":[-5],\"y\":[6]},{\"mode\":\"text\",\"text\":\"stroke forehand\",\"textfont\":{\"color\":\"white\",\"size\":12},\"type\":\"scatter\",\"x\":[-5],\"y\":[8]},{\"mode\":\"text\",\"text\":\"hitter Nadal\",\"textfont\":{\"color\":\"white\",\"size\":12},\"type\":\"scatter\",\"x\":[-5],\"y\":[10]},{\"mode\":\"text\",\"text\":\"strokeid 8\",\"textfont\":{\"color\":\"white\",\"size\":12},\"type\":\"scatter\",\"x\":[-5],\"y\":[12]}]},{\"data\":[{\"marker\":{\"color\":\"red\",\"size\":10},\"mode\":\"markers\",\"type\":\"scatter\",\"x\":[1.9349999999999998],\"y\":[-0.782]},{\"marker\":{\"color\":\"cyan\",\"size\":10},\"mode\":\"markers\",\"type\":\"scatter\",\"x\":[7.498000000000001],\"y\":[27.052999999999997]},{\"marker\":{\"color\":\"yellow\",\"size\":10},\"mode\":\"markers\",\"type\":\"scatter\",\"x\":[3.291],\"y\":[8.187999999999999]},{\"mode\":\"text\",\"text\":\"type topspin\",\"textfont\":{\"color\":\"white\",\"size\":12},\"type\":\"scatter\",\"x\":[-5],\"y\":[6]},{\"mode\":\"text\",\"text\":\"stroke forehand\",\"textfont\":{\"color\":\"white\",\"size\":12},\"type\":\"scatter\",\"x\":[-5],\"y\":[8]},{\"mode\":\"text\",\"text\":\"hitter Nadal\",\"textfont\":{\"color\":\"white\",\"size\":12},\"type\":\"scatter\",\"x\":[-5],\"y\":[10]},{\"mode\":\"text\",\"text\":\"strokeid 8\",\"textfont\":{\"color\":\"white\",\"size\":12},\"type\":\"scatter\",\"x\":[-5],\"y\":[12]}]},{\"data\":[{\"marker\":{\"color\":\"red\",\"size\":10},\"mode\":\"markers\",\"type\":\"scatter\",\"x\":[1.66],\"y\":[-0.728]},{\"marker\":{\"color\":\"cyan\",\"size\":10},\"mode\":\"markers\",\"type\":\"scatter\",\"x\":[7.372],\"y\":[26.811999999999998]},{\"marker\":{\"color\":\"yellow\",\"size\":10},\"mode\":\"markers\",\"type\":\"scatter\",\"x\":[2.564],\"y\":[5.251999999999999]},{\"mode\":\"text\",\"text\":\"type topspin\",\"textfont\":{\"color\":\"white\",\"size\":12},\"type\":\"scatter\",\"x\":[-5],\"y\":[6]},{\"mode\":\"text\",\"text\":\"stroke forehand\",\"textfont\":{\"color\":\"white\",\"size\":12},\"type\":\"scatter\",\"x\":[-5],\"y\":[8]},{\"mode\":\"text\",\"text\":\"hitter Nadal\",\"textfont\":{\"color\":\"white\",\"size\":12},\"type\":\"scatter\",\"x\":[-5],\"y\":[10]},{\"mode\":\"text\",\"text\":\"strokeid 8\",\"textfont\":{\"color\":\"white\",\"size\":12},\"type\":\"scatter\",\"x\":[-5],\"y\":[12]}]},{\"data\":[{\"marker\":{\"color\":\"red\",\"size\":10},\"mode\":\"markers\",\"type\":\"scatter\",\"x\":[1.385],\"y\":[-0.674]},{\"marker\":{\"color\":\"cyan\",\"size\":10},\"mode\":\"markers\",\"type\":\"scatter\",\"x\":[7.246],\"y\":[26.570999999999998]},{\"marker\":{\"color\":\"yellow\",\"size\":10},\"mode\":\"markers\",\"type\":\"scatter\",\"x\":[1.837],\"y\":[2.315999999999999]},{\"mode\":\"text\",\"text\":\"type topspin\",\"textfont\":{\"color\":\"white\",\"size\":12},\"type\":\"scatter\",\"x\":[-5],\"y\":[6]},{\"mode\":\"text\",\"text\":\"stroke forehand\",\"textfont\":{\"color\":\"white\",\"size\":12},\"type\":\"scatter\",\"x\":[-5],\"y\":[8]},{\"mode\":\"text\",\"text\":\"hitter Nadal\",\"textfont\":{\"color\":\"white\",\"size\":12},\"type\":\"scatter\",\"x\":[-5],\"y\":[10]},{\"mode\":\"text\",\"text\":\"strokeid 8\",\"textfont\":{\"color\":\"white\",\"size\":12},\"type\":\"scatter\",\"x\":[-5],\"y\":[12]}]},{\"data\":[{\"marker\":{\"color\":\"red\",\"size\":10},\"mode\":\"markers\",\"type\":\"scatter\",\"x\":[1.11],\"y\":[-0.62]},{\"marker\":{\"color\":\"cyan\",\"size\":10},\"mode\":\"markers\",\"type\":\"scatter\",\"x\":[7.12],\"y\":[26.33]},{\"marker\":{\"color\":\"yellow\",\"size\":10},\"mode\":\"markers\",\"type\":\"scatter\",\"x\":[1.11],\"y\":[-0.62]},{\"mode\":\"text\",\"text\":\"type topspin\",\"textfont\":{\"color\":\"white\",\"size\":12},\"type\":\"scatter\",\"x\":[-5],\"y\":[6]},{\"mode\":\"text\",\"text\":\"stroke backhand\",\"textfont\":{\"color\":\"white\",\"size\":12},\"type\":\"scatter\",\"x\":[-5],\"y\":[8]},{\"mode\":\"text\",\"text\":\"hitter Djokovic\",\"textfont\":{\"color\":\"white\",\"size\":12},\"type\":\"scatter\",\"x\":[-5],\"y\":[10]},{\"mode\":\"text\",\"text\":\"strokeid 9\",\"textfont\":{\"color\":\"white\",\"size\":12},\"type\":\"scatter\",\"x\":[-5],\"y\":[12]}]},{\"data\":[{\"marker\":{\"color\":\"red\",\"size\":10},\"mode\":\"markers\",\"type\":\"scatter\",\"x\":[1.2040000000000002],\"y\":[-0.629]},{\"marker\":{\"color\":\"cyan\",\"size\":10},\"mode\":\"markers\",\"type\":\"scatter\",\"x\":[6.711],\"y\":[26.404]},{\"marker\":{\"color\":\"yellow\",\"size\":10},\"mode\":\"markers\",\"type\":\"scatter\",\"x\":[1.302],\"y\":[2.149]},{\"mode\":\"text\",\"text\":\"type topspin\",\"textfont\":{\"color\":\"white\",\"size\":12},\"type\":\"scatter\",\"x\":[-5],\"y\":[6]},{\"mode\":\"text\",\"text\":\"stroke backhand\",\"textfont\":{\"color\":\"white\",\"size\":12},\"type\":\"scatter\",\"x\":[-5],\"y\":[8]},{\"mode\":\"text\",\"text\":\"hitter Djokovic\",\"textfont\":{\"color\":\"white\",\"size\":12},\"type\":\"scatter\",\"x\":[-5],\"y\":[10]},{\"mode\":\"text\",\"text\":\"strokeid 9\",\"textfont\":{\"color\":\"white\",\"size\":12},\"type\":\"scatter\",\"x\":[-5],\"y\":[12]}]},{\"data\":[{\"marker\":{\"color\":\"red\",\"size\":10},\"mode\":\"markers\",\"type\":\"scatter\",\"x\":[1.298],\"y\":[-0.638]},{\"marker\":{\"color\":\"cyan\",\"size\":10},\"mode\":\"markers\",\"type\":\"scatter\",\"x\":[6.3020000000000005],\"y\":[26.478]},{\"marker\":{\"color\":\"yellow\",\"size\":10},\"mode\":\"markers\",\"type\":\"scatter\",\"x\":[1.4940000000000002],\"y\":[4.918000000000001]},{\"mode\":\"text\",\"text\":\"type topspin\",\"textfont\":{\"color\":\"white\",\"size\":12},\"type\":\"scatter\",\"x\":[-5],\"y\":[6]},{\"mode\":\"text\",\"text\":\"stroke backhand\",\"textfont\":{\"color\":\"white\",\"size\":12},\"type\":\"scatter\",\"x\":[-5],\"y\":[8]},{\"mode\":\"text\",\"text\":\"hitter Djokovic\",\"textfont\":{\"color\":\"white\",\"size\":12},\"type\":\"scatter\",\"x\":[-5],\"y\":[10]},{\"mode\":\"text\",\"text\":\"strokeid 9\",\"textfont\":{\"color\":\"white\",\"size\":12},\"type\":\"scatter\",\"x\":[-5],\"y\":[12]}]},{\"data\":[{\"marker\":{\"color\":\"red\",\"size\":10},\"mode\":\"markers\",\"type\":\"scatter\",\"x\":[1.392],\"y\":[-0.647]},{\"marker\":{\"color\":\"cyan\",\"size\":10},\"mode\":\"markers\",\"type\":\"scatter\",\"x\":[5.893],\"y\":[26.552]},{\"marker\":{\"color\":\"yellow\",\"size\":10},\"mode\":\"markers\",\"type\":\"scatter\",\"x\":[1.686],\"y\":[7.687]},{\"mode\":\"text\",\"text\":\"type topspin\",\"textfont\":{\"color\":\"white\",\"size\":12},\"type\":\"scatter\",\"x\":[-5],\"y\":[6]},{\"mode\":\"text\",\"text\":\"stroke backhand\",\"textfont\":{\"color\":\"white\",\"size\":12},\"type\":\"scatter\",\"x\":[-5],\"y\":[8]},{\"mode\":\"text\",\"text\":\"hitter Djokovic\",\"textfont\":{\"color\":\"white\",\"size\":12},\"type\":\"scatter\",\"x\":[-5],\"y\":[10]},{\"mode\":\"text\",\"text\":\"strokeid 9\",\"textfont\":{\"color\":\"white\",\"size\":12},\"type\":\"scatter\",\"x\":[-5],\"y\":[12]}]},{\"data\":[{\"marker\":{\"color\":\"red\",\"size\":10},\"mode\":\"markers\",\"type\":\"scatter\",\"x\":[1.486],\"y\":[-0.6559999999999999]},{\"marker\":{\"color\":\"cyan\",\"size\":10},\"mode\":\"markers\",\"type\":\"scatter\",\"x\":[5.484],\"y\":[26.625999999999998]},{\"marker\":{\"color\":\"yellow\",\"size\":10},\"mode\":\"markers\",\"type\":\"scatter\",\"x\":[1.8780000000000001],\"y\":[10.456000000000001]},{\"mode\":\"text\",\"text\":\"type topspin\",\"textfont\":{\"color\":\"white\",\"size\":12},\"type\":\"scatter\",\"x\":[-5],\"y\":[6]},{\"mode\":\"text\",\"text\":\"stroke backhand\",\"textfont\":{\"color\":\"white\",\"size\":12},\"type\":\"scatter\",\"x\":[-5],\"y\":[8]},{\"mode\":\"text\",\"text\":\"hitter Djokovic\",\"textfont\":{\"color\":\"white\",\"size\":12},\"type\":\"scatter\",\"x\":[-5],\"y\":[10]},{\"mode\":\"text\",\"text\":\"strokeid 9\",\"textfont\":{\"color\":\"white\",\"size\":12},\"type\":\"scatter\",\"x\":[-5],\"y\":[12]}]},{\"data\":[{\"marker\":{\"color\":\"red\",\"size\":10},\"mode\":\"markers\",\"type\":\"scatter\",\"x\":[1.58],\"y\":[-0.665]},{\"marker\":{\"color\":\"cyan\",\"size\":10},\"mode\":\"markers\",\"type\":\"scatter\",\"x\":[5.075],\"y\":[26.7]},{\"marker\":{\"color\":\"yellow\",\"size\":10},\"mode\":\"markers\",\"type\":\"scatter\",\"x\":[2.07],\"y\":[13.225]},{\"mode\":\"text\",\"text\":\"type topspin\",\"textfont\":{\"color\":\"white\",\"size\":12},\"type\":\"scatter\",\"x\":[-5],\"y\":[6]},{\"mode\":\"text\",\"text\":\"stroke backhand\",\"textfont\":{\"color\":\"white\",\"size\":12},\"type\":\"scatter\",\"x\":[-5],\"y\":[8]},{\"mode\":\"text\",\"text\":\"hitter Djokovic\",\"textfont\":{\"color\":\"white\",\"size\":12},\"type\":\"scatter\",\"x\":[-5],\"y\":[10]},{\"mode\":\"text\",\"text\":\"strokeid 9\",\"textfont\":{\"color\":\"white\",\"size\":12},\"type\":\"scatter\",\"x\":[-5],\"y\":[12]}]},{\"data\":[{\"marker\":{\"color\":\"red\",\"size\":10},\"mode\":\"markers\",\"type\":\"scatter\",\"x\":[1.674],\"y\":[-0.6739999999999999]},{\"marker\":{\"color\":\"cyan\",\"size\":10},\"mode\":\"markers\",\"type\":\"scatter\",\"x\":[4.6659999999999995],\"y\":[26.773999999999997]},{\"marker\":{\"color\":\"yellow\",\"size\":10},\"mode\":\"markers\",\"type\":\"scatter\",\"x\":[2.262],\"y\":[15.994000000000002]},{\"mode\":\"text\",\"text\":\"type topspin\",\"textfont\":{\"color\":\"white\",\"size\":12},\"type\":\"scatter\",\"x\":[-5],\"y\":[6]},{\"mode\":\"text\",\"text\":\"stroke backhand\",\"textfont\":{\"color\":\"white\",\"size\":12},\"type\":\"scatter\",\"x\":[-5],\"y\":[8]},{\"mode\":\"text\",\"text\":\"hitter Djokovic\",\"textfont\":{\"color\":\"white\",\"size\":12},\"type\":\"scatter\",\"x\":[-5],\"y\":[10]},{\"mode\":\"text\",\"text\":\"strokeid 9\",\"textfont\":{\"color\":\"white\",\"size\":12},\"type\":\"scatter\",\"x\":[-5],\"y\":[12]}]},{\"data\":[{\"marker\":{\"color\":\"red\",\"size\":10},\"mode\":\"markers\",\"type\":\"scatter\",\"x\":[1.768],\"y\":[-0.6829999999999999]},{\"marker\":{\"color\":\"cyan\",\"size\":10},\"mode\":\"markers\",\"type\":\"scatter\",\"x\":[4.257],\"y\":[26.848]},{\"marker\":{\"color\":\"yellow\",\"size\":10},\"mode\":\"markers\",\"type\":\"scatter\",\"x\":[2.4539999999999997],\"y\":[18.763]},{\"mode\":\"text\",\"text\":\"type topspin\",\"textfont\":{\"color\":\"white\",\"size\":12},\"type\":\"scatter\",\"x\":[-5],\"y\":[6]},{\"mode\":\"text\",\"text\":\"stroke backhand\",\"textfont\":{\"color\":\"white\",\"size\":12},\"type\":\"scatter\",\"x\":[-5],\"y\":[8]},{\"mode\":\"text\",\"text\":\"hitter Djokovic\",\"textfont\":{\"color\":\"white\",\"size\":12},\"type\":\"scatter\",\"x\":[-5],\"y\":[10]},{\"mode\":\"text\",\"text\":\"strokeid 9\",\"textfont\":{\"color\":\"white\",\"size\":12},\"type\":\"scatter\",\"x\":[-5],\"y\":[12]}]},{\"data\":[{\"marker\":{\"color\":\"red\",\"size\":10},\"mode\":\"markers\",\"type\":\"scatter\",\"x\":[1.8619999999999999],\"y\":[-0.692]},{\"marker\":{\"color\":\"cyan\",\"size\":10},\"mode\":\"markers\",\"type\":\"scatter\",\"x\":[3.848],\"y\":[26.922]},{\"marker\":{\"color\":\"yellow\",\"size\":10},\"mode\":\"markers\",\"type\":\"scatter\",\"x\":[2.646],\"y\":[21.532000000000004]},{\"mode\":\"text\",\"text\":\"type topspin\",\"textfont\":{\"color\":\"white\",\"size\":12},\"type\":\"scatter\",\"x\":[-5],\"y\":[6]},{\"mode\":\"text\",\"text\":\"stroke backhand\",\"textfont\":{\"color\":\"white\",\"size\":12},\"type\":\"scatter\",\"x\":[-5],\"y\":[8]},{\"mode\":\"text\",\"text\":\"hitter Djokovic\",\"textfont\":{\"color\":\"white\",\"size\":12},\"type\":\"scatter\",\"x\":[-5],\"y\":[10]},{\"mode\":\"text\",\"text\":\"strokeid 9\",\"textfont\":{\"color\":\"white\",\"size\":12},\"type\":\"scatter\",\"x\":[-5],\"y\":[12]}]},{\"data\":[{\"marker\":{\"color\":\"red\",\"size\":10},\"mode\":\"markers\",\"type\":\"scatter\",\"x\":[1.956],\"y\":[-0.701]},{\"marker\":{\"color\":\"cyan\",\"size\":10},\"mode\":\"markers\",\"type\":\"scatter\",\"x\":[3.4389999999999996],\"y\":[26.996]},{\"marker\":{\"color\":\"yellow\",\"size\":10},\"mode\":\"markers\",\"type\":\"scatter\",\"x\":[2.838],\"y\":[24.301]},{\"mode\":\"text\",\"text\":\"type topspin\",\"textfont\":{\"color\":\"white\",\"size\":12},\"type\":\"scatter\",\"x\":[-5],\"y\":[6]},{\"mode\":\"text\",\"text\":\"stroke backhand\",\"textfont\":{\"color\":\"white\",\"size\":12},\"type\":\"scatter\",\"x\":[-5],\"y\":[8]},{\"mode\":\"text\",\"text\":\"hitter Djokovic\",\"textfont\":{\"color\":\"white\",\"size\":12},\"type\":\"scatter\",\"x\":[-5],\"y\":[10]},{\"mode\":\"text\",\"text\":\"strokeid 9\",\"textfont\":{\"color\":\"white\",\"size\":12},\"type\":\"scatter\",\"x\":[-5],\"y\":[12]}]},{\"data\":[{\"marker\":{\"color\":\"red\",\"size\":10},\"mode\":\"markers\",\"type\":\"scatter\",\"x\":[1.956],\"y\":[-0.701]},{\"marker\":{\"color\":\"cyan\",\"size\":10},\"mode\":\"markers\",\"type\":\"scatter\",\"x\":[3.4389999999999996],\"y\":[26.996]},{\"marker\":{\"color\":\"yellow\",\"size\":10},\"mode\":\"markers\",\"type\":\"scatter\",\"x\":[3.03],\"y\":[27.07]},{\"mode\":\"text\",\"text\":\"type slice\",\"textfont\":{\"color\":\"white\",\"size\":12},\"type\":\"scatter\",\"x\":[-5],\"y\":[6]},{\"mode\":\"text\",\"text\":\"stroke backhand\",\"textfont\":{\"color\":\"white\",\"size\":12},\"type\":\"scatter\",\"x\":[-5],\"y\":[8]},{\"mode\":\"text\",\"text\":\"hitter Nadal\",\"textfont\":{\"color\":\"white\",\"size\":12},\"type\":\"scatter\",\"x\":[-5],\"y\":[10]},{\"mode\":\"text\",\"text\":\"strokeid 10\",\"textfont\":{\"color\":\"white\",\"size\":12},\"type\":\"scatter\",\"x\":[-5],\"y\":[12]}]},{\"data\":[{\"marker\":{\"color\":\"red\",\"size\":10},\"mode\":\"markers\",\"type\":\"scatter\",\"x\":[1.956],\"y\":[-0.701]},{\"marker\":{\"color\":\"cyan\",\"size\":10},\"mode\":\"markers\",\"type\":\"scatter\",\"x\":[3.4389999999999996],\"y\":[26.996]},{\"marker\":{\"color\":\"yellow\",\"size\":10},\"mode\":\"markers\",\"type\":\"scatter\",\"x\":[3.368],\"y\":[25.641]},{\"mode\":\"text\",\"text\":\"type slice\",\"textfont\":{\"color\":\"white\",\"size\":12},\"type\":\"scatter\",\"x\":[-5],\"y\":[6]},{\"mode\":\"text\",\"text\":\"stroke backhand\",\"textfont\":{\"color\":\"white\",\"size\":12},\"type\":\"scatter\",\"x\":[-5],\"y\":[8]},{\"mode\":\"text\",\"text\":\"hitter Nadal\",\"textfont\":{\"color\":\"white\",\"size\":12},\"type\":\"scatter\",\"x\":[-5],\"y\":[10]},{\"mode\":\"text\",\"text\":\"strokeid 10\",\"textfont\":{\"color\":\"white\",\"size\":12},\"type\":\"scatter\",\"x\":[-5],\"y\":[12]}]},{\"data\":[{\"marker\":{\"color\":\"red\",\"size\":10},\"mode\":\"markers\",\"type\":\"scatter\",\"x\":[1.956],\"y\":[-0.701]},{\"marker\":{\"color\":\"cyan\",\"size\":10},\"mode\":\"markers\",\"type\":\"scatter\",\"x\":[3.4389999999999996],\"y\":[26.996]},{\"marker\":{\"color\":\"yellow\",\"size\":10},\"mode\":\"markers\",\"type\":\"scatter\",\"x\":[3.706],\"y\":[24.212000000000003]},{\"mode\":\"text\",\"text\":\"type slice\",\"textfont\":{\"color\":\"white\",\"size\":12},\"type\":\"scatter\",\"x\":[-5],\"y\":[6]},{\"mode\":\"text\",\"text\":\"stroke backhand\",\"textfont\":{\"color\":\"white\",\"size\":12},\"type\":\"scatter\",\"x\":[-5],\"y\":[8]},{\"mode\":\"text\",\"text\":\"hitter Nadal\",\"textfont\":{\"color\":\"white\",\"size\":12},\"type\":\"scatter\",\"x\":[-5],\"y\":[10]},{\"mode\":\"text\",\"text\":\"strokeid 10\",\"textfont\":{\"color\":\"white\",\"size\":12},\"type\":\"scatter\",\"x\":[-5],\"y\":[12]}]},{\"data\":[{\"marker\":{\"color\":\"red\",\"size\":10},\"mode\":\"markers\",\"type\":\"scatter\",\"x\":[1.956],\"y\":[-0.701]},{\"marker\":{\"color\":\"cyan\",\"size\":10},\"mode\":\"markers\",\"type\":\"scatter\",\"x\":[3.4389999999999996],\"y\":[26.996]},{\"marker\":{\"color\":\"yellow\",\"size\":10},\"mode\":\"markers\",\"type\":\"scatter\",\"x\":[4.044],\"y\":[22.782999999999998]},{\"mode\":\"text\",\"text\":\"type slice\",\"textfont\":{\"color\":\"white\",\"size\":12},\"type\":\"scatter\",\"x\":[-5],\"y\":[6]},{\"mode\":\"text\",\"text\":\"stroke backhand\",\"textfont\":{\"color\":\"white\",\"size\":12},\"type\":\"scatter\",\"x\":[-5],\"y\":[8]},{\"mode\":\"text\",\"text\":\"hitter Nadal\",\"textfont\":{\"color\":\"white\",\"size\":12},\"type\":\"scatter\",\"x\":[-5],\"y\":[10]},{\"mode\":\"text\",\"text\":\"strokeid 10\",\"textfont\":{\"color\":\"white\",\"size\":12},\"type\":\"scatter\",\"x\":[-5],\"y\":[12]}]},{\"data\":[{\"marker\":{\"color\":\"red\",\"size\":10},\"mode\":\"markers\",\"type\":\"scatter\",\"x\":[1.956],\"y\":[-0.701]},{\"marker\":{\"color\":\"cyan\",\"size\":10},\"mode\":\"markers\",\"type\":\"scatter\",\"x\":[3.4389999999999996],\"y\":[26.996]},{\"marker\":{\"color\":\"yellow\",\"size\":10},\"mode\":\"markers\",\"type\":\"scatter\",\"x\":[4.382],\"y\":[21.354]},{\"mode\":\"text\",\"text\":\"type slice\",\"textfont\":{\"color\":\"white\",\"size\":12},\"type\":\"scatter\",\"x\":[-5],\"y\":[6]},{\"mode\":\"text\",\"text\":\"stroke backhand\",\"textfont\":{\"color\":\"white\",\"size\":12},\"type\":\"scatter\",\"x\":[-5],\"y\":[8]},{\"mode\":\"text\",\"text\":\"hitter Nadal\",\"textfont\":{\"color\":\"white\",\"size\":12},\"type\":\"scatter\",\"x\":[-5],\"y\":[10]},{\"mode\":\"text\",\"text\":\"strokeid 10\",\"textfont\":{\"color\":\"white\",\"size\":12},\"type\":\"scatter\",\"x\":[-5],\"y\":[12]}]},{\"data\":[{\"marker\":{\"color\":\"red\",\"size\":10},\"mode\":\"markers\",\"type\":\"scatter\",\"x\":[1.956],\"y\":[-0.701]},{\"marker\":{\"color\":\"cyan\",\"size\":10},\"mode\":\"markers\",\"type\":\"scatter\",\"x\":[3.4389999999999996],\"y\":[26.996]},{\"marker\":{\"color\":\"yellow\",\"size\":10},\"mode\":\"markers\",\"type\":\"scatter\",\"x\":[4.72],\"y\":[19.925]},{\"mode\":\"text\",\"text\":\"type slice\",\"textfont\":{\"color\":\"white\",\"size\":12},\"type\":\"scatter\",\"x\":[-5],\"y\":[6]},{\"mode\":\"text\",\"text\":\"stroke backhand\",\"textfont\":{\"color\":\"white\",\"size\":12},\"type\":\"scatter\",\"x\":[-5],\"y\":[8]},{\"mode\":\"text\",\"text\":\"hitter Nadal\",\"textfont\":{\"color\":\"white\",\"size\":12},\"type\":\"scatter\",\"x\":[-5],\"y\":[10]},{\"mode\":\"text\",\"text\":\"strokeid 10\",\"textfont\":{\"color\":\"white\",\"size\":12},\"type\":\"scatter\",\"x\":[-5],\"y\":[12]}]},{\"data\":[{\"marker\":{\"color\":\"red\",\"size\":10},\"mode\":\"markers\",\"type\":\"scatter\",\"x\":[1.956],\"y\":[-0.701]},{\"marker\":{\"color\":\"cyan\",\"size\":10},\"mode\":\"markers\",\"type\":\"scatter\",\"x\":[3.4389999999999996],\"y\":[26.996]},{\"marker\":{\"color\":\"yellow\",\"size\":10},\"mode\":\"markers\",\"type\":\"scatter\",\"x\":[5.058],\"y\":[18.496]},{\"mode\":\"text\",\"text\":\"type slice\",\"textfont\":{\"color\":\"white\",\"size\":12},\"type\":\"scatter\",\"x\":[-5],\"y\":[6]},{\"mode\":\"text\",\"text\":\"stroke backhand\",\"textfont\":{\"color\":\"white\",\"size\":12},\"type\":\"scatter\",\"x\":[-5],\"y\":[8]},{\"mode\":\"text\",\"text\":\"hitter Nadal\",\"textfont\":{\"color\":\"white\",\"size\":12},\"type\":\"scatter\",\"x\":[-5],\"y\":[10]},{\"mode\":\"text\",\"text\":\"strokeid 10\",\"textfont\":{\"color\":\"white\",\"size\":12},\"type\":\"scatter\",\"x\":[-5],\"y\":[12]}]},{\"data\":[{\"marker\":{\"color\":\"red\",\"size\":10},\"mode\":\"markers\",\"type\":\"scatter\",\"x\":[1.956],\"y\":[-0.701]},{\"marker\":{\"color\":\"cyan\",\"size\":10},\"mode\":\"markers\",\"type\":\"scatter\",\"x\":[3.4389999999999996],\"y\":[26.996]},{\"marker\":{\"color\":\"yellow\",\"size\":10},\"mode\":\"markers\",\"type\":\"scatter\",\"x\":[5.396],\"y\":[17.067]},{\"mode\":\"text\",\"text\":\"type slice\",\"textfont\":{\"color\":\"white\",\"size\":12},\"type\":\"scatter\",\"x\":[-5],\"y\":[6]},{\"mode\":\"text\",\"text\":\"stroke backhand\",\"textfont\":{\"color\":\"white\",\"size\":12},\"type\":\"scatter\",\"x\":[-5],\"y\":[8]},{\"mode\":\"text\",\"text\":\"hitter Nadal\",\"textfont\":{\"color\":\"white\",\"size\":12},\"type\":\"scatter\",\"x\":[-5],\"y\":[10]},{\"mode\":\"text\",\"text\":\"strokeid 10\",\"textfont\":{\"color\":\"white\",\"size\":12},\"type\":\"scatter\",\"x\":[-5],\"y\":[12]}]},{\"data\":[{\"marker\":{\"color\":\"red\",\"size\":10},\"mode\":\"markers\",\"type\":\"scatter\",\"x\":[1.956],\"y\":[-0.701]},{\"marker\":{\"color\":\"cyan\",\"size\":10},\"mode\":\"markers\",\"type\":\"scatter\",\"x\":[3.4389999999999996],\"y\":[26.996]},{\"marker\":{\"color\":\"yellow\",\"size\":10},\"mode\":\"markers\",\"type\":\"scatter\",\"x\":[5.734],\"y\":[15.637999999999998]},{\"mode\":\"text\",\"text\":\"type slice\",\"textfont\":{\"color\":\"white\",\"size\":12},\"type\":\"scatter\",\"x\":[-5],\"y\":[6]},{\"mode\":\"text\",\"text\":\"stroke backhand\",\"textfont\":{\"color\":\"white\",\"size\":12},\"type\":\"scatter\",\"x\":[-5],\"y\":[8]},{\"mode\":\"text\",\"text\":\"hitter Nadal\",\"textfont\":{\"color\":\"white\",\"size\":12},\"type\":\"scatter\",\"x\":[-5],\"y\":[10]},{\"mode\":\"text\",\"text\":\"strokeid 10\",\"textfont\":{\"color\":\"white\",\"size\":12},\"type\":\"scatter\",\"x\":[-5],\"y\":[12]}]},{\"data\":[{\"marker\":{\"color\":\"red\",\"size\":10},\"mode\":\"markers\",\"type\":\"scatter\",\"x\":[1.956],\"y\":[-0.701]},{\"marker\":{\"color\":\"cyan\",\"size\":10},\"mode\":\"markers\",\"type\":\"scatter\",\"x\":[3.4389999999999996],\"y\":[26.996]},{\"marker\":{\"color\":\"yellow\",\"size\":10},\"mode\":\"markers\",\"type\":\"scatter\",\"x\":[6.072],\"y\":[14.208999999999998]},{\"mode\":\"text\",\"text\":\"type slice\",\"textfont\":{\"color\":\"white\",\"size\":12},\"type\":\"scatter\",\"x\":[-5],\"y\":[6]},{\"mode\":\"text\",\"text\":\"stroke backhand\",\"textfont\":{\"color\":\"white\",\"size\":12},\"type\":\"scatter\",\"x\":[-5],\"y\":[8]},{\"mode\":\"text\",\"text\":\"hitter Nadal\",\"textfont\":{\"color\":\"white\",\"size\":12},\"type\":\"scatter\",\"x\":[-5],\"y\":[10]},{\"mode\":\"text\",\"text\":\"strokeid 10\",\"textfont\":{\"color\":\"white\",\"size\":12},\"type\":\"scatter\",\"x\":[-5],\"y\":[12]}]},{\"data\":[{\"marker\":{\"color\":\"red\",\"size\":10},\"mode\":\"markers\",\"type\":\"scatter\",\"x\":[1.956],\"y\":[-0.701]},{\"marker\":{\"color\":\"cyan\",\"size\":10},\"mode\":\"markers\",\"type\":\"scatter\",\"x\":[3.4389999999999996],\"y\":[26.996]},{\"marker\":{\"color\":\"yellow\",\"size\":10},\"mode\":\"markers\",\"type\":\"scatter\",\"x\":[6.41],\"y\":[12.78]},{\"mode\":\"text\",\"text\":\"type serve\",\"textfont\":{\"color\":\"white\",\"size\":12},\"type\":\"scatter\",\"x\":[-5],\"y\":[6]},{\"mode\":\"text\",\"text\":\"stroke forehand\",\"textfont\":{\"color\":\"white\",\"size\":12},\"type\":\"scatter\",\"x\":[-5],\"y\":[8]},{\"mode\":\"text\",\"text\":\"hitter Djokovic\",\"textfont\":{\"color\":\"white\",\"size\":12},\"type\":\"scatter\",\"x\":[-5],\"y\":[10]},{\"mode\":\"text\",\"text\":\"strokeid 1\",\"textfont\":{\"color\":\"white\",\"size\":12},\"type\":\"scatter\",\"x\":[-5],\"y\":[12]}]}]);\n",
       "                        }).then(function(){\n",
       "                            \n",
       "var gd = document.getElementById('90ed567e-c258-4368-bcaf-dc698b71b02d');\n",
       "var x = new MutationObserver(function (mutations, observer) {{\n",
       "        var display = window.getComputedStyle(gd).display;\n",
       "        if (!display || display === 'none') {{\n",
       "            console.log([gd, 'removed!']);\n",
       "            Plotly.purge(gd);\n",
       "            observer.disconnect();\n",
       "        }}\n",
       "}});\n",
       "\n",
       "// Listen for the removal of the full notebook cells\n",
       "var notebookContainer = gd.closest('#notebook-container');\n",
       "if (notebookContainer) {{\n",
       "    x.observe(notebookContainer, {childList: true});\n",
       "}}\n",
       "\n",
       "// Listen for the clearing of the current output cell\n",
       "var outputEl = gd.closest('.output');\n",
       "if (outputEl) {{\n",
       "    x.observe(outputEl, {childList: true});\n",
       "}}\n",
       "\n",
       "                        })                };                });            </script>        </div>"
      ]
     },
     "metadata": {},
     "output_type": "display_data"
    }
   ],
   "source": [
    "fig.show()"
   ]
  },
  {
   "cell_type": "code",
   "execution_count": 49,
   "id": "b9137767",
   "metadata": {},
   "outputs": [],
   "source": [
    "player1, player2, ball, rally_metadata = extract_rally_data(temp, 8)"
   ]
  },
  {
   "cell_type": "code",
   "execution_count": 50,
   "id": "6265c852",
   "metadata": {},
   "outputs": [
    {
     "data": {
      "text/plain": [
       "(71, 2)"
      ]
     },
     "execution_count": 50,
     "metadata": {},
     "output_type": "execute_result"
    }
   ],
   "source": [
    "player1.shape"
   ]
  },
  {
   "cell_type": "code",
   "execution_count": 51,
   "id": "f20b9c46",
   "metadata": {},
   "outputs": [
    {
     "data": {
      "text/plain": [
       "(47, 8)"
      ]
     },
     "execution_count": 51,
     "metadata": {},
     "output_type": "execute_result"
    }
   ],
   "source": [
    "rally_metadata.shape"
   ]
  },
  {
   "cell_type": "code",
   "execution_count": 52,
   "id": "8f45b7c7",
   "metadata": {},
   "outputs": [
    {
     "data": {
      "text/plain": [
       "array([['type serve', 'stroke forehand', 'hitter Nadal', 'rallyid 8',\n",
       "        'strokeid 1', 'server Nadal', '1st/2nd serve second',\n",
       "        'score 1:0, 15:0'],\n",
       "       ['type serve', 'stroke forehand', 'hitter Nadal', 'rallyid 8',\n",
       "        'strokeid 1', 'server Nadal', '1st/2nd serve second',\n",
       "        'score 1:0, 15:0'],\n",
       "       ['type serve', 'stroke forehand', 'hitter Nadal', 'rallyid 8',\n",
       "        'strokeid 1', 'server Nadal', '1st/2nd serve second',\n",
       "        'score 1:0, 15:0'],\n",
       "       ['type serve', 'stroke forehand', 'hitter Nadal', 'rallyid 8',\n",
       "        'strokeid 1', 'server Nadal', '1st/2nd serve second',\n",
       "        'score 1:0, 15:0'],\n",
       "       ['type serve', 'stroke forehand', 'hitter Nadal', 'rallyid 8',\n",
       "        'strokeid 1', 'server Nadal', '1st/2nd serve second',\n",
       "        'score 1:0, 15:0'],\n",
       "       ['type serve', 'stroke forehand', 'hitter Nadal', 'rallyid 8',\n",
       "        'strokeid 1', 'server Nadal', '1st/2nd serve second',\n",
       "        'score 1:0, 15:0'],\n",
       "       ['type serve', 'stroke forehand', 'hitter Nadal', 'rallyid 8',\n",
       "        'strokeid 1', 'server Nadal', '1st/2nd serve second',\n",
       "        'score 1:0, 15:0'],\n",
       "       ['type return', 'stroke backhand', 'hitter Djokovic', 'rallyid 8',\n",
       "        'strokeid 2', 'server Nadal', '1st/2nd serve first',\n",
       "        'score 1:0, 15:0'],\n",
       "       ['type return', 'stroke backhand', 'hitter Djokovic', 'rallyid 8',\n",
       "        'strokeid 2', 'server Nadal', '1st/2nd serve first',\n",
       "        'score 1:0, 15:0'],\n",
       "       ['type return', 'stroke backhand', 'hitter Djokovic', 'rallyid 8',\n",
       "        'strokeid 2', 'server Nadal', '1st/2nd serve first',\n",
       "        'score 1:0, 15:0'],\n",
       "       ['type return', 'stroke backhand', 'hitter Djokovic', 'rallyid 8',\n",
       "        'strokeid 2', 'server Nadal', '1st/2nd serve first',\n",
       "        'score 1:0, 15:0'],\n",
       "       ['type return', 'stroke backhand', 'hitter Djokovic', 'rallyid 8',\n",
       "        'strokeid 2', 'server Nadal', '1st/2nd serve first',\n",
       "        'score 1:0, 15:0'],\n",
       "       ['type return', 'stroke backhand', 'hitter Djokovic', 'rallyid 8',\n",
       "        'strokeid 2', 'server Nadal', '1st/2nd serve first',\n",
       "        'score 1:0, 15:0'],\n",
       "       ['type return', 'stroke backhand', 'hitter Djokovic', 'rallyid 8',\n",
       "        'strokeid 2', 'server Nadal', '1st/2nd serve first',\n",
       "        'score 1:0, 15:0'],\n",
       "       ['type topspin', 'stroke forehand', 'hitter Nadal', 'rallyid 8',\n",
       "        'strokeid 3', 'server Nadal', '1st/2nd serve first',\n",
       "        'score 1:0, 15:0'],\n",
       "       ['type topspin', 'stroke forehand', 'hitter Nadal', 'rallyid 8',\n",
       "        'strokeid 3', 'server Nadal', '1st/2nd serve first',\n",
       "        'score 1:0, 15:0'],\n",
       "       ['type topspin', 'stroke forehand', 'hitter Nadal', 'rallyid 8',\n",
       "        'strokeid 3', 'server Nadal', '1st/2nd serve first',\n",
       "        'score 1:0, 15:0'],\n",
       "       ['type topspin', 'stroke forehand', 'hitter Nadal', 'rallyid 8',\n",
       "        'strokeid 3', 'server Nadal', '1st/2nd serve first',\n",
       "        'score 1:0, 15:0'],\n",
       "       ['type topspin', 'stroke forehand', 'hitter Nadal', 'rallyid 8',\n",
       "        'strokeid 3', 'server Nadal', '1st/2nd serve first',\n",
       "        'score 1:0, 15:0'],\n",
       "       ['type topspin', 'stroke forehand', 'hitter Nadal', 'rallyid 8',\n",
       "        'strokeid 3', 'server Nadal', '1st/2nd serve first',\n",
       "        'score 1:0, 15:0'],\n",
       "       ['type topspin', 'stroke forehand', 'hitter Nadal', 'rallyid 8',\n",
       "        'strokeid 3', 'server Nadal', '1st/2nd serve first',\n",
       "        'score 1:0, 15:0'],\n",
       "       ['type topspin', 'stroke backhand', 'hitter Djokovic',\n",
       "        'rallyid 8', 'strokeid 4', 'server Nadal', '1st/2nd serve first',\n",
       "        'score 1:0, 15:0'],\n",
       "       ['type topspin', 'stroke backhand', 'hitter Djokovic',\n",
       "        'rallyid 8', 'strokeid 4', 'server Nadal', '1st/2nd serve first',\n",
       "        'score 1:0, 15:0'],\n",
       "       ['type topspin', 'stroke backhand', 'hitter Djokovic',\n",
       "        'rallyid 8', 'strokeid 4', 'server Nadal', '1st/2nd serve first',\n",
       "        'score 1:0, 15:0'],\n",
       "       ['type topspin', 'stroke backhand', 'hitter Djokovic',\n",
       "        'rallyid 8', 'strokeid 4', 'server Nadal', '1st/2nd serve first',\n",
       "        'score 1:0, 15:0'],\n",
       "       ['type topspin', 'stroke backhand', 'hitter Djokovic',\n",
       "        'rallyid 8', 'strokeid 4', 'server Nadal', '1st/2nd serve first',\n",
       "        'score 1:0, 15:0'],\n",
       "       ['type topspin', 'stroke backhand', 'hitter Djokovic',\n",
       "        'rallyid 8', 'strokeid 4', 'server Nadal', '1st/2nd serve first',\n",
       "        'score 1:0, 15:0'],\n",
       "       ['type topspin', 'stroke backhand', 'hitter Djokovic',\n",
       "        'rallyid 8', 'strokeid 4', 'server Nadal', '1st/2nd serve first',\n",
       "        'score 1:0, 15:0'],\n",
       "       ['type topspin', 'stroke backhand', 'hitter Nadal', 'rallyid 8',\n",
       "        'strokeid 5', 'server Nadal', '1st/2nd serve first',\n",
       "        'score 1:0, 15:0'],\n",
       "       ['type topspin', 'stroke backhand', 'hitter Nadal', 'rallyid 8',\n",
       "        'strokeid 5', 'server Nadal', '1st/2nd serve first',\n",
       "        'score 1:0, 15:0'],\n",
       "       ['type topspin', 'stroke backhand', 'hitter Nadal', 'rallyid 8',\n",
       "        'strokeid 5', 'server Nadal', '1st/2nd serve first',\n",
       "        'score 1:0, 15:0'],\n",
       "       ['type topspin', 'stroke backhand', 'hitter Nadal', 'rallyid 8',\n",
       "        'strokeid 5', 'server Nadal', '1st/2nd serve first',\n",
       "        'score 1:0, 15:0'],\n",
       "       ['type topspin', 'stroke backhand', 'hitter Nadal', 'rallyid 8',\n",
       "        'strokeid 5', 'server Nadal', '1st/2nd serve first',\n",
       "        'score 1:0, 15:0'],\n",
       "       ['type topspin', 'stroke backhand', 'hitter Nadal', 'rallyid 8',\n",
       "        'strokeid 5', 'server Nadal', '1st/2nd serve first',\n",
       "        'score 1:0, 15:0'],\n",
       "       ['type topspin', 'stroke backhand', 'hitter Nadal', 'rallyid 8',\n",
       "        'strokeid 5', 'server Nadal', '1st/2nd serve first',\n",
       "        'score 1:0, 15:0'],\n",
       "       ['type topspin', 'stroke forehand', 'hitter Djokovic',\n",
       "        'rallyid 8', 'strokeid 6', 'server Nadal', '1st/2nd serve first',\n",
       "        'score 1:0, 15:0'],\n",
       "       ['type topspin', 'stroke forehand', 'hitter Djokovic',\n",
       "        'rallyid 8', 'strokeid 6', 'server Nadal', '1st/2nd serve first',\n",
       "        'score 1:0, 15:0'],\n",
       "       ['type topspin', 'stroke forehand', 'hitter Djokovic',\n",
       "        'rallyid 8', 'strokeid 6', 'server Nadal', '1st/2nd serve first',\n",
       "        'score 1:0, 15:0'],\n",
       "       ['type topspin', 'stroke forehand', 'hitter Djokovic',\n",
       "        'rallyid 8', 'strokeid 6', 'server Nadal', '1st/2nd serve first',\n",
       "        'score 1:0, 15:0'],\n",
       "       ['type topspin', 'stroke forehand', 'hitter Djokovic',\n",
       "        'rallyid 8', 'strokeid 6', 'server Nadal', '1st/2nd serve first',\n",
       "        'score 1:0, 15:0'],\n",
       "       ['type topspin', 'stroke forehand', 'hitter Djokovic',\n",
       "        'rallyid 8', 'strokeid 6', 'server Nadal', '1st/2nd serve first',\n",
       "        'score 1:0, 15:0'],\n",
       "       ['type topspin', 'stroke forehand', 'hitter Djokovic',\n",
       "        'rallyid 8', 'strokeid 6', 'server Nadal', '1st/2nd serve first',\n",
       "        'score 1:0, 15:0'],\n",
       "       ['type topspin', 'stroke forehand', 'hitter Nadal', 'rallyid 8',\n",
       "        'strokeid 7', 'server Nadal', '1st/2nd serve first',\n",
       "        'score 1:0, 15:0'],\n",
       "       ['type topspin', 'stroke forehand', 'hitter Nadal', 'rallyid 8',\n",
       "        'strokeid 7', 'server Nadal', '1st/2nd serve first',\n",
       "        'score 1:0, 15:0'],\n",
       "       ['type topspin', 'stroke forehand', 'hitter Nadal', 'rallyid 8',\n",
       "        'strokeid 7', 'server Nadal', '1st/2nd serve first',\n",
       "        'score 1:0, 15:0'],\n",
       "       ['type topspin', 'stroke forehand', 'hitter Nadal', 'rallyid 8',\n",
       "        'strokeid 7', 'server Nadal', '1st/2nd serve first',\n",
       "        'score 1:0, 15:0'],\n",
       "       ['type topspin', 'stroke forehand', 'hitter Nadal', 'rallyid 8',\n",
       "        'strokeid 7', 'server Nadal', '1st/2nd serve first',\n",
       "        'score 1:0, 15:0']], dtype='<U20')"
      ]
     },
     "execution_count": 52,
     "metadata": {},
     "output_type": "execute_result"
    }
   ],
   "source": [
    "rally_metadata"
   ]
  },
  {
   "cell_type": "code",
   "execution_count": 54,
   "id": "4365b968",
   "metadata": {},
   "outputs": [],
   "source": [
    "temp2 = temp.loc[temp['rallyid'] == 8]"
   ]
  },
  {
   "cell_type": "code",
   "execution_count": 55,
   "id": "33becc78",
   "metadata": {},
   "outputs": [
    {
     "data": {
      "text/html": [
       "<div>\n",
       "<style scoped>\n",
       "    .dataframe tbody tr th:only-of-type {\n",
       "        vertical-align: middle;\n",
       "    }\n",
       "\n",
       "    .dataframe tbody tr th {\n",
       "        vertical-align: top;\n",
       "    }\n",
       "\n",
       "    .dataframe thead th {\n",
       "        text-align: right;\n",
       "    }\n",
       "</style>\n",
       "<table border=\"1\" class=\"dataframe\">\n",
       "  <thead>\n",
       "    <tr style=\"text-align: right;\">\n",
       "      <th></th>\n",
       "      <th>rallyid</th>\n",
       "      <th>frameid</th>\n",
       "      <th>strokeid</th>\n",
       "      <th>hitter</th>\n",
       "      <th>receiver</th>\n",
       "      <th>isserve</th>\n",
       "      <th>serve_x</th>\n",
       "      <th>type</th>\n",
       "      <th>stroke</th>\n",
       "      <th>hitter_x</th>\n",
       "      <th>...</th>\n",
       "      <th>server</th>\n",
       "      <th>returner</th>\n",
       "      <th>winner</th>\n",
       "      <th>reason</th>\n",
       "      <th>serve_y</th>\n",
       "      <th>strokes</th>\n",
       "      <th>totaltime</th>\n",
       "      <th>x</th>\n",
       "      <th>y</th>\n",
       "      <th>score</th>\n",
       "    </tr>\n",
       "  </thead>\n",
       "  <tbody>\n",
       "    <tr>\n",
       "      <th>22</th>\n",
       "      <td>8</td>\n",
       "      <td>75885</td>\n",
       "      <td>1</td>\n",
       "      <td>Nadal</td>\n",
       "      <td>Djokovic</td>\n",
       "      <td>True</td>\n",
       "      <td>second</td>\n",
       "      <td>serve</td>\n",
       "      <td>forehand</td>\n",
       "      <td>5.48</td>\n",
       "      <td>...</td>\n",
       "      <td>Nadal</td>\n",
       "      <td>Djokovic</td>\n",
       "      <td>Djokovic</td>\n",
       "      <td>out</td>\n",
       "      <td>second</td>\n",
       "      <td>7.0</td>\n",
       "      <td>7.2</td>\n",
       "      <td>0.5</td>\n",
       "      <td>18.67</td>\n",
       "      <td>1:0, 15:0</td>\n",
       "    </tr>\n",
       "    <tr>\n",
       "      <th>23</th>\n",
       "      <td>8</td>\n",
       "      <td>75905</td>\n",
       "      <td>2</td>\n",
       "      <td>Djokovic</td>\n",
       "      <td>Nadal</td>\n",
       "      <td>False</td>\n",
       "      <td>first</td>\n",
       "      <td>return</td>\n",
       "      <td>backhand</td>\n",
       "      <td>3.82</td>\n",
       "      <td>...</td>\n",
       "      <td>Nadal</td>\n",
       "      <td>Djokovic</td>\n",
       "      <td>Djokovic</td>\n",
       "      <td>out</td>\n",
       "      <td>second</td>\n",
       "      <td>7.0</td>\n",
       "      <td>7.2</td>\n",
       "      <td>0.5</td>\n",
       "      <td>18.67</td>\n",
       "      <td>1:0, 15:0</td>\n",
       "    </tr>\n",
       "    <tr>\n",
       "      <th>24</th>\n",
       "      <td>8</td>\n",
       "      <td>75935</td>\n",
       "      <td>3</td>\n",
       "      <td>Nadal</td>\n",
       "      <td>Djokovic</td>\n",
       "      <td>False</td>\n",
       "      <td>first</td>\n",
       "      <td>topspin</td>\n",
       "      <td>forehand</td>\n",
       "      <td>5.49</td>\n",
       "      <td>...</td>\n",
       "      <td>Nadal</td>\n",
       "      <td>Djokovic</td>\n",
       "      <td>Djokovic</td>\n",
       "      <td>out</td>\n",
       "      <td>second</td>\n",
       "      <td>7.0</td>\n",
       "      <td>7.2</td>\n",
       "      <td>0.5</td>\n",
       "      <td>18.67</td>\n",
       "      <td>1:0, 15:0</td>\n",
       "    </tr>\n",
       "    <tr>\n",
       "      <th>25</th>\n",
       "      <td>8</td>\n",
       "      <td>75965</td>\n",
       "      <td>4</td>\n",
       "      <td>Djokovic</td>\n",
       "      <td>Nadal</td>\n",
       "      <td>False</td>\n",
       "      <td>first</td>\n",
       "      <td>topspin</td>\n",
       "      <td>backhand</td>\n",
       "      <td>7.78</td>\n",
       "      <td>...</td>\n",
       "      <td>Nadal</td>\n",
       "      <td>Djokovic</td>\n",
       "      <td>Djokovic</td>\n",
       "      <td>out</td>\n",
       "      <td>second</td>\n",
       "      <td>7.0</td>\n",
       "      <td>7.2</td>\n",
       "      <td>0.5</td>\n",
       "      <td>18.67</td>\n",
       "      <td>1:0, 15:0</td>\n",
       "    </tr>\n",
       "    <tr>\n",
       "      <th>26</th>\n",
       "      <td>8</td>\n",
       "      <td>76005</td>\n",
       "      <td>5</td>\n",
       "      <td>Nadal</td>\n",
       "      <td>Djokovic</td>\n",
       "      <td>False</td>\n",
       "      <td>first</td>\n",
       "      <td>topspin</td>\n",
       "      <td>backhand</td>\n",
       "      <td>7.80</td>\n",
       "      <td>...</td>\n",
       "      <td>Nadal</td>\n",
       "      <td>Djokovic</td>\n",
       "      <td>Djokovic</td>\n",
       "      <td>out</td>\n",
       "      <td>second</td>\n",
       "      <td>7.0</td>\n",
       "      <td>7.2</td>\n",
       "      <td>0.5</td>\n",
       "      <td>18.67</td>\n",
       "      <td>1:0, 15:0</td>\n",
       "    </tr>\n",
       "    <tr>\n",
       "      <th>27</th>\n",
       "      <td>8</td>\n",
       "      <td>76035</td>\n",
       "      <td>6</td>\n",
       "      <td>Djokovic</td>\n",
       "      <td>Nadal</td>\n",
       "      <td>False</td>\n",
       "      <td>first</td>\n",
       "      <td>topspin</td>\n",
       "      <td>forehand</td>\n",
       "      <td>1.54</td>\n",
       "      <td>...</td>\n",
       "      <td>Nadal</td>\n",
       "      <td>Djokovic</td>\n",
       "      <td>Djokovic</td>\n",
       "      <td>out</td>\n",
       "      <td>second</td>\n",
       "      <td>7.0</td>\n",
       "      <td>7.2</td>\n",
       "      <td>0.5</td>\n",
       "      <td>18.67</td>\n",
       "      <td>1:0, 15:0</td>\n",
       "    </tr>\n",
       "    <tr>\n",
       "      <th>28</th>\n",
       "      <td>8</td>\n",
       "      <td>76065</td>\n",
       "      <td>7</td>\n",
       "      <td>Nadal</td>\n",
       "      <td>Djokovic</td>\n",
       "      <td>False</td>\n",
       "      <td>first</td>\n",
       "      <td>topspin</td>\n",
       "      <td>forehand</td>\n",
       "      <td>2.72</td>\n",
       "      <td>...</td>\n",
       "      <td>Nadal</td>\n",
       "      <td>Djokovic</td>\n",
       "      <td>Djokovic</td>\n",
       "      <td>out</td>\n",
       "      <td>second</td>\n",
       "      <td>7.0</td>\n",
       "      <td>7.2</td>\n",
       "      <td>0.5</td>\n",
       "      <td>18.67</td>\n",
       "      <td>1:0, 15:0</td>\n",
       "    </tr>\n",
       "  </tbody>\n",
       "</table>\n",
       "<p>7 rows × 24 columns</p>\n",
       "</div>"
      ],
      "text/plain": [
       "    rallyid  frameid  strokeid    hitter  receiver  isserve serve_x     type  \\\n",
       "22        8    75885         1     Nadal  Djokovic     True  second    serve   \n",
       "23        8    75905         2  Djokovic     Nadal    False   first   return   \n",
       "24        8    75935         3     Nadal  Djokovic    False   first  topspin   \n",
       "25        8    75965         4  Djokovic     Nadal    False   first  topspin   \n",
       "26        8    76005         5     Nadal  Djokovic    False   first  topspin   \n",
       "27        8    76035         6  Djokovic     Nadal    False   first  topspin   \n",
       "28        8    76065         7     Nadal  Djokovic    False   first  topspin   \n",
       "\n",
       "      stroke  hitter_x  ...  server  returner    winner  reason serve_y  \\\n",
       "22  forehand      5.48  ...   Nadal  Djokovic  Djokovic     out  second   \n",
       "23  backhand      3.82  ...   Nadal  Djokovic  Djokovic     out  second   \n",
       "24  forehand      5.49  ...   Nadal  Djokovic  Djokovic     out  second   \n",
       "25  backhand      7.78  ...   Nadal  Djokovic  Djokovic     out  second   \n",
       "26  backhand      7.80  ...   Nadal  Djokovic  Djokovic     out  second   \n",
       "27  forehand      1.54  ...   Nadal  Djokovic  Djokovic     out  second   \n",
       "28  forehand      2.72  ...   Nadal  Djokovic  Djokovic     out  second   \n",
       "\n",
       "   strokes totaltime    x      y      score  \n",
       "22     7.0       7.2  0.5  18.67  1:0, 15:0  \n",
       "23     7.0       7.2  0.5  18.67  1:0, 15:0  \n",
       "24     7.0       7.2  0.5  18.67  1:0, 15:0  \n",
       "25     7.0       7.2  0.5  18.67  1:0, 15:0  \n",
       "26     7.0       7.2  0.5  18.67  1:0, 15:0  \n",
       "27     7.0       7.2  0.5  18.67  1:0, 15:0  \n",
       "28     7.0       7.2  0.5  18.67  1:0, 15:0  \n",
       "\n",
       "[7 rows x 24 columns]"
      ]
     },
     "execution_count": 55,
     "metadata": {},
     "output_type": "execute_result"
    }
   ],
   "source": [
    "temp2"
   ]
  },
  {
   "cell_type": "code",
   "execution_count": null,
   "id": "9139e439",
   "metadata": {},
   "outputs": [],
   "source": []
  }
 ],
 "metadata": {
  "kernelspec": {
   "display_name": "Python 3",
   "language": "python",
   "name": "python3"
  },
  "language_info": {
   "codemirror_mode": {
    "name": "ipython",
    "version": 3
   },
   "file_extension": ".py",
   "mimetype": "text/x-python",
   "name": "python",
   "nbconvert_exporter": "python",
   "pygments_lexer": "ipython3",
   "version": "3.9.12"
  }
 },
 "nbformat": 4,
 "nbformat_minor": 5
}
