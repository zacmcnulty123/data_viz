{
 "cells": [
  {
   "cell_type": "code",
   "execution_count": 1,
   "id": "52145ad8",
   "metadata": {},
   "outputs": [
    {
     "data": {
      "text/html": [
       "        <script type=\"text/javascript\">\n",
       "        window.PlotlyConfig = {MathJaxConfig: 'local'};\n",
       "        if (window.MathJax) {MathJax.Hub.Config({SVG: {font: \"STIX-Web\"}});}\n",
       "        if (typeof require !== 'undefined') {\n",
       "        require.undef(\"plotly\");\n",
       "        requirejs.config({\n",
       "            paths: {\n",
       "                'plotly': ['https://cdn.plot.ly/plotly-2.4.2.min']\n",
       "            }\n",
       "        });\n",
       "        require(['plotly'], function(Plotly) {\n",
       "            window._Plotly = Plotly;\n",
       "        });\n",
       "        }\n",
       "        </script>\n",
       "        "
      ]
     },
     "metadata": {},
     "output_type": "display_data"
    },
    {
     "data": {
      "text/html": [
       "        <script type=\"text/javascript\">\n",
       "        window.PlotlyConfig = {MathJaxConfig: 'local'};\n",
       "        if (window.MathJax) {MathJax.Hub.Config({SVG: {font: \"STIX-Web\"}});}\n",
       "        if (typeof require !== 'undefined') {\n",
       "        require.undef(\"plotly\");\n",
       "        requirejs.config({\n",
       "            paths: {\n",
       "                'plotly': ['https://cdn.plot.ly/plotly-2.4.2.min']\n",
       "            }\n",
       "        });\n",
       "        require(['plotly'], function(Plotly) {\n",
       "            window._Plotly = Plotly;\n",
       "        });\n",
       "        }\n",
       "        </script>\n",
       "        "
      ]
     },
     "metadata": {},
     "output_type": "display_data"
    }
   ],
   "source": [
    "import os\n",
    "import pandas as pd\n",
    "\n",
    "# Plotly and cufflinks for data analysis\n",
    "from plotly.offline import init_notebook_mode, iplot\n",
    "import cufflinks as cf\n",
    "init_notebook_mode(connected=True) \n",
    "\n",
    "cf.set_config_file(theme='ggplot')\n",
    "cf.go_offline()\n",
    "\n",
    "# Matplotlib for drawing the court\n",
    "from matplotlib.patches import Ellipse\n",
    "import plotly.express as px\n",
    "import numpy as np\n",
    "from matplotlib import pyplot as plt\n",
    "from math import pi\n",
    "import plotly.graph_objects as go\n",
    "%matplotlib inline"
   ]
  },
  {
   "cell_type": "code",
   "execution_count": 2,
   "id": "aee9b55b",
   "metadata": {},
   "outputs": [],
   "source": [
    "INPUT_DIR = './Tennis_data'\n",
    "def load_data():\n",
    "    return [pd.read_csv(os.path.join(INPUT_DIR, file_), index_col=0) for file_ in os.listdir(INPUT_DIR)]\n",
    "        \n",
    "rallies, points, events, serves = load_data()"
   ]
  },
  {
   "cell_type": "code",
   "execution_count": 3,
   "id": "9b03310e",
   "metadata": {},
   "outputs": [
    {
     "data": {
      "text/html": [
       "<div>\n",
       "<style scoped>\n",
       "    .dataframe tbody tr th:only-of-type {\n",
       "        vertical-align: middle;\n",
       "    }\n",
       "\n",
       "    .dataframe tbody tr th {\n",
       "        vertical-align: top;\n",
       "    }\n",
       "\n",
       "    .dataframe thead th {\n",
       "        text-align: right;\n",
       "    }\n",
       "</style>\n",
       "<table border=\"1\" class=\"dataframe\">\n",
       "  <thead>\n",
       "    <tr style=\"text-align: right;\">\n",
       "      <th></th>\n",
       "      <th>rallyid</th>\n",
       "      <th>frameid</th>\n",
       "      <th>strokeid</th>\n",
       "      <th>hitter</th>\n",
       "      <th>receiver</th>\n",
       "      <th>isserve</th>\n",
       "      <th>serve</th>\n",
       "      <th>type</th>\n",
       "      <th>stroke</th>\n",
       "      <th>hitter_x</th>\n",
       "      <th>hitter_y</th>\n",
       "      <th>receiver_x</th>\n",
       "      <th>receiver_y</th>\n",
       "      <th>time</th>\n",
       "    </tr>\n",
       "  </thead>\n",
       "  <tbody>\n",
       "    <tr>\n",
       "      <th>0</th>\n",
       "      <td>1</td>\n",
       "      <td>70877</td>\n",
       "      <td>1</td>\n",
       "      <td>Djokovic</td>\n",
       "      <td>Nadal</td>\n",
       "      <td>True</td>\n",
       "      <td>first</td>\n",
       "      <td>serve</td>\n",
       "      <td>forehand</td>\n",
       "      <td>6.50</td>\n",
       "      <td>-0.24</td>\n",
       "      <td>1.03</td>\n",
       "      <td>27.44</td>\n",
       "      <td>0.00</td>\n",
       "    </tr>\n",
       "    <tr>\n",
       "      <th>1</th>\n",
       "      <td>1</td>\n",
       "      <td>70900</td>\n",
       "      <td>2</td>\n",
       "      <td>Nadal</td>\n",
       "      <td>Djokovic</td>\n",
       "      <td>False</td>\n",
       "      <td>first</td>\n",
       "      <td>slice</td>\n",
       "      <td>backhand</td>\n",
       "      <td>0.05</td>\n",
       "      <td>25.59</td>\n",
       "      <td>6.17</td>\n",
       "      <td>1.11</td>\n",
       "      <td>0.92</td>\n",
       "    </tr>\n",
       "    <tr>\n",
       "      <th>2</th>\n",
       "      <td>1</td>\n",
       "      <td>70950</td>\n",
       "      <td>3</td>\n",
       "      <td>Djokovic</td>\n",
       "      <td>Nadal</td>\n",
       "      <td>False</td>\n",
       "      <td>first</td>\n",
       "      <td>topspin</td>\n",
       "      <td>forehand</td>\n",
       "      <td>1.42</td>\n",
       "      <td>2.33</td>\n",
       "      <td>4.75</td>\n",
       "      <td>26.45</td>\n",
       "      <td>2.92</td>\n",
       "    </tr>\n",
       "    <tr>\n",
       "      <th>3</th>\n",
       "      <td>2</td>\n",
       "      <td>71488</td>\n",
       "      <td>1</td>\n",
       "      <td>Djokovic</td>\n",
       "      <td>Nadal</td>\n",
       "      <td>True</td>\n",
       "      <td>first</td>\n",
       "      <td>serve</td>\n",
       "      <td>forehand</td>\n",
       "      <td>4.48</td>\n",
       "      <td>-0.01</td>\n",
       "      <td>7.90</td>\n",
       "      <td>26.83</td>\n",
       "      <td>24.44</td>\n",
       "    </tr>\n",
       "    <tr>\n",
       "      <th>4</th>\n",
       "      <td>3</td>\n",
       "      <td>71796</td>\n",
       "      <td>1</td>\n",
       "      <td>Djokovic</td>\n",
       "      <td>Nadal</td>\n",
       "      <td>True</td>\n",
       "      <td>second</td>\n",
       "      <td>serve</td>\n",
       "      <td>forehand</td>\n",
       "      <td>4.48</td>\n",
       "      <td>-0.37</td>\n",
       "      <td>7.88</td>\n",
       "      <td>26.47</td>\n",
       "      <td>36.76</td>\n",
       "    </tr>\n",
       "  </tbody>\n",
       "</table>\n",
       "</div>"
      ],
      "text/plain": [
       "   rallyid  frameid  strokeid    hitter  receiver  isserve   serve     type  \\\n",
       "0        1    70877         1  Djokovic     Nadal     True   first    serve   \n",
       "1        1    70900         2     Nadal  Djokovic    False   first    slice   \n",
       "2        1    70950         3  Djokovic     Nadal    False   first  topspin   \n",
       "3        2    71488         1  Djokovic     Nadal     True   first    serve   \n",
       "4        3    71796         1  Djokovic     Nadal     True  second    serve   \n",
       "\n",
       "     stroke  hitter_x  hitter_y  receiver_x  receiver_y   time  \n",
       "0  forehand      6.50     -0.24        1.03       27.44   0.00  \n",
       "1  backhand      0.05     25.59        6.17        1.11   0.92  \n",
       "2  forehand      1.42      2.33        4.75       26.45   2.92  \n",
       "3  forehand      4.48     -0.01        7.90       26.83  24.44  \n",
       "4  forehand      4.48     -0.37        7.88       26.47  36.76  "
      ]
     },
     "execution_count": 3,
     "metadata": {},
     "output_type": "execute_result"
    }
   ],
   "source": [
    "# events\n",
    "events.head()"
   ]
  },
  {
   "cell_type": "code",
   "execution_count": 4,
   "id": "d90c7e2e",
   "metadata": {},
   "outputs": [
    {
     "data": {
      "text/html": [
       "<div>\n",
       "<style scoped>\n",
       "    .dataframe tbody tr th:only-of-type {\n",
       "        vertical-align: middle;\n",
       "    }\n",
       "\n",
       "    .dataframe tbody tr th {\n",
       "        vertical-align: top;\n",
       "    }\n",
       "\n",
       "    .dataframe thead th {\n",
       "        text-align: right;\n",
       "    }\n",
       "</style>\n",
       "<table border=\"1\" class=\"dataframe\">\n",
       "  <thead>\n",
       "    <tr style=\"text-align: right;\">\n",
       "      <th></th>\n",
       "      <th>rallyid</th>\n",
       "      <th>server</th>\n",
       "      <th>returner</th>\n",
       "      <th>winner</th>\n",
       "      <th>reason</th>\n",
       "      <th>serve</th>\n",
       "      <th>strokes</th>\n",
       "      <th>totaltime</th>\n",
       "      <th>x</th>\n",
       "      <th>y</th>\n",
       "      <th>score</th>\n",
       "    </tr>\n",
       "  </thead>\n",
       "  <tbody>\n",
       "    <tr>\n",
       "      <th>0</th>\n",
       "      <td>1</td>\n",
       "      <td>Djokovic</td>\n",
       "      <td>Nadal</td>\n",
       "      <td>Djokovic</td>\n",
       "      <td>winner</td>\n",
       "      <td>first</td>\n",
       "      <td>3</td>\n",
       "      <td>0.92</td>\n",
       "      <td>1.92</td>\n",
       "      <td>21.96</td>\n",
       "      <td>0:0, 15:0</td>\n",
       "    </tr>\n",
       "    <tr>\n",
       "      <th>2</th>\n",
       "      <td>3</td>\n",
       "      <td>Djokovic</td>\n",
       "      <td>Nadal</td>\n",
       "      <td>Djokovic</td>\n",
       "      <td>out</td>\n",
       "      <td>second</td>\n",
       "      <td>4</td>\n",
       "      <td>4.16</td>\n",
       "      <td>3.33</td>\n",
       "      <td>-0.39</td>\n",
       "      <td>0:0, 30:0</td>\n",
       "    </tr>\n",
       "    <tr>\n",
       "      <th>4</th>\n",
       "      <td>5</td>\n",
       "      <td>Djokovic</td>\n",
       "      <td>Nadal</td>\n",
       "      <td>Djokovic</td>\n",
       "      <td>ace</td>\n",
       "      <td>second</td>\n",
       "      <td>2</td>\n",
       "      <td>0.40</td>\n",
       "      <td>1.62</td>\n",
       "      <td>17.18</td>\n",
       "      <td>0:0, 40:0</td>\n",
       "    </tr>\n",
       "    <tr>\n",
       "      <th>5</th>\n",
       "      <td>6</td>\n",
       "      <td>Djokovic</td>\n",
       "      <td>Nadal</td>\n",
       "      <td>Djokovic</td>\n",
       "      <td>net</td>\n",
       "      <td>first</td>\n",
       "      <td>10</td>\n",
       "      <td>10.40</td>\n",
       "      <td>6.41</td>\n",
       "      <td>12.78</td>\n",
       "      <td>1:0, 0:0</td>\n",
       "    </tr>\n",
       "    <tr>\n",
       "      <th>7</th>\n",
       "      <td>8</td>\n",
       "      <td>Nadal</td>\n",
       "      <td>Djokovic</td>\n",
       "      <td>Djokovic</td>\n",
       "      <td>out</td>\n",
       "      <td>second</td>\n",
       "      <td>7</td>\n",
       "      <td>7.20</td>\n",
       "      <td>0.50</td>\n",
       "      <td>18.67</td>\n",
       "      <td>1:0, 15:0</td>\n",
       "    </tr>\n",
       "  </tbody>\n",
       "</table>\n",
       "</div>"
      ],
      "text/plain": [
       "   rallyid    server  returner    winner  reason   serve  strokes  totaltime  \\\n",
       "0        1  Djokovic     Nadal  Djokovic  winner   first        3       0.92   \n",
       "2        3  Djokovic     Nadal  Djokovic     out  second        4       4.16   \n",
       "4        5  Djokovic     Nadal  Djokovic     ace  second        2       0.40   \n",
       "5        6  Djokovic     Nadal  Djokovic     net   first       10      10.40   \n",
       "7        8     Nadal  Djokovic  Djokovic     out  second        7       7.20   \n",
       "\n",
       "      x      y      score  \n",
       "0  1.92  21.96  0:0, 15:0  \n",
       "2  3.33  -0.39  0:0, 30:0  \n",
       "4  1.62  17.18  0:0, 40:0  \n",
       "5  6.41  12.78   1:0, 0:0  \n",
       "7  0.50  18.67  1:0, 15:0  "
      ]
     },
     "execution_count": 4,
     "metadata": {},
     "output_type": "execute_result"
    }
   ],
   "source": [
    "points.head()"
   ]
  },
  {
   "cell_type": "code",
   "execution_count": 5,
   "id": "5ac6c124",
   "metadata": {},
   "outputs": [],
   "source": [
    "temp = events.merge(right=points, how='left', left_on='rallyid', right_on='rallyid')"
   ]
  },
  {
   "cell_type": "code",
   "execution_count": 6,
   "id": "246d1211",
   "metadata": {},
   "outputs": [],
   "source": [
    "def linear_interpolate_data(data):\n",
    "    data = np.array(data)\n",
    "    interpolate_values = np.arange(0,1,0.1)\n",
    "    ret = []\n",
    "    for i in range(0,len(data)-1):\n",
    "        for j in interpolate_values:\n",
    "            temp = data[i]*(1-j) + data[i+1] * j\n",
    "            ret.append(temp.T)\n",
    "    ret = np.array(ret)\n",
    "    return ret"
   ]
  },
  {
   "cell_type": "code",
   "execution_count": 7,
   "id": "355fb316",
   "metadata": {},
   "outputs": [],
   "source": [
    "def add_padding(data, amt_to_pad, where_to_insert):\n",
    "    data = np.array(data)\n",
    "    padding = [data[where_to_insert]] * amt_to_pad\n",
    "    data = np.insert(data, where_to_insert, padding, axis=0)\n",
    "    return data"
   ]
  },
  {
   "cell_type": "code",
   "execution_count": 8,
   "id": "10c2d8a5",
   "metadata": {},
   "outputs": [],
   "source": [
    "import itertools"
   ]
  },
  {
   "cell_type": "code",
   "execution_count": 9,
   "id": "dba07f36",
   "metadata": {},
   "outputs": [],
   "source": [
    "def pad_rally_meta_data(data, amt_to_pad, num_strokes):\n",
    "    data = np.array(data)\n",
    "    temp = []\n",
    "    for i in range(0, len(data)):\n",
    "        temp.append([data[i]] * amt_to_pad)\n",
    "    for i in range(0, len(temp)):\n",
    "        data = np.insert(data, i*amt_to_pad, temp[i], axis=0)\n",
    "    data = np.insert(data, len(data), data[-1], axis=0)\n",
    "    data.resize((len(data) - num_strokes), 8)\n",
    "    return np.array(data)"
   ]
  },
  {
   "cell_type": "code",
   "execution_count": 10,
   "id": "e34606dc",
   "metadata": {},
   "outputs": [],
   "source": [
    "def extract_rally_data(data_extract, rally_id):\n",
    "    player1 = []\n",
    "    player2 = []\n",
    "    ball = []\n",
    "    rally_metadata = []\n",
    "    data = data_extract.loc[events['rallyid'] == rally_id]\n",
    "    data = data.reset_index()\n",
    "    for i in range(0, len(data)):\n",
    "        x1 = 0\n",
    "        x2 = 0\n",
    "        y1 = 0\n",
    "        y2 = 0\n",
    "        if i % 2 == 0:\n",
    "            x1 = data.loc[i, 'hitter_x']\n",
    "            y1 = data.loc[i, 'hitter_y']\n",
    "            x2 = data.loc[i, 'receiver_x']\n",
    "            y2 = data.loc[i, 'receiver_y']\n",
    "            ball.append(np.asarray([x1,y1]))\n",
    "        else:\n",
    "            x2 = data.loc[i, 'hitter_x']\n",
    "            y2 = data.loc[i, 'hitter_y']\n",
    "            x1 = data.loc[i, 'receiver_x']\n",
    "            y1 = data.loc[i, 'receiver_y']\n",
    "            ball.append(np.asarray([x2, y2]))\n",
    "        player1.append(np.asarray([x1, y1]))\n",
    "        player2.append(np.asarray([x2, y2]))\n",
    "        rally_metadata.append([\"type \"+str(data.loc[i, 'type']), \"stroke \"+str(data.loc[i, 'stroke']), \n",
    "                              \"hitter \"+str(data.loc[i, 'hitter']), \"rallyid \"+str(data.loc[i, 'rallyid']),\n",
    "                              \"strokeid \"+str(data.loc[i, 'strokeid']), \"server \"+str(data.loc[i, 'server']),\n",
    "                              \"1st/2nd serve \"+str(data.loc[i, 'serve_x']), \"score \"+str(data.loc[i, 'score'])])\n",
    "    player1 = linear_interpolate_data(player1)\n",
    "    player1 = add_padding(player1, 11, -1)\n",
    "    player2 = linear_interpolate_data(player2)\n",
    "    player2 = add_padding(player2, 11, -1)\n",
    "    ball.append(np.asarray([data.loc[0, 'x'], data.loc[0, 'y']]))\n",
    "    ball = linear_interpolate_data(ball)\n",
    "    ball = np.insert(ball, len(ball), np.asarray([data.loc[0, 'x'], data.loc[0, 'y']]), axis=0)\n",
    "    rally_metadata = pad_rally_meta_data(rally_metadata, 10, data.shape[0])\n",
    "    return player1, player2, ball, rally_metadata"
   ]
  },
  {
   "cell_type": "code",
   "execution_count": 11,
   "id": "a87238a4",
   "metadata": {},
   "outputs": [],
   "source": [
    "def create_figure(data, rally_id):\n",
    "    player1, player2, ball, rally_metadata = extract_rally_data(data, rally_id)\n",
    "\n",
    "    height_court = 10.97\n",
    "    width_court = 11.89*2\n",
    "    service_box = 6.4\n",
    "    double_field = 1.37\n",
    "    baseline_serviceline = 5.5\n",
    "    breite_einzel = 8.23\n",
    "    serviceline_net = 6.4\n",
    "    colors=['red', 'cyan']\n",
    "\n",
    "    # Create figure\n",
    "    fig = go.Figure(\n",
    "        data=[\n",
    "            go.Scatter(x=[-10], y=[-10]),\n",
    "            go.Scatter(x=[-10], y=[-10]),\n",
    "            go.Scatter(x=[-10], y=[-10]),\n",
    "            go.Scatter(x=[-10], y=[-10]),\n",
    "            go.Scatter(x=[-10], y=[-10]),\n",
    "            go.Scatter(x=[-10], y=[-10]),\n",
    "            go.Scatter(x=[-10], y=[-10]),\n",
    "            go.Scatter(x=[-10], y=[-10]),\n",
    "            go.Scatter(x=[-10], y=[-10]),\n",
    "            go.Scatter(x=[-10], y=[-10]),\n",
    "            go.Scatter(x=[height_court, 0], y=[width_court/2, width_court/2],\n",
    "                         mode=\"lines\",\n",
    "                         line=dict(width=2, color=\"white\")),\n",
    "              go.Scatter(x=[0,0, height_court, height_court, 0],\n",
    "                         y=[0,width_court,width_court, 0, 0],\n",
    "                         mode=\"lines\",\n",
    "                         line=dict(width=2, color=\"white\")),\n",
    "              go.Scatter(x=[height_court/2, width_court/2-service_box],\n",
    "                         y=[height_court/2, width_court/2+service_box],\n",
    "                        mode=\"lines\",\n",
    "                        line=dict(width=2, color=\"white\")),\n",
    "              go.Scatter(x=[height_court/2, height_court/2], y=[0, 0 + 0.45],\n",
    "                        mode=\"lines\",\n",
    "                        line=dict(width=2, color=\"white\")),\n",
    "              go.Scatter(x=[height_court/2, height_court/2], y=[width_court, width_court - 0.45],\n",
    "                mode=\"lines\",\n",
    "                line=dict(width=2, color=\"white\")),\n",
    "             go.Scatter(x=[1.37, 1.37], y=[0, width_court],\n",
    "                mode=\"lines\",\n",
    "                line=dict(width=2, color=\"white\")),\n",
    "            go.Scatter(x=[height_court-1.37, height_court-1.37], y=[0, width_court],\n",
    "                mode=\"lines\",\n",
    "                line=dict(width=2, color=\"white\")),\n",
    "            go.Scatter(x=[0+double_field,0+double_field, \n",
    "                          height_court-1.37, height_court-1.37, 0+double_field],\n",
    "                       y=[baseline_serviceline, width_court/2+service_box, \n",
    "                          width_court/2+service_box, baseline_serviceline, baseline_serviceline],\n",
    "                mode=\"lines\",\n",
    "                line=dict(width=2, color=\"white\")),\n",
    "            go.Scatter(\n",
    "                 x=[-5],\n",
    "                 y=[20],\n",
    "                 mode='text',\n",
    "                textfont=dict(color='white', size=12),\n",
    "                 text=rally_metadata[0][7]),\n",
    "            go.Scatter(\n",
    "                 x=[-5],\n",
    "                 y=[16],\n",
    "                 mode='text',\n",
    "                textfont=dict(color='white', size=12),\n",
    "                 text=rally_metadata[0][6]),\n",
    "                 go.Scatter(\n",
    "                 x=[-5],\n",
    "                 y=[18],\n",
    "                 mode='text',\n",
    "                textfont=dict(color='white', size=12),\n",
    "                 text=rally_metadata[0][5]),\n",
    "                 go.Scatter(\n",
    "                 x=[-5],\n",
    "                 y=[14],\n",
    "                 mode='text',\n",
    "                     textfont=dict(color='white', size=12),\n",
    "                 text=rally_metadata[0][3])\n",
    "              ],\n",
    "        layout=go.Layout(\n",
    "            xaxis=dict(range=[-9, height_court+2], autorange=False, zeroline=False, showgrid=False),\n",
    "            yaxis=dict(range=[-6.5, width_court+6.5], \n",
    "                       autorange=False, zeroline=False, showgrid=False, ),\n",
    "            height=800,\n",
    "            width=550,\n",
    "            title_text=\"Tennis Point\",\n",
    "            plot_bgcolor=\"#5080B0\",\n",
    "            updatemenus = [\n",
    "        {\n",
    "            \"buttons\": [\n",
    "                {\n",
    "                    \"args\": [None, {\"frame\": {\"duration\": 100, \"redraw\": True},\n",
    "                                    \"fromcurrent\": True, \"transition\": {\"duration\": 300,\n",
    "                                                                        \"easing\": \"quadratic-in-out\"}}],\n",
    "                    \"label\": \"Play\",\n",
    "                    \"method\": \"animate\"\n",
    "                },\n",
    "                {\n",
    "                    \"args\": [[None],{\"frame\": {\"duration\": 0, \"redraw\": True},\n",
    "                                      \"mode\": \"immediate\",\n",
    "                                      \"transition\": {\"duration\": 0}}],\n",
    "                    \"label\": \"Pause\",\n",
    "                    \"method\": \"animate\"\n",
    "                }\n",
    "            ],\n",
    "            \"direction\": \"left\",\n",
    "            \"pad\": {\"r\": 10, \"t\": 87},\n",
    "            \"showactive\": True,\n",
    "            \"type\": \"buttons\",\n",
    "            \"x\": 0.1,\n",
    "            \"xanchor\": \"right\",\n",
    "            \"y\": 0,\n",
    "            \"yanchor\": \"top\"\n",
    "        }\n",
    "    ]),\n",
    "\n",
    "        frames=[go.Frame(\n",
    "            data=[go.Scatter(\n",
    "                x=[player1[k][0]],\n",
    "                y=[player1[k][1]],\n",
    "                mode=\"markers\",\n",
    "                marker=dict(color=\"red\", size=10)),\n",
    "                 go.Scatter(\n",
    "                x=[player2[k][0]],\n",
    "                y=[player2[k][1]],\n",
    "                mode=\"markers\",\n",
    "                marker=dict(color=\"cyan\", size=10)),\n",
    "                  go.Scatter(\n",
    "                x=[ball[k][0]],\n",
    "                y=[ball[k][1]],\n",
    "                mode=\"markers\",\n",
    "                marker=dict(color=\"yellow\", size=10)),\n",
    "                 go.Scatter(\n",
    "                 x=[-5],\n",
    "                 y=[6],\n",
    "                 mode='text',\n",
    "                     textfont=dict(color='white', size=12),\n",
    "                 text=rally_metadata[k][0]),\n",
    "                 go.Scatter(\n",
    "                 x=[-5],\n",
    "                 y=[8],\n",
    "                 mode='text',\n",
    "                     textfont=dict(color='white', size=12),\n",
    "                 text=rally_metadata[k][1]),\n",
    "                 go.Scatter(\n",
    "                 x=[-5],\n",
    "                 y=[10],\n",
    "                 mode='text',\n",
    "                     textfont=dict(color='white', size=12),\n",
    "                 text=rally_metadata[k][2]),\n",
    "                 go.Scatter(\n",
    "                 x=[-5],\n",
    "                 y=[12],\n",
    "                 mode='text',\n",
    "                     textfont=dict(color='white', size=12),\n",
    "                 text=rally_metadata[k][4])])\n",
    "            for k in range(len(player1))]\n",
    "    )\n",
    "    return fig"
   ]
  },
  {
   "cell_type": "code",
   "execution_count": 12,
   "id": "f092ce4b",
   "metadata": {},
   "outputs": [],
   "source": [
    "fig = create_figure(temp, 8)"
   ]
  },
  {
   "cell_type": "code",
   "execution_count": 13,
   "id": "f7fca98f",
   "metadata": {},
   "outputs": [
    {
     "data": {
      "application/vnd.plotly.v1+json": {
       "config": {
        "plotlyServerURL": "https://plot.ly"
       },
       "data": [
        {
         "type": "scatter",
         "x": [
          -10
         ],
         "y": [
          -10
         ]
        },
        {
         "type": "scatter",
         "x": [
          -10
         ],
         "y": [
          -10
         ]
        },
        {
         "type": "scatter",
         "x": [
          -10
         ],
         "y": [
          -10
         ]
        },
        {
         "type": "scatter",
         "x": [
          -10
         ],
         "y": [
          -10
         ]
        },
        {
         "type": "scatter",
         "x": [
          -10
         ],
         "y": [
          -10
         ]
        },
        {
         "type": "scatter",
         "x": [
          -10
         ],
         "y": [
          -10
         ]
        },
        {
         "type": "scatter",
         "x": [
          -10
         ],
         "y": [
          -10
         ]
        },
        {
         "type": "scatter",
         "x": [
          -10
         ],
         "y": [
          -10
         ]
        },
        {
         "type": "scatter",
         "x": [
          -10
         ],
         "y": [
          -10
         ]
        },
        {
         "type": "scatter",
         "x": [
          -10
         ],
         "y": [
          -10
         ]
        },
        {
         "line": {
          "color": "white",
          "width": 2
         },
         "mode": "lines",
         "type": "scatter",
         "x": [
          10.97,
          0
         ],
         "y": [
          11.89,
          11.89
         ]
        },
        {
         "line": {
          "color": "white",
          "width": 2
         },
         "mode": "lines",
         "type": "scatter",
         "x": [
          0,
          0,
          10.97,
          10.97,
          0
         ],
         "y": [
          0,
          23.78,
          23.78,
          0,
          0
         ]
        },
        {
         "line": {
          "color": "white",
          "width": 2
         },
         "mode": "lines",
         "type": "scatter",
         "x": [
          5.485,
          5.49
         ],
         "y": [
          5.485,
          18.29
         ]
        },
        {
         "line": {
          "color": "white",
          "width": 2
         },
         "mode": "lines",
         "type": "scatter",
         "x": [
          5.485,
          5.485
         ],
         "y": [
          0,
          0.45
         ]
        },
        {
         "line": {
          "color": "white",
          "width": 2
         },
         "mode": "lines",
         "type": "scatter",
         "x": [
          5.485,
          5.485
         ],
         "y": [
          23.78,
          23.330000000000002
         ]
        },
        {
         "line": {
          "color": "white",
          "width": 2
         },
         "mode": "lines",
         "type": "scatter",
         "x": [
          1.37,
          1.37
         ],
         "y": [
          0,
          23.78
         ]
        },
        {
         "line": {
          "color": "white",
          "width": 2
         },
         "mode": "lines",
         "type": "scatter",
         "x": [
          9.600000000000001,
          9.600000000000001
         ],
         "y": [
          0,
          23.78
         ]
        },
        {
         "line": {
          "color": "white",
          "width": 2
         },
         "mode": "lines",
         "type": "scatter",
         "x": [
          1.37,
          1.37,
          9.600000000000001,
          9.600000000000001,
          1.37
         ],
         "y": [
          5.5,
          18.29,
          18.29,
          5.5,
          5.5
         ]
        },
        {
         "mode": "text",
         "text": "score 1:0, 15:0",
         "textfont": {
          "color": "white",
          "size": 12
         },
         "type": "scatter",
         "x": [
          -5
         ],
         "y": [
          20
         ]
        },
        {
         "mode": "text",
         "text": "1st/2nd serve second",
         "textfont": {
          "color": "white",
          "size": 12
         },
         "type": "scatter",
         "x": [
          -5
         ],
         "y": [
          16
         ]
        },
        {
         "mode": "text",
         "text": "server Nadal",
         "textfont": {
          "color": "white",
          "size": 12
         },
         "type": "scatter",
         "x": [
          -5
         ],
         "y": [
          18
         ]
        },
        {
         "mode": "text",
         "text": "rallyid 8",
         "textfont": {
          "color": "white",
          "size": 12
         },
         "type": "scatter",
         "x": [
          -5
         ],
         "y": [
          14
         ]
        }
       ],
       "frames": [
        {
         "data": [
          {
           "marker": {
            "color": "red",
            "size": 10
           },
           "mode": "markers",
           "type": "scatter",
           "x": [
            5.48
           ],
           "y": [
            -0.4
           ]
          },
          {
           "marker": {
            "color": "cyan",
            "size": 10
           },
           "mode": "markers",
           "type": "scatter",
           "x": [
            1.64
           ],
           "y": [
            23.86
           ]
          },
          {
           "marker": {
            "color": "yellow",
            "size": 10
           },
           "mode": "markers",
           "type": "scatter",
           "x": [
            5.48
           ],
           "y": [
            -0.4
           ]
          },
          {
           "mode": "text",
           "text": "type serve",
           "textfont": {
            "color": "white",
            "size": 12
           },
           "type": "scatter",
           "x": [
            -5
           ],
           "y": [
            6
           ]
          },
          {
           "mode": "text",
           "text": "stroke forehand",
           "textfont": {
            "color": "white",
            "size": 12
           },
           "type": "scatter",
           "x": [
            -5
           ],
           "y": [
            8
           ]
          },
          {
           "mode": "text",
           "text": "hitter Nadal",
           "textfont": {
            "color": "white",
            "size": 12
           },
           "type": "scatter",
           "x": [
            -5
           ],
           "y": [
            10
           ]
          },
          {
           "mode": "text",
           "text": "strokeid 1",
           "textfont": {
            "color": "white",
            "size": 12
           },
           "type": "scatter",
           "x": [
            -5
           ],
           "y": [
            12
           ]
          }
         ]
        },
        {
         "data": [
          {
           "marker": {
            "color": "red",
            "size": 10
           },
           "mode": "markers",
           "type": "scatter",
           "x": [
            5.515000000000001
           ],
           "y": [
            -0.23100000000000004
           ]
          },
          {
           "marker": {
            "color": "cyan",
            "size": 10
           },
           "mode": "markers",
           "type": "scatter",
           "x": [
            1.858
           ],
           "y": [
            23.907
           ]
          },
          {
           "marker": {
            "color": "yellow",
            "size": 10
           },
           "mode": "markers",
           "type": "scatter",
           "x": [
            5.314
           ],
           "y": [
            2.073
           ]
          },
          {
           "mode": "text",
           "text": "type serve",
           "textfont": {
            "color": "white",
            "size": 12
           },
           "type": "scatter",
           "x": [
            -5
           ],
           "y": [
            6
           ]
          },
          {
           "mode": "text",
           "text": "stroke forehand",
           "textfont": {
            "color": "white",
            "size": 12
           },
           "type": "scatter",
           "x": [
            -5
           ],
           "y": [
            8
           ]
          },
          {
           "mode": "text",
           "text": "hitter Nadal",
           "textfont": {
            "color": "white",
            "size": 12
           },
           "type": "scatter",
           "x": [
            -5
           ],
           "y": [
            10
           ]
          },
          {
           "mode": "text",
           "text": "strokeid 1",
           "textfont": {
            "color": "white",
            "size": 12
           },
           "type": "scatter",
           "x": [
            -5
           ],
           "y": [
            12
           ]
          }
         ]
        },
        {
         "data": [
          {
           "marker": {
            "color": "red",
            "size": 10
           },
           "mode": "markers",
           "type": "scatter",
           "x": [
            5.550000000000001
           ],
           "y": [
            -0.062000000000000055
           ]
          },
          {
           "marker": {
            "color": "cyan",
            "size": 10
           },
           "mode": "markers",
           "type": "scatter",
           "x": [
            2.076
           ],
           "y": [
            23.954
           ]
          },
          {
           "marker": {
            "color": "yellow",
            "size": 10
           },
           "mode": "markers",
           "type": "scatter",
           "x": [
            5.148000000000001
           ],
           "y": [
            4.545999999999999
           ]
          },
          {
           "mode": "text",
           "text": "type serve",
           "textfont": {
            "color": "white",
            "size": 12
           },
           "type": "scatter",
           "x": [
            -5
           ],
           "y": [
            6
           ]
          },
          {
           "mode": "text",
           "text": "stroke forehand",
           "textfont": {
            "color": "white",
            "size": 12
           },
           "type": "scatter",
           "x": [
            -5
           ],
           "y": [
            8
           ]
          },
          {
           "mode": "text",
           "text": "hitter Nadal",
           "textfont": {
            "color": "white",
            "size": 12
           },
           "type": "scatter",
           "x": [
            -5
           ],
           "y": [
            10
           ]
          },
          {
           "mode": "text",
           "text": "strokeid 1",
           "textfont": {
            "color": "white",
            "size": 12
           },
           "type": "scatter",
           "x": [
            -5
           ],
           "y": [
            12
           ]
          }
         ]
        },
        {
         "data": [
          {
           "marker": {
            "color": "red",
            "size": 10
           },
           "mode": "markers",
           "type": "scatter",
           "x": [
            5.585
           ],
           "y": [
            0.1070000000000001
           ]
          },
          {
           "marker": {
            "color": "cyan",
            "size": 10
           },
           "mode": "markers",
           "type": "scatter",
           "x": [
            2.294
           ],
           "y": [
            24.000999999999998
           ]
          },
          {
           "marker": {
            "color": "yellow",
            "size": 10
           },
           "mode": "markers",
           "type": "scatter",
           "x": [
            4.982
           ],
           "y": [
            7.019
           ]
          },
          {
           "mode": "text",
           "text": "type serve",
           "textfont": {
            "color": "white",
            "size": 12
           },
           "type": "scatter",
           "x": [
            -5
           ],
           "y": [
            6
           ]
          },
          {
           "mode": "text",
           "text": "stroke forehand",
           "textfont": {
            "color": "white",
            "size": 12
           },
           "type": "scatter",
           "x": [
            -5
           ],
           "y": [
            8
           ]
          },
          {
           "mode": "text",
           "text": "hitter Nadal",
           "textfont": {
            "color": "white",
            "size": 12
           },
           "type": "scatter",
           "x": [
            -5
           ],
           "y": [
            10
           ]
          },
          {
           "mode": "text",
           "text": "strokeid 1",
           "textfont": {
            "color": "white",
            "size": 12
           },
           "type": "scatter",
           "x": [
            -5
           ],
           "y": [
            12
           ]
          }
         ]
        },
        {
         "data": [
          {
           "marker": {
            "color": "red",
            "size": 10
           },
           "mode": "markers",
           "type": "scatter",
           "x": [
            5.620000000000001
           ],
           "y": [
            0.276
           ]
          },
          {
           "marker": {
            "color": "cyan",
            "size": 10
           },
           "mode": "markers",
           "type": "scatter",
           "x": [
            2.512
           ],
           "y": [
            24.048
           ]
          },
          {
           "marker": {
            "color": "yellow",
            "size": 10
           },
           "mode": "markers",
           "type": "scatter",
           "x": [
            4.816000000000001
           ],
           "y": [
            9.491999999999999
           ]
          },
          {
           "mode": "text",
           "text": "type serve",
           "textfont": {
            "color": "white",
            "size": 12
           },
           "type": "scatter",
           "x": [
            -5
           ],
           "y": [
            6
           ]
          },
          {
           "mode": "text",
           "text": "stroke forehand",
           "textfont": {
            "color": "white",
            "size": 12
           },
           "type": "scatter",
           "x": [
            -5
           ],
           "y": [
            8
           ]
          },
          {
           "mode": "text",
           "text": "hitter Nadal",
           "textfont": {
            "color": "white",
            "size": 12
           },
           "type": "scatter",
           "x": [
            -5
           ],
           "y": [
            10
           ]
          },
          {
           "mode": "text",
           "text": "strokeid 1",
           "textfont": {
            "color": "white",
            "size": 12
           },
           "type": "scatter",
           "x": [
            -5
           ],
           "y": [
            12
           ]
          }
         ]
        },
        {
         "data": [
          {
           "marker": {
            "color": "red",
            "size": 10
           },
           "mode": "markers",
           "type": "scatter",
           "x": [
            5.655
           ],
           "y": [
            0.445
           ]
          },
          {
           "marker": {
            "color": "cyan",
            "size": 10
           },
           "mode": "markers",
           "type": "scatter",
           "x": [
            2.73
           ],
           "y": [
            24.095
           ]
          },
          {
           "marker": {
            "color": "yellow",
            "size": 10
           },
           "mode": "markers",
           "type": "scatter",
           "x": [
            4.65
           ],
           "y": [
            11.965
           ]
          },
          {
           "mode": "text",
           "text": "type serve",
           "textfont": {
            "color": "white",
            "size": 12
           },
           "type": "scatter",
           "x": [
            -5
           ],
           "y": [
            6
           ]
          },
          {
           "mode": "text",
           "text": "stroke forehand",
           "textfont": {
            "color": "white",
            "size": 12
           },
           "type": "scatter",
           "x": [
            -5
           ],
           "y": [
            8
           ]
          },
          {
           "mode": "text",
           "text": "hitter Nadal",
           "textfont": {
            "color": "white",
            "size": 12
           },
           "type": "scatter",
           "x": [
            -5
           ],
           "y": [
            10
           ]
          },
          {
           "mode": "text",
           "text": "strokeid 1",
           "textfont": {
            "color": "white",
            "size": 12
           },
           "type": "scatter",
           "x": [
            -5
           ],
           "y": [
            12
           ]
          }
         ]
        },
        {
         "data": [
          {
           "marker": {
            "color": "red",
            "size": 10
           },
           "mode": "markers",
           "type": "scatter",
           "x": [
            5.69
           ],
           "y": [
            0.6140000000000001
           ]
          },
          {
           "marker": {
            "color": "cyan",
            "size": 10
           },
           "mode": "markers",
           "type": "scatter",
           "x": [
            2.948
           ],
           "y": [
            24.141999999999996
           ]
          },
          {
           "marker": {
            "color": "yellow",
            "size": 10
           },
           "mode": "markers",
           "type": "scatter",
           "x": [
            4.484
           ],
           "y": [
            14.438
           ]
          },
          {
           "mode": "text",
           "text": "type serve",
           "textfont": {
            "color": "white",
            "size": 12
           },
           "type": "scatter",
           "x": [
            -5
           ],
           "y": [
            6
           ]
          },
          {
           "mode": "text",
           "text": "stroke forehand",
           "textfont": {
            "color": "white",
            "size": 12
           },
           "type": "scatter",
           "x": [
            -5
           ],
           "y": [
            8
           ]
          },
          {
           "mode": "text",
           "text": "hitter Nadal",
           "textfont": {
            "color": "white",
            "size": 12
           },
           "type": "scatter",
           "x": [
            -5
           ],
           "y": [
            10
           ]
          },
          {
           "mode": "text",
           "text": "strokeid 1",
           "textfont": {
            "color": "white",
            "size": 12
           },
           "type": "scatter",
           "x": [
            -5
           ],
           "y": [
            12
           ]
          }
         ]
        },
        {
         "data": [
          {
           "marker": {
            "color": "red",
            "size": 10
           },
           "mode": "markers",
           "type": "scatter",
           "x": [
            5.725
           ],
           "y": [
            0.7830000000000001
           ]
          },
          {
           "marker": {
            "color": "cyan",
            "size": 10
           },
           "mode": "markers",
           "type": "scatter",
           "x": [
            3.166
           ],
           "y": [
            24.188999999999997
           ]
          },
          {
           "marker": {
            "color": "yellow",
            "size": 10
           },
           "mode": "markers",
           "type": "scatter",
           "x": [
            4.318
           ],
           "y": [
            16.910999999999998
           ]
          },
          {
           "mode": "text",
           "text": "type serve",
           "textfont": {
            "color": "white",
            "size": 12
           },
           "type": "scatter",
           "x": [
            -5
           ],
           "y": [
            6
           ]
          },
          {
           "mode": "text",
           "text": "stroke forehand",
           "textfont": {
            "color": "white",
            "size": 12
           },
           "type": "scatter",
           "x": [
            -5
           ],
           "y": [
            8
           ]
          },
          {
           "mode": "text",
           "text": "hitter Nadal",
           "textfont": {
            "color": "white",
            "size": 12
           },
           "type": "scatter",
           "x": [
            -5
           ],
           "y": [
            10
           ]
          },
          {
           "mode": "text",
           "text": "strokeid 1",
           "textfont": {
            "color": "white",
            "size": 12
           },
           "type": "scatter",
           "x": [
            -5
           ],
           "y": [
            12
           ]
          }
         ]
        },
        {
         "data": [
          {
           "marker": {
            "color": "red",
            "size": 10
           },
           "mode": "markers",
           "type": "scatter",
           "x": [
            5.760000000000001
           ],
           "y": [
            0.9520000000000001
           ]
          },
          {
           "marker": {
            "color": "cyan",
            "size": 10
           },
           "mode": "markers",
           "type": "scatter",
           "x": [
            3.384
           ],
           "y": [
            24.235999999999997
           ]
          },
          {
           "marker": {
            "color": "yellow",
            "size": 10
           },
           "mode": "markers",
           "type": "scatter",
           "x": [
            4.152
           ],
           "y": [
            19.384
           ]
          },
          {
           "mode": "text",
           "text": "type serve",
           "textfont": {
            "color": "white",
            "size": 12
           },
           "type": "scatter",
           "x": [
            -5
           ],
           "y": [
            6
           ]
          },
          {
           "mode": "text",
           "text": "stroke forehand",
           "textfont": {
            "color": "white",
            "size": 12
           },
           "type": "scatter",
           "x": [
            -5
           ],
           "y": [
            8
           ]
          },
          {
           "mode": "text",
           "text": "hitter Nadal",
           "textfont": {
            "color": "white",
            "size": 12
           },
           "type": "scatter",
           "x": [
            -5
           ],
           "y": [
            10
           ]
          },
          {
           "mode": "text",
           "text": "strokeid 1",
           "textfont": {
            "color": "white",
            "size": 12
           },
           "type": "scatter",
           "x": [
            -5
           ],
           "y": [
            12
           ]
          }
         ]
        },
        {
         "data": [
          {
           "marker": {
            "color": "red",
            "size": 10
           },
           "mode": "markers",
           "type": "scatter",
           "x": [
            5.795
           ],
           "y": [
            1.121
           ]
          },
          {
           "marker": {
            "color": "cyan",
            "size": 10
           },
           "mode": "markers",
           "type": "scatter",
           "x": [
            3.602
           ],
           "y": [
            24.282999999999998
           ]
          },
          {
           "marker": {
            "color": "yellow",
            "size": 10
           },
           "mode": "markers",
           "type": "scatter",
           "x": [
            3.9859999999999998
           ],
           "y": [
            21.857
           ]
          },
          {
           "mode": "text",
           "text": "type serve",
           "textfont": {
            "color": "white",
            "size": 12
           },
           "type": "scatter",
           "x": [
            -5
           ],
           "y": [
            6
           ]
          },
          {
           "mode": "text",
           "text": "stroke forehand",
           "textfont": {
            "color": "white",
            "size": 12
           },
           "type": "scatter",
           "x": [
            -5
           ],
           "y": [
            8
           ]
          },
          {
           "mode": "text",
           "text": "hitter Nadal",
           "textfont": {
            "color": "white",
            "size": 12
           },
           "type": "scatter",
           "x": [
            -5
           ],
           "y": [
            10
           ]
          },
          {
           "mode": "text",
           "text": "strokeid 1",
           "textfont": {
            "color": "white",
            "size": 12
           },
           "type": "scatter",
           "x": [
            -5
           ],
           "y": [
            12
           ]
          }
         ]
        },
        {
         "data": [
          {
           "marker": {
            "color": "red",
            "size": 10
           },
           "mode": "markers",
           "type": "scatter",
           "x": [
            5.83
           ],
           "y": [
            1.29
           ]
          },
          {
           "marker": {
            "color": "cyan",
            "size": 10
           },
           "mode": "markers",
           "type": "scatter",
           "x": [
            3.82
           ],
           "y": [
            24.33
           ]
          },
          {
           "marker": {
            "color": "yellow",
            "size": 10
           },
           "mode": "markers",
           "type": "scatter",
           "x": [
            3.82
           ],
           "y": [
            24.33
           ]
          },
          {
           "mode": "text",
           "text": "type return",
           "textfont": {
            "color": "white",
            "size": 12
           },
           "type": "scatter",
           "x": [
            -5
           ],
           "y": [
            6
           ]
          },
          {
           "mode": "text",
           "text": "stroke backhand",
           "textfont": {
            "color": "white",
            "size": 12
           },
           "type": "scatter",
           "x": [
            -5
           ],
           "y": [
            8
           ]
          },
          {
           "mode": "text",
           "text": "hitter Djokovic",
           "textfont": {
            "color": "white",
            "size": 12
           },
           "type": "scatter",
           "x": [
            -5
           ],
           "y": [
            10
           ]
          },
          {
           "mode": "text",
           "text": "strokeid 2",
           "textfont": {
            "color": "white",
            "size": 12
           },
           "type": "scatter",
           "x": [
            -5
           ],
           "y": [
            12
           ]
          }
         ]
        },
        {
         "data": [
          {
           "marker": {
            "color": "red",
            "size": 10
           },
           "mode": "markers",
           "type": "scatter",
           "x": [
            5.796
           ],
           "y": [
            1.129
           ]
          },
          {
           "marker": {
            "color": "cyan",
            "size": 10
           },
           "mode": "markers",
           "type": "scatter",
           "x": [
            3.9639999999999995
           ],
           "y": [
            24.423
           ]
          },
          {
           "marker": {
            "color": "yellow",
            "size": 10
           },
           "mode": "markers",
           "type": "scatter",
           "x": [
            3.9869999999999997
           ],
           "y": [
            21.865
           ]
          },
          {
           "mode": "text",
           "text": "type return",
           "textfont": {
            "color": "white",
            "size": 12
           },
           "type": "scatter",
           "x": [
            -5
           ],
           "y": [
            6
           ]
          },
          {
           "mode": "text",
           "text": "stroke backhand",
           "textfont": {
            "color": "white",
            "size": 12
           },
           "type": "scatter",
           "x": [
            -5
           ],
           "y": [
            8
           ]
          },
          {
           "mode": "text",
           "text": "hitter Djokovic",
           "textfont": {
            "color": "white",
            "size": 12
           },
           "type": "scatter",
           "x": [
            -5
           ],
           "y": [
            10
           ]
          },
          {
           "mode": "text",
           "text": "strokeid 2",
           "textfont": {
            "color": "white",
            "size": 12
           },
           "type": "scatter",
           "x": [
            -5
           ],
           "y": [
            12
           ]
          }
         ]
        },
        {
         "data": [
          {
           "marker": {
            "color": "red",
            "size": 10
           },
           "mode": "markers",
           "type": "scatter",
           "x": [
            5.7620000000000005
           ],
           "y": [
            0.968
           ]
          },
          {
           "marker": {
            "color": "cyan",
            "size": 10
           },
           "mode": "markers",
           "type": "scatter",
           "x": [
            4.1080000000000005
           ],
           "y": [
            24.516
           ]
          },
          {
           "marker": {
            "color": "yellow",
            "size": 10
           },
           "mode": "markers",
           "type": "scatter",
           "x": [
            4.154
           ],
           "y": [
            19.4
           ]
          },
          {
           "mode": "text",
           "text": "type return",
           "textfont": {
            "color": "white",
            "size": 12
           },
           "type": "scatter",
           "x": [
            -5
           ],
           "y": [
            6
           ]
          },
          {
           "mode": "text",
           "text": "stroke backhand",
           "textfont": {
            "color": "white",
            "size": 12
           },
           "type": "scatter",
           "x": [
            -5
           ],
           "y": [
            8
           ]
          },
          {
           "mode": "text",
           "text": "hitter Djokovic",
           "textfont": {
            "color": "white",
            "size": 12
           },
           "type": "scatter",
           "x": [
            -5
           ],
           "y": [
            10
           ]
          },
          {
           "mode": "text",
           "text": "strokeid 2",
           "textfont": {
            "color": "white",
            "size": 12
           },
           "type": "scatter",
           "x": [
            -5
           ],
           "y": [
            12
           ]
          }
         ]
        },
        {
         "data": [
          {
           "marker": {
            "color": "red",
            "size": 10
           },
           "mode": "markers",
           "type": "scatter",
           "x": [
            5.728
           ],
           "y": [
            0.8069999999999999
           ]
          },
          {
           "marker": {
            "color": "cyan",
            "size": 10
           },
           "mode": "markers",
           "type": "scatter",
           "x": [
            4.252
           ],
           "y": [
            24.609
           ]
          },
          {
           "marker": {
            "color": "yellow",
            "size": 10
           },
           "mode": "markers",
           "type": "scatter",
           "x": [
            4.321
           ],
           "y": [
            16.935
           ]
          },
          {
           "mode": "text",
           "text": "type return",
           "textfont": {
            "color": "white",
            "size": 12
           },
           "type": "scatter",
           "x": [
            -5
           ],
           "y": [
            6
           ]
          },
          {
           "mode": "text",
           "text": "stroke backhand",
           "textfont": {
            "color": "white",
            "size": 12
           },
           "type": "scatter",
           "x": [
            -5
           ],
           "y": [
            8
           ]
          },
          {
           "mode": "text",
           "text": "hitter Djokovic",
           "textfont": {
            "color": "white",
            "size": 12
           },
           "type": "scatter",
           "x": [
            -5
           ],
           "y": [
            10
           ]
          },
          {
           "mode": "text",
           "text": "strokeid 2",
           "textfont": {
            "color": "white",
            "size": 12
           },
           "type": "scatter",
           "x": [
            -5
           ],
           "y": [
            12
           ]
          }
         ]
        },
        {
         "data": [
          {
           "marker": {
            "color": "red",
            "size": 10
           },
           "mode": "markers",
           "type": "scatter",
           "x": [
            5.694
           ],
           "y": [
            0.646
           ]
          },
          {
           "marker": {
            "color": "cyan",
            "size": 10
           },
           "mode": "markers",
           "type": "scatter",
           "x": [
            4.396
           ],
           "y": [
            24.701999999999998
           ]
          },
          {
           "marker": {
            "color": "yellow",
            "size": 10
           },
           "mode": "markers",
           "type": "scatter",
           "x": [
            4.4879999999999995
           ],
           "y": [
            14.469999999999999
           ]
          },
          {
           "mode": "text",
           "text": "type return",
           "textfont": {
            "color": "white",
            "size": 12
           },
           "type": "scatter",
           "x": [
            -5
           ],
           "y": [
            6
           ]
          },
          {
           "mode": "text",
           "text": "stroke backhand",
           "textfont": {
            "color": "white",
            "size": 12
           },
           "type": "scatter",
           "x": [
            -5
           ],
           "y": [
            8
           ]
          },
          {
           "mode": "text",
           "text": "hitter Djokovic",
           "textfont": {
            "color": "white",
            "size": 12
           },
           "type": "scatter",
           "x": [
            -5
           ],
           "y": [
            10
           ]
          },
          {
           "mode": "text",
           "text": "strokeid 2",
           "textfont": {
            "color": "white",
            "size": 12
           },
           "type": "scatter",
           "x": [
            -5
           ],
           "y": [
            12
           ]
          }
         ]
        },
        {
         "data": [
          {
           "marker": {
            "color": "red",
            "size": 10
           },
           "mode": "markers",
           "type": "scatter",
           "x": [
            5.66
           ],
           "y": [
            0.485
           ]
          },
          {
           "marker": {
            "color": "cyan",
            "size": 10
           },
           "mode": "markers",
           "type": "scatter",
           "x": [
            4.54
           ],
           "y": [
            24.795
           ]
          },
          {
           "marker": {
            "color": "yellow",
            "size": 10
           },
           "mode": "markers",
           "type": "scatter",
           "x": [
            4.655
           ],
           "y": [
            12.004999999999999
           ]
          },
          {
           "mode": "text",
           "text": "type return",
           "textfont": {
            "color": "white",
            "size": 12
           },
           "type": "scatter",
           "x": [
            -5
           ],
           "y": [
            6
           ]
          },
          {
           "mode": "text",
           "text": "stroke backhand",
           "textfont": {
            "color": "white",
            "size": 12
           },
           "type": "scatter",
           "x": [
            -5
           ],
           "y": [
            8
           ]
          },
          {
           "mode": "text",
           "text": "hitter Djokovic",
           "textfont": {
            "color": "white",
            "size": 12
           },
           "type": "scatter",
           "x": [
            -5
           ],
           "y": [
            10
           ]
          },
          {
           "mode": "text",
           "text": "strokeid 2",
           "textfont": {
            "color": "white",
            "size": 12
           },
           "type": "scatter",
           "x": [
            -5
           ],
           "y": [
            12
           ]
          }
         ]
        },
        {
         "data": [
          {
           "marker": {
            "color": "red",
            "size": 10
           },
           "mode": "markers",
           "type": "scatter",
           "x": [
            5.6259999999999994
           ],
           "y": [
            0.32399999999999984
           ]
          },
          {
           "marker": {
            "color": "cyan",
            "size": 10
           },
           "mode": "markers",
           "type": "scatter",
           "x": [
            4.683999999999999
           ],
           "y": [
            24.887999999999998
           ]
          },
          {
           "marker": {
            "color": "yellow",
            "size": 10
           },
           "mode": "markers",
           "type": "scatter",
           "x": [
            4.822
           ],
           "y": [
            9.539999999999997
           ]
          },
          {
           "mode": "text",
           "text": "type return",
           "textfont": {
            "color": "white",
            "size": 12
           },
           "type": "scatter",
           "x": [
            -5
           ],
           "y": [
            6
           ]
          },
          {
           "mode": "text",
           "text": "stroke backhand",
           "textfont": {
            "color": "white",
            "size": 12
           },
           "type": "scatter",
           "x": [
            -5
           ],
           "y": [
            8
           ]
          },
          {
           "mode": "text",
           "text": "hitter Djokovic",
           "textfont": {
            "color": "white",
            "size": 12
           },
           "type": "scatter",
           "x": [
            -5
           ],
           "y": [
            10
           ]
          },
          {
           "mode": "text",
           "text": "strokeid 2",
           "textfont": {
            "color": "white",
            "size": 12
           },
           "type": "scatter",
           "x": [
            -5
           ],
           "y": [
            12
           ]
          }
         ]
        },
        {
         "data": [
          {
           "marker": {
            "color": "red",
            "size": 10
           },
           "mode": "markers",
           "type": "scatter",
           "x": [
            5.5920000000000005
           ],
           "y": [
            0.16299999999999987
           ]
          },
          {
           "marker": {
            "color": "cyan",
            "size": 10
           },
           "mode": "markers",
           "type": "scatter",
           "x": [
            4.828
           ],
           "y": [
            24.981
           ]
          },
          {
           "marker": {
            "color": "yellow",
            "size": 10
           },
           "mode": "markers",
           "type": "scatter",
           "x": [
            4.989
           ],
           "y": [
            7.0749999999999975
           ]
          },
          {
           "mode": "text",
           "text": "type return",
           "textfont": {
            "color": "white",
            "size": 12
           },
           "type": "scatter",
           "x": [
            -5
           ],
           "y": [
            6
           ]
          },
          {
           "mode": "text",
           "text": "stroke backhand",
           "textfont": {
            "color": "white",
            "size": 12
           },
           "type": "scatter",
           "x": [
            -5
           ],
           "y": [
            8
           ]
          },
          {
           "mode": "text",
           "text": "hitter Djokovic",
           "textfont": {
            "color": "white",
            "size": 12
           },
           "type": "scatter",
           "x": [
            -5
           ],
           "y": [
            10
           ]
          },
          {
           "mode": "text",
           "text": "strokeid 2",
           "textfont": {
            "color": "white",
            "size": 12
           },
           "type": "scatter",
           "x": [
            -5
           ],
           "y": [
            12
           ]
          }
         ]
        },
        {
         "data": [
          {
           "marker": {
            "color": "red",
            "size": 10
           },
           "mode": "markers",
           "type": "scatter",
           "x": [
            5.558
           ],
           "y": [
            0.0019999999999999463
           ]
          },
          {
           "marker": {
            "color": "cyan",
            "size": 10
           },
           "mode": "markers",
           "type": "scatter",
           "x": [
            4.9719999999999995
           ],
           "y": [
            25.074
           ]
          },
          {
           "marker": {
            "color": "yellow",
            "size": 10
           },
           "mode": "markers",
           "type": "scatter",
           "x": [
            5.156000000000001
           ],
           "y": [
            4.6099999999999985
           ]
          },
          {
           "mode": "text",
           "text": "type return",
           "textfont": {
            "color": "white",
            "size": 12
           },
           "type": "scatter",
           "x": [
            -5
           ],
           "y": [
            6
           ]
          },
          {
           "mode": "text",
           "text": "stroke backhand",
           "textfont": {
            "color": "white",
            "size": 12
           },
           "type": "scatter",
           "x": [
            -5
           ],
           "y": [
            8
           ]
          },
          {
           "mode": "text",
           "text": "hitter Djokovic",
           "textfont": {
            "color": "white",
            "size": 12
           },
           "type": "scatter",
           "x": [
            -5
           ],
           "y": [
            10
           ]
          },
          {
           "mode": "text",
           "text": "strokeid 2",
           "textfont": {
            "color": "white",
            "size": 12
           },
           "type": "scatter",
           "x": [
            -5
           ],
           "y": [
            12
           ]
          }
         ]
        },
        {
         "data": [
          {
           "marker": {
            "color": "red",
            "size": 10
           },
           "mode": "markers",
           "type": "scatter",
           "x": [
            5.524000000000001
           ],
           "y": [
            -0.15900000000000006
           ]
          },
          {
           "marker": {
            "color": "cyan",
            "size": 10
           },
           "mode": "markers",
           "type": "scatter",
           "x": [
            5.116
           ],
           "y": [
            25.167
           ]
          },
          {
           "marker": {
            "color": "yellow",
            "size": 10
           },
           "mode": "markers",
           "type": "scatter",
           "x": [
            5.323
           ],
           "y": [
            2.1449999999999996
           ]
          },
          {
           "mode": "text",
           "text": "type return",
           "textfont": {
            "color": "white",
            "size": 12
           },
           "type": "scatter",
           "x": [
            -5
           ],
           "y": [
            6
           ]
          },
          {
           "mode": "text",
           "text": "stroke backhand",
           "textfont": {
            "color": "white",
            "size": 12
           },
           "type": "scatter",
           "x": [
            -5
           ],
           "y": [
            8
           ]
          },
          {
           "mode": "text",
           "text": "hitter Djokovic",
           "textfont": {
            "color": "white",
            "size": 12
           },
           "type": "scatter",
           "x": [
            -5
           ],
           "y": [
            10
           ]
          },
          {
           "mode": "text",
           "text": "strokeid 2",
           "textfont": {
            "color": "white",
            "size": 12
           },
           "type": "scatter",
           "x": [
            -5
           ],
           "y": [
            12
           ]
          }
         ]
        },
        {
         "data": [
          {
           "marker": {
            "color": "red",
            "size": 10
           },
           "mode": "markers",
           "type": "scatter",
           "x": [
            5.49
           ],
           "y": [
            -0.32
           ]
          },
          {
           "marker": {
            "color": "cyan",
            "size": 10
           },
           "mode": "markers",
           "type": "scatter",
           "x": [
            5.26
           ],
           "y": [
            25.26
           ]
          },
          {
           "marker": {
            "color": "yellow",
            "size": 10
           },
           "mode": "markers",
           "type": "scatter",
           "x": [
            5.49
           ],
           "y": [
            -0.32
           ]
          },
          {
           "mode": "text",
           "text": "type topspin",
           "textfont": {
            "color": "white",
            "size": 12
           },
           "type": "scatter",
           "x": [
            -5
           ],
           "y": [
            6
           ]
          },
          {
           "mode": "text",
           "text": "stroke forehand",
           "textfont": {
            "color": "white",
            "size": 12
           },
           "type": "scatter",
           "x": [
            -5
           ],
           "y": [
            8
           ]
          },
          {
           "mode": "text",
           "text": "hitter Nadal",
           "textfont": {
            "color": "white",
            "size": 12
           },
           "type": "scatter",
           "x": [
            -5
           ],
           "y": [
            10
           ]
          },
          {
           "mode": "text",
           "text": "strokeid 3",
           "textfont": {
            "color": "white",
            "size": 12
           },
           "type": "scatter",
           "x": [
            -5
           ],
           "y": [
            12
           ]
          }
         ]
        },
        {
         "data": [
          {
           "marker": {
            "color": "red",
            "size": 10
           },
           "mode": "markers",
           "type": "scatter",
           "x": [
            5.3790000000000004
           ],
           "y": [
            -0.42600000000000005
           ]
          },
          {
           "marker": {
            "color": "cyan",
            "size": 10
           },
           "mode": "markers",
           "type": "scatter",
           "x": [
            5.5120000000000005
           ],
           "y": [
            25.248
           ]
          },
          {
           "marker": {
            "color": "yellow",
            "size": 10
           },
           "mode": "markers",
           "type": "scatter",
           "x": [
            5.719000000000001
           ],
           "y": [
            2.226
           ]
          },
          {
           "mode": "text",
           "text": "type topspin",
           "textfont": {
            "color": "white",
            "size": 12
           },
           "type": "scatter",
           "x": [
            -5
           ],
           "y": [
            6
           ]
          },
          {
           "mode": "text",
           "text": "stroke forehand",
           "textfont": {
            "color": "white",
            "size": 12
           },
           "type": "scatter",
           "x": [
            -5
           ],
           "y": [
            8
           ]
          },
          {
           "mode": "text",
           "text": "hitter Nadal",
           "textfont": {
            "color": "white",
            "size": 12
           },
           "type": "scatter",
           "x": [
            -5
           ],
           "y": [
            10
           ]
          },
          {
           "mode": "text",
           "text": "strokeid 3",
           "textfont": {
            "color": "white",
            "size": 12
           },
           "type": "scatter",
           "x": [
            -5
           ],
           "y": [
            12
           ]
          }
         ]
        },
        {
         "data": [
          {
           "marker": {
            "color": "red",
            "size": 10
           },
           "mode": "markers",
           "type": "scatter",
           "x": [
            5.268000000000001
           ],
           "y": [
            -0.532
           ]
          },
          {
           "marker": {
            "color": "cyan",
            "size": 10
           },
           "mode": "markers",
           "type": "scatter",
           "x": [
            5.764
           ],
           "y": [
            25.236000000000004
           ]
          },
          {
           "marker": {
            "color": "yellow",
            "size": 10
           },
           "mode": "markers",
           "type": "scatter",
           "x": [
            5.948
           ],
           "y": [
            4.772
           ]
          },
          {
           "mode": "text",
           "text": "type topspin",
           "textfont": {
            "color": "white",
            "size": 12
           },
           "type": "scatter",
           "x": [
            -5
           ],
           "y": [
            6
           ]
          },
          {
           "mode": "text",
           "text": "stroke forehand",
           "textfont": {
            "color": "white",
            "size": 12
           },
           "type": "scatter",
           "x": [
            -5
           ],
           "y": [
            8
           ]
          },
          {
           "mode": "text",
           "text": "hitter Nadal",
           "textfont": {
            "color": "white",
            "size": 12
           },
           "type": "scatter",
           "x": [
            -5
           ],
           "y": [
            10
           ]
          },
          {
           "mode": "text",
           "text": "strokeid 3",
           "textfont": {
            "color": "white",
            "size": 12
           },
           "type": "scatter",
           "x": [
            -5
           ],
           "y": [
            12
           ]
          }
         ]
        },
        {
         "data": [
          {
           "marker": {
            "color": "red",
            "size": 10
           },
           "mode": "markers",
           "type": "scatter",
           "x": [
            5.157
           ],
           "y": [
            -0.638
           ]
          },
          {
           "marker": {
            "color": "cyan",
            "size": 10
           },
           "mode": "markers",
           "type": "scatter",
           "x": [
            6.016
           ],
           "y": [
            25.224
           ]
          },
          {
           "marker": {
            "color": "yellow",
            "size": 10
           },
           "mode": "markers",
           "type": "scatter",
           "x": [
            6.1770000000000005
           ],
           "y": [
            7.318000000000001
           ]
          },
          {
           "mode": "text",
           "text": "type topspin",
           "textfont": {
            "color": "white",
            "size": 12
           },
           "type": "scatter",
           "x": [
            -5
           ],
           "y": [
            6
           ]
          },
          {
           "mode": "text",
           "text": "stroke forehand",
           "textfont": {
            "color": "white",
            "size": 12
           },
           "type": "scatter",
           "x": [
            -5
           ],
           "y": [
            8
           ]
          },
          {
           "mode": "text",
           "text": "hitter Nadal",
           "textfont": {
            "color": "white",
            "size": 12
           },
           "type": "scatter",
           "x": [
            -5
           ],
           "y": [
            10
           ]
          },
          {
           "mode": "text",
           "text": "strokeid 3",
           "textfont": {
            "color": "white",
            "size": 12
           },
           "type": "scatter",
           "x": [
            -5
           ],
           "y": [
            12
           ]
          }
         ]
        },
        {
         "data": [
          {
           "marker": {
            "color": "red",
            "size": 10
           },
           "mode": "markers",
           "type": "scatter",
           "x": [
            5.046
           ],
           "y": [
            -0.744
           ]
          },
          {
           "marker": {
            "color": "cyan",
            "size": 10
           },
           "mode": "markers",
           "type": "scatter",
           "x": [
            6.268
           ],
           "y": [
            25.212000000000003
           ]
          },
          {
           "marker": {
            "color": "yellow",
            "size": 10
           },
           "mode": "markers",
           "type": "scatter",
           "x": [
            6.406000000000001
           ],
           "y": [
            9.864
           ]
          },
          {
           "mode": "text",
           "text": "type topspin",
           "textfont": {
            "color": "white",
            "size": 12
           },
           "type": "scatter",
           "x": [
            -5
           ],
           "y": [
            6
           ]
          },
          {
           "mode": "text",
           "text": "stroke forehand",
           "textfont": {
            "color": "white",
            "size": 12
           },
           "type": "scatter",
           "x": [
            -5
           ],
           "y": [
            8
           ]
          },
          {
           "mode": "text",
           "text": "hitter Nadal",
           "textfont": {
            "color": "white",
            "size": 12
           },
           "type": "scatter",
           "x": [
            -5
           ],
           "y": [
            10
           ]
          },
          {
           "mode": "text",
           "text": "strokeid 3",
           "textfont": {
            "color": "white",
            "size": 12
           },
           "type": "scatter",
           "x": [
            -5
           ],
           "y": [
            12
           ]
          }
         ]
        },
        {
         "data": [
          {
           "marker": {
            "color": "red",
            "size": 10
           },
           "mode": "markers",
           "type": "scatter",
           "x": [
            4.9350000000000005
           ],
           "y": [
            -0.85
           ]
          },
          {
           "marker": {
            "color": "cyan",
            "size": 10
           },
           "mode": "markers",
           "type": "scatter",
           "x": [
            6.52
           ],
           "y": [
            25.200000000000003
           ]
          },
          {
           "marker": {
            "color": "yellow",
            "size": 10
           },
           "mode": "markers",
           "type": "scatter",
           "x": [
            6.635
           ],
           "y": [
            12.41
           ]
          },
          {
           "mode": "text",
           "text": "type topspin",
           "textfont": {
            "color": "white",
            "size": 12
           },
           "type": "scatter",
           "x": [
            -5
           ],
           "y": [
            6
           ]
          },
          {
           "mode": "text",
           "text": "stroke forehand",
           "textfont": {
            "color": "white",
            "size": 12
           },
           "type": "scatter",
           "x": [
            -5
           ],
           "y": [
            8
           ]
          },
          {
           "mode": "text",
           "text": "hitter Nadal",
           "textfont": {
            "color": "white",
            "size": 12
           },
           "type": "scatter",
           "x": [
            -5
           ],
           "y": [
            10
           ]
          },
          {
           "mode": "text",
           "text": "strokeid 3",
           "textfont": {
            "color": "white",
            "size": 12
           },
           "type": "scatter",
           "x": [
            -5
           ],
           "y": [
            12
           ]
          }
         ]
        },
        {
         "data": [
          {
           "marker": {
            "color": "red",
            "size": 10
           },
           "mode": "markers",
           "type": "scatter",
           "x": [
            4.824
           ],
           "y": [
            -0.9560000000000001
           ]
          },
          {
           "marker": {
            "color": "cyan",
            "size": 10
           },
           "mode": "markers",
           "type": "scatter",
           "x": [
            6.772
           ],
           "y": [
            25.188000000000002
           ]
          },
          {
           "marker": {
            "color": "yellow",
            "size": 10
           },
           "mode": "markers",
           "type": "scatter",
           "x": [
            6.864000000000001
           ],
           "y": [
            14.956000000000003
           ]
          },
          {
           "mode": "text",
           "text": "type topspin",
           "textfont": {
            "color": "white",
            "size": 12
           },
           "type": "scatter",
           "x": [
            -5
           ],
           "y": [
            6
           ]
          },
          {
           "mode": "text",
           "text": "stroke forehand",
           "textfont": {
            "color": "white",
            "size": 12
           },
           "type": "scatter",
           "x": [
            -5
           ],
           "y": [
            8
           ]
          },
          {
           "mode": "text",
           "text": "hitter Nadal",
           "textfont": {
            "color": "white",
            "size": 12
           },
           "type": "scatter",
           "x": [
            -5
           ],
           "y": [
            10
           ]
          },
          {
           "mode": "text",
           "text": "strokeid 3",
           "textfont": {
            "color": "white",
            "size": 12
           },
           "type": "scatter",
           "x": [
            -5
           ],
           "y": [
            12
           ]
          }
         ]
        },
        {
         "data": [
          {
           "marker": {
            "color": "red",
            "size": 10
           },
           "mode": "markers",
           "type": "scatter",
           "x": [
            4.713
           ],
           "y": [
            -1.0619999999999998
           ]
          },
          {
           "marker": {
            "color": "cyan",
            "size": 10
           },
           "mode": "markers",
           "type": "scatter",
           "x": [
            7.024
           ],
           "y": [
            25.176000000000002
           ]
          },
          {
           "marker": {
            "color": "yellow",
            "size": 10
           },
           "mode": "markers",
           "type": "scatter",
           "x": [
            7.093
           ],
           "y": [
            17.502000000000002
           ]
          },
          {
           "mode": "text",
           "text": "type topspin",
           "textfont": {
            "color": "white",
            "size": 12
           },
           "type": "scatter",
           "x": [
            -5
           ],
           "y": [
            6
           ]
          },
          {
           "mode": "text",
           "text": "stroke forehand",
           "textfont": {
            "color": "white",
            "size": 12
           },
           "type": "scatter",
           "x": [
            -5
           ],
           "y": [
            8
           ]
          },
          {
           "mode": "text",
           "text": "hitter Nadal",
           "textfont": {
            "color": "white",
            "size": 12
           },
           "type": "scatter",
           "x": [
            -5
           ],
           "y": [
            10
           ]
          },
          {
           "mode": "text",
           "text": "strokeid 3",
           "textfont": {
            "color": "white",
            "size": 12
           },
           "type": "scatter",
           "x": [
            -5
           ],
           "y": [
            12
           ]
          }
         ]
        },
        {
         "data": [
          {
           "marker": {
            "color": "red",
            "size": 10
           },
           "mode": "markers",
           "type": "scatter",
           "x": [
            4.602
           ],
           "y": [
            -1.168
           ]
          },
          {
           "marker": {
            "color": "cyan",
            "size": 10
           },
           "mode": "markers",
           "type": "scatter",
           "x": [
            7.276
           ],
           "y": [
            25.164
           ]
          },
          {
           "marker": {
            "color": "yellow",
            "size": 10
           },
           "mode": "markers",
           "type": "scatter",
           "x": [
            7.322
           ],
           "y": [
            20.048000000000002
           ]
          },
          {
           "mode": "text",
           "text": "type topspin",
           "textfont": {
            "color": "white",
            "size": 12
           },
           "type": "scatter",
           "x": [
            -5
           ],
           "y": [
            6
           ]
          },
          {
           "mode": "text",
           "text": "stroke forehand",
           "textfont": {
            "color": "white",
            "size": 12
           },
           "type": "scatter",
           "x": [
            -5
           ],
           "y": [
            8
           ]
          },
          {
           "mode": "text",
           "text": "hitter Nadal",
           "textfont": {
            "color": "white",
            "size": 12
           },
           "type": "scatter",
           "x": [
            -5
           ],
           "y": [
            10
           ]
          },
          {
           "mode": "text",
           "text": "strokeid 3",
           "textfont": {
            "color": "white",
            "size": 12
           },
           "type": "scatter",
           "x": [
            -5
           ],
           "y": [
            12
           ]
          }
         ]
        },
        {
         "data": [
          {
           "marker": {
            "color": "red",
            "size": 10
           },
           "mode": "markers",
           "type": "scatter",
           "x": [
            4.491
           ],
           "y": [
            -1.274
           ]
          },
          {
           "marker": {
            "color": "cyan",
            "size": 10
           },
           "mode": "markers",
           "type": "scatter",
           "x": [
            7.5280000000000005
           ],
           "y": [
            25.152
           ]
          },
          {
           "marker": {
            "color": "yellow",
            "size": 10
           },
           "mode": "markers",
           "type": "scatter",
           "x": [
            7.551
           ],
           "y": [
            22.594
           ]
          },
          {
           "mode": "text",
           "text": "type topspin",
           "textfont": {
            "color": "white",
            "size": 12
           },
           "type": "scatter",
           "x": [
            -5
           ],
           "y": [
            6
           ]
          },
          {
           "mode": "text",
           "text": "stroke forehand",
           "textfont": {
            "color": "white",
            "size": 12
           },
           "type": "scatter",
           "x": [
            -5
           ],
           "y": [
            8
           ]
          },
          {
           "mode": "text",
           "text": "hitter Nadal",
           "textfont": {
            "color": "white",
            "size": 12
           },
           "type": "scatter",
           "x": [
            -5
           ],
           "y": [
            10
           ]
          },
          {
           "mode": "text",
           "text": "strokeid 3",
           "textfont": {
            "color": "white",
            "size": 12
           },
           "type": "scatter",
           "x": [
            -5
           ],
           "y": [
            12
           ]
          }
         ]
        },
        {
         "data": [
          {
           "marker": {
            "color": "red",
            "size": 10
           },
           "mode": "markers",
           "type": "scatter",
           "x": [
            4.38
           ],
           "y": [
            -1.38
           ]
          },
          {
           "marker": {
            "color": "cyan",
            "size": 10
           },
           "mode": "markers",
           "type": "scatter",
           "x": [
            7.78
           ],
           "y": [
            25.14
           ]
          },
          {
           "marker": {
            "color": "yellow",
            "size": 10
           },
           "mode": "markers",
           "type": "scatter",
           "x": [
            7.78
           ],
           "y": [
            25.14
           ]
          },
          {
           "mode": "text",
           "text": "type topspin",
           "textfont": {
            "color": "white",
            "size": 12
           },
           "type": "scatter",
           "x": [
            -5
           ],
           "y": [
            6
           ]
          },
          {
           "mode": "text",
           "text": "stroke backhand",
           "textfont": {
            "color": "white",
            "size": 12
           },
           "type": "scatter",
           "x": [
            -5
           ],
           "y": [
            8
           ]
          },
          {
           "mode": "text",
           "text": "hitter Djokovic",
           "textfont": {
            "color": "white",
            "size": 12
           },
           "type": "scatter",
           "x": [
            -5
           ],
           "y": [
            10
           ]
          },
          {
           "mode": "text",
           "text": "strokeid 4",
           "textfont": {
            "color": "white",
            "size": 12
           },
           "type": "scatter",
           "x": [
            -5
           ],
           "y": [
            12
           ]
          }
         ]
        },
        {
         "data": [
          {
           "marker": {
            "color": "red",
            "size": 10
           },
           "mode": "markers",
           "type": "scatter",
           "x": [
            4.722
           ],
           "y": [
            -1.358
           ]
          },
          {
           "marker": {
            "color": "cyan",
            "size": 10
           },
           "mode": "markers",
           "type": "scatter",
           "x": [
            7.472
           ],
           "y": [
            25.32
           ]
          },
          {
           "marker": {
            "color": "yellow",
            "size": 10
           },
           "mode": "markers",
           "type": "scatter",
           "x": [
            7.782000000000001
           ],
           "y": [
            22.51
           ]
          },
          {
           "mode": "text",
           "text": "type topspin",
           "textfont": {
            "color": "white",
            "size": 12
           },
           "type": "scatter",
           "x": [
            -5
           ],
           "y": [
            6
           ]
          },
          {
           "mode": "text",
           "text": "stroke backhand",
           "textfont": {
            "color": "white",
            "size": 12
           },
           "type": "scatter",
           "x": [
            -5
           ],
           "y": [
            8
           ]
          },
          {
           "mode": "text",
           "text": "hitter Djokovic",
           "textfont": {
            "color": "white",
            "size": 12
           },
           "type": "scatter",
           "x": [
            -5
           ],
           "y": [
            10
           ]
          },
          {
           "mode": "text",
           "text": "strokeid 4",
           "textfont": {
            "color": "white",
            "size": 12
           },
           "type": "scatter",
           "x": [
            -5
           ],
           "y": [
            12
           ]
          }
         ]
        },
        {
         "data": [
          {
           "marker": {
            "color": "red",
            "size": 10
           },
           "mode": "markers",
           "type": "scatter",
           "x": [
            5.064
           ],
           "y": [
            -1.3359999999999999
           ]
          },
          {
           "marker": {
            "color": "cyan",
            "size": 10
           },
           "mode": "markers",
           "type": "scatter",
           "x": [
            7.164000000000001
           ],
           "y": [
            25.500000000000004
           ]
          },
          {
           "marker": {
            "color": "yellow",
            "size": 10
           },
           "mode": "markers",
           "type": "scatter",
           "x": [
            7.784000000000001
           ],
           "y": [
            19.880000000000003
           ]
          },
          {
           "mode": "text",
           "text": "type topspin",
           "textfont": {
            "color": "white",
            "size": 12
           },
           "type": "scatter",
           "x": [
            -5
           ],
           "y": [
            6
           ]
          },
          {
           "mode": "text",
           "text": "stroke backhand",
           "textfont": {
            "color": "white",
            "size": 12
           },
           "type": "scatter",
           "x": [
            -5
           ],
           "y": [
            8
           ]
          },
          {
           "mode": "text",
           "text": "hitter Djokovic",
           "textfont": {
            "color": "white",
            "size": 12
           },
           "type": "scatter",
           "x": [
            -5
           ],
           "y": [
            10
           ]
          },
          {
           "mode": "text",
           "text": "strokeid 4",
           "textfont": {
            "color": "white",
            "size": 12
           },
           "type": "scatter",
           "x": [
            -5
           ],
           "y": [
            12
           ]
          }
         ]
        },
        {
         "data": [
          {
           "marker": {
            "color": "red",
            "size": 10
           },
           "mode": "markers",
           "type": "scatter",
           "x": [
            5.406000000000001
           ],
           "y": [
            -1.3139999999999998
           ]
          },
          {
           "marker": {
            "color": "cyan",
            "size": 10
           },
           "mode": "markers",
           "type": "scatter",
           "x": [
            6.856
           ],
           "y": [
            25.68
           ]
          },
          {
           "marker": {
            "color": "yellow",
            "size": 10
           },
           "mode": "markers",
           "type": "scatter",
           "x": [
            7.786
           ],
           "y": [
            17.25
           ]
          },
          {
           "mode": "text",
           "text": "type topspin",
           "textfont": {
            "color": "white",
            "size": 12
           },
           "type": "scatter",
           "x": [
            -5
           ],
           "y": [
            6
           ]
          },
          {
           "mode": "text",
           "text": "stroke backhand",
           "textfont": {
            "color": "white",
            "size": 12
           },
           "type": "scatter",
           "x": [
            -5
           ],
           "y": [
            8
           ]
          },
          {
           "mode": "text",
           "text": "hitter Djokovic",
           "textfont": {
            "color": "white",
            "size": 12
           },
           "type": "scatter",
           "x": [
            -5
           ],
           "y": [
            10
           ]
          },
          {
           "mode": "text",
           "text": "strokeid 4",
           "textfont": {
            "color": "white",
            "size": 12
           },
           "type": "scatter",
           "x": [
            -5
           ],
           "y": [
            12
           ]
          }
         ]
        },
        {
         "data": [
          {
           "marker": {
            "color": "red",
            "size": 10
           },
           "mode": "markers",
           "type": "scatter",
           "x": [
            5.747999999999999
           ],
           "y": [
            -1.2919999999999998
           ]
          },
          {
           "marker": {
            "color": "cyan",
            "size": 10
           },
           "mode": "markers",
           "type": "scatter",
           "x": [
            6.548
           ],
           "y": [
            25.86
           ]
          },
          {
           "marker": {
            "color": "yellow",
            "size": 10
           },
           "mode": "markers",
           "type": "scatter",
           "x": [
            7.788
           ],
           "y": [
            14.62
           ]
          },
          {
           "mode": "text",
           "text": "type topspin",
           "textfont": {
            "color": "white",
            "size": 12
           },
           "type": "scatter",
           "x": [
            -5
           ],
           "y": [
            6
           ]
          },
          {
           "mode": "text",
           "text": "stroke backhand",
           "textfont": {
            "color": "white",
            "size": 12
           },
           "type": "scatter",
           "x": [
            -5
           ],
           "y": [
            8
           ]
          },
          {
           "mode": "text",
           "text": "hitter Djokovic",
           "textfont": {
            "color": "white",
            "size": 12
           },
           "type": "scatter",
           "x": [
            -5
           ],
           "y": [
            10
           ]
          },
          {
           "mode": "text",
           "text": "strokeid 4",
           "textfont": {
            "color": "white",
            "size": 12
           },
           "type": "scatter",
           "x": [
            -5
           ],
           "y": [
            12
           ]
          }
         ]
        },
        {
         "data": [
          {
           "marker": {
            "color": "red",
            "size": 10
           },
           "mode": "markers",
           "type": "scatter",
           "x": [
            6.09
           ],
           "y": [
            -1.27
           ]
          },
          {
           "marker": {
            "color": "cyan",
            "size": 10
           },
           "mode": "markers",
           "type": "scatter",
           "x": [
            6.24
           ],
           "y": [
            26.04
           ]
          },
          {
           "marker": {
            "color": "yellow",
            "size": 10
           },
           "mode": "markers",
           "type": "scatter",
           "x": [
            7.79
           ],
           "y": [
            11.99
           ]
          },
          {
           "mode": "text",
           "text": "type topspin",
           "textfont": {
            "color": "white",
            "size": 12
           },
           "type": "scatter",
           "x": [
            -5
           ],
           "y": [
            6
           ]
          },
          {
           "mode": "text",
           "text": "stroke backhand",
           "textfont": {
            "color": "white",
            "size": 12
           },
           "type": "scatter",
           "x": [
            -5
           ],
           "y": [
            8
           ]
          },
          {
           "mode": "text",
           "text": "hitter Djokovic",
           "textfont": {
            "color": "white",
            "size": 12
           },
           "type": "scatter",
           "x": [
            -5
           ],
           "y": [
            10
           ]
          },
          {
           "mode": "text",
           "text": "strokeid 4",
           "textfont": {
            "color": "white",
            "size": 12
           },
           "type": "scatter",
           "x": [
            -5
           ],
           "y": [
            12
           ]
          }
         ]
        },
        {
         "data": [
          {
           "marker": {
            "color": "red",
            "size": 10
           },
           "mode": "markers",
           "type": "scatter",
           "x": [
            6.432
           ],
           "y": [
            -1.2479999999999998
           ]
          },
          {
           "marker": {
            "color": "cyan",
            "size": 10
           },
           "mode": "markers",
           "type": "scatter",
           "x": [
            5.932
           ],
           "y": [
            26.22
           ]
          },
          {
           "marker": {
            "color": "yellow",
            "size": 10
           },
           "mode": "markers",
           "type": "scatter",
           "x": [
            7.792
           ],
           "y": [
            9.359999999999998
           ]
          },
          {
           "mode": "text",
           "text": "type topspin",
           "textfont": {
            "color": "white",
            "size": 12
           },
           "type": "scatter",
           "x": [
            -5
           ],
           "y": [
            6
           ]
          },
          {
           "mode": "text",
           "text": "stroke backhand",
           "textfont": {
            "color": "white",
            "size": 12
           },
           "type": "scatter",
           "x": [
            -5
           ],
           "y": [
            8
           ]
          },
          {
           "mode": "text",
           "text": "hitter Djokovic",
           "textfont": {
            "color": "white",
            "size": 12
           },
           "type": "scatter",
           "x": [
            -5
           ],
           "y": [
            10
           ]
          },
          {
           "mode": "text",
           "text": "strokeid 4",
           "textfont": {
            "color": "white",
            "size": 12
           },
           "type": "scatter",
           "x": [
            -5
           ],
           "y": [
            12
           ]
          }
         ]
        },
        {
         "data": [
          {
           "marker": {
            "color": "red",
            "size": 10
           },
           "mode": "markers",
           "type": "scatter",
           "x": [
            6.773999999999999
           ],
           "y": [
            -1.226
           ]
          },
          {
           "marker": {
            "color": "cyan",
            "size": 10
           },
           "mode": "markers",
           "type": "scatter",
           "x": [
            5.6240000000000006
           ],
           "y": [
            26.400000000000002
           ]
          },
          {
           "marker": {
            "color": "yellow",
            "size": 10
           },
           "mode": "markers",
           "type": "scatter",
           "x": [
            7.794
           ],
           "y": [
            6.729999999999999
           ]
          },
          {
           "mode": "text",
           "text": "type topspin",
           "textfont": {
            "color": "white",
            "size": 12
           },
           "type": "scatter",
           "x": [
            -5
           ],
           "y": [
            6
           ]
          },
          {
           "mode": "text",
           "text": "stroke backhand",
           "textfont": {
            "color": "white",
            "size": 12
           },
           "type": "scatter",
           "x": [
            -5
           ],
           "y": [
            8
           ]
          },
          {
           "mode": "text",
           "text": "hitter Djokovic",
           "textfont": {
            "color": "white",
            "size": 12
           },
           "type": "scatter",
           "x": [
            -5
           ],
           "y": [
            10
           ]
          },
          {
           "mode": "text",
           "text": "strokeid 4",
           "textfont": {
            "color": "white",
            "size": 12
           },
           "type": "scatter",
           "x": [
            -5
           ],
           "y": [
            12
           ]
          }
         ]
        },
        {
         "data": [
          {
           "marker": {
            "color": "red",
            "size": 10
           },
           "mode": "markers",
           "type": "scatter",
           "x": [
            7.116
           ],
           "y": [
            -1.2039999999999997
           ]
          },
          {
           "marker": {
            "color": "cyan",
            "size": 10
           },
           "mode": "markers",
           "type": "scatter",
           "x": [
            5.316
           ],
           "y": [
            26.580000000000002
           ]
          },
          {
           "marker": {
            "color": "yellow",
            "size": 10
           },
           "mode": "markers",
           "type": "scatter",
           "x": [
            7.795999999999999
           ],
           "y": [
            4.099999999999999
           ]
          },
          {
           "mode": "text",
           "text": "type topspin",
           "textfont": {
            "color": "white",
            "size": 12
           },
           "type": "scatter",
           "x": [
            -5
           ],
           "y": [
            6
           ]
          },
          {
           "mode": "text",
           "text": "stroke backhand",
           "textfont": {
            "color": "white",
            "size": 12
           },
           "type": "scatter",
           "x": [
            -5
           ],
           "y": [
            8
           ]
          },
          {
           "mode": "text",
           "text": "hitter Djokovic",
           "textfont": {
            "color": "white",
            "size": 12
           },
           "type": "scatter",
           "x": [
            -5
           ],
           "y": [
            10
           ]
          },
          {
           "mode": "text",
           "text": "strokeid 4",
           "textfont": {
            "color": "white",
            "size": 12
           },
           "type": "scatter",
           "x": [
            -5
           ],
           "y": [
            12
           ]
          }
         ]
        },
        {
         "data": [
          {
           "marker": {
            "color": "red",
            "size": 10
           },
           "mode": "markers",
           "type": "scatter",
           "x": [
            7.457999999999999
           ],
           "y": [
            -1.182
           ]
          },
          {
           "marker": {
            "color": "cyan",
            "size": 10
           },
           "mode": "markers",
           "type": "scatter",
           "x": [
            5.008
           ],
           "y": [
            26.76
           ]
          },
          {
           "marker": {
            "color": "yellow",
            "size": 10
           },
           "mode": "markers",
           "type": "scatter",
           "x": [
            7.797999999999999
           ],
           "y": [
            1.4699999999999993
           ]
          },
          {
           "mode": "text",
           "text": "type topspin",
           "textfont": {
            "color": "white",
            "size": 12
           },
           "type": "scatter",
           "x": [
            -5
           ],
           "y": [
            6
           ]
          },
          {
           "mode": "text",
           "text": "stroke backhand",
           "textfont": {
            "color": "white",
            "size": 12
           },
           "type": "scatter",
           "x": [
            -5
           ],
           "y": [
            8
           ]
          },
          {
           "mode": "text",
           "text": "hitter Djokovic",
           "textfont": {
            "color": "white",
            "size": 12
           },
           "type": "scatter",
           "x": [
            -5
           ],
           "y": [
            10
           ]
          },
          {
           "mode": "text",
           "text": "strokeid 4",
           "textfont": {
            "color": "white",
            "size": 12
           },
           "type": "scatter",
           "x": [
            -5
           ],
           "y": [
            12
           ]
          }
         ]
        },
        {
         "data": [
          {
           "marker": {
            "color": "red",
            "size": 10
           },
           "mode": "markers",
           "type": "scatter",
           "x": [
            7.8
           ],
           "y": [
            -1.16
           ]
          },
          {
           "marker": {
            "color": "cyan",
            "size": 10
           },
           "mode": "markers",
           "type": "scatter",
           "x": [
            4.7
           ],
           "y": [
            26.94
           ]
          },
          {
           "marker": {
            "color": "yellow",
            "size": 10
           },
           "mode": "markers",
           "type": "scatter",
           "x": [
            7.8
           ],
           "y": [
            -1.16
           ]
          },
          {
           "mode": "text",
           "text": "type topspin",
           "textfont": {
            "color": "white",
            "size": 12
           },
           "type": "scatter",
           "x": [
            -5
           ],
           "y": [
            6
           ]
          },
          {
           "mode": "text",
           "text": "stroke backhand",
           "textfont": {
            "color": "white",
            "size": 12
           },
           "type": "scatter",
           "x": [
            -5
           ],
           "y": [
            8
           ]
          },
          {
           "mode": "text",
           "text": "hitter Nadal",
           "textfont": {
            "color": "white",
            "size": 12
           },
           "type": "scatter",
           "x": [
            -5
           ],
           "y": [
            10
           ]
          },
          {
           "mode": "text",
           "text": "strokeid 5",
           "textfont": {
            "color": "white",
            "size": 12
           },
           "type": "scatter",
           "x": [
            -5
           ],
           "y": [
            12
           ]
          }
         ]
        },
        {
         "data": [
          {
           "marker": {
            "color": "red",
            "size": 10
           },
           "mode": "markers",
           "type": "scatter",
           "x": [
            7.696
           ],
           "y": [
            -1.1600000000000001
           ]
          },
          {
           "marker": {
            "color": "cyan",
            "size": 10
           },
           "mode": "markers",
           "type": "scatter",
           "x": [
            4.384
           ],
           "y": [
            26.843000000000004
           ]
          },
          {
           "marker": {
            "color": "yellow",
            "size": 10
           },
           "mode": "markers",
           "type": "scatter",
           "x": [
            7.1739999999999995
           ],
           "y": [
            1.553
           ]
          },
          {
           "mode": "text",
           "text": "type topspin",
           "textfont": {
            "color": "white",
            "size": 12
           },
           "type": "scatter",
           "x": [
            -5
           ],
           "y": [
            6
           ]
          },
          {
           "mode": "text",
           "text": "stroke backhand",
           "textfont": {
            "color": "white",
            "size": 12
           },
           "type": "scatter",
           "x": [
            -5
           ],
           "y": [
            8
           ]
          },
          {
           "mode": "text",
           "text": "hitter Nadal",
           "textfont": {
            "color": "white",
            "size": 12
           },
           "type": "scatter",
           "x": [
            -5
           ],
           "y": [
            10
           ]
          },
          {
           "mode": "text",
           "text": "strokeid 5",
           "textfont": {
            "color": "white",
            "size": 12
           },
           "type": "scatter",
           "x": [
            -5
           ],
           "y": [
            12
           ]
          }
         ]
        },
        {
         "data": [
          {
           "marker": {
            "color": "red",
            "size": 10
           },
           "mode": "markers",
           "type": "scatter",
           "x": [
            7.5920000000000005
           ],
           "y": [
            -1.16
           ]
          },
          {
           "marker": {
            "color": "cyan",
            "size": 10
           },
           "mode": "markers",
           "type": "scatter",
           "x": [
            4.0680000000000005
           ],
           "y": [
            26.746000000000002
           ]
          },
          {
           "marker": {
            "color": "yellow",
            "size": 10
           },
           "mode": "markers",
           "type": "scatter",
           "x": [
            6.548
           ],
           "y": [
            4.266
           ]
          },
          {
           "mode": "text",
           "text": "type topspin",
           "textfont": {
            "color": "white",
            "size": 12
           },
           "type": "scatter",
           "x": [
            -5
           ],
           "y": [
            6
           ]
          },
          {
           "mode": "text",
           "text": "stroke backhand",
           "textfont": {
            "color": "white",
            "size": 12
           },
           "type": "scatter",
           "x": [
            -5
           ],
           "y": [
            8
           ]
          },
          {
           "mode": "text",
           "text": "hitter Nadal",
           "textfont": {
            "color": "white",
            "size": 12
           },
           "type": "scatter",
           "x": [
            -5
           ],
           "y": [
            10
           ]
          },
          {
           "mode": "text",
           "text": "strokeid 5",
           "textfont": {
            "color": "white",
            "size": 12
           },
           "type": "scatter",
           "x": [
            -5
           ],
           "y": [
            12
           ]
          }
         ]
        },
        {
         "data": [
          {
           "marker": {
            "color": "red",
            "size": 10
           },
           "mode": "markers",
           "type": "scatter",
           "x": [
            7.4879999999999995
           ],
           "y": [
            -1.16
           ]
          },
          {
           "marker": {
            "color": "cyan",
            "size": 10
           },
           "mode": "markers",
           "type": "scatter",
           "x": [
            3.7520000000000002
           ],
           "y": [
            26.649
           ]
          },
          {
           "marker": {
            "color": "yellow",
            "size": 10
           },
           "mode": "markers",
           "type": "scatter",
           "x": [
            5.922
           ],
           "y": [
            6.979
           ]
          },
          {
           "mode": "text",
           "text": "type topspin",
           "textfont": {
            "color": "white",
            "size": 12
           },
           "type": "scatter",
           "x": [
            -5
           ],
           "y": [
            6
           ]
          },
          {
           "mode": "text",
           "text": "stroke backhand",
           "textfont": {
            "color": "white",
            "size": 12
           },
           "type": "scatter",
           "x": [
            -5
           ],
           "y": [
            8
           ]
          },
          {
           "mode": "text",
           "text": "hitter Nadal",
           "textfont": {
            "color": "white",
            "size": 12
           },
           "type": "scatter",
           "x": [
            -5
           ],
           "y": [
            10
           ]
          },
          {
           "mode": "text",
           "text": "strokeid 5",
           "textfont": {
            "color": "white",
            "size": 12
           },
           "type": "scatter",
           "x": [
            -5
           ],
           "y": [
            12
           ]
          }
         ]
        },
        {
         "data": [
          {
           "marker": {
            "color": "red",
            "size": 10
           },
           "mode": "markers",
           "type": "scatter",
           "x": [
            7.384
           ],
           "y": [
            -1.16
           ]
          },
          {
           "marker": {
            "color": "cyan",
            "size": 10
           },
           "mode": "markers",
           "type": "scatter",
           "x": [
            3.436
           ],
           "y": [
            26.552
           ]
          },
          {
           "marker": {
            "color": "yellow",
            "size": 10
           },
           "mode": "markers",
           "type": "scatter",
           "x": [
            5.295999999999999
           ],
           "y": [
            9.692
           ]
          },
          {
           "mode": "text",
           "text": "type topspin",
           "textfont": {
            "color": "white",
            "size": 12
           },
           "type": "scatter",
           "x": [
            -5
           ],
           "y": [
            6
           ]
          },
          {
           "mode": "text",
           "text": "stroke backhand",
           "textfont": {
            "color": "white",
            "size": 12
           },
           "type": "scatter",
           "x": [
            -5
           ],
           "y": [
            8
           ]
          },
          {
           "mode": "text",
           "text": "hitter Nadal",
           "textfont": {
            "color": "white",
            "size": 12
           },
           "type": "scatter",
           "x": [
            -5
           ],
           "y": [
            10
           ]
          },
          {
           "mode": "text",
           "text": "strokeid 5",
           "textfont": {
            "color": "white",
            "size": 12
           },
           "type": "scatter",
           "x": [
            -5
           ],
           "y": [
            12
           ]
          }
         ]
        },
        {
         "data": [
          {
           "marker": {
            "color": "red",
            "size": 10
           },
           "mode": "markers",
           "type": "scatter",
           "x": [
            7.279999999999999
           ],
           "y": [
            -1.16
           ]
          },
          {
           "marker": {
            "color": "cyan",
            "size": 10
           },
           "mode": "markers",
           "type": "scatter",
           "x": [
            3.12
           ],
           "y": [
            26.455
           ]
          },
          {
           "marker": {
            "color": "yellow",
            "size": 10
           },
           "mode": "markers",
           "type": "scatter",
           "x": [
            4.67
           ],
           "y": [
            12.405
           ]
          },
          {
           "mode": "text",
           "text": "type topspin",
           "textfont": {
            "color": "white",
            "size": 12
           },
           "type": "scatter",
           "x": [
            -5
           ],
           "y": [
            6
           ]
          },
          {
           "mode": "text",
           "text": "stroke backhand",
           "textfont": {
            "color": "white",
            "size": 12
           },
           "type": "scatter",
           "x": [
            -5
           ],
           "y": [
            8
           ]
          },
          {
           "mode": "text",
           "text": "hitter Nadal",
           "textfont": {
            "color": "white",
            "size": 12
           },
           "type": "scatter",
           "x": [
            -5
           ],
           "y": [
            10
           ]
          },
          {
           "mode": "text",
           "text": "strokeid 5",
           "textfont": {
            "color": "white",
            "size": 12
           },
           "type": "scatter",
           "x": [
            -5
           ],
           "y": [
            12
           ]
          }
         ]
        },
        {
         "data": [
          {
           "marker": {
            "color": "red",
            "size": 10
           },
           "mode": "markers",
           "type": "scatter",
           "x": [
            7.175999999999999
           ],
           "y": [
            -1.16
           ]
          },
          {
           "marker": {
            "color": "cyan",
            "size": 10
           },
           "mode": "markers",
           "type": "scatter",
           "x": [
            2.804
           ],
           "y": [
            26.357999999999997
           ]
          },
          {
           "marker": {
            "color": "yellow",
            "size": 10
           },
           "mode": "markers",
           "type": "scatter",
           "x": [
            4.044
           ],
           "y": [
            15.118
           ]
          },
          {
           "mode": "text",
           "text": "type topspin",
           "textfont": {
            "color": "white",
            "size": 12
           },
           "type": "scatter",
           "x": [
            -5
           ],
           "y": [
            6
           ]
          },
          {
           "mode": "text",
           "text": "stroke backhand",
           "textfont": {
            "color": "white",
            "size": 12
           },
           "type": "scatter",
           "x": [
            -5
           ],
           "y": [
            8
           ]
          },
          {
           "mode": "text",
           "text": "hitter Nadal",
           "textfont": {
            "color": "white",
            "size": 12
           },
           "type": "scatter",
           "x": [
            -5
           ],
           "y": [
            10
           ]
          },
          {
           "mode": "text",
           "text": "strokeid 5",
           "textfont": {
            "color": "white",
            "size": 12
           },
           "type": "scatter",
           "x": [
            -5
           ],
           "y": [
            12
           ]
          }
         ]
        },
        {
         "data": [
          {
           "marker": {
            "color": "red",
            "size": 10
           },
           "mode": "markers",
           "type": "scatter",
           "x": [
            7.071999999999999
           ],
           "y": [
            -1.16
           ]
          },
          {
           "marker": {
            "color": "cyan",
            "size": 10
           },
           "mode": "markers",
           "type": "scatter",
           "x": [
            2.4879999999999995
           ],
           "y": [
            26.261000000000003
           ]
          },
          {
           "marker": {
            "color": "yellow",
            "size": 10
           },
           "mode": "markers",
           "type": "scatter",
           "x": [
            3.4179999999999993
           ],
           "y": [
            17.831000000000003
           ]
          },
          {
           "mode": "text",
           "text": "type topspin",
           "textfont": {
            "color": "white",
            "size": 12
           },
           "type": "scatter",
           "x": [
            -5
           ],
           "y": [
            6
           ]
          },
          {
           "mode": "text",
           "text": "stroke backhand",
           "textfont": {
            "color": "white",
            "size": 12
           },
           "type": "scatter",
           "x": [
            -5
           ],
           "y": [
            8
           ]
          },
          {
           "mode": "text",
           "text": "hitter Nadal",
           "textfont": {
            "color": "white",
            "size": 12
           },
           "type": "scatter",
           "x": [
            -5
           ],
           "y": [
            10
           ]
          },
          {
           "mode": "text",
           "text": "strokeid 5",
           "textfont": {
            "color": "white",
            "size": 12
           },
           "type": "scatter",
           "x": [
            -5
           ],
           "y": [
            12
           ]
          }
         ]
        },
        {
         "data": [
          {
           "marker": {
            "color": "red",
            "size": 10
           },
           "mode": "markers",
           "type": "scatter",
           "x": [
            6.968
           ],
           "y": [
            -1.16
           ]
          },
          {
           "marker": {
            "color": "cyan",
            "size": 10
           },
           "mode": "markers",
           "type": "scatter",
           "x": [
            2.172
           ],
           "y": [
            26.163999999999998
           ]
          },
          {
           "marker": {
            "color": "yellow",
            "size": 10
           },
           "mode": "markers",
           "type": "scatter",
           "x": [
            2.792
           ],
           "y": [
            20.544
           ]
          },
          {
           "mode": "text",
           "text": "type topspin",
           "textfont": {
            "color": "white",
            "size": 12
           },
           "type": "scatter",
           "x": [
            -5
           ],
           "y": [
            6
           ]
          },
          {
           "mode": "text",
           "text": "stroke backhand",
           "textfont": {
            "color": "white",
            "size": 12
           },
           "type": "scatter",
           "x": [
            -5
           ],
           "y": [
            8
           ]
          },
          {
           "mode": "text",
           "text": "hitter Nadal",
           "textfont": {
            "color": "white",
            "size": 12
           },
           "type": "scatter",
           "x": [
            -5
           ],
           "y": [
            10
           ]
          },
          {
           "mode": "text",
           "text": "strokeid 5",
           "textfont": {
            "color": "white",
            "size": 12
           },
           "type": "scatter",
           "x": [
            -5
           ],
           "y": [
            12
           ]
          }
         ]
        },
        {
         "data": [
          {
           "marker": {
            "color": "red",
            "size": 10
           },
           "mode": "markers",
           "type": "scatter",
           "x": [
            6.863999999999999
           ],
           "y": [
            -1.16
           ]
          },
          {
           "marker": {
            "color": "cyan",
            "size": 10
           },
           "mode": "markers",
           "type": "scatter",
           "x": [
            1.856
           ],
           "y": [
            26.067
           ]
          },
          {
           "marker": {
            "color": "yellow",
            "size": 10
           },
           "mode": "markers",
           "type": "scatter",
           "x": [
            2.166
           ],
           "y": [
            23.257
           ]
          },
          {
           "mode": "text",
           "text": "type topspin",
           "textfont": {
            "color": "white",
            "size": 12
           },
           "type": "scatter",
           "x": [
            -5
           ],
           "y": [
            6
           ]
          },
          {
           "mode": "text",
           "text": "stroke backhand",
           "textfont": {
            "color": "white",
            "size": 12
           },
           "type": "scatter",
           "x": [
            -5
           ],
           "y": [
            8
           ]
          },
          {
           "mode": "text",
           "text": "hitter Nadal",
           "textfont": {
            "color": "white",
            "size": 12
           },
           "type": "scatter",
           "x": [
            -5
           ],
           "y": [
            10
           ]
          },
          {
           "mode": "text",
           "text": "strokeid 5",
           "textfont": {
            "color": "white",
            "size": 12
           },
           "type": "scatter",
           "x": [
            -5
           ],
           "y": [
            12
           ]
          }
         ]
        },
        {
         "data": [
          {
           "marker": {
            "color": "red",
            "size": 10
           },
           "mode": "markers",
           "type": "scatter",
           "x": [
            6.76
           ],
           "y": [
            -1.16
           ]
          },
          {
           "marker": {
            "color": "cyan",
            "size": 10
           },
           "mode": "markers",
           "type": "scatter",
           "x": [
            1.54
           ],
           "y": [
            25.97
           ]
          },
          {
           "marker": {
            "color": "yellow",
            "size": 10
           },
           "mode": "markers",
           "type": "scatter",
           "x": [
            1.54
           ],
           "y": [
            25.97
           ]
          },
          {
           "mode": "text",
           "text": "type topspin",
           "textfont": {
            "color": "white",
            "size": 12
           },
           "type": "scatter",
           "x": [
            -5
           ],
           "y": [
            6
           ]
          },
          {
           "mode": "text",
           "text": "stroke forehand",
           "textfont": {
            "color": "white",
            "size": 12
           },
           "type": "scatter",
           "x": [
            -5
           ],
           "y": [
            8
           ]
          },
          {
           "mode": "text",
           "text": "hitter Djokovic",
           "textfont": {
            "color": "white",
            "size": 12
           },
           "type": "scatter",
           "x": [
            -5
           ],
           "y": [
            10
           ]
          },
          {
           "mode": "text",
           "text": "strokeid 6",
           "textfont": {
            "color": "white",
            "size": 12
           },
           "type": "scatter",
           "x": [
            -5
           ],
           "y": [
            12
           ]
          }
         ]
        },
        {
         "data": [
          {
           "marker": {
            "color": "red",
            "size": 10
           },
           "mode": "markers",
           "type": "scatter",
           "x": [
            6.356
           ],
           "y": [
            -1.227
           ]
          },
          {
           "marker": {
            "color": "cyan",
            "size": 10
           },
           "mode": "markers",
           "type": "scatter",
           "x": [
            1.828
           ],
           "y": [
            25.934
           ]
          },
          {
           "marker": {
            "color": "yellow",
            "size": 10
           },
           "mode": "markers",
           "type": "scatter",
           "x": [
            1.6580000000000001
           ],
           "y": [
            23.19
           ]
          },
          {
           "mode": "text",
           "text": "type topspin",
           "textfont": {
            "color": "white",
            "size": 12
           },
           "type": "scatter",
           "x": [
            -5
           ],
           "y": [
            6
           ]
          },
          {
           "mode": "text",
           "text": "stroke forehand",
           "textfont": {
            "color": "white",
            "size": 12
           },
           "type": "scatter",
           "x": [
            -5
           ],
           "y": [
            8
           ]
          },
          {
           "mode": "text",
           "text": "hitter Djokovic",
           "textfont": {
            "color": "white",
            "size": 12
           },
           "type": "scatter",
           "x": [
            -5
           ],
           "y": [
            10
           ]
          },
          {
           "mode": "text",
           "text": "strokeid 6",
           "textfont": {
            "color": "white",
            "size": 12
           },
           "type": "scatter",
           "x": [
            -5
           ],
           "y": [
            12
           ]
          }
         ]
        },
        {
         "data": [
          {
           "marker": {
            "color": "red",
            "size": 10
           },
           "mode": "markers",
           "type": "scatter",
           "x": [
            5.952
           ],
           "y": [
            -1.294
           ]
          },
          {
           "marker": {
            "color": "cyan",
            "size": 10
           },
           "mode": "markers",
           "type": "scatter",
           "x": [
            2.116
           ],
           "y": [
            25.898
           ]
          },
          {
           "marker": {
            "color": "yellow",
            "size": 10
           },
           "mode": "markers",
           "type": "scatter",
           "x": [
            1.7760000000000002
           ],
           "y": [
            20.41
           ]
          },
          {
           "mode": "text",
           "text": "type topspin",
           "textfont": {
            "color": "white",
            "size": 12
           },
           "type": "scatter",
           "x": [
            -5
           ],
           "y": [
            6
           ]
          },
          {
           "mode": "text",
           "text": "stroke forehand",
           "textfont": {
            "color": "white",
            "size": 12
           },
           "type": "scatter",
           "x": [
            -5
           ],
           "y": [
            8
           ]
          },
          {
           "mode": "text",
           "text": "hitter Djokovic",
           "textfont": {
            "color": "white",
            "size": 12
           },
           "type": "scatter",
           "x": [
            -5
           ],
           "y": [
            10
           ]
          },
          {
           "mode": "text",
           "text": "strokeid 6",
           "textfont": {
            "color": "white",
            "size": 12
           },
           "type": "scatter",
           "x": [
            -5
           ],
           "y": [
            12
           ]
          }
         ]
        },
        {
         "data": [
          {
           "marker": {
            "color": "red",
            "size": 10
           },
           "mode": "markers",
           "type": "scatter",
           "x": [
            5.547999999999999
           ],
           "y": [
            -1.3610000000000002
           ]
          },
          {
           "marker": {
            "color": "cyan",
            "size": 10
           },
           "mode": "markers",
           "type": "scatter",
           "x": [
            2.404
           ],
           "y": [
            25.862
           ]
          },
          {
           "marker": {
            "color": "yellow",
            "size": 10
           },
           "mode": "markers",
           "type": "scatter",
           "x": [
            1.8940000000000001
           ],
           "y": [
            17.63
           ]
          },
          {
           "mode": "text",
           "text": "type topspin",
           "textfont": {
            "color": "white",
            "size": 12
           },
           "type": "scatter",
           "x": [
            -5
           ],
           "y": [
            6
           ]
          },
          {
           "mode": "text",
           "text": "stroke forehand",
           "textfont": {
            "color": "white",
            "size": 12
           },
           "type": "scatter",
           "x": [
            -5
           ],
           "y": [
            8
           ]
          },
          {
           "mode": "text",
           "text": "hitter Djokovic",
           "textfont": {
            "color": "white",
            "size": 12
           },
           "type": "scatter",
           "x": [
            -5
           ],
           "y": [
            10
           ]
          },
          {
           "mode": "text",
           "text": "strokeid 6",
           "textfont": {
            "color": "white",
            "size": 12
           },
           "type": "scatter",
           "x": [
            -5
           ],
           "y": [
            12
           ]
          }
         ]
        },
        {
         "data": [
          {
           "marker": {
            "color": "red",
            "size": 10
           },
           "mode": "markers",
           "type": "scatter",
           "x": [
            5.144
           ],
           "y": [
            -1.428
           ]
          },
          {
           "marker": {
            "color": "cyan",
            "size": 10
           },
           "mode": "markers",
           "type": "scatter",
           "x": [
            2.692
           ],
           "y": [
            25.826
           ]
          },
          {
           "marker": {
            "color": "yellow",
            "size": 10
           },
           "mode": "markers",
           "type": "scatter",
           "x": [
            2.012
           ],
           "y": [
            14.85
           ]
          },
          {
           "mode": "text",
           "text": "type topspin",
           "textfont": {
            "color": "white",
            "size": 12
           },
           "type": "scatter",
           "x": [
            -5
           ],
           "y": [
            6
           ]
          },
          {
           "mode": "text",
           "text": "stroke forehand",
           "textfont": {
            "color": "white",
            "size": 12
           },
           "type": "scatter",
           "x": [
            -5
           ],
           "y": [
            8
           ]
          },
          {
           "mode": "text",
           "text": "hitter Djokovic",
           "textfont": {
            "color": "white",
            "size": 12
           },
           "type": "scatter",
           "x": [
            -5
           ],
           "y": [
            10
           ]
          },
          {
           "mode": "text",
           "text": "strokeid 6",
           "textfont": {
            "color": "white",
            "size": 12
           },
           "type": "scatter",
           "x": [
            -5
           ],
           "y": [
            12
           ]
          }
         ]
        },
        {
         "data": [
          {
           "marker": {
            "color": "red",
            "size": 10
           },
           "mode": "markers",
           "type": "scatter",
           "x": [
            4.74
           ],
           "y": [
            -1.495
           ]
          },
          {
           "marker": {
            "color": "cyan",
            "size": 10
           },
           "mode": "markers",
           "type": "scatter",
           "x": [
            2.98
           ],
           "y": [
            25.79
           ]
          },
          {
           "marker": {
            "color": "yellow",
            "size": 10
           },
           "mode": "markers",
           "type": "scatter",
           "x": [
            2.13
           ],
           "y": [
            12.07
           ]
          },
          {
           "mode": "text",
           "text": "type topspin",
           "textfont": {
            "color": "white",
            "size": 12
           },
           "type": "scatter",
           "x": [
            -5
           ],
           "y": [
            6
           ]
          },
          {
           "mode": "text",
           "text": "stroke forehand",
           "textfont": {
            "color": "white",
            "size": 12
           },
           "type": "scatter",
           "x": [
            -5
           ],
           "y": [
            8
           ]
          },
          {
           "mode": "text",
           "text": "hitter Djokovic",
           "textfont": {
            "color": "white",
            "size": 12
           },
           "type": "scatter",
           "x": [
            -5
           ],
           "y": [
            10
           ]
          },
          {
           "mode": "text",
           "text": "strokeid 6",
           "textfont": {
            "color": "white",
            "size": 12
           },
           "type": "scatter",
           "x": [
            -5
           ],
           "y": [
            12
           ]
          }
         ]
        },
        {
         "data": [
          {
           "marker": {
            "color": "red",
            "size": 10
           },
           "mode": "markers",
           "type": "scatter",
           "x": [
            4.335999999999999
           ],
           "y": [
            -1.5620000000000003
           ]
          },
          {
           "marker": {
            "color": "cyan",
            "size": 10
           },
           "mode": "markers",
           "type": "scatter",
           "x": [
            3.268
           ],
           "y": [
            25.753999999999998
           ]
          },
          {
           "marker": {
            "color": "yellow",
            "size": 10
           },
           "mode": "markers",
           "type": "scatter",
           "x": [
            2.248
           ],
           "y": [
            9.289999999999997
           ]
          },
          {
           "mode": "text",
           "text": "type topspin",
           "textfont": {
            "color": "white",
            "size": 12
           },
           "type": "scatter",
           "x": [
            -5
           ],
           "y": [
            6
           ]
          },
          {
           "mode": "text",
           "text": "stroke forehand",
           "textfont": {
            "color": "white",
            "size": 12
           },
           "type": "scatter",
           "x": [
            -5
           ],
           "y": [
            8
           ]
          },
          {
           "mode": "text",
           "text": "hitter Djokovic",
           "textfont": {
            "color": "white",
            "size": 12
           },
           "type": "scatter",
           "x": [
            -5
           ],
           "y": [
            10
           ]
          },
          {
           "mode": "text",
           "text": "strokeid 6",
           "textfont": {
            "color": "white",
            "size": 12
           },
           "type": "scatter",
           "x": [
            -5
           ],
           "y": [
            12
           ]
          }
         ]
        },
        {
         "data": [
          {
           "marker": {
            "color": "red",
            "size": 10
           },
           "mode": "markers",
           "type": "scatter",
           "x": [
            3.932
           ],
           "y": [
            -1.629
           ]
          },
          {
           "marker": {
            "color": "cyan",
            "size": 10
           },
           "mode": "markers",
           "type": "scatter",
           "x": [
            3.556
           ],
           "y": [
            25.717999999999996
           ]
          },
          {
           "marker": {
            "color": "yellow",
            "size": 10
           },
           "mode": "markers",
           "type": "scatter",
           "x": [
            2.366
           ],
           "y": [
            6.509999999999998
           ]
          },
          {
           "mode": "text",
           "text": "type topspin",
           "textfont": {
            "color": "white",
            "size": 12
           },
           "type": "scatter",
           "x": [
            -5
           ],
           "y": [
            6
           ]
          },
          {
           "mode": "text",
           "text": "stroke forehand",
           "textfont": {
            "color": "white",
            "size": 12
           },
           "type": "scatter",
           "x": [
            -5
           ],
           "y": [
            8
           ]
          },
          {
           "mode": "text",
           "text": "hitter Djokovic",
           "textfont": {
            "color": "white",
            "size": 12
           },
           "type": "scatter",
           "x": [
            -5
           ],
           "y": [
            10
           ]
          },
          {
           "mode": "text",
           "text": "strokeid 6",
           "textfont": {
            "color": "white",
            "size": 12
           },
           "type": "scatter",
           "x": [
            -5
           ],
           "y": [
            12
           ]
          }
         ]
        },
        {
         "data": [
          {
           "marker": {
            "color": "red",
            "size": 10
           },
           "mode": "markers",
           "type": "scatter",
           "x": [
            3.5279999999999996
           ],
           "y": [
            -1.6960000000000002
           ]
          },
          {
           "marker": {
            "color": "cyan",
            "size": 10
           },
           "mode": "markers",
           "type": "scatter",
           "x": [
            3.844
           ],
           "y": [
            25.682
           ]
          },
          {
           "marker": {
            "color": "yellow",
            "size": 10
           },
           "mode": "markers",
           "type": "scatter",
           "x": [
            2.484
           ],
           "y": [
            3.7299999999999986
           ]
          },
          {
           "mode": "text",
           "text": "type topspin",
           "textfont": {
            "color": "white",
            "size": 12
           },
           "type": "scatter",
           "x": [
            -5
           ],
           "y": [
            6
           ]
          },
          {
           "mode": "text",
           "text": "stroke forehand",
           "textfont": {
            "color": "white",
            "size": 12
           },
           "type": "scatter",
           "x": [
            -5
           ],
           "y": [
            8
           ]
          },
          {
           "mode": "text",
           "text": "hitter Djokovic",
           "textfont": {
            "color": "white",
            "size": 12
           },
           "type": "scatter",
           "x": [
            -5
           ],
           "y": [
            10
           ]
          },
          {
           "mode": "text",
           "text": "strokeid 6",
           "textfont": {
            "color": "white",
            "size": 12
           },
           "type": "scatter",
           "x": [
            -5
           ],
           "y": [
            12
           ]
          }
         ]
        },
        {
         "data": [
          {
           "marker": {
            "color": "red",
            "size": 10
           },
           "mode": "markers",
           "type": "scatter",
           "x": [
            3.124
           ],
           "y": [
            -1.763
           ]
          },
          {
           "marker": {
            "color": "cyan",
            "size": 10
           },
           "mode": "markers",
           "type": "scatter",
           "x": [
            4.132000000000001
           ],
           "y": [
            25.646
           ]
          },
          {
           "marker": {
            "color": "yellow",
            "size": 10
           },
           "mode": "markers",
           "type": "scatter",
           "x": [
            2.6020000000000003
           ],
           "y": [
            0.9499999999999995
           ]
          },
          {
           "mode": "text",
           "text": "type topspin",
           "textfont": {
            "color": "white",
            "size": 12
           },
           "type": "scatter",
           "x": [
            -5
           ],
           "y": [
            6
           ]
          },
          {
           "mode": "text",
           "text": "stroke forehand",
           "textfont": {
            "color": "white",
            "size": 12
           },
           "type": "scatter",
           "x": [
            -5
           ],
           "y": [
            8
           ]
          },
          {
           "mode": "text",
           "text": "hitter Djokovic",
           "textfont": {
            "color": "white",
            "size": 12
           },
           "type": "scatter",
           "x": [
            -5
           ],
           "y": [
            10
           ]
          },
          {
           "mode": "text",
           "text": "strokeid 6",
           "textfont": {
            "color": "white",
            "size": 12
           },
           "type": "scatter",
           "x": [
            -5
           ],
           "y": [
            12
           ]
          }
         ]
        },
        {
         "data": [
          {
           "marker": {
            "color": "red",
            "size": 10
           },
           "mode": "markers",
           "type": "scatter",
           "x": [
            3.124
           ],
           "y": [
            -1.763
           ]
          },
          {
           "marker": {
            "color": "cyan",
            "size": 10
           },
           "mode": "markers",
           "type": "scatter",
           "x": [
            4.132000000000001
           ],
           "y": [
            25.646
           ]
          },
          {
           "marker": {
            "color": "yellow",
            "size": 10
           },
           "mode": "markers",
           "type": "scatter",
           "x": [
            2.72
           ],
           "y": [
            -1.83
           ]
          },
          {
           "mode": "text",
           "text": "type topspin",
           "textfont": {
            "color": "white",
            "size": 12
           },
           "type": "scatter",
           "x": [
            -5
           ],
           "y": [
            6
           ]
          },
          {
           "mode": "text",
           "text": "stroke forehand",
           "textfont": {
            "color": "white",
            "size": 12
           },
           "type": "scatter",
           "x": [
            -5
           ],
           "y": [
            8
           ]
          },
          {
           "mode": "text",
           "text": "hitter Nadal",
           "textfont": {
            "color": "white",
            "size": 12
           },
           "type": "scatter",
           "x": [
            -5
           ],
           "y": [
            10
           ]
          },
          {
           "mode": "text",
           "text": "strokeid 7",
           "textfont": {
            "color": "white",
            "size": 12
           },
           "type": "scatter",
           "x": [
            -5
           ],
           "y": [
            12
           ]
          }
         ]
        },
        {
         "data": [
          {
           "marker": {
            "color": "red",
            "size": 10
           },
           "mode": "markers",
           "type": "scatter",
           "x": [
            3.124
           ],
           "y": [
            -1.763
           ]
          },
          {
           "marker": {
            "color": "cyan",
            "size": 10
           },
           "mode": "markers",
           "type": "scatter",
           "x": [
            4.132000000000001
           ],
           "y": [
            25.646
           ]
          },
          {
           "marker": {
            "color": "yellow",
            "size": 10
           },
           "mode": "markers",
           "type": "scatter",
           "x": [
            2.498
           ],
           "y": [
            0.2200000000000002
           ]
          },
          {
           "mode": "text",
           "text": "type topspin",
           "textfont": {
            "color": "white",
            "size": 12
           },
           "type": "scatter",
           "x": [
            -5
           ],
           "y": [
            6
           ]
          },
          {
           "mode": "text",
           "text": "stroke forehand",
           "textfont": {
            "color": "white",
            "size": 12
           },
           "type": "scatter",
           "x": [
            -5
           ],
           "y": [
            8
           ]
          },
          {
           "mode": "text",
           "text": "hitter Nadal",
           "textfont": {
            "color": "white",
            "size": 12
           },
           "type": "scatter",
           "x": [
            -5
           ],
           "y": [
            10
           ]
          },
          {
           "mode": "text",
           "text": "strokeid 7",
           "textfont": {
            "color": "white",
            "size": 12
           },
           "type": "scatter",
           "x": [
            -5
           ],
           "y": [
            12
           ]
          }
         ]
        },
        {
         "data": [
          {
           "marker": {
            "color": "red",
            "size": 10
           },
           "mode": "markers",
           "type": "scatter",
           "x": [
            3.124
           ],
           "y": [
            -1.763
           ]
          },
          {
           "marker": {
            "color": "cyan",
            "size": 10
           },
           "mode": "markers",
           "type": "scatter",
           "x": [
            4.132000000000001
           ],
           "y": [
            25.646
           ]
          },
          {
           "marker": {
            "color": "yellow",
            "size": 10
           },
           "mode": "markers",
           "type": "scatter",
           "x": [
            2.2760000000000002
           ],
           "y": [
            2.2700000000000005
           ]
          },
          {
           "mode": "text",
           "text": "type topspin",
           "textfont": {
            "color": "white",
            "size": 12
           },
           "type": "scatter",
           "x": [
            -5
           ],
           "y": [
            6
           ]
          },
          {
           "mode": "text",
           "text": "stroke forehand",
           "textfont": {
            "color": "white",
            "size": 12
           },
           "type": "scatter",
           "x": [
            -5
           ],
           "y": [
            8
           ]
          },
          {
           "mode": "text",
           "text": "hitter Nadal",
           "textfont": {
            "color": "white",
            "size": 12
           },
           "type": "scatter",
           "x": [
            -5
           ],
           "y": [
            10
           ]
          },
          {
           "mode": "text",
           "text": "strokeid 7",
           "textfont": {
            "color": "white",
            "size": 12
           },
           "type": "scatter",
           "x": [
            -5
           ],
           "y": [
            12
           ]
          }
         ]
        },
        {
         "data": [
          {
           "marker": {
            "color": "red",
            "size": 10
           },
           "mode": "markers",
           "type": "scatter",
           "x": [
            3.124
           ],
           "y": [
            -1.763
           ]
          },
          {
           "marker": {
            "color": "cyan",
            "size": 10
           },
           "mode": "markers",
           "type": "scatter",
           "x": [
            4.132000000000001
           ],
           "y": [
            25.646
           ]
          },
          {
           "marker": {
            "color": "yellow",
            "size": 10
           },
           "mode": "markers",
           "type": "scatter",
           "x": [
            2.054
           ],
           "y": [
            4.320000000000002
           ]
          },
          {
           "mode": "text",
           "text": "type topspin",
           "textfont": {
            "color": "white",
            "size": 12
           },
           "type": "scatter",
           "x": [
            -5
           ],
           "y": [
            6
           ]
          },
          {
           "mode": "text",
           "text": "stroke forehand",
           "textfont": {
            "color": "white",
            "size": 12
           },
           "type": "scatter",
           "x": [
            -5
           ],
           "y": [
            8
           ]
          },
          {
           "mode": "text",
           "text": "hitter Nadal",
           "textfont": {
            "color": "white",
            "size": 12
           },
           "type": "scatter",
           "x": [
            -5
           ],
           "y": [
            10
           ]
          },
          {
           "mode": "text",
           "text": "strokeid 7",
           "textfont": {
            "color": "white",
            "size": 12
           },
           "type": "scatter",
           "x": [
            -5
           ],
           "y": [
            12
           ]
          }
         ]
        },
        {
         "data": [
          {
           "marker": {
            "color": "red",
            "size": 10
           },
           "mode": "markers",
           "type": "scatter",
           "x": [
            3.124
           ],
           "y": [
            -1.763
           ]
          },
          {
           "marker": {
            "color": "cyan",
            "size": 10
           },
           "mode": "markers",
           "type": "scatter",
           "x": [
            4.132000000000001
           ],
           "y": [
            25.646
           ]
          },
          {
           "marker": {
            "color": "yellow",
            "size": 10
           },
           "mode": "markers",
           "type": "scatter",
           "x": [
            1.832
           ],
           "y": [
            6.370000000000001
           ]
          },
          {
           "mode": "text",
           "text": "type topspin",
           "textfont": {
            "color": "white",
            "size": 12
           },
           "type": "scatter",
           "x": [
            -5
           ],
           "y": [
            6
           ]
          },
          {
           "mode": "text",
           "text": "stroke forehand",
           "textfont": {
            "color": "white",
            "size": 12
           },
           "type": "scatter",
           "x": [
            -5
           ],
           "y": [
            8
           ]
          },
          {
           "mode": "text",
           "text": "hitter Nadal",
           "textfont": {
            "color": "white",
            "size": 12
           },
           "type": "scatter",
           "x": [
            -5
           ],
           "y": [
            10
           ]
          },
          {
           "mode": "text",
           "text": "strokeid 7",
           "textfont": {
            "color": "white",
            "size": 12
           },
           "type": "scatter",
           "x": [
            -5
           ],
           "y": [
            12
           ]
          }
         ]
        },
        {
         "data": [
          {
           "marker": {
            "color": "red",
            "size": 10
           },
           "mode": "markers",
           "type": "scatter",
           "x": [
            3.124
           ],
           "y": [
            -1.763
           ]
          },
          {
           "marker": {
            "color": "cyan",
            "size": 10
           },
           "mode": "markers",
           "type": "scatter",
           "x": [
            4.132000000000001
           ],
           "y": [
            25.646
           ]
          },
          {
           "marker": {
            "color": "yellow",
            "size": 10
           },
           "mode": "markers",
           "type": "scatter",
           "x": [
            1.61
           ],
           "y": [
            8.420000000000002
           ]
          },
          {
           "mode": "text",
           "text": "type topspin",
           "textfont": {
            "color": "white",
            "size": 12
           },
           "type": "scatter",
           "x": [
            -5
           ],
           "y": [
            6
           ]
          },
          {
           "mode": "text",
           "text": "stroke forehand",
           "textfont": {
            "color": "white",
            "size": 12
           },
           "type": "scatter",
           "x": [
            -5
           ],
           "y": [
            8
           ]
          },
          {
           "mode": "text",
           "text": "hitter Nadal",
           "textfont": {
            "color": "white",
            "size": 12
           },
           "type": "scatter",
           "x": [
            -5
           ],
           "y": [
            10
           ]
          },
          {
           "mode": "text",
           "text": "strokeid 7",
           "textfont": {
            "color": "white",
            "size": 12
           },
           "type": "scatter",
           "x": [
            -5
           ],
           "y": [
            12
           ]
          }
         ]
        },
        {
         "data": [
          {
           "marker": {
            "color": "red",
            "size": 10
           },
           "mode": "markers",
           "type": "scatter",
           "x": [
            3.124
           ],
           "y": [
            -1.763
           ]
          },
          {
           "marker": {
            "color": "cyan",
            "size": 10
           },
           "mode": "markers",
           "type": "scatter",
           "x": [
            4.132000000000001
           ],
           "y": [
            25.646
           ]
          },
          {
           "marker": {
            "color": "yellow",
            "size": 10
           },
           "mode": "markers",
           "type": "scatter",
           "x": [
            1.388
           ],
           "y": [
            10.470000000000004
           ]
          },
          {
           "mode": "text",
           "text": "type topspin",
           "textfont": {
            "color": "white",
            "size": 12
           },
           "type": "scatter",
           "x": [
            -5
           ],
           "y": [
            6
           ]
          },
          {
           "mode": "text",
           "text": "stroke forehand",
           "textfont": {
            "color": "white",
            "size": 12
           },
           "type": "scatter",
           "x": [
            -5
           ],
           "y": [
            8
           ]
          },
          {
           "mode": "text",
           "text": "hitter Nadal",
           "textfont": {
            "color": "white",
            "size": 12
           },
           "type": "scatter",
           "x": [
            -5
           ],
           "y": [
            10
           ]
          },
          {
           "mode": "text",
           "text": "strokeid 7",
           "textfont": {
            "color": "white",
            "size": 12
           },
           "type": "scatter",
           "x": [
            -5
           ],
           "y": [
            12
           ]
          }
         ]
        },
        {
         "data": [
          {
           "marker": {
            "color": "red",
            "size": 10
           },
           "mode": "markers",
           "type": "scatter",
           "x": [
            3.124
           ],
           "y": [
            -1.763
           ]
          },
          {
           "marker": {
            "color": "cyan",
            "size": 10
           },
           "mode": "markers",
           "type": "scatter",
           "x": [
            4.132000000000001
           ],
           "y": [
            25.646
           ]
          },
          {
           "marker": {
            "color": "yellow",
            "size": 10
           },
           "mode": "markers",
           "type": "scatter",
           "x": [
            1.166
           ],
           "y": [
            12.520000000000003
           ]
          },
          {
           "mode": "text",
           "text": "type topspin",
           "textfont": {
            "color": "white",
            "size": 12
           },
           "type": "scatter",
           "x": [
            -5
           ],
           "y": [
            6
           ]
          },
          {
           "mode": "text",
           "text": "stroke forehand",
           "textfont": {
            "color": "white",
            "size": 12
           },
           "type": "scatter",
           "x": [
            -5
           ],
           "y": [
            8
           ]
          },
          {
           "mode": "text",
           "text": "hitter Nadal",
           "textfont": {
            "color": "white",
            "size": 12
           },
           "type": "scatter",
           "x": [
            -5
           ],
           "y": [
            10
           ]
          },
          {
           "mode": "text",
           "text": "strokeid 7",
           "textfont": {
            "color": "white",
            "size": 12
           },
           "type": "scatter",
           "x": [
            -5
           ],
           "y": [
            12
           ]
          }
         ]
        },
        {
         "data": [
          {
           "marker": {
            "color": "red",
            "size": 10
           },
           "mode": "markers",
           "type": "scatter",
           "x": [
            3.124
           ],
           "y": [
            -1.763
           ]
          },
          {
           "marker": {
            "color": "cyan",
            "size": 10
           },
           "mode": "markers",
           "type": "scatter",
           "x": [
            4.132000000000001
           ],
           "y": [
            25.646
           ]
          },
          {
           "marker": {
            "color": "yellow",
            "size": 10
           },
           "mode": "markers",
           "type": "scatter",
           "x": [
            0.944
           ],
           "y": [
            14.570000000000002
           ]
          },
          {
           "mode": "text",
           "text": "type topspin",
           "textfont": {
            "color": "white",
            "size": 12
           },
           "type": "scatter",
           "x": [
            -5
           ],
           "y": [
            6
           ]
          },
          {
           "mode": "text",
           "text": "stroke forehand",
           "textfont": {
            "color": "white",
            "size": 12
           },
           "type": "scatter",
           "x": [
            -5
           ],
           "y": [
            8
           ]
          },
          {
           "mode": "text",
           "text": "hitter Nadal",
           "textfont": {
            "color": "white",
            "size": 12
           },
           "type": "scatter",
           "x": [
            -5
           ],
           "y": [
            10
           ]
          },
          {
           "mode": "text",
           "text": "strokeid 7",
           "textfont": {
            "color": "white",
            "size": 12
           },
           "type": "scatter",
           "x": [
            -5
           ],
           "y": [
            12
           ]
          }
         ]
        },
        {
         "data": [
          {
           "marker": {
            "color": "red",
            "size": 10
           },
           "mode": "markers",
           "type": "scatter",
           "x": [
            3.124
           ],
           "y": [
            -1.763
           ]
          },
          {
           "marker": {
            "color": "cyan",
            "size": 10
           },
           "mode": "markers",
           "type": "scatter",
           "x": [
            4.132000000000001
           ],
           "y": [
            25.646
           ]
          },
          {
           "marker": {
            "color": "yellow",
            "size": 10
           },
           "mode": "markers",
           "type": "scatter",
           "x": [
            0.722
           ],
           "y": [
            16.62
           ]
          },
          {
           "mode": "text",
           "text": "type topspin",
           "textfont": {
            "color": "white",
            "size": 12
           },
           "type": "scatter",
           "x": [
            -5
           ],
           "y": [
            6
           ]
          },
          {
           "mode": "text",
           "text": "stroke forehand",
           "textfont": {
            "color": "white",
            "size": 12
           },
           "type": "scatter",
           "x": [
            -5
           ],
           "y": [
            8
           ]
          },
          {
           "mode": "text",
           "text": "hitter Nadal",
           "textfont": {
            "color": "white",
            "size": 12
           },
           "type": "scatter",
           "x": [
            -5
           ],
           "y": [
            10
           ]
          },
          {
           "mode": "text",
           "text": "strokeid 7",
           "textfont": {
            "color": "white",
            "size": 12
           },
           "type": "scatter",
           "x": [
            -5
           ],
           "y": [
            12
           ]
          }
         ]
        },
        {
         "data": [
          {
           "marker": {
            "color": "red",
            "size": 10
           },
           "mode": "markers",
           "type": "scatter",
           "x": [
            3.124
           ],
           "y": [
            -1.763
           ]
          },
          {
           "marker": {
            "color": "cyan",
            "size": 10
           },
           "mode": "markers",
           "type": "scatter",
           "x": [
            4.132000000000001
           ],
           "y": [
            25.646
           ]
          },
          {
           "marker": {
            "color": "yellow",
            "size": 10
           },
           "mode": "markers",
           "type": "scatter",
           "x": [
            0.5
           ],
           "y": [
            18.67
           ]
          },
          {
           "mode": "text",
           "text": "type serve",
           "textfont": {
            "color": "white",
            "size": 12
           },
           "type": "scatter",
           "x": [
            -5
           ],
           "y": [
            6
           ]
          },
          {
           "mode": "text",
           "text": "stroke forehand",
           "textfont": {
            "color": "white",
            "size": 12
           },
           "type": "scatter",
           "x": [
            -5
           ],
           "y": [
            8
           ]
          },
          {
           "mode": "text",
           "text": "hitter Nadal",
           "textfont": {
            "color": "white",
            "size": 12
           },
           "type": "scatter",
           "x": [
            -5
           ],
           "y": [
            10
           ]
          },
          {
           "mode": "text",
           "text": "strokeid 1",
           "textfont": {
            "color": "white",
            "size": 12
           },
           "type": "scatter",
           "x": [
            -5
           ],
           "y": [
            12
           ]
          }
         ]
        }
       ],
       "layout": {
        "height": 800,
        "plot_bgcolor": "#5080B0",
        "template": {
         "data": {
          "bar": [
           {
            "error_x": {
             "color": "#2a3f5f"
            },
            "error_y": {
             "color": "#2a3f5f"
            },
            "marker": {
             "line": {
              "color": "#E5ECF6",
              "width": 0.5
             },
             "pattern": {
              "fillmode": "overlay",
              "size": 10,
              "solidity": 0.2
             }
            },
            "type": "bar"
           }
          ],
          "barpolar": [
           {
            "marker": {
             "line": {
              "color": "#E5ECF6",
              "width": 0.5
             },
             "pattern": {
              "fillmode": "overlay",
              "size": 10,
              "solidity": 0.2
             }
            },
            "type": "barpolar"
           }
          ],
          "carpet": [
           {
            "aaxis": {
             "endlinecolor": "#2a3f5f",
             "gridcolor": "white",
             "linecolor": "white",
             "minorgridcolor": "white",
             "startlinecolor": "#2a3f5f"
            },
            "baxis": {
             "endlinecolor": "#2a3f5f",
             "gridcolor": "white",
             "linecolor": "white",
             "minorgridcolor": "white",
             "startlinecolor": "#2a3f5f"
            },
            "type": "carpet"
           }
          ],
          "choropleth": [
           {
            "colorbar": {
             "outlinewidth": 0,
             "ticks": ""
            },
            "type": "choropleth"
           }
          ],
          "contour": [
           {
            "colorbar": {
             "outlinewidth": 0,
             "ticks": ""
            },
            "colorscale": [
             [
              0,
              "#0d0887"
             ],
             [
              0.1111111111111111,
              "#46039f"
             ],
             [
              0.2222222222222222,
              "#7201a8"
             ],
             [
              0.3333333333333333,
              "#9c179e"
             ],
             [
              0.4444444444444444,
              "#bd3786"
             ],
             [
              0.5555555555555556,
              "#d8576b"
             ],
             [
              0.6666666666666666,
              "#ed7953"
             ],
             [
              0.7777777777777778,
              "#fb9f3a"
             ],
             [
              0.8888888888888888,
              "#fdca26"
             ],
             [
              1,
              "#f0f921"
             ]
            ],
            "type": "contour"
           }
          ],
          "contourcarpet": [
           {
            "colorbar": {
             "outlinewidth": 0,
             "ticks": ""
            },
            "type": "contourcarpet"
           }
          ],
          "heatmap": [
           {
            "colorbar": {
             "outlinewidth": 0,
             "ticks": ""
            },
            "colorscale": [
             [
              0,
              "#0d0887"
             ],
             [
              0.1111111111111111,
              "#46039f"
             ],
             [
              0.2222222222222222,
              "#7201a8"
             ],
             [
              0.3333333333333333,
              "#9c179e"
             ],
             [
              0.4444444444444444,
              "#bd3786"
             ],
             [
              0.5555555555555556,
              "#d8576b"
             ],
             [
              0.6666666666666666,
              "#ed7953"
             ],
             [
              0.7777777777777778,
              "#fb9f3a"
             ],
             [
              0.8888888888888888,
              "#fdca26"
             ],
             [
              1,
              "#f0f921"
             ]
            ],
            "type": "heatmap"
           }
          ],
          "heatmapgl": [
           {
            "colorbar": {
             "outlinewidth": 0,
             "ticks": ""
            },
            "colorscale": [
             [
              0,
              "#0d0887"
             ],
             [
              0.1111111111111111,
              "#46039f"
             ],
             [
              0.2222222222222222,
              "#7201a8"
             ],
             [
              0.3333333333333333,
              "#9c179e"
             ],
             [
              0.4444444444444444,
              "#bd3786"
             ],
             [
              0.5555555555555556,
              "#d8576b"
             ],
             [
              0.6666666666666666,
              "#ed7953"
             ],
             [
              0.7777777777777778,
              "#fb9f3a"
             ],
             [
              0.8888888888888888,
              "#fdca26"
             ],
             [
              1,
              "#f0f921"
             ]
            ],
            "type": "heatmapgl"
           }
          ],
          "histogram": [
           {
            "marker": {
             "pattern": {
              "fillmode": "overlay",
              "size": 10,
              "solidity": 0.2
             }
            },
            "type": "histogram"
           }
          ],
          "histogram2d": [
           {
            "colorbar": {
             "outlinewidth": 0,
             "ticks": ""
            },
            "colorscale": [
             [
              0,
              "#0d0887"
             ],
             [
              0.1111111111111111,
              "#46039f"
             ],
             [
              0.2222222222222222,
              "#7201a8"
             ],
             [
              0.3333333333333333,
              "#9c179e"
             ],
             [
              0.4444444444444444,
              "#bd3786"
             ],
             [
              0.5555555555555556,
              "#d8576b"
             ],
             [
              0.6666666666666666,
              "#ed7953"
             ],
             [
              0.7777777777777778,
              "#fb9f3a"
             ],
             [
              0.8888888888888888,
              "#fdca26"
             ],
             [
              1,
              "#f0f921"
             ]
            ],
            "type": "histogram2d"
           }
          ],
          "histogram2dcontour": [
           {
            "colorbar": {
             "outlinewidth": 0,
             "ticks": ""
            },
            "colorscale": [
             [
              0,
              "#0d0887"
             ],
             [
              0.1111111111111111,
              "#46039f"
             ],
             [
              0.2222222222222222,
              "#7201a8"
             ],
             [
              0.3333333333333333,
              "#9c179e"
             ],
             [
              0.4444444444444444,
              "#bd3786"
             ],
             [
              0.5555555555555556,
              "#d8576b"
             ],
             [
              0.6666666666666666,
              "#ed7953"
             ],
             [
              0.7777777777777778,
              "#fb9f3a"
             ],
             [
              0.8888888888888888,
              "#fdca26"
             ],
             [
              1,
              "#f0f921"
             ]
            ],
            "type": "histogram2dcontour"
           }
          ],
          "mesh3d": [
           {
            "colorbar": {
             "outlinewidth": 0,
             "ticks": ""
            },
            "type": "mesh3d"
           }
          ],
          "parcoords": [
           {
            "line": {
             "colorbar": {
              "outlinewidth": 0,
              "ticks": ""
             }
            },
            "type": "parcoords"
           }
          ],
          "pie": [
           {
            "automargin": true,
            "type": "pie"
           }
          ],
          "scatter": [
           {
            "marker": {
             "colorbar": {
              "outlinewidth": 0,
              "ticks": ""
             }
            },
            "type": "scatter"
           }
          ],
          "scatter3d": [
           {
            "line": {
             "colorbar": {
              "outlinewidth": 0,
              "ticks": ""
             }
            },
            "marker": {
             "colorbar": {
              "outlinewidth": 0,
              "ticks": ""
             }
            },
            "type": "scatter3d"
           }
          ],
          "scattercarpet": [
           {
            "marker": {
             "colorbar": {
              "outlinewidth": 0,
              "ticks": ""
             }
            },
            "type": "scattercarpet"
           }
          ],
          "scattergeo": [
           {
            "marker": {
             "colorbar": {
              "outlinewidth": 0,
              "ticks": ""
             }
            },
            "type": "scattergeo"
           }
          ],
          "scattergl": [
           {
            "marker": {
             "colorbar": {
              "outlinewidth": 0,
              "ticks": ""
             }
            },
            "type": "scattergl"
           }
          ],
          "scattermapbox": [
           {
            "marker": {
             "colorbar": {
              "outlinewidth": 0,
              "ticks": ""
             }
            },
            "type": "scattermapbox"
           }
          ],
          "scatterpolar": [
           {
            "marker": {
             "colorbar": {
              "outlinewidth": 0,
              "ticks": ""
             }
            },
            "type": "scatterpolar"
           }
          ],
          "scatterpolargl": [
           {
            "marker": {
             "colorbar": {
              "outlinewidth": 0,
              "ticks": ""
             }
            },
            "type": "scatterpolargl"
           }
          ],
          "scatterternary": [
           {
            "marker": {
             "colorbar": {
              "outlinewidth": 0,
              "ticks": ""
             }
            },
            "type": "scatterternary"
           }
          ],
          "surface": [
           {
            "colorbar": {
             "outlinewidth": 0,
             "ticks": ""
            },
            "colorscale": [
             [
              0,
              "#0d0887"
             ],
             [
              0.1111111111111111,
              "#46039f"
             ],
             [
              0.2222222222222222,
              "#7201a8"
             ],
             [
              0.3333333333333333,
              "#9c179e"
             ],
             [
              0.4444444444444444,
              "#bd3786"
             ],
             [
              0.5555555555555556,
              "#d8576b"
             ],
             [
              0.6666666666666666,
              "#ed7953"
             ],
             [
              0.7777777777777778,
              "#fb9f3a"
             ],
             [
              0.8888888888888888,
              "#fdca26"
             ],
             [
              1,
              "#f0f921"
             ]
            ],
            "type": "surface"
           }
          ],
          "table": [
           {
            "cells": {
             "fill": {
              "color": "#EBF0F8"
             },
             "line": {
              "color": "white"
             }
            },
            "header": {
             "fill": {
              "color": "#C8D4E3"
             },
             "line": {
              "color": "white"
             }
            },
            "type": "table"
           }
          ]
         },
         "layout": {
          "annotationdefaults": {
           "arrowcolor": "#2a3f5f",
           "arrowhead": 0,
           "arrowwidth": 1
          },
          "autotypenumbers": "strict",
          "coloraxis": {
           "colorbar": {
            "outlinewidth": 0,
            "ticks": ""
           }
          },
          "colorscale": {
           "diverging": [
            [
             0,
             "#8e0152"
            ],
            [
             0.1,
             "#c51b7d"
            ],
            [
             0.2,
             "#de77ae"
            ],
            [
             0.3,
             "#f1b6da"
            ],
            [
             0.4,
             "#fde0ef"
            ],
            [
             0.5,
             "#f7f7f7"
            ],
            [
             0.6,
             "#e6f5d0"
            ],
            [
             0.7,
             "#b8e186"
            ],
            [
             0.8,
             "#7fbc41"
            ],
            [
             0.9,
             "#4d9221"
            ],
            [
             1,
             "#276419"
            ]
           ],
           "sequential": [
            [
             0,
             "#0d0887"
            ],
            [
             0.1111111111111111,
             "#46039f"
            ],
            [
             0.2222222222222222,
             "#7201a8"
            ],
            [
             0.3333333333333333,
             "#9c179e"
            ],
            [
             0.4444444444444444,
             "#bd3786"
            ],
            [
             0.5555555555555556,
             "#d8576b"
            ],
            [
             0.6666666666666666,
             "#ed7953"
            ],
            [
             0.7777777777777778,
             "#fb9f3a"
            ],
            [
             0.8888888888888888,
             "#fdca26"
            ],
            [
             1,
             "#f0f921"
            ]
           ],
           "sequentialminus": [
            [
             0,
             "#0d0887"
            ],
            [
             0.1111111111111111,
             "#46039f"
            ],
            [
             0.2222222222222222,
             "#7201a8"
            ],
            [
             0.3333333333333333,
             "#9c179e"
            ],
            [
             0.4444444444444444,
             "#bd3786"
            ],
            [
             0.5555555555555556,
             "#d8576b"
            ],
            [
             0.6666666666666666,
             "#ed7953"
            ],
            [
             0.7777777777777778,
             "#fb9f3a"
            ],
            [
             0.8888888888888888,
             "#fdca26"
            ],
            [
             1,
             "#f0f921"
            ]
           ]
          },
          "colorway": [
           "#636efa",
           "#EF553B",
           "#00cc96",
           "#ab63fa",
           "#FFA15A",
           "#19d3f3",
           "#FF6692",
           "#B6E880",
           "#FF97FF",
           "#FECB52"
          ],
          "font": {
           "color": "#2a3f5f"
          },
          "geo": {
           "bgcolor": "white",
           "lakecolor": "white",
           "landcolor": "#E5ECF6",
           "showlakes": true,
           "showland": true,
           "subunitcolor": "white"
          },
          "hoverlabel": {
           "align": "left"
          },
          "hovermode": "closest",
          "mapbox": {
           "style": "light"
          },
          "paper_bgcolor": "white",
          "plot_bgcolor": "#E5ECF6",
          "polar": {
           "angularaxis": {
            "gridcolor": "white",
            "linecolor": "white",
            "ticks": ""
           },
           "bgcolor": "#E5ECF6",
           "radialaxis": {
            "gridcolor": "white",
            "linecolor": "white",
            "ticks": ""
           }
          },
          "scene": {
           "xaxis": {
            "backgroundcolor": "#E5ECF6",
            "gridcolor": "white",
            "gridwidth": 2,
            "linecolor": "white",
            "showbackground": true,
            "ticks": "",
            "zerolinecolor": "white"
           },
           "yaxis": {
            "backgroundcolor": "#E5ECF6",
            "gridcolor": "white",
            "gridwidth": 2,
            "linecolor": "white",
            "showbackground": true,
            "ticks": "",
            "zerolinecolor": "white"
           },
           "zaxis": {
            "backgroundcolor": "#E5ECF6",
            "gridcolor": "white",
            "gridwidth": 2,
            "linecolor": "white",
            "showbackground": true,
            "ticks": "",
            "zerolinecolor": "white"
           }
          },
          "shapedefaults": {
           "line": {
            "color": "#2a3f5f"
           }
          },
          "ternary": {
           "aaxis": {
            "gridcolor": "white",
            "linecolor": "white",
            "ticks": ""
           },
           "baxis": {
            "gridcolor": "white",
            "linecolor": "white",
            "ticks": ""
           },
           "bgcolor": "#E5ECF6",
           "caxis": {
            "gridcolor": "white",
            "linecolor": "white",
            "ticks": ""
           }
          },
          "title": {
           "x": 0.05
          },
          "xaxis": {
           "automargin": true,
           "gridcolor": "white",
           "linecolor": "white",
           "ticks": "",
           "title": {
            "standoff": 15
           },
           "zerolinecolor": "white",
           "zerolinewidth": 2
          },
          "yaxis": {
           "automargin": true,
           "gridcolor": "white",
           "linecolor": "white",
           "ticks": "",
           "title": {
            "standoff": 15
           },
           "zerolinecolor": "white",
           "zerolinewidth": 2
          }
         }
        },
        "title": {
         "text": "Tennis Point"
        },
        "updatemenus": [
         {
          "buttons": [
           {
            "args": [
             null,
             {
              "frame": {
               "duration": 100,
               "redraw": true
              },
              "fromcurrent": true,
              "transition": {
               "duration": 300,
               "easing": "quadratic-in-out"
              }
             }
            ],
            "label": "Play",
            "method": "animate"
           },
           {
            "args": [
             [
              null
             ],
             {
              "frame": {
               "duration": 0,
               "redraw": true
              },
              "mode": "immediate",
              "transition": {
               "duration": 0
              }
             }
            ],
            "label": "Pause",
            "method": "animate"
           }
          ],
          "direction": "left",
          "pad": {
           "r": 10,
           "t": 87
          },
          "showactive": true,
          "type": "buttons",
          "x": 0.1,
          "xanchor": "right",
          "y": 0,
          "yanchor": "top"
         }
        ],
        "width": 550,
        "xaxis": {
         "autorange": false,
         "range": [
          -9,
          12.97
         ],
         "showgrid": false,
         "zeroline": false
        },
        "yaxis": {
         "autorange": false,
         "range": [
          -6.5,
          30.28
         ],
         "showgrid": false,
         "zeroline": false
        }
       }
      },
      "text/html": [
       "<div>                            <div id=\"65c8cf5f-39ee-4c79-ae35-eda84f442966\" class=\"plotly-graph-div\" style=\"height:800px; width:550px;\"></div>            <script type=\"text/javascript\">                require([\"plotly\"], function(Plotly) {                    window.PLOTLYENV=window.PLOTLYENV || {};                                    if (document.getElementById(\"65c8cf5f-39ee-4c79-ae35-eda84f442966\")) {                    Plotly.newPlot(                        \"65c8cf5f-39ee-4c79-ae35-eda84f442966\",                        [{\"type\":\"scatter\",\"x\":[-10],\"y\":[-10]},{\"type\":\"scatter\",\"x\":[-10],\"y\":[-10]},{\"type\":\"scatter\",\"x\":[-10],\"y\":[-10]},{\"type\":\"scatter\",\"x\":[-10],\"y\":[-10]},{\"type\":\"scatter\",\"x\":[-10],\"y\":[-10]},{\"type\":\"scatter\",\"x\":[-10],\"y\":[-10]},{\"type\":\"scatter\",\"x\":[-10],\"y\":[-10]},{\"type\":\"scatter\",\"x\":[-10],\"y\":[-10]},{\"type\":\"scatter\",\"x\":[-10],\"y\":[-10]},{\"type\":\"scatter\",\"x\":[-10],\"y\":[-10]},{\"line\":{\"color\":\"white\",\"width\":2},\"mode\":\"lines\",\"type\":\"scatter\",\"x\":[10.97,0],\"y\":[11.89,11.89]},{\"line\":{\"color\":\"white\",\"width\":2},\"mode\":\"lines\",\"type\":\"scatter\",\"x\":[0,0,10.97,10.97,0],\"y\":[0,23.78,23.78,0,0]},{\"line\":{\"color\":\"white\",\"width\":2},\"mode\":\"lines\",\"type\":\"scatter\",\"x\":[5.485,5.49],\"y\":[5.485,18.29]},{\"line\":{\"color\":\"white\",\"width\":2},\"mode\":\"lines\",\"type\":\"scatter\",\"x\":[5.485,5.485],\"y\":[0,0.45]},{\"line\":{\"color\":\"white\",\"width\":2},\"mode\":\"lines\",\"type\":\"scatter\",\"x\":[5.485,5.485],\"y\":[23.78,23.330000000000002]},{\"line\":{\"color\":\"white\",\"width\":2},\"mode\":\"lines\",\"type\":\"scatter\",\"x\":[1.37,1.37],\"y\":[0,23.78]},{\"line\":{\"color\":\"white\",\"width\":2},\"mode\":\"lines\",\"type\":\"scatter\",\"x\":[9.600000000000001,9.600000000000001],\"y\":[0,23.78]},{\"line\":{\"color\":\"white\",\"width\":2},\"mode\":\"lines\",\"type\":\"scatter\",\"x\":[1.37,1.37,9.600000000000001,9.600000000000001,1.37],\"y\":[5.5,18.29,18.29,5.5,5.5]},{\"mode\":\"text\",\"text\":\"score 1:0, 15:0\",\"textfont\":{\"color\":\"white\",\"size\":12},\"type\":\"scatter\",\"x\":[-5],\"y\":[20]},{\"mode\":\"text\",\"text\":\"1st/2nd serve second\",\"textfont\":{\"color\":\"white\",\"size\":12},\"type\":\"scatter\",\"x\":[-5],\"y\":[16]},{\"mode\":\"text\",\"text\":\"server Nadal\",\"textfont\":{\"color\":\"white\",\"size\":12},\"type\":\"scatter\",\"x\":[-5],\"y\":[18]},{\"mode\":\"text\",\"text\":\"rallyid 8\",\"textfont\":{\"color\":\"white\",\"size\":12},\"type\":\"scatter\",\"x\":[-5],\"y\":[14]}],                        {\"height\":800,\"plot_bgcolor\":\"#5080B0\",\"template\":{\"data\":{\"bar\":[{\"error_x\":{\"color\":\"#2a3f5f\"},\"error_y\":{\"color\":\"#2a3f5f\"},\"marker\":{\"line\":{\"color\":\"#E5ECF6\",\"width\":0.5},\"pattern\":{\"fillmode\":\"overlay\",\"size\":10,\"solidity\":0.2}},\"type\":\"bar\"}],\"barpolar\":[{\"marker\":{\"line\":{\"color\":\"#E5ECF6\",\"width\":0.5},\"pattern\":{\"fillmode\":\"overlay\",\"size\":10,\"solidity\":0.2}},\"type\":\"barpolar\"}],\"carpet\":[{\"aaxis\":{\"endlinecolor\":\"#2a3f5f\",\"gridcolor\":\"white\",\"linecolor\":\"white\",\"minorgridcolor\":\"white\",\"startlinecolor\":\"#2a3f5f\"},\"baxis\":{\"endlinecolor\":\"#2a3f5f\",\"gridcolor\":\"white\",\"linecolor\":\"white\",\"minorgridcolor\":\"white\",\"startlinecolor\":\"#2a3f5f\"},\"type\":\"carpet\"}],\"choropleth\":[{\"colorbar\":{\"outlinewidth\":0,\"ticks\":\"\"},\"type\":\"choropleth\"}],\"contour\":[{\"colorbar\":{\"outlinewidth\":0,\"ticks\":\"\"},\"colorscale\":[[0.0,\"#0d0887\"],[0.1111111111111111,\"#46039f\"],[0.2222222222222222,\"#7201a8\"],[0.3333333333333333,\"#9c179e\"],[0.4444444444444444,\"#bd3786\"],[0.5555555555555556,\"#d8576b\"],[0.6666666666666666,\"#ed7953\"],[0.7777777777777778,\"#fb9f3a\"],[0.8888888888888888,\"#fdca26\"],[1.0,\"#f0f921\"]],\"type\":\"contour\"}],\"contourcarpet\":[{\"colorbar\":{\"outlinewidth\":0,\"ticks\":\"\"},\"type\":\"contourcarpet\"}],\"heatmap\":[{\"colorbar\":{\"outlinewidth\":0,\"ticks\":\"\"},\"colorscale\":[[0.0,\"#0d0887\"],[0.1111111111111111,\"#46039f\"],[0.2222222222222222,\"#7201a8\"],[0.3333333333333333,\"#9c179e\"],[0.4444444444444444,\"#bd3786\"],[0.5555555555555556,\"#d8576b\"],[0.6666666666666666,\"#ed7953\"],[0.7777777777777778,\"#fb9f3a\"],[0.8888888888888888,\"#fdca26\"],[1.0,\"#f0f921\"]],\"type\":\"heatmap\"}],\"heatmapgl\":[{\"colorbar\":{\"outlinewidth\":0,\"ticks\":\"\"},\"colorscale\":[[0.0,\"#0d0887\"],[0.1111111111111111,\"#46039f\"],[0.2222222222222222,\"#7201a8\"],[0.3333333333333333,\"#9c179e\"],[0.4444444444444444,\"#bd3786\"],[0.5555555555555556,\"#d8576b\"],[0.6666666666666666,\"#ed7953\"],[0.7777777777777778,\"#fb9f3a\"],[0.8888888888888888,\"#fdca26\"],[1.0,\"#f0f921\"]],\"type\":\"heatmapgl\"}],\"histogram\":[{\"marker\":{\"pattern\":{\"fillmode\":\"overlay\",\"size\":10,\"solidity\":0.2}},\"type\":\"histogram\"}],\"histogram2d\":[{\"colorbar\":{\"outlinewidth\":0,\"ticks\":\"\"},\"colorscale\":[[0.0,\"#0d0887\"],[0.1111111111111111,\"#46039f\"],[0.2222222222222222,\"#7201a8\"],[0.3333333333333333,\"#9c179e\"],[0.4444444444444444,\"#bd3786\"],[0.5555555555555556,\"#d8576b\"],[0.6666666666666666,\"#ed7953\"],[0.7777777777777778,\"#fb9f3a\"],[0.8888888888888888,\"#fdca26\"],[1.0,\"#f0f921\"]],\"type\":\"histogram2d\"}],\"histogram2dcontour\":[{\"colorbar\":{\"outlinewidth\":0,\"ticks\":\"\"},\"colorscale\":[[0.0,\"#0d0887\"],[0.1111111111111111,\"#46039f\"],[0.2222222222222222,\"#7201a8\"],[0.3333333333333333,\"#9c179e\"],[0.4444444444444444,\"#bd3786\"],[0.5555555555555556,\"#d8576b\"],[0.6666666666666666,\"#ed7953\"],[0.7777777777777778,\"#fb9f3a\"],[0.8888888888888888,\"#fdca26\"],[1.0,\"#f0f921\"]],\"type\":\"histogram2dcontour\"}],\"mesh3d\":[{\"colorbar\":{\"outlinewidth\":0,\"ticks\":\"\"},\"type\":\"mesh3d\"}],\"parcoords\":[{\"line\":{\"colorbar\":{\"outlinewidth\":0,\"ticks\":\"\"}},\"type\":\"parcoords\"}],\"pie\":[{\"automargin\":true,\"type\":\"pie\"}],\"scatter\":[{\"marker\":{\"colorbar\":{\"outlinewidth\":0,\"ticks\":\"\"}},\"type\":\"scatter\"}],\"scatter3d\":[{\"line\":{\"colorbar\":{\"outlinewidth\":0,\"ticks\":\"\"}},\"marker\":{\"colorbar\":{\"outlinewidth\":0,\"ticks\":\"\"}},\"type\":\"scatter3d\"}],\"scattercarpet\":[{\"marker\":{\"colorbar\":{\"outlinewidth\":0,\"ticks\":\"\"}},\"type\":\"scattercarpet\"}],\"scattergeo\":[{\"marker\":{\"colorbar\":{\"outlinewidth\":0,\"ticks\":\"\"}},\"type\":\"scattergeo\"}],\"scattergl\":[{\"marker\":{\"colorbar\":{\"outlinewidth\":0,\"ticks\":\"\"}},\"type\":\"scattergl\"}],\"scattermapbox\":[{\"marker\":{\"colorbar\":{\"outlinewidth\":0,\"ticks\":\"\"}},\"type\":\"scattermapbox\"}],\"scatterpolar\":[{\"marker\":{\"colorbar\":{\"outlinewidth\":0,\"ticks\":\"\"}},\"type\":\"scatterpolar\"}],\"scatterpolargl\":[{\"marker\":{\"colorbar\":{\"outlinewidth\":0,\"ticks\":\"\"}},\"type\":\"scatterpolargl\"}],\"scatterternary\":[{\"marker\":{\"colorbar\":{\"outlinewidth\":0,\"ticks\":\"\"}},\"type\":\"scatterternary\"}],\"surface\":[{\"colorbar\":{\"outlinewidth\":0,\"ticks\":\"\"},\"colorscale\":[[0.0,\"#0d0887\"],[0.1111111111111111,\"#46039f\"],[0.2222222222222222,\"#7201a8\"],[0.3333333333333333,\"#9c179e\"],[0.4444444444444444,\"#bd3786\"],[0.5555555555555556,\"#d8576b\"],[0.6666666666666666,\"#ed7953\"],[0.7777777777777778,\"#fb9f3a\"],[0.8888888888888888,\"#fdca26\"],[1.0,\"#f0f921\"]],\"type\":\"surface\"}],\"table\":[{\"cells\":{\"fill\":{\"color\":\"#EBF0F8\"},\"line\":{\"color\":\"white\"}},\"header\":{\"fill\":{\"color\":\"#C8D4E3\"},\"line\":{\"color\":\"white\"}},\"type\":\"table\"}]},\"layout\":{\"annotationdefaults\":{\"arrowcolor\":\"#2a3f5f\",\"arrowhead\":0,\"arrowwidth\":1},\"autotypenumbers\":\"strict\",\"coloraxis\":{\"colorbar\":{\"outlinewidth\":0,\"ticks\":\"\"}},\"colorscale\":{\"diverging\":[[0,\"#8e0152\"],[0.1,\"#c51b7d\"],[0.2,\"#de77ae\"],[0.3,\"#f1b6da\"],[0.4,\"#fde0ef\"],[0.5,\"#f7f7f7\"],[0.6,\"#e6f5d0\"],[0.7,\"#b8e186\"],[0.8,\"#7fbc41\"],[0.9,\"#4d9221\"],[1,\"#276419\"]],\"sequential\":[[0.0,\"#0d0887\"],[0.1111111111111111,\"#46039f\"],[0.2222222222222222,\"#7201a8\"],[0.3333333333333333,\"#9c179e\"],[0.4444444444444444,\"#bd3786\"],[0.5555555555555556,\"#d8576b\"],[0.6666666666666666,\"#ed7953\"],[0.7777777777777778,\"#fb9f3a\"],[0.8888888888888888,\"#fdca26\"],[1.0,\"#f0f921\"]],\"sequentialminus\":[[0.0,\"#0d0887\"],[0.1111111111111111,\"#46039f\"],[0.2222222222222222,\"#7201a8\"],[0.3333333333333333,\"#9c179e\"],[0.4444444444444444,\"#bd3786\"],[0.5555555555555556,\"#d8576b\"],[0.6666666666666666,\"#ed7953\"],[0.7777777777777778,\"#fb9f3a\"],[0.8888888888888888,\"#fdca26\"],[1.0,\"#f0f921\"]]},\"colorway\":[\"#636efa\",\"#EF553B\",\"#00cc96\",\"#ab63fa\",\"#FFA15A\",\"#19d3f3\",\"#FF6692\",\"#B6E880\",\"#FF97FF\",\"#FECB52\"],\"font\":{\"color\":\"#2a3f5f\"},\"geo\":{\"bgcolor\":\"white\",\"lakecolor\":\"white\",\"landcolor\":\"#E5ECF6\",\"showlakes\":true,\"showland\":true,\"subunitcolor\":\"white\"},\"hoverlabel\":{\"align\":\"left\"},\"hovermode\":\"closest\",\"mapbox\":{\"style\":\"light\"},\"paper_bgcolor\":\"white\",\"plot_bgcolor\":\"#E5ECF6\",\"polar\":{\"angularaxis\":{\"gridcolor\":\"white\",\"linecolor\":\"white\",\"ticks\":\"\"},\"bgcolor\":\"#E5ECF6\",\"radialaxis\":{\"gridcolor\":\"white\",\"linecolor\":\"white\",\"ticks\":\"\"}},\"scene\":{\"xaxis\":{\"backgroundcolor\":\"#E5ECF6\",\"gridcolor\":\"white\",\"gridwidth\":2,\"linecolor\":\"white\",\"showbackground\":true,\"ticks\":\"\",\"zerolinecolor\":\"white\"},\"yaxis\":{\"backgroundcolor\":\"#E5ECF6\",\"gridcolor\":\"white\",\"gridwidth\":2,\"linecolor\":\"white\",\"showbackground\":true,\"ticks\":\"\",\"zerolinecolor\":\"white\"},\"zaxis\":{\"backgroundcolor\":\"#E5ECF6\",\"gridcolor\":\"white\",\"gridwidth\":2,\"linecolor\":\"white\",\"showbackground\":true,\"ticks\":\"\",\"zerolinecolor\":\"white\"}},\"shapedefaults\":{\"line\":{\"color\":\"#2a3f5f\"}},\"ternary\":{\"aaxis\":{\"gridcolor\":\"white\",\"linecolor\":\"white\",\"ticks\":\"\"},\"baxis\":{\"gridcolor\":\"white\",\"linecolor\":\"white\",\"ticks\":\"\"},\"bgcolor\":\"#E5ECF6\",\"caxis\":{\"gridcolor\":\"white\",\"linecolor\":\"white\",\"ticks\":\"\"}},\"title\":{\"x\":0.05},\"xaxis\":{\"automargin\":true,\"gridcolor\":\"white\",\"linecolor\":\"white\",\"ticks\":\"\",\"title\":{\"standoff\":15},\"zerolinecolor\":\"white\",\"zerolinewidth\":2},\"yaxis\":{\"automargin\":true,\"gridcolor\":\"white\",\"linecolor\":\"white\",\"ticks\":\"\",\"title\":{\"standoff\":15},\"zerolinecolor\":\"white\",\"zerolinewidth\":2}}},\"title\":{\"text\":\"Tennis Point\"},\"updatemenus\":[{\"buttons\":[{\"args\":[null,{\"frame\":{\"duration\":100,\"redraw\":true},\"fromcurrent\":true,\"transition\":{\"duration\":300,\"easing\":\"quadratic-in-out\"}}],\"label\":\"Play\",\"method\":\"animate\"},{\"args\":[[null],{\"frame\":{\"duration\":0,\"redraw\":true},\"mode\":\"immediate\",\"transition\":{\"duration\":0}}],\"label\":\"Pause\",\"method\":\"animate\"}],\"direction\":\"left\",\"pad\":{\"r\":10,\"t\":87},\"showactive\":true,\"type\":\"buttons\",\"x\":0.1,\"xanchor\":\"right\",\"y\":0,\"yanchor\":\"top\"}],\"width\":550,\"xaxis\":{\"autorange\":false,\"range\":[-9,12.97],\"showgrid\":false,\"zeroline\":false},\"yaxis\":{\"autorange\":false,\"range\":[-6.5,30.28],\"showgrid\":false,\"zeroline\":false}},                        {\"responsive\": true}                    ).then(function(){\n",
       "                            Plotly.addFrames('65c8cf5f-39ee-4c79-ae35-eda84f442966', [{\"data\":[{\"marker\":{\"color\":\"red\",\"size\":10},\"mode\":\"markers\",\"type\":\"scatter\",\"x\":[5.48],\"y\":[-0.4]},{\"marker\":{\"color\":\"cyan\",\"size\":10},\"mode\":\"markers\",\"type\":\"scatter\",\"x\":[1.64],\"y\":[23.86]},{\"marker\":{\"color\":\"yellow\",\"size\":10},\"mode\":\"markers\",\"type\":\"scatter\",\"x\":[5.48],\"y\":[-0.4]},{\"mode\":\"text\",\"text\":\"type serve\",\"textfont\":{\"color\":\"white\",\"size\":12},\"type\":\"scatter\",\"x\":[-5],\"y\":[6]},{\"mode\":\"text\",\"text\":\"stroke forehand\",\"textfont\":{\"color\":\"white\",\"size\":12},\"type\":\"scatter\",\"x\":[-5],\"y\":[8]},{\"mode\":\"text\",\"text\":\"hitter Nadal\",\"textfont\":{\"color\":\"white\",\"size\":12},\"type\":\"scatter\",\"x\":[-5],\"y\":[10]},{\"mode\":\"text\",\"text\":\"strokeid 1\",\"textfont\":{\"color\":\"white\",\"size\":12},\"type\":\"scatter\",\"x\":[-5],\"y\":[12]}]},{\"data\":[{\"marker\":{\"color\":\"red\",\"size\":10},\"mode\":\"markers\",\"type\":\"scatter\",\"x\":[5.515000000000001],\"y\":[-0.23100000000000004]},{\"marker\":{\"color\":\"cyan\",\"size\":10},\"mode\":\"markers\",\"type\":\"scatter\",\"x\":[1.858],\"y\":[23.907]},{\"marker\":{\"color\":\"yellow\",\"size\":10},\"mode\":\"markers\",\"type\":\"scatter\",\"x\":[5.314],\"y\":[2.073]},{\"mode\":\"text\",\"text\":\"type serve\",\"textfont\":{\"color\":\"white\",\"size\":12},\"type\":\"scatter\",\"x\":[-5],\"y\":[6]},{\"mode\":\"text\",\"text\":\"stroke forehand\",\"textfont\":{\"color\":\"white\",\"size\":12},\"type\":\"scatter\",\"x\":[-5],\"y\":[8]},{\"mode\":\"text\",\"text\":\"hitter Nadal\",\"textfont\":{\"color\":\"white\",\"size\":12},\"type\":\"scatter\",\"x\":[-5],\"y\":[10]},{\"mode\":\"text\",\"text\":\"strokeid 1\",\"textfont\":{\"color\":\"white\",\"size\":12},\"type\":\"scatter\",\"x\":[-5],\"y\":[12]}]},{\"data\":[{\"marker\":{\"color\":\"red\",\"size\":10},\"mode\":\"markers\",\"type\":\"scatter\",\"x\":[5.550000000000001],\"y\":[-0.062000000000000055]},{\"marker\":{\"color\":\"cyan\",\"size\":10},\"mode\":\"markers\",\"type\":\"scatter\",\"x\":[2.076],\"y\":[23.954]},{\"marker\":{\"color\":\"yellow\",\"size\":10},\"mode\":\"markers\",\"type\":\"scatter\",\"x\":[5.148000000000001],\"y\":[4.545999999999999]},{\"mode\":\"text\",\"text\":\"type serve\",\"textfont\":{\"color\":\"white\",\"size\":12},\"type\":\"scatter\",\"x\":[-5],\"y\":[6]},{\"mode\":\"text\",\"text\":\"stroke forehand\",\"textfont\":{\"color\":\"white\",\"size\":12},\"type\":\"scatter\",\"x\":[-5],\"y\":[8]},{\"mode\":\"text\",\"text\":\"hitter Nadal\",\"textfont\":{\"color\":\"white\",\"size\":12},\"type\":\"scatter\",\"x\":[-5],\"y\":[10]},{\"mode\":\"text\",\"text\":\"strokeid 1\",\"textfont\":{\"color\":\"white\",\"size\":12},\"type\":\"scatter\",\"x\":[-5],\"y\":[12]}]},{\"data\":[{\"marker\":{\"color\":\"red\",\"size\":10},\"mode\":\"markers\",\"type\":\"scatter\",\"x\":[5.585],\"y\":[0.1070000000000001]},{\"marker\":{\"color\":\"cyan\",\"size\":10},\"mode\":\"markers\",\"type\":\"scatter\",\"x\":[2.294],\"y\":[24.000999999999998]},{\"marker\":{\"color\":\"yellow\",\"size\":10},\"mode\":\"markers\",\"type\":\"scatter\",\"x\":[4.982],\"y\":[7.019]},{\"mode\":\"text\",\"text\":\"type serve\",\"textfont\":{\"color\":\"white\",\"size\":12},\"type\":\"scatter\",\"x\":[-5],\"y\":[6]},{\"mode\":\"text\",\"text\":\"stroke forehand\",\"textfont\":{\"color\":\"white\",\"size\":12},\"type\":\"scatter\",\"x\":[-5],\"y\":[8]},{\"mode\":\"text\",\"text\":\"hitter Nadal\",\"textfont\":{\"color\":\"white\",\"size\":12},\"type\":\"scatter\",\"x\":[-5],\"y\":[10]},{\"mode\":\"text\",\"text\":\"strokeid 1\",\"textfont\":{\"color\":\"white\",\"size\":12},\"type\":\"scatter\",\"x\":[-5],\"y\":[12]}]},{\"data\":[{\"marker\":{\"color\":\"red\",\"size\":10},\"mode\":\"markers\",\"type\":\"scatter\",\"x\":[5.620000000000001],\"y\":[0.276]},{\"marker\":{\"color\":\"cyan\",\"size\":10},\"mode\":\"markers\",\"type\":\"scatter\",\"x\":[2.512],\"y\":[24.048]},{\"marker\":{\"color\":\"yellow\",\"size\":10},\"mode\":\"markers\",\"type\":\"scatter\",\"x\":[4.816000000000001],\"y\":[9.491999999999999]},{\"mode\":\"text\",\"text\":\"type serve\",\"textfont\":{\"color\":\"white\",\"size\":12},\"type\":\"scatter\",\"x\":[-5],\"y\":[6]},{\"mode\":\"text\",\"text\":\"stroke forehand\",\"textfont\":{\"color\":\"white\",\"size\":12},\"type\":\"scatter\",\"x\":[-5],\"y\":[8]},{\"mode\":\"text\",\"text\":\"hitter Nadal\",\"textfont\":{\"color\":\"white\",\"size\":12},\"type\":\"scatter\",\"x\":[-5],\"y\":[10]},{\"mode\":\"text\",\"text\":\"strokeid 1\",\"textfont\":{\"color\":\"white\",\"size\":12},\"type\":\"scatter\",\"x\":[-5],\"y\":[12]}]},{\"data\":[{\"marker\":{\"color\":\"red\",\"size\":10},\"mode\":\"markers\",\"type\":\"scatter\",\"x\":[5.655],\"y\":[0.445]},{\"marker\":{\"color\":\"cyan\",\"size\":10},\"mode\":\"markers\",\"type\":\"scatter\",\"x\":[2.73],\"y\":[24.095]},{\"marker\":{\"color\":\"yellow\",\"size\":10},\"mode\":\"markers\",\"type\":\"scatter\",\"x\":[4.65],\"y\":[11.965]},{\"mode\":\"text\",\"text\":\"type serve\",\"textfont\":{\"color\":\"white\",\"size\":12},\"type\":\"scatter\",\"x\":[-5],\"y\":[6]},{\"mode\":\"text\",\"text\":\"stroke forehand\",\"textfont\":{\"color\":\"white\",\"size\":12},\"type\":\"scatter\",\"x\":[-5],\"y\":[8]},{\"mode\":\"text\",\"text\":\"hitter Nadal\",\"textfont\":{\"color\":\"white\",\"size\":12},\"type\":\"scatter\",\"x\":[-5],\"y\":[10]},{\"mode\":\"text\",\"text\":\"strokeid 1\",\"textfont\":{\"color\":\"white\",\"size\":12},\"type\":\"scatter\",\"x\":[-5],\"y\":[12]}]},{\"data\":[{\"marker\":{\"color\":\"red\",\"size\":10},\"mode\":\"markers\",\"type\":\"scatter\",\"x\":[5.69],\"y\":[0.6140000000000001]},{\"marker\":{\"color\":\"cyan\",\"size\":10},\"mode\":\"markers\",\"type\":\"scatter\",\"x\":[2.948],\"y\":[24.141999999999996]},{\"marker\":{\"color\":\"yellow\",\"size\":10},\"mode\":\"markers\",\"type\":\"scatter\",\"x\":[4.484],\"y\":[14.438]},{\"mode\":\"text\",\"text\":\"type serve\",\"textfont\":{\"color\":\"white\",\"size\":12},\"type\":\"scatter\",\"x\":[-5],\"y\":[6]},{\"mode\":\"text\",\"text\":\"stroke forehand\",\"textfont\":{\"color\":\"white\",\"size\":12},\"type\":\"scatter\",\"x\":[-5],\"y\":[8]},{\"mode\":\"text\",\"text\":\"hitter Nadal\",\"textfont\":{\"color\":\"white\",\"size\":12},\"type\":\"scatter\",\"x\":[-5],\"y\":[10]},{\"mode\":\"text\",\"text\":\"strokeid 1\",\"textfont\":{\"color\":\"white\",\"size\":12},\"type\":\"scatter\",\"x\":[-5],\"y\":[12]}]},{\"data\":[{\"marker\":{\"color\":\"red\",\"size\":10},\"mode\":\"markers\",\"type\":\"scatter\",\"x\":[5.725],\"y\":[0.7830000000000001]},{\"marker\":{\"color\":\"cyan\",\"size\":10},\"mode\":\"markers\",\"type\":\"scatter\",\"x\":[3.166],\"y\":[24.188999999999997]},{\"marker\":{\"color\":\"yellow\",\"size\":10},\"mode\":\"markers\",\"type\":\"scatter\",\"x\":[4.318],\"y\":[16.910999999999998]},{\"mode\":\"text\",\"text\":\"type serve\",\"textfont\":{\"color\":\"white\",\"size\":12},\"type\":\"scatter\",\"x\":[-5],\"y\":[6]},{\"mode\":\"text\",\"text\":\"stroke forehand\",\"textfont\":{\"color\":\"white\",\"size\":12},\"type\":\"scatter\",\"x\":[-5],\"y\":[8]},{\"mode\":\"text\",\"text\":\"hitter Nadal\",\"textfont\":{\"color\":\"white\",\"size\":12},\"type\":\"scatter\",\"x\":[-5],\"y\":[10]},{\"mode\":\"text\",\"text\":\"strokeid 1\",\"textfont\":{\"color\":\"white\",\"size\":12},\"type\":\"scatter\",\"x\":[-5],\"y\":[12]}]},{\"data\":[{\"marker\":{\"color\":\"red\",\"size\":10},\"mode\":\"markers\",\"type\":\"scatter\",\"x\":[5.760000000000001],\"y\":[0.9520000000000001]},{\"marker\":{\"color\":\"cyan\",\"size\":10},\"mode\":\"markers\",\"type\":\"scatter\",\"x\":[3.384],\"y\":[24.235999999999997]},{\"marker\":{\"color\":\"yellow\",\"size\":10},\"mode\":\"markers\",\"type\":\"scatter\",\"x\":[4.152],\"y\":[19.384]},{\"mode\":\"text\",\"text\":\"type serve\",\"textfont\":{\"color\":\"white\",\"size\":12},\"type\":\"scatter\",\"x\":[-5],\"y\":[6]},{\"mode\":\"text\",\"text\":\"stroke forehand\",\"textfont\":{\"color\":\"white\",\"size\":12},\"type\":\"scatter\",\"x\":[-5],\"y\":[8]},{\"mode\":\"text\",\"text\":\"hitter Nadal\",\"textfont\":{\"color\":\"white\",\"size\":12},\"type\":\"scatter\",\"x\":[-5],\"y\":[10]},{\"mode\":\"text\",\"text\":\"strokeid 1\",\"textfont\":{\"color\":\"white\",\"size\":12},\"type\":\"scatter\",\"x\":[-5],\"y\":[12]}]},{\"data\":[{\"marker\":{\"color\":\"red\",\"size\":10},\"mode\":\"markers\",\"type\":\"scatter\",\"x\":[5.795],\"y\":[1.121]},{\"marker\":{\"color\":\"cyan\",\"size\":10},\"mode\":\"markers\",\"type\":\"scatter\",\"x\":[3.602],\"y\":[24.282999999999998]},{\"marker\":{\"color\":\"yellow\",\"size\":10},\"mode\":\"markers\",\"type\":\"scatter\",\"x\":[3.9859999999999998],\"y\":[21.857]},{\"mode\":\"text\",\"text\":\"type serve\",\"textfont\":{\"color\":\"white\",\"size\":12},\"type\":\"scatter\",\"x\":[-5],\"y\":[6]},{\"mode\":\"text\",\"text\":\"stroke forehand\",\"textfont\":{\"color\":\"white\",\"size\":12},\"type\":\"scatter\",\"x\":[-5],\"y\":[8]},{\"mode\":\"text\",\"text\":\"hitter Nadal\",\"textfont\":{\"color\":\"white\",\"size\":12},\"type\":\"scatter\",\"x\":[-5],\"y\":[10]},{\"mode\":\"text\",\"text\":\"strokeid 1\",\"textfont\":{\"color\":\"white\",\"size\":12},\"type\":\"scatter\",\"x\":[-5],\"y\":[12]}]},{\"data\":[{\"marker\":{\"color\":\"red\",\"size\":10},\"mode\":\"markers\",\"type\":\"scatter\",\"x\":[5.83],\"y\":[1.29]},{\"marker\":{\"color\":\"cyan\",\"size\":10},\"mode\":\"markers\",\"type\":\"scatter\",\"x\":[3.82],\"y\":[24.33]},{\"marker\":{\"color\":\"yellow\",\"size\":10},\"mode\":\"markers\",\"type\":\"scatter\",\"x\":[3.82],\"y\":[24.33]},{\"mode\":\"text\",\"text\":\"type return\",\"textfont\":{\"color\":\"white\",\"size\":12},\"type\":\"scatter\",\"x\":[-5],\"y\":[6]},{\"mode\":\"text\",\"text\":\"stroke backhand\",\"textfont\":{\"color\":\"white\",\"size\":12},\"type\":\"scatter\",\"x\":[-5],\"y\":[8]},{\"mode\":\"text\",\"text\":\"hitter Djokovic\",\"textfont\":{\"color\":\"white\",\"size\":12},\"type\":\"scatter\",\"x\":[-5],\"y\":[10]},{\"mode\":\"text\",\"text\":\"strokeid 2\",\"textfont\":{\"color\":\"white\",\"size\":12},\"type\":\"scatter\",\"x\":[-5],\"y\":[12]}]},{\"data\":[{\"marker\":{\"color\":\"red\",\"size\":10},\"mode\":\"markers\",\"type\":\"scatter\",\"x\":[5.796],\"y\":[1.129]},{\"marker\":{\"color\":\"cyan\",\"size\":10},\"mode\":\"markers\",\"type\":\"scatter\",\"x\":[3.9639999999999995],\"y\":[24.423]},{\"marker\":{\"color\":\"yellow\",\"size\":10},\"mode\":\"markers\",\"type\":\"scatter\",\"x\":[3.9869999999999997],\"y\":[21.865]},{\"mode\":\"text\",\"text\":\"type return\",\"textfont\":{\"color\":\"white\",\"size\":12},\"type\":\"scatter\",\"x\":[-5],\"y\":[6]},{\"mode\":\"text\",\"text\":\"stroke backhand\",\"textfont\":{\"color\":\"white\",\"size\":12},\"type\":\"scatter\",\"x\":[-5],\"y\":[8]},{\"mode\":\"text\",\"text\":\"hitter Djokovic\",\"textfont\":{\"color\":\"white\",\"size\":12},\"type\":\"scatter\",\"x\":[-5],\"y\":[10]},{\"mode\":\"text\",\"text\":\"strokeid 2\",\"textfont\":{\"color\":\"white\",\"size\":12},\"type\":\"scatter\",\"x\":[-5],\"y\":[12]}]},{\"data\":[{\"marker\":{\"color\":\"red\",\"size\":10},\"mode\":\"markers\",\"type\":\"scatter\",\"x\":[5.7620000000000005],\"y\":[0.968]},{\"marker\":{\"color\":\"cyan\",\"size\":10},\"mode\":\"markers\",\"type\":\"scatter\",\"x\":[4.1080000000000005],\"y\":[24.516]},{\"marker\":{\"color\":\"yellow\",\"size\":10},\"mode\":\"markers\",\"type\":\"scatter\",\"x\":[4.154],\"y\":[19.4]},{\"mode\":\"text\",\"text\":\"type return\",\"textfont\":{\"color\":\"white\",\"size\":12},\"type\":\"scatter\",\"x\":[-5],\"y\":[6]},{\"mode\":\"text\",\"text\":\"stroke backhand\",\"textfont\":{\"color\":\"white\",\"size\":12},\"type\":\"scatter\",\"x\":[-5],\"y\":[8]},{\"mode\":\"text\",\"text\":\"hitter Djokovic\",\"textfont\":{\"color\":\"white\",\"size\":12},\"type\":\"scatter\",\"x\":[-5],\"y\":[10]},{\"mode\":\"text\",\"text\":\"strokeid 2\",\"textfont\":{\"color\":\"white\",\"size\":12},\"type\":\"scatter\",\"x\":[-5],\"y\":[12]}]},{\"data\":[{\"marker\":{\"color\":\"red\",\"size\":10},\"mode\":\"markers\",\"type\":\"scatter\",\"x\":[5.728],\"y\":[0.8069999999999999]},{\"marker\":{\"color\":\"cyan\",\"size\":10},\"mode\":\"markers\",\"type\":\"scatter\",\"x\":[4.252],\"y\":[24.609]},{\"marker\":{\"color\":\"yellow\",\"size\":10},\"mode\":\"markers\",\"type\":\"scatter\",\"x\":[4.321],\"y\":[16.935]},{\"mode\":\"text\",\"text\":\"type return\",\"textfont\":{\"color\":\"white\",\"size\":12},\"type\":\"scatter\",\"x\":[-5],\"y\":[6]},{\"mode\":\"text\",\"text\":\"stroke backhand\",\"textfont\":{\"color\":\"white\",\"size\":12},\"type\":\"scatter\",\"x\":[-5],\"y\":[8]},{\"mode\":\"text\",\"text\":\"hitter Djokovic\",\"textfont\":{\"color\":\"white\",\"size\":12},\"type\":\"scatter\",\"x\":[-5],\"y\":[10]},{\"mode\":\"text\",\"text\":\"strokeid 2\",\"textfont\":{\"color\":\"white\",\"size\":12},\"type\":\"scatter\",\"x\":[-5],\"y\":[12]}]},{\"data\":[{\"marker\":{\"color\":\"red\",\"size\":10},\"mode\":\"markers\",\"type\":\"scatter\",\"x\":[5.694],\"y\":[0.646]},{\"marker\":{\"color\":\"cyan\",\"size\":10},\"mode\":\"markers\",\"type\":\"scatter\",\"x\":[4.396],\"y\":[24.701999999999998]},{\"marker\":{\"color\":\"yellow\",\"size\":10},\"mode\":\"markers\",\"type\":\"scatter\",\"x\":[4.4879999999999995],\"y\":[14.469999999999999]},{\"mode\":\"text\",\"text\":\"type return\",\"textfont\":{\"color\":\"white\",\"size\":12},\"type\":\"scatter\",\"x\":[-5],\"y\":[6]},{\"mode\":\"text\",\"text\":\"stroke backhand\",\"textfont\":{\"color\":\"white\",\"size\":12},\"type\":\"scatter\",\"x\":[-5],\"y\":[8]},{\"mode\":\"text\",\"text\":\"hitter Djokovic\",\"textfont\":{\"color\":\"white\",\"size\":12},\"type\":\"scatter\",\"x\":[-5],\"y\":[10]},{\"mode\":\"text\",\"text\":\"strokeid 2\",\"textfont\":{\"color\":\"white\",\"size\":12},\"type\":\"scatter\",\"x\":[-5],\"y\":[12]}]},{\"data\":[{\"marker\":{\"color\":\"red\",\"size\":10},\"mode\":\"markers\",\"type\":\"scatter\",\"x\":[5.66],\"y\":[0.485]},{\"marker\":{\"color\":\"cyan\",\"size\":10},\"mode\":\"markers\",\"type\":\"scatter\",\"x\":[4.54],\"y\":[24.795]},{\"marker\":{\"color\":\"yellow\",\"size\":10},\"mode\":\"markers\",\"type\":\"scatter\",\"x\":[4.655],\"y\":[12.004999999999999]},{\"mode\":\"text\",\"text\":\"type return\",\"textfont\":{\"color\":\"white\",\"size\":12},\"type\":\"scatter\",\"x\":[-5],\"y\":[6]},{\"mode\":\"text\",\"text\":\"stroke backhand\",\"textfont\":{\"color\":\"white\",\"size\":12},\"type\":\"scatter\",\"x\":[-5],\"y\":[8]},{\"mode\":\"text\",\"text\":\"hitter Djokovic\",\"textfont\":{\"color\":\"white\",\"size\":12},\"type\":\"scatter\",\"x\":[-5],\"y\":[10]},{\"mode\":\"text\",\"text\":\"strokeid 2\",\"textfont\":{\"color\":\"white\",\"size\":12},\"type\":\"scatter\",\"x\":[-5],\"y\":[12]}]},{\"data\":[{\"marker\":{\"color\":\"red\",\"size\":10},\"mode\":\"markers\",\"type\":\"scatter\",\"x\":[5.6259999999999994],\"y\":[0.32399999999999984]},{\"marker\":{\"color\":\"cyan\",\"size\":10},\"mode\":\"markers\",\"type\":\"scatter\",\"x\":[4.683999999999999],\"y\":[24.887999999999998]},{\"marker\":{\"color\":\"yellow\",\"size\":10},\"mode\":\"markers\",\"type\":\"scatter\",\"x\":[4.822],\"y\":[9.539999999999997]},{\"mode\":\"text\",\"text\":\"type return\",\"textfont\":{\"color\":\"white\",\"size\":12},\"type\":\"scatter\",\"x\":[-5],\"y\":[6]},{\"mode\":\"text\",\"text\":\"stroke backhand\",\"textfont\":{\"color\":\"white\",\"size\":12},\"type\":\"scatter\",\"x\":[-5],\"y\":[8]},{\"mode\":\"text\",\"text\":\"hitter Djokovic\",\"textfont\":{\"color\":\"white\",\"size\":12},\"type\":\"scatter\",\"x\":[-5],\"y\":[10]},{\"mode\":\"text\",\"text\":\"strokeid 2\",\"textfont\":{\"color\":\"white\",\"size\":12},\"type\":\"scatter\",\"x\":[-5],\"y\":[12]}]},{\"data\":[{\"marker\":{\"color\":\"red\",\"size\":10},\"mode\":\"markers\",\"type\":\"scatter\",\"x\":[5.5920000000000005],\"y\":[0.16299999999999987]},{\"marker\":{\"color\":\"cyan\",\"size\":10},\"mode\":\"markers\",\"type\":\"scatter\",\"x\":[4.828],\"y\":[24.981]},{\"marker\":{\"color\":\"yellow\",\"size\":10},\"mode\":\"markers\",\"type\":\"scatter\",\"x\":[4.989],\"y\":[7.0749999999999975]},{\"mode\":\"text\",\"text\":\"type return\",\"textfont\":{\"color\":\"white\",\"size\":12},\"type\":\"scatter\",\"x\":[-5],\"y\":[6]},{\"mode\":\"text\",\"text\":\"stroke backhand\",\"textfont\":{\"color\":\"white\",\"size\":12},\"type\":\"scatter\",\"x\":[-5],\"y\":[8]},{\"mode\":\"text\",\"text\":\"hitter Djokovic\",\"textfont\":{\"color\":\"white\",\"size\":12},\"type\":\"scatter\",\"x\":[-5],\"y\":[10]},{\"mode\":\"text\",\"text\":\"strokeid 2\",\"textfont\":{\"color\":\"white\",\"size\":12},\"type\":\"scatter\",\"x\":[-5],\"y\":[12]}]},{\"data\":[{\"marker\":{\"color\":\"red\",\"size\":10},\"mode\":\"markers\",\"type\":\"scatter\",\"x\":[5.558],\"y\":[0.0019999999999999463]},{\"marker\":{\"color\":\"cyan\",\"size\":10},\"mode\":\"markers\",\"type\":\"scatter\",\"x\":[4.9719999999999995],\"y\":[25.074]},{\"marker\":{\"color\":\"yellow\",\"size\":10},\"mode\":\"markers\",\"type\":\"scatter\",\"x\":[5.156000000000001],\"y\":[4.6099999999999985]},{\"mode\":\"text\",\"text\":\"type return\",\"textfont\":{\"color\":\"white\",\"size\":12},\"type\":\"scatter\",\"x\":[-5],\"y\":[6]},{\"mode\":\"text\",\"text\":\"stroke backhand\",\"textfont\":{\"color\":\"white\",\"size\":12},\"type\":\"scatter\",\"x\":[-5],\"y\":[8]},{\"mode\":\"text\",\"text\":\"hitter Djokovic\",\"textfont\":{\"color\":\"white\",\"size\":12},\"type\":\"scatter\",\"x\":[-5],\"y\":[10]},{\"mode\":\"text\",\"text\":\"strokeid 2\",\"textfont\":{\"color\":\"white\",\"size\":12},\"type\":\"scatter\",\"x\":[-5],\"y\":[12]}]},{\"data\":[{\"marker\":{\"color\":\"red\",\"size\":10},\"mode\":\"markers\",\"type\":\"scatter\",\"x\":[5.524000000000001],\"y\":[-0.15900000000000006]},{\"marker\":{\"color\":\"cyan\",\"size\":10},\"mode\":\"markers\",\"type\":\"scatter\",\"x\":[5.116],\"y\":[25.167]},{\"marker\":{\"color\":\"yellow\",\"size\":10},\"mode\":\"markers\",\"type\":\"scatter\",\"x\":[5.323],\"y\":[2.1449999999999996]},{\"mode\":\"text\",\"text\":\"type return\",\"textfont\":{\"color\":\"white\",\"size\":12},\"type\":\"scatter\",\"x\":[-5],\"y\":[6]},{\"mode\":\"text\",\"text\":\"stroke backhand\",\"textfont\":{\"color\":\"white\",\"size\":12},\"type\":\"scatter\",\"x\":[-5],\"y\":[8]},{\"mode\":\"text\",\"text\":\"hitter Djokovic\",\"textfont\":{\"color\":\"white\",\"size\":12},\"type\":\"scatter\",\"x\":[-5],\"y\":[10]},{\"mode\":\"text\",\"text\":\"strokeid 2\",\"textfont\":{\"color\":\"white\",\"size\":12},\"type\":\"scatter\",\"x\":[-5],\"y\":[12]}]},{\"data\":[{\"marker\":{\"color\":\"red\",\"size\":10},\"mode\":\"markers\",\"type\":\"scatter\",\"x\":[5.49],\"y\":[-0.32]},{\"marker\":{\"color\":\"cyan\",\"size\":10},\"mode\":\"markers\",\"type\":\"scatter\",\"x\":[5.26],\"y\":[25.26]},{\"marker\":{\"color\":\"yellow\",\"size\":10},\"mode\":\"markers\",\"type\":\"scatter\",\"x\":[5.49],\"y\":[-0.32]},{\"mode\":\"text\",\"text\":\"type topspin\",\"textfont\":{\"color\":\"white\",\"size\":12},\"type\":\"scatter\",\"x\":[-5],\"y\":[6]},{\"mode\":\"text\",\"text\":\"stroke forehand\",\"textfont\":{\"color\":\"white\",\"size\":12},\"type\":\"scatter\",\"x\":[-5],\"y\":[8]},{\"mode\":\"text\",\"text\":\"hitter Nadal\",\"textfont\":{\"color\":\"white\",\"size\":12},\"type\":\"scatter\",\"x\":[-5],\"y\":[10]},{\"mode\":\"text\",\"text\":\"strokeid 3\",\"textfont\":{\"color\":\"white\",\"size\":12},\"type\":\"scatter\",\"x\":[-5],\"y\":[12]}]},{\"data\":[{\"marker\":{\"color\":\"red\",\"size\":10},\"mode\":\"markers\",\"type\":\"scatter\",\"x\":[5.3790000000000004],\"y\":[-0.42600000000000005]},{\"marker\":{\"color\":\"cyan\",\"size\":10},\"mode\":\"markers\",\"type\":\"scatter\",\"x\":[5.5120000000000005],\"y\":[25.248]},{\"marker\":{\"color\":\"yellow\",\"size\":10},\"mode\":\"markers\",\"type\":\"scatter\",\"x\":[5.719000000000001],\"y\":[2.226]},{\"mode\":\"text\",\"text\":\"type topspin\",\"textfont\":{\"color\":\"white\",\"size\":12},\"type\":\"scatter\",\"x\":[-5],\"y\":[6]},{\"mode\":\"text\",\"text\":\"stroke forehand\",\"textfont\":{\"color\":\"white\",\"size\":12},\"type\":\"scatter\",\"x\":[-5],\"y\":[8]},{\"mode\":\"text\",\"text\":\"hitter Nadal\",\"textfont\":{\"color\":\"white\",\"size\":12},\"type\":\"scatter\",\"x\":[-5],\"y\":[10]},{\"mode\":\"text\",\"text\":\"strokeid 3\",\"textfont\":{\"color\":\"white\",\"size\":12},\"type\":\"scatter\",\"x\":[-5],\"y\":[12]}]},{\"data\":[{\"marker\":{\"color\":\"red\",\"size\":10},\"mode\":\"markers\",\"type\":\"scatter\",\"x\":[5.268000000000001],\"y\":[-0.532]},{\"marker\":{\"color\":\"cyan\",\"size\":10},\"mode\":\"markers\",\"type\":\"scatter\",\"x\":[5.764],\"y\":[25.236000000000004]},{\"marker\":{\"color\":\"yellow\",\"size\":10},\"mode\":\"markers\",\"type\":\"scatter\",\"x\":[5.948],\"y\":[4.772]},{\"mode\":\"text\",\"text\":\"type topspin\",\"textfont\":{\"color\":\"white\",\"size\":12},\"type\":\"scatter\",\"x\":[-5],\"y\":[6]},{\"mode\":\"text\",\"text\":\"stroke forehand\",\"textfont\":{\"color\":\"white\",\"size\":12},\"type\":\"scatter\",\"x\":[-5],\"y\":[8]},{\"mode\":\"text\",\"text\":\"hitter Nadal\",\"textfont\":{\"color\":\"white\",\"size\":12},\"type\":\"scatter\",\"x\":[-5],\"y\":[10]},{\"mode\":\"text\",\"text\":\"strokeid 3\",\"textfont\":{\"color\":\"white\",\"size\":12},\"type\":\"scatter\",\"x\":[-5],\"y\":[12]}]},{\"data\":[{\"marker\":{\"color\":\"red\",\"size\":10},\"mode\":\"markers\",\"type\":\"scatter\",\"x\":[5.157],\"y\":[-0.638]},{\"marker\":{\"color\":\"cyan\",\"size\":10},\"mode\":\"markers\",\"type\":\"scatter\",\"x\":[6.016],\"y\":[25.224]},{\"marker\":{\"color\":\"yellow\",\"size\":10},\"mode\":\"markers\",\"type\":\"scatter\",\"x\":[6.1770000000000005],\"y\":[7.318000000000001]},{\"mode\":\"text\",\"text\":\"type topspin\",\"textfont\":{\"color\":\"white\",\"size\":12},\"type\":\"scatter\",\"x\":[-5],\"y\":[6]},{\"mode\":\"text\",\"text\":\"stroke forehand\",\"textfont\":{\"color\":\"white\",\"size\":12},\"type\":\"scatter\",\"x\":[-5],\"y\":[8]},{\"mode\":\"text\",\"text\":\"hitter Nadal\",\"textfont\":{\"color\":\"white\",\"size\":12},\"type\":\"scatter\",\"x\":[-5],\"y\":[10]},{\"mode\":\"text\",\"text\":\"strokeid 3\",\"textfont\":{\"color\":\"white\",\"size\":12},\"type\":\"scatter\",\"x\":[-5],\"y\":[12]}]},{\"data\":[{\"marker\":{\"color\":\"red\",\"size\":10},\"mode\":\"markers\",\"type\":\"scatter\",\"x\":[5.046],\"y\":[-0.744]},{\"marker\":{\"color\":\"cyan\",\"size\":10},\"mode\":\"markers\",\"type\":\"scatter\",\"x\":[6.268],\"y\":[25.212000000000003]},{\"marker\":{\"color\":\"yellow\",\"size\":10},\"mode\":\"markers\",\"type\":\"scatter\",\"x\":[6.406000000000001],\"y\":[9.864]},{\"mode\":\"text\",\"text\":\"type topspin\",\"textfont\":{\"color\":\"white\",\"size\":12},\"type\":\"scatter\",\"x\":[-5],\"y\":[6]},{\"mode\":\"text\",\"text\":\"stroke forehand\",\"textfont\":{\"color\":\"white\",\"size\":12},\"type\":\"scatter\",\"x\":[-5],\"y\":[8]},{\"mode\":\"text\",\"text\":\"hitter Nadal\",\"textfont\":{\"color\":\"white\",\"size\":12},\"type\":\"scatter\",\"x\":[-5],\"y\":[10]},{\"mode\":\"text\",\"text\":\"strokeid 3\",\"textfont\":{\"color\":\"white\",\"size\":12},\"type\":\"scatter\",\"x\":[-5],\"y\":[12]}]},{\"data\":[{\"marker\":{\"color\":\"red\",\"size\":10},\"mode\":\"markers\",\"type\":\"scatter\",\"x\":[4.9350000000000005],\"y\":[-0.85]},{\"marker\":{\"color\":\"cyan\",\"size\":10},\"mode\":\"markers\",\"type\":\"scatter\",\"x\":[6.52],\"y\":[25.200000000000003]},{\"marker\":{\"color\":\"yellow\",\"size\":10},\"mode\":\"markers\",\"type\":\"scatter\",\"x\":[6.635],\"y\":[12.41]},{\"mode\":\"text\",\"text\":\"type topspin\",\"textfont\":{\"color\":\"white\",\"size\":12},\"type\":\"scatter\",\"x\":[-5],\"y\":[6]},{\"mode\":\"text\",\"text\":\"stroke forehand\",\"textfont\":{\"color\":\"white\",\"size\":12},\"type\":\"scatter\",\"x\":[-5],\"y\":[8]},{\"mode\":\"text\",\"text\":\"hitter Nadal\",\"textfont\":{\"color\":\"white\",\"size\":12},\"type\":\"scatter\",\"x\":[-5],\"y\":[10]},{\"mode\":\"text\",\"text\":\"strokeid 3\",\"textfont\":{\"color\":\"white\",\"size\":12},\"type\":\"scatter\",\"x\":[-5],\"y\":[12]}]},{\"data\":[{\"marker\":{\"color\":\"red\",\"size\":10},\"mode\":\"markers\",\"type\":\"scatter\",\"x\":[4.824],\"y\":[-0.9560000000000001]},{\"marker\":{\"color\":\"cyan\",\"size\":10},\"mode\":\"markers\",\"type\":\"scatter\",\"x\":[6.772],\"y\":[25.188000000000002]},{\"marker\":{\"color\":\"yellow\",\"size\":10},\"mode\":\"markers\",\"type\":\"scatter\",\"x\":[6.864000000000001],\"y\":[14.956000000000003]},{\"mode\":\"text\",\"text\":\"type topspin\",\"textfont\":{\"color\":\"white\",\"size\":12},\"type\":\"scatter\",\"x\":[-5],\"y\":[6]},{\"mode\":\"text\",\"text\":\"stroke forehand\",\"textfont\":{\"color\":\"white\",\"size\":12},\"type\":\"scatter\",\"x\":[-5],\"y\":[8]},{\"mode\":\"text\",\"text\":\"hitter Nadal\",\"textfont\":{\"color\":\"white\",\"size\":12},\"type\":\"scatter\",\"x\":[-5],\"y\":[10]},{\"mode\":\"text\",\"text\":\"strokeid 3\",\"textfont\":{\"color\":\"white\",\"size\":12},\"type\":\"scatter\",\"x\":[-5],\"y\":[12]}]},{\"data\":[{\"marker\":{\"color\":\"red\",\"size\":10},\"mode\":\"markers\",\"type\":\"scatter\",\"x\":[4.713],\"y\":[-1.0619999999999998]},{\"marker\":{\"color\":\"cyan\",\"size\":10},\"mode\":\"markers\",\"type\":\"scatter\",\"x\":[7.024],\"y\":[25.176000000000002]},{\"marker\":{\"color\":\"yellow\",\"size\":10},\"mode\":\"markers\",\"type\":\"scatter\",\"x\":[7.093],\"y\":[17.502000000000002]},{\"mode\":\"text\",\"text\":\"type topspin\",\"textfont\":{\"color\":\"white\",\"size\":12},\"type\":\"scatter\",\"x\":[-5],\"y\":[6]},{\"mode\":\"text\",\"text\":\"stroke forehand\",\"textfont\":{\"color\":\"white\",\"size\":12},\"type\":\"scatter\",\"x\":[-5],\"y\":[8]},{\"mode\":\"text\",\"text\":\"hitter Nadal\",\"textfont\":{\"color\":\"white\",\"size\":12},\"type\":\"scatter\",\"x\":[-5],\"y\":[10]},{\"mode\":\"text\",\"text\":\"strokeid 3\",\"textfont\":{\"color\":\"white\",\"size\":12},\"type\":\"scatter\",\"x\":[-5],\"y\":[12]}]},{\"data\":[{\"marker\":{\"color\":\"red\",\"size\":10},\"mode\":\"markers\",\"type\":\"scatter\",\"x\":[4.602],\"y\":[-1.168]},{\"marker\":{\"color\":\"cyan\",\"size\":10},\"mode\":\"markers\",\"type\":\"scatter\",\"x\":[7.276],\"y\":[25.164]},{\"marker\":{\"color\":\"yellow\",\"size\":10},\"mode\":\"markers\",\"type\":\"scatter\",\"x\":[7.322],\"y\":[20.048000000000002]},{\"mode\":\"text\",\"text\":\"type topspin\",\"textfont\":{\"color\":\"white\",\"size\":12},\"type\":\"scatter\",\"x\":[-5],\"y\":[6]},{\"mode\":\"text\",\"text\":\"stroke forehand\",\"textfont\":{\"color\":\"white\",\"size\":12},\"type\":\"scatter\",\"x\":[-5],\"y\":[8]},{\"mode\":\"text\",\"text\":\"hitter Nadal\",\"textfont\":{\"color\":\"white\",\"size\":12},\"type\":\"scatter\",\"x\":[-5],\"y\":[10]},{\"mode\":\"text\",\"text\":\"strokeid 3\",\"textfont\":{\"color\":\"white\",\"size\":12},\"type\":\"scatter\",\"x\":[-5],\"y\":[12]}]},{\"data\":[{\"marker\":{\"color\":\"red\",\"size\":10},\"mode\":\"markers\",\"type\":\"scatter\",\"x\":[4.491],\"y\":[-1.274]},{\"marker\":{\"color\":\"cyan\",\"size\":10},\"mode\":\"markers\",\"type\":\"scatter\",\"x\":[7.5280000000000005],\"y\":[25.152]},{\"marker\":{\"color\":\"yellow\",\"size\":10},\"mode\":\"markers\",\"type\":\"scatter\",\"x\":[7.551],\"y\":[22.594]},{\"mode\":\"text\",\"text\":\"type topspin\",\"textfont\":{\"color\":\"white\",\"size\":12},\"type\":\"scatter\",\"x\":[-5],\"y\":[6]},{\"mode\":\"text\",\"text\":\"stroke forehand\",\"textfont\":{\"color\":\"white\",\"size\":12},\"type\":\"scatter\",\"x\":[-5],\"y\":[8]},{\"mode\":\"text\",\"text\":\"hitter Nadal\",\"textfont\":{\"color\":\"white\",\"size\":12},\"type\":\"scatter\",\"x\":[-5],\"y\":[10]},{\"mode\":\"text\",\"text\":\"strokeid 3\",\"textfont\":{\"color\":\"white\",\"size\":12},\"type\":\"scatter\",\"x\":[-5],\"y\":[12]}]},{\"data\":[{\"marker\":{\"color\":\"red\",\"size\":10},\"mode\":\"markers\",\"type\":\"scatter\",\"x\":[4.38],\"y\":[-1.38]},{\"marker\":{\"color\":\"cyan\",\"size\":10},\"mode\":\"markers\",\"type\":\"scatter\",\"x\":[7.78],\"y\":[25.14]},{\"marker\":{\"color\":\"yellow\",\"size\":10},\"mode\":\"markers\",\"type\":\"scatter\",\"x\":[7.78],\"y\":[25.14]},{\"mode\":\"text\",\"text\":\"type topspin\",\"textfont\":{\"color\":\"white\",\"size\":12},\"type\":\"scatter\",\"x\":[-5],\"y\":[6]},{\"mode\":\"text\",\"text\":\"stroke backhand\",\"textfont\":{\"color\":\"white\",\"size\":12},\"type\":\"scatter\",\"x\":[-5],\"y\":[8]},{\"mode\":\"text\",\"text\":\"hitter Djokovic\",\"textfont\":{\"color\":\"white\",\"size\":12},\"type\":\"scatter\",\"x\":[-5],\"y\":[10]},{\"mode\":\"text\",\"text\":\"strokeid 4\",\"textfont\":{\"color\":\"white\",\"size\":12},\"type\":\"scatter\",\"x\":[-5],\"y\":[12]}]},{\"data\":[{\"marker\":{\"color\":\"red\",\"size\":10},\"mode\":\"markers\",\"type\":\"scatter\",\"x\":[4.722],\"y\":[-1.358]},{\"marker\":{\"color\":\"cyan\",\"size\":10},\"mode\":\"markers\",\"type\":\"scatter\",\"x\":[7.472],\"y\":[25.32]},{\"marker\":{\"color\":\"yellow\",\"size\":10},\"mode\":\"markers\",\"type\":\"scatter\",\"x\":[7.782000000000001],\"y\":[22.51]},{\"mode\":\"text\",\"text\":\"type topspin\",\"textfont\":{\"color\":\"white\",\"size\":12},\"type\":\"scatter\",\"x\":[-5],\"y\":[6]},{\"mode\":\"text\",\"text\":\"stroke backhand\",\"textfont\":{\"color\":\"white\",\"size\":12},\"type\":\"scatter\",\"x\":[-5],\"y\":[8]},{\"mode\":\"text\",\"text\":\"hitter Djokovic\",\"textfont\":{\"color\":\"white\",\"size\":12},\"type\":\"scatter\",\"x\":[-5],\"y\":[10]},{\"mode\":\"text\",\"text\":\"strokeid 4\",\"textfont\":{\"color\":\"white\",\"size\":12},\"type\":\"scatter\",\"x\":[-5],\"y\":[12]}]},{\"data\":[{\"marker\":{\"color\":\"red\",\"size\":10},\"mode\":\"markers\",\"type\":\"scatter\",\"x\":[5.064],\"y\":[-1.3359999999999999]},{\"marker\":{\"color\":\"cyan\",\"size\":10},\"mode\":\"markers\",\"type\":\"scatter\",\"x\":[7.164000000000001],\"y\":[25.500000000000004]},{\"marker\":{\"color\":\"yellow\",\"size\":10},\"mode\":\"markers\",\"type\":\"scatter\",\"x\":[7.784000000000001],\"y\":[19.880000000000003]},{\"mode\":\"text\",\"text\":\"type topspin\",\"textfont\":{\"color\":\"white\",\"size\":12},\"type\":\"scatter\",\"x\":[-5],\"y\":[6]},{\"mode\":\"text\",\"text\":\"stroke backhand\",\"textfont\":{\"color\":\"white\",\"size\":12},\"type\":\"scatter\",\"x\":[-5],\"y\":[8]},{\"mode\":\"text\",\"text\":\"hitter Djokovic\",\"textfont\":{\"color\":\"white\",\"size\":12},\"type\":\"scatter\",\"x\":[-5],\"y\":[10]},{\"mode\":\"text\",\"text\":\"strokeid 4\",\"textfont\":{\"color\":\"white\",\"size\":12},\"type\":\"scatter\",\"x\":[-5],\"y\":[12]}]},{\"data\":[{\"marker\":{\"color\":\"red\",\"size\":10},\"mode\":\"markers\",\"type\":\"scatter\",\"x\":[5.406000000000001],\"y\":[-1.3139999999999998]},{\"marker\":{\"color\":\"cyan\",\"size\":10},\"mode\":\"markers\",\"type\":\"scatter\",\"x\":[6.856],\"y\":[25.68]},{\"marker\":{\"color\":\"yellow\",\"size\":10},\"mode\":\"markers\",\"type\":\"scatter\",\"x\":[7.786],\"y\":[17.25]},{\"mode\":\"text\",\"text\":\"type topspin\",\"textfont\":{\"color\":\"white\",\"size\":12},\"type\":\"scatter\",\"x\":[-5],\"y\":[6]},{\"mode\":\"text\",\"text\":\"stroke backhand\",\"textfont\":{\"color\":\"white\",\"size\":12},\"type\":\"scatter\",\"x\":[-5],\"y\":[8]},{\"mode\":\"text\",\"text\":\"hitter Djokovic\",\"textfont\":{\"color\":\"white\",\"size\":12},\"type\":\"scatter\",\"x\":[-5],\"y\":[10]},{\"mode\":\"text\",\"text\":\"strokeid 4\",\"textfont\":{\"color\":\"white\",\"size\":12},\"type\":\"scatter\",\"x\":[-5],\"y\":[12]}]},{\"data\":[{\"marker\":{\"color\":\"red\",\"size\":10},\"mode\":\"markers\",\"type\":\"scatter\",\"x\":[5.747999999999999],\"y\":[-1.2919999999999998]},{\"marker\":{\"color\":\"cyan\",\"size\":10},\"mode\":\"markers\",\"type\":\"scatter\",\"x\":[6.548],\"y\":[25.86]},{\"marker\":{\"color\":\"yellow\",\"size\":10},\"mode\":\"markers\",\"type\":\"scatter\",\"x\":[7.788],\"y\":[14.62]},{\"mode\":\"text\",\"text\":\"type topspin\",\"textfont\":{\"color\":\"white\",\"size\":12},\"type\":\"scatter\",\"x\":[-5],\"y\":[6]},{\"mode\":\"text\",\"text\":\"stroke backhand\",\"textfont\":{\"color\":\"white\",\"size\":12},\"type\":\"scatter\",\"x\":[-5],\"y\":[8]},{\"mode\":\"text\",\"text\":\"hitter Djokovic\",\"textfont\":{\"color\":\"white\",\"size\":12},\"type\":\"scatter\",\"x\":[-5],\"y\":[10]},{\"mode\":\"text\",\"text\":\"strokeid 4\",\"textfont\":{\"color\":\"white\",\"size\":12},\"type\":\"scatter\",\"x\":[-5],\"y\":[12]}]},{\"data\":[{\"marker\":{\"color\":\"red\",\"size\":10},\"mode\":\"markers\",\"type\":\"scatter\",\"x\":[6.09],\"y\":[-1.27]},{\"marker\":{\"color\":\"cyan\",\"size\":10},\"mode\":\"markers\",\"type\":\"scatter\",\"x\":[6.24],\"y\":[26.04]},{\"marker\":{\"color\":\"yellow\",\"size\":10},\"mode\":\"markers\",\"type\":\"scatter\",\"x\":[7.79],\"y\":[11.99]},{\"mode\":\"text\",\"text\":\"type topspin\",\"textfont\":{\"color\":\"white\",\"size\":12},\"type\":\"scatter\",\"x\":[-5],\"y\":[6]},{\"mode\":\"text\",\"text\":\"stroke backhand\",\"textfont\":{\"color\":\"white\",\"size\":12},\"type\":\"scatter\",\"x\":[-5],\"y\":[8]},{\"mode\":\"text\",\"text\":\"hitter Djokovic\",\"textfont\":{\"color\":\"white\",\"size\":12},\"type\":\"scatter\",\"x\":[-5],\"y\":[10]},{\"mode\":\"text\",\"text\":\"strokeid 4\",\"textfont\":{\"color\":\"white\",\"size\":12},\"type\":\"scatter\",\"x\":[-5],\"y\":[12]}]},{\"data\":[{\"marker\":{\"color\":\"red\",\"size\":10},\"mode\":\"markers\",\"type\":\"scatter\",\"x\":[6.432],\"y\":[-1.2479999999999998]},{\"marker\":{\"color\":\"cyan\",\"size\":10},\"mode\":\"markers\",\"type\":\"scatter\",\"x\":[5.932],\"y\":[26.22]},{\"marker\":{\"color\":\"yellow\",\"size\":10},\"mode\":\"markers\",\"type\":\"scatter\",\"x\":[7.792],\"y\":[9.359999999999998]},{\"mode\":\"text\",\"text\":\"type topspin\",\"textfont\":{\"color\":\"white\",\"size\":12},\"type\":\"scatter\",\"x\":[-5],\"y\":[6]},{\"mode\":\"text\",\"text\":\"stroke backhand\",\"textfont\":{\"color\":\"white\",\"size\":12},\"type\":\"scatter\",\"x\":[-5],\"y\":[8]},{\"mode\":\"text\",\"text\":\"hitter Djokovic\",\"textfont\":{\"color\":\"white\",\"size\":12},\"type\":\"scatter\",\"x\":[-5],\"y\":[10]},{\"mode\":\"text\",\"text\":\"strokeid 4\",\"textfont\":{\"color\":\"white\",\"size\":12},\"type\":\"scatter\",\"x\":[-5],\"y\":[12]}]},{\"data\":[{\"marker\":{\"color\":\"red\",\"size\":10},\"mode\":\"markers\",\"type\":\"scatter\",\"x\":[6.773999999999999],\"y\":[-1.226]},{\"marker\":{\"color\":\"cyan\",\"size\":10},\"mode\":\"markers\",\"type\":\"scatter\",\"x\":[5.6240000000000006],\"y\":[26.400000000000002]},{\"marker\":{\"color\":\"yellow\",\"size\":10},\"mode\":\"markers\",\"type\":\"scatter\",\"x\":[7.794],\"y\":[6.729999999999999]},{\"mode\":\"text\",\"text\":\"type topspin\",\"textfont\":{\"color\":\"white\",\"size\":12},\"type\":\"scatter\",\"x\":[-5],\"y\":[6]},{\"mode\":\"text\",\"text\":\"stroke backhand\",\"textfont\":{\"color\":\"white\",\"size\":12},\"type\":\"scatter\",\"x\":[-5],\"y\":[8]},{\"mode\":\"text\",\"text\":\"hitter Djokovic\",\"textfont\":{\"color\":\"white\",\"size\":12},\"type\":\"scatter\",\"x\":[-5],\"y\":[10]},{\"mode\":\"text\",\"text\":\"strokeid 4\",\"textfont\":{\"color\":\"white\",\"size\":12},\"type\":\"scatter\",\"x\":[-5],\"y\":[12]}]},{\"data\":[{\"marker\":{\"color\":\"red\",\"size\":10},\"mode\":\"markers\",\"type\":\"scatter\",\"x\":[7.116],\"y\":[-1.2039999999999997]},{\"marker\":{\"color\":\"cyan\",\"size\":10},\"mode\":\"markers\",\"type\":\"scatter\",\"x\":[5.316],\"y\":[26.580000000000002]},{\"marker\":{\"color\":\"yellow\",\"size\":10},\"mode\":\"markers\",\"type\":\"scatter\",\"x\":[7.795999999999999],\"y\":[4.099999999999999]},{\"mode\":\"text\",\"text\":\"type topspin\",\"textfont\":{\"color\":\"white\",\"size\":12},\"type\":\"scatter\",\"x\":[-5],\"y\":[6]},{\"mode\":\"text\",\"text\":\"stroke backhand\",\"textfont\":{\"color\":\"white\",\"size\":12},\"type\":\"scatter\",\"x\":[-5],\"y\":[8]},{\"mode\":\"text\",\"text\":\"hitter Djokovic\",\"textfont\":{\"color\":\"white\",\"size\":12},\"type\":\"scatter\",\"x\":[-5],\"y\":[10]},{\"mode\":\"text\",\"text\":\"strokeid 4\",\"textfont\":{\"color\":\"white\",\"size\":12},\"type\":\"scatter\",\"x\":[-5],\"y\":[12]}]},{\"data\":[{\"marker\":{\"color\":\"red\",\"size\":10},\"mode\":\"markers\",\"type\":\"scatter\",\"x\":[7.457999999999999],\"y\":[-1.182]},{\"marker\":{\"color\":\"cyan\",\"size\":10},\"mode\":\"markers\",\"type\":\"scatter\",\"x\":[5.008],\"y\":[26.76]},{\"marker\":{\"color\":\"yellow\",\"size\":10},\"mode\":\"markers\",\"type\":\"scatter\",\"x\":[7.797999999999999],\"y\":[1.4699999999999993]},{\"mode\":\"text\",\"text\":\"type topspin\",\"textfont\":{\"color\":\"white\",\"size\":12},\"type\":\"scatter\",\"x\":[-5],\"y\":[6]},{\"mode\":\"text\",\"text\":\"stroke backhand\",\"textfont\":{\"color\":\"white\",\"size\":12},\"type\":\"scatter\",\"x\":[-5],\"y\":[8]},{\"mode\":\"text\",\"text\":\"hitter Djokovic\",\"textfont\":{\"color\":\"white\",\"size\":12},\"type\":\"scatter\",\"x\":[-5],\"y\":[10]},{\"mode\":\"text\",\"text\":\"strokeid 4\",\"textfont\":{\"color\":\"white\",\"size\":12},\"type\":\"scatter\",\"x\":[-5],\"y\":[12]}]},{\"data\":[{\"marker\":{\"color\":\"red\",\"size\":10},\"mode\":\"markers\",\"type\":\"scatter\",\"x\":[7.8],\"y\":[-1.16]},{\"marker\":{\"color\":\"cyan\",\"size\":10},\"mode\":\"markers\",\"type\":\"scatter\",\"x\":[4.7],\"y\":[26.94]},{\"marker\":{\"color\":\"yellow\",\"size\":10},\"mode\":\"markers\",\"type\":\"scatter\",\"x\":[7.8],\"y\":[-1.16]},{\"mode\":\"text\",\"text\":\"type topspin\",\"textfont\":{\"color\":\"white\",\"size\":12},\"type\":\"scatter\",\"x\":[-5],\"y\":[6]},{\"mode\":\"text\",\"text\":\"stroke backhand\",\"textfont\":{\"color\":\"white\",\"size\":12},\"type\":\"scatter\",\"x\":[-5],\"y\":[8]},{\"mode\":\"text\",\"text\":\"hitter Nadal\",\"textfont\":{\"color\":\"white\",\"size\":12},\"type\":\"scatter\",\"x\":[-5],\"y\":[10]},{\"mode\":\"text\",\"text\":\"strokeid 5\",\"textfont\":{\"color\":\"white\",\"size\":12},\"type\":\"scatter\",\"x\":[-5],\"y\":[12]}]},{\"data\":[{\"marker\":{\"color\":\"red\",\"size\":10},\"mode\":\"markers\",\"type\":\"scatter\",\"x\":[7.696],\"y\":[-1.1600000000000001]},{\"marker\":{\"color\":\"cyan\",\"size\":10},\"mode\":\"markers\",\"type\":\"scatter\",\"x\":[4.384],\"y\":[26.843000000000004]},{\"marker\":{\"color\":\"yellow\",\"size\":10},\"mode\":\"markers\",\"type\":\"scatter\",\"x\":[7.1739999999999995],\"y\":[1.553]},{\"mode\":\"text\",\"text\":\"type topspin\",\"textfont\":{\"color\":\"white\",\"size\":12},\"type\":\"scatter\",\"x\":[-5],\"y\":[6]},{\"mode\":\"text\",\"text\":\"stroke backhand\",\"textfont\":{\"color\":\"white\",\"size\":12},\"type\":\"scatter\",\"x\":[-5],\"y\":[8]},{\"mode\":\"text\",\"text\":\"hitter Nadal\",\"textfont\":{\"color\":\"white\",\"size\":12},\"type\":\"scatter\",\"x\":[-5],\"y\":[10]},{\"mode\":\"text\",\"text\":\"strokeid 5\",\"textfont\":{\"color\":\"white\",\"size\":12},\"type\":\"scatter\",\"x\":[-5],\"y\":[12]}]},{\"data\":[{\"marker\":{\"color\":\"red\",\"size\":10},\"mode\":\"markers\",\"type\":\"scatter\",\"x\":[7.5920000000000005],\"y\":[-1.16]},{\"marker\":{\"color\":\"cyan\",\"size\":10},\"mode\":\"markers\",\"type\":\"scatter\",\"x\":[4.0680000000000005],\"y\":[26.746000000000002]},{\"marker\":{\"color\":\"yellow\",\"size\":10},\"mode\":\"markers\",\"type\":\"scatter\",\"x\":[6.548],\"y\":[4.266]},{\"mode\":\"text\",\"text\":\"type topspin\",\"textfont\":{\"color\":\"white\",\"size\":12},\"type\":\"scatter\",\"x\":[-5],\"y\":[6]},{\"mode\":\"text\",\"text\":\"stroke backhand\",\"textfont\":{\"color\":\"white\",\"size\":12},\"type\":\"scatter\",\"x\":[-5],\"y\":[8]},{\"mode\":\"text\",\"text\":\"hitter Nadal\",\"textfont\":{\"color\":\"white\",\"size\":12},\"type\":\"scatter\",\"x\":[-5],\"y\":[10]},{\"mode\":\"text\",\"text\":\"strokeid 5\",\"textfont\":{\"color\":\"white\",\"size\":12},\"type\":\"scatter\",\"x\":[-5],\"y\":[12]}]},{\"data\":[{\"marker\":{\"color\":\"red\",\"size\":10},\"mode\":\"markers\",\"type\":\"scatter\",\"x\":[7.4879999999999995],\"y\":[-1.16]},{\"marker\":{\"color\":\"cyan\",\"size\":10},\"mode\":\"markers\",\"type\":\"scatter\",\"x\":[3.7520000000000002],\"y\":[26.649]},{\"marker\":{\"color\":\"yellow\",\"size\":10},\"mode\":\"markers\",\"type\":\"scatter\",\"x\":[5.922],\"y\":[6.979]},{\"mode\":\"text\",\"text\":\"type topspin\",\"textfont\":{\"color\":\"white\",\"size\":12},\"type\":\"scatter\",\"x\":[-5],\"y\":[6]},{\"mode\":\"text\",\"text\":\"stroke backhand\",\"textfont\":{\"color\":\"white\",\"size\":12},\"type\":\"scatter\",\"x\":[-5],\"y\":[8]},{\"mode\":\"text\",\"text\":\"hitter Nadal\",\"textfont\":{\"color\":\"white\",\"size\":12},\"type\":\"scatter\",\"x\":[-5],\"y\":[10]},{\"mode\":\"text\",\"text\":\"strokeid 5\",\"textfont\":{\"color\":\"white\",\"size\":12},\"type\":\"scatter\",\"x\":[-5],\"y\":[12]}]},{\"data\":[{\"marker\":{\"color\":\"red\",\"size\":10},\"mode\":\"markers\",\"type\":\"scatter\",\"x\":[7.384],\"y\":[-1.16]},{\"marker\":{\"color\":\"cyan\",\"size\":10},\"mode\":\"markers\",\"type\":\"scatter\",\"x\":[3.436],\"y\":[26.552]},{\"marker\":{\"color\":\"yellow\",\"size\":10},\"mode\":\"markers\",\"type\":\"scatter\",\"x\":[5.295999999999999],\"y\":[9.692]},{\"mode\":\"text\",\"text\":\"type topspin\",\"textfont\":{\"color\":\"white\",\"size\":12},\"type\":\"scatter\",\"x\":[-5],\"y\":[6]},{\"mode\":\"text\",\"text\":\"stroke backhand\",\"textfont\":{\"color\":\"white\",\"size\":12},\"type\":\"scatter\",\"x\":[-5],\"y\":[8]},{\"mode\":\"text\",\"text\":\"hitter Nadal\",\"textfont\":{\"color\":\"white\",\"size\":12},\"type\":\"scatter\",\"x\":[-5],\"y\":[10]},{\"mode\":\"text\",\"text\":\"strokeid 5\",\"textfont\":{\"color\":\"white\",\"size\":12},\"type\":\"scatter\",\"x\":[-5],\"y\":[12]}]},{\"data\":[{\"marker\":{\"color\":\"red\",\"size\":10},\"mode\":\"markers\",\"type\":\"scatter\",\"x\":[7.279999999999999],\"y\":[-1.16]},{\"marker\":{\"color\":\"cyan\",\"size\":10},\"mode\":\"markers\",\"type\":\"scatter\",\"x\":[3.12],\"y\":[26.455]},{\"marker\":{\"color\":\"yellow\",\"size\":10},\"mode\":\"markers\",\"type\":\"scatter\",\"x\":[4.67],\"y\":[12.405]},{\"mode\":\"text\",\"text\":\"type topspin\",\"textfont\":{\"color\":\"white\",\"size\":12},\"type\":\"scatter\",\"x\":[-5],\"y\":[6]},{\"mode\":\"text\",\"text\":\"stroke backhand\",\"textfont\":{\"color\":\"white\",\"size\":12},\"type\":\"scatter\",\"x\":[-5],\"y\":[8]},{\"mode\":\"text\",\"text\":\"hitter Nadal\",\"textfont\":{\"color\":\"white\",\"size\":12},\"type\":\"scatter\",\"x\":[-5],\"y\":[10]},{\"mode\":\"text\",\"text\":\"strokeid 5\",\"textfont\":{\"color\":\"white\",\"size\":12},\"type\":\"scatter\",\"x\":[-5],\"y\":[12]}]},{\"data\":[{\"marker\":{\"color\":\"red\",\"size\":10},\"mode\":\"markers\",\"type\":\"scatter\",\"x\":[7.175999999999999],\"y\":[-1.16]},{\"marker\":{\"color\":\"cyan\",\"size\":10},\"mode\":\"markers\",\"type\":\"scatter\",\"x\":[2.804],\"y\":[26.357999999999997]},{\"marker\":{\"color\":\"yellow\",\"size\":10},\"mode\":\"markers\",\"type\":\"scatter\",\"x\":[4.044],\"y\":[15.118]},{\"mode\":\"text\",\"text\":\"type topspin\",\"textfont\":{\"color\":\"white\",\"size\":12},\"type\":\"scatter\",\"x\":[-5],\"y\":[6]},{\"mode\":\"text\",\"text\":\"stroke backhand\",\"textfont\":{\"color\":\"white\",\"size\":12},\"type\":\"scatter\",\"x\":[-5],\"y\":[8]},{\"mode\":\"text\",\"text\":\"hitter Nadal\",\"textfont\":{\"color\":\"white\",\"size\":12},\"type\":\"scatter\",\"x\":[-5],\"y\":[10]},{\"mode\":\"text\",\"text\":\"strokeid 5\",\"textfont\":{\"color\":\"white\",\"size\":12},\"type\":\"scatter\",\"x\":[-5],\"y\":[12]}]},{\"data\":[{\"marker\":{\"color\":\"red\",\"size\":10},\"mode\":\"markers\",\"type\":\"scatter\",\"x\":[7.071999999999999],\"y\":[-1.16]},{\"marker\":{\"color\":\"cyan\",\"size\":10},\"mode\":\"markers\",\"type\":\"scatter\",\"x\":[2.4879999999999995],\"y\":[26.261000000000003]},{\"marker\":{\"color\":\"yellow\",\"size\":10},\"mode\":\"markers\",\"type\":\"scatter\",\"x\":[3.4179999999999993],\"y\":[17.831000000000003]},{\"mode\":\"text\",\"text\":\"type topspin\",\"textfont\":{\"color\":\"white\",\"size\":12},\"type\":\"scatter\",\"x\":[-5],\"y\":[6]},{\"mode\":\"text\",\"text\":\"stroke backhand\",\"textfont\":{\"color\":\"white\",\"size\":12},\"type\":\"scatter\",\"x\":[-5],\"y\":[8]},{\"mode\":\"text\",\"text\":\"hitter Nadal\",\"textfont\":{\"color\":\"white\",\"size\":12},\"type\":\"scatter\",\"x\":[-5],\"y\":[10]},{\"mode\":\"text\",\"text\":\"strokeid 5\",\"textfont\":{\"color\":\"white\",\"size\":12},\"type\":\"scatter\",\"x\":[-5],\"y\":[12]}]},{\"data\":[{\"marker\":{\"color\":\"red\",\"size\":10},\"mode\":\"markers\",\"type\":\"scatter\",\"x\":[6.968],\"y\":[-1.16]},{\"marker\":{\"color\":\"cyan\",\"size\":10},\"mode\":\"markers\",\"type\":\"scatter\",\"x\":[2.172],\"y\":[26.163999999999998]},{\"marker\":{\"color\":\"yellow\",\"size\":10},\"mode\":\"markers\",\"type\":\"scatter\",\"x\":[2.792],\"y\":[20.544]},{\"mode\":\"text\",\"text\":\"type topspin\",\"textfont\":{\"color\":\"white\",\"size\":12},\"type\":\"scatter\",\"x\":[-5],\"y\":[6]},{\"mode\":\"text\",\"text\":\"stroke backhand\",\"textfont\":{\"color\":\"white\",\"size\":12},\"type\":\"scatter\",\"x\":[-5],\"y\":[8]},{\"mode\":\"text\",\"text\":\"hitter Nadal\",\"textfont\":{\"color\":\"white\",\"size\":12},\"type\":\"scatter\",\"x\":[-5],\"y\":[10]},{\"mode\":\"text\",\"text\":\"strokeid 5\",\"textfont\":{\"color\":\"white\",\"size\":12},\"type\":\"scatter\",\"x\":[-5],\"y\":[12]}]},{\"data\":[{\"marker\":{\"color\":\"red\",\"size\":10},\"mode\":\"markers\",\"type\":\"scatter\",\"x\":[6.863999999999999],\"y\":[-1.16]},{\"marker\":{\"color\":\"cyan\",\"size\":10},\"mode\":\"markers\",\"type\":\"scatter\",\"x\":[1.856],\"y\":[26.067]},{\"marker\":{\"color\":\"yellow\",\"size\":10},\"mode\":\"markers\",\"type\":\"scatter\",\"x\":[2.166],\"y\":[23.257]},{\"mode\":\"text\",\"text\":\"type topspin\",\"textfont\":{\"color\":\"white\",\"size\":12},\"type\":\"scatter\",\"x\":[-5],\"y\":[6]},{\"mode\":\"text\",\"text\":\"stroke backhand\",\"textfont\":{\"color\":\"white\",\"size\":12},\"type\":\"scatter\",\"x\":[-5],\"y\":[8]},{\"mode\":\"text\",\"text\":\"hitter Nadal\",\"textfont\":{\"color\":\"white\",\"size\":12},\"type\":\"scatter\",\"x\":[-5],\"y\":[10]},{\"mode\":\"text\",\"text\":\"strokeid 5\",\"textfont\":{\"color\":\"white\",\"size\":12},\"type\":\"scatter\",\"x\":[-5],\"y\":[12]}]},{\"data\":[{\"marker\":{\"color\":\"red\",\"size\":10},\"mode\":\"markers\",\"type\":\"scatter\",\"x\":[6.76],\"y\":[-1.16]},{\"marker\":{\"color\":\"cyan\",\"size\":10},\"mode\":\"markers\",\"type\":\"scatter\",\"x\":[1.54],\"y\":[25.97]},{\"marker\":{\"color\":\"yellow\",\"size\":10},\"mode\":\"markers\",\"type\":\"scatter\",\"x\":[1.54],\"y\":[25.97]},{\"mode\":\"text\",\"text\":\"type topspin\",\"textfont\":{\"color\":\"white\",\"size\":12},\"type\":\"scatter\",\"x\":[-5],\"y\":[6]},{\"mode\":\"text\",\"text\":\"stroke forehand\",\"textfont\":{\"color\":\"white\",\"size\":12},\"type\":\"scatter\",\"x\":[-5],\"y\":[8]},{\"mode\":\"text\",\"text\":\"hitter Djokovic\",\"textfont\":{\"color\":\"white\",\"size\":12},\"type\":\"scatter\",\"x\":[-5],\"y\":[10]},{\"mode\":\"text\",\"text\":\"strokeid 6\",\"textfont\":{\"color\":\"white\",\"size\":12},\"type\":\"scatter\",\"x\":[-5],\"y\":[12]}]},{\"data\":[{\"marker\":{\"color\":\"red\",\"size\":10},\"mode\":\"markers\",\"type\":\"scatter\",\"x\":[6.356],\"y\":[-1.227]},{\"marker\":{\"color\":\"cyan\",\"size\":10},\"mode\":\"markers\",\"type\":\"scatter\",\"x\":[1.828],\"y\":[25.934]},{\"marker\":{\"color\":\"yellow\",\"size\":10},\"mode\":\"markers\",\"type\":\"scatter\",\"x\":[1.6580000000000001],\"y\":[23.19]},{\"mode\":\"text\",\"text\":\"type topspin\",\"textfont\":{\"color\":\"white\",\"size\":12},\"type\":\"scatter\",\"x\":[-5],\"y\":[6]},{\"mode\":\"text\",\"text\":\"stroke forehand\",\"textfont\":{\"color\":\"white\",\"size\":12},\"type\":\"scatter\",\"x\":[-5],\"y\":[8]},{\"mode\":\"text\",\"text\":\"hitter Djokovic\",\"textfont\":{\"color\":\"white\",\"size\":12},\"type\":\"scatter\",\"x\":[-5],\"y\":[10]},{\"mode\":\"text\",\"text\":\"strokeid 6\",\"textfont\":{\"color\":\"white\",\"size\":12},\"type\":\"scatter\",\"x\":[-5],\"y\":[12]}]},{\"data\":[{\"marker\":{\"color\":\"red\",\"size\":10},\"mode\":\"markers\",\"type\":\"scatter\",\"x\":[5.952],\"y\":[-1.294]},{\"marker\":{\"color\":\"cyan\",\"size\":10},\"mode\":\"markers\",\"type\":\"scatter\",\"x\":[2.116],\"y\":[25.898]},{\"marker\":{\"color\":\"yellow\",\"size\":10},\"mode\":\"markers\",\"type\":\"scatter\",\"x\":[1.7760000000000002],\"y\":[20.41]},{\"mode\":\"text\",\"text\":\"type topspin\",\"textfont\":{\"color\":\"white\",\"size\":12},\"type\":\"scatter\",\"x\":[-5],\"y\":[6]},{\"mode\":\"text\",\"text\":\"stroke forehand\",\"textfont\":{\"color\":\"white\",\"size\":12},\"type\":\"scatter\",\"x\":[-5],\"y\":[8]},{\"mode\":\"text\",\"text\":\"hitter Djokovic\",\"textfont\":{\"color\":\"white\",\"size\":12},\"type\":\"scatter\",\"x\":[-5],\"y\":[10]},{\"mode\":\"text\",\"text\":\"strokeid 6\",\"textfont\":{\"color\":\"white\",\"size\":12},\"type\":\"scatter\",\"x\":[-5],\"y\":[12]}]},{\"data\":[{\"marker\":{\"color\":\"red\",\"size\":10},\"mode\":\"markers\",\"type\":\"scatter\",\"x\":[5.547999999999999],\"y\":[-1.3610000000000002]},{\"marker\":{\"color\":\"cyan\",\"size\":10},\"mode\":\"markers\",\"type\":\"scatter\",\"x\":[2.404],\"y\":[25.862]},{\"marker\":{\"color\":\"yellow\",\"size\":10},\"mode\":\"markers\",\"type\":\"scatter\",\"x\":[1.8940000000000001],\"y\":[17.63]},{\"mode\":\"text\",\"text\":\"type topspin\",\"textfont\":{\"color\":\"white\",\"size\":12},\"type\":\"scatter\",\"x\":[-5],\"y\":[6]},{\"mode\":\"text\",\"text\":\"stroke forehand\",\"textfont\":{\"color\":\"white\",\"size\":12},\"type\":\"scatter\",\"x\":[-5],\"y\":[8]},{\"mode\":\"text\",\"text\":\"hitter Djokovic\",\"textfont\":{\"color\":\"white\",\"size\":12},\"type\":\"scatter\",\"x\":[-5],\"y\":[10]},{\"mode\":\"text\",\"text\":\"strokeid 6\",\"textfont\":{\"color\":\"white\",\"size\":12},\"type\":\"scatter\",\"x\":[-5],\"y\":[12]}]},{\"data\":[{\"marker\":{\"color\":\"red\",\"size\":10},\"mode\":\"markers\",\"type\":\"scatter\",\"x\":[5.144],\"y\":[-1.428]},{\"marker\":{\"color\":\"cyan\",\"size\":10},\"mode\":\"markers\",\"type\":\"scatter\",\"x\":[2.692],\"y\":[25.826]},{\"marker\":{\"color\":\"yellow\",\"size\":10},\"mode\":\"markers\",\"type\":\"scatter\",\"x\":[2.012],\"y\":[14.85]},{\"mode\":\"text\",\"text\":\"type topspin\",\"textfont\":{\"color\":\"white\",\"size\":12},\"type\":\"scatter\",\"x\":[-5],\"y\":[6]},{\"mode\":\"text\",\"text\":\"stroke forehand\",\"textfont\":{\"color\":\"white\",\"size\":12},\"type\":\"scatter\",\"x\":[-5],\"y\":[8]},{\"mode\":\"text\",\"text\":\"hitter Djokovic\",\"textfont\":{\"color\":\"white\",\"size\":12},\"type\":\"scatter\",\"x\":[-5],\"y\":[10]},{\"mode\":\"text\",\"text\":\"strokeid 6\",\"textfont\":{\"color\":\"white\",\"size\":12},\"type\":\"scatter\",\"x\":[-5],\"y\":[12]}]},{\"data\":[{\"marker\":{\"color\":\"red\",\"size\":10},\"mode\":\"markers\",\"type\":\"scatter\",\"x\":[4.74],\"y\":[-1.495]},{\"marker\":{\"color\":\"cyan\",\"size\":10},\"mode\":\"markers\",\"type\":\"scatter\",\"x\":[2.98],\"y\":[25.79]},{\"marker\":{\"color\":\"yellow\",\"size\":10},\"mode\":\"markers\",\"type\":\"scatter\",\"x\":[2.13],\"y\":[12.07]},{\"mode\":\"text\",\"text\":\"type topspin\",\"textfont\":{\"color\":\"white\",\"size\":12},\"type\":\"scatter\",\"x\":[-5],\"y\":[6]},{\"mode\":\"text\",\"text\":\"stroke forehand\",\"textfont\":{\"color\":\"white\",\"size\":12},\"type\":\"scatter\",\"x\":[-5],\"y\":[8]},{\"mode\":\"text\",\"text\":\"hitter Djokovic\",\"textfont\":{\"color\":\"white\",\"size\":12},\"type\":\"scatter\",\"x\":[-5],\"y\":[10]},{\"mode\":\"text\",\"text\":\"strokeid 6\",\"textfont\":{\"color\":\"white\",\"size\":12},\"type\":\"scatter\",\"x\":[-5],\"y\":[12]}]},{\"data\":[{\"marker\":{\"color\":\"red\",\"size\":10},\"mode\":\"markers\",\"type\":\"scatter\",\"x\":[4.335999999999999],\"y\":[-1.5620000000000003]},{\"marker\":{\"color\":\"cyan\",\"size\":10},\"mode\":\"markers\",\"type\":\"scatter\",\"x\":[3.268],\"y\":[25.753999999999998]},{\"marker\":{\"color\":\"yellow\",\"size\":10},\"mode\":\"markers\",\"type\":\"scatter\",\"x\":[2.248],\"y\":[9.289999999999997]},{\"mode\":\"text\",\"text\":\"type topspin\",\"textfont\":{\"color\":\"white\",\"size\":12},\"type\":\"scatter\",\"x\":[-5],\"y\":[6]},{\"mode\":\"text\",\"text\":\"stroke forehand\",\"textfont\":{\"color\":\"white\",\"size\":12},\"type\":\"scatter\",\"x\":[-5],\"y\":[8]},{\"mode\":\"text\",\"text\":\"hitter Djokovic\",\"textfont\":{\"color\":\"white\",\"size\":12},\"type\":\"scatter\",\"x\":[-5],\"y\":[10]},{\"mode\":\"text\",\"text\":\"strokeid 6\",\"textfont\":{\"color\":\"white\",\"size\":12},\"type\":\"scatter\",\"x\":[-5],\"y\":[12]}]},{\"data\":[{\"marker\":{\"color\":\"red\",\"size\":10},\"mode\":\"markers\",\"type\":\"scatter\",\"x\":[3.932],\"y\":[-1.629]},{\"marker\":{\"color\":\"cyan\",\"size\":10},\"mode\":\"markers\",\"type\":\"scatter\",\"x\":[3.556],\"y\":[25.717999999999996]},{\"marker\":{\"color\":\"yellow\",\"size\":10},\"mode\":\"markers\",\"type\":\"scatter\",\"x\":[2.366],\"y\":[6.509999999999998]},{\"mode\":\"text\",\"text\":\"type topspin\",\"textfont\":{\"color\":\"white\",\"size\":12},\"type\":\"scatter\",\"x\":[-5],\"y\":[6]},{\"mode\":\"text\",\"text\":\"stroke forehand\",\"textfont\":{\"color\":\"white\",\"size\":12},\"type\":\"scatter\",\"x\":[-5],\"y\":[8]},{\"mode\":\"text\",\"text\":\"hitter Djokovic\",\"textfont\":{\"color\":\"white\",\"size\":12},\"type\":\"scatter\",\"x\":[-5],\"y\":[10]},{\"mode\":\"text\",\"text\":\"strokeid 6\",\"textfont\":{\"color\":\"white\",\"size\":12},\"type\":\"scatter\",\"x\":[-5],\"y\":[12]}]},{\"data\":[{\"marker\":{\"color\":\"red\",\"size\":10},\"mode\":\"markers\",\"type\":\"scatter\",\"x\":[3.5279999999999996],\"y\":[-1.6960000000000002]},{\"marker\":{\"color\":\"cyan\",\"size\":10},\"mode\":\"markers\",\"type\":\"scatter\",\"x\":[3.844],\"y\":[25.682]},{\"marker\":{\"color\":\"yellow\",\"size\":10},\"mode\":\"markers\",\"type\":\"scatter\",\"x\":[2.484],\"y\":[3.7299999999999986]},{\"mode\":\"text\",\"text\":\"type topspin\",\"textfont\":{\"color\":\"white\",\"size\":12},\"type\":\"scatter\",\"x\":[-5],\"y\":[6]},{\"mode\":\"text\",\"text\":\"stroke forehand\",\"textfont\":{\"color\":\"white\",\"size\":12},\"type\":\"scatter\",\"x\":[-5],\"y\":[8]},{\"mode\":\"text\",\"text\":\"hitter Djokovic\",\"textfont\":{\"color\":\"white\",\"size\":12},\"type\":\"scatter\",\"x\":[-5],\"y\":[10]},{\"mode\":\"text\",\"text\":\"strokeid 6\",\"textfont\":{\"color\":\"white\",\"size\":12},\"type\":\"scatter\",\"x\":[-5],\"y\":[12]}]},{\"data\":[{\"marker\":{\"color\":\"red\",\"size\":10},\"mode\":\"markers\",\"type\":\"scatter\",\"x\":[3.124],\"y\":[-1.763]},{\"marker\":{\"color\":\"cyan\",\"size\":10},\"mode\":\"markers\",\"type\":\"scatter\",\"x\":[4.132000000000001],\"y\":[25.646]},{\"marker\":{\"color\":\"yellow\",\"size\":10},\"mode\":\"markers\",\"type\":\"scatter\",\"x\":[2.6020000000000003],\"y\":[0.9499999999999995]},{\"mode\":\"text\",\"text\":\"type topspin\",\"textfont\":{\"color\":\"white\",\"size\":12},\"type\":\"scatter\",\"x\":[-5],\"y\":[6]},{\"mode\":\"text\",\"text\":\"stroke forehand\",\"textfont\":{\"color\":\"white\",\"size\":12},\"type\":\"scatter\",\"x\":[-5],\"y\":[8]},{\"mode\":\"text\",\"text\":\"hitter Djokovic\",\"textfont\":{\"color\":\"white\",\"size\":12},\"type\":\"scatter\",\"x\":[-5],\"y\":[10]},{\"mode\":\"text\",\"text\":\"strokeid 6\",\"textfont\":{\"color\":\"white\",\"size\":12},\"type\":\"scatter\",\"x\":[-5],\"y\":[12]}]},{\"data\":[{\"marker\":{\"color\":\"red\",\"size\":10},\"mode\":\"markers\",\"type\":\"scatter\",\"x\":[3.124],\"y\":[-1.763]},{\"marker\":{\"color\":\"cyan\",\"size\":10},\"mode\":\"markers\",\"type\":\"scatter\",\"x\":[4.132000000000001],\"y\":[25.646]},{\"marker\":{\"color\":\"yellow\",\"size\":10},\"mode\":\"markers\",\"type\":\"scatter\",\"x\":[2.72],\"y\":[-1.83]},{\"mode\":\"text\",\"text\":\"type topspin\",\"textfont\":{\"color\":\"white\",\"size\":12},\"type\":\"scatter\",\"x\":[-5],\"y\":[6]},{\"mode\":\"text\",\"text\":\"stroke forehand\",\"textfont\":{\"color\":\"white\",\"size\":12},\"type\":\"scatter\",\"x\":[-5],\"y\":[8]},{\"mode\":\"text\",\"text\":\"hitter Nadal\",\"textfont\":{\"color\":\"white\",\"size\":12},\"type\":\"scatter\",\"x\":[-5],\"y\":[10]},{\"mode\":\"text\",\"text\":\"strokeid 7\",\"textfont\":{\"color\":\"white\",\"size\":12},\"type\":\"scatter\",\"x\":[-5],\"y\":[12]}]},{\"data\":[{\"marker\":{\"color\":\"red\",\"size\":10},\"mode\":\"markers\",\"type\":\"scatter\",\"x\":[3.124],\"y\":[-1.763]},{\"marker\":{\"color\":\"cyan\",\"size\":10},\"mode\":\"markers\",\"type\":\"scatter\",\"x\":[4.132000000000001],\"y\":[25.646]},{\"marker\":{\"color\":\"yellow\",\"size\":10},\"mode\":\"markers\",\"type\":\"scatter\",\"x\":[2.498],\"y\":[0.2200000000000002]},{\"mode\":\"text\",\"text\":\"type topspin\",\"textfont\":{\"color\":\"white\",\"size\":12},\"type\":\"scatter\",\"x\":[-5],\"y\":[6]},{\"mode\":\"text\",\"text\":\"stroke forehand\",\"textfont\":{\"color\":\"white\",\"size\":12},\"type\":\"scatter\",\"x\":[-5],\"y\":[8]},{\"mode\":\"text\",\"text\":\"hitter Nadal\",\"textfont\":{\"color\":\"white\",\"size\":12},\"type\":\"scatter\",\"x\":[-5],\"y\":[10]},{\"mode\":\"text\",\"text\":\"strokeid 7\",\"textfont\":{\"color\":\"white\",\"size\":12},\"type\":\"scatter\",\"x\":[-5],\"y\":[12]}]},{\"data\":[{\"marker\":{\"color\":\"red\",\"size\":10},\"mode\":\"markers\",\"type\":\"scatter\",\"x\":[3.124],\"y\":[-1.763]},{\"marker\":{\"color\":\"cyan\",\"size\":10},\"mode\":\"markers\",\"type\":\"scatter\",\"x\":[4.132000000000001],\"y\":[25.646]},{\"marker\":{\"color\":\"yellow\",\"size\":10},\"mode\":\"markers\",\"type\":\"scatter\",\"x\":[2.2760000000000002],\"y\":[2.2700000000000005]},{\"mode\":\"text\",\"text\":\"type topspin\",\"textfont\":{\"color\":\"white\",\"size\":12},\"type\":\"scatter\",\"x\":[-5],\"y\":[6]},{\"mode\":\"text\",\"text\":\"stroke forehand\",\"textfont\":{\"color\":\"white\",\"size\":12},\"type\":\"scatter\",\"x\":[-5],\"y\":[8]},{\"mode\":\"text\",\"text\":\"hitter Nadal\",\"textfont\":{\"color\":\"white\",\"size\":12},\"type\":\"scatter\",\"x\":[-5],\"y\":[10]},{\"mode\":\"text\",\"text\":\"strokeid 7\",\"textfont\":{\"color\":\"white\",\"size\":12},\"type\":\"scatter\",\"x\":[-5],\"y\":[12]}]},{\"data\":[{\"marker\":{\"color\":\"red\",\"size\":10},\"mode\":\"markers\",\"type\":\"scatter\",\"x\":[3.124],\"y\":[-1.763]},{\"marker\":{\"color\":\"cyan\",\"size\":10},\"mode\":\"markers\",\"type\":\"scatter\",\"x\":[4.132000000000001],\"y\":[25.646]},{\"marker\":{\"color\":\"yellow\",\"size\":10},\"mode\":\"markers\",\"type\":\"scatter\",\"x\":[2.054],\"y\":[4.320000000000002]},{\"mode\":\"text\",\"text\":\"type topspin\",\"textfont\":{\"color\":\"white\",\"size\":12},\"type\":\"scatter\",\"x\":[-5],\"y\":[6]},{\"mode\":\"text\",\"text\":\"stroke forehand\",\"textfont\":{\"color\":\"white\",\"size\":12},\"type\":\"scatter\",\"x\":[-5],\"y\":[8]},{\"mode\":\"text\",\"text\":\"hitter Nadal\",\"textfont\":{\"color\":\"white\",\"size\":12},\"type\":\"scatter\",\"x\":[-5],\"y\":[10]},{\"mode\":\"text\",\"text\":\"strokeid 7\",\"textfont\":{\"color\":\"white\",\"size\":12},\"type\":\"scatter\",\"x\":[-5],\"y\":[12]}]},{\"data\":[{\"marker\":{\"color\":\"red\",\"size\":10},\"mode\":\"markers\",\"type\":\"scatter\",\"x\":[3.124],\"y\":[-1.763]},{\"marker\":{\"color\":\"cyan\",\"size\":10},\"mode\":\"markers\",\"type\":\"scatter\",\"x\":[4.132000000000001],\"y\":[25.646]},{\"marker\":{\"color\":\"yellow\",\"size\":10},\"mode\":\"markers\",\"type\":\"scatter\",\"x\":[1.832],\"y\":[6.370000000000001]},{\"mode\":\"text\",\"text\":\"type topspin\",\"textfont\":{\"color\":\"white\",\"size\":12},\"type\":\"scatter\",\"x\":[-5],\"y\":[6]},{\"mode\":\"text\",\"text\":\"stroke forehand\",\"textfont\":{\"color\":\"white\",\"size\":12},\"type\":\"scatter\",\"x\":[-5],\"y\":[8]},{\"mode\":\"text\",\"text\":\"hitter Nadal\",\"textfont\":{\"color\":\"white\",\"size\":12},\"type\":\"scatter\",\"x\":[-5],\"y\":[10]},{\"mode\":\"text\",\"text\":\"strokeid 7\",\"textfont\":{\"color\":\"white\",\"size\":12},\"type\":\"scatter\",\"x\":[-5],\"y\":[12]}]},{\"data\":[{\"marker\":{\"color\":\"red\",\"size\":10},\"mode\":\"markers\",\"type\":\"scatter\",\"x\":[3.124],\"y\":[-1.763]},{\"marker\":{\"color\":\"cyan\",\"size\":10},\"mode\":\"markers\",\"type\":\"scatter\",\"x\":[4.132000000000001],\"y\":[25.646]},{\"marker\":{\"color\":\"yellow\",\"size\":10},\"mode\":\"markers\",\"type\":\"scatter\",\"x\":[1.61],\"y\":[8.420000000000002]},{\"mode\":\"text\",\"text\":\"type topspin\",\"textfont\":{\"color\":\"white\",\"size\":12},\"type\":\"scatter\",\"x\":[-5],\"y\":[6]},{\"mode\":\"text\",\"text\":\"stroke forehand\",\"textfont\":{\"color\":\"white\",\"size\":12},\"type\":\"scatter\",\"x\":[-5],\"y\":[8]},{\"mode\":\"text\",\"text\":\"hitter Nadal\",\"textfont\":{\"color\":\"white\",\"size\":12},\"type\":\"scatter\",\"x\":[-5],\"y\":[10]},{\"mode\":\"text\",\"text\":\"strokeid 7\",\"textfont\":{\"color\":\"white\",\"size\":12},\"type\":\"scatter\",\"x\":[-5],\"y\":[12]}]},{\"data\":[{\"marker\":{\"color\":\"red\",\"size\":10},\"mode\":\"markers\",\"type\":\"scatter\",\"x\":[3.124],\"y\":[-1.763]},{\"marker\":{\"color\":\"cyan\",\"size\":10},\"mode\":\"markers\",\"type\":\"scatter\",\"x\":[4.132000000000001],\"y\":[25.646]},{\"marker\":{\"color\":\"yellow\",\"size\":10},\"mode\":\"markers\",\"type\":\"scatter\",\"x\":[1.388],\"y\":[10.470000000000004]},{\"mode\":\"text\",\"text\":\"type topspin\",\"textfont\":{\"color\":\"white\",\"size\":12},\"type\":\"scatter\",\"x\":[-5],\"y\":[6]},{\"mode\":\"text\",\"text\":\"stroke forehand\",\"textfont\":{\"color\":\"white\",\"size\":12},\"type\":\"scatter\",\"x\":[-5],\"y\":[8]},{\"mode\":\"text\",\"text\":\"hitter Nadal\",\"textfont\":{\"color\":\"white\",\"size\":12},\"type\":\"scatter\",\"x\":[-5],\"y\":[10]},{\"mode\":\"text\",\"text\":\"strokeid 7\",\"textfont\":{\"color\":\"white\",\"size\":12},\"type\":\"scatter\",\"x\":[-5],\"y\":[12]}]},{\"data\":[{\"marker\":{\"color\":\"red\",\"size\":10},\"mode\":\"markers\",\"type\":\"scatter\",\"x\":[3.124],\"y\":[-1.763]},{\"marker\":{\"color\":\"cyan\",\"size\":10},\"mode\":\"markers\",\"type\":\"scatter\",\"x\":[4.132000000000001],\"y\":[25.646]},{\"marker\":{\"color\":\"yellow\",\"size\":10},\"mode\":\"markers\",\"type\":\"scatter\",\"x\":[1.166],\"y\":[12.520000000000003]},{\"mode\":\"text\",\"text\":\"type topspin\",\"textfont\":{\"color\":\"white\",\"size\":12},\"type\":\"scatter\",\"x\":[-5],\"y\":[6]},{\"mode\":\"text\",\"text\":\"stroke forehand\",\"textfont\":{\"color\":\"white\",\"size\":12},\"type\":\"scatter\",\"x\":[-5],\"y\":[8]},{\"mode\":\"text\",\"text\":\"hitter Nadal\",\"textfont\":{\"color\":\"white\",\"size\":12},\"type\":\"scatter\",\"x\":[-5],\"y\":[10]},{\"mode\":\"text\",\"text\":\"strokeid 7\",\"textfont\":{\"color\":\"white\",\"size\":12},\"type\":\"scatter\",\"x\":[-5],\"y\":[12]}]},{\"data\":[{\"marker\":{\"color\":\"red\",\"size\":10},\"mode\":\"markers\",\"type\":\"scatter\",\"x\":[3.124],\"y\":[-1.763]},{\"marker\":{\"color\":\"cyan\",\"size\":10},\"mode\":\"markers\",\"type\":\"scatter\",\"x\":[4.132000000000001],\"y\":[25.646]},{\"marker\":{\"color\":\"yellow\",\"size\":10},\"mode\":\"markers\",\"type\":\"scatter\",\"x\":[0.944],\"y\":[14.570000000000002]},{\"mode\":\"text\",\"text\":\"type topspin\",\"textfont\":{\"color\":\"white\",\"size\":12},\"type\":\"scatter\",\"x\":[-5],\"y\":[6]},{\"mode\":\"text\",\"text\":\"stroke forehand\",\"textfont\":{\"color\":\"white\",\"size\":12},\"type\":\"scatter\",\"x\":[-5],\"y\":[8]},{\"mode\":\"text\",\"text\":\"hitter Nadal\",\"textfont\":{\"color\":\"white\",\"size\":12},\"type\":\"scatter\",\"x\":[-5],\"y\":[10]},{\"mode\":\"text\",\"text\":\"strokeid 7\",\"textfont\":{\"color\":\"white\",\"size\":12},\"type\":\"scatter\",\"x\":[-5],\"y\":[12]}]},{\"data\":[{\"marker\":{\"color\":\"red\",\"size\":10},\"mode\":\"markers\",\"type\":\"scatter\",\"x\":[3.124],\"y\":[-1.763]},{\"marker\":{\"color\":\"cyan\",\"size\":10},\"mode\":\"markers\",\"type\":\"scatter\",\"x\":[4.132000000000001],\"y\":[25.646]},{\"marker\":{\"color\":\"yellow\",\"size\":10},\"mode\":\"markers\",\"type\":\"scatter\",\"x\":[0.722],\"y\":[16.62]},{\"mode\":\"text\",\"text\":\"type topspin\",\"textfont\":{\"color\":\"white\",\"size\":12},\"type\":\"scatter\",\"x\":[-5],\"y\":[6]},{\"mode\":\"text\",\"text\":\"stroke forehand\",\"textfont\":{\"color\":\"white\",\"size\":12},\"type\":\"scatter\",\"x\":[-5],\"y\":[8]},{\"mode\":\"text\",\"text\":\"hitter Nadal\",\"textfont\":{\"color\":\"white\",\"size\":12},\"type\":\"scatter\",\"x\":[-5],\"y\":[10]},{\"mode\":\"text\",\"text\":\"strokeid 7\",\"textfont\":{\"color\":\"white\",\"size\":12},\"type\":\"scatter\",\"x\":[-5],\"y\":[12]}]},{\"data\":[{\"marker\":{\"color\":\"red\",\"size\":10},\"mode\":\"markers\",\"type\":\"scatter\",\"x\":[3.124],\"y\":[-1.763]},{\"marker\":{\"color\":\"cyan\",\"size\":10},\"mode\":\"markers\",\"type\":\"scatter\",\"x\":[4.132000000000001],\"y\":[25.646]},{\"marker\":{\"color\":\"yellow\",\"size\":10},\"mode\":\"markers\",\"type\":\"scatter\",\"x\":[0.5],\"y\":[18.67]},{\"mode\":\"text\",\"text\":\"type serve\",\"textfont\":{\"color\":\"white\",\"size\":12},\"type\":\"scatter\",\"x\":[-5],\"y\":[6]},{\"mode\":\"text\",\"text\":\"stroke forehand\",\"textfont\":{\"color\":\"white\",\"size\":12},\"type\":\"scatter\",\"x\":[-5],\"y\":[8]},{\"mode\":\"text\",\"text\":\"hitter Nadal\",\"textfont\":{\"color\":\"white\",\"size\":12},\"type\":\"scatter\",\"x\":[-5],\"y\":[10]},{\"mode\":\"text\",\"text\":\"strokeid 1\",\"textfont\":{\"color\":\"white\",\"size\":12},\"type\":\"scatter\",\"x\":[-5],\"y\":[12]}]}]);\n",
       "                        }).then(function(){\n",
       "                            \n",
       "var gd = document.getElementById('65c8cf5f-39ee-4c79-ae35-eda84f442966');\n",
       "var x = new MutationObserver(function (mutations, observer) {{\n",
       "        var display = window.getComputedStyle(gd).display;\n",
       "        if (!display || display === 'none') {{\n",
       "            console.log([gd, 'removed!']);\n",
       "            Plotly.purge(gd);\n",
       "            observer.disconnect();\n",
       "        }}\n",
       "}});\n",
       "\n",
       "// Listen for the removal of the full notebook cells\n",
       "var notebookContainer = gd.closest('#notebook-container');\n",
       "if (notebookContainer) {{\n",
       "    x.observe(notebookContainer, {childList: true});\n",
       "}}\n",
       "\n",
       "// Listen for the clearing of the current output cell\n",
       "var outputEl = gd.closest('.output');\n",
       "if (outputEl) {{\n",
       "    x.observe(outputEl, {childList: true});\n",
       "}}\n",
       "\n",
       "                        })                };                });            </script>        </div>"
      ]
     },
     "metadata": {},
     "output_type": "display_data"
    }
   ],
   "source": [
    "fig.show()"
   ]
  },
  {
   "cell_type": "code",
   "execution_count": 14,
   "id": "b9137767",
   "metadata": {},
   "outputs": [],
   "source": [
    "player1, player2, ball, rally_metadata = extract_rally_data(temp, 8)"
   ]
  },
  {
   "cell_type": "code",
   "execution_count": 15,
   "id": "6265c852",
   "metadata": {},
   "outputs": [
    {
     "data": {
      "text/plain": [
       "(71, 2)"
      ]
     },
     "execution_count": 15,
     "metadata": {},
     "output_type": "execute_result"
    }
   ],
   "source": [
    "player1.shape"
   ]
  },
  {
   "cell_type": "code",
   "execution_count": 16,
   "id": "f20b9c46",
   "metadata": {},
   "outputs": [
    {
     "data": {
      "text/plain": [
       "(71, 8)"
      ]
     },
     "execution_count": 16,
     "metadata": {},
     "output_type": "execute_result"
    }
   ],
   "source": [
    "rally_metadata.shape"
   ]
  },
  {
   "cell_type": "code",
   "execution_count": 17,
   "id": "8f45b7c7",
   "metadata": {},
   "outputs": [
    {
     "data": {
      "text/plain": [
       "array([['type serve', 'stroke forehand', 'hitter Nadal', 'rallyid 8',\n",
       "        'strokeid 1', 'server Nadal', '1st/2nd serve second',\n",
       "        'score 1:0, 15:0'],\n",
       "       ['type serve', 'stroke forehand', 'hitter Nadal', 'rallyid 8',\n",
       "        'strokeid 1', 'server Nadal', '1st/2nd serve second',\n",
       "        'score 1:0, 15:0'],\n",
       "       ['type serve', 'stroke forehand', 'hitter Nadal', 'rallyid 8',\n",
       "        'strokeid 1', 'server Nadal', '1st/2nd serve second',\n",
       "        'score 1:0, 15:0'],\n",
       "       ['type serve', 'stroke forehand', 'hitter Nadal', 'rallyid 8',\n",
       "        'strokeid 1', 'server Nadal', '1st/2nd serve second',\n",
       "        'score 1:0, 15:0'],\n",
       "       ['type serve', 'stroke forehand', 'hitter Nadal', 'rallyid 8',\n",
       "        'strokeid 1', 'server Nadal', '1st/2nd serve second',\n",
       "        'score 1:0, 15:0'],\n",
       "       ['type serve', 'stroke forehand', 'hitter Nadal', 'rallyid 8',\n",
       "        'strokeid 1', 'server Nadal', '1st/2nd serve second',\n",
       "        'score 1:0, 15:0'],\n",
       "       ['type serve', 'stroke forehand', 'hitter Nadal', 'rallyid 8',\n",
       "        'strokeid 1', 'server Nadal', '1st/2nd serve second',\n",
       "        'score 1:0, 15:0'],\n",
       "       ['type serve', 'stroke forehand', 'hitter Nadal', 'rallyid 8',\n",
       "        'strokeid 1', 'server Nadal', '1st/2nd serve second',\n",
       "        'score 1:0, 15:0'],\n",
       "       ['type serve', 'stroke forehand', 'hitter Nadal', 'rallyid 8',\n",
       "        'strokeid 1', 'server Nadal', '1st/2nd serve second',\n",
       "        'score 1:0, 15:0'],\n",
       "       ['type serve', 'stroke forehand', 'hitter Nadal', 'rallyid 8',\n",
       "        'strokeid 1', 'server Nadal', '1st/2nd serve second',\n",
       "        'score 1:0, 15:0'],\n",
       "       ['type return', 'stroke backhand', 'hitter Djokovic', 'rallyid 8',\n",
       "        'strokeid 2', 'server Nadal', '1st/2nd serve first',\n",
       "        'score 1:0, 15:0'],\n",
       "       ['type return', 'stroke backhand', 'hitter Djokovic', 'rallyid 8',\n",
       "        'strokeid 2', 'server Nadal', '1st/2nd serve first',\n",
       "        'score 1:0, 15:0'],\n",
       "       ['type return', 'stroke backhand', 'hitter Djokovic', 'rallyid 8',\n",
       "        'strokeid 2', 'server Nadal', '1st/2nd serve first',\n",
       "        'score 1:0, 15:0'],\n",
       "       ['type return', 'stroke backhand', 'hitter Djokovic', 'rallyid 8',\n",
       "        'strokeid 2', 'server Nadal', '1st/2nd serve first',\n",
       "        'score 1:0, 15:0'],\n",
       "       ['type return', 'stroke backhand', 'hitter Djokovic', 'rallyid 8',\n",
       "        'strokeid 2', 'server Nadal', '1st/2nd serve first',\n",
       "        'score 1:0, 15:0'],\n",
       "       ['type return', 'stroke backhand', 'hitter Djokovic', 'rallyid 8',\n",
       "        'strokeid 2', 'server Nadal', '1st/2nd serve first',\n",
       "        'score 1:0, 15:0'],\n",
       "       ['type return', 'stroke backhand', 'hitter Djokovic', 'rallyid 8',\n",
       "        'strokeid 2', 'server Nadal', '1st/2nd serve first',\n",
       "        'score 1:0, 15:0'],\n",
       "       ['type return', 'stroke backhand', 'hitter Djokovic', 'rallyid 8',\n",
       "        'strokeid 2', 'server Nadal', '1st/2nd serve first',\n",
       "        'score 1:0, 15:0'],\n",
       "       ['type return', 'stroke backhand', 'hitter Djokovic', 'rallyid 8',\n",
       "        'strokeid 2', 'server Nadal', '1st/2nd serve first',\n",
       "        'score 1:0, 15:0'],\n",
       "       ['type return', 'stroke backhand', 'hitter Djokovic', 'rallyid 8',\n",
       "        'strokeid 2', 'server Nadal', '1st/2nd serve first',\n",
       "        'score 1:0, 15:0'],\n",
       "       ['type topspin', 'stroke forehand', 'hitter Nadal', 'rallyid 8',\n",
       "        'strokeid 3', 'server Nadal', '1st/2nd serve first',\n",
       "        'score 1:0, 15:0'],\n",
       "       ['type topspin', 'stroke forehand', 'hitter Nadal', 'rallyid 8',\n",
       "        'strokeid 3', 'server Nadal', '1st/2nd serve first',\n",
       "        'score 1:0, 15:0'],\n",
       "       ['type topspin', 'stroke forehand', 'hitter Nadal', 'rallyid 8',\n",
       "        'strokeid 3', 'server Nadal', '1st/2nd serve first',\n",
       "        'score 1:0, 15:0'],\n",
       "       ['type topspin', 'stroke forehand', 'hitter Nadal', 'rallyid 8',\n",
       "        'strokeid 3', 'server Nadal', '1st/2nd serve first',\n",
       "        'score 1:0, 15:0'],\n",
       "       ['type topspin', 'stroke forehand', 'hitter Nadal', 'rallyid 8',\n",
       "        'strokeid 3', 'server Nadal', '1st/2nd serve first',\n",
       "        'score 1:0, 15:0'],\n",
       "       ['type topspin', 'stroke forehand', 'hitter Nadal', 'rallyid 8',\n",
       "        'strokeid 3', 'server Nadal', '1st/2nd serve first',\n",
       "        'score 1:0, 15:0'],\n",
       "       ['type topspin', 'stroke forehand', 'hitter Nadal', 'rallyid 8',\n",
       "        'strokeid 3', 'server Nadal', '1st/2nd serve first',\n",
       "        'score 1:0, 15:0'],\n",
       "       ['type topspin', 'stroke forehand', 'hitter Nadal', 'rallyid 8',\n",
       "        'strokeid 3', 'server Nadal', '1st/2nd serve first',\n",
       "        'score 1:0, 15:0'],\n",
       "       ['type topspin', 'stroke forehand', 'hitter Nadal', 'rallyid 8',\n",
       "        'strokeid 3', 'server Nadal', '1st/2nd serve first',\n",
       "        'score 1:0, 15:0'],\n",
       "       ['type topspin', 'stroke forehand', 'hitter Nadal', 'rallyid 8',\n",
       "        'strokeid 3', 'server Nadal', '1st/2nd serve first',\n",
       "        'score 1:0, 15:0'],\n",
       "       ['type topspin', 'stroke backhand', 'hitter Djokovic',\n",
       "        'rallyid 8', 'strokeid 4', 'server Nadal', '1st/2nd serve first',\n",
       "        'score 1:0, 15:0'],\n",
       "       ['type topspin', 'stroke backhand', 'hitter Djokovic',\n",
       "        'rallyid 8', 'strokeid 4', 'server Nadal', '1st/2nd serve first',\n",
       "        'score 1:0, 15:0'],\n",
       "       ['type topspin', 'stroke backhand', 'hitter Djokovic',\n",
       "        'rallyid 8', 'strokeid 4', 'server Nadal', '1st/2nd serve first',\n",
       "        'score 1:0, 15:0'],\n",
       "       ['type topspin', 'stroke backhand', 'hitter Djokovic',\n",
       "        'rallyid 8', 'strokeid 4', 'server Nadal', '1st/2nd serve first',\n",
       "        'score 1:0, 15:0'],\n",
       "       ['type topspin', 'stroke backhand', 'hitter Djokovic',\n",
       "        'rallyid 8', 'strokeid 4', 'server Nadal', '1st/2nd serve first',\n",
       "        'score 1:0, 15:0'],\n",
       "       ['type topspin', 'stroke backhand', 'hitter Djokovic',\n",
       "        'rallyid 8', 'strokeid 4', 'server Nadal', '1st/2nd serve first',\n",
       "        'score 1:0, 15:0'],\n",
       "       ['type topspin', 'stroke backhand', 'hitter Djokovic',\n",
       "        'rallyid 8', 'strokeid 4', 'server Nadal', '1st/2nd serve first',\n",
       "        'score 1:0, 15:0'],\n",
       "       ['type topspin', 'stroke backhand', 'hitter Djokovic',\n",
       "        'rallyid 8', 'strokeid 4', 'server Nadal', '1st/2nd serve first',\n",
       "        'score 1:0, 15:0'],\n",
       "       ['type topspin', 'stroke backhand', 'hitter Djokovic',\n",
       "        'rallyid 8', 'strokeid 4', 'server Nadal', '1st/2nd serve first',\n",
       "        'score 1:0, 15:0'],\n",
       "       ['type topspin', 'stroke backhand', 'hitter Djokovic',\n",
       "        'rallyid 8', 'strokeid 4', 'server Nadal', '1st/2nd serve first',\n",
       "        'score 1:0, 15:0'],\n",
       "       ['type topspin', 'stroke backhand', 'hitter Nadal', 'rallyid 8',\n",
       "        'strokeid 5', 'server Nadal', '1st/2nd serve first',\n",
       "        'score 1:0, 15:0'],\n",
       "       ['type topspin', 'stroke backhand', 'hitter Nadal', 'rallyid 8',\n",
       "        'strokeid 5', 'server Nadal', '1st/2nd serve first',\n",
       "        'score 1:0, 15:0'],\n",
       "       ['type topspin', 'stroke backhand', 'hitter Nadal', 'rallyid 8',\n",
       "        'strokeid 5', 'server Nadal', '1st/2nd serve first',\n",
       "        'score 1:0, 15:0'],\n",
       "       ['type topspin', 'stroke backhand', 'hitter Nadal', 'rallyid 8',\n",
       "        'strokeid 5', 'server Nadal', '1st/2nd serve first',\n",
       "        'score 1:0, 15:0'],\n",
       "       ['type topspin', 'stroke backhand', 'hitter Nadal', 'rallyid 8',\n",
       "        'strokeid 5', 'server Nadal', '1st/2nd serve first',\n",
       "        'score 1:0, 15:0'],\n",
       "       ['type topspin', 'stroke backhand', 'hitter Nadal', 'rallyid 8',\n",
       "        'strokeid 5', 'server Nadal', '1st/2nd serve first',\n",
       "        'score 1:0, 15:0'],\n",
       "       ['type topspin', 'stroke backhand', 'hitter Nadal', 'rallyid 8',\n",
       "        'strokeid 5', 'server Nadal', '1st/2nd serve first',\n",
       "        'score 1:0, 15:0'],\n",
       "       ['type topspin', 'stroke backhand', 'hitter Nadal', 'rallyid 8',\n",
       "        'strokeid 5', 'server Nadal', '1st/2nd serve first',\n",
       "        'score 1:0, 15:0'],\n",
       "       ['type topspin', 'stroke backhand', 'hitter Nadal', 'rallyid 8',\n",
       "        'strokeid 5', 'server Nadal', '1st/2nd serve first',\n",
       "        'score 1:0, 15:0'],\n",
       "       ['type topspin', 'stroke backhand', 'hitter Nadal', 'rallyid 8',\n",
       "        'strokeid 5', 'server Nadal', '1st/2nd serve first',\n",
       "        'score 1:0, 15:0'],\n",
       "       ['type topspin', 'stroke forehand', 'hitter Djokovic',\n",
       "        'rallyid 8', 'strokeid 6', 'server Nadal', '1st/2nd serve first',\n",
       "        'score 1:0, 15:0'],\n",
       "       ['type topspin', 'stroke forehand', 'hitter Djokovic',\n",
       "        'rallyid 8', 'strokeid 6', 'server Nadal', '1st/2nd serve first',\n",
       "        'score 1:0, 15:0'],\n",
       "       ['type topspin', 'stroke forehand', 'hitter Djokovic',\n",
       "        'rallyid 8', 'strokeid 6', 'server Nadal', '1st/2nd serve first',\n",
       "        'score 1:0, 15:0'],\n",
       "       ['type topspin', 'stroke forehand', 'hitter Djokovic',\n",
       "        'rallyid 8', 'strokeid 6', 'server Nadal', '1st/2nd serve first',\n",
       "        'score 1:0, 15:0'],\n",
       "       ['type topspin', 'stroke forehand', 'hitter Djokovic',\n",
       "        'rallyid 8', 'strokeid 6', 'server Nadal', '1st/2nd serve first',\n",
       "        'score 1:0, 15:0'],\n",
       "       ['type topspin', 'stroke forehand', 'hitter Djokovic',\n",
       "        'rallyid 8', 'strokeid 6', 'server Nadal', '1st/2nd serve first',\n",
       "        'score 1:0, 15:0'],\n",
       "       ['type topspin', 'stroke forehand', 'hitter Djokovic',\n",
       "        'rallyid 8', 'strokeid 6', 'server Nadal', '1st/2nd serve first',\n",
       "        'score 1:0, 15:0'],\n",
       "       ['type topspin', 'stroke forehand', 'hitter Djokovic',\n",
       "        'rallyid 8', 'strokeid 6', 'server Nadal', '1st/2nd serve first',\n",
       "        'score 1:0, 15:0'],\n",
       "       ['type topspin', 'stroke forehand', 'hitter Djokovic',\n",
       "        'rallyid 8', 'strokeid 6', 'server Nadal', '1st/2nd serve first',\n",
       "        'score 1:0, 15:0'],\n",
       "       ['type topspin', 'stroke forehand', 'hitter Djokovic',\n",
       "        'rallyid 8', 'strokeid 6', 'server Nadal', '1st/2nd serve first',\n",
       "        'score 1:0, 15:0'],\n",
       "       ['type topspin', 'stroke forehand', 'hitter Nadal', 'rallyid 8',\n",
       "        'strokeid 7', 'server Nadal', '1st/2nd serve first',\n",
       "        'score 1:0, 15:0'],\n",
       "       ['type topspin', 'stroke forehand', 'hitter Nadal', 'rallyid 8',\n",
       "        'strokeid 7', 'server Nadal', '1st/2nd serve first',\n",
       "        'score 1:0, 15:0'],\n",
       "       ['type topspin', 'stroke forehand', 'hitter Nadal', 'rallyid 8',\n",
       "        'strokeid 7', 'server Nadal', '1st/2nd serve first',\n",
       "        'score 1:0, 15:0'],\n",
       "       ['type topspin', 'stroke forehand', 'hitter Nadal', 'rallyid 8',\n",
       "        'strokeid 7', 'server Nadal', '1st/2nd serve first',\n",
       "        'score 1:0, 15:0'],\n",
       "       ['type topspin', 'stroke forehand', 'hitter Nadal', 'rallyid 8',\n",
       "        'strokeid 7', 'server Nadal', '1st/2nd serve first',\n",
       "        'score 1:0, 15:0'],\n",
       "       ['type topspin', 'stroke forehand', 'hitter Nadal', 'rallyid 8',\n",
       "        'strokeid 7', 'server Nadal', '1st/2nd serve first',\n",
       "        'score 1:0, 15:0'],\n",
       "       ['type topspin', 'stroke forehand', 'hitter Nadal', 'rallyid 8',\n",
       "        'strokeid 7', 'server Nadal', '1st/2nd serve first',\n",
       "        'score 1:0, 15:0'],\n",
       "       ['type topspin', 'stroke forehand', 'hitter Nadal', 'rallyid 8',\n",
       "        'strokeid 7', 'server Nadal', '1st/2nd serve first',\n",
       "        'score 1:0, 15:0'],\n",
       "       ['type topspin', 'stroke forehand', 'hitter Nadal', 'rallyid 8',\n",
       "        'strokeid 7', 'server Nadal', '1st/2nd serve first',\n",
       "        'score 1:0, 15:0'],\n",
       "       ['type topspin', 'stroke forehand', 'hitter Nadal', 'rallyid 8',\n",
       "        'strokeid 7', 'server Nadal', '1st/2nd serve first',\n",
       "        'score 1:0, 15:0'],\n",
       "       ['type serve', 'stroke forehand', 'hitter Nadal', 'rallyid 8',\n",
       "        'strokeid 1', 'server Nadal', '1st/2nd serve second',\n",
       "        'score 1:0, 15:0']], dtype='<U20')"
      ]
     },
     "execution_count": 17,
     "metadata": {},
     "output_type": "execute_result"
    }
   ],
   "source": [
    "rally_metadata"
   ]
  },
  {
   "cell_type": "code",
   "execution_count": 18,
   "id": "4365b968",
   "metadata": {},
   "outputs": [],
   "source": [
    "temp2 = temp.loc[temp['rallyid'] == 8]"
   ]
  },
  {
   "cell_type": "code",
   "execution_count": 19,
   "id": "33becc78",
   "metadata": {},
   "outputs": [
    {
     "data": {
      "text/html": [
       "<div>\n",
       "<style scoped>\n",
       "    .dataframe tbody tr th:only-of-type {\n",
       "        vertical-align: middle;\n",
       "    }\n",
       "\n",
       "    .dataframe tbody tr th {\n",
       "        vertical-align: top;\n",
       "    }\n",
       "\n",
       "    .dataframe thead th {\n",
       "        text-align: right;\n",
       "    }\n",
       "</style>\n",
       "<table border=\"1\" class=\"dataframe\">\n",
       "  <thead>\n",
       "    <tr style=\"text-align: right;\">\n",
       "      <th></th>\n",
       "      <th>rallyid</th>\n",
       "      <th>frameid</th>\n",
       "      <th>strokeid</th>\n",
       "      <th>hitter</th>\n",
       "      <th>receiver</th>\n",
       "      <th>isserve</th>\n",
       "      <th>serve_x</th>\n",
       "      <th>type</th>\n",
       "      <th>stroke</th>\n",
       "      <th>hitter_x</th>\n",
       "      <th>...</th>\n",
       "      <th>server</th>\n",
       "      <th>returner</th>\n",
       "      <th>winner</th>\n",
       "      <th>reason</th>\n",
       "      <th>serve_y</th>\n",
       "      <th>strokes</th>\n",
       "      <th>totaltime</th>\n",
       "      <th>x</th>\n",
       "      <th>y</th>\n",
       "      <th>score</th>\n",
       "    </tr>\n",
       "  </thead>\n",
       "  <tbody>\n",
       "    <tr>\n",
       "      <th>22</th>\n",
       "      <td>8</td>\n",
       "      <td>75885</td>\n",
       "      <td>1</td>\n",
       "      <td>Nadal</td>\n",
       "      <td>Djokovic</td>\n",
       "      <td>True</td>\n",
       "      <td>second</td>\n",
       "      <td>serve</td>\n",
       "      <td>forehand</td>\n",
       "      <td>5.48</td>\n",
       "      <td>...</td>\n",
       "      <td>Nadal</td>\n",
       "      <td>Djokovic</td>\n",
       "      <td>Djokovic</td>\n",
       "      <td>out</td>\n",
       "      <td>second</td>\n",
       "      <td>7.0</td>\n",
       "      <td>7.2</td>\n",
       "      <td>0.5</td>\n",
       "      <td>18.67</td>\n",
       "      <td>1:0, 15:0</td>\n",
       "    </tr>\n",
       "    <tr>\n",
       "      <th>23</th>\n",
       "      <td>8</td>\n",
       "      <td>75905</td>\n",
       "      <td>2</td>\n",
       "      <td>Djokovic</td>\n",
       "      <td>Nadal</td>\n",
       "      <td>False</td>\n",
       "      <td>first</td>\n",
       "      <td>return</td>\n",
       "      <td>backhand</td>\n",
       "      <td>3.82</td>\n",
       "      <td>...</td>\n",
       "      <td>Nadal</td>\n",
       "      <td>Djokovic</td>\n",
       "      <td>Djokovic</td>\n",
       "      <td>out</td>\n",
       "      <td>second</td>\n",
       "      <td>7.0</td>\n",
       "      <td>7.2</td>\n",
       "      <td>0.5</td>\n",
       "      <td>18.67</td>\n",
       "      <td>1:0, 15:0</td>\n",
       "    </tr>\n",
       "    <tr>\n",
       "      <th>24</th>\n",
       "      <td>8</td>\n",
       "      <td>75935</td>\n",
       "      <td>3</td>\n",
       "      <td>Nadal</td>\n",
       "      <td>Djokovic</td>\n",
       "      <td>False</td>\n",
       "      <td>first</td>\n",
       "      <td>topspin</td>\n",
       "      <td>forehand</td>\n",
       "      <td>5.49</td>\n",
       "      <td>...</td>\n",
       "      <td>Nadal</td>\n",
       "      <td>Djokovic</td>\n",
       "      <td>Djokovic</td>\n",
       "      <td>out</td>\n",
       "      <td>second</td>\n",
       "      <td>7.0</td>\n",
       "      <td>7.2</td>\n",
       "      <td>0.5</td>\n",
       "      <td>18.67</td>\n",
       "      <td>1:0, 15:0</td>\n",
       "    </tr>\n",
       "    <tr>\n",
       "      <th>25</th>\n",
       "      <td>8</td>\n",
       "      <td>75965</td>\n",
       "      <td>4</td>\n",
       "      <td>Djokovic</td>\n",
       "      <td>Nadal</td>\n",
       "      <td>False</td>\n",
       "      <td>first</td>\n",
       "      <td>topspin</td>\n",
       "      <td>backhand</td>\n",
       "      <td>7.78</td>\n",
       "      <td>...</td>\n",
       "      <td>Nadal</td>\n",
       "      <td>Djokovic</td>\n",
       "      <td>Djokovic</td>\n",
       "      <td>out</td>\n",
       "      <td>second</td>\n",
       "      <td>7.0</td>\n",
       "      <td>7.2</td>\n",
       "      <td>0.5</td>\n",
       "      <td>18.67</td>\n",
       "      <td>1:0, 15:0</td>\n",
       "    </tr>\n",
       "    <tr>\n",
       "      <th>26</th>\n",
       "      <td>8</td>\n",
       "      <td>76005</td>\n",
       "      <td>5</td>\n",
       "      <td>Nadal</td>\n",
       "      <td>Djokovic</td>\n",
       "      <td>False</td>\n",
       "      <td>first</td>\n",
       "      <td>topspin</td>\n",
       "      <td>backhand</td>\n",
       "      <td>7.80</td>\n",
       "      <td>...</td>\n",
       "      <td>Nadal</td>\n",
       "      <td>Djokovic</td>\n",
       "      <td>Djokovic</td>\n",
       "      <td>out</td>\n",
       "      <td>second</td>\n",
       "      <td>7.0</td>\n",
       "      <td>7.2</td>\n",
       "      <td>0.5</td>\n",
       "      <td>18.67</td>\n",
       "      <td>1:0, 15:0</td>\n",
       "    </tr>\n",
       "    <tr>\n",
       "      <th>27</th>\n",
       "      <td>8</td>\n",
       "      <td>76035</td>\n",
       "      <td>6</td>\n",
       "      <td>Djokovic</td>\n",
       "      <td>Nadal</td>\n",
       "      <td>False</td>\n",
       "      <td>first</td>\n",
       "      <td>topspin</td>\n",
       "      <td>forehand</td>\n",
       "      <td>1.54</td>\n",
       "      <td>...</td>\n",
       "      <td>Nadal</td>\n",
       "      <td>Djokovic</td>\n",
       "      <td>Djokovic</td>\n",
       "      <td>out</td>\n",
       "      <td>second</td>\n",
       "      <td>7.0</td>\n",
       "      <td>7.2</td>\n",
       "      <td>0.5</td>\n",
       "      <td>18.67</td>\n",
       "      <td>1:0, 15:0</td>\n",
       "    </tr>\n",
       "    <tr>\n",
       "      <th>28</th>\n",
       "      <td>8</td>\n",
       "      <td>76065</td>\n",
       "      <td>7</td>\n",
       "      <td>Nadal</td>\n",
       "      <td>Djokovic</td>\n",
       "      <td>False</td>\n",
       "      <td>first</td>\n",
       "      <td>topspin</td>\n",
       "      <td>forehand</td>\n",
       "      <td>2.72</td>\n",
       "      <td>...</td>\n",
       "      <td>Nadal</td>\n",
       "      <td>Djokovic</td>\n",
       "      <td>Djokovic</td>\n",
       "      <td>out</td>\n",
       "      <td>second</td>\n",
       "      <td>7.0</td>\n",
       "      <td>7.2</td>\n",
       "      <td>0.5</td>\n",
       "      <td>18.67</td>\n",
       "      <td>1:0, 15:0</td>\n",
       "    </tr>\n",
       "  </tbody>\n",
       "</table>\n",
       "<p>7 rows × 24 columns</p>\n",
       "</div>"
      ],
      "text/plain": [
       "    rallyid  frameid  strokeid    hitter  receiver  isserve serve_x     type  \\\n",
       "22        8    75885         1     Nadal  Djokovic     True  second    serve   \n",
       "23        8    75905         2  Djokovic     Nadal    False   first   return   \n",
       "24        8    75935         3     Nadal  Djokovic    False   first  topspin   \n",
       "25        8    75965         4  Djokovic     Nadal    False   first  topspin   \n",
       "26        8    76005         5     Nadal  Djokovic    False   first  topspin   \n",
       "27        8    76035         6  Djokovic     Nadal    False   first  topspin   \n",
       "28        8    76065         7     Nadal  Djokovic    False   first  topspin   \n",
       "\n",
       "      stroke  hitter_x  ...  server  returner    winner  reason serve_y  \\\n",
       "22  forehand      5.48  ...   Nadal  Djokovic  Djokovic     out  second   \n",
       "23  backhand      3.82  ...   Nadal  Djokovic  Djokovic     out  second   \n",
       "24  forehand      5.49  ...   Nadal  Djokovic  Djokovic     out  second   \n",
       "25  backhand      7.78  ...   Nadal  Djokovic  Djokovic     out  second   \n",
       "26  backhand      7.80  ...   Nadal  Djokovic  Djokovic     out  second   \n",
       "27  forehand      1.54  ...   Nadal  Djokovic  Djokovic     out  second   \n",
       "28  forehand      2.72  ...   Nadal  Djokovic  Djokovic     out  second   \n",
       "\n",
       "   strokes totaltime    x      y      score  \n",
       "22     7.0       7.2  0.5  18.67  1:0, 15:0  \n",
       "23     7.0       7.2  0.5  18.67  1:0, 15:0  \n",
       "24     7.0       7.2  0.5  18.67  1:0, 15:0  \n",
       "25     7.0       7.2  0.5  18.67  1:0, 15:0  \n",
       "26     7.0       7.2  0.5  18.67  1:0, 15:0  \n",
       "27     7.0       7.2  0.5  18.67  1:0, 15:0  \n",
       "28     7.0       7.2  0.5  18.67  1:0, 15:0  \n",
       "\n",
       "[7 rows x 24 columns]"
      ]
     },
     "execution_count": 19,
     "metadata": {},
     "output_type": "execute_result"
    }
   ],
   "source": [
    "temp2"
   ]
  },
  {
   "cell_type": "code",
   "execution_count": null,
   "id": "9139e439",
   "metadata": {},
   "outputs": [],
   "source": []
  }
 ],
 "metadata": {
  "kernelspec": {
   "display_name": "Python 3",
   "language": "python",
   "name": "python3"
  },
  "language_info": {
   "codemirror_mode": {
    "name": "ipython",
    "version": 3
   },
   "file_extension": ".py",
   "mimetype": "text/x-python",
   "name": "python",
   "nbconvert_exporter": "python",
   "pygments_lexer": "ipython3",
   "version": "3.9.12"
  }
 },
 "nbformat": 4,
 "nbformat_minor": 5
}
